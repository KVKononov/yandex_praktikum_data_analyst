{
 "cells": [
  {
   "cell_type": "markdown",
   "metadata": {},
   "source": [
    "# Рынок заведений общественного питания Москвы\n",
    "\n",
    "Вы решили открыть небольшое кафе в Москве. Оно оригинальное — гостей должны обслуживать роботы. Проект многообещающий, но дорогой. Вместе с партнёрами вы решились обратиться к инвесторам. Их интересует текущее положение дел на рынке — сможете ли вы снискать популярность на долгое время, когда все зеваки насмотрятся на роботов-официантов?"
   ]
  },
  {
   "cell_type": "markdown",
   "metadata": {},
   "source": [
    "## Оглавление\n",
    "\n",
    "1. [Изучение данных из файла](#id)\n",
    "2. [Анализ данных](#ad)\n",
    "3. [Общий вывод](#ov)"
   ]
  },
  {
   "cell_type": "markdown",
   "metadata": {},
   "source": [
    "##  1. Изучение данных из файла <a class=\"anchor\" id=\"id\"></a>"
   ]
  },
  {
   "cell_type": "code",
   "execution_count": 1,
   "metadata": {},
   "outputs": [],
   "source": [
    "import pandas as pd\n",
    "import seaborn as sns\n",
    "import matplotlib.pyplot as plt\n",
    "import numpy as np\n",
    "import datetime as dt\n",
    "import plotly.express as px \n",
    "from scipy import stats as st\n",
    "from pandas.plotting import register_matplotlib_converters\n",
    "from plotly import graph_objects as go\n",
    "import warnings\n",
    "warnings.filterwarnings('ignore')\n",
    "pd.set_option('display.max_rows', None)\n",
    "pd.set_option('display.max_columns', None)\n",
    "pd.set_option('display.float_format', '{:,.2f}'.format)\n",
    "register_matplotlib_converters()"
   ]
  },
  {
   "cell_type": "code",
   "execution_count": 2,
   "metadata": {},
   "outputs": [
    {
     "data": {
      "text/html": [
       "<div>\n",
       "<style scoped>\n",
       "    .dataframe tbody tr th:only-of-type {\n",
       "        vertical-align: middle;\n",
       "    }\n",
       "\n",
       "    .dataframe tbody tr th {\n",
       "        vertical-align: top;\n",
       "    }\n",
       "\n",
       "    .dataframe thead th {\n",
       "        text-align: right;\n",
       "    }\n",
       "</style>\n",
       "<table border=\"1\" class=\"dataframe\">\n",
       "  <thead>\n",
       "    <tr style=\"text-align: right;\">\n",
       "      <th></th>\n",
       "      <th>id</th>\n",
       "      <th>object_name</th>\n",
       "      <th>chain</th>\n",
       "      <th>object_type</th>\n",
       "      <th>address</th>\n",
       "      <th>number</th>\n",
       "    </tr>\n",
       "  </thead>\n",
       "  <tbody>\n",
       "    <tr>\n",
       "      <th>0</th>\n",
       "      <td>151635</td>\n",
       "      <td>СМЕТАНА</td>\n",
       "      <td>нет</td>\n",
       "      <td>кафе</td>\n",
       "      <td>город Москва, улица Егора Абакумова, дом 9</td>\n",
       "      <td>48</td>\n",
       "    </tr>\n",
       "    <tr>\n",
       "      <th>1</th>\n",
       "      <td>77874</td>\n",
       "      <td>Родник</td>\n",
       "      <td>нет</td>\n",
       "      <td>кафе</td>\n",
       "      <td>город Москва, улица Талалихина, дом 2/1, корпус 1</td>\n",
       "      <td>35</td>\n",
       "    </tr>\n",
       "    <tr>\n",
       "      <th>2</th>\n",
       "      <td>24309</td>\n",
       "      <td>Кафе «Академия»</td>\n",
       "      <td>нет</td>\n",
       "      <td>кафе</td>\n",
       "      <td>город Москва, Абельмановская улица, дом 6</td>\n",
       "      <td>95</td>\n",
       "    </tr>\n",
       "    <tr>\n",
       "      <th>3</th>\n",
       "      <td>21894</td>\n",
       "      <td>ПИЦЦЕТОРИЯ</td>\n",
       "      <td>да</td>\n",
       "      <td>кафе</td>\n",
       "      <td>город Москва, Абрамцевская улица, дом 1</td>\n",
       "      <td>40</td>\n",
       "    </tr>\n",
       "    <tr>\n",
       "      <th>4</th>\n",
       "      <td>119365</td>\n",
       "      <td>Кафе «Вишневая метель»</td>\n",
       "      <td>нет</td>\n",
       "      <td>кафе</td>\n",
       "      <td>город Москва, Абрамцевская улица, дом 9, корпус 1</td>\n",
       "      <td>50</td>\n",
       "    </tr>\n",
       "  </tbody>\n",
       "</table>\n",
       "</div>"
      ],
      "text/plain": [
       "       id             object_name chain object_type  \\\n",
       "0  151635                 СМЕТАНА   нет        кафе   \n",
       "1   77874                  Родник   нет        кафе   \n",
       "2   24309         Кафе «Академия»   нет        кафе   \n",
       "3   21894              ПИЦЦЕТОРИЯ    да        кафе   \n",
       "4  119365  Кафе «Вишневая метель»   нет        кафе   \n",
       "\n",
       "                                             address  number  \n",
       "0         город Москва, улица Егора Абакумова, дом 9      48  \n",
       "1  город Москва, улица Талалихина, дом 2/1, корпус 1      35  \n",
       "2          город Москва, Абельмановская улица, дом 6      95  \n",
       "3            город Москва, Абрамцевская улица, дом 1      40  \n",
       "4  город Москва, Абрамцевская улица, дом 9, корпус 1      50  "
      ]
     },
     "metadata": {},
     "output_type": "display_data"
    },
    {
     "name": "stdout",
     "output_type": "stream",
     "text": [
      "<class 'pandas.core.frame.DataFrame'>\n",
      "RangeIndex: 15366 entries, 0 to 15365\n",
      "Data columns (total 6 columns):\n",
      " #   Column       Non-Null Count  Dtype \n",
      "---  ------       --------------  ----- \n",
      " 0   id           15366 non-null  int64 \n",
      " 1   object_name  15366 non-null  object\n",
      " 2   chain        15366 non-null  object\n",
      " 3   object_type  15366 non-null  object\n",
      " 4   address      15366 non-null  object\n",
      " 5   number       15366 non-null  int64 \n",
      "dtypes: int64(2), object(4)\n",
      "memory usage: 720.4+ KB\n"
     ]
    }
   ],
   "source": [
    "# База по заведениям общественного питания\n",
    "rest_data = pd.read_csv('/datasets/rest_data.csv')\n",
    "display(rest_data.head())\n",
    "rest_data.info()"
   ]
  },
  {
   "cell_type": "code",
   "execution_count": 3,
   "metadata": {},
   "outputs": [
    {
     "name": "stdout",
     "output_type": "stream",
     "text": [
      "Пропуски в rest_data: id             0\n",
      "object_name    0\n",
      "chain          0\n",
      "object_type    0\n",
      "address        0\n",
      "number         0\n",
      "dtype: int64\n",
      "Количество дубликатов в rest_data: 0\n"
     ]
    }
   ],
   "source": [
    "# Проверяю наличие пропусков\n",
    "print('Пропуски в rest_data:', rest_data.isna().sum())\n",
    "# Проверяю наличие дубликатов\n",
    "print('Количество дубликатов в rest_data:', rest_data.duplicated().sum())"
   ]
  },
  {
   "cell_type": "code",
   "execution_count": 4,
   "metadata": {},
   "outputs": [],
   "source": [
    "# Привожу названия в столбце object_name к нижнему регистру \n",
    "rest_data['object_name'] = rest_data['object_name'].str.lower()"
   ]
  },
  {
   "cell_type": "code",
   "execution_count": 5,
   "metadata": {},
   "outputs": [
    {
     "data": {
      "text/html": [
       "<div>\n",
       "<style scoped>\n",
       "    .dataframe tbody tr th:only-of-type {\n",
       "        vertical-align: middle;\n",
       "    }\n",
       "\n",
       "    .dataframe tbody tr th {\n",
       "        vertical-align: top;\n",
       "    }\n",
       "\n",
       "    .dataframe thead th {\n",
       "        text-align: right;\n",
       "    }\n",
       "</style>\n",
       "<table border=\"1\" class=\"dataframe\">\n",
       "  <thead>\n",
       "    <tr style=\"text-align: right;\">\n",
       "      <th></th>\n",
       "      <th>object_name</th>\n",
       "      <th>object_type</th>\n",
       "    </tr>\n",
       "  </thead>\n",
       "  <tbody>\n",
       "    <tr>\n",
       "      <th>0</th>\n",
       "      <td>beverly hills diner</td>\n",
       "      <td>1</td>\n",
       "    </tr>\n",
       "    <tr>\n",
       "      <th>1</th>\n",
       "      <td>bierloga</td>\n",
       "      <td>1</td>\n",
       "    </tr>\n",
       "    <tr>\n",
       "      <th>2</th>\n",
       "      <td>black &amp; white</td>\n",
       "      <td>1</td>\n",
       "    </tr>\n",
       "    <tr>\n",
       "      <th>3</th>\n",
       "      <td>boobo</td>\n",
       "      <td>1</td>\n",
       "    </tr>\n",
       "    <tr>\n",
       "      <th>4</th>\n",
       "      <td>bubbleology</td>\n",
       "      <td>1</td>\n",
       "    </tr>\n",
       "  </tbody>\n",
       "</table>\n",
       "</div>"
      ],
      "text/plain": [
       "           object_name  object_type\n",
       "0  beverly hills diner            1\n",
       "1             bierloga            1\n",
       "2        black & white            1\n",
       "3                boobo            1\n",
       "4          bubbleology            1"
      ]
     },
     "metadata": {},
     "output_type": "display_data"
    },
    {
     "name": "stdout",
     "output_type": "stream",
     "text": [
      "331\n"
     ]
    }
   ],
   "source": [
    "# Проверяю кол-во сетевых заведений с одним заведением\n",
    "fake_chains = (\n",
    "    rest_data.query('chain == \"да\"').groupby('object_name').agg({'object_type': 'count'})\n",
    "    .query('object_type == 1').reset_index()\n",
    ")\n",
    "display(fake_chains.head())\n",
    "print(fake_chains['object_type'].sum())"
   ]
  },
  {
   "cell_type": "code",
   "execution_count": 6,
   "metadata": {},
   "outputs": [],
   "source": [
    "# Заменяю значения на несетевые \n",
    "rest_data.loc[rest_data['object_name'].isin(fake_chains['object_name'].unique()), 'chain'] = 'нет'"
   ]
  },
  {
   "cell_type": "markdown",
   "metadata": {},
   "source": [
    "**Вывод**"
   ]
  },
  {
   "cell_type": "markdown",
   "metadata": {},
   "source": [
    "В таблице 6 колонок, типы данных - int64, object.\n",
    "\n",
    "Количество значений в столбцах не различается. Пропусков нет, дубликатов не обнаружил, привел названия в столбце object_name к нижнему регистру для удобства группировки и т.д. \n",
    "\n",
    "Заменил значения сетевых объектов общественного питания с одним заведением на несетевые.  \n",
    "\n",
    "Согласно документации к данным:\n",
    "\n",
    "* `id` — идентификатор объекта;\n",
    "* `object_name` — название объекта общественного питания;\n",
    "* `chain` — сетевой ресторан;\n",
    "* `object_type` — тип объекта общественного питания;\n",
    "* `address` — адрес;\n",
    "* `number` — количество посадочных мест."
   ]
  },
  {
   "cell_type": "markdown",
   "metadata": {},
   "source": [
    " ##  2. Анализ данных <a class=\"anchor\" id=\"ad\"></a>"
   ]
  },
  {
   "cell_type": "code",
   "execution_count": 7,
   "metadata": {},
   "outputs": [
    {
     "data": {
      "text/html": [
       "<div>\n",
       "<style scoped>\n",
       "    .dataframe tbody tr th:only-of-type {\n",
       "        vertical-align: middle;\n",
       "    }\n",
       "\n",
       "    .dataframe tbody tr th {\n",
       "        vertical-align: top;\n",
       "    }\n",
       "\n",
       "    .dataframe thead th {\n",
       "        text-align: right;\n",
       "    }\n",
       "</style>\n",
       "<table border=\"1\" class=\"dataframe\">\n",
       "  <thead>\n",
       "    <tr style=\"text-align: right;\">\n",
       "      <th>chain</th>\n",
       "      <th>да</th>\n",
       "      <th>нет</th>\n",
       "      <th>total</th>\n",
       "      <th>ratio</th>\n",
       "    </tr>\n",
       "    <tr>\n",
       "      <th>object_type</th>\n",
       "      <th></th>\n",
       "      <th></th>\n",
       "      <th></th>\n",
       "      <th></th>\n",
       "    </tr>\n",
       "  </thead>\n",
       "  <tbody>\n",
       "    <tr>\n",
       "      <th>кафе</th>\n",
       "      <td>1243</td>\n",
       "      <td>4856</td>\n",
       "      <td>6099</td>\n",
       "      <td>0.20</td>\n",
       "    </tr>\n",
       "    <tr>\n",
       "      <th>столовая</th>\n",
       "      <td>3</td>\n",
       "      <td>2584</td>\n",
       "      <td>2587</td>\n",
       "      <td>0.00</td>\n",
       "    </tr>\n",
       "    <tr>\n",
       "      <th>ресторан</th>\n",
       "      <td>456</td>\n",
       "      <td>1829</td>\n",
       "      <td>2285</td>\n",
       "      <td>0.20</td>\n",
       "    </tr>\n",
       "    <tr>\n",
       "      <th>предприятие быстрого обслуживания</th>\n",
       "      <td>744</td>\n",
       "      <td>1179</td>\n",
       "      <td>1923</td>\n",
       "      <td>0.39</td>\n",
       "    </tr>\n",
       "    <tr>\n",
       "      <th>бар</th>\n",
       "      <td>19</td>\n",
       "      <td>837</td>\n",
       "      <td>856</td>\n",
       "      <td>0.02</td>\n",
       "    </tr>\n",
       "    <tr>\n",
       "      <th>буфет</th>\n",
       "      <td>11</td>\n",
       "      <td>574</td>\n",
       "      <td>585</td>\n",
       "      <td>0.02</td>\n",
       "    </tr>\n",
       "    <tr>\n",
       "      <th>кафетерий</th>\n",
       "      <td>46</td>\n",
       "      <td>352</td>\n",
       "      <td>398</td>\n",
       "      <td>0.12</td>\n",
       "    </tr>\n",
       "    <tr>\n",
       "      <th>закусочная</th>\n",
       "      <td>45</td>\n",
       "      <td>315</td>\n",
       "      <td>360</td>\n",
       "      <td>0.12</td>\n",
       "    </tr>\n",
       "    <tr>\n",
       "      <th>магазин (отдел кулинарии)</th>\n",
       "      <td>70</td>\n",
       "      <td>203</td>\n",
       "      <td>273</td>\n",
       "      <td>0.26</td>\n",
       "    </tr>\n",
       "  </tbody>\n",
       "</table>\n",
       "</div>"
      ],
      "text/plain": [
       "chain                                да   нет  total  ratio\n",
       "object_type                                                \n",
       "кафе                               1243  4856   6099   0.20\n",
       "столовая                              3  2584   2587   0.00\n",
       "ресторан                            456  1829   2285   0.20\n",
       "предприятие быстрого обслуживания   744  1179   1923   0.39\n",
       "бар                                  19   837    856   0.02\n",
       "буфет                                11   574    585   0.02\n",
       "кафетерий                            46   352    398   0.12\n",
       "закусочная                           45   315    360   0.12\n",
       "магазин (отдел кулинарии)            70   203    273   0.26"
      ]
     },
     "metadata": {},
     "output_type": "display_data"
    },
    {
     "data": {
      "image/png": "[encoded data removed]",
      "text/plain": [
       "<Figure size 720x360 with 1 Axes>"
      ]
     },
     "metadata": {
      "needs_background": "light"
     },
     "output_type": "display_data"
    }
   ],
   "source": [
    "# Таблица соотношения видов объектов общественного питания по количеству\n",
    "report = rest_data.pivot_table(index = 'object_type', columns = 'chain', values = 'id', aggfunc = 'nunique')\n",
    "report['total'] = report['да'] + report['нет']\n",
    "report['ratio'] = report['да'] / report['total']\n",
    "report = report.sort_values(by = 'total', ascending = False)\n",
    "display(report)\n",
    "# График соотношения видов объектов общественного питания по количеству\n",
    "report[['да', 'нет']].plot(kind = 'barh', stacked = True, figsize = (10, 5))\n",
    "plt.title('График соотношения видов объектов общественного питания по количеству')\n",
    "plt.xlabel('Кол-во заведений')\n",
    "plt.ylabel('Виды объектов общественного питания')\n",
    "plt.show()"
   ]
  },
  {
   "cell_type": "markdown",
   "metadata": {},
   "source": [
    "На графике видно, что самый распространенный вид заведений - это кафе. Далее идут столовые, рестораны и предприятия быстрого обслуживания. Меньше всего в Москве магазинов(отдел кулинарии), закусочных и кафетериев. Также стоит обратить внимание, что несетевых заведений гораздо больше, чем сетевых."
   ]
  },
  {
   "cell_type": "markdown",
   "metadata": {},
   "source": [
    "Сетевое распространение характерно для кафе, ресторанов, предприятий быстрого обслуживания и магазинов (отдел кулинарии). Самый большой процент у предприятий быстрого обслуживания, почти 40%. Для заведений остальных типов доля сетевых невысокая, а сетевых столовых практически нет, их всего 3 из 2587."
   ]
  },
  {
   "cell_type": "code",
   "execution_count": 8,
   "metadata": {},
   "outputs": [
    {
     "data": {
      "image/png": "[encoded data removed]",
      "text/plain": [
       "<Figure size 1080x648 with 1 Axes>"
      ]
     },
     "metadata": {
      "needs_background": "light"
     },
     "output_type": "display_data"
    }
   ],
   "source": [
    "# График соотношения сетевых и несетевых заведений по количеству\n",
    "rest_data.groupby('chain').agg({'object_type': 'count'}).sort_values(by = 'object_type', ascending = False \n",
    "                                                                      ).plot(kind=\"bar\", figsize = (15, 9), rot = 0)\n",
    "plt.title('График соотношения сетевых и несетевых заведений по количеству')\n",
    "plt.xlabel('Является сетевым или нет')\n",
    "plt.ylabel('Кол-во заведений')\n",
    "plt.show()"
   ]
  },
  {
   "cell_type": "code",
   "execution_count": 9,
   "metadata": {},
   "outputs": [
    {
     "data": {
      "image/png": "[encoded data removed]",
      "text/plain": [
       "<Figure size 1080x648 with 1 Axes>"
      ]
     },
     "metadata": {},
     "output_type": "display_data"
    }
   ],
   "source": [
    "# График соотношения сетевых и несетевых заведений\n",
    "chains_data = rest_data.groupby('chain')['id'].count().reset_index().rename(columns={'id':'counts'})\n",
    "chains_data['ratio'] = chains_data['counts'] / chains_data['counts'].sum()\n",
    "sns.set(rc={'figure.figsize':(15, 9)})\n",
    "sns.barplot(x = 'chain', y = 'ratio', data = chains_data)\n",
    "plt.title('График соотношения сетевых и несетевых заведений')\n",
    "plt.xlabel('Является сетевым или нет')\n",
    "plt.ylabel('Процент заведений')\n",
    "plt.show()"
   ]
  },
  {
   "cell_type": "markdown",
   "metadata": {},
   "source": [
    "Действительно несетевых заведений в разы больше, чем сетевых. Из всех заведений только ~16% являются сетевыми, визуализация это подтверждает. График соотношения видов объектов общественного питания по количеству показывает, что большая часть сетевых заведений - это кафе. Далее идут предприятия быстрого обслуживания и рестораны, для этих видов объектов общественного питания  характерно сетевое распространение. "
   ]
  },
  {
   "cell_type": "code",
   "execution_count": 10,
   "metadata": {},
   "outputs": [
    {
     "data": {
      "text/html": [
       "<div>\n",
       "<style scoped>\n",
       "    .dataframe tbody tr th:only-of-type {\n",
       "        vertical-align: middle;\n",
       "    }\n",
       "\n",
       "    .dataframe tbody tr th {\n",
       "        vertical-align: top;\n",
       "    }\n",
       "\n",
       "    .dataframe thead th {\n",
       "        text-align: right;\n",
       "    }\n",
       "</style>\n",
       "<table border=\"1\" class=\"dataframe\">\n",
       "  <thead>\n",
       "    <tr style=\"text-align: right;\">\n",
       "      <th></th>\n",
       "      <th>counts</th>\n",
       "      <th>places</th>\n",
       "    </tr>\n",
       "  </thead>\n",
       "  <tbody>\n",
       "    <tr>\n",
       "      <th>count</th>\n",
       "      <td>246.00</td>\n",
       "      <td>246.00</td>\n",
       "    </tr>\n",
       "    <tr>\n",
       "      <th>mean</th>\n",
       "      <td>10.72</td>\n",
       "      <td>59.39</td>\n",
       "    </tr>\n",
       "    <tr>\n",
       "      <th>std</th>\n",
       "      <td>22.68</td>\n",
       "      <td>49.55</td>\n",
       "    </tr>\n",
       "    <tr>\n",
       "      <th>min</th>\n",
       "      <td>2.00</td>\n",
       "      <td>0.00</td>\n",
       "    </tr>\n",
       "    <tr>\n",
       "      <th>25%</th>\n",
       "      <td>2.00</td>\n",
       "      <td>21.12</td>\n",
       "    </tr>\n",
       "    <tr>\n",
       "      <th>50%</th>\n",
       "      <td>4.00</td>\n",
       "      <td>44.00</td>\n",
       "    </tr>\n",
       "    <tr>\n",
       "      <th>75%</th>\n",
       "      <td>7.00</td>\n",
       "      <td>85.00</td>\n",
       "    </tr>\n",
       "    <tr>\n",
       "      <th>max</th>\n",
       "      <td>157.00</td>\n",
       "      <td>258.67</td>\n",
       "    </tr>\n",
       "  </tbody>\n",
       "</table>\n",
       "</div>"
      ],
      "text/plain": [
       "       counts  places\n",
       "count  246.00  246.00\n",
       "mean    10.72   59.39\n",
       "std     22.68   49.55\n",
       "min      2.00    0.00\n",
       "25%      2.00   21.12\n",
       "50%      4.00   44.00\n",
       "75%      7.00   85.00\n",
       "max    157.00  258.67"
      ]
     },
     "execution_count": 10,
     "metadata": {},
     "output_type": "execute_result"
    }
   ],
   "source": [
    "# База сетевых заведений\n",
    "chain_yes_data = rest_data.query('chain == \"да\"')\n",
    "chain_yes_data = chain_yes_data.groupby('object_name').agg({'id': 'count', 'number':'mean'}).rename(\n",
    "                                                            columns={'id':'counts', 'number':'places'})\n",
    "chain_yes_data.describe()"
   ]
  },
  {
   "cell_type": "markdown",
   "metadata": {},
   "source": [
    "Чтобы ответить на вопрос, что характерно для сетевых заведений, нужно установить границы. Допустим, что мало заведений - меньше 5, мало посадочных мест - меньше 20."
   ]
  },
  {
   "cell_type": "code",
   "execution_count": 11,
   "metadata": {},
   "outputs": [
    {
     "data": {
      "text/html": [
       "<div>\n",
       "<style scoped>\n",
       "    .dataframe tbody tr th:only-of-type {\n",
       "        vertical-align: middle;\n",
       "    }\n",
       "\n",
       "    .dataframe tbody tr th {\n",
       "        vertical-align: top;\n",
       "    }\n",
       "\n",
       "    .dataframe thead th {\n",
       "        text-align: right;\n",
       "    }\n",
       "</style>\n",
       "<table border=\"1\" class=\"dataframe\">\n",
       "  <thead>\n",
       "    <tr style=\"text-align: right;\">\n",
       "      <th></th>\n",
       "      <th>Число сетей</th>\n",
       "      <th>Медианное число заведений</th>\n",
       "      <th>Медианное число посадочных мест</th>\n",
       "    </tr>\n",
       "    <tr>\n",
       "      <th>Группа</th>\n",
       "      <th></th>\n",
       "      <th></th>\n",
       "      <th></th>\n",
       "    </tr>\n",
       "  </thead>\n",
       "  <tbody>\n",
       "    <tr>\n",
       "      <th>Мало заведений - Мало мест</th>\n",
       "      <td>34</td>\n",
       "      <td>2</td>\n",
       "      <td>15.10</td>\n",
       "    </tr>\n",
       "    <tr>\n",
       "      <th>Мало заведений - Много мест</th>\n",
       "      <td>120</td>\n",
       "      <td>3</td>\n",
       "      <td>62.75</td>\n",
       "    </tr>\n",
       "    <tr>\n",
       "      <th>Много заведений - Мало мест</th>\n",
       "      <td>23</td>\n",
       "      <td>13</td>\n",
       "      <td>11.50</td>\n",
       "    </tr>\n",
       "    <tr>\n",
       "      <th>Много заведений - Много мест</th>\n",
       "      <td>69</td>\n",
       "      <td>10</td>\n",
       "      <td>57.18</td>\n",
       "    </tr>\n",
       "  </tbody>\n",
       "</table>\n",
       "</div>"
      ],
      "text/plain": [
       "                              Число сетей  Медианное число заведений  \\\n",
       "Группа                                                                 \n",
       "Мало заведений - Мало мест             34                          2   \n",
       "Мало заведений - Много мест           120                          3   \n",
       "Много заведений - Мало мест            23                         13   \n",
       "Много заведений - Много мест           69                         10   \n",
       "\n",
       "                              Медианное число посадочных мест  \n",
       "Группа                                                         \n",
       "Мало заведений - Мало мест                              15.10  \n",
       "Мало заведений - Много мест                             62.75  \n",
       "Много заведений - Мало мест                             11.50  \n",
       "Много заведений - Много мест                            57.18  "
      ]
     },
     "execution_count": 11,
     "metadata": {},
     "output_type": "execute_result"
    },
    {
     "data": {
      "image/png": "[encoded data removed]",
      "text/plain": [
       "<Figure size 1080x648 with 1 Axes>"
      ]
     },
     "metadata": {},
     "output_type": "display_data"
    }
   ],
   "source": [
    "# Таблица и график по кол-ву заведений и мест\n",
    "chain_yes_data['rest_num_group'] = 'Мало заведений' \n",
    "chain_yes_data.loc[chain_yes_data['counts'] > 5, 'rest_num_group'] = 'Много заведений' \n",
    "chain_yes_data['seat_num_group'] = 'Мало мест' \n",
    "chain_yes_data.loc[chain_yes_data['places'] > 20, 'seat_num_group'] = 'Много мест' \n",
    "chain_yes_data['Группа'] = chain_yes_data['rest_num_group'].astype(str) + ' - ' + chain_yes_data['seat_num_group'].astype(str)\n",
    "sns.scatterplot(data = chain_yes_data, x = 'counts', y = 'places', hue = 'Группа')\n",
    "plt.xlabel('Число заведений')\n",
    "plt.ylabel('Среднее число посадочных мест')\n",
    "chain_yes_data.reset_index().groupby('Группа').agg({'object_name': 'nunique', 'counts': 'median', 'places':'median'})\\\n",
    "                            .rename(columns={'object_name': 'Число сетей',\n",
    "                                             'counts':'Медианное число заведений', \n",
    "                                             'places':'Медианное число посадочных мест'})"
   ]
  },
  {
   "cell_type": "markdown",
   "metadata": {},
   "source": [
    "Из выделенных 4 групп можно сделать вывод, что для сетевых заведений характерно: мало заведений - много мест (120 сетей). Это самый распространненый вариант, далее, идет много заведений - много мест, 69 сетей.\t"
   ]
  },
  {
   "cell_type": "code",
   "execution_count": 12,
   "metadata": {},
   "outputs": [
    {
     "data": {
      "text/html": [
       "<div>\n",
       "<style scoped>\n",
       "    .dataframe tbody tr th:only-of-type {\n",
       "        vertical-align: middle;\n",
       "    }\n",
       "\n",
       "    .dataframe tbody tr th {\n",
       "        vertical-align: top;\n",
       "    }\n",
       "\n",
       "    .dataframe thead th {\n",
       "        text-align: right;\n",
       "    }\n",
       "</style>\n",
       "<table border=\"1\" class=\"dataframe\">\n",
       "  <thead>\n",
       "    <tr style=\"text-align: right;\">\n",
       "      <th></th>\n",
       "      <th>number</th>\n",
       "    </tr>\n",
       "    <tr>\n",
       "      <th>object_type</th>\n",
       "      <th></th>\n",
       "    </tr>\n",
       "  </thead>\n",
       "  <tbody>\n",
       "    <tr>\n",
       "      <th>столовая</th>\n",
       "      <td>130.25</td>\n",
       "    </tr>\n",
       "    <tr>\n",
       "      <th>ресторан</th>\n",
       "      <td>96.83</td>\n",
       "    </tr>\n",
       "    <tr>\n",
       "      <th>буфет</th>\n",
       "      <td>51.13</td>\n",
       "    </tr>\n",
       "    <tr>\n",
       "      <th>бар</th>\n",
       "      <td>43.49</td>\n",
       "    </tr>\n",
       "    <tr>\n",
       "      <th>кафе</th>\n",
       "      <td>39.72</td>\n",
       "    </tr>\n",
       "    <tr>\n",
       "      <th>предприятие быстрого обслуживания</th>\n",
       "      <td>20.55</td>\n",
       "    </tr>\n",
       "    <tr>\n",
       "      <th>кафетерий</th>\n",
       "      <td>9.12</td>\n",
       "    </tr>\n",
       "    <tr>\n",
       "      <th>закусочная</th>\n",
       "      <td>7.61</td>\n",
       "    </tr>\n",
       "    <tr>\n",
       "      <th>магазин (отдел кулинарии)</th>\n",
       "      <td>5.59</td>\n",
       "    </tr>\n",
       "  </tbody>\n",
       "</table>\n",
       "</div>"
      ],
      "text/plain": [
       "                                   number\n",
       "object_type                              \n",
       "столовая                           130.25\n",
       "ресторан                            96.83\n",
       "буфет                               51.13\n",
       "бар                                 43.49\n",
       "кафе                                39.72\n",
       "предприятие быстрого обслуживания   20.55\n",
       "кафетерий                            9.12\n",
       "закусочная                           7.61\n",
       "магазин (отдел кулинарии)            5.59"
      ]
     },
     "metadata": {},
     "output_type": "display_data"
    },
    {
     "data": {
      "image/png": "[encoded data removed]",
      "text/plain": [
       "<Figure size 1080x648 with 1 Axes>"
      ]
     },
     "metadata": {},
     "output_type": "display_data"
    }
   ],
   "source": [
    "# Таблица и график по типу заведения и среднему кол-ву мест\n",
    "type_data = (\n",
    "    rest_data.groupby('object_type').agg({'number':'mean'})\n",
    "    .sort_values(by = 'number', ascending = False)\n",
    ")\n",
    "display(type_data)\n",
    "type_data.plot(kind = 'barh',stacked = True, grid = True)\n",
    "plt.xlabel('Среднее число посадочных мест')\n",
    "plt.ylabel('Тип заведения')\n",
    "plt.show()"
   ]
  },
  {
   "cell_type": "markdown",
   "metadata": {},
   "source": [
    "График показывает, что в среднем самое большое количество посадочных мест у столовых. Следом, идут рестораны и буфеты.  "
   ]
  },
  {
   "cell_type": "code",
   "execution_count": 13,
   "metadata": {},
   "outputs": [
    {
     "data": {
      "text/html": [
       "<div>\n",
       "<style scoped>\n",
       "    .dataframe tbody tr th:only-of-type {\n",
       "        vertical-align: middle;\n",
       "    }\n",
       "\n",
       "    .dataframe tbody tr th {\n",
       "        vertical-align: top;\n",
       "    }\n",
       "\n",
       "    .dataframe thead th {\n",
       "        text-align: right;\n",
       "    }\n",
       "</style>\n",
       "<table border=\"1\" class=\"dataframe\">\n",
       "  <thead>\n",
       "    <tr style=\"text-align: right;\">\n",
       "      <th></th>\n",
       "      <th>id</th>\n",
       "      <th>object_name</th>\n",
       "      <th>chain</th>\n",
       "      <th>object_type</th>\n",
       "      <th>address</th>\n",
       "      <th>number</th>\n",
       "      <th>street_name</th>\n",
       "    </tr>\n",
       "  </thead>\n",
       "  <tbody>\n",
       "    <tr>\n",
       "      <th>0</th>\n",
       "      <td>151635</td>\n",
       "      <td>сметана</td>\n",
       "      <td>нет</td>\n",
       "      <td>кафе</td>\n",
       "      <td>город Москва, улица Егора Абакумова, дом 9</td>\n",
       "      <td>48</td>\n",
       "      <td>улица Егора Абакумова</td>\n",
       "    </tr>\n",
       "    <tr>\n",
       "      <th>1</th>\n",
       "      <td>77874</td>\n",
       "      <td>родник</td>\n",
       "      <td>нет</td>\n",
       "      <td>кафе</td>\n",
       "      <td>город Москва, улица Талалихина, дом 2/1, корпус 1</td>\n",
       "      <td>35</td>\n",
       "      <td>улица Талалихина</td>\n",
       "    </tr>\n",
       "    <tr>\n",
       "      <th>2</th>\n",
       "      <td>24309</td>\n",
       "      <td>кафе «академия»</td>\n",
       "      <td>нет</td>\n",
       "      <td>кафе</td>\n",
       "      <td>город Москва, Абельмановская улица, дом 6</td>\n",
       "      <td>95</td>\n",
       "      <td>Абельмановская улица</td>\n",
       "    </tr>\n",
       "    <tr>\n",
       "      <th>3</th>\n",
       "      <td>21894</td>\n",
       "      <td>пиццетория</td>\n",
       "      <td>да</td>\n",
       "      <td>кафе</td>\n",
       "      <td>город Москва, Абрамцевская улица, дом 1</td>\n",
       "      <td>40</td>\n",
       "      <td>Абрамцевская улица</td>\n",
       "    </tr>\n",
       "    <tr>\n",
       "      <th>4</th>\n",
       "      <td>119365</td>\n",
       "      <td>кафе «вишневая метель»</td>\n",
       "      <td>нет</td>\n",
       "      <td>кафе</td>\n",
       "      <td>город Москва, Абрамцевская улица, дом 9, корпус 1</td>\n",
       "      <td>50</td>\n",
       "      <td>Абрамцевская улица</td>\n",
       "    </tr>\n",
       "  </tbody>\n",
       "</table>\n",
       "</div>"
      ],
      "text/plain": [
       "       id             object_name chain object_type  \\\n",
       "0  151635                 сметана   нет        кафе   \n",
       "1   77874                  родник   нет        кафе   \n",
       "2   24309         кафе «академия»   нет        кафе   \n",
       "3   21894              пиццетория    да        кафе   \n",
       "4  119365  кафе «вишневая метель»   нет        кафе   \n",
       "\n",
       "                                             address  number  \\\n",
       "0         город Москва, улица Егора Абакумова, дом 9      48   \n",
       "1  город Москва, улица Талалихина, дом 2/1, корпус 1      35   \n",
       "2          город Москва, Абельмановская улица, дом 6      95   \n",
       "3            город Москва, Абрамцевская улица, дом 1      40   \n",
       "4  город Москва, Абрамцевская улица, дом 9, корпус 1      50   \n",
       "\n",
       "             street_name  \n",
       "0  улица Егора Абакумова  \n",
       "1       улица Талалихина  \n",
       "2   Абельмановская улица  \n",
       "3     Абрамцевская улица  \n",
       "4     Абрамцевская улица  "
      ]
     },
     "metadata": {},
     "output_type": "display_data"
    }
   ],
   "source": [
    "# Выделяю в отдельный столбец информацию об улице\n",
    "rest_data['street_name'] = rest_data['address'].apply(lambda x: x.split(',')[1]) \n",
    "rest_data['street_name'] = rest_data['street_name'].str.strip()\n",
    "display(rest_data.head())"
   ]
  },
  {
   "cell_type": "code",
   "execution_count": 14,
   "metadata": {},
   "outputs": [
    {
     "data": {
      "text/html": [
       "<div>\n",
       "<style scoped>\n",
       "    .dataframe tbody tr th:only-of-type {\n",
       "        vertical-align: middle;\n",
       "    }\n",
       "\n",
       "    .dataframe tbody tr th {\n",
       "        vertical-align: top;\n",
       "    }\n",
       "\n",
       "    .dataframe thead th {\n",
       "        text-align: right;\n",
       "    }\n",
       "</style>\n",
       "<table border=\"1\" class=\"dataframe\">\n",
       "  <thead>\n",
       "    <tr style=\"text-align: right;\">\n",
       "      <th></th>\n",
       "      <th>streetname</th>\n",
       "      <th>areaid</th>\n",
       "      <th>okrug</th>\n",
       "      <th>area</th>\n",
       "    </tr>\n",
       "  </thead>\n",
       "  <tbody>\n",
       "    <tr>\n",
       "      <th>0</th>\n",
       "      <td>Выставочный переулок</td>\n",
       "      <td>17</td>\n",
       "      <td>ЦАО</td>\n",
       "      <td>Пресненский район</td>\n",
       "    </tr>\n",
       "    <tr>\n",
       "      <th>1</th>\n",
       "      <td>улица Гашека</td>\n",
       "      <td>17</td>\n",
       "      <td>ЦАО</td>\n",
       "      <td>Пресненский район</td>\n",
       "    </tr>\n",
       "    <tr>\n",
       "      <th>2</th>\n",
       "      <td>Большая Никитская улица</td>\n",
       "      <td>17</td>\n",
       "      <td>ЦАО</td>\n",
       "      <td>Пресненский район</td>\n",
       "    </tr>\n",
       "    <tr>\n",
       "      <th>3</th>\n",
       "      <td>Глубокий переулок</td>\n",
       "      <td>17</td>\n",
       "      <td>ЦАО</td>\n",
       "      <td>Пресненский район</td>\n",
       "    </tr>\n",
       "    <tr>\n",
       "      <th>4</th>\n",
       "      <td>Большой Гнездниковский переулок</td>\n",
       "      <td>17</td>\n",
       "      <td>ЦАО</td>\n",
       "      <td>Пресненский район</td>\n",
       "    </tr>\n",
       "  </tbody>\n",
       "</table>\n",
       "</div>"
      ],
      "text/plain": [
       "                        streetname  areaid okrug               area\n",
       "0             Выставочный переулок      17   ЦАО  Пресненский район\n",
       "1                     улица Гашека      17   ЦАО  Пресненский район\n",
       "2          Большая Никитская улица      17   ЦАО  Пресненский район\n",
       "3                Глубокий переулок      17   ЦАО  Пресненский район\n",
       "4  Большой Гнездниковский переулок      17   ЦАО  Пресненский район"
      ]
     },
     "metadata": {},
     "output_type": "display_data"
    }
   ],
   "source": [
    "# Подгружаю таблицу с названиями улиц и районами\n",
    "from io import BytesIO\n",
    "import requests\n",
    "spreadsheet_id = '1CPDYDGjKCb6jGoQt9KR5WOvTspK-dHS3NUrVeqsyqJs'\n",
    "file_name = 'https://docs.google.com/spreadsheets/d/{}/export?format=csv'.format(spreadsheet_id)\n",
    "r = requests.get(file_name)\n",
    "streets = pd.read_csv(BytesIO(r.content))\n",
    "display(streets.head())"
   ]
  },
  {
   "cell_type": "code",
   "execution_count": 15,
   "metadata": {},
   "outputs": [
    {
     "data": {
      "text/html": [
       "<div>\n",
       "<style scoped>\n",
       "    .dataframe tbody tr th:only-of-type {\n",
       "        vertical-align: middle;\n",
       "    }\n",
       "\n",
       "    .dataframe tbody tr th {\n",
       "        vertical-align: top;\n",
       "    }\n",
       "\n",
       "    .dataframe thead th {\n",
       "        text-align: right;\n",
       "    }\n",
       "</style>\n",
       "<table border=\"1\" class=\"dataframe\">\n",
       "  <thead>\n",
       "    <tr style=\"text-align: right;\">\n",
       "      <th></th>\n",
       "      <th>street_name</th>\n",
       "      <th>count</th>\n",
       "    </tr>\n",
       "  </thead>\n",
       "  <tbody>\n",
       "    <tr>\n",
       "      <th>0</th>\n",
       "      <td>город Зеленоград</td>\n",
       "      <td>232</td>\n",
       "    </tr>\n",
       "    <tr>\n",
       "      <th>1</th>\n",
       "      <td>проспект Мира</td>\n",
       "      <td>204</td>\n",
       "    </tr>\n",
       "    <tr>\n",
       "      <th>2</th>\n",
       "      <td>Профсоюзная улица</td>\n",
       "      <td>182</td>\n",
       "    </tr>\n",
       "    <tr>\n",
       "      <th>3</th>\n",
       "      <td>Ленинградский проспект</td>\n",
       "      <td>171</td>\n",
       "    </tr>\n",
       "    <tr>\n",
       "      <th>4</th>\n",
       "      <td>Пресненская набережная</td>\n",
       "      <td>167</td>\n",
       "    </tr>\n",
       "    <tr>\n",
       "      <th>5</th>\n",
       "      <td>Варшавское шоссе</td>\n",
       "      <td>161</td>\n",
       "    </tr>\n",
       "    <tr>\n",
       "      <th>6</th>\n",
       "      <td>Ленинский проспект</td>\n",
       "      <td>147</td>\n",
       "    </tr>\n",
       "    <tr>\n",
       "      <th>7</th>\n",
       "      <td>поселение Сосенское</td>\n",
       "      <td>138</td>\n",
       "    </tr>\n",
       "    <tr>\n",
       "      <th>8</th>\n",
       "      <td>проспект Вернадского</td>\n",
       "      <td>132</td>\n",
       "    </tr>\n",
       "    <tr>\n",
       "      <th>9</th>\n",
       "      <td>Кутузовский проспект</td>\n",
       "      <td>114</td>\n",
       "    </tr>\n",
       "  </tbody>\n",
       "</table>\n",
       "</div>"
      ],
      "text/plain": [
       "              street_name  count\n",
       "0        город Зеленоград    232\n",
       "1           проспект Мира    204\n",
       "2       Профсоюзная улица    182\n",
       "3  Ленинградский проспект    171\n",
       "4  Пресненская набережная    167\n",
       "5        Варшавское шоссе    161\n",
       "6      Ленинский проспект    147\n",
       "7     поселение Сосенское    138\n",
       "8    проспект Вернадского    132\n",
       "9    Кутузовский проспект    114"
      ]
     },
     "metadata": {},
     "output_type": "display_data"
    },
    {
     "data": {
      "image/png": "[encoded data removed]",
      "text/plain": [
       "<Figure size 1080x648 with 1 Axes>"
      ]
     },
     "metadata": {},
     "output_type": "display_data"
    }
   ],
   "source": [
    "# Таблица и график топ-10 улиц по количеству объектов общественного питания\n",
    "streets_data = (\n",
    "    rest_data.groupby('street_name').agg({'id':'count'})\n",
    "    .sort_values(by='id', ascending=False).reset_index()\n",
    "    .rename(columns={'id':'count'})\n",
    ")\n",
    "top_10 = streets_data.head(10)\n",
    "display(top_10)\n",
    "sns.barplot(x = 'count', y = 'street_name', data = top_10)\n",
    "plt.title('График топ-10 улиц по количеству объектов общественного питания')\n",
    "plt.xlabel('Количество объектов')\n",
    "plt.ylabel('Название улицы')\n",
    "plt.show()"
   ]
  },
  {
   "cell_type": "code",
   "execution_count": 16,
   "metadata": {},
   "outputs": [
    {
     "data": {
      "text/html": [
       "<div>\n",
       "<style scoped>\n",
       "    .dataframe tbody tr th:only-of-type {\n",
       "        vertical-align: middle;\n",
       "    }\n",
       "\n",
       "    .dataframe tbody tr th {\n",
       "        vertical-align: top;\n",
       "    }\n",
       "\n",
       "    .dataframe thead th {\n",
       "        text-align: right;\n",
       "    }\n",
       "</style>\n",
       "<table border=\"1\" class=\"dataframe\">\n",
       "  <thead>\n",
       "    <tr style=\"text-align: right;\">\n",
       "      <th></th>\n",
       "      <th>street_name</th>\n",
       "      <th>okrug</th>\n",
       "      <th>area</th>\n",
       "    </tr>\n",
       "  </thead>\n",
       "  <tbody>\n",
       "    <tr>\n",
       "      <th>0</th>\n",
       "      <td>город Зеленоград</td>\n",
       "      <td>Зеленоград</td>\n",
       "      <td>Район Крюково</td>\n",
       "    </tr>\n",
       "    <tr>\n",
       "      <th>1</th>\n",
       "      <td>город Зеленоград</td>\n",
       "      <td>Зеленоград</td>\n",
       "      <td>Район Матушкино-Савелки</td>\n",
       "    </tr>\n",
       "    <tr>\n",
       "      <th>2</th>\n",
       "      <td>город Зеленоград</td>\n",
       "      <td>Зеленоград</td>\n",
       "      <td>Панфиловский район</td>\n",
       "    </tr>\n",
       "    <tr>\n",
       "      <th>3</th>\n",
       "      <td>проспект Мира</td>\n",
       "      <td>СВАО</td>\n",
       "      <td>Алексеевский район</td>\n",
       "    </tr>\n",
       "    <tr>\n",
       "      <th>4</th>\n",
       "      <td>проспект Мира</td>\n",
       "      <td>СВАО</td>\n",
       "      <td>Ярославский Район</td>\n",
       "    </tr>\n",
       "  </tbody>\n",
       "</table>\n",
       "</div>"
      ],
      "text/plain": [
       "        street_name       okrug                     area\n",
       "0  город Зеленоград  Зеленоград            Район Крюково\n",
       "1  город Зеленоград  Зеленоград  Район Матушкино-Савелки\n",
       "2  город Зеленоград  Зеленоград       Панфиловский район\n",
       "3     проспект Мира        СВАО       Алексеевский район\n",
       "4     проспект Мира        СВАО        Ярославский Район"
      ]
     },
     "metadata": {},
     "output_type": "display_data"
    }
   ],
   "source": [
    "# Объединяю таблицы\n",
    "streets = streets.rename(columns={'streetname':'street_name'})\n",
    "district = streets_data.merge(streets, on='street_name', how='left')\n",
    "district = district.drop(['count', 'areaid'], 1)\n",
    "display(district.head())"
   ]
  },
  {
   "cell_type": "markdown",
   "metadata": {},
   "source": [
    "Из полученной информации можно сделать вывод, что топ-10 улиц по количеству объектов общественного питания располагается в разных районах и в разных частях города. "
   ]
  },
  {
   "cell_type": "code",
   "execution_count": 17,
   "metadata": {},
   "outputs": [
    {
     "data": {
      "text/html": [
       "<div>\n",
       "<style scoped>\n",
       "    .dataframe tbody tr th:only-of-type {\n",
       "        vertical-align: middle;\n",
       "    }\n",
       "\n",
       "    .dataframe tbody tr th {\n",
       "        vertical-align: top;\n",
       "    }\n",
       "\n",
       "    .dataframe thead th {\n",
       "        text-align: right;\n",
       "    }\n",
       "</style>\n",
       "<table border=\"1\" class=\"dataframe\">\n",
       "  <thead>\n",
       "    <tr style=\"text-align: right;\">\n",
       "      <th></th>\n",
       "      <th>street_name</th>\n",
       "      <th>count</th>\n",
       "      <th>okrug</th>\n",
       "      <th>area</th>\n",
       "    </tr>\n",
       "  </thead>\n",
       "  <tbody>\n",
       "    <tr>\n",
       "      <th>0</th>\n",
       "      <td>улица Демьяна Бедного</td>\n",
       "      <td>1</td>\n",
       "      <td>СЗАО</td>\n",
       "      <td>Район Хорошево-Мневники</td>\n",
       "    </tr>\n",
       "    <tr>\n",
       "      <th>1</th>\n",
       "      <td>Андреево-Забелинская улица</td>\n",
       "      <td>1</td>\n",
       "      <td>ВАО</td>\n",
       "      <td>Район Богородское</td>\n",
       "    </tr>\n",
       "    <tr>\n",
       "      <th>2</th>\n",
       "      <td>1-й Саратовский проезд</td>\n",
       "      <td>1</td>\n",
       "      <td>ЮВАО</td>\n",
       "      <td>Район Текстильщики</td>\n",
       "    </tr>\n",
       "    <tr>\n",
       "      <th>3</th>\n",
       "      <td>Андроньевская площадь</td>\n",
       "      <td>1</td>\n",
       "      <td>ЦАО</td>\n",
       "      <td>Таганский район</td>\n",
       "    </tr>\n",
       "    <tr>\n",
       "      <th>4</th>\n",
       "      <td>2-й Стрелецкий проезд</td>\n",
       "      <td>1</td>\n",
       "      <td>СВАО</td>\n",
       "      <td>Район Марьина роща</td>\n",
       "    </tr>\n",
       "  </tbody>\n",
       "</table>\n",
       "</div>"
      ],
      "text/plain": [
       "                  street_name  count okrug                     area\n",
       "0       улица Демьяна Бедного      1  СЗАО  Район Хорошево-Мневники\n",
       "1  Андреево-Забелинская улица      1   ВАО        Район Богородское\n",
       "2      1-й Саратовский проезд      1  ЮВАО       Район Текстильщики\n",
       "3       Андроньевская площадь      1   ЦАО          Таганский район\n",
       "4       2-й Стрелецкий проезд      1  СВАО       Район Марьина роща"
      ]
     },
     "metadata": {},
     "output_type": "display_data"
    }
   ],
   "source": [
    "# Таблица улиц и районов с одним объектом общественного питания\n",
    "streets_one_res = streets_data.query('count == 1').reset_index(drop=True)\n",
    "district_one_res = streets_one_res.merge(streets, on='street_name', how='left')\n",
    "district_one_res = district_one_res.drop('areaid', 1)\n",
    "display(district_one_res.head())"
   ]
  },
  {
   "cell_type": "code",
   "execution_count": 18,
   "metadata": {},
   "outputs": [
    {
     "data": {
      "text/plain": [
       "area\n",
       "Таганский район        27\n",
       "Район Хамовники        26\n",
       "Басманный район        25\n",
       "Тверской район         20\n",
       "Пресненский район      19\n",
       "Район Марьина роща     18\n",
       "Район Арбат            17\n",
       "Мещанский район        16\n",
       "Район Сокольники       15\n",
       "Район Замоскворечье    14\n",
       "Name: count, dtype: int64"
      ]
     },
     "execution_count": 18,
     "metadata": {},
     "output_type": "execute_result"
    }
   ],
   "source": [
    "# Кол-во улиц с одним заведением в районах\n",
    "district_one_res.groupby('area')['count'].count().sort_values(ascending=False).head(10)"
   ]
  },
  {
   "cell_type": "markdown",
   "metadata": {},
   "source": [
    "Лидирующие позиции занимают районы Центрального административного округа Москвы, возможно это связано с тем, что там нет большого трафика машин и пешеходов, как на более крупных улицах или же с большой стоимостью аренды. Также это может быть связано с наличием большого количества исторических памятников архитектуры."
   ]
  },
  {
   "cell_type": "code",
   "execution_count": 19,
   "metadata": {},
   "outputs": [
    {
     "data": {
      "image/png": "[encoded data removed]",
      "text/plain": [
       "<Figure size 1080x648 with 1 Axes>"
      ]
     },
     "metadata": {},
     "output_type": "display_data"
    }
   ],
   "source": [
    "# Построил диаграмму размаха по кол-ву посадочных мест для топ-10 улиц\n",
    "list_streets = ['город Зеленоград',\n",
    "                'проспект Мира',\n",
    "                'Профсоюзная улица',\n",
    "                'Ленинградский проспект',\n",
    "                'Пресненская набережная',\n",
    "                'Варшавское шоссе',\n",
    "                'Ленинский проспект',\n",
    "                'поселение Сосенское',\n",
    "                'проспект Вернадского',\n",
    "                'Кутузовский проспект']\n",
    "top_10_number = rest_data.query('street_name in @list_streets')\n",
    "sns.boxplot(x = 'street_name', y = 'number', data = top_10_number)\n",
    "plt.ylim(0, 200)\n",
    "plt.title('Диаграмма размаха по кол-ву посадочных мест для топ-10 улиц')\n",
    "plt.xlabel('Название улицы')\n",
    "plt.ylabel('Количество посадочных мест')\n",
    "plt.xticks(rotation=45)\n",
    "plt.show()"
   ]
  },
  {
   "cell_type": "code",
   "execution_count": 20,
   "metadata": {},
   "outputs": [
    {
     "data": {
      "text/plain": [
       "count   1,648.00\n",
       "mean       57.31\n",
       "std        85.58\n",
       "min         0.00\n",
       "25%        12.00\n",
       "50%        38.00\n",
       "75%        80.00\n",
       "max     1,700.00\n",
       "Name: number, dtype: float64"
      ]
     },
     "execution_count": 20,
     "metadata": {},
     "output_type": "execute_result"
    }
   ],
   "source": [
    "top_10_number['number'].describe()"
   ]
  },
  {
   "cell_type": "markdown",
   "metadata": {},
   "source": [
    "Исходя из графика, можно сделать вывод, что для улиц с большим количеством объектов общественного питания характерно небольшое количество посадочных мест. На всех улицах, кроме Зеленограда, меньше 50 посадочных мест.   "
   ]
  },
  {
   "cell_type": "markdown",
   "metadata": {},
   "source": [
    "**Вывод**"
   ]
  },
  {
   "cell_type": "markdown",
   "metadata": {},
   "source": [
    "1. Самый распространенные виды заведений - это кафе, столовые, рестораны и предприятия быстрого обслуживания.\n",
    "2. Преобладают в основном несетевые заведения. Из всех заведений только ~16% являются сетевыми, большая часть сетевых заведений - кафе, предприятия быстрого обслуживания и рестораны.\n",
    "3. Для сетевых заведений характерно: мало заведений - много мест.\n",
    "4. В среднем самое большое количество посадочных мест у столовых. Следом, идут рестораны и буфеты.\n",
    "5. Топ-10 улиц по количеству объектов общественного питания располагается в разных районах и в разных частях города.\n",
    "6. Улицы с одним объектом общественного питания в основном располагаются в ЦАО.\n",
    "7. Для улиц с большим количеством объектов общественного питания характерно небольшое количество посадочных мест."
   ]
  },
  {
   "cell_type": "markdown",
   "metadata": {},
   "source": [
    "## 3. Общий вывод <a class=\"anchor\" id=\"ov\"></a>"
   ]
  },
  {
   "cell_type": "markdown",
   "metadata": {},
   "source": [
    "На основе полученных данных можно сделать несколько выводов:\n",
    "\n",
    "1. Открывать заведение стоит там, где меньше конкуренции, но с хорошей проходимостью. Улицы с одним объектом общественного питания в основном располагаются в ЦАО, там много набережных и живописных мест. Стоит обратить внимание на районы: Таганский, Хамовники, Басманный, Тверской и Пресненский. Аренда в центре стоит дороже, чем на окраинах, поэтому слишком большое заведение открывать нецелесообразно. Из этого расчета, количество посадочных мест 30 - 50. Самый распространенные виды заведений - это кафе, столовые, рестораны и предприятия быстрого обслуживания. Исходя из выше сказанного, лучше выбрать формат кафе или предприятие быстрого обслуживания. Также подойдет и бар. Хотя рынок и переполнен объектами вида кафе, благодаря новизне, данный формат имеет место быть. Роботы - хорошая, инновационная идея, однако, если их функциональность не на должном уровне, то от этой идеи будут одни убытки. Если же с технической точки зрения проблем нет, то идея роботизированного заведения весьма неплоха. Если первое заведение будет прибыльное, можно задуматься о сетевом расширении.     \n",
    "2. При предобработке данных в столбце object_name были обнаружены дубликаты. Из-за одинаковых названий, которые были записаны по-разному. Также в таблице были заведения с одним объектом, но причисленные к сетевым. Данные проблемы были устранены. В остальном данные были корректные и правильные. \n",
    "3. Улицы, входящие в Топ-10 по числу заведений, объединяет то, что они очень длинные и пересекают множество районов, потому на них и много объектов. Отличием является Пресненская набережная, которая тоже входит в топ-10, при сравнительно небольшом размере.\n",
    "\n",
    "Презентация: https://disk.yandex.ru/i/OzUZBMv2bw_Kxg "
   ]
  }
 ],
 "metadata": {
  "ExecuteTimeLog": [
   {
    "duration": 1512,
    "start_time": "2022-03-10T15:39:05.183Z"
   },
   {
    "duration": 403,
    "start_time": "2022-03-10T15:40:58.963Z"
   },
   {
    "duration": 74,
    "start_time": "2022-03-10T15:42:15.408Z"
   },
   {
    "duration": 90,
    "start_time": "2022-03-10T15:44:29.113Z"
   },
   {
    "duration": 76,
    "start_time": "2022-03-10T15:44:50.509Z"
   },
   {
    "duration": 32,
    "start_time": "2022-03-10T15:47:14.135Z"
   },
   {
    "duration": 71,
    "start_time": "2022-03-10T15:53:33.085Z"
   },
   {
    "duration": 51,
    "start_time": "2022-03-10T15:56:55.371Z"
   },
   {
    "duration": 19,
    "start_time": "2022-03-10T16:00:54.584Z"
   },
   {
    "duration": 21,
    "start_time": "2022-03-10T16:12:46.594Z"
   },
   {
    "duration": 235,
    "start_time": "2022-03-10T16:28:37.152Z"
   },
   {
    "duration": 217,
    "start_time": "2022-03-10T16:28:58.752Z"
   },
   {
    "duration": 79,
    "start_time": "2022-03-10T16:29:19.855Z"
   },
   {
    "duration": 4114,
    "start_time": "2022-03-10T16:29:23.339Z"
   },
   {
    "duration": 4675,
    "start_time": "2022-03-10T16:29:56.369Z"
   },
   {
    "duration": 1933,
    "start_time": "2022-03-10T16:30:42.788Z"
   },
   {
    "duration": 84,
    "start_time": "2022-03-10T16:30:44.724Z"
   },
   {
    "duration": 32,
    "start_time": "2022-03-10T16:30:44.812Z"
   },
   {
    "duration": 55,
    "start_time": "2022-03-10T16:30:44.848Z"
   },
   {
    "duration": 263,
    "start_time": "2022-03-10T16:30:44.905Z"
   },
   {
    "duration": 280,
    "start_time": "2022-03-10T16:31:20.312Z"
   },
   {
    "duration": 294,
    "start_time": "2022-03-10T16:33:40.575Z"
   },
   {
    "duration": 469,
    "start_time": "2022-03-10T16:33:55.534Z"
   },
   {
    "duration": 1509,
    "start_time": "2022-03-10T16:34:45.238Z"
   },
   {
    "duration": 77,
    "start_time": "2022-03-10T16:39:55.134Z"
   },
   {
    "duration": 6078,
    "start_time": "2022-03-10T16:40:03.303Z"
   },
   {
    "duration": 1499,
    "start_time": "2022-03-10T16:41:21.958Z"
   },
   {
    "duration": 29,
    "start_time": "2022-03-10T16:41:33.989Z"
   },
   {
    "duration": 488,
    "start_time": "2022-03-10T16:46:17.335Z"
   },
   {
    "duration": 568,
    "start_time": "2022-03-10T16:46:55.680Z"
   },
   {
    "duration": 474,
    "start_time": "2022-03-10T16:46:59.036Z"
   },
   {
    "duration": 450,
    "start_time": "2022-03-10T16:50:53.236Z"
   },
   {
    "duration": 477,
    "start_time": "2022-03-10T16:52:06.379Z"
   },
   {
    "duration": 1863,
    "start_time": "2022-03-10T16:52:20.220Z"
   },
   {
    "duration": 78,
    "start_time": "2022-03-10T16:52:22.086Z"
   },
   {
    "duration": 43,
    "start_time": "2022-03-10T16:52:22.171Z"
   },
   {
    "duration": 29,
    "start_time": "2022-03-10T16:52:22.216Z"
   },
   {
    "duration": 660,
    "start_time": "2022-03-10T16:52:22.248Z"
   },
   {
    "duration": 440,
    "start_time": "2022-03-10T16:52:31.254Z"
   },
   {
    "duration": 215,
    "start_time": "2022-03-10T16:54:20.780Z"
   },
   {
    "duration": 673,
    "start_time": "2022-03-10T16:54:34.450Z"
   },
   {
    "duration": 475,
    "start_time": "2022-03-10T16:54:54.897Z"
   },
   {
    "duration": 652,
    "start_time": "2022-03-10T16:55:04.018Z"
   },
   {
    "duration": 774,
    "start_time": "2022-03-10T16:55:18.003Z"
   },
   {
    "duration": 2026,
    "start_time": "2022-03-10T16:56:28.053Z"
   },
   {
    "duration": 78,
    "start_time": "2022-03-10T16:56:30.082Z"
   },
   {
    "duration": 46,
    "start_time": "2022-03-10T16:56:30.166Z"
   },
   {
    "duration": 30,
    "start_time": "2022-03-10T16:56:30.215Z"
   },
   {
    "duration": 711,
    "start_time": "2022-03-10T16:56:30.248Z"
   },
   {
    "duration": 422,
    "start_time": "2022-03-10T17:07:13.846Z"
   },
   {
    "duration": 85,
    "start_time": "2022-03-10T17:10:34.184Z"
   },
   {
    "duration": 251,
    "start_time": "2022-03-10T17:10:38.277Z"
   },
   {
    "duration": 75,
    "start_time": "2022-03-10T17:10:50.352Z"
   },
   {
    "duration": 1178,
    "start_time": "2022-03-10T17:10:57.863Z"
   },
   {
    "duration": 51,
    "start_time": "2022-03-10T17:15:40.233Z"
   },
   {
    "duration": 705,
    "start_time": "2022-03-10T17:15:45.874Z"
   },
   {
    "duration": 1923,
    "start_time": "2022-03-10T17:16:07.614Z"
   },
   {
    "duration": 85,
    "start_time": "2022-03-10T17:16:09.539Z"
   },
   {
    "duration": 30,
    "start_time": "2022-03-10T17:16:09.628Z"
   },
   {
    "duration": 72,
    "start_time": "2022-03-10T17:16:09.662Z"
   },
   {
    "duration": 912,
    "start_time": "2022-03-10T17:16:09.737Z"
   },
   {
    "duration": 41,
    "start_time": "2022-03-10T17:18:21.989Z"
   },
   {
    "duration": 753,
    "start_time": "2022-03-10T17:18:38.334Z"
   },
   {
    "duration": 118,
    "start_time": "2022-03-10T18:26:51.422Z"
   },
   {
    "duration": 745,
    "start_time": "2022-03-10T18:26:55.831Z"
   },
   {
    "duration": 264,
    "start_time": "2022-03-10T18:27:23.304Z"
   },
   {
    "duration": 23,
    "start_time": "2022-03-10T18:28:39.636Z"
   },
   {
    "duration": 1872,
    "start_time": "2022-03-10T18:28:55.329Z"
   },
   {
    "duration": 81,
    "start_time": "2022-03-10T18:28:57.204Z"
   },
   {
    "duration": 42,
    "start_time": "2022-03-10T18:28:57.290Z"
   },
   {
    "duration": 27,
    "start_time": "2022-03-10T18:28:57.335Z"
   },
   {
    "duration": 219,
    "start_time": "2022-03-10T18:28:57.388Z"
   },
   {
    "duration": 22,
    "start_time": "2022-03-10T18:29:39.133Z"
   },
   {
    "duration": 23,
    "start_time": "2022-03-10T18:29:48.150Z"
   },
   {
    "duration": 2014,
    "start_time": "2022-03-10T18:30:04.445Z"
   },
   {
    "duration": 78,
    "start_time": "2022-03-10T18:30:06.466Z"
   },
   {
    "duration": 53,
    "start_time": "2022-03-10T18:30:06.548Z"
   },
   {
    "duration": 37,
    "start_time": "2022-03-10T18:30:06.604Z"
   },
   {
    "duration": 236,
    "start_time": "2022-03-10T18:30:06.643Z"
   },
   {
    "duration": 27,
    "start_time": "2022-03-10T18:30:17.698Z"
   },
   {
    "duration": 1865,
    "start_time": "2022-03-10T18:30:24.515Z"
   },
   {
    "duration": 72,
    "start_time": "2022-03-10T18:30:26.382Z"
   },
   {
    "duration": 40,
    "start_time": "2022-03-10T18:30:26.460Z"
   },
   {
    "duration": 25,
    "start_time": "2022-03-10T18:30:26.503Z"
   },
   {
    "duration": 229,
    "start_time": "2022-03-10T18:30:26.530Z"
   },
   {
    "duration": 1924,
    "start_time": "2022-03-10T18:39:27.440Z"
   },
   {
    "duration": 108,
    "start_time": "2022-03-10T18:39:29.368Z"
   },
   {
    "duration": 45,
    "start_time": "2022-03-10T18:39:29.488Z"
   },
   {
    "duration": 24,
    "start_time": "2022-03-10T18:39:29.536Z"
   },
   {
    "duration": 259,
    "start_time": "2022-03-10T18:39:29.562Z"
   },
   {
    "duration": 2243,
    "start_time": "2022-03-10T18:40:30.372Z"
   },
   {
    "duration": 76,
    "start_time": "2022-03-10T18:40:32.617Z"
   },
   {
    "duration": 30,
    "start_time": "2022-03-10T18:40:32.696Z"
   },
   {
    "duration": 24,
    "start_time": "2022-03-10T18:40:32.729Z"
   },
   {
    "duration": 217,
    "start_time": "2022-03-10T18:40:32.788Z"
   },
   {
    "duration": 1564,
    "start_time": "2022-03-11T13:17:07.526Z"
   },
   {
    "duration": 63,
    "start_time": "2022-03-11T13:17:09.092Z"
   },
   {
    "duration": 27,
    "start_time": "2022-03-11T13:17:09.157Z"
   },
   {
    "duration": 33,
    "start_time": "2022-03-11T13:17:09.186Z"
   },
   {
    "duration": 155,
    "start_time": "2022-03-11T13:17:09.222Z"
   },
   {
    "duration": 46,
    "start_time": "2022-03-11T13:17:09.379Z"
   },
   {
    "duration": 428,
    "start_time": "2022-03-11T13:21:59.516Z"
   },
   {
    "duration": 387,
    "start_time": "2022-03-11T13:22:22.147Z"
   },
   {
    "duration": 400,
    "start_time": "2022-03-11T13:25:05.327Z"
   },
   {
    "duration": 306,
    "start_time": "2022-03-11T13:25:17.589Z"
   },
   {
    "duration": 434,
    "start_time": "2022-03-11T13:38:36.293Z"
   },
   {
    "duration": 290,
    "start_time": "2022-03-11T13:39:39.147Z"
   },
   {
    "duration": 238,
    "start_time": "2022-03-11T13:41:40.232Z"
   },
   {
    "duration": 166,
    "start_time": "2022-03-11T13:41:53.576Z"
   },
   {
    "duration": 231,
    "start_time": "2022-03-11T13:42:39.494Z"
   },
   {
    "duration": 657,
    "start_time": "2022-03-11T13:42:58.278Z"
   },
   {
    "duration": 284,
    "start_time": "2022-03-11T13:46:53.480Z"
   },
   {
    "duration": 301,
    "start_time": "2022-03-11T13:47:11.461Z"
   },
   {
    "duration": 276,
    "start_time": "2022-03-11T13:47:18.061Z"
   },
   {
    "duration": 276,
    "start_time": "2022-03-11T13:48:47.235Z"
   },
   {
    "duration": 6422,
    "start_time": "2022-03-11T13:49:40.969Z"
   },
   {
    "duration": 315,
    "start_time": "2022-03-11T13:49:56.841Z"
   },
   {
    "duration": 282,
    "start_time": "2022-03-11T13:50:32.424Z"
   },
   {
    "duration": 282,
    "start_time": "2022-03-11T13:53:19.675Z"
   },
   {
    "duration": 265,
    "start_time": "2022-03-11T13:53:45.164Z"
   },
   {
    "duration": 282,
    "start_time": "2022-03-11T13:53:56.162Z"
   },
   {
    "duration": 281,
    "start_time": "2022-03-11T13:54:12.890Z"
   },
   {
    "duration": 284,
    "start_time": "2022-03-11T13:54:19.026Z"
   },
   {
    "duration": 281,
    "start_time": "2022-03-11T13:54:27.881Z"
   },
   {
    "duration": 515,
    "start_time": "2022-03-11T13:57:15.869Z"
   },
   {
    "duration": 312,
    "start_time": "2022-03-11T13:58:44.666Z"
   },
   {
    "duration": 380,
    "start_time": "2022-03-11T13:59:51.810Z"
   },
   {
    "duration": 301,
    "start_time": "2022-03-11T14:00:27.680Z"
   },
   {
    "duration": 397,
    "start_time": "2022-03-11T14:07:53.455Z"
   },
   {
    "duration": 1872,
    "start_time": "2022-03-15T14:09:47.531Z"
   },
   {
    "duration": 84,
    "start_time": "2022-03-15T14:09:49.406Z"
   },
   {
    "duration": 30,
    "start_time": "2022-03-15T14:09:49.493Z"
   },
   {
    "duration": 22,
    "start_time": "2022-03-15T14:09:49.526Z"
   },
   {
    "duration": 245,
    "start_time": "2022-03-15T14:09:49.550Z"
   },
   {
    "duration": 483,
    "start_time": "2022-03-15T14:09:49.798Z"
   },
   {
    "duration": 447,
    "start_time": "2022-03-15T14:09:50.287Z"
   },
   {
    "duration": 444,
    "start_time": "2022-03-15T14:09:50.737Z"
   },
   {
    "duration": 449,
    "start_time": "2022-03-15T14:22:59.947Z"
   },
   {
    "duration": 602,
    "start_time": "2022-03-15T14:30:30.279Z"
   },
   {
    "duration": 25,
    "start_time": "2022-03-15T14:37:04.628Z"
   },
   {
    "duration": 45,
    "start_time": "2022-03-15T14:43:27.889Z"
   },
   {
    "duration": 15,
    "start_time": "2022-03-15T14:45:00.009Z"
   },
   {
    "duration": 44,
    "start_time": "2022-03-15T14:45:44.277Z"
   },
   {
    "duration": 45,
    "start_time": "2022-03-15T14:47:02.901Z"
   },
   {
    "duration": 18,
    "start_time": "2022-03-15T14:47:50.559Z"
   },
   {
    "duration": 15,
    "start_time": "2022-03-15T14:49:26.919Z"
   },
   {
    "duration": 47,
    "start_time": "2022-03-15T14:49:34.278Z"
   },
   {
    "duration": 19,
    "start_time": "2022-03-15T14:50:13.167Z"
   },
   {
    "duration": 75,
    "start_time": "2022-03-15T14:50:25.628Z"
   },
   {
    "duration": 26,
    "start_time": "2022-03-15T14:52:25.025Z"
   },
   {
    "duration": 1957,
    "start_time": "2022-03-15T14:52:35.835Z"
   },
   {
    "duration": 73,
    "start_time": "2022-03-15T14:52:37.794Z"
   },
   {
    "duration": 38,
    "start_time": "2022-03-15T14:52:37.870Z"
   },
   {
    "duration": 24,
    "start_time": "2022-03-15T14:52:37.911Z"
   },
   {
    "duration": 50,
    "start_time": "2022-03-15T14:52:37.937Z"
   },
   {
    "duration": 219,
    "start_time": "2022-03-15T14:52:37.990Z"
   },
   {
    "duration": 486,
    "start_time": "2022-03-15T14:52:38.211Z"
   },
   {
    "duration": 455,
    "start_time": "2022-03-15T14:52:38.700Z"
   },
   {
    "duration": 478,
    "start_time": "2022-03-15T14:52:39.158Z"
   },
   {
    "duration": 58,
    "start_time": "2022-03-15T14:52:39.638Z"
   },
   {
    "duration": 18,
    "start_time": "2022-03-15T14:53:24.331Z"
   },
   {
    "duration": 20,
    "start_time": "2022-03-15T14:54:51.326Z"
   },
   {
    "duration": 367,
    "start_time": "2022-03-15T14:57:07.657Z"
   },
   {
    "duration": 31,
    "start_time": "2022-03-15T14:57:14.130Z"
   },
   {
    "duration": 1870,
    "start_time": "2022-03-15T14:57:23.294Z"
   },
   {
    "duration": 80,
    "start_time": "2022-03-15T14:57:25.167Z"
   },
   {
    "duration": 28,
    "start_time": "2022-03-15T14:57:25.250Z"
   },
   {
    "duration": 15,
    "start_time": "2022-03-15T14:57:25.287Z"
   },
   {
    "duration": 26,
    "start_time": "2022-03-15T14:57:25.305Z"
   },
   {
    "duration": 216,
    "start_time": "2022-03-15T14:57:25.333Z"
   },
   {
    "duration": 535,
    "start_time": "2022-03-15T14:57:25.552Z"
   },
   {
    "duration": 563,
    "start_time": "2022-03-15T14:57:26.091Z"
   },
   {
    "duration": 461,
    "start_time": "2022-03-15T14:57:26.657Z"
   },
   {
    "duration": 32,
    "start_time": "2022-03-15T14:57:27.120Z"
   },
   {
    "duration": 12,
    "start_time": "2022-03-15T15:19:00.471Z"
   },
   {
    "duration": 900,
    "start_time": "2022-03-15T15:41:42.773Z"
   },
   {
    "duration": 1818,
    "start_time": "2022-03-15T15:43:06.031Z"
   },
   {
    "duration": 73,
    "start_time": "2022-03-15T15:43:07.851Z"
   },
   {
    "duration": 28,
    "start_time": "2022-03-15T15:43:07.927Z"
   },
   {
    "duration": 29,
    "start_time": "2022-03-15T15:43:07.958Z"
   },
   {
    "duration": 24,
    "start_time": "2022-03-15T15:43:07.990Z"
   },
   {
    "duration": 3,
    "start_time": "2022-03-15T15:43:08.017Z"
   },
   {
    "duration": 499,
    "start_time": "2022-03-15T15:43:08.022Z"
   },
   {
    "duration": 463,
    "start_time": "2022-03-15T15:43:08.526Z"
   },
   {
    "duration": 564,
    "start_time": "2022-03-15T15:43:08.992Z"
   },
   {
    "duration": 42,
    "start_time": "2022-03-15T15:43:09.559Z"
   },
   {
    "duration": 971,
    "start_time": "2022-03-15T15:43:09.604Z"
   },
   {
    "duration": 1801,
    "start_time": "2022-03-15T15:44:40.129Z"
   },
   {
    "duration": 79,
    "start_time": "2022-03-15T15:44:41.932Z"
   },
   {
    "duration": 30,
    "start_time": "2022-03-15T15:44:42.017Z"
   },
   {
    "duration": 42,
    "start_time": "2022-03-15T15:44:42.049Z"
   },
   {
    "duration": 46,
    "start_time": "2022-03-15T15:44:42.094Z"
   },
   {
    "duration": 217,
    "start_time": "2022-03-15T15:44:42.142Z"
   },
   {
    "duration": 483,
    "start_time": "2022-03-15T15:44:42.362Z"
   },
   {
    "duration": 465,
    "start_time": "2022-03-15T15:44:42.847Z"
   },
   {
    "duration": 473,
    "start_time": "2022-03-15T15:44:43.314Z"
   },
   {
    "duration": 32,
    "start_time": "2022-03-15T15:44:43.791Z"
   },
   {
    "duration": 947,
    "start_time": "2022-03-15T15:44:43.826Z"
   },
   {
    "duration": 93,
    "start_time": "2022-03-15T15:52:52.982Z"
   },
   {
    "duration": 292,
    "start_time": "2022-03-15T15:53:06.063Z"
   },
   {
    "duration": 76,
    "start_time": "2022-03-15T15:53:26.910Z"
   },
   {
    "duration": 925,
    "start_time": "2022-03-15T15:56:42.920Z"
   },
   {
    "duration": 948,
    "start_time": "2022-03-15T15:57:14.142Z"
   },
   {
    "duration": 974,
    "start_time": "2022-03-15T15:57:20.502Z"
   },
   {
    "duration": 925,
    "start_time": "2022-03-15T15:57:30.127Z"
   },
   {
    "duration": 9,
    "start_time": "2022-03-15T16:18:39.832Z"
   },
   {
    "duration": 14,
    "start_time": "2022-03-15T16:18:43.777Z"
   },
   {
    "duration": 15,
    "start_time": "2022-03-15T16:20:38.134Z"
   },
   {
    "duration": 595,
    "start_time": "2022-03-15T16:21:56.947Z"
   },
   {
    "duration": 648,
    "start_time": "2022-03-15T16:22:05.339Z"
   },
   {
    "duration": 690,
    "start_time": "2022-03-15T16:23:05.314Z"
   },
   {
    "duration": 808,
    "start_time": "2022-03-15T16:23:18.618Z"
   },
   {
    "duration": 681,
    "start_time": "2022-03-15T16:23:44.152Z"
   },
   {
    "duration": 669,
    "start_time": "2022-03-15T16:23:57.136Z"
   },
   {
    "duration": 651,
    "start_time": "2022-03-15T16:24:06.151Z"
   },
   {
    "duration": 672,
    "start_time": "2022-03-15T16:24:14.224Z"
   },
   {
    "duration": 6,
    "start_time": "2022-03-15T16:24:20.287Z"
   },
   {
    "duration": 1874,
    "start_time": "2022-03-15T16:24:37.693Z"
   },
   {
    "duration": 82,
    "start_time": "2022-03-15T16:24:39.571Z"
   },
   {
    "duration": 54,
    "start_time": "2022-03-15T16:24:39.656Z"
   },
   {
    "duration": 25,
    "start_time": "2022-03-15T16:24:39.714Z"
   },
   {
    "duration": 57,
    "start_time": "2022-03-15T16:24:39.742Z"
   },
   {
    "duration": 362,
    "start_time": "2022-03-15T16:24:39.802Z"
   },
   {
    "duration": 712,
    "start_time": "2022-03-15T16:24:40.167Z"
   },
   {
    "duration": 553,
    "start_time": "2022-03-15T16:24:40.886Z"
   },
   {
    "duration": 478,
    "start_time": "2022-03-15T16:24:41.441Z"
   },
   {
    "duration": 31,
    "start_time": "2022-03-15T16:24:41.921Z"
   },
   {
    "duration": 932,
    "start_time": "2022-03-15T16:24:41.955Z"
   },
   {
    "duration": 689,
    "start_time": "2022-03-15T16:24:42.889Z"
   },
   {
    "duration": 696,
    "start_time": "2022-03-15T16:24:48.770Z"
   },
   {
    "duration": 1885,
    "start_time": "2022-03-15T16:24:58.099Z"
   },
   {
    "duration": 105,
    "start_time": "2022-03-15T16:24:59.987Z"
   },
   {
    "duration": 31,
    "start_time": "2022-03-15T16:25:00.096Z"
   },
   {
    "duration": 17,
    "start_time": "2022-03-15T16:25:00.130Z"
   },
   {
    "duration": 61,
    "start_time": "2022-03-15T16:25:00.150Z"
   },
   {
    "duration": 220,
    "start_time": "2022-03-15T16:25:00.214Z"
   },
   {
    "duration": 473,
    "start_time": "2022-03-15T16:25:00.436Z"
   },
   {
    "duration": 465,
    "start_time": "2022-03-15T16:25:00.913Z"
   },
   {
    "duration": 458,
    "start_time": "2022-03-15T16:25:01.388Z"
   },
   {
    "duration": 45,
    "start_time": "2022-03-15T16:25:01.849Z"
   },
   {
    "duration": 1065,
    "start_time": "2022-03-15T16:25:01.896Z"
   },
   {
    "duration": 686,
    "start_time": "2022-03-15T16:25:02.964Z"
   },
   {
    "duration": 7,
    "start_time": "2022-03-15T16:25:03.654Z"
   },
   {
    "duration": 672,
    "start_time": "2022-03-15T16:25:57.287Z"
   },
   {
    "duration": 1910,
    "start_time": "2022-03-15T16:28:19.441Z"
   },
   {
    "duration": 79,
    "start_time": "2022-03-15T16:28:21.354Z"
   },
   {
    "duration": 30,
    "start_time": "2022-03-15T16:28:21.436Z"
   },
   {
    "duration": 30,
    "start_time": "2022-03-15T16:28:21.469Z"
   },
   {
    "duration": 25,
    "start_time": "2022-03-15T16:28:21.501Z"
   },
   {
    "duration": 230,
    "start_time": "2022-03-15T16:28:21.528Z"
   },
   {
    "duration": 480,
    "start_time": "2022-03-15T16:28:21.761Z"
   },
   {
    "duration": 455,
    "start_time": "2022-03-15T16:28:22.245Z"
   },
   {
    "duration": 471,
    "start_time": "2022-03-15T16:28:22.703Z"
   },
   {
    "duration": 35,
    "start_time": "2022-03-15T16:28:23.177Z"
   },
   {
    "duration": 944,
    "start_time": "2022-03-15T16:28:23.214Z"
   },
   {
    "duration": 913,
    "start_time": "2022-03-15T16:28:24.160Z"
   },
   {
    "duration": 385,
    "start_time": "2022-03-15T19:44:24.045Z"
   },
   {
    "duration": 88,
    "start_time": "2022-03-15T19:44:29.349Z"
   },
   {
    "duration": 336,
    "start_time": "2022-03-15T19:44:57.094Z"
   },
   {
    "duration": 45,
    "start_time": "2022-03-15T19:45:23.977Z"
   },
   {
    "duration": 50,
    "start_time": "2022-03-15T19:45:39.988Z"
   },
   {
    "duration": 3080,
    "start_time": "2022-03-15T19:46:13.659Z"
   },
   {
    "duration": 36,
    "start_time": "2022-03-15T19:48:55.355Z"
   },
   {
    "duration": 3655,
    "start_time": "2022-03-15T20:09:09.491Z"
   },
   {
    "duration": 1539,
    "start_time": "2022-03-15T20:10:15.794Z"
   },
   {
    "duration": 662,
    "start_time": "2022-03-15T20:10:50.370Z"
   },
   {
    "duration": 53,
    "start_time": "2022-03-15T20:26:25.845Z"
   },
   {
    "duration": 30,
    "start_time": "2022-03-15T20:26:34.589Z"
   },
   {
    "duration": 21,
    "start_time": "2022-03-15T20:28:39.474Z"
   },
   {
    "duration": 22,
    "start_time": "2022-03-15T20:29:47.536Z"
   },
   {
    "duration": 20,
    "start_time": "2022-03-15T20:30:11.710Z"
   },
   {
    "duration": 641,
    "start_time": "2022-03-15T20:31:51.299Z"
   },
   {
    "duration": 687,
    "start_time": "2022-03-15T20:34:44.895Z"
   },
   {
    "duration": 33,
    "start_time": "2022-03-15T20:36:48.715Z"
   },
   {
    "duration": 665,
    "start_time": "2022-03-15T20:43:34.432Z"
   },
   {
    "duration": 179,
    "start_time": "2022-03-15T20:45:59.684Z"
   },
   {
    "duration": 28,
    "start_time": "2022-03-15T20:46:16.755Z"
   },
   {
    "duration": 22,
    "start_time": "2022-03-15T20:46:36.091Z"
   },
   {
    "duration": 178,
    "start_time": "2022-03-15T20:46:59.290Z"
   },
   {
    "duration": 23,
    "start_time": "2022-03-15T20:47:07.601Z"
   },
   {
    "duration": 21,
    "start_time": "2022-03-15T20:47:36.760Z"
   },
   {
    "duration": 1816,
    "start_time": "2022-03-15T20:57:21.597Z"
   },
   {
    "duration": 76,
    "start_time": "2022-03-15T20:57:23.416Z"
   },
   {
    "duration": 32,
    "start_time": "2022-03-15T20:57:23.494Z"
   },
   {
    "duration": 17,
    "start_time": "2022-03-15T20:57:23.529Z"
   },
   {
    "duration": 57,
    "start_time": "2022-03-15T20:57:23.549Z"
   },
   {
    "duration": 230,
    "start_time": "2022-03-15T20:57:23.609Z"
   },
   {
    "duration": 479,
    "start_time": "2022-03-15T20:57:23.842Z"
   },
   {
    "duration": 483,
    "start_time": "2022-03-15T20:57:24.324Z"
   },
   {
    "duration": 494,
    "start_time": "2022-03-15T20:57:24.809Z"
   },
   {
    "duration": 31,
    "start_time": "2022-03-15T20:57:25.305Z"
   },
   {
    "duration": 990,
    "start_time": "2022-03-15T20:57:25.338Z"
   },
   {
    "duration": 684,
    "start_time": "2022-03-15T20:57:26.331Z"
   },
   {
    "duration": 37,
    "start_time": "2022-03-15T20:57:27.017Z"
   },
   {
    "duration": 948,
    "start_time": "2022-03-15T20:57:27.056Z"
   },
   {
    "duration": 706,
    "start_time": "2022-03-15T20:57:28.007Z"
   },
   {
    "duration": 23,
    "start_time": "2022-03-15T20:57:28.716Z"
   },
   {
    "duration": 21,
    "start_time": "2022-03-15T20:57:54.071Z"
   },
   {
    "duration": 1960,
    "start_time": "2022-03-15T21:00:52.718Z"
   },
   {
    "duration": 78,
    "start_time": "2022-03-15T21:00:54.680Z"
   },
   {
    "duration": 42,
    "start_time": "2022-03-15T21:00:54.762Z"
   },
   {
    "duration": 15,
    "start_time": "2022-03-15T21:00:54.807Z"
   },
   {
    "duration": 28,
    "start_time": "2022-03-15T21:00:54.824Z"
   },
   {
    "duration": 242,
    "start_time": "2022-03-15T21:00:54.855Z"
   },
   {
    "duration": 473,
    "start_time": "2022-03-15T21:00:55.099Z"
   },
   {
    "duration": 458,
    "start_time": "2022-03-15T21:00:55.576Z"
   },
   {
    "duration": 453,
    "start_time": "2022-03-15T21:00:56.036Z"
   },
   {
    "duration": 31,
    "start_time": "2022-03-15T21:00:56.492Z"
   },
   {
    "duration": 901,
    "start_time": "2022-03-15T21:00:56.525Z"
   },
   {
    "duration": 669,
    "start_time": "2022-03-15T21:00:57.428Z"
   },
   {
    "duration": 38,
    "start_time": "2022-03-15T21:00:58.100Z"
   },
   {
    "duration": 1029,
    "start_time": "2022-03-15T21:00:58.141Z"
   },
   {
    "duration": 26,
    "start_time": "2022-03-15T21:01:59.791Z"
   },
   {
    "duration": 708,
    "start_time": "2022-03-15T21:01:59.820Z"
   },
   {
    "duration": 677,
    "start_time": "2022-03-15T21:02:45.483Z"
   },
   {
    "duration": 401,
    "start_time": "2022-03-15T23:03:20.875Z"
   },
   {
    "duration": 68,
    "start_time": "2022-03-15T23:03:45.076Z"
   },
   {
    "duration": 80,
    "start_time": "2022-03-15T23:03:58.133Z"
   },
   {
    "duration": 1803,
    "start_time": "2022-03-15T23:04:31.808Z"
   },
   {
    "duration": 75,
    "start_time": "2022-03-15T23:04:33.614Z"
   },
   {
    "duration": 30,
    "start_time": "2022-03-15T23:04:33.693Z"
   },
   {
    "duration": 16,
    "start_time": "2022-03-15T23:04:33.725Z"
   },
   {
    "duration": 52,
    "start_time": "2022-03-15T23:04:33.743Z"
   },
   {
    "duration": 214,
    "start_time": "2022-03-15T23:04:33.797Z"
   },
   {
    "duration": 473,
    "start_time": "2022-03-15T23:04:34.014Z"
   },
   {
    "duration": 449,
    "start_time": "2022-03-15T23:04:34.490Z"
   },
   {
    "duration": 468,
    "start_time": "2022-03-15T23:04:34.941Z"
   },
   {
    "duration": 31,
    "start_time": "2022-03-15T23:04:35.411Z"
   },
   {
    "duration": 941,
    "start_time": "2022-03-15T23:04:35.445Z"
   },
   {
    "duration": 671,
    "start_time": "2022-03-15T23:04:36.389Z"
   },
   {
    "duration": 49,
    "start_time": "2022-03-15T23:04:37.063Z"
   },
   {
    "duration": 1697,
    "start_time": "2022-03-15T23:04:37.115Z"
   },
   {
    "duration": 680,
    "start_time": "2022-03-15T23:04:38.815Z"
   },
   {
    "duration": 24,
    "start_time": "2022-03-15T23:04:39.497Z"
   },
   {
    "duration": 104,
    "start_time": "2022-03-15T23:04:39.523Z"
   },
   {
    "duration": 9,
    "start_time": "2022-03-15T23:06:01.829Z"
   },
   {
    "duration": 106,
    "start_time": "2022-03-15T23:07:26.032Z"
   },
   {
    "duration": 148,
    "start_time": "2022-03-15T23:08:33.576Z"
   },
   {
    "duration": 388,
    "start_time": "2022-03-15T23:09:36.713Z"
   },
   {
    "duration": 155,
    "start_time": "2022-03-15T23:09:52.619Z"
   },
   {
    "duration": 24,
    "start_time": "2022-03-15T23:11:44.309Z"
   },
   {
    "duration": 31,
    "start_time": "2022-03-15T23:13:44.684Z"
   },
   {
    "duration": 11,
    "start_time": "2022-03-15T23:14:04.435Z"
   },
   {
    "duration": 10,
    "start_time": "2022-03-15T23:14:27.747Z"
   },
   {
    "duration": 24,
    "start_time": "2022-03-15T23:14:32.123Z"
   },
   {
    "duration": 26,
    "start_time": "2022-03-15T23:22:26.421Z"
   },
   {
    "duration": 28,
    "start_time": "2022-03-15T23:23:49.171Z"
   },
   {
    "duration": 123,
    "start_time": "2022-03-15T23:24:10.810Z"
   },
   {
    "duration": 23,
    "start_time": "2022-03-15T23:24:58.598Z"
   },
   {
    "duration": 170,
    "start_time": "2022-03-15T23:37:11.379Z"
   },
   {
    "duration": 21,
    "start_time": "2022-03-15T23:37:19.595Z"
   },
   {
    "duration": 1131,
    "start_time": "2022-03-15T23:45:31.677Z"
   },
   {
    "duration": 1105,
    "start_time": "2022-03-15T23:47:12.211Z"
   },
   {
    "duration": 827,
    "start_time": "2022-03-15T23:47:25.693Z"
   },
   {
    "duration": 919,
    "start_time": "2022-03-15T23:48:43.439Z"
   },
   {
    "duration": 13,
    "start_time": "2022-03-15T23:54:31.150Z"
   },
   {
    "duration": 255,
    "start_time": "2022-03-16T22:55:52.924Z"
   },
   {
    "duration": 1468,
    "start_time": "2022-03-16T22:56:01.530Z"
   },
   {
    "duration": 54,
    "start_time": "2022-03-16T22:56:02.999Z"
   },
   {
    "duration": 21,
    "start_time": "2022-03-16T22:56:03.055Z"
   },
   {
    "duration": 10,
    "start_time": "2022-03-16T22:56:03.078Z"
   },
   {
    "duration": 19,
    "start_time": "2022-03-16T22:56:03.090Z"
   },
   {
    "duration": 129,
    "start_time": "2022-03-16T22:56:03.111Z"
   },
   {
    "duration": 275,
    "start_time": "2022-03-16T22:56:03.241Z"
   },
   {
    "duration": 267,
    "start_time": "2022-03-16T22:56:03.518Z"
   },
   {
    "duration": 263,
    "start_time": "2022-03-16T22:56:03.787Z"
   },
   {
    "duration": 28,
    "start_time": "2022-03-16T22:56:04.052Z"
   },
   {
    "duration": 565,
    "start_time": "2022-03-16T22:56:04.081Z"
   },
   {
    "duration": 387,
    "start_time": "2022-03-16T22:56:04.648Z"
   },
   {
    "duration": 37,
    "start_time": "2022-03-16T22:56:05.037Z"
   },
   {
    "duration": 1302,
    "start_time": "2022-03-16T22:56:05.076Z"
   },
   {
    "duration": 389,
    "start_time": "2022-03-16T22:56:06.379Z"
   },
   {
    "duration": 14,
    "start_time": "2022-03-16T22:56:06.770Z"
   },
   {
    "duration": 17,
    "start_time": "2022-03-16T22:56:06.786Z"
   },
   {
    "duration": 7,
    "start_time": "2022-03-16T22:56:06.804Z"
   },
   {
    "duration": 503,
    "start_time": "2022-03-16T22:56:06.813Z"
   },
   {
    "duration": 7,
    "start_time": "2022-03-16T22:56:07.318Z"
   },
   {
    "duration": 8,
    "start_time": "2022-03-16T23:00:35.311Z"
   },
   {
    "duration": 7,
    "start_time": "2022-03-16T23:01:03.495Z"
   },
   {
    "duration": 1396,
    "start_time": "2022-03-16T23:01:10.394Z"
   },
   {
    "duration": 54,
    "start_time": "2022-03-16T23:01:11.792Z"
   },
   {
    "duration": 21,
    "start_time": "2022-03-16T23:01:11.848Z"
   },
   {
    "duration": 10,
    "start_time": "2022-03-16T23:01:11.870Z"
   },
   {
    "duration": 20,
    "start_time": "2022-03-16T23:01:11.882Z"
   },
   {
    "duration": 131,
    "start_time": "2022-03-16T23:01:11.904Z"
   },
   {
    "duration": 281,
    "start_time": "2022-03-16T23:01:12.037Z"
   },
   {
    "duration": 280,
    "start_time": "2022-03-16T23:01:12.320Z"
   },
   {
    "duration": 282,
    "start_time": "2022-03-16T23:01:12.602Z"
   },
   {
    "duration": 19,
    "start_time": "2022-03-16T23:01:12.886Z"
   },
   {
    "duration": 570,
    "start_time": "2022-03-16T23:01:12.906Z"
   },
   {
    "duration": 387,
    "start_time": "2022-03-16T23:01:13.478Z"
   },
   {
    "duration": 27,
    "start_time": "2022-03-16T23:01:13.867Z"
   },
   {
    "duration": 998,
    "start_time": "2022-03-16T23:01:13.896Z"
   },
   {
    "duration": 397,
    "start_time": "2022-03-16T23:01:14.896Z"
   },
   {
    "duration": 16,
    "start_time": "2022-03-16T23:01:15.295Z"
   },
   {
    "duration": 17,
    "start_time": "2022-03-16T23:01:15.312Z"
   },
   {
    "duration": 6,
    "start_time": "2022-03-16T23:01:15.331Z"
   },
   {
    "duration": 502,
    "start_time": "2022-03-16T23:01:15.339Z"
   },
   {
    "duration": 8,
    "start_time": "2022-03-16T23:01:15.843Z"
   },
   {
    "duration": 8,
    "start_time": "2022-03-16T23:01:29.848Z"
   },
   {
    "duration": 2006,
    "start_time": "2022-03-16T23:06:01.937Z"
   },
   {
    "duration": 481,
    "start_time": "2022-03-16T23:06:22.600Z"
   },
   {
    "duration": 395,
    "start_time": "2022-03-16T23:06:42.568Z"
   },
   {
    "duration": 481,
    "start_time": "2022-03-16T23:07:02.639Z"
   },
   {
    "duration": 8,
    "start_time": "2022-03-16T23:11:14.542Z"
   },
   {
    "duration": 385,
    "start_time": "2022-03-16T23:13:48.395Z"
   },
   {
    "duration": 470,
    "start_time": "2022-03-16T23:14:23.401Z"
   },
   {
    "duration": 1592,
    "start_time": "2022-03-16T23:40:27.904Z"
   },
   {
    "duration": 58,
    "start_time": "2022-03-16T23:40:29.498Z"
   },
   {
    "duration": 20,
    "start_time": "2022-03-16T23:40:29.558Z"
   },
   {
    "duration": 10,
    "start_time": "2022-03-16T23:40:29.580Z"
   },
   {
    "duration": 17,
    "start_time": "2022-03-16T23:40:29.592Z"
   },
   {
    "duration": 130,
    "start_time": "2022-03-16T23:40:29.610Z"
   },
   {
    "duration": 284,
    "start_time": "2022-03-16T23:40:29.742Z"
   },
   {
    "duration": 268,
    "start_time": "2022-03-16T23:40:30.028Z"
   },
   {
    "duration": 275,
    "start_time": "2022-03-16T23:40:30.298Z"
   },
   {
    "duration": 20,
    "start_time": "2022-03-16T23:40:30.575Z"
   },
   {
    "duration": 578,
    "start_time": "2022-03-16T23:40:30.597Z"
   },
   {
    "duration": 392,
    "start_time": "2022-03-16T23:40:31.178Z"
   },
   {
    "duration": 28,
    "start_time": "2022-03-16T23:40:31.572Z"
   },
   {
    "duration": 1234,
    "start_time": "2022-03-16T23:40:31.603Z"
   },
   {
    "duration": 396,
    "start_time": "2022-03-16T23:40:32.839Z"
   },
   {
    "duration": 27,
    "start_time": "2022-03-16T23:40:33.237Z"
   },
   {
    "duration": 17,
    "start_time": "2022-03-16T23:40:33.266Z"
   },
   {
    "duration": 9,
    "start_time": "2022-03-16T23:40:33.285Z"
   },
   {
    "duration": 531,
    "start_time": "2022-03-16T23:40:33.295Z"
   },
   {
    "duration": 8,
    "start_time": "2022-03-16T23:40:33.828Z"
   },
   {
    "duration": 16,
    "start_time": "2022-03-16T23:40:47.712Z"
   },
   {
    "duration": 1537,
    "start_time": "2022-03-17T05:39:08.703Z"
   },
   {
    "duration": 54,
    "start_time": "2022-03-17T05:39:10.241Z"
   },
   {
    "duration": 20,
    "start_time": "2022-03-17T05:39:10.297Z"
   },
   {
    "duration": 18,
    "start_time": "2022-03-17T05:39:10.320Z"
   },
   {
    "duration": 22,
    "start_time": "2022-03-17T05:39:10.339Z"
   },
   {
    "duration": 125,
    "start_time": "2022-03-17T05:39:10.363Z"
   },
   {
    "duration": 309,
    "start_time": "2022-03-17T05:39:10.490Z"
   },
   {
    "duration": 271,
    "start_time": "2022-03-17T05:39:10.802Z"
   },
   {
    "duration": 282,
    "start_time": "2022-03-17T05:39:11.075Z"
   },
   {
    "duration": 22,
    "start_time": "2022-03-17T05:39:11.359Z"
   },
   {
    "duration": 638,
    "start_time": "2022-03-17T05:39:11.383Z"
   },
   {
    "duration": 411,
    "start_time": "2022-03-17T05:39:12.023Z"
   },
   {
    "duration": 26,
    "start_time": "2022-03-17T05:39:12.437Z"
   },
   {
    "duration": 1630,
    "start_time": "2022-03-17T05:39:12.465Z"
   },
   {
    "duration": 431,
    "start_time": "2022-03-17T05:39:14.097Z"
   },
   {
    "duration": 22,
    "start_time": "2022-03-17T05:39:14.531Z"
   },
   {
    "duration": 16,
    "start_time": "2022-03-17T05:39:14.555Z"
   },
   {
    "duration": 7,
    "start_time": "2022-03-17T05:39:14.572Z"
   },
   {
    "duration": 544,
    "start_time": "2022-03-17T05:39:14.580Z"
   },
   {
    "duration": 15,
    "start_time": "2022-03-17T05:39:15.126Z"
   },
   {
    "duration": 1477,
    "start_time": "2022-03-18T16:06:06.218Z"
   },
   {
    "duration": 71,
    "start_time": "2022-03-18T16:06:07.697Z"
   },
   {
    "duration": 21,
    "start_time": "2022-03-18T16:06:07.770Z"
   },
   {
    "duration": 10,
    "start_time": "2022-03-18T16:06:07.793Z"
   },
   {
    "duration": 40,
    "start_time": "2022-03-18T16:06:07.805Z"
   },
   {
    "duration": 6,
    "start_time": "2022-03-18T16:06:07.846Z"
   },
   {
    "duration": 230,
    "start_time": "2022-03-18T16:06:07.854Z"
   },
   {
    "duration": 167,
    "start_time": "2022-03-18T16:06:08.086Z"
   },
   {
    "duration": 161,
    "start_time": "2022-03-18T16:06:08.254Z"
   },
   {
    "duration": 27,
    "start_time": "2022-03-18T16:06:08.418Z"
   },
   {
    "duration": 322,
    "start_time": "2022-03-18T16:06:08.447Z"
   },
   {
    "duration": 235,
    "start_time": "2022-03-18T16:06:08.770Z"
   },
   {
    "duration": 30,
    "start_time": "2022-03-18T16:06:09.007Z"
   },
   {
    "duration": 1194,
    "start_time": "2022-03-18T16:06:09.039Z"
   },
   {
    "duration": 238,
    "start_time": "2022-03-18T16:06:10.235Z"
   },
   {
    "duration": 15,
    "start_time": "2022-03-18T16:06:10.475Z"
   },
   {
    "duration": 15,
    "start_time": "2022-03-18T16:06:10.491Z"
   },
   {
    "duration": 28,
    "start_time": "2022-03-18T16:06:10.508Z"
   },
   {
    "duration": 426,
    "start_time": "2022-03-18T16:06:10.538Z"
   },
   {
    "duration": 8,
    "start_time": "2022-03-18T16:06:10.966Z"
   },
   {
    "duration": 1145,
    "start_time": "2022-03-18T16:07:41.666Z"
   },
   {
    "duration": 70,
    "start_time": "2022-03-18T16:07:42.813Z"
   },
   {
    "duration": 21,
    "start_time": "2022-03-18T16:07:42.884Z"
   },
   {
    "duration": 27,
    "start_time": "2022-03-18T16:07:42.907Z"
   },
   {
    "duration": 19,
    "start_time": "2022-03-18T16:07:42.936Z"
   },
   {
    "duration": 6,
    "start_time": "2022-03-18T16:07:42.957Z"
   },
   {
    "duration": 246,
    "start_time": "2022-03-18T16:07:42.965Z"
   },
   {
    "duration": 162,
    "start_time": "2022-03-18T16:07:43.214Z"
   },
   {
    "duration": 166,
    "start_time": "2022-03-18T16:07:43.378Z"
   },
   {
    "duration": 20,
    "start_time": "2022-03-18T16:07:43.547Z"
   },
   {
    "duration": 326,
    "start_time": "2022-03-18T16:07:43.568Z"
   },
   {
    "duration": 234,
    "start_time": "2022-03-18T16:07:43.896Z"
   },
   {
    "duration": 25,
    "start_time": "2022-03-18T16:07:44.132Z"
   },
   {
    "duration": 875,
    "start_time": "2022-03-18T16:07:44.159Z"
   },
   {
    "duration": 246,
    "start_time": "2022-03-18T16:07:45.035Z"
   },
   {
    "duration": 15,
    "start_time": "2022-03-18T16:07:45.283Z"
   },
   {
    "duration": 33,
    "start_time": "2022-03-18T16:07:45.299Z"
   },
   {
    "duration": 6,
    "start_time": "2022-03-18T16:07:45.334Z"
   },
   {
    "duration": 423,
    "start_time": "2022-03-18T16:07:45.342Z"
   },
   {
    "duration": 8,
    "start_time": "2022-03-18T16:07:45.767Z"
   },
   {
    "duration": 1158,
    "start_time": "2022-03-18T17:31:49.257Z"
   },
   {
    "duration": 74,
    "start_time": "2022-03-18T17:31:50.417Z"
   },
   {
    "duration": 22,
    "start_time": "2022-03-18T17:31:50.493Z"
   },
   {
    "duration": 11,
    "start_time": "2022-03-18T17:31:50.532Z"
   },
   {
    "duration": 22,
    "start_time": "2022-03-18T17:31:50.545Z"
   },
   {
    "duration": 7,
    "start_time": "2022-03-18T17:31:50.569Z"
   },
   {
    "duration": 241,
    "start_time": "2022-03-18T17:31:50.577Z"
   },
   {
    "duration": 168,
    "start_time": "2022-03-18T17:31:50.820Z"
   },
   {
    "duration": 164,
    "start_time": "2022-03-18T17:31:50.990Z"
   },
   {
    "duration": 19,
    "start_time": "2022-03-18T17:31:51.157Z"
   },
   {
    "duration": 333,
    "start_time": "2022-03-18T17:31:51.178Z"
   },
   {
    "duration": 243,
    "start_time": "2022-03-18T17:31:51.513Z"
   },
   {
    "duration": 27,
    "start_time": "2022-03-18T17:31:51.758Z"
   },
   {
    "duration": 1078,
    "start_time": "2022-03-18T17:31:51.787Z"
   },
   {
    "duration": 235,
    "start_time": "2022-03-18T17:31:52.867Z"
   },
   {
    "duration": 16,
    "start_time": "2022-03-18T17:31:53.103Z"
   },
   {
    "duration": 15,
    "start_time": "2022-03-18T17:31:53.132Z"
   },
   {
    "duration": 6,
    "start_time": "2022-03-18T17:31:53.149Z"
   },
   {
    "duration": 425,
    "start_time": "2022-03-18T17:31:53.156Z"
   },
   {
    "duration": 8,
    "start_time": "2022-03-18T17:31:53.583Z"
   },
   {
    "duration": 1179,
    "start_time": "2022-06-20T14:38:17.852Z"
   },
   {
    "duration": 137,
    "start_time": "2022-06-20T14:38:19.033Z"
   },
   {
    "duration": 20,
    "start_time": "2022-06-20T14:38:19.172Z"
   },
   {
    "duration": 9,
    "start_time": "2022-06-20T14:38:19.194Z"
   },
   {
    "duration": 22,
    "start_time": "2022-06-20T14:38:19.204Z"
   },
   {
    "duration": 5,
    "start_time": "2022-06-20T14:38:19.227Z"
   },
   {
    "duration": 252,
    "start_time": "2022-06-20T14:38:19.233Z"
   },
   {
    "duration": 157,
    "start_time": "2022-06-20T14:38:19.486Z"
   },
   {
    "duration": 174,
    "start_time": "2022-06-20T14:38:19.644Z"
   },
   {
    "duration": 21,
    "start_time": "2022-06-20T14:38:19.820Z"
   },
   {
    "duration": 325,
    "start_time": "2022-06-20T14:38:19.843Z"
   },
   {
    "duration": 239,
    "start_time": "2022-06-20T14:38:20.169Z"
   },
   {
    "duration": 41,
    "start_time": "2022-06-20T14:38:20.410Z"
   },
   {
    "duration": 1419,
    "start_time": "2022-06-20T14:38:20.452Z"
   },
   {
    "duration": 231,
    "start_time": "2022-06-20T14:38:21.873Z"
   },
   {
    "duration": 23,
    "start_time": "2022-06-20T14:38:22.106Z"
   },
   {
    "duration": 14,
    "start_time": "2022-06-20T14:38:22.131Z"
   },
   {
    "duration": 6,
    "start_time": "2022-06-20T14:38:22.146Z"
   },
   {
    "duration": 430,
    "start_time": "2022-06-20T14:38:22.153Z"
   },
   {
    "duration": 7,
    "start_time": "2022-06-20T14:38:22.585Z"
   }
  ],
  "kernelspec": {
   "display_name": "Python 3 (ipykernel)",
   "language": "python",
   "name": "python3"
  },
  "language_info": {
   "codemirror_mode": {
    "name": "ipython",
    "version": 3
   },
   "file_extension": ".py",
   "mimetype": "text/x-python",
   "name": "python",
   "nbconvert_exporter": "python",
   "pygments_lexer": "ipython3",
   "version": "3.9.7"
  },
  "toc": {
   "base_numbering": 1,
   "nav_menu": {},
   "number_sections": true,
   "sideBar": true,
   "skip_h1_title": true,
   "title_cell": "Table of Contents",
   "title_sidebar": "Contents",
   "toc_cell": false,
   "toc_position": {},
   "toc_section_display": true,
   "toc_window_display": false
  }
 },
 "nbformat": 4,
 "nbformat_minor": 2
}
