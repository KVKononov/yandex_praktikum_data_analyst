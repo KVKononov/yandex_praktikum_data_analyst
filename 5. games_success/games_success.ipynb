{
 "cells": [
  {
   "cell_type": "markdown",
   "metadata": {},
   "source": [
    "# Сборный проект\n",
    "\n",
    "Вы работаете в интернет-магазине «Стримчик», который продаёт по всему миру компьютерные игры. Из открытых источников доступны исторические данные о продажах игр, оценки пользователей и экспертов, жанры и платформы (например, Xbox или PlayStation). Вам нужно выявить определяющие успешность игры закономерности. Это позволит сделать ставку на потенциально популярный продукт и спланировать рекламные кампании.\n",
    "Перед вами данные до 2016 года. Представим, что сейчас декабрь 2016 г., и вы планируете кампанию на 2017-й. Нужно отработать принцип работы с данными. Неважно, прогнозируете ли вы продажи на 2017 год по данным 2016-го или же 2027-й — по данным 2026 года.\n",
    "В наборе данных попадается аббревиатура ESRB (Entertainment Software Rating Board) — это ассоциация, определяющая возрастной рейтинг компьютерных игр. ESRB оценивает игровой контент и присваивает ему подходящую возрастную категорию, например, «Для взрослых», «Для детей младшего возраста» или «Для подростков»."
   ]
  },
  {
   "cell_type": "markdown",
   "metadata": {},
   "source": [
    "## Оглавление\n",
    "\n",
    "1. [Изучение данных из файла](#id)\n",
    "2. [Предобработка данных](#pd)\n",
    "3. [Исследовательский анализ данных](#ia)\n",
    "4. [Составление портрета пользователя каждого региона](#sp)\n",
    "5. [Проверка гипотез](#pg)\n",
    "6. [Общий вывод](#ov)"
   ]
  },
  {
   "cell_type": "markdown",
   "metadata": {},
   "source": [
    "##  1. Изучение данных из файла <a class=\"anchor\" id=\"id\"></a>"
   ]
  },
  {
   "cell_type": "code",
   "execution_count": 1,
   "metadata": {
    "scrolled": true
   },
   "outputs": [
    {
     "data": {
      "text/html": [
       "<div>\n",
       "<style scoped>\n",
       "    .dataframe tbody tr th:only-of-type {\n",
       "        vertical-align: middle;\n",
       "    }\n",
       "\n",
       "    .dataframe tbody tr th {\n",
       "        vertical-align: top;\n",
       "    }\n",
       "\n",
       "    .dataframe thead th {\n",
       "        text-align: right;\n",
       "    }\n",
       "</style>\n",
       "<table border=\"1\" class=\"dataframe\">\n",
       "  <thead>\n",
       "    <tr style=\"text-align: right;\">\n",
       "      <th></th>\n",
       "      <th>Name</th>\n",
       "      <th>Platform</th>\n",
       "      <th>Year_of_Release</th>\n",
       "      <th>Genre</th>\n",
       "      <th>NA_sales</th>\n",
       "      <th>EU_sales</th>\n",
       "      <th>JP_sales</th>\n",
       "      <th>Other_sales</th>\n",
       "      <th>Critic_Score</th>\n",
       "      <th>User_Score</th>\n",
       "      <th>Rating</th>\n",
       "    </tr>\n",
       "  </thead>\n",
       "  <tbody>\n",
       "    <tr>\n",
       "      <td>0</td>\n",
       "      <td>Wii Sports</td>\n",
       "      <td>Wii</td>\n",
       "      <td>2006.0</td>\n",
       "      <td>Sports</td>\n",
       "      <td>41.36</td>\n",
       "      <td>28.96</td>\n",
       "      <td>3.77</td>\n",
       "      <td>8.45</td>\n",
       "      <td>76.0</td>\n",
       "      <td>8</td>\n",
       "      <td>E</td>\n",
       "    </tr>\n",
       "    <tr>\n",
       "      <td>1</td>\n",
       "      <td>Super Mario Bros.</td>\n",
       "      <td>NES</td>\n",
       "      <td>1985.0</td>\n",
       "      <td>Platform</td>\n",
       "      <td>29.08</td>\n",
       "      <td>3.58</td>\n",
       "      <td>6.81</td>\n",
       "      <td>0.77</td>\n",
       "      <td>NaN</td>\n",
       "      <td>NaN</td>\n",
       "      <td>NaN</td>\n",
       "    </tr>\n",
       "    <tr>\n",
       "      <td>2</td>\n",
       "      <td>Mario Kart Wii</td>\n",
       "      <td>Wii</td>\n",
       "      <td>2008.0</td>\n",
       "      <td>Racing</td>\n",
       "      <td>15.68</td>\n",
       "      <td>12.76</td>\n",
       "      <td>3.79</td>\n",
       "      <td>3.29</td>\n",
       "      <td>82.0</td>\n",
       "      <td>8.3</td>\n",
       "      <td>E</td>\n",
       "    </tr>\n",
       "    <tr>\n",
       "      <td>3</td>\n",
       "      <td>Wii Sports Resort</td>\n",
       "      <td>Wii</td>\n",
       "      <td>2009.0</td>\n",
       "      <td>Sports</td>\n",
       "      <td>15.61</td>\n",
       "      <td>10.93</td>\n",
       "      <td>3.28</td>\n",
       "      <td>2.95</td>\n",
       "      <td>80.0</td>\n",
       "      <td>8</td>\n",
       "      <td>E</td>\n",
       "    </tr>\n",
       "    <tr>\n",
       "      <td>4</td>\n",
       "      <td>Pokemon Red/Pokemon Blue</td>\n",
       "      <td>GB</td>\n",
       "      <td>1996.0</td>\n",
       "      <td>Role-Playing</td>\n",
       "      <td>11.27</td>\n",
       "      <td>8.89</td>\n",
       "      <td>10.22</td>\n",
       "      <td>1.00</td>\n",
       "      <td>NaN</td>\n",
       "      <td>NaN</td>\n",
       "      <td>NaN</td>\n",
       "    </tr>\n",
       "  </tbody>\n",
       "</table>\n",
       "</div>"
      ],
      "text/plain": [
       "                       Name Platform  Year_of_Release         Genre  NA_sales  \\\n",
       "0                Wii Sports      Wii           2006.0        Sports     41.36   \n",
       "1         Super Mario Bros.      NES           1985.0      Platform     29.08   \n",
       "2            Mario Kart Wii      Wii           2008.0        Racing     15.68   \n",
       "3         Wii Sports Resort      Wii           2009.0        Sports     15.61   \n",
       "4  Pokemon Red/Pokemon Blue       GB           1996.0  Role-Playing     11.27   \n",
       "\n",
       "   EU_sales  JP_sales  Other_sales  Critic_Score User_Score Rating  \n",
       "0     28.96      3.77         8.45          76.0          8      E  \n",
       "1      3.58      6.81         0.77           NaN        NaN    NaN  \n",
       "2     12.76      3.79         3.29          82.0        8.3      E  \n",
       "3     10.93      3.28         2.95          80.0          8      E  \n",
       "4      8.89     10.22         1.00           NaN        NaN    NaN  "
      ]
     },
     "metadata": {},
     "output_type": "display_data"
    },
    {
     "name": "stdout",
     "output_type": "stream",
     "text": [
      "<class 'pandas.core.frame.DataFrame'>\n",
      "RangeIndex: 16715 entries, 0 to 16714\n",
      "Data columns (total 11 columns):\n",
      "Name               16713 non-null object\n",
      "Platform           16715 non-null object\n",
      "Year_of_Release    16446 non-null float64\n",
      "Genre              16713 non-null object\n",
      "NA_sales           16715 non-null float64\n",
      "EU_sales           16715 non-null float64\n",
      "JP_sales           16715 non-null float64\n",
      "Other_sales        16715 non-null float64\n",
      "Critic_Score       8137 non-null float64\n",
      "User_Score         10014 non-null object\n",
      "Rating             9949 non-null object\n",
      "dtypes: float64(6), object(5)\n",
      "memory usage: 1.4+ MB\n"
     ]
    },
    {
     "data": {
      "text/html": [
       "<div>\n",
       "<style scoped>\n",
       "    .dataframe tbody tr th:only-of-type {\n",
       "        vertical-align: middle;\n",
       "    }\n",
       "\n",
       "    .dataframe tbody tr th {\n",
       "        vertical-align: top;\n",
       "    }\n",
       "\n",
       "    .dataframe thead th {\n",
       "        text-align: right;\n",
       "    }\n",
       "</style>\n",
       "<table border=\"1\" class=\"dataframe\">\n",
       "  <thead>\n",
       "    <tr style=\"text-align: right;\">\n",
       "      <th></th>\n",
       "      <th>Year_of_Release</th>\n",
       "      <th>NA_sales</th>\n",
       "      <th>EU_sales</th>\n",
       "      <th>JP_sales</th>\n",
       "      <th>Other_sales</th>\n",
       "      <th>Critic_Score</th>\n",
       "    </tr>\n",
       "  </thead>\n",
       "  <tbody>\n",
       "    <tr>\n",
       "      <td>count</td>\n",
       "      <td>16446.000000</td>\n",
       "      <td>16715.000000</td>\n",
       "      <td>16715.000000</td>\n",
       "      <td>16715.000000</td>\n",
       "      <td>16715.000000</td>\n",
       "      <td>8137.000000</td>\n",
       "    </tr>\n",
       "    <tr>\n",
       "      <td>mean</td>\n",
       "      <td>2006.484616</td>\n",
       "      <td>0.263377</td>\n",
       "      <td>0.145060</td>\n",
       "      <td>0.077617</td>\n",
       "      <td>0.047342</td>\n",
       "      <td>68.967679</td>\n",
       "    </tr>\n",
       "    <tr>\n",
       "      <td>std</td>\n",
       "      <td>5.877050</td>\n",
       "      <td>0.813604</td>\n",
       "      <td>0.503339</td>\n",
       "      <td>0.308853</td>\n",
       "      <td>0.186731</td>\n",
       "      <td>13.938165</td>\n",
       "    </tr>\n",
       "    <tr>\n",
       "      <td>min</td>\n",
       "      <td>1980.000000</td>\n",
       "      <td>0.000000</td>\n",
       "      <td>0.000000</td>\n",
       "      <td>0.000000</td>\n",
       "      <td>0.000000</td>\n",
       "      <td>13.000000</td>\n",
       "    </tr>\n",
       "    <tr>\n",
       "      <td>25%</td>\n",
       "      <td>2003.000000</td>\n",
       "      <td>0.000000</td>\n",
       "      <td>0.000000</td>\n",
       "      <td>0.000000</td>\n",
       "      <td>0.000000</td>\n",
       "      <td>60.000000</td>\n",
       "    </tr>\n",
       "    <tr>\n",
       "      <td>50%</td>\n",
       "      <td>2007.000000</td>\n",
       "      <td>0.080000</td>\n",
       "      <td>0.020000</td>\n",
       "      <td>0.000000</td>\n",
       "      <td>0.010000</td>\n",
       "      <td>71.000000</td>\n",
       "    </tr>\n",
       "    <tr>\n",
       "      <td>75%</td>\n",
       "      <td>2010.000000</td>\n",
       "      <td>0.240000</td>\n",
       "      <td>0.110000</td>\n",
       "      <td>0.040000</td>\n",
       "      <td>0.030000</td>\n",
       "      <td>79.000000</td>\n",
       "    </tr>\n",
       "    <tr>\n",
       "      <td>max</td>\n",
       "      <td>2016.000000</td>\n",
       "      <td>41.360000</td>\n",
       "      <td>28.960000</td>\n",
       "      <td>10.220000</td>\n",
       "      <td>10.570000</td>\n",
       "      <td>98.000000</td>\n",
       "    </tr>\n",
       "  </tbody>\n",
       "</table>\n",
       "</div>"
      ],
      "text/plain": [
       "       Year_of_Release      NA_sales      EU_sales      JP_sales  \\\n",
       "count     16446.000000  16715.000000  16715.000000  16715.000000   \n",
       "mean       2006.484616      0.263377      0.145060      0.077617   \n",
       "std           5.877050      0.813604      0.503339      0.308853   \n",
       "min        1980.000000      0.000000      0.000000      0.000000   \n",
       "25%        2003.000000      0.000000      0.000000      0.000000   \n",
       "50%        2007.000000      0.080000      0.020000      0.000000   \n",
       "75%        2010.000000      0.240000      0.110000      0.040000   \n",
       "max        2016.000000     41.360000     28.960000     10.220000   \n",
       "\n",
       "        Other_sales  Critic_Score  \n",
       "count  16715.000000   8137.000000  \n",
       "mean       0.047342     68.967679  \n",
       "std        0.186731     13.938165  \n",
       "min        0.000000     13.000000  \n",
       "25%        0.000000     60.000000  \n",
       "50%        0.010000     71.000000  \n",
       "75%        0.030000     79.000000  \n",
       "max       10.570000     98.000000  "
      ]
     },
     "execution_count": 1,
     "metadata": {},
     "output_type": "execute_result"
    }
   ],
   "source": [
    "import pandas as pd\n",
    "import seaborn as sns\n",
    "import matplotlib.pyplot as plt\n",
    "import numpy as np\n",
    "from scipy import stats as st\n",
    "import warnings\n",
    "warnings.filterwarnings('ignore')\n",
    "pd.set_option('display.max_rows', None)\n",
    "pd.set_option('display.max_columns', None)\n",
    "games_data = pd.read_csv('/datasets/games.csv')\n",
    "display(games_data.head())\n",
    "games_data.info()\n",
    "games_data.describe()"
   ]
  },
  {
   "cell_type": "markdown",
   "metadata": {},
   "source": [
    "**Вывод**"
   ]
  },
  {
   "cell_type": "markdown",
   "metadata": {},
   "source": [
    "В таблице 11 колонок, типы данных - float64, object.\n",
    "\n",
    "Столбцы нужно привести к нижнему регистру.\n",
    "\n",
    "Количество значений в столбцах различается. Значит, в данных есть пропущенные значения.\n",
    "\n",
    "Согласно документации к данным:\n",
    "\n",
    "* `Name` — название игры\n",
    "* `Platform` — платформа\n",
    "* `Year_of_Release` — год выпуска\n",
    "* `Genre` — жанр игры\n",
    "* `NA_sales` — продажи в Северной Америке (миллионы проданных копий)\n",
    "* `EU_sales` — продажи в Европе (миллионы проданных копий)\n",
    "* `JP_sales` — продажи в Японии (миллионы проданных копий)\n",
    "* `Other_sales` — продажи в других странах (миллионы проданных копий)\n",
    "* `Critic_Score` — оценка критиков (максимум 100)\n",
    "* `User_Score` — оценка пользователей (максимум 10)\n",
    "* `Rating` — рейтинг от организации ESRB (англ. Entertainment Software Rating Board). Эта ассоциация определяет рейтинг компьютерных игр и присваивает им подходящую возрастную категорию.\n",
    "\n",
    "Возврастные ограничения согласно ESRB:\n",
    "\n",
    "* `EC` («Early childhood») — «Для детей младшего возраста»\n",
    "* `E` («Everyone») — «Для всех»\n",
    "* `E10+` («Everyone 10 and older») — «Для всех от 10 лет и старше»\n",
    "* `T` («Teen») — «Подросткам»\n",
    "* `M` («Mature») — «Для взрослых»\n",
    "* `AO` («Adults Only 18+») — «Только для взрослых»\n",
    "* `RP` ( «Rating Pending»») — «Рейтинг ожидается»"
   ]
  },
  {
   "cell_type": "markdown",
   "metadata": {},
   "source": [
    "## 2. Предобработка данных <a class=\"anchor\" id=\"pd\"></a>"
   ]
  },
  {
   "cell_type": "code",
   "execution_count": 2,
   "metadata": {},
   "outputs": [
    {
     "name": "stdout",
     "output_type": "stream",
     "text": [
      "Index(['Name', 'Platform', 'Year_of_Release', 'Genre', 'NA_sales', 'EU_sales',\n",
      "       'JP_sales', 'Other_sales', 'Critic_Score', 'User_Score', 'Rating'],\n",
      "      dtype='object')\n",
      "Index(['name', 'platform', 'year_of_release', 'genre', 'na_sales', 'eu_sales',\n",
      "       'jp_sales', 'other_sales', 'critic_score', 'user_score', 'rating'],\n",
      "      dtype='object')\n"
     ]
    }
   ],
   "source": [
    "# Привожу названия столбцов к нижнему регистру\n",
    "print(games_data.columns)\n",
    "games_data.columns = games_data.columns.str.lower()\n",
    "print(games_data.columns)"
   ]
  },
  {
   "cell_type": "code",
   "execution_count": 3,
   "metadata": {},
   "outputs": [
    {
     "name": "stdout",
     "output_type": "stream",
     "text": [
      "name                  2\n",
      "platform              0\n",
      "year_of_release     269\n",
      "genre                 2\n",
      "na_sales              0\n",
      "eu_sales              0\n",
      "jp_sales              0\n",
      "other_sales           0\n",
      "critic_score       8578\n",
      "user_score         6701\n",
      "rating             6766\n",
      "dtype: int64\n"
     ]
    }
   ],
   "source": [
    "# Подсчет пропусков до предобработки\n",
    "print(games_data.isna().sum())"
   ]
  },
  {
   "cell_type": "code",
   "execution_count": 4,
   "metadata": {},
   "outputs": [
    {
     "name": "stdout",
     "output_type": "stream",
     "text": [
      "2424\n"
     ]
    }
   ],
   "source": [
    "# Подсчёт значений tbd - to be defined до предобработки\n",
    "count_tbd = 0\n",
    "for i in games_data['user_score']:\n",
    "    if i == 'tbd':\n",
    "        count_tbd += 1\n",
    "print(count_tbd)"
   ]
  },
  {
   "cell_type": "code",
   "execution_count": 5,
   "metadata": {},
   "outputs": [],
   "source": [
    "# Удаляю строки где пропущен год, название и жанр\n",
    "games_data.dropna(subset = ['year_of_release', 'name', 'genre'], inplace = True)\n",
    "games_data = games_data.reset_index(drop = True)"
   ]
  },
  {
   "cell_type": "code",
   "execution_count": 6,
   "metadata": {},
   "outputs": [],
   "source": [
    "# Заполняю пропуски в колонке rating на 'Не определен', так как это категориальная переменная\n",
    "games_data['rating'] = games_data['rating'].fillna('AO')"
   ]
  },
  {
   "cell_type": "code",
   "execution_count": 7,
   "metadata": {},
   "outputs": [],
   "source": [
    "# Заменяю тип данных на float\n",
    "games_data['user_score'] = pd.to_numeric(games_data['user_score'], errors='coerce')\n",
    "# Заменяю тип данных на int\n",
    "games_data['year_of_release'] = games_data['year_of_release'].astype('int')"
   ]
  },
  {
   "cell_type": "code",
   "execution_count": 8,
   "metadata": {},
   "outputs": [
    {
     "name": "stdout",
     "output_type": "stream",
     "text": [
      "name                  0\n",
      "platform              0\n",
      "year_of_release       0\n",
      "genre                 0\n",
      "na_sales              0\n",
      "eu_sales              0\n",
      "jp_sales              0\n",
      "other_sales           0\n",
      "critic_score       8461\n",
      "user_score         8981\n",
      "rating                0\n",
      "dtype: int64\n",
      "Количество дубликатов: 0\n"
     ]
    }
   ],
   "source": [
    "# Подсчет пропусков и дубликатов после предобработки\n",
    "print(games_data.isna().sum())\n",
    "print('Количество дубликатов:', games_data.duplicated().sum())"
   ]
  },
  {
   "cell_type": "code",
   "execution_count": 9,
   "metadata": {},
   "outputs": [
    {
     "name": "stdout",
     "output_type": "stream",
     "text": [
      "0\n"
     ]
    }
   ],
   "source": [
    "# Подсчёт значений tbd - to be defined после предобработки\n",
    "count_tbd_2 = 0\n",
    "for i in games_data['user_score']:\n",
    "    if i == 'tbd':\n",
    "        count_tbd_2 += 1\n",
    "print(count_tbd_2)"
   ]
  },
  {
   "cell_type": "code",
   "execution_count": 10,
   "metadata": {},
   "outputs": [
    {
     "data": {
      "text/html": [
       "<div>\n",
       "<style scoped>\n",
       "    .dataframe tbody tr th:only-of-type {\n",
       "        vertical-align: middle;\n",
       "    }\n",
       "\n",
       "    .dataframe tbody tr th {\n",
       "        vertical-align: top;\n",
       "    }\n",
       "\n",
       "    .dataframe thead th {\n",
       "        text-align: right;\n",
       "    }\n",
       "</style>\n",
       "<table border=\"1\" class=\"dataframe\">\n",
       "  <thead>\n",
       "    <tr style=\"text-align: right;\">\n",
       "      <th></th>\n",
       "      <th>name</th>\n",
       "      <th>platform</th>\n",
       "      <th>year_of_release</th>\n",
       "      <th>genre</th>\n",
       "      <th>na_sales</th>\n",
       "      <th>eu_sales</th>\n",
       "      <th>jp_sales</th>\n",
       "      <th>other_sales</th>\n",
       "      <th>critic_score</th>\n",
       "      <th>user_score</th>\n",
       "      <th>rating</th>\n",
       "    </tr>\n",
       "  </thead>\n",
       "  <tbody>\n",
       "    <tr>\n",
       "      <td>1</td>\n",
       "      <td>Super Mario Bros.</td>\n",
       "      <td>NES</td>\n",
       "      <td>1985</td>\n",
       "      <td>Platform</td>\n",
       "      <td>29.08</td>\n",
       "      <td>3.58</td>\n",
       "      <td>6.81</td>\n",
       "      <td>0.77</td>\n",
       "      <td>NaN</td>\n",
       "      <td>NaN</td>\n",
       "      <td>AO</td>\n",
       "    </tr>\n",
       "    <tr>\n",
       "      <td>4</td>\n",
       "      <td>Pokemon Red/Pokemon Blue</td>\n",
       "      <td>GB</td>\n",
       "      <td>1996</td>\n",
       "      <td>Role-Playing</td>\n",
       "      <td>11.27</td>\n",
       "      <td>8.89</td>\n",
       "      <td>10.22</td>\n",
       "      <td>1.00</td>\n",
       "      <td>NaN</td>\n",
       "      <td>NaN</td>\n",
       "      <td>AO</td>\n",
       "    </tr>\n",
       "    <tr>\n",
       "      <td>5</td>\n",
       "      <td>Tetris</td>\n",
       "      <td>GB</td>\n",
       "      <td>1989</td>\n",
       "      <td>Puzzle</td>\n",
       "      <td>23.20</td>\n",
       "      <td>2.26</td>\n",
       "      <td>4.22</td>\n",
       "      <td>0.58</td>\n",
       "      <td>NaN</td>\n",
       "      <td>NaN</td>\n",
       "      <td>AO</td>\n",
       "    </tr>\n",
       "    <tr>\n",
       "      <td>9</td>\n",
       "      <td>Duck Hunt</td>\n",
       "      <td>NES</td>\n",
       "      <td>1984</td>\n",
       "      <td>Shooter</td>\n",
       "      <td>26.93</td>\n",
       "      <td>0.63</td>\n",
       "      <td>0.28</td>\n",
       "      <td>0.47</td>\n",
       "      <td>NaN</td>\n",
       "      <td>NaN</td>\n",
       "      <td>AO</td>\n",
       "    </tr>\n",
       "    <tr>\n",
       "      <td>10</td>\n",
       "      <td>Nintendogs</td>\n",
       "      <td>DS</td>\n",
       "      <td>2005</td>\n",
       "      <td>Simulation</td>\n",
       "      <td>9.05</td>\n",
       "      <td>10.95</td>\n",
       "      <td>1.93</td>\n",
       "      <td>2.74</td>\n",
       "      <td>NaN</td>\n",
       "      <td>NaN</td>\n",
       "      <td>AO</td>\n",
       "    </tr>\n",
       "  </tbody>\n",
       "</table>\n",
       "</div>"
      ],
      "text/plain": [
       "                        name platform  year_of_release         genre  \\\n",
       "1          Super Mario Bros.      NES             1985      Platform   \n",
       "4   Pokemon Red/Pokemon Blue       GB             1996  Role-Playing   \n",
       "5                     Tetris       GB             1989        Puzzle   \n",
       "9                  Duck Hunt      NES             1984       Shooter   \n",
       "10                Nintendogs       DS             2005    Simulation   \n",
       "\n",
       "    na_sales  eu_sales  jp_sales  other_sales  critic_score  user_score rating  \n",
       "1      29.08      3.58      6.81         0.77           NaN         NaN     AO  \n",
       "4      11.27      8.89     10.22         1.00           NaN         NaN     AO  \n",
       "5      23.20      2.26      4.22         0.58           NaN         NaN     AO  \n",
       "9      26.93      0.63      0.28         0.47           NaN         NaN     AO  \n",
       "10      9.05     10.95      1.93         2.74           NaN         NaN     AO  "
      ]
     },
     "metadata": {},
     "output_type": "display_data"
    },
    {
     "name": "stdout",
     "output_type": "stream",
     "text": [
      "<class 'pandas.core.frame.DataFrame'>\n",
      "Int64Index: 6677 entries, 1 to 16443\n",
      "Data columns (total 11 columns):\n",
      "name               6677 non-null object\n",
      "platform           6677 non-null object\n",
      "year_of_release    6677 non-null int64\n",
      "genre              6677 non-null object\n",
      "na_sales           6677 non-null float64\n",
      "eu_sales           6677 non-null float64\n",
      "jp_sales           6677 non-null float64\n",
      "other_sales        6677 non-null float64\n",
      "critic_score       82 non-null float64\n",
      "user_score         84 non-null float64\n",
      "rating             6677 non-null object\n",
      "dtypes: float64(6), int64(1), object(4)\n",
      "memory usage: 626.0+ KB\n"
     ]
    }
   ],
   "source": [
    "# Оценка критиков и пользователей отсутствует в основном там, где рейтинг «AO» («Adults Only 18+»)  \n",
    "rate_data = games_data.query('rating == \"AO\"')\n",
    "display(rate_data.head())\n",
    "rate_data.info()"
   ]
  },
  {
   "cell_type": "code",
   "execution_count": 11,
   "metadata": {},
   "outputs": [
    {
     "data": {
      "text/html": [
       "<div>\n",
       "<style scoped>\n",
       "    .dataframe tbody tr th:only-of-type {\n",
       "        vertical-align: middle;\n",
       "    }\n",
       "\n",
       "    .dataframe tbody tr th {\n",
       "        vertical-align: top;\n",
       "    }\n",
       "\n",
       "    .dataframe thead th {\n",
       "        text-align: right;\n",
       "    }\n",
       "</style>\n",
       "<table border=\"1\" class=\"dataframe\">\n",
       "  <thead>\n",
       "    <tr style=\"text-align: right;\">\n",
       "      <th></th>\n",
       "      <th>name</th>\n",
       "      <th>platform</th>\n",
       "      <th>year_of_release</th>\n",
       "      <th>genre</th>\n",
       "      <th>na_sales</th>\n",
       "      <th>eu_sales</th>\n",
       "      <th>jp_sales</th>\n",
       "      <th>other_sales</th>\n",
       "      <th>critic_score</th>\n",
       "      <th>user_score</th>\n",
       "      <th>rating</th>\n",
       "      <th>total_sales</th>\n",
       "    </tr>\n",
       "  </thead>\n",
       "  <tbody>\n",
       "    <tr>\n",
       "      <td>0</td>\n",
       "      <td>Wii Sports</td>\n",
       "      <td>Wii</td>\n",
       "      <td>2006</td>\n",
       "      <td>Sports</td>\n",
       "      <td>41.36</td>\n",
       "      <td>28.96</td>\n",
       "      <td>3.77</td>\n",
       "      <td>8.45</td>\n",
       "      <td>76.0</td>\n",
       "      <td>8.0</td>\n",
       "      <td>E</td>\n",
       "      <td>82.54</td>\n",
       "    </tr>\n",
       "    <tr>\n",
       "      <td>1</td>\n",
       "      <td>Super Mario Bros.</td>\n",
       "      <td>NES</td>\n",
       "      <td>1985</td>\n",
       "      <td>Platform</td>\n",
       "      <td>29.08</td>\n",
       "      <td>3.58</td>\n",
       "      <td>6.81</td>\n",
       "      <td>0.77</td>\n",
       "      <td>NaN</td>\n",
       "      <td>NaN</td>\n",
       "      <td>AO</td>\n",
       "      <td>40.24</td>\n",
       "    </tr>\n",
       "    <tr>\n",
       "      <td>2</td>\n",
       "      <td>Mario Kart Wii</td>\n",
       "      <td>Wii</td>\n",
       "      <td>2008</td>\n",
       "      <td>Racing</td>\n",
       "      <td>15.68</td>\n",
       "      <td>12.76</td>\n",
       "      <td>3.79</td>\n",
       "      <td>3.29</td>\n",
       "      <td>82.0</td>\n",
       "      <td>8.3</td>\n",
       "      <td>E</td>\n",
       "      <td>35.52</td>\n",
       "    </tr>\n",
       "    <tr>\n",
       "      <td>3</td>\n",
       "      <td>Wii Sports Resort</td>\n",
       "      <td>Wii</td>\n",
       "      <td>2009</td>\n",
       "      <td>Sports</td>\n",
       "      <td>15.61</td>\n",
       "      <td>10.93</td>\n",
       "      <td>3.28</td>\n",
       "      <td>2.95</td>\n",
       "      <td>80.0</td>\n",
       "      <td>8.0</td>\n",
       "      <td>E</td>\n",
       "      <td>32.77</td>\n",
       "    </tr>\n",
       "    <tr>\n",
       "      <td>4</td>\n",
       "      <td>Pokemon Red/Pokemon Blue</td>\n",
       "      <td>GB</td>\n",
       "      <td>1996</td>\n",
       "      <td>Role-Playing</td>\n",
       "      <td>11.27</td>\n",
       "      <td>8.89</td>\n",
       "      <td>10.22</td>\n",
       "      <td>1.00</td>\n",
       "      <td>NaN</td>\n",
       "      <td>NaN</td>\n",
       "      <td>AO</td>\n",
       "      <td>31.38</td>\n",
       "    </tr>\n",
       "  </tbody>\n",
       "</table>\n",
       "</div>"
      ],
      "text/plain": [
       "                       name platform  year_of_release         genre  na_sales  \\\n",
       "0                Wii Sports      Wii             2006        Sports     41.36   \n",
       "1         Super Mario Bros.      NES             1985      Platform     29.08   \n",
       "2            Mario Kart Wii      Wii             2008        Racing     15.68   \n",
       "3         Wii Sports Resort      Wii             2009        Sports     15.61   \n",
       "4  Pokemon Red/Pokemon Blue       GB             1996  Role-Playing     11.27   \n",
       "\n",
       "   eu_sales  jp_sales  other_sales  critic_score  user_score rating  \\\n",
       "0     28.96      3.77         8.45          76.0         8.0      E   \n",
       "1      3.58      6.81         0.77           NaN         NaN     AO   \n",
       "2     12.76      3.79         3.29          82.0         8.3      E   \n",
       "3     10.93      3.28         2.95          80.0         8.0      E   \n",
       "4      8.89     10.22         1.00           NaN         NaN     AO   \n",
       "\n",
       "   total_sales  \n",
       "0        82.54  \n",
       "1        40.24  \n",
       "2        35.52  \n",
       "3        32.77  \n",
       "4        31.38  "
      ]
     },
     "metadata": {},
     "output_type": "display_data"
    },
    {
     "name": "stdout",
     "output_type": "stream",
     "text": [
      "<class 'pandas.core.frame.DataFrame'>\n",
      "RangeIndex: 16444 entries, 0 to 16443\n",
      "Data columns (total 12 columns):\n",
      "name               16444 non-null object\n",
      "platform           16444 non-null object\n",
      "year_of_release    16444 non-null int64\n",
      "genre              16444 non-null object\n",
      "na_sales           16444 non-null float64\n",
      "eu_sales           16444 non-null float64\n",
      "jp_sales           16444 non-null float64\n",
      "other_sales        16444 non-null float64\n",
      "critic_score       7983 non-null float64\n",
      "user_score         7463 non-null float64\n",
      "rating             16444 non-null object\n",
      "total_sales        16444 non-null float64\n",
      "dtypes: float64(7), int64(1), object(4)\n",
      "memory usage: 1.5+ MB\n"
     ]
    }
   ],
   "source": [
    "# Добавляю столбец с суммарными продажами\n",
    "games_data['total_sales'] = games_data['na_sales'] + games_data['eu_sales'] + \\\n",
    "    games_data['jp_sales'] + games_data['other_sales']\n",
    "display(games_data.head())\n",
    "games_data.info()"
   ]
  },
  {
   "cell_type": "markdown",
   "metadata": {},
   "source": [
    "**Вывод**"
   ]
  },
  {
   "cell_type": "markdown",
   "metadata": {},
   "source": [
    "1. Заменил названия столбцов.\n",
    "2. Изменил формат в колонках year_of_release и user_score. В колонке year_of_release значения целочисленные, поэтому для удобства перевел их в int64. NaN относится к вещественным числам, из-за этого NaN можно использовать в математических операциях, не вызывая ошибку, поэтому поменял формат в user_score на float. В столбце было значение tbd (to be defined - предстоит определить), при преобразовании в формат float при помощи аргумента errors='coerce', tbd заменилось на NaN. Использовал методы astype() и to_numeric().  \n",
    "3. В таблице были обнаруженны пропущенные значения в столбцах name, year_of_release, genre, critic_score, user_score и rating. Строки, где пропущен год, название и жанр удалил, они не подходят для дальнейшего исследования. В колонке rating пропуски поменял на «AO» («Adults Only 18+»), потому что это единственное ограничение из ESRB не указанное в данной базе. Столбцы critic_score и user_score оставил как есть, чтобы не исказить результаты корреляционного анализа. По большей части пропуски в этих колонках там, где рейтинг AO. По типу пропуска, думаю это тип MAR (Missing At Random). \n",
    "4. Дубликатов не обнаружил.\n",
    "5. Посчитал суммарные продажи во всех регионах, результат в столбце total_sales. "
   ]
  },
  {
   "cell_type": "markdown",
   "metadata": {},
   "source": [
    "## 3. Исследовательский анализ данных <a class=\"anchor\" id=\"ia\"></a>"
   ]
  },
  {
   "cell_type": "code",
   "execution_count": 12,
   "metadata": {},
   "outputs": [
    {
     "name": "stdout",
     "output_type": "stream",
     "text": [
      "AxesSubplot(0.125,0.125;0.775x0.755)\n"
     ]
    },
    {
     "data": {
      "image/png": "[encoded data removed]",
      "text/plain": [
       "<Figure size 864x648 with 1 Axes>"
      ]
     },
     "metadata": {
      "needs_background": "light"
     },
     "output_type": "display_data"
    }
   ],
   "source": [
    "# Гистограмма выпускаемых игр по годам\n",
    "print(games_data['year_of_release'].hist(bins=10, figsize=(12,9)))"
   ]
  },
  {
   "cell_type": "markdown",
   "metadata": {},
   "source": [
    "В 1981 и 1982 гг. можно увидеть резкий скачок в игровой индустрии, если сравнить с 80 годом, потом показатели упали. До 1993 года игр выпускалось мало, в 94 количество увеличилось в два раза по сравнению с предыдущим годом. С 1994 по 2009 кол-во неизменно растет, исключение 2003 и 2004 годы. С 2010 по 2011 наблюдается небольшой спад, но выпускается все еще больше 1000 игр. В 2012 уже сильный спад, почти в два раза по сравнению с предыдущим годом. В последующие годы количество игр не поднималось выше 606. Больше всего игр вышло в 2008 году - 1427.     "
   ]
  },
  {
   "cell_type": "code",
   "execution_count": 13,
   "metadata": {},
   "outputs": [
    {
     "data": {
      "text/plain": [
       "<matplotlib.axes._subplots.AxesSubplot at 0x7fa6b54cc850>"
      ]
     },
     "execution_count": 13,
     "metadata": {},
     "output_type": "execute_result"
    },
    {
     "data": {
      "image/png": "[encoded data removed]",
      "text/plain": [
       "<Figure size 1080x648 with 1 Axes>"
      ]
     },
     "metadata": {
      "needs_background": "light"
     },
     "output_type": "display_data"
    }
   ],
   "source": [
    "# График платформ и их суммарных продаж\n",
    "games_data.groupby('platform').agg({'total_sales': 'sum'}).sort_values(by = 'total_sales', ascending = False \n",
    "                                                                      ).plot(kind=\"bar\", figsize = (15, 9))"
   ]
  },
  {
   "cell_type": "code",
   "execution_count": 14,
   "metadata": {},
   "outputs": [
    {
     "data": {
      "text/plain": [
       "Text(0, 0.5, 'Кол-во копий')"
      ]
     },
     "execution_count": 14,
     "metadata": {},
     "output_type": "execute_result"
    },
    {
     "data": {
      "image/png": "[encoded data removed]",
      "text/plain": [
       "<Figure size 1080x648 with 1 Axes>"
      ]
     },
     "metadata": {
      "needs_background": "light"
     },
     "output_type": "display_data"
    }
   ],
   "source": [
    "# График топ-10 платформ\n",
    "top_10_platform = games_data.groupby('platform').agg({'total_sales': 'sum'}).sort_values(by = 'total_sales',\n",
    "                                                        ascending = False).head(10).index\n",
    "games_data.query('platform in @top_10_platform').pivot_table(index='year_of_release', \n",
    "                                    columns = 'platform', values = 'total_sales', aggfunc = 'sum').plot(figsize = (15, 9))\n",
    "plt.title('Платформы с наибольшими суммарными продажами по годам')\n",
    "plt.xlabel('Год выхода')\n",
    "plt.ylabel('Кол-во копий')"
   ]
  },
  {
   "cell_type": "markdown",
   "metadata": {},
   "source": [
    "Новые платформы появляются ориентировочно через каждые 5, а старые исчезают приблизительно через 10 лет."
   ]
  },
  {
   "cell_type": "code",
   "execution_count": 15,
   "metadata": {},
   "outputs": [
    {
     "data": {
      "text/html": [
       "<div>\n",
       "<style scoped>\n",
       "    .dataframe tbody tr th:only-of-type {\n",
       "        vertical-align: middle;\n",
       "    }\n",
       "\n",
       "    .dataframe tbody tr th {\n",
       "        vertical-align: top;\n",
       "    }\n",
       "\n",
       "    .dataframe thead th {\n",
       "        text-align: right;\n",
       "    }\n",
       "</style>\n",
       "<table border=\"1\" class=\"dataframe\">\n",
       "  <thead>\n",
       "    <tr style=\"text-align: right;\">\n",
       "      <th></th>\n",
       "      <th>years</th>\n",
       "    </tr>\n",
       "    <tr>\n",
       "      <th>platform</th>\n",
       "      <th></th>\n",
       "    </tr>\n",
       "  </thead>\n",
       "  <tbody>\n",
       "    <tr>\n",
       "      <td>3DS</td>\n",
       "      <td>6</td>\n",
       "    </tr>\n",
       "    <tr>\n",
       "      <td>DS</td>\n",
       "      <td>10</td>\n",
       "    </tr>\n",
       "    <tr>\n",
       "      <td>GBA</td>\n",
       "      <td>7</td>\n",
       "    </tr>\n",
       "    <tr>\n",
       "      <td>PS</td>\n",
       "      <td>10</td>\n",
       "    </tr>\n",
       "    <tr>\n",
       "      <td>PS2</td>\n",
       "      <td>11</td>\n",
       "    </tr>\n",
       "    <tr>\n",
       "      <td>PS3</td>\n",
       "      <td>11</td>\n",
       "    </tr>\n",
       "    <tr>\n",
       "      <td>PS4</td>\n",
       "      <td>4</td>\n",
       "    </tr>\n",
       "    <tr>\n",
       "      <td>PSP</td>\n",
       "      <td>10</td>\n",
       "    </tr>\n",
       "    <tr>\n",
       "      <td>Wii</td>\n",
       "      <td>10</td>\n",
       "    </tr>\n",
       "    <tr>\n",
       "      <td>X360</td>\n",
       "      <td>12</td>\n",
       "    </tr>\n",
       "  </tbody>\n",
       "</table>\n",
       "</div>"
      ],
      "text/plain": [
       "          years\n",
       "platform       \n",
       "3DS           6\n",
       "DS           10\n",
       "GBA           7\n",
       "PS           10\n",
       "PS2          11\n",
       "PS3          11\n",
       "PS4           4\n",
       "PSP          10\n",
       "Wii          10\n",
       "X360         12"
      ]
     },
     "metadata": {},
     "output_type": "display_data"
    },
    {
     "name": "stdout",
     "output_type": "stream",
     "text": [
      "Среднее кол-во лет: years    9.1\n",
      "dtype: float64\n"
     ]
    }
   ],
   "source": [
    "# Определяю актуальный период\n",
    "actual_period = games_data.groupby(['platform','year_of_release']) \\\n",
    "                .agg({'total_sales': 'sum'}).query('platform in @top_10_platform and total_sales > 1')\n",
    "actual_period = actual_period.reset_index().groupby('platform').agg({'year_of_release':'count'})\n",
    "actual_period.columns = ['years']\n",
    "display(actual_period)\n",
    "print('Среднее кол-во лет:', actual_period.mean())"
   ]
  },
  {
   "cell_type": "code",
   "execution_count": 16,
   "metadata": {},
   "outputs": [
    {
     "data": {
      "text/html": [
       "<div>\n",
       "<style scoped>\n",
       "    .dataframe tbody tr th:only-of-type {\n",
       "        vertical-align: middle;\n",
       "    }\n",
       "\n",
       "    .dataframe tbody tr th {\n",
       "        vertical-align: top;\n",
       "    }\n",
       "\n",
       "    .dataframe thead th {\n",
       "        text-align: right;\n",
       "    }\n",
       "</style>\n",
       "<table border=\"1\" class=\"dataframe\">\n",
       "  <thead>\n",
       "    <tr style=\"text-align: right;\">\n",
       "      <th></th>\n",
       "      <th>name</th>\n",
       "      <th>platform</th>\n",
       "      <th>year_of_release</th>\n",
       "      <th>genre</th>\n",
       "      <th>na_sales</th>\n",
       "      <th>eu_sales</th>\n",
       "      <th>jp_sales</th>\n",
       "      <th>other_sales</th>\n",
       "      <th>critic_score</th>\n",
       "      <th>user_score</th>\n",
       "      <th>rating</th>\n",
       "      <th>total_sales</th>\n",
       "    </tr>\n",
       "  </thead>\n",
       "  <tbody>\n",
       "    <tr>\n",
       "      <td>16</td>\n",
       "      <td>Grand Theft Auto V</td>\n",
       "      <td>PS3</td>\n",
       "      <td>2013</td>\n",
       "      <td>Action</td>\n",
       "      <td>7.02</td>\n",
       "      <td>9.09</td>\n",
       "      <td>0.98</td>\n",
       "      <td>3.96</td>\n",
       "      <td>97.0</td>\n",
       "      <td>8.2</td>\n",
       "      <td>M</td>\n",
       "      <td>21.05</td>\n",
       "    </tr>\n",
       "    <tr>\n",
       "      <td>23</td>\n",
       "      <td>Grand Theft Auto V</td>\n",
       "      <td>X360</td>\n",
       "      <td>2013</td>\n",
       "      <td>Action</td>\n",
       "      <td>9.66</td>\n",
       "      <td>5.14</td>\n",
       "      <td>0.06</td>\n",
       "      <td>1.41</td>\n",
       "      <td>97.0</td>\n",
       "      <td>8.1</td>\n",
       "      <td>M</td>\n",
       "      <td>16.27</td>\n",
       "    </tr>\n",
       "    <tr>\n",
       "      <td>31</td>\n",
       "      <td>Call of Duty: Black Ops 3</td>\n",
       "      <td>PS4</td>\n",
       "      <td>2015</td>\n",
       "      <td>Shooter</td>\n",
       "      <td>6.03</td>\n",
       "      <td>5.86</td>\n",
       "      <td>0.36</td>\n",
       "      <td>2.38</td>\n",
       "      <td>NaN</td>\n",
       "      <td>NaN</td>\n",
       "      <td>AO</td>\n",
       "      <td>14.63</td>\n",
       "    </tr>\n",
       "    <tr>\n",
       "      <td>33</td>\n",
       "      <td>Pokemon X/Pokemon Y</td>\n",
       "      <td>3DS</td>\n",
       "      <td>2013</td>\n",
       "      <td>Role-Playing</td>\n",
       "      <td>5.28</td>\n",
       "      <td>4.19</td>\n",
       "      <td>4.35</td>\n",
       "      <td>0.78</td>\n",
       "      <td>NaN</td>\n",
       "      <td>NaN</td>\n",
       "      <td>AO</td>\n",
       "      <td>14.60</td>\n",
       "    </tr>\n",
       "    <tr>\n",
       "      <td>42</td>\n",
       "      <td>Grand Theft Auto V</td>\n",
       "      <td>PS4</td>\n",
       "      <td>2014</td>\n",
       "      <td>Action</td>\n",
       "      <td>3.96</td>\n",
       "      <td>6.31</td>\n",
       "      <td>0.38</td>\n",
       "      <td>1.97</td>\n",
       "      <td>97.0</td>\n",
       "      <td>8.3</td>\n",
       "      <td>M</td>\n",
       "      <td>12.62</td>\n",
       "    </tr>\n",
       "  </tbody>\n",
       "</table>\n",
       "</div>"
      ],
      "text/plain": [
       "                         name platform  year_of_release         genre  \\\n",
       "16         Grand Theft Auto V      PS3             2013        Action   \n",
       "23         Grand Theft Auto V     X360             2013        Action   \n",
       "31  Call of Duty: Black Ops 3      PS4             2015       Shooter   \n",
       "33        Pokemon X/Pokemon Y      3DS             2013  Role-Playing   \n",
       "42         Grand Theft Auto V      PS4             2014        Action   \n",
       "\n",
       "    na_sales  eu_sales  jp_sales  other_sales  critic_score  user_score  \\\n",
       "16      7.02      9.09      0.98         3.96          97.0         8.2   \n",
       "23      9.66      5.14      0.06         1.41          97.0         8.1   \n",
       "31      6.03      5.86      0.36         2.38           NaN         NaN   \n",
       "33      5.28      4.19      4.35         0.78           NaN         NaN   \n",
       "42      3.96      6.31      0.38         1.97          97.0         8.3   \n",
       "\n",
       "   rating  total_sales  \n",
       "16      M        21.05  \n",
       "23      M        16.27  \n",
       "31     AO        14.63  \n",
       "33     AO        14.60  \n",
       "42      M        12.62  "
      ]
     },
     "metadata": {},
     "output_type": "display_data"
    },
    {
     "name": "stdout",
     "output_type": "stream",
     "text": [
      "<class 'pandas.core.frame.DataFrame'>\n",
      "Int64Index: 2233 entries, 16 to 16443\n",
      "Data columns (total 12 columns):\n",
      "name               2233 non-null object\n",
      "platform           2233 non-null object\n",
      "year_of_release    2233 non-null int64\n",
      "genre              2233 non-null object\n",
      "na_sales           2233 non-null float64\n",
      "eu_sales           2233 non-null float64\n",
      "jp_sales           2233 non-null float64\n",
      "other_sales        2233 non-null float64\n",
      "critic_score       991 non-null float64\n",
      "user_score         1192 non-null float64\n",
      "rating             2233 non-null object\n",
      "total_sales        2233 non-null float64\n",
      "dtypes: float64(7), int64(1), object(4)\n",
      "memory usage: 226.8+ KB\n"
     ]
    }
   ],
   "source": [
    "# Сделал срез, чтобы убрать лишнее и оставить только актуальный период.\n",
    "good_data = games_data.query('year_of_release >= 2013') \n",
    "display(good_data.head())\n",
    "good_data.info()"
   ]
  },
  {
   "cell_type": "code",
   "execution_count": 17,
   "metadata": {},
   "outputs": [
    {
     "data": {
      "text/plain": [
       "Text(0, 0.5, 'Кол-во копий')"
      ]
     },
     "execution_count": 17,
     "metadata": {},
     "output_type": "execute_result"
    },
    {
     "data": {
      "image/png": "[encoded data removed]",
      "text/plain": [
       "<Figure size 1080x648 with 2 Axes>"
      ]
     },
     "metadata": {
      "needs_background": "light"
     },
     "output_type": "display_data"
    },
    {
     "data": {
      "image/png": "[encoded data removed]",
      "text/plain": [
       "<Figure size 1080x648 with 1 Axes>"
      ]
     },
     "metadata": {
      "needs_background": "light"
     },
     "output_type": "display_data"
    }
   ],
   "source": [
    "# Тепловая карта \n",
    "platform_list = ['X360', 'PS4', 'PS3', 'XOne', 'WiiU', 'Wii', '3DS', 'PC', 'PSV', 'DS', 'PSP']\n",
    "dinamic_data = games_data.pivot_table(index=\"platform\",columns='year_of_release',values='total_sales',aggfunc=('sum'))\n",
    "dinamic_data = dinamic_data.query('platform in @platform_list')\n",
    "plt.figure(figsize = (15, 9))\n",
    "sns.heatmap(dinamic_data)\n",
    "plt.title('Тепловая карта платформ')\n",
    "plt.xlabel('Год выхода')\n",
    "plt.ylabel('Платформы')\n",
    "\n",
    "# График платформ \n",
    "plt.figure(figsize = (15, 9))\n",
    "sns.barplot(data = good_data, x = 'platform', y = 'total_sales')\n",
    "plt.title('Платформы с наибольшими суммарными продажами с 2013 года')\n",
    "plt.xlabel('Платформы')\n",
    "plt.ylabel('Кол-во копий')"
   ]
  },
  {
   "cell_type": "markdown",
   "metadata": {},
   "source": [
    "Наиболее прибыльные платформы - X360, PS4, PS3, XOne, WiiU, Wii. На тепловой карте можно увидеть динамику продаж по годам. У PC продажи держатся на одном уровне долгие годы, исключением является 2011 год. С падением продаж у PS3, выпустили PS4. Платформа Wii с первого года имела высокие продажи, пик приходится на 2009 год. Но постепенно ее продажи стали падать и падают до сих пор. У остальных платформ дела обстоят не лучше. Рост наблюдался у Xone и у PS4 за 2015 год, однако потом продажи стали падать."
   ]
  },
  {
   "cell_type": "code",
   "execution_count": 18,
   "metadata": {},
   "outputs": [
    {
     "name": "stdout",
     "output_type": "stream",
     "text": [
      "count    1285.000000\n",
      "mean        0.666397\n",
      "std         1.437467\n",
      "min         0.010000\n",
      "25%         0.060000\n",
      "50%         0.200000\n",
      "75%         0.640000\n",
      "max        21.050000\n",
      "Name: total_sales, dtype: float64\n"
     ]
    },
    {
     "data": {
      "text/plain": [
       "Text(0, 0.5, 'Кол-во копий')"
      ]
     },
     "execution_count": 18,
     "metadata": {},
     "output_type": "execute_result"
    },
    {
     "data": {
      "image/png": "[encoded data removed]",
      "text/plain": [
       "<Figure size 864x648 with 1 Axes>"
      ]
     },
     "metadata": {
      "needs_background": "light"
     },
     "output_type": "display_data"
    }
   ],
   "source": [
    "#Строю диаграмму размаха \n",
    "best_platform = ['X360', 'PS4', 'PS3', 'XOne', 'WiiU']\n",
    "top_5_data = good_data.query('platform in @best_platform')\n",
    "print(top_5_data['total_sales'].describe()) \n",
    "top_5_data.boxplot(column = 'total_sales', by = 'platform', figsize = (12,9))\n",
    "plt.ylim(0, 2)\n",
    "plt.title('Диаграмма размаха по платформам')\n",
    "plt.xlabel('Платформы')\n",
    "plt.ylabel('Кол-во копий')"
   ]
  },
  {
   "cell_type": "markdown",
   "metadata": {},
   "source": [
    "Диаграмма размаха показывает, что в среднем показатели у всех платформ приблизительно одиннаковые, около 0,25 млн. копий. Отличием является WiiU, у этой платформы 3 квартиль меньше, чем у остальных.   "
   ]
  },
  {
   "cell_type": "code",
   "execution_count": 19,
   "metadata": {},
   "outputs": [
    {
     "name": "stdout",
     "output_type": "stream",
     "text": [
      "Коэффициент корреляции: 0.037685894502836624\n"
     ]
    },
    {
     "data": {
      "image/png": "[encoded data removed]",
      "text/plain": [
       "<Figure size 1080x648 with 1 Axes>"
      ]
     },
     "metadata": {
      "needs_background": "light"
     },
     "output_type": "display_data"
    }
   ],
   "source": [
    "# Строю диаграмму рассеяния по х360, установил порог в 1,7 для total_sales, чтобы убрать выбросы\n",
    "xbox360_data = top_5_data.query('platform == \"X360\" and total_sales <= 1.7')\n",
    "xbox360_data.plot(kind = 'scatter', x = 'user_score', y = 'total_sales', figsize = (15,9))\n",
    "plt.title('Диаграмма рассеяния по X360 по отзывам пользователей')\n",
    "plt.xlabel('Оценка пользователей')\n",
    "plt.ylabel('Кол-во копий')\n",
    "print('Коэффициент корреляции:', xbox360_data['total_sales'].corr(xbox360_data['user_score']))"
   ]
  },
  {
   "cell_type": "code",
   "execution_count": 20,
   "metadata": {},
   "outputs": [
    {
     "name": "stdout",
     "output_type": "stream",
     "text": [
      "Коэффициент корреляции: 0.4719998814213742\n"
     ]
    },
    {
     "data": {
      "image/png": "[encoded data removed]",
      "text/plain": [
       "<Figure size 1080x648 with 1 Axes>"
      ]
     },
     "metadata": {
      "needs_background": "light"
     },
     "output_type": "display_data"
    }
   ],
   "source": [
    "# Строю диаграмму рассеяния по х360\n",
    "xbox360_data.plot(kind = 'scatter', x = 'critic_score', y = 'total_sales', figsize = (15,9))\n",
    "plt.title('Диаграмма рассеяния по X360 по отзывам критиков')\n",
    "plt.xlabel('Оценка критиков')\n",
    "plt.ylabel('Кол-во копий')\n",
    "print('Коэффициент корреляции:', xbox360_data['total_sales'].corr(xbox360_data['critic_score']))"
   ]
  },
  {
   "cell_type": "markdown",
   "metadata": {},
   "source": [
    "По графикам видно, что есть зависимость между оценкой критиков и пользователей. Чем больше балл, тем выше продажи. Корреляция положительная. Чем лучше отзыв критика, тем выше продажи, показатель 0,5. Отзывы пользователей не так сильно влияют на продажи, там коэффициент корреляции Пирсона равен 0,2. "
   ]
  },
  {
   "cell_type": "code",
   "execution_count": 21,
   "metadata": {
    "scrolled": true
   },
   "outputs": [
    {
     "name": "stdout",
     "output_type": "stream",
     "text": [
      "Коэффициент корреляции: -0.011742185147181342\n",
      "Коэффициент корреляции: 0.3503445460228664\n",
      "Коэффициент корреляции: -0.031957110204556376\n",
      "Коэффициент корреляции: 0.406567902061781\n",
      "Коэффициент корреляции: 0.0023944027357566925\n",
      "Коэффициент корреляции: 0.3342853393371919\n",
      "Коэффициент корреляции: -0.06892505328279412\n",
      "Коэффициент корреляции: 0.41699832800840175\n",
      "Коэффициент корреляции: 0.4193304819266187\n",
      "Коэффициент корреляции: 0.3764149065423912\n"
     ]
    },
    {
     "data": {
      "image/png": "[encoded data removed]",
      "text/plain": [
       "<Figure size 1080x648 with 1 Axes>"
      ]
     },
     "metadata": {
      "needs_background": "light"
     },
     "output_type": "display_data"
    },
    {
     "data": {
      "image/png": "[encoded data removed]",
      "text/plain": [
       "<Figure size 1080x648 with 1 Axes>"
      ]
     },
     "metadata": {
      "needs_background": "light"
     },
     "output_type": "display_data"
    },
    {
     "data": {
      "image/png": "[encoded data removed]",
      "text/plain": [
       "<Figure size 1080x648 with 1 Axes>"
      ]
     },
     "metadata": {
      "needs_background": "light"
     },
     "output_type": "display_data"
    },
    {
     "data": {
      "image/png": "[encoded data removed]",
      "text/plain": [
       "<Figure size 1080x648 with 1 Axes>"
      ]
     },
     "metadata": {
      "needs_background": "light"
     },
     "output_type": "display_data"
    },
    {
     "data": {
      "image/png": "[encoded data removed]",
      "text/plain": [
       "<Figure size 1080x648 with 1 Axes>"
      ]
     },
     "metadata": {
      "needs_background": "light"
     },
     "output_type": "display_data"
    },
    {
     "data": {
      "image/png": "[encoded data removed]",
      "text/plain": [
       "<Figure size 1080x648 with 1 Axes>"
      ]
     },
     "metadata": {
      "needs_background": "light"
     },
     "output_type": "display_data"
    },
    {
     "data": {
      "image/png": "[encoded data removed]",
      "text/plain": [
       "<Figure size 1080x648 with 1 Axes>"
      ]
     },
     "metadata": {
      "needs_background": "light"
     },
     "output_type": "display_data"
    },
    {
     "data": {
      "image/png": "[encoded data removed]",
      "text/plain": [
       "<Figure size 1080x648 with 1 Axes>"
      ]
     },
     "metadata": {
      "needs_background": "light"
     },
     "output_type": "display_data"
    },
    {
     "data": {
      "image/png": "[encoded data removed]",
      "text/plain": [
       "<Figure size 1080x648 with 1 Axes>"
      ]
     },
     "metadata": {
      "needs_background": "light"
     },
     "output_type": "display_data"
    },
    {
     "data": {
      "image/png": "[encoded data removed]",
      "text/plain": [
       "<Figure size 1080x648 with 1 Axes>"
      ]
     },
     "metadata": {
      "needs_background": "light"
     },
     "output_type": "display_data"
    }
   ],
   "source": [
    "# Цикл для определения корреляции\n",
    "for i in best_platform:\n",
    "    data = top_5_data.query('platform == @i')\n",
    "    data.plot(kind = 'scatter', x = 'user_score', y = 'total_sales', figsize = (15,9))\n",
    "    print('Коэффициент корреляции:', data['total_sales'].corr(data['user_score']))\n",
    "    data.plot(kind = 'scatter', x = 'critic_score', y = 'total_sales', figsize = (15,9))\n",
    "    print('Коэффициент корреляции:', data['total_sales'].corr(data['critic_score']))"
   ]
  },
  {
   "cell_type": "markdown",
   "metadata": {},
   "source": [
    "Для других платформ можно сделать примерно такой же вывод. Оценки критиков больше влияют на продажи, нежели оценки пользователей. Графики показывают наличие зависимости, однако коэффициент корреляции Пирсона для некоторых платформ по оценке пользователей показывает отрицательное значение близкое к нулю (PS4, XOne)."
   ]
  },
  {
   "cell_type": "code",
   "execution_count": 22,
   "metadata": {},
   "outputs": [
    {
     "data": {
      "text/plain": [
       "Text(0, 0.5, 'Кол-во копий')"
      ]
     },
     "execution_count": 22,
     "metadata": {},
     "output_type": "execute_result"
    },
    {
     "data": {
      "image/png": "[encoded data removed]",
      "text/plain": [
       "<Figure size 720x288 with 1 Axes>"
      ]
     },
     "metadata": {
      "needs_background": "light"
     },
     "output_type": "display_data"
    }
   ],
   "source": [
    "# График по жанрам\n",
    "good_data.groupby('genre')['total_sales'].sum().sort_values(ascending=False).plot(figsize=(10,4),kind=\"bar\")\n",
    "plt.title('Распределение игр по жанрам')\n",
    "plt.xlabel('Жанры')\n",
    "plt.ylabel('Кол-во копий')"
   ]
  },
  {
   "cell_type": "markdown",
   "metadata": {},
   "source": [
    "Самым прибальным жанром является action, далее идет shooter, у следующего по прибыли жанра sports, выручка меньше почти в два раза по сравнению с первым местом. Хуже всего дела обстоят у жанров puzzle и strategy."
   ]
  },
  {
   "cell_type": "markdown",
   "metadata": {},
   "source": [
    "**Вывод**"
   ]
  },
  {
   "cell_type": "markdown",
   "metadata": {},
   "source": [
    "1. В целом до 94 года игр выходило немного, но начиная с этого года, наблюдается подъем в игровой индустрии. Игр выходит все больше и больше, вплоть до 2012 года. В 2012 показатели сильно упали, почти до уровня 2001 года.\n",
    "2. Новые платформы появляются ориентировочно через каждые 5, а старые исчезают приблизительно через 10 лет. Определил актуальный период в 9 лет.\n",
    "3. Наиболее прибыльные платформы - X360, PS4, PS3, XOne, WiiU. Диаграмма размаха показывает, что в среднем показатели у всех платформ приблизительно одиннаковые, около 0,25 млн. копий.\n",
    "4. На графиках можно увидеть, что есть зависимость между оценкой критиков и пользователей. Корреляция почти везде положительная. Отзывы критиков больше влияют на продажи, чем отзывы пользователей. \n",
    "5. По результатам исследования самым прибальным жанром является action. Жанры puzzle и strategy пользуются спросом меньше всего."
   ]
  },
  {
   "cell_type": "markdown",
   "metadata": {},
   "source": [
    "## 4. Составление портрета пользователя каждого региона <a class=\"anchor\" id=\"sp\"></a>"
   ]
  },
  {
   "cell_type": "code",
   "execution_count": 23,
   "metadata": {
    "scrolled": true
   },
   "outputs": [
    {
     "data": {
      "text/html": [
       "<div>\n",
       "<style scoped>\n",
       "    .dataframe tbody tr th:only-of-type {\n",
       "        vertical-align: middle;\n",
       "    }\n",
       "\n",
       "    .dataframe tbody tr th {\n",
       "        vertical-align: top;\n",
       "    }\n",
       "\n",
       "    .dataframe thead th {\n",
       "        text-align: right;\n",
       "    }\n",
       "</style>\n",
       "<table border=\"1\" class=\"dataframe\">\n",
       "  <thead>\n",
       "    <tr style=\"text-align: right;\">\n",
       "      <th></th>\n",
       "      <th>na_sales</th>\n",
       "    </tr>\n",
       "    <tr>\n",
       "      <th>platform</th>\n",
       "      <th></th>\n",
       "    </tr>\n",
       "  </thead>\n",
       "  <tbody>\n",
       "    <tr>\n",
       "      <td>PS4</td>\n",
       "      <td>108.74</td>\n",
       "    </tr>\n",
       "    <tr>\n",
       "      <td>XOne</td>\n",
       "      <td>93.12</td>\n",
       "    </tr>\n",
       "    <tr>\n",
       "      <td>X360</td>\n",
       "      <td>81.66</td>\n",
       "    </tr>\n",
       "    <tr>\n",
       "      <td>PS3</td>\n",
       "      <td>63.50</td>\n",
       "    </tr>\n",
       "    <tr>\n",
       "      <td>3DS</td>\n",
       "      <td>38.20</td>\n",
       "    </tr>\n",
       "  </tbody>\n",
       "</table>\n",
       "</div>"
      ],
      "text/plain": [
       "          na_sales\n",
       "platform          \n",
       "PS4         108.74\n",
       "XOne         93.12\n",
       "X360         81.66\n",
       "PS3          63.50\n",
       "3DS          38.20"
      ]
     },
     "metadata": {},
     "output_type": "display_data"
    },
    {
     "data": {
      "text/html": [
       "<div>\n",
       "<style scoped>\n",
       "    .dataframe tbody tr th:only-of-type {\n",
       "        vertical-align: middle;\n",
       "    }\n",
       "\n",
       "    .dataframe tbody tr th {\n",
       "        vertical-align: top;\n",
       "    }\n",
       "\n",
       "    .dataframe thead th {\n",
       "        text-align: right;\n",
       "    }\n",
       "</style>\n",
       "<table border=\"1\" class=\"dataframe\">\n",
       "  <thead>\n",
       "    <tr style=\"text-align: right;\">\n",
       "      <th></th>\n",
       "      <th>eu_sales</th>\n",
       "    </tr>\n",
       "    <tr>\n",
       "      <th>platform</th>\n",
       "      <th></th>\n",
       "    </tr>\n",
       "  </thead>\n",
       "  <tbody>\n",
       "    <tr>\n",
       "      <td>PS4</td>\n",
       "      <td>141.09</td>\n",
       "    </tr>\n",
       "    <tr>\n",
       "      <td>PS3</td>\n",
       "      <td>67.81</td>\n",
       "    </tr>\n",
       "    <tr>\n",
       "      <td>XOne</td>\n",
       "      <td>51.59</td>\n",
       "    </tr>\n",
       "    <tr>\n",
       "      <td>X360</td>\n",
       "      <td>42.52</td>\n",
       "    </tr>\n",
       "    <tr>\n",
       "      <td>3DS</td>\n",
       "      <td>30.96</td>\n",
       "    </tr>\n",
       "  </tbody>\n",
       "</table>\n",
       "</div>"
      ],
      "text/plain": [
       "          eu_sales\n",
       "platform          \n",
       "PS4         141.09\n",
       "PS3          67.81\n",
       "XOne         51.59\n",
       "X360         42.52\n",
       "3DS          30.96"
      ]
     },
     "metadata": {},
     "output_type": "display_data"
    },
    {
     "data": {
      "text/html": [
       "<div>\n",
       "<style scoped>\n",
       "    .dataframe tbody tr th:only-of-type {\n",
       "        vertical-align: middle;\n",
       "    }\n",
       "\n",
       "    .dataframe tbody tr th {\n",
       "        vertical-align: top;\n",
       "    }\n",
       "\n",
       "    .dataframe thead th {\n",
       "        text-align: right;\n",
       "    }\n",
       "</style>\n",
       "<table border=\"1\" class=\"dataframe\">\n",
       "  <thead>\n",
       "    <tr style=\"text-align: right;\">\n",
       "      <th></th>\n",
       "      <th>jp_sales</th>\n",
       "    </tr>\n",
       "    <tr>\n",
       "      <th>platform</th>\n",
       "      <th></th>\n",
       "    </tr>\n",
       "  </thead>\n",
       "  <tbody>\n",
       "    <tr>\n",
       "      <td>3DS</td>\n",
       "      <td>67.81</td>\n",
       "    </tr>\n",
       "    <tr>\n",
       "      <td>PS3</td>\n",
       "      <td>23.35</td>\n",
       "    </tr>\n",
       "    <tr>\n",
       "      <td>PSV</td>\n",
       "      <td>18.59</td>\n",
       "    </tr>\n",
       "    <tr>\n",
       "      <td>PS4</td>\n",
       "      <td>15.96</td>\n",
       "    </tr>\n",
       "    <tr>\n",
       "      <td>WiiU</td>\n",
       "      <td>10.88</td>\n",
       "    </tr>\n",
       "  </tbody>\n",
       "</table>\n",
       "</div>"
      ],
      "text/plain": [
       "          jp_sales\n",
       "platform          \n",
       "3DS          67.81\n",
       "PS3          23.35\n",
       "PSV          18.59\n",
       "PS4          15.96\n",
       "WiiU         10.88"
      ]
     },
     "metadata": {},
     "output_type": "display_data"
    },
    {
     "data": {
      "image/png": "[encoded data removed]",
      "text/plain": [
       "<Figure size 432x432 with 1 Axes>"
      ]
     },
     "metadata": {},
     "output_type": "display_data"
    },
    {
     "data": {
      "image/png": "[encoded data removed]",
      "text/plain": [
       "<Figure size 432x432 with 1 Axes>"
      ]
     },
     "metadata": {},
     "output_type": "display_data"
    },
    {
     "data": {
      "image/png": "[encoded data removed]",
      "text/plain": [
       "<Figure size 432x432 with 1 Axes>"
      ]
     },
     "metadata": {},
     "output_type": "display_data"
    }
   ],
   "source": [
    "# Цикл для определения самых популярных платформ и построения круговых диаграмм для СА, Европы и Японии \n",
    "region_list = ['na_sales', 'eu_sales', 'jp_sales']\n",
    "for i in region_list:\n",
    "    data = good_data.pivot_table(index = 'platform', values = i, aggfunc = 'sum').sort_values(by = i, ascending = False).head(5)\n",
    "    display(data)\n",
    "    data.plot(kind = 'pie', y = i, autopct='%1.1f%%', figsize=(6,6))"
   ]
  },
  {
   "cell_type": "markdown",
   "metadata": {},
   "source": [
    "Самая популярная платформа в Северной Америке Xbox360, на втором и третьем месте идут PS3 и Wii. В Европе на первом месте PS3, следом идут Xbox360 и Wii. В Японии возглавляет список 3DS, далее DS и PS3. Стоит отметить платформы PS3 и Wii, они есть во всех регионах.    \t"
   ]
  },
  {
   "cell_type": "code",
   "execution_count": 24,
   "metadata": {
    "scrolled": true
   },
   "outputs": [
    {
     "data": {
      "text/html": [
       "<div>\n",
       "<style scoped>\n",
       "    .dataframe tbody tr th:only-of-type {\n",
       "        vertical-align: middle;\n",
       "    }\n",
       "\n",
       "    .dataframe tbody tr th {\n",
       "        vertical-align: top;\n",
       "    }\n",
       "\n",
       "    .dataframe thead th {\n",
       "        text-align: right;\n",
       "    }\n",
       "</style>\n",
       "<table border=\"1\" class=\"dataframe\">\n",
       "  <thead>\n",
       "    <tr style=\"text-align: right;\">\n",
       "      <th></th>\n",
       "      <th>na_sales</th>\n",
       "    </tr>\n",
       "    <tr>\n",
       "      <th>genre</th>\n",
       "      <th></th>\n",
       "    </tr>\n",
       "  </thead>\n",
       "  <tbody>\n",
       "    <tr>\n",
       "      <td>Action</td>\n",
       "      <td>126.05</td>\n",
       "    </tr>\n",
       "    <tr>\n",
       "      <td>Shooter</td>\n",
       "      <td>109.74</td>\n",
       "    </tr>\n",
       "    <tr>\n",
       "      <td>Sports</td>\n",
       "      <td>65.27</td>\n",
       "    </tr>\n",
       "    <tr>\n",
       "      <td>Role-Playing</td>\n",
       "      <td>46.40</td>\n",
       "    </tr>\n",
       "    <tr>\n",
       "      <td>Misc</td>\n",
       "      <td>27.49</td>\n",
       "    </tr>\n",
       "  </tbody>\n",
       "</table>\n",
       "</div>"
      ],
      "text/plain": [
       "              na_sales\n",
       "genre                 \n",
       "Action          126.05\n",
       "Shooter         109.74\n",
       "Sports           65.27\n",
       "Role-Playing     46.40\n",
       "Misc             27.49"
      ]
     },
     "metadata": {},
     "output_type": "display_data"
    },
    {
     "data": {
      "text/html": [
       "<div>\n",
       "<style scoped>\n",
       "    .dataframe tbody tr th:only-of-type {\n",
       "        vertical-align: middle;\n",
       "    }\n",
       "\n",
       "    .dataframe tbody tr th {\n",
       "        vertical-align: top;\n",
       "    }\n",
       "\n",
       "    .dataframe thead th {\n",
       "        text-align: right;\n",
       "    }\n",
       "</style>\n",
       "<table border=\"1\" class=\"dataframe\">\n",
       "  <thead>\n",
       "    <tr style=\"text-align: right;\">\n",
       "      <th></th>\n",
       "      <th>eu_sales</th>\n",
       "    </tr>\n",
       "    <tr>\n",
       "      <th>genre</th>\n",
       "      <th></th>\n",
       "    </tr>\n",
       "  </thead>\n",
       "  <tbody>\n",
       "    <tr>\n",
       "      <td>Action</td>\n",
       "      <td>118.13</td>\n",
       "    </tr>\n",
       "    <tr>\n",
       "      <td>Shooter</td>\n",
       "      <td>87.86</td>\n",
       "    </tr>\n",
       "    <tr>\n",
       "      <td>Sports</td>\n",
       "      <td>60.52</td>\n",
       "    </tr>\n",
       "    <tr>\n",
       "      <td>Role-Playing</td>\n",
       "      <td>36.97</td>\n",
       "    </tr>\n",
       "    <tr>\n",
       "      <td>Racing</td>\n",
       "      <td>20.19</td>\n",
       "    </tr>\n",
       "  </tbody>\n",
       "</table>\n",
       "</div>"
      ],
      "text/plain": [
       "              eu_sales\n",
       "genre                 \n",
       "Action          118.13\n",
       "Shooter          87.86\n",
       "Sports           60.52\n",
       "Role-Playing     36.97\n",
       "Racing           20.19"
      ]
     },
     "metadata": {},
     "output_type": "display_data"
    },
    {
     "data": {
      "text/html": [
       "<div>\n",
       "<style scoped>\n",
       "    .dataframe tbody tr th:only-of-type {\n",
       "        vertical-align: middle;\n",
       "    }\n",
       "\n",
       "    .dataframe tbody tr th {\n",
       "        vertical-align: top;\n",
       "    }\n",
       "\n",
       "    .dataframe thead th {\n",
       "        text-align: right;\n",
       "    }\n",
       "</style>\n",
       "<table border=\"1\" class=\"dataframe\">\n",
       "  <thead>\n",
       "    <tr style=\"text-align: right;\">\n",
       "      <th></th>\n",
       "      <th>jp_sales</th>\n",
       "    </tr>\n",
       "    <tr>\n",
       "      <th>genre</th>\n",
       "      <th></th>\n",
       "    </tr>\n",
       "  </thead>\n",
       "  <tbody>\n",
       "    <tr>\n",
       "      <td>Role-Playing</td>\n",
       "      <td>51.04</td>\n",
       "    </tr>\n",
       "    <tr>\n",
       "      <td>Action</td>\n",
       "      <td>40.49</td>\n",
       "    </tr>\n",
       "    <tr>\n",
       "      <td>Misc</td>\n",
       "      <td>9.20</td>\n",
       "    </tr>\n",
       "    <tr>\n",
       "      <td>Fighting</td>\n",
       "      <td>7.65</td>\n",
       "    </tr>\n",
       "    <tr>\n",
       "      <td>Shooter</td>\n",
       "      <td>6.61</td>\n",
       "    </tr>\n",
       "  </tbody>\n",
       "</table>\n",
       "</div>"
      ],
      "text/plain": [
       "              jp_sales\n",
       "genre                 \n",
       "Role-Playing     51.04\n",
       "Action           40.49\n",
       "Misc              9.20\n",
       "Fighting          7.65\n",
       "Shooter           6.61"
      ]
     },
     "metadata": {},
     "output_type": "display_data"
    },
    {
     "data": {
      "image/png": "[encoded data removed]",
      "text/plain": [
       "<Figure size 432x432 with 1 Axes>"
      ]
     },
     "metadata": {},
     "output_type": "display_data"
    },
    {
     "data": {
      "image/png": "[encoded data removed]",
      "text/plain": [
       "<Figure size 432x432 with 1 Axes>"
      ]
     },
     "metadata": {},
     "output_type": "display_data"
    },
    {
     "data": {
      "image/png": "[encoded data removed]",
      "text/plain": [
       "<Figure size 432x432 with 1 Axes>"
      ]
     },
     "metadata": {},
     "output_type": "display_data"
    }
   ],
   "source": [
    "# Цикл для определения самых популярных жанров и построения круговых диаграмм для СА, Европы и Японии \n",
    "for i in region_list:\n",
    "    data = good_data.pivot_table(index = 'genre', values = i, aggfunc = 'sum').sort_values(by = i, ascending = False).head(5)\n",
    "    display(data)\n",
    "    data.plot(kind = 'pie', y = i, autopct='%1.1f%%', figsize=(6,6))"
   ]
  },
  {
   "cell_type": "markdown",
   "metadata": {},
   "source": [
    "Самые популярные жанры в Северной Америке и Европе Action, Shooter и Sports. На востоке же самым популярным жанром является Role-Playing. Далее идут Action и Misc. Стоит отметить, что шутер не входит в топ-5 жанров в Японии.  "
   ]
  },
  {
   "cell_type": "code",
   "execution_count": 25,
   "metadata": {
    "scrolled": true
   },
   "outputs": [
    {
     "data": {
      "text/html": [
       "<div>\n",
       "<style scoped>\n",
       "    .dataframe tbody tr th:only-of-type {\n",
       "        vertical-align: middle;\n",
       "    }\n",
       "\n",
       "    .dataframe tbody tr th {\n",
       "        vertical-align: top;\n",
       "    }\n",
       "\n",
       "    .dataframe thead th {\n",
       "        text-align: right;\n",
       "    }\n",
       "</style>\n",
       "<table border=\"1\" class=\"dataframe\">\n",
       "  <thead>\n",
       "    <tr style=\"text-align: right;\">\n",
       "      <th></th>\n",
       "      <th>na_sales</th>\n",
       "    </tr>\n",
       "    <tr>\n",
       "      <th>rating</th>\n",
       "      <th></th>\n",
       "    </tr>\n",
       "  </thead>\n",
       "  <tbody>\n",
       "    <tr>\n",
       "      <td>M</td>\n",
       "      <td>165.21</td>\n",
       "    </tr>\n",
       "    <tr>\n",
       "      <td>AO</td>\n",
       "      <td>89.42</td>\n",
       "    </tr>\n",
       "    <tr>\n",
       "      <td>E</td>\n",
       "      <td>79.05</td>\n",
       "    </tr>\n",
       "    <tr>\n",
       "      <td>E10+</td>\n",
       "      <td>54.24</td>\n",
       "    </tr>\n",
       "    <tr>\n",
       "      <td>T</td>\n",
       "      <td>49.79</td>\n",
       "    </tr>\n",
       "  </tbody>\n",
       "</table>\n",
       "</div>"
      ],
      "text/plain": [
       "        na_sales\n",
       "rating          \n",
       "M         165.21\n",
       "AO         89.42\n",
       "E          79.05\n",
       "E10+       54.24\n",
       "T          49.79"
      ]
     },
     "metadata": {},
     "output_type": "display_data"
    },
    {
     "data": {
      "text/html": [
       "<div>\n",
       "<style scoped>\n",
       "    .dataframe tbody tr th:only-of-type {\n",
       "        vertical-align: middle;\n",
       "    }\n",
       "\n",
       "    .dataframe tbody tr th {\n",
       "        vertical-align: top;\n",
       "    }\n",
       "\n",
       "    .dataframe thead th {\n",
       "        text-align: right;\n",
       "    }\n",
       "</style>\n",
       "<table border=\"1\" class=\"dataframe\">\n",
       "  <thead>\n",
       "    <tr style=\"text-align: right;\">\n",
       "      <th></th>\n",
       "      <th>eu_sales</th>\n",
       "    </tr>\n",
       "    <tr>\n",
       "      <th>rating</th>\n",
       "      <th></th>\n",
       "    </tr>\n",
       "  </thead>\n",
       "  <tbody>\n",
       "    <tr>\n",
       "      <td>M</td>\n",
       "      <td>145.32</td>\n",
       "    </tr>\n",
       "    <tr>\n",
       "      <td>E</td>\n",
       "      <td>83.36</td>\n",
       "    </tr>\n",
       "    <tr>\n",
       "      <td>AO</td>\n",
       "      <td>78.91</td>\n",
       "    </tr>\n",
       "    <tr>\n",
       "      <td>E10+</td>\n",
       "      <td>42.69</td>\n",
       "    </tr>\n",
       "    <tr>\n",
       "      <td>T</td>\n",
       "      <td>41.95</td>\n",
       "    </tr>\n",
       "  </tbody>\n",
       "</table>\n",
       "</div>"
      ],
      "text/plain": [
       "        eu_sales\n",
       "rating          \n",
       "M         145.32\n",
       "E          83.36\n",
       "AO         78.91\n",
       "E10+       42.69\n",
       "T          41.95"
      ]
     },
     "metadata": {},
     "output_type": "display_data"
    },
    {
     "data": {
      "text/html": [
       "<div>\n",
       "<style scoped>\n",
       "    .dataframe tbody tr th:only-of-type {\n",
       "        vertical-align: middle;\n",
       "    }\n",
       "\n",
       "    .dataframe tbody tr th {\n",
       "        vertical-align: top;\n",
       "    }\n",
       "\n",
       "    .dataframe thead th {\n",
       "        text-align: right;\n",
       "    }\n",
       "</style>\n",
       "<table border=\"1\" class=\"dataframe\">\n",
       "  <thead>\n",
       "    <tr style=\"text-align: right;\">\n",
       "      <th></th>\n",
       "      <th>jp_sales</th>\n",
       "    </tr>\n",
       "    <tr>\n",
       "      <th>rating</th>\n",
       "      <th></th>\n",
       "    </tr>\n",
       "  </thead>\n",
       "  <tbody>\n",
       "    <tr>\n",
       "      <td>AO</td>\n",
       "      <td>85.05</td>\n",
       "    </tr>\n",
       "    <tr>\n",
       "      <td>T</td>\n",
       "      <td>20.59</td>\n",
       "    </tr>\n",
       "    <tr>\n",
       "      <td>E</td>\n",
       "      <td>15.14</td>\n",
       "    </tr>\n",
       "    <tr>\n",
       "      <td>M</td>\n",
       "      <td>14.11</td>\n",
       "    </tr>\n",
       "    <tr>\n",
       "      <td>E10+</td>\n",
       "      <td>5.89</td>\n",
       "    </tr>\n",
       "  </tbody>\n",
       "</table>\n",
       "</div>"
      ],
      "text/plain": [
       "        jp_sales\n",
       "rating          \n",
       "AO         85.05\n",
       "T          20.59\n",
       "E          15.14\n",
       "M          14.11\n",
       "E10+        5.89"
      ]
     },
     "metadata": {},
     "output_type": "display_data"
    },
    {
     "data": {
      "image/png": "[encoded data removed]",
      "text/plain": [
       "<Figure size 720x360 with 1 Axes>"
      ]
     },
     "metadata": {
      "needs_background": "light"
     },
     "output_type": "display_data"
    },
    {
     "data": {
      "image/png": "[encoded data removed]",
      "text/plain": [
       "<Figure size 720x360 with 1 Axes>"
      ]
     },
     "metadata": {
      "needs_background": "light"
     },
     "output_type": "display_data"
    },
    {
     "data": {
      "image/png": "[encoded data removed]",
      "text/plain": [
       "<Figure size 720x360 with 1 Axes>"
      ]
     },
     "metadata": {
      "needs_background": "light"
     },
     "output_type": "display_data"
    }
   ],
   "source": [
    "# Цикл для определения влияния рейтинга ESRB на продажи для СА, Европы и Японии \n",
    "for i in region_list:\n",
    "    data = good_data.pivot_table(index = 'rating', values = i, aggfunc = 'sum').sort_values(by = i, ascending = False)\n",
    "    display(data)\n",
    "    data.plot(kind = 'bar', y = i, figsize=(10,5))"
   ]
  },
  {
   "cell_type": "markdown",
   "metadata": {},
   "source": [
    "В Северной Америке преобладает рейтинг Е — «Для всех», следом М — «Для взрослых» и Т — «Подросткам». Для Европы М — «Для взрослых», далее Е — «Для всех» и АО — «Только для взрослых». В Японии первое место занимает АО — «Только для взрослых», на втором и третьем местах Е — «Для всех» и Т — «Подросткам». Основываясь на данных из столбчатых графиков можно сделать вывод, что ЕС — «Для детей младшего возраста» не пользуется популярностью не в одном из регионов."
   ]
  },
  {
   "cell_type": "markdown",
   "metadata": {},
   "source": [
    "**Вывод**"
   ]
  },
  {
   "cell_type": "markdown",
   "metadata": {},
   "source": [
    "1. Самые популярные платформы в Америке и Европе одиннаковые - это PS3, Xbox360 и Wii, просто в Северной Америке больше предпочитают Xbox360, а в Европе PS3. В Японии больше пользуется спросом продукция японской компании Nintendo, портативные игровые системы 3DS и DS, также там популярна PS3 компании Sony. \n",
    "2. В СА и Европе одни и те же популярные игровые жанры - Action, Shooter и Sports. В Японии самый популярный жанр Role-Playing, Action и Misc, а Shooter нет вовсе.    \n",
    "3. Самые популярные возрастные ограничения в С. Америке, Европе, Японии - E, T, M, АО. E10+ в Америке обгоняет АО, но в Европе и Японии «Adults Only 18+» преобладает. \n",
    "\n",
    "\n",
    "Из полученных данных можно сделать вывод, что хорошие продажи можно получить у платформ '3DS','PS3','X360','Wii'. Также стоит обратить внимание на появление новых версий данных платформ. Выбирая жанры, самыми популярными являются Action, Sport, Shooter и Role-Playing с ориентацией от 13 лет и старше. "
   ]
  },
  {
   "cell_type": "markdown",
   "metadata": {},
   "source": [
    "## 5. Проверка гипотез <a class=\"anchor\" id=\"pg\"></a>"
   ]
  },
  {
   "cell_type": "code",
   "execution_count": 26,
   "metadata": {},
   "outputs": [
    {
     "data": {
      "text/html": [
       "<div>\n",
       "<style scoped>\n",
       "    .dataframe tbody tr th:only-of-type {\n",
       "        vertical-align: middle;\n",
       "    }\n",
       "\n",
       "    .dataframe tbody tr th {\n",
       "        vertical-align: top;\n",
       "    }\n",
       "\n",
       "    .dataframe thead tr th {\n",
       "        text-align: left;\n",
       "    }\n",
       "\n",
       "    .dataframe thead tr:last-of-type th {\n",
       "        text-align: right;\n",
       "    }\n",
       "</style>\n",
       "<table border=\"1\" class=\"dataframe\">\n",
       "  <thead>\n",
       "    <tr>\n",
       "      <th></th>\n",
       "      <th colspan=\"3\" halign=\"left\">user_score</th>\n",
       "    </tr>\n",
       "    <tr>\n",
       "      <th></th>\n",
       "      <th>mean</th>\n",
       "      <th>var</th>\n",
       "      <th>std</th>\n",
       "    </tr>\n",
       "    <tr>\n",
       "      <th>platform</th>\n",
       "      <th></th>\n",
       "      <th></th>\n",
       "      <th></th>\n",
       "    </tr>\n",
       "  </thead>\n",
       "  <tbody>\n",
       "    <tr>\n",
       "      <td>PC</td>\n",
       "      <td>6.302027</td>\n",
       "      <td>2.932445</td>\n",
       "      <td>1.712438</td>\n",
       "    </tr>\n",
       "    <tr>\n",
       "      <td>XOne</td>\n",
       "      <td>6.538182</td>\n",
       "      <td>1.796399</td>\n",
       "      <td>1.340298</td>\n",
       "    </tr>\n",
       "  </tbody>\n",
       "</table>\n",
       "</div>"
      ],
      "text/plain": [
       "         user_score                    \n",
       "               mean       var       std\n",
       "platform                               \n",
       "PC         6.302027  2.932445  1.712438\n",
       "XOne       6.538182  1.796399  1.340298"
      ]
     },
     "execution_count": 26,
     "metadata": {},
     "output_type": "execute_result"
    }
   ],
   "source": [
    "# Вывел среднее количество, дисперсию и стандартное отклонение по оценкам пользователей для XOne и PC\n",
    "xone_pc_data = good_data.query('platform in (\"XOne\", \"PC\")')\n",
    "xone_pc_data = xone_pc_data.dropna()\n",
    "xone_pc_data.groupby('platform').agg({'user_score': ['mean', 'var', 'std']})"
   ]
  },
  {
   "cell_type": "code",
   "execution_count": 27,
   "metadata": {
    "scrolled": true
   },
   "outputs": [
    {
     "data": {
      "text/html": [
       "<div>\n",
       "<style scoped>\n",
       "    .dataframe tbody tr th:only-of-type {\n",
       "        vertical-align: middle;\n",
       "    }\n",
       "\n",
       "    .dataframe tbody tr th {\n",
       "        vertical-align: top;\n",
       "    }\n",
       "\n",
       "    .dataframe thead th {\n",
       "        text-align: right;\n",
       "    }\n",
       "</style>\n",
       "<table border=\"1\" class=\"dataframe\">\n",
       "  <thead>\n",
       "    <tr style=\"text-align: right;\">\n",
       "      <th></th>\n",
       "      <th>name</th>\n",
       "      <th>platform</th>\n",
       "      <th>year_of_release</th>\n",
       "      <th>genre</th>\n",
       "      <th>na_sales</th>\n",
       "      <th>eu_sales</th>\n",
       "      <th>jp_sales</th>\n",
       "      <th>other_sales</th>\n",
       "      <th>critic_score</th>\n",
       "      <th>user_score</th>\n",
       "      <th>rating</th>\n",
       "      <th>total_sales</th>\n",
       "    </tr>\n",
       "  </thead>\n",
       "  <tbody>\n",
       "    <tr>\n",
       "      <td>0</td>\n",
       "      <td>Grand Theft Auto V</td>\n",
       "      <td>XOne</td>\n",
       "      <td>2014</td>\n",
       "      <td>Action</td>\n",
       "      <td>2.81</td>\n",
       "      <td>2.19</td>\n",
       "      <td>0.00</td>\n",
       "      <td>0.47</td>\n",
       "      <td>97.0</td>\n",
       "      <td>7.9</td>\n",
       "      <td>M</td>\n",
       "      <td>5.47</td>\n",
       "    </tr>\n",
       "    <tr>\n",
       "      <td>1</td>\n",
       "      <td>Call of Duty: Advanced Warfare</td>\n",
       "      <td>XOne</td>\n",
       "      <td>2014</td>\n",
       "      <td>Shooter</td>\n",
       "      <td>3.22</td>\n",
       "      <td>1.55</td>\n",
       "      <td>0.01</td>\n",
       "      <td>0.48</td>\n",
       "      <td>81.0</td>\n",
       "      <td>5.4</td>\n",
       "      <td>M</td>\n",
       "      <td>5.26</td>\n",
       "    </tr>\n",
       "    <tr>\n",
       "      <td>2</td>\n",
       "      <td>Halo 5: Guardians</td>\n",
       "      <td>XOne</td>\n",
       "      <td>2015</td>\n",
       "      <td>Shooter</td>\n",
       "      <td>2.78</td>\n",
       "      <td>1.27</td>\n",
       "      <td>0.03</td>\n",
       "      <td>0.41</td>\n",
       "      <td>84.0</td>\n",
       "      <td>6.4</td>\n",
       "      <td>T</td>\n",
       "      <td>4.49</td>\n",
       "    </tr>\n",
       "    <tr>\n",
       "      <td>3</td>\n",
       "      <td>Fallout 4</td>\n",
       "      <td>XOne</td>\n",
       "      <td>2015</td>\n",
       "      <td>Role-Playing</td>\n",
       "      <td>2.51</td>\n",
       "      <td>1.32</td>\n",
       "      <td>0.01</td>\n",
       "      <td>0.38</td>\n",
       "      <td>88.0</td>\n",
       "      <td>6.2</td>\n",
       "      <td>M</td>\n",
       "      <td>4.22</td>\n",
       "    </tr>\n",
       "    <tr>\n",
       "      <td>4</td>\n",
       "      <td>Assassin's Creed: Unity</td>\n",
       "      <td>XOne</td>\n",
       "      <td>2014</td>\n",
       "      <td>Action</td>\n",
       "      <td>2.27</td>\n",
       "      <td>0.90</td>\n",
       "      <td>0.00</td>\n",
       "      <td>0.33</td>\n",
       "      <td>72.0</td>\n",
       "      <td>4.1</td>\n",
       "      <td>M</td>\n",
       "      <td>3.50</td>\n",
       "    </tr>\n",
       "  </tbody>\n",
       "</table>\n",
       "</div>"
      ],
      "text/plain": [
       "                             name platform  year_of_release         genre  \\\n",
       "0              Grand Theft Auto V     XOne             2014        Action   \n",
       "1  Call of Duty: Advanced Warfare     XOne             2014       Shooter   \n",
       "2               Halo 5: Guardians     XOne             2015       Shooter   \n",
       "3                       Fallout 4     XOne             2015  Role-Playing   \n",
       "4         Assassin's Creed: Unity     XOne             2014        Action   \n",
       "\n",
       "   na_sales  eu_sales  jp_sales  other_sales  critic_score  user_score rating  \\\n",
       "0      2.81      2.19      0.00         0.47          97.0         7.9      M   \n",
       "1      3.22      1.55      0.01         0.48          81.0         5.4      M   \n",
       "2      2.78      1.27      0.03         0.41          84.0         6.4      T   \n",
       "3      2.51      1.32      0.01         0.38          88.0         6.2      M   \n",
       "4      2.27      0.90      0.00         0.33          72.0         4.1      M   \n",
       "\n",
       "   total_sales  \n",
       "0         5.47  \n",
       "1         5.26  \n",
       "2         4.49  \n",
       "3         4.22  \n",
       "4         3.50  "
      ]
     },
     "metadata": {},
     "output_type": "display_data"
    },
    {
     "name": "stdout",
     "output_type": "stream",
     "text": [
      "AxesSubplot(0.125,0.125;0.775x0.755)\n",
      "count    165.000000\n",
      "mean       6.538182\n",
      "std        1.340298\n",
      "min        2.100000\n",
      "25%        5.800000\n",
      "50%        6.800000\n",
      "75%        7.500000\n",
      "max        9.200000\n",
      "Name: user_score, dtype: float64\n",
      "<class 'pandas.core.frame.DataFrame'>\n",
      "RangeIndex: 165 entries, 0 to 164\n",
      "Data columns (total 12 columns):\n",
      "name               165 non-null object\n",
      "platform           165 non-null object\n",
      "year_of_release    165 non-null int64\n",
      "genre              165 non-null object\n",
      "na_sales           165 non-null float64\n",
      "eu_sales           165 non-null float64\n",
      "jp_sales           165 non-null float64\n",
      "other_sales        165 non-null float64\n",
      "critic_score       165 non-null float64\n",
      "user_score         165 non-null float64\n",
      "rating             165 non-null object\n",
      "total_sales        165 non-null float64\n",
      "dtypes: float64(7), int64(1), object(4)\n",
      "memory usage: 15.6+ KB\n"
     ]
    },
    {
     "data": {
      "image/png": "[encoded data removed]",
      "text/plain": [
       "<Figure size 864x648 with 1 Axes>"
      ]
     },
     "metadata": {
      "needs_background": "light"
     },
     "output_type": "display_data"
    }
   ],
   "source": [
    "# Построил гистограмму и вывел общую информацию по XOne\n",
    "xone_data = good_data.query('platform == \"XOne\"')\n",
    "xone_data = xone_data.dropna().reset_index(drop = True)\n",
    "display(xone_data.head())\n",
    "print(xone_data['user_score'].hist(bins=10, range=(0, 10), figsize=(12,9)))\n",
    "print(xone_data['user_score'].describe())\n",
    "xone_data.info()"
   ]
  },
  {
   "cell_type": "code",
   "execution_count": 28,
   "metadata": {
    "scrolled": true
   },
   "outputs": [
    {
     "data": {
      "text/html": [
       "<div>\n",
       "<style scoped>\n",
       "    .dataframe tbody tr th:only-of-type {\n",
       "        vertical-align: middle;\n",
       "    }\n",
       "\n",
       "    .dataframe tbody tr th {\n",
       "        vertical-align: top;\n",
       "    }\n",
       "\n",
       "    .dataframe thead th {\n",
       "        text-align: right;\n",
       "    }\n",
       "</style>\n",
       "<table border=\"1\" class=\"dataframe\">\n",
       "  <thead>\n",
       "    <tr style=\"text-align: right;\">\n",
       "      <th></th>\n",
       "      <th>name</th>\n",
       "      <th>platform</th>\n",
       "      <th>year_of_release</th>\n",
       "      <th>genre</th>\n",
       "      <th>na_sales</th>\n",
       "      <th>eu_sales</th>\n",
       "      <th>jp_sales</th>\n",
       "      <th>other_sales</th>\n",
       "      <th>critic_score</th>\n",
       "      <th>user_score</th>\n",
       "      <th>rating</th>\n",
       "      <th>total_sales</th>\n",
       "    </tr>\n",
       "  </thead>\n",
       "  <tbody>\n",
       "    <tr>\n",
       "      <td>0</td>\n",
       "      <td>The Sims 4</td>\n",
       "      <td>PC</td>\n",
       "      <td>2014</td>\n",
       "      <td>Simulation</td>\n",
       "      <td>1.00</td>\n",
       "      <td>1.82</td>\n",
       "      <td>0.0</td>\n",
       "      <td>0.23</td>\n",
       "      <td>70.0</td>\n",
       "      <td>3.9</td>\n",
       "      <td>T</td>\n",
       "      <td>3.05</td>\n",
       "    </tr>\n",
       "    <tr>\n",
       "      <td>1</td>\n",
       "      <td>StarCraft II: Heart of the Swarm</td>\n",
       "      <td>PC</td>\n",
       "      <td>2013</td>\n",
       "      <td>Strategy</td>\n",
       "      <td>0.83</td>\n",
       "      <td>0.66</td>\n",
       "      <td>0.0</td>\n",
       "      <td>0.18</td>\n",
       "      <td>86.0</td>\n",
       "      <td>7.9</td>\n",
       "      <td>T</td>\n",
       "      <td>1.67</td>\n",
       "    </tr>\n",
       "    <tr>\n",
       "      <td>2</td>\n",
       "      <td>SimCity (2013)</td>\n",
       "      <td>PC</td>\n",
       "      <td>2013</td>\n",
       "      <td>Simulation</td>\n",
       "      <td>0.48</td>\n",
       "      <td>0.77</td>\n",
       "      <td>0.0</td>\n",
       "      <td>0.17</td>\n",
       "      <td>64.0</td>\n",
       "      <td>2.2</td>\n",
       "      <td>E10+</td>\n",
       "      <td>1.42</td>\n",
       "    </tr>\n",
       "    <tr>\n",
       "      <td>3</td>\n",
       "      <td>Battlefield 4</td>\n",
       "      <td>PC</td>\n",
       "      <td>2013</td>\n",
       "      <td>Shooter</td>\n",
       "      <td>0.39</td>\n",
       "      <td>0.87</td>\n",
       "      <td>0.0</td>\n",
       "      <td>0.10</td>\n",
       "      <td>81.0</td>\n",
       "      <td>6.0</td>\n",
       "      <td>M</td>\n",
       "      <td>1.36</td>\n",
       "    </tr>\n",
       "    <tr>\n",
       "      <td>4</td>\n",
       "      <td>Fallout 4</td>\n",
       "      <td>PC</td>\n",
       "      <td>2015</td>\n",
       "      <td>Role-Playing</td>\n",
       "      <td>0.51</td>\n",
       "      <td>0.67</td>\n",
       "      <td>0.0</td>\n",
       "      <td>0.10</td>\n",
       "      <td>84.0</td>\n",
       "      <td>5.4</td>\n",
       "      <td>M</td>\n",
       "      <td>1.28</td>\n",
       "    </tr>\n",
       "  </tbody>\n",
       "</table>\n",
       "</div>"
      ],
      "text/plain": [
       "                               name platform  year_of_release         genre  \\\n",
       "0                        The Sims 4       PC             2014    Simulation   \n",
       "1  StarCraft II: Heart of the Swarm       PC             2013      Strategy   \n",
       "2                    SimCity (2013)       PC             2013    Simulation   \n",
       "3                     Battlefield 4       PC             2013       Shooter   \n",
       "4                         Fallout 4       PC             2015  Role-Playing   \n",
       "\n",
       "   na_sales  eu_sales  jp_sales  other_sales  critic_score  user_score rating  \\\n",
       "0      1.00      1.82       0.0         0.23          70.0         3.9      T   \n",
       "1      0.83      0.66       0.0         0.18          86.0         7.9      T   \n",
       "2      0.48      0.77       0.0         0.17          64.0         2.2   E10+   \n",
       "3      0.39      0.87       0.0         0.10          81.0         6.0      M   \n",
       "4      0.51      0.67       0.0         0.10          84.0         5.4      M   \n",
       "\n",
       "   total_sales  \n",
       "0         3.05  \n",
       "1         1.67  \n",
       "2         1.42  \n",
       "3         1.36  \n",
       "4         1.28  "
      ]
     },
     "metadata": {},
     "output_type": "display_data"
    },
    {
     "name": "stdout",
     "output_type": "stream",
     "text": [
      "AxesSubplot(0.125,0.125;0.775x0.755)\n",
      "count    148.000000\n",
      "mean       6.302027\n",
      "std        1.712438\n",
      "min        1.400000\n",
      "25%        5.375000\n",
      "50%        6.800000\n",
      "75%        7.600000\n",
      "max        9.300000\n",
      "Name: user_score, dtype: float64\n",
      "<class 'pandas.core.frame.DataFrame'>\n",
      "RangeIndex: 148 entries, 0 to 147\n",
      "Data columns (total 12 columns):\n",
      "name               148 non-null object\n",
      "platform           148 non-null object\n",
      "year_of_release    148 non-null int64\n",
      "genre              148 non-null object\n",
      "na_sales           148 non-null float64\n",
      "eu_sales           148 non-null float64\n",
      "jp_sales           148 non-null float64\n",
      "other_sales        148 non-null float64\n",
      "critic_score       148 non-null float64\n",
      "user_score         148 non-null float64\n",
      "rating             148 non-null object\n",
      "total_sales        148 non-null float64\n",
      "dtypes: float64(7), int64(1), object(4)\n",
      "memory usage: 14.0+ KB\n"
     ]
    },
    {
     "data": {
      "image/png": "[encoded data removed]",
      "text/plain": [
       "<Figure size 864x648 with 1 Axes>"
      ]
     },
     "metadata": {
      "needs_background": "light"
     },
     "output_type": "display_data"
    }
   ],
   "source": [
    "# Построил гистограмму и вывел общую информацию по PC\n",
    "pc_data = good_data.query('platform == \"PC\"')\n",
    "pc_data = pc_data.dropna().reset_index(drop = True)\n",
    "display(pc_data.head())\n",
    "print(pc_data['user_score'].hist(bins=10, range=(0, 10), figsize=(12,9)))\n",
    "print(pc_data['user_score'].describe())\n",
    "pc_data.info()"
   ]
  },
  {
   "cell_type": "code",
   "execution_count": 29,
   "metadata": {},
   "outputs": [
    {
     "name": "stdout",
     "output_type": "stream",
     "text": [
      "p-значение:  0.17882648263401307\n",
      "Не получилось отвергнуть нулевую гипотезу\n"
     ]
    }
   ],
   "source": [
    "# Проверка гипотезы\n",
    "xone_score = xone_pc_data[xone_pc_data['platform'] == 'XOne']['user_score']\n",
    "pc_score = xone_pc_data[xone_pc_data['platform'] == 'PC']['user_score']\n",
    "\n",
    "alpha = 0.05\n",
    "results = st.ttest_ind(xone_score, pc_score, equal_var = False)\n",
    "print('p-значение: ', results.pvalue)\n",
    "\n",
    "if results.pvalue < alpha: \n",
    "    print(\"Отвергаем нулевую гипотезу\")\n",
    "else:\n",
    "    print(\"Не получилось отвергнуть нулевую гипотезу\")"
   ]
  },
  {
   "cell_type": "markdown",
   "metadata": {},
   "source": [
    "Средние пользовательские рейтинги платформ Xbox One и PC приблизительно одинаковы. Параметры равны."
   ]
  },
  {
   "cell_type": "code",
   "execution_count": 30,
   "metadata": {},
   "outputs": [
    {
     "data": {
      "text/html": [
       "<div>\n",
       "<style scoped>\n",
       "    .dataframe tbody tr th:only-of-type {\n",
       "        vertical-align: middle;\n",
       "    }\n",
       "\n",
       "    .dataframe tbody tr th {\n",
       "        vertical-align: top;\n",
       "    }\n",
       "\n",
       "    .dataframe thead tr th {\n",
       "        text-align: left;\n",
       "    }\n",
       "\n",
       "    .dataframe thead tr:last-of-type th {\n",
       "        text-align: right;\n",
       "    }\n",
       "</style>\n",
       "<table border=\"1\" class=\"dataframe\">\n",
       "  <thead>\n",
       "    <tr>\n",
       "      <th></th>\n",
       "      <th colspan=\"3\" halign=\"left\">user_score</th>\n",
       "    </tr>\n",
       "    <tr>\n",
       "      <th></th>\n",
       "      <th>mean</th>\n",
       "      <th>var</th>\n",
       "      <th>std</th>\n",
       "    </tr>\n",
       "    <tr>\n",
       "      <th>genre</th>\n",
       "      <th></th>\n",
       "      <th></th>\n",
       "      <th></th>\n",
       "    </tr>\n",
       "  </thead>\n",
       "  <tbody>\n",
       "    <tr>\n",
       "      <td>Action</td>\n",
       "      <td>6.936246</td>\n",
       "      <td>1.646214</td>\n",
       "      <td>1.283049</td>\n",
       "    </tr>\n",
       "    <tr>\n",
       "      <td>Sports</td>\n",
       "      <td>5.665455</td>\n",
       "      <td>2.131640</td>\n",
       "      <td>1.460014</td>\n",
       "    </tr>\n",
       "  </tbody>\n",
       "</table>\n",
       "</div>"
      ],
      "text/plain": [
       "       user_score                    \n",
       "             mean       var       std\n",
       "genre                                \n",
       "Action   6.936246  1.646214  1.283049\n",
       "Sports   5.665455  2.131640  1.460014"
      ]
     },
     "execution_count": 30,
     "metadata": {},
     "output_type": "execute_result"
    }
   ],
   "source": [
    "# Вывел среднее количество, дисперсию и стандартное отклонение по оценкам пользователей для Action и Sports\n",
    "genre_data = good_data.query('genre in (\"Action\", \"Sports\")')\n",
    "genre_data = genre_data.dropna()\n",
    "genre_data.groupby('genre').agg({'user_score': ['mean', 'var', 'std']})"
   ]
  },
  {
   "cell_type": "code",
   "execution_count": 31,
   "metadata": {
    "scrolled": true
   },
   "outputs": [
    {
     "data": {
      "text/html": [
       "<div>\n",
       "<style scoped>\n",
       "    .dataframe tbody tr th:only-of-type {\n",
       "        vertical-align: middle;\n",
       "    }\n",
       "\n",
       "    .dataframe tbody tr th {\n",
       "        vertical-align: top;\n",
       "    }\n",
       "\n",
       "    .dataframe thead th {\n",
       "        text-align: right;\n",
       "    }\n",
       "</style>\n",
       "<table border=\"1\" class=\"dataframe\">\n",
       "  <thead>\n",
       "    <tr style=\"text-align: right;\">\n",
       "      <th></th>\n",
       "      <th>name</th>\n",
       "      <th>platform</th>\n",
       "      <th>year_of_release</th>\n",
       "      <th>genre</th>\n",
       "      <th>na_sales</th>\n",
       "      <th>eu_sales</th>\n",
       "      <th>jp_sales</th>\n",
       "      <th>other_sales</th>\n",
       "      <th>critic_score</th>\n",
       "      <th>user_score</th>\n",
       "      <th>rating</th>\n",
       "      <th>total_sales</th>\n",
       "    </tr>\n",
       "  </thead>\n",
       "  <tbody>\n",
       "    <tr>\n",
       "      <td>0</td>\n",
       "      <td>Grand Theft Auto V</td>\n",
       "      <td>PS3</td>\n",
       "      <td>2013</td>\n",
       "      <td>Action</td>\n",
       "      <td>7.02</td>\n",
       "      <td>9.09</td>\n",
       "      <td>0.98</td>\n",
       "      <td>3.96</td>\n",
       "      <td>97.0</td>\n",
       "      <td>8.2</td>\n",
       "      <td>M</td>\n",
       "      <td>21.05</td>\n",
       "    </tr>\n",
       "    <tr>\n",
       "      <td>1</td>\n",
       "      <td>Grand Theft Auto V</td>\n",
       "      <td>X360</td>\n",
       "      <td>2013</td>\n",
       "      <td>Action</td>\n",
       "      <td>9.66</td>\n",
       "      <td>5.14</td>\n",
       "      <td>0.06</td>\n",
       "      <td>1.41</td>\n",
       "      <td>97.0</td>\n",
       "      <td>8.1</td>\n",
       "      <td>M</td>\n",
       "      <td>16.27</td>\n",
       "    </tr>\n",
       "    <tr>\n",
       "      <td>2</td>\n",
       "      <td>Grand Theft Auto V</td>\n",
       "      <td>PS4</td>\n",
       "      <td>2014</td>\n",
       "      <td>Action</td>\n",
       "      <td>3.96</td>\n",
       "      <td>6.31</td>\n",
       "      <td>0.38</td>\n",
       "      <td>1.97</td>\n",
       "      <td>97.0</td>\n",
       "      <td>8.3</td>\n",
       "      <td>M</td>\n",
       "      <td>12.62</td>\n",
       "    </tr>\n",
       "    <tr>\n",
       "      <td>3</td>\n",
       "      <td>The Last of Us</td>\n",
       "      <td>PS3</td>\n",
       "      <td>2013</td>\n",
       "      <td>Action</td>\n",
       "      <td>2.41</td>\n",
       "      <td>2.18</td>\n",
       "      <td>0.28</td>\n",
       "      <td>0.99</td>\n",
       "      <td>95.0</td>\n",
       "      <td>9.1</td>\n",
       "      <td>M</td>\n",
       "      <td>5.86</td>\n",
       "    </tr>\n",
       "    <tr>\n",
       "      <td>4</td>\n",
       "      <td>Grand Theft Auto V</td>\n",
       "      <td>XOne</td>\n",
       "      <td>2014</td>\n",
       "      <td>Action</td>\n",
       "      <td>2.81</td>\n",
       "      <td>2.19</td>\n",
       "      <td>0.00</td>\n",
       "      <td>0.47</td>\n",
       "      <td>97.0</td>\n",
       "      <td>7.9</td>\n",
       "      <td>M</td>\n",
       "      <td>5.47</td>\n",
       "    </tr>\n",
       "  </tbody>\n",
       "</table>\n",
       "</div>"
      ],
      "text/plain": [
       "                 name platform  year_of_release   genre  na_sales  eu_sales  \\\n",
       "0  Grand Theft Auto V      PS3             2013  Action      7.02      9.09   \n",
       "1  Grand Theft Auto V     X360             2013  Action      9.66      5.14   \n",
       "2  Grand Theft Auto V      PS4             2014  Action      3.96      6.31   \n",
       "3      The Last of Us      PS3             2013  Action      2.41      2.18   \n",
       "4  Grand Theft Auto V     XOne             2014  Action      2.81      2.19   \n",
       "\n",
       "   jp_sales  other_sales  critic_score  user_score rating  total_sales  \n",
       "0      0.98         3.96          97.0         8.2      M        21.05  \n",
       "1      0.06         1.41          97.0         8.1      M        16.27  \n",
       "2      0.38         1.97          97.0         8.3      M        12.62  \n",
       "3      0.28         0.99          95.0         9.1      M         5.86  \n",
       "4      0.00         0.47          97.0         7.9      M         5.47  "
      ]
     },
     "metadata": {},
     "output_type": "display_data"
    },
    {
     "name": "stdout",
     "output_type": "stream",
     "text": [
      "AxesSubplot(0.125,0.125;0.775x0.755)\n",
      "count    309.000000\n",
      "mean       6.936246\n",
      "std        1.283049\n",
      "min        2.000000\n",
      "25%        6.400000\n",
      "50%        7.300000\n",
      "75%        7.800000\n",
      "max        9.100000\n",
      "Name: user_score, dtype: float64\n",
      "<class 'pandas.core.frame.DataFrame'>\n",
      "RangeIndex: 309 entries, 0 to 308\n",
      "Data columns (total 12 columns):\n",
      "name               309 non-null object\n",
      "platform           309 non-null object\n",
      "year_of_release    309 non-null int64\n",
      "genre              309 non-null object\n",
      "na_sales           309 non-null float64\n",
      "eu_sales           309 non-null float64\n",
      "jp_sales           309 non-null float64\n",
      "other_sales        309 non-null float64\n",
      "critic_score       309 non-null float64\n",
      "user_score         309 non-null float64\n",
      "rating             309 non-null object\n",
      "total_sales        309 non-null float64\n",
      "dtypes: float64(7), int64(1), object(4)\n",
      "memory usage: 29.1+ KB\n"
     ]
    },
    {
     "data": {
      "image/png": "[encoded data removed]",
      "text/plain": [
       "<Figure size 864x648 with 1 Axes>"
      ]
     },
     "metadata": {
      "needs_background": "light"
     },
     "output_type": "display_data"
    }
   ],
   "source": [
    "# Построил гистограмму и вывел общую информацию по Action\n",
    "action_data = good_data.query('genre == \"Action\"')\n",
    "action_data = action_data.dropna().reset_index(drop = True)\n",
    "display(action_data.head())\n",
    "print(action_data['user_score'].hist(bins=10, range=(0, 10), figsize=(12,9)))\n",
    "print(action_data['user_score'].describe())\n",
    "action_data.info()"
   ]
  },
  {
   "cell_type": "code",
   "execution_count": 32,
   "metadata": {
    "scrolled": true
   },
   "outputs": [
    {
     "data": {
      "text/html": [
       "<div>\n",
       "<style scoped>\n",
       "    .dataframe tbody tr th:only-of-type {\n",
       "        vertical-align: middle;\n",
       "    }\n",
       "\n",
       "    .dataframe tbody tr th {\n",
       "        vertical-align: top;\n",
       "    }\n",
       "\n",
       "    .dataframe thead th {\n",
       "        text-align: right;\n",
       "    }\n",
       "</style>\n",
       "<table border=\"1\" class=\"dataframe\">\n",
       "  <thead>\n",
       "    <tr style=\"text-align: right;\">\n",
       "      <th></th>\n",
       "      <th>name</th>\n",
       "      <th>platform</th>\n",
       "      <th>year_of_release</th>\n",
       "      <th>genre</th>\n",
       "      <th>na_sales</th>\n",
       "      <th>eu_sales</th>\n",
       "      <th>jp_sales</th>\n",
       "      <th>other_sales</th>\n",
       "      <th>critic_score</th>\n",
       "      <th>user_score</th>\n",
       "      <th>rating</th>\n",
       "      <th>total_sales</th>\n",
       "    </tr>\n",
       "  </thead>\n",
       "  <tbody>\n",
       "    <tr>\n",
       "      <td>0</td>\n",
       "      <td>FIFA 16</td>\n",
       "      <td>PS4</td>\n",
       "      <td>2015</td>\n",
       "      <td>Sports</td>\n",
       "      <td>1.12</td>\n",
       "      <td>6.12</td>\n",
       "      <td>0.06</td>\n",
       "      <td>1.28</td>\n",
       "      <td>82.0</td>\n",
       "      <td>4.3</td>\n",
       "      <td>E</td>\n",
       "      <td>8.58</td>\n",
       "    </tr>\n",
       "    <tr>\n",
       "      <td>1</td>\n",
       "      <td>FIFA 17</td>\n",
       "      <td>PS4</td>\n",
       "      <td>2016</td>\n",
       "      <td>Sports</td>\n",
       "      <td>0.66</td>\n",
       "      <td>5.75</td>\n",
       "      <td>0.08</td>\n",
       "      <td>1.11</td>\n",
       "      <td>85.0</td>\n",
       "      <td>5.0</td>\n",
       "      <td>E</td>\n",
       "      <td>7.60</td>\n",
       "    </tr>\n",
       "    <tr>\n",
       "      <td>2</td>\n",
       "      <td>FIFA 14</td>\n",
       "      <td>PS3</td>\n",
       "      <td>2013</td>\n",
       "      <td>Sports</td>\n",
       "      <td>0.78</td>\n",
       "      <td>4.24</td>\n",
       "      <td>0.07</td>\n",
       "      <td>1.37</td>\n",
       "      <td>86.0</td>\n",
       "      <td>4.3</td>\n",
       "      <td>E</td>\n",
       "      <td>6.46</td>\n",
       "    </tr>\n",
       "    <tr>\n",
       "      <td>3</td>\n",
       "      <td>FIFA 15</td>\n",
       "      <td>PS4</td>\n",
       "      <td>2014</td>\n",
       "      <td>Sports</td>\n",
       "      <td>0.80</td>\n",
       "      <td>4.33</td>\n",
       "      <td>0.05</td>\n",
       "      <td>0.90</td>\n",
       "      <td>82.0</td>\n",
       "      <td>5.7</td>\n",
       "      <td>E</td>\n",
       "      <td>6.08</td>\n",
       "    </tr>\n",
       "    <tr>\n",
       "      <td>4</td>\n",
       "      <td>FIFA 14</td>\n",
       "      <td>X360</td>\n",
       "      <td>2013</td>\n",
       "      <td>Sports</td>\n",
       "      <td>0.92</td>\n",
       "      <td>2.89</td>\n",
       "      <td>0.01</td>\n",
       "      <td>0.40</td>\n",
       "      <td>84.0</td>\n",
       "      <td>4.2</td>\n",
       "      <td>E</td>\n",
       "      <td>4.22</td>\n",
       "    </tr>\n",
       "  </tbody>\n",
       "</table>\n",
       "</div>"
      ],
      "text/plain": [
       "      name platform  year_of_release   genre  na_sales  eu_sales  jp_sales  \\\n",
       "0  FIFA 16      PS4             2015  Sports      1.12      6.12      0.06   \n",
       "1  FIFA 17      PS4             2016  Sports      0.66      5.75      0.08   \n",
       "2  FIFA 14      PS3             2013  Sports      0.78      4.24      0.07   \n",
       "3  FIFA 15      PS4             2014  Sports      0.80      4.33      0.05   \n",
       "4  FIFA 14     X360             2013  Sports      0.92      2.89      0.01   \n",
       "\n",
       "   other_sales  critic_score  user_score rating  total_sales  \n",
       "0         1.28          82.0         4.3      E         8.58  \n",
       "1         1.11          85.0         5.0      E         7.60  \n",
       "2         1.37          86.0         4.3      E         6.46  \n",
       "3         0.90          82.0         5.7      E         6.08  \n",
       "4         0.40          84.0         4.2      E         4.22  "
      ]
     },
     "metadata": {},
     "output_type": "display_data"
    },
    {
     "name": "stdout",
     "output_type": "stream",
     "text": [
      "AxesSubplot(0.125,0.125;0.775x0.755)\n",
      "count    110.000000\n",
      "mean       5.665455\n",
      "std        1.460014\n",
      "min        1.500000\n",
      "25%        4.650000\n",
      "50%        5.850000\n",
      "75%        6.675000\n",
      "max        8.700000\n",
      "Name: user_score, dtype: float64\n",
      "<class 'pandas.core.frame.DataFrame'>\n",
      "RangeIndex: 110 entries, 0 to 109\n",
      "Data columns (total 12 columns):\n",
      "name               110 non-null object\n",
      "platform           110 non-null object\n",
      "year_of_release    110 non-null int64\n",
      "genre              110 non-null object\n",
      "na_sales           110 non-null float64\n",
      "eu_sales           110 non-null float64\n",
      "jp_sales           110 non-null float64\n",
      "other_sales        110 non-null float64\n",
      "critic_score       110 non-null float64\n",
      "user_score         110 non-null float64\n",
      "rating             110 non-null object\n",
      "total_sales        110 non-null float64\n",
      "dtypes: float64(7), int64(1), object(4)\n",
      "memory usage: 10.4+ KB\n"
     ]
    },
    {
     "data": {
      "image/png": "[encoded data removed]",
      "text/plain": [
       "<Figure size 864x648 with 1 Axes>"
      ]
     },
     "metadata": {
      "needs_background": "light"
     },
     "output_type": "display_data"
    }
   ],
   "source": [
    "# Построил гистограмму и вывел общую информацию по Sports\n",
    "sports_data = good_data.query('genre == \"Sports\"')\n",
    "sports_data = sports_data.dropna().reset_index(drop = True)\n",
    "display(sports_data.head())\n",
    "print(sports_data['user_score'].hist(bins=10, range=(0, 10), figsize=(12,9)))\n",
    "print(sports_data['user_score'].describe())\n",
    "sports_data.info()"
   ]
  },
  {
   "cell_type": "code",
   "execution_count": 33,
   "metadata": {},
   "outputs": [
    {
     "name": "stdout",
     "output_type": "stream",
     "text": [
      "p-значение:  1.0496920005008588e-13\n",
      "Отвергаем нулевую гипотезу\n"
     ]
    }
   ],
   "source": [
    "# Проверка гипотезы\n",
    "action_score = genre_data[genre_data['genre'] == 'Action']['user_score']\n",
    "sports_score = genre_data[genre_data['genre'] == 'Sports']['user_score']\n",
    "\n",
    "alpha = 0.05\n",
    "results = st.ttest_ind(action_score, sports_score, equal_var = False)\n",
    "print('p-значение: ', results.pvalue)\n",
    "\n",
    "if results.pvalue < alpha: \n",
    "    print(\"Отвергаем нулевую гипотезу\")\n",
    "else:\n",
    "    print(\"Не получилось отвергнуть нулевую гипотезу\")"
   ]
  },
  {
   "cell_type": "markdown",
   "metadata": {},
   "source": [
    "Средние пользовательские рейтинги жанров Action и Sports разные."
   ]
  },
  {
   "cell_type": "markdown",
   "metadata": {},
   "source": [
    "**Вывод**"
   ]
  },
  {
   "cell_type": "markdown",
   "metadata": {},
   "source": [
    "1. Средние пользовательские рейтинги платформ Xbox One и PC одинаковые. Формируем двустороннюю гипотезу:\n",
    "\n",
    "Нулевая гипотеза – средние пользовательские рейтинги платформ Xbox One и PC не различаются, параметры равны. \n",
    "Альтернативная гипотеза – средние пользовательские рейтинги платформ Xbox One и PC различаются, параметры не равны.\n",
    "\n",
    "2. Средние пользовательские рейтинги жанров Action (англ. «действие», экшен-игры) и Sports (англ. «спортивные соревнования») разные. Формируем двустороннюю гипотезу:\n",
    "\n",
    "Нулевая гипотеза – средние пользовательские рейтинги жанров Action и Sports не различаются, параметры равны. \n",
    "Альтернативная гипотеза – средние пользовательские рейтинги жанров Action и Sports различаются, параметры не равны.\n",
    "\n",
    "H₀ всегда формулируется так, чтобы использовать знак равенства."
   ]
  },
  {
   "cell_type": "markdown",
   "metadata": {},
   "source": [
    "## 6. Общий вывод <a class=\"anchor\" id=\"ov\"></a>"
   ]
  },
  {
   "cell_type": "markdown",
   "metadata": {},
   "source": [
    "По данным интернет-магазина «Стримчик», можно сделать несколько выводов:\n",
    "\n",
    "1. С 2012 года количество выпускаемых игр сильно снизилось, с каждым последующим годом игр выходит все меньше. \n",
    "2. Новые платформы появляются ориентировочно через каждые 5, а старые исчезают приблизительно через 10 лет.\n",
    "3. Отзывы критиков больше влияют на продажи, чем отзывы пользователей.\n",
    "4. Наиболее прибыльные платформы по всему миру - X360, PS4, PS3, XOne, WiiU.\n",
    "5. Для Северной Америки, Европы и Японии хорошие продажи можно получить у платформ '3DS','PS3','X360','Wii'. Также стоит обратить внимание на появление новых версий данных платформ. Выбирая жанры, самыми популярными являются Action, Sports, Shooter и Role-Playing с ориентацией от 13 лет и старше."
   ]
  }
 ],
 "metadata": {
  "ExecuteTimeLog": [
   {
    "duration": 1617,
    "start_time": "2022-01-09T17:58:46.105Z"
   },
   {
    "duration": 5,
    "start_time": "2022-01-09T18:18:22.936Z"
   },
   {
    "duration": 538,
    "start_time": "2022-01-09T18:23:03.544Z"
   },
   {
    "duration": 380,
    "start_time": "2022-01-09T18:23:34.560Z"
   },
   {
    "duration": 289,
    "start_time": "2022-01-09T18:24:00.071Z"
   },
   {
    "duration": 279,
    "start_time": "2022-01-09T18:25:12.877Z"
   },
   {
    "duration": 267,
    "start_time": "2022-01-09T18:25:48.267Z"
   },
   {
    "duration": 1555,
    "start_time": "2022-01-09T18:26:06.028Z"
   },
   {
    "duration": 397,
    "start_time": "2022-01-09T18:26:07.586Z"
   },
   {
    "duration": 285,
    "start_time": "2022-01-09T18:26:49.697Z"
   },
   {
    "duration": 1508,
    "start_time": "2022-01-09T18:26:57.878Z"
   },
   {
    "duration": 407,
    "start_time": "2022-01-09T18:26:59.388Z"
   },
   {
    "duration": 314,
    "start_time": "2022-01-09T18:28:44.481Z"
   },
   {
    "duration": 1726,
    "start_time": "2022-01-09T18:28:55.172Z"
   },
   {
    "duration": 7,
    "start_time": "2022-01-09T18:28:56.901Z"
   },
   {
    "duration": 11,
    "start_time": "2022-01-09T18:32:23.543Z"
   },
   {
    "duration": 18,
    "start_time": "2022-01-09T18:42:44.862Z"
   },
   {
    "duration": 19,
    "start_time": "2022-01-09T18:45:25.777Z"
   },
   {
    "duration": 18,
    "start_time": "2022-01-09T18:48:27.556Z"
   },
   {
    "duration": 9,
    "start_time": "2022-01-09T18:48:53.703Z"
   },
   {
    "duration": 1492,
    "start_time": "2022-01-09T18:49:21.690Z"
   },
   {
    "duration": 7,
    "start_time": "2022-01-09T18:49:23.184Z"
   },
   {
    "duration": 14,
    "start_time": "2022-01-09T18:49:23.193Z"
   },
   {
    "duration": 23,
    "start_time": "2022-01-09T18:49:23.209Z"
   },
   {
    "duration": 13,
    "start_time": "2022-01-09T18:56:43.387Z"
   },
   {
    "duration": 12,
    "start_time": "2022-01-09T18:56:54.785Z"
   },
   {
    "duration": 58,
    "start_time": "2022-01-09T18:57:24.921Z"
   },
   {
    "duration": 70,
    "start_time": "2022-01-09T18:58:47.305Z"
   },
   {
    "duration": 5,
    "start_time": "2022-01-09T18:59:20.278Z"
   },
   {
    "duration": 11,
    "start_time": "2022-01-09T18:59:21.965Z"
   },
   {
    "duration": 1528,
    "start_time": "2022-01-09T18:59:43.376Z"
   },
   {
    "duration": 6,
    "start_time": "2022-01-09T18:59:44.906Z"
   },
   {
    "duration": 15,
    "start_time": "2022-01-09T18:59:44.916Z"
   },
   {
    "duration": 42,
    "start_time": "2022-01-09T18:59:44.934Z"
   },
   {
    "duration": 7,
    "start_time": "2022-01-09T18:59:44.978Z"
   },
   {
    "duration": 13,
    "start_time": "2022-01-09T18:59:44.987Z"
   },
   {
    "duration": 16,
    "start_time": "2022-01-09T18:59:45.002Z"
   },
   {
    "duration": 103,
    "start_time": "2022-01-09T18:59:45.021Z"
   },
   {
    "duration": 1660,
    "start_time": "2022-01-09T19:05:55.647Z"
   },
   {
    "duration": 6,
    "start_time": "2022-01-09T19:05:57.310Z"
   },
   {
    "duration": 13,
    "start_time": "2022-01-09T19:05:57.320Z"
   },
   {
    "duration": 42,
    "start_time": "2022-01-09T19:05:57.335Z"
   },
   {
    "duration": 6,
    "start_time": "2022-01-09T19:05:57.380Z"
   },
   {
    "duration": 16,
    "start_time": "2022-01-09T19:05:57.389Z"
   },
   {
    "duration": 74,
    "start_time": "2022-01-09T19:05:57.408Z"
   },
   {
    "duration": 7,
    "start_time": "2022-01-09T19:08:43.977Z"
   },
   {
    "duration": 5,
    "start_time": "2022-01-09T19:08:57.905Z"
   },
   {
    "duration": 426,
    "start_time": "2022-01-09T19:09:49.607Z"
   },
   {
    "duration": 91,
    "start_time": "2022-01-09T19:09:56.798Z"
   },
   {
    "duration": 91,
    "start_time": "2022-01-09T19:09:59.710Z"
   },
   {
    "duration": 7,
    "start_time": "2022-01-09T19:10:02.614Z"
   },
   {
    "duration": 23,
    "start_time": "2022-01-09T19:10:38.758Z"
   },
   {
    "duration": 9,
    "start_time": "2022-01-09T19:10:58.150Z"
   },
   {
    "duration": 552,
    "start_time": "2022-01-09T19:13:38.139Z"
   },
   {
    "duration": 172,
    "start_time": "2022-01-09T19:13:59.758Z"
   },
   {
    "duration": 83,
    "start_time": "2022-01-09T19:14:08.791Z"
   },
   {
    "duration": 1515,
    "start_time": "2022-01-09T19:14:28.613Z"
   },
   {
    "duration": 7,
    "start_time": "2022-01-09T19:14:30.131Z"
   },
   {
    "duration": 15,
    "start_time": "2022-01-09T19:14:30.166Z"
   },
   {
    "duration": 13,
    "start_time": "2022-01-09T19:14:30.183Z"
   },
   {
    "duration": 10,
    "start_time": "2022-01-09T19:14:30.198Z"
   },
   {
    "duration": 19,
    "start_time": "2022-01-09T19:14:30.211Z"
   },
   {
    "duration": 63,
    "start_time": "2022-01-09T19:14:30.232Z"
   },
   {
    "duration": 108,
    "start_time": "2022-01-09T19:14:30.298Z"
   },
   {
    "duration": 9,
    "start_time": "2022-01-09T19:18:49.761Z"
   },
   {
    "duration": 1587,
    "start_time": "2022-01-09T19:18:56.831Z"
   },
   {
    "duration": 8,
    "start_time": "2022-01-09T19:18:58.420Z"
   },
   {
    "duration": 13,
    "start_time": "2022-01-09T19:18:58.431Z"
   },
   {
    "duration": 9,
    "start_time": "2022-01-09T19:18:58.468Z"
   },
   {
    "duration": 17,
    "start_time": "2022-01-09T19:18:58.481Z"
   },
   {
    "duration": 7,
    "start_time": "2022-01-09T19:18:58.502Z"
   },
   {
    "duration": 16,
    "start_time": "2022-01-09T19:18:58.511Z"
   },
   {
    "duration": 46,
    "start_time": "2022-01-09T19:18:58.530Z"
   },
   {
    "duration": 96,
    "start_time": "2022-01-09T19:18:58.578Z"
   },
   {
    "duration": 9,
    "start_time": "2022-01-09T19:20:53.381Z"
   },
   {
    "duration": 1621,
    "start_time": "2022-01-09T19:20:59.031Z"
   },
   {
    "duration": 15,
    "start_time": "2022-01-09T19:21:00.655Z"
   },
   {
    "duration": 18,
    "start_time": "2022-01-09T19:21:00.673Z"
   },
   {
    "duration": 15,
    "start_time": "2022-01-09T19:21:00.694Z"
   },
   {
    "duration": 18,
    "start_time": "2022-01-09T19:21:00.711Z"
   },
   {
    "duration": 6,
    "start_time": "2022-01-09T19:21:00.731Z"
   },
   {
    "duration": 40,
    "start_time": "2022-01-09T19:21:00.740Z"
   },
   {
    "duration": 12,
    "start_time": "2022-01-09T19:21:00.783Z"
   },
   {
    "duration": 102,
    "start_time": "2022-01-09T19:21:00.798Z"
   },
   {
    "duration": 13,
    "start_time": "2022-01-09T19:21:00.903Z"
   },
   {
    "duration": 11,
    "start_time": "2022-01-09T19:22:06.267Z"
   },
   {
    "duration": 9,
    "start_time": "2022-01-09T19:23:39.159Z"
   },
   {
    "duration": 1544,
    "start_time": "2022-01-09T19:26:07.372Z"
   },
   {
    "duration": 6,
    "start_time": "2022-01-09T19:26:08.919Z"
   },
   {
    "duration": 16,
    "start_time": "2022-01-09T19:26:08.928Z"
   },
   {
    "duration": 9,
    "start_time": "2022-01-09T19:26:08.969Z"
   },
   {
    "duration": 14,
    "start_time": "2022-01-09T19:26:08.980Z"
   },
   {
    "duration": 6,
    "start_time": "2022-01-09T19:26:08.996Z"
   },
   {
    "duration": 15,
    "start_time": "2022-01-09T19:26:09.005Z"
   },
   {
    "duration": 47,
    "start_time": "2022-01-09T19:26:09.023Z"
   },
   {
    "duration": 9,
    "start_time": "2022-01-09T19:26:09.073Z"
   },
   {
    "duration": 645,
    "start_time": "2022-01-09T19:28:46.240Z"
   },
   {
    "duration": 41,
    "start_time": "2022-01-09T19:28:58.728Z"
   },
   {
    "duration": 68,
    "start_time": "2022-01-09T19:31:23.788Z"
   },
   {
    "duration": 66,
    "start_time": "2022-01-09T19:34:40.737Z"
   },
   {
    "duration": 101,
    "start_time": "2022-01-09T19:35:51.824Z"
   },
   {
    "duration": 286,
    "start_time": "2022-01-09T19:37:57.441Z"
   },
   {
    "duration": 13,
    "start_time": "2022-01-09T19:38:13.544Z"
   },
   {
    "duration": 1640,
    "start_time": "2022-01-09T19:42:54.144Z"
   },
   {
    "duration": 7,
    "start_time": "2022-01-09T19:42:55.788Z"
   },
   {
    "duration": 16,
    "start_time": "2022-01-09T19:42:55.798Z"
   },
   {
    "duration": 8,
    "start_time": "2022-01-09T19:42:55.817Z"
   },
   {
    "duration": 48,
    "start_time": "2022-01-09T19:42:55.828Z"
   },
   {
    "duration": 5,
    "start_time": "2022-01-09T19:42:55.879Z"
   },
   {
    "duration": 16,
    "start_time": "2022-01-09T19:42:55.887Z"
   },
   {
    "duration": 29,
    "start_time": "2022-01-09T19:42:55.906Z"
   },
   {
    "duration": 9,
    "start_time": "2022-01-09T19:42:55.966Z"
   },
   {
    "duration": 117,
    "start_time": "2022-01-09T19:42:55.977Z"
   },
   {
    "duration": 7,
    "start_time": "2022-01-10T15:14:36.617Z"
   },
   {
    "duration": 433,
    "start_time": "2022-01-10T15:15:06.128Z"
   },
   {
    "duration": 285,
    "start_time": "2022-01-10T15:15:33.231Z"
   },
   {
    "duration": 394,
    "start_time": "2022-01-10T15:15:44.151Z"
   },
   {
    "duration": 296,
    "start_time": "2022-01-10T15:16:04.054Z"
   },
   {
    "duration": 429,
    "start_time": "2022-01-10T15:16:14.062Z"
   },
   {
    "duration": 307,
    "start_time": "2022-01-10T15:16:39.021Z"
   },
   {
    "duration": 278,
    "start_time": "2022-01-10T15:16:57.437Z"
   },
   {
    "duration": 8574,
    "start_time": "2022-01-10T15:17:11.036Z"
   },
   {
    "duration": 6,
    "start_time": "2022-01-10T15:18:00.412Z"
   },
   {
    "duration": 8075,
    "start_time": "2022-01-10T15:18:27.594Z"
   },
   {
    "duration": 2957,
    "start_time": "2022-01-10T15:20:48.719Z"
   },
   {
    "duration": 31,
    "start_time": "2022-01-10T15:22:07.957Z"
   },
   {
    "duration": 16,
    "start_time": "2022-01-10T21:28:01.273Z"
   },
   {
    "duration": 35,
    "start_time": "2022-01-10T21:34:52.255Z"
   },
   {
    "duration": 15,
    "start_time": "2022-01-10T21:35:46.389Z"
   },
   {
    "duration": 7,
    "start_time": "2022-01-10T22:16:02.958Z"
   },
   {
    "duration": 11,
    "start_time": "2022-01-10T22:16:16.998Z"
   },
   {
    "duration": 13,
    "start_time": "2022-01-10T22:17:03.605Z"
   },
   {
    "duration": 11,
    "start_time": "2022-01-10T22:17:52.027Z"
   },
   {
    "duration": 10,
    "start_time": "2022-01-10T22:18:09.786Z"
   },
   {
    "duration": 11,
    "start_time": "2022-01-10T22:18:35.819Z"
   },
   {
    "duration": 315,
    "start_time": "2022-01-10T22:22:15.827Z"
   },
   {
    "duration": 306,
    "start_time": "2022-01-10T22:23:15.077Z"
   },
   {
    "duration": 621,
    "start_time": "2022-01-10T22:23:26.264Z"
   },
   {
    "duration": 1511,
    "start_time": "2022-01-10T22:23:41.017Z"
   },
   {
    "duration": 5,
    "start_time": "2022-01-10T22:23:42.531Z"
   },
   {
    "duration": 39,
    "start_time": "2022-01-10T22:23:42.539Z"
   },
   {
    "duration": 9,
    "start_time": "2022-01-10T22:23:42.582Z"
   },
   {
    "duration": 16,
    "start_time": "2022-01-10T22:23:42.593Z"
   },
   {
    "duration": 6,
    "start_time": "2022-01-10T22:23:42.611Z"
   },
   {
    "duration": 17,
    "start_time": "2022-01-10T22:23:42.619Z"
   },
   {
    "duration": 32,
    "start_time": "2022-01-10T22:23:42.678Z"
   },
   {
    "duration": 9,
    "start_time": "2022-01-10T22:23:42.713Z"
   },
   {
    "duration": 405,
    "start_time": "2022-01-10T22:23:42.725Z"
   },
   {
    "duration": -1746,
    "start_time": "2022-01-10T22:23:44.878Z"
   },
   {
    "duration": -1754,
    "start_time": "2022-01-10T22:23:44.888Z"
   },
   {
    "duration": -1757,
    "start_time": "2022-01-10T22:23:44.892Z"
   },
   {
    "duration": 296,
    "start_time": "2022-01-10T22:24:26.778Z"
   },
   {
    "duration": 115,
    "start_time": "2022-01-10T22:24:29.265Z"
   },
   {
    "duration": 15,
    "start_time": "2022-01-10T22:24:31.897Z"
   },
   {
    "duration": 610,
    "start_time": "2022-01-10T22:24:34.121Z"
   },
   {
    "duration": 647,
    "start_time": "2022-01-10T22:24:45.976Z"
   },
   {
    "duration": 697,
    "start_time": "2022-01-10T22:27:22.047Z"
   },
   {
    "duration": 674,
    "start_time": "2022-01-10T22:29:02.195Z"
   },
   {
    "duration": 12,
    "start_time": "2022-01-10T22:40:34.512Z"
   },
   {
    "duration": 12,
    "start_time": "2022-01-10T22:41:14.430Z"
   },
   {
    "duration": 878,
    "start_time": "2022-01-10T22:43:22.115Z"
   },
   {
    "duration": 661,
    "start_time": "2022-01-10T22:44:22.241Z"
   },
   {
    "duration": 677,
    "start_time": "2022-01-10T22:44:51.785Z"
   },
   {
    "duration": 943,
    "start_time": "2022-01-10T22:45:17.272Z"
   },
   {
    "duration": 1582,
    "start_time": "2022-01-10T22:45:39.511Z"
   },
   {
    "duration": 7,
    "start_time": "2022-01-10T22:45:41.096Z"
   },
   {
    "duration": 13,
    "start_time": "2022-01-10T22:45:41.106Z"
   },
   {
    "duration": 11,
    "start_time": "2022-01-10T22:45:41.122Z"
   },
   {
    "duration": 48,
    "start_time": "2022-01-10T22:45:41.135Z"
   },
   {
    "duration": 7,
    "start_time": "2022-01-10T22:45:41.186Z"
   },
   {
    "duration": 16,
    "start_time": "2022-01-10T22:45:41.196Z"
   },
   {
    "duration": 78,
    "start_time": "2022-01-10T22:45:41.217Z"
   },
   {
    "duration": 9,
    "start_time": "2022-01-10T22:45:41.298Z"
   },
   {
    "duration": 428,
    "start_time": "2022-01-10T22:45:41.310Z"
   },
   {
    "duration": -1770,
    "start_time": "2022-01-10T22:45:43.511Z"
   },
   {
    "duration": -1772,
    "start_time": "2022-01-10T22:45:43.515Z"
   },
   {
    "duration": -1776,
    "start_time": "2022-01-10T22:45:43.520Z"
   },
   {
    "duration": -1777,
    "start_time": "2022-01-10T22:45:43.522Z"
   },
   {
    "duration": 36,
    "start_time": "2022-01-10T22:45:58.446Z"
   },
   {
    "duration": 1823,
    "start_time": "2022-01-10T22:46:14.377Z"
   },
   {
    "duration": 6,
    "start_time": "2022-01-10T22:46:16.203Z"
   },
   {
    "duration": 13,
    "start_time": "2022-01-10T22:46:16.212Z"
   },
   {
    "duration": 9,
    "start_time": "2022-01-10T22:46:16.228Z"
   },
   {
    "duration": 16,
    "start_time": "2022-01-10T22:46:16.239Z"
   },
   {
    "duration": 6,
    "start_time": "2022-01-10T22:46:16.258Z"
   },
   {
    "duration": 24,
    "start_time": "2022-01-10T22:46:16.266Z"
   },
   {
    "duration": 44,
    "start_time": "2022-01-10T22:46:16.295Z"
   },
   {
    "duration": 13,
    "start_time": "2022-01-10T22:46:16.343Z"
   },
   {
    "duration": 51,
    "start_time": "2022-01-10T22:46:16.360Z"
   },
   {
    "duration": 131,
    "start_time": "2022-01-10T22:46:16.413Z"
   },
   {
    "duration": 28,
    "start_time": "2022-01-10T22:46:16.547Z"
   },
   {
    "duration": 12,
    "start_time": "2022-01-10T22:46:16.578Z"
   },
   {
    "duration": 512,
    "start_time": "2022-01-10T22:46:16.593Z"
   },
   {
    "duration": 342,
    "start_time": "2022-01-10T22:46:26.954Z"
   },
   {
    "duration": 105,
    "start_time": "2022-01-10T22:46:44.420Z"
   },
   {
    "duration": 1632,
    "start_time": "2022-01-10T22:46:58.084Z"
   },
   {
    "duration": 8,
    "start_time": "2022-01-10T22:46:59.718Z"
   },
   {
    "duration": 52,
    "start_time": "2022-01-10T22:46:59.732Z"
   },
   {
    "duration": 10,
    "start_time": "2022-01-10T22:46:59.786Z"
   },
   {
    "duration": 16,
    "start_time": "2022-01-10T22:46:59.798Z"
   },
   {
    "duration": 8,
    "start_time": "2022-01-10T22:46:59.816Z"
   },
   {
    "duration": 46,
    "start_time": "2022-01-10T22:46:59.829Z"
   },
   {
    "duration": 36,
    "start_time": "2022-01-10T22:46:59.878Z"
   },
   {
    "duration": 10,
    "start_time": "2022-01-10T22:46:59.917Z"
   },
   {
    "duration": 68,
    "start_time": "2022-01-10T22:46:59.930Z"
   },
   {
    "duration": 126,
    "start_time": "2022-01-10T22:47:00.001Z"
   },
   {
    "duration": 16,
    "start_time": "2022-01-10T22:47:00.129Z"
   },
   {
    "duration": 18,
    "start_time": "2022-01-10T22:47:00.172Z"
   },
   {
    "duration": 122,
    "start_time": "2022-01-10T22:47:00.192Z"
   },
   {
    "duration": 13,
    "start_time": "2022-01-10T22:47:43.882Z"
   },
   {
    "duration": 137,
    "start_time": "2022-01-10T22:47:46.145Z"
   },
   {
    "duration": 98,
    "start_time": "2022-01-10T22:47:51.730Z"
   },
   {
    "duration": 1597,
    "start_time": "2022-01-10T22:48:05.691Z"
   },
   {
    "duration": 7,
    "start_time": "2022-01-10T22:48:07.291Z"
   },
   {
    "duration": 13,
    "start_time": "2022-01-10T22:48:07.301Z"
   },
   {
    "duration": 9,
    "start_time": "2022-01-10T22:48:07.317Z"
   },
   {
    "duration": 63,
    "start_time": "2022-01-10T22:48:07.328Z"
   },
   {
    "duration": 6,
    "start_time": "2022-01-10T22:48:07.393Z"
   },
   {
    "duration": 17,
    "start_time": "2022-01-10T22:48:07.401Z"
   },
   {
    "duration": 63,
    "start_time": "2022-01-10T22:48:07.422Z"
   },
   {
    "duration": 11,
    "start_time": "2022-01-10T22:48:07.487Z"
   },
   {
    "duration": 36,
    "start_time": "2022-01-10T22:48:07.501Z"
   },
   {
    "duration": 111,
    "start_time": "2022-01-10T22:48:07.567Z"
   },
   {
    "duration": 16,
    "start_time": "2022-01-10T22:48:07.685Z"
   },
   {
    "duration": 482,
    "start_time": "2022-01-10T22:48:07.704Z"
   },
   {
    "duration": -1805,
    "start_time": "2022-01-10T22:48:09.994Z"
   },
   {
    "duration": 16,
    "start_time": "2022-01-10T22:48:26.315Z"
   },
   {
    "duration": 97,
    "start_time": "2022-01-10T22:48:33.322Z"
   },
   {
    "duration": 115,
    "start_time": "2022-01-10T22:48:42.498Z"
   },
   {
    "duration": 95,
    "start_time": "2022-01-10T22:48:45.473Z"
   },
   {
    "duration": 84,
    "start_time": "2022-01-10T22:48:49.626Z"
   },
   {
    "duration": 696,
    "start_time": "2022-01-10T22:48:53.410Z"
   },
   {
    "duration": 103,
    "start_time": "2022-01-10T22:49:01.874Z"
   },
   {
    "duration": 650,
    "start_time": "2022-01-10T22:49:04.530Z"
   },
   {
    "duration": 768,
    "start_time": "2022-01-10T22:49:53.179Z"
   },
   {
    "duration": 1534,
    "start_time": "2022-01-10T22:50:33.703Z"
   },
   {
    "duration": 6,
    "start_time": "2022-01-10T22:50:35.239Z"
   },
   {
    "duration": 31,
    "start_time": "2022-01-10T22:50:35.248Z"
   },
   {
    "duration": 10,
    "start_time": "2022-01-10T22:50:35.283Z"
   },
   {
    "duration": 16,
    "start_time": "2022-01-10T22:50:35.296Z"
   },
   {
    "duration": 7,
    "start_time": "2022-01-10T22:50:35.314Z"
   },
   {
    "duration": 67,
    "start_time": "2022-01-10T22:50:35.324Z"
   },
   {
    "duration": 31,
    "start_time": "2022-01-10T22:50:35.396Z"
   },
   {
    "duration": 9,
    "start_time": "2022-01-10T22:50:35.431Z"
   },
   {
    "duration": 57,
    "start_time": "2022-01-10T22:50:35.443Z"
   },
   {
    "duration": 133,
    "start_time": "2022-01-10T22:50:35.502Z"
   },
   {
    "duration": 40,
    "start_time": "2022-01-10T22:50:35.638Z"
   },
   {
    "duration": 20,
    "start_time": "2022-01-10T22:50:35.681Z"
   },
   {
    "duration": 792,
    "start_time": "2022-01-10T22:50:35.704Z"
   },
   {
    "duration": 1546,
    "start_time": "2022-01-10T22:53:15.207Z"
   },
   {
    "duration": 10,
    "start_time": "2022-01-10T22:53:16.772Z"
   },
   {
    "duration": 15,
    "start_time": "2022-01-10T22:53:16.785Z"
   },
   {
    "duration": 10,
    "start_time": "2022-01-10T22:53:16.803Z"
   },
   {
    "duration": 15,
    "start_time": "2022-01-10T22:53:16.816Z"
   },
   {
    "duration": 39,
    "start_time": "2022-01-10T22:53:16.834Z"
   },
   {
    "duration": 15,
    "start_time": "2022-01-10T22:53:16.877Z"
   },
   {
    "duration": 37,
    "start_time": "2022-01-10T22:53:16.895Z"
   },
   {
    "duration": 43,
    "start_time": "2022-01-10T22:53:16.935Z"
   },
   {
    "duration": 35,
    "start_time": "2022-01-10T22:53:16.981Z"
   },
   {
    "duration": 122,
    "start_time": "2022-01-10T22:53:17.019Z"
   },
   {
    "duration": 32,
    "start_time": "2022-01-10T22:53:17.144Z"
   },
   {
    "duration": 14,
    "start_time": "2022-01-10T22:53:17.179Z"
   },
   {
    "duration": 712,
    "start_time": "2022-01-10T22:53:17.196Z"
   },
   {
    "duration": 664,
    "start_time": "2022-01-11T00:11:21.686Z"
   },
   {
    "duration": 108,
    "start_time": "2022-01-11T00:15:59.630Z"
   },
   {
    "duration": 92,
    "start_time": "2022-01-11T00:16:14.604Z"
   },
   {
    "duration": 95,
    "start_time": "2022-01-11T00:16:17.764Z"
   },
   {
    "duration": 106,
    "start_time": "2022-01-11T00:17:09.523Z"
   },
   {
    "duration": 194,
    "start_time": "2022-01-11T00:18:01.906Z"
   },
   {
    "duration": 91,
    "start_time": "2022-01-11T00:18:29.441Z"
   },
   {
    "duration": 93,
    "start_time": "2022-01-11T00:18:44.969Z"
   },
   {
    "duration": 103,
    "start_time": "2022-01-11T00:18:52.728Z"
   },
   {
    "duration": 24,
    "start_time": "2022-01-11T00:19:46.022Z"
   },
   {
    "duration": 16,
    "start_time": "2022-01-11T00:20:11.055Z"
   },
   {
    "duration": 29,
    "start_time": "2022-01-11T00:20:21.190Z"
   },
   {
    "duration": 28,
    "start_time": "2022-01-11T00:22:05.069Z"
   },
   {
    "duration": 24,
    "start_time": "2022-01-11T00:22:43.307Z"
   },
   {
    "duration": 23,
    "start_time": "2022-01-11T00:22:56.682Z"
   },
   {
    "duration": 29,
    "start_time": "2022-01-11T00:23:04.170Z"
   },
   {
    "duration": 1244,
    "start_time": "2022-01-11T00:29:00.473Z"
   },
   {
    "duration": 25,
    "start_time": "2022-01-11T00:29:26.134Z"
   },
   {
    "duration": 27,
    "start_time": "2022-01-11T00:29:40.502Z"
   },
   {
    "duration": 3576,
    "start_time": "2022-01-11T00:40:16.710Z"
   },
   {
    "duration": 69,
    "start_time": "2022-01-11T00:40:39.027Z"
   },
   {
    "duration": 81,
    "start_time": "2022-01-11T00:41:24.260Z"
   },
   {
    "duration": 32,
    "start_time": "2022-01-11T00:41:33.879Z"
   },
   {
    "duration": 1823,
    "start_time": "2022-01-11T01:03:18.334Z"
   },
   {
    "duration": 11,
    "start_time": "2022-01-11T01:03:20.159Z"
   },
   {
    "duration": 12,
    "start_time": "2022-01-11T01:03:20.173Z"
   },
   {
    "duration": 9,
    "start_time": "2022-01-11T01:03:20.188Z"
   },
   {
    "duration": 14,
    "start_time": "2022-01-11T01:03:20.200Z"
   },
   {
    "duration": 56,
    "start_time": "2022-01-11T01:03:20.217Z"
   },
   {
    "duration": 22,
    "start_time": "2022-01-11T01:03:20.276Z"
   },
   {
    "duration": 28,
    "start_time": "2022-01-11T01:03:20.303Z"
   },
   {
    "duration": 37,
    "start_time": "2022-01-11T01:03:20.334Z"
   },
   {
    "duration": 41,
    "start_time": "2022-01-11T01:03:20.373Z"
   },
   {
    "duration": 136,
    "start_time": "2022-01-11T01:03:20.416Z"
   },
   {
    "duration": 32,
    "start_time": "2022-01-11T01:03:20.555Z"
   },
   {
    "duration": 16,
    "start_time": "2022-01-11T01:03:20.590Z"
   },
   {
    "duration": 697,
    "start_time": "2022-01-11T01:03:20.609Z"
   },
   {
    "duration": 26,
    "start_time": "2022-01-11T01:03:21.309Z"
   },
   {
    "duration": 57,
    "start_time": "2022-01-11T01:03:21.337Z"
   },
   {
    "duration": 1550,
    "start_time": "2022-01-11T01:03:21.396Z"
   },
   {
    "duration": 1064,
    "start_time": "2022-01-11T01:03:33.983Z"
   },
   {
    "duration": 1359,
    "start_time": "2022-01-11T01:05:02.011Z"
   },
   {
    "duration": 1321,
    "start_time": "2022-01-11T01:06:35.177Z"
   },
   {
    "duration": 1349,
    "start_time": "2022-01-11T01:09:32.731Z"
   },
   {
    "duration": 887,
    "start_time": "2022-01-11T01:09:57.530Z"
   },
   {
    "duration": 495,
    "start_time": "2022-01-11T20:05:41.561Z"
   },
   {
    "duration": 1686,
    "start_time": "2022-01-11T20:08:43.752Z"
   },
   {
    "duration": 21,
    "start_time": "2022-01-11T20:08:45.440Z"
   },
   {
    "duration": 15,
    "start_time": "2022-01-11T20:08:45.464Z"
   },
   {
    "duration": 18,
    "start_time": "2022-01-11T20:08:45.482Z"
   },
   {
    "duration": 15,
    "start_time": "2022-01-11T20:08:45.504Z"
   },
   {
    "duration": 13,
    "start_time": "2022-01-11T20:08:45.522Z"
   },
   {
    "duration": 36,
    "start_time": "2022-01-11T20:08:45.537Z"
   },
   {
    "duration": 35,
    "start_time": "2022-01-11T20:08:45.577Z"
   },
   {
    "duration": 8,
    "start_time": "2022-01-11T20:08:45.615Z"
   },
   {
    "duration": 54,
    "start_time": "2022-01-11T20:08:45.625Z"
   },
   {
    "duration": 109,
    "start_time": "2022-01-11T20:08:45.681Z"
   },
   {
    "duration": 15,
    "start_time": "2022-01-11T20:08:45.792Z"
   },
   {
    "duration": 14,
    "start_time": "2022-01-11T20:08:45.809Z"
   },
   {
    "duration": 691,
    "start_time": "2022-01-11T20:08:45.825Z"
   },
   {
    "duration": 44,
    "start_time": "2022-01-11T20:08:46.519Z"
   },
   {
    "duration": 35,
    "start_time": "2022-01-11T20:08:46.566Z"
   },
   {
    "duration": 1286,
    "start_time": "2022-01-11T20:08:46.604Z"
   },
   {
    "duration": 506,
    "start_time": "2022-01-11T20:08:47.893Z"
   },
   {
    "duration": 179,
    "start_time": "2022-01-11T20:12:01.008Z"
   },
   {
    "duration": 768,
    "start_time": "2022-01-11T20:12:09.062Z"
   },
   {
    "duration": 1068,
    "start_time": "2022-01-11T20:12:36.543Z"
   },
   {
    "duration": 786,
    "start_time": "2022-01-11T20:12:49.445Z"
   },
   {
    "duration": 879,
    "start_time": "2022-01-11T20:13:30.572Z"
   },
   {
    "duration": 511,
    "start_time": "2022-01-11T20:21:53.465Z"
   },
   {
    "duration": 496,
    "start_time": "2022-01-11T20:22:09.137Z"
   },
   {
    "duration": 509,
    "start_time": "2022-01-11T20:22:23.745Z"
   },
   {
    "duration": 519,
    "start_time": "2022-01-11T20:22:39.175Z"
   },
   {
    "duration": 779,
    "start_time": "2022-01-11T20:24:20.741Z"
   },
   {
    "duration": 25,
    "start_time": "2022-01-11T21:08:37.574Z"
   },
   {
    "duration": 543,
    "start_time": "2022-01-11T21:23:51.598Z"
   },
   {
    "duration": 665,
    "start_time": "2022-01-11T21:24:00.997Z"
   },
   {
    "duration": 713,
    "start_time": "2022-01-11T21:24:19.996Z"
   },
   {
    "duration": 518,
    "start_time": "2022-01-11T21:24:58.379Z"
   },
   {
    "duration": 11240,
    "start_time": "2022-01-11T21:32:17.943Z"
   },
   {
    "duration": 413,
    "start_time": "2022-01-11T21:32:42.391Z"
   },
   {
    "duration": 932,
    "start_time": "2022-01-11T21:34:25.691Z"
   },
   {
    "duration": 602,
    "start_time": "2022-01-11T21:35:48.960Z"
   },
   {
    "duration": 609,
    "start_time": "2022-01-11T21:37:35.477Z"
   },
   {
    "duration": 113,
    "start_time": "2022-01-11T21:40:31.265Z"
   },
   {
    "duration": 587,
    "start_time": "2022-01-11T21:40:53.696Z"
   },
   {
    "duration": 608,
    "start_time": "2022-01-11T21:43:36.540Z"
   },
   {
    "duration": 665,
    "start_time": "2022-01-11T21:46:58.621Z"
   },
   {
    "duration": 631,
    "start_time": "2022-01-11T21:49:42.376Z"
   },
   {
    "duration": 523,
    "start_time": "2022-01-11T22:05:10.503Z"
   },
   {
    "duration": 774,
    "start_time": "2022-01-11T22:05:28.593Z"
   },
   {
    "duration": 648,
    "start_time": "2022-01-11T22:05:48.014Z"
   },
   {
    "duration": 666,
    "start_time": "2022-01-11T22:06:38.036Z"
   },
   {
    "duration": 624,
    "start_time": "2022-01-11T22:07:17.468Z"
   },
   {
    "duration": 120,
    "start_time": "2022-01-11T22:17:43.330Z"
   },
   {
    "duration": 5672,
    "start_time": "2022-01-11T22:18:46.303Z"
   },
   {
    "duration": 645,
    "start_time": "2022-01-11T22:31:42.425Z"
   },
   {
    "duration": 638,
    "start_time": "2022-01-11T22:32:28.836Z"
   },
   {
    "duration": 5922,
    "start_time": "2022-01-11T22:33:12.761Z"
   },
   {
    "duration": 1466,
    "start_time": "2022-01-11T22:40:38.973Z"
   },
   {
    "duration": 1221,
    "start_time": "2022-01-11T22:40:48.683Z"
   },
   {
    "duration": 434,
    "start_time": "2022-01-11T22:41:45.569Z"
   },
   {
    "duration": 6,
    "start_time": "2022-01-11T22:42:25.539Z"
   },
   {
    "duration": 8,
    "start_time": "2022-01-11T22:42:41.977Z"
   },
   {
    "duration": 881,
    "start_time": "2022-01-11T22:44:31.645Z"
   },
   {
    "duration": 379,
    "start_time": "2022-01-11T22:46:11.811Z"
   },
   {
    "duration": 993,
    "start_time": "2022-01-11T22:46:41.699Z"
   },
   {
    "duration": 1361,
    "start_time": "2022-01-11T22:48:57.838Z"
   },
   {
    "duration": 510,
    "start_time": "2022-01-11T22:50:46.691Z"
   },
   {
    "duration": 387,
    "start_time": "2022-01-11T22:51:00.795Z"
   },
   {
    "duration": 389,
    "start_time": "2022-01-11T22:51:06.242Z"
   },
   {
    "duration": 378,
    "start_time": "2022-01-11T22:52:10.424Z"
   },
   {
    "duration": 1002,
    "start_time": "2022-01-11T22:53:48.990Z"
   },
   {
    "duration": 1117,
    "start_time": "2022-01-11T22:55:24.707Z"
   },
   {
    "duration": 498,
    "start_time": "2022-01-12T03:12:51.096Z"
   },
   {
    "duration": 513,
    "start_time": "2022-01-12T03:13:33.226Z"
   },
   {
    "duration": 536,
    "start_time": "2022-01-12T03:14:02.770Z"
   },
   {
    "duration": 512,
    "start_time": "2022-01-12T03:15:46.327Z"
   },
   {
    "duration": 22,
    "start_time": "2022-01-12T17:32:11.091Z"
   },
   {
    "duration": 33,
    "start_time": "2022-01-12T17:35:24.503Z"
   },
   {
    "duration": 19,
    "start_time": "2022-01-12T17:37:08.768Z"
   },
   {
    "duration": 20,
    "start_time": "2022-01-12T17:43:17.310Z"
   },
   {
    "duration": 188,
    "start_time": "2022-01-12T17:45:52.753Z"
   },
   {
    "duration": 667,
    "start_time": "2022-01-12T17:47:22.966Z"
   },
   {
    "duration": 606,
    "start_time": "2022-01-12T17:47:36.718Z"
   },
   {
    "duration": 198,
    "start_time": "2022-01-12T17:50:33.505Z"
   },
   {
    "duration": 209,
    "start_time": "2022-01-12T17:51:08.888Z"
   },
   {
    "duration": 240,
    "start_time": "2022-01-12T17:55:00.306Z"
   },
   {
    "duration": 236,
    "start_time": "2022-01-12T17:56:43.678Z"
   },
   {
    "duration": 248,
    "start_time": "2022-01-12T17:56:51.446Z"
   },
   {
    "duration": 10161,
    "start_time": "2022-01-12T18:00:24.032Z"
   },
   {
    "duration": 1079,
    "start_time": "2022-01-12T18:00:37.496Z"
   },
   {
    "duration": 951,
    "start_time": "2022-01-12T18:01:10.023Z"
   },
   {
    "duration": 602,
    "start_time": "2022-01-12T18:01:37.205Z"
   },
   {
    "duration": 638,
    "start_time": "2022-01-12T18:03:26.603Z"
   },
   {
    "duration": 639,
    "start_time": "2022-01-12T18:03:36.298Z"
   },
   {
    "duration": 440,
    "start_time": "2022-01-12T18:04:09.161Z"
   },
   {
    "duration": 3,
    "start_time": "2022-01-12T18:04:39.761Z"
   },
   {
    "duration": 400,
    "start_time": "2022-01-12T18:04:46.129Z"
   },
   {
    "duration": 386,
    "start_time": "2022-01-12T18:05:16.663Z"
   },
   {
    "duration": 1826,
    "start_time": "2022-01-12T18:05:23.436Z"
   },
   {
    "duration": 6,
    "start_time": "2022-01-12T18:05:25.265Z"
   },
   {
    "duration": 10,
    "start_time": "2022-01-12T18:05:25.278Z"
   },
   {
    "duration": 8,
    "start_time": "2022-01-12T18:05:25.290Z"
   },
   {
    "duration": 58,
    "start_time": "2022-01-12T18:05:25.301Z"
   },
   {
    "duration": 7,
    "start_time": "2022-01-12T18:05:25.362Z"
   },
   {
    "duration": 14,
    "start_time": "2022-01-12T18:05:25.374Z"
   },
   {
    "duration": 27,
    "start_time": "2022-01-12T18:05:25.391Z"
   },
   {
    "duration": 44,
    "start_time": "2022-01-12T18:05:25.421Z"
   },
   {
    "duration": 35,
    "start_time": "2022-01-12T18:05:25.468Z"
   },
   {
    "duration": 182,
    "start_time": "2022-01-12T18:05:25.506Z"
   },
   {
    "duration": 23,
    "start_time": "2022-01-12T18:05:25.693Z"
   },
   {
    "duration": 47,
    "start_time": "2022-01-12T18:05:25.719Z"
   },
   {
    "duration": 664,
    "start_time": "2022-01-12T18:05:25.768Z"
   },
   {
    "duration": 38,
    "start_time": "2022-01-12T18:05:26.435Z"
   },
   {
    "duration": 31,
    "start_time": "2022-01-12T18:05:26.475Z"
   },
   {
    "duration": 1251,
    "start_time": "2022-01-12T18:05:26.508Z"
   },
   {
    "duration": 546,
    "start_time": "2022-01-12T18:05:27.762Z"
   },
   {
    "duration": 679,
    "start_time": "2022-01-12T18:05:28.310Z"
   },
   {
    "duration": 624,
    "start_time": "2022-01-12T18:05:28.992Z"
   },
   {
    "duration": 6352,
    "start_time": "2022-01-12T18:05:29.619Z"
   },
   {
    "duration": 1038,
    "start_time": "2022-01-12T18:05:35.975Z"
   },
   {
    "duration": 546,
    "start_time": "2022-01-12T18:05:37.016Z"
   },
   {
    "duration": -1425,
    "start_time": "2022-01-12T18:05:38.990Z"
   },
   {
    "duration": 36,
    "start_time": "2022-01-12T18:06:20.120Z"
   },
   {
    "duration": 74,
    "start_time": "2022-01-12T18:07:02.592Z"
   },
   {
    "duration": 690,
    "start_time": "2022-01-12T18:11:44.751Z"
   },
   {
    "duration": 651,
    "start_time": "2022-01-12T18:13:25.700Z"
   },
   {
    "duration": 664,
    "start_time": "2022-01-12T18:13:45.332Z"
   },
   {
    "duration": 765,
    "start_time": "2022-01-12T18:14:17.011Z"
   },
   {
    "duration": 673,
    "start_time": "2022-01-12T18:14:24.009Z"
   },
   {
    "duration": 957,
    "start_time": "2022-01-12T18:25:03.281Z"
   },
   {
    "duration": 1444,
    "start_time": "2022-01-12T18:40:11.135Z"
   },
   {
    "duration": 1400,
    "start_time": "2022-01-12T18:40:46.487Z"
   },
   {
    "duration": 1643,
    "start_time": "2022-01-12T18:48:47.182Z"
   },
   {
    "duration": 5,
    "start_time": "2022-01-12T18:48:48.828Z"
   },
   {
    "duration": 27,
    "start_time": "2022-01-12T18:48:48.836Z"
   },
   {
    "duration": 9,
    "start_time": "2022-01-12T18:48:48.866Z"
   },
   {
    "duration": 15,
    "start_time": "2022-01-12T18:48:48.877Z"
   },
   {
    "duration": 5,
    "start_time": "2022-01-12T18:48:48.895Z"
   },
   {
    "duration": 58,
    "start_time": "2022-01-12T18:48:48.902Z"
   },
   {
    "duration": 36,
    "start_time": "2022-01-12T18:48:48.965Z"
   },
   {
    "duration": 8,
    "start_time": "2022-01-12T18:48:49.004Z"
   },
   {
    "duration": 60,
    "start_time": "2022-01-12T18:48:49.015Z"
   },
   {
    "duration": 109,
    "start_time": "2022-01-12T18:48:49.078Z"
   },
   {
    "duration": 13,
    "start_time": "2022-01-12T18:48:49.190Z"
   },
   {
    "duration": 15,
    "start_time": "2022-01-12T18:48:49.206Z"
   },
   {
    "duration": 666,
    "start_time": "2022-01-12T18:48:49.224Z"
   },
   {
    "duration": 26,
    "start_time": "2022-01-12T18:48:49.892Z"
   },
   {
    "duration": 55,
    "start_time": "2022-01-12T18:48:49.920Z"
   },
   {
    "duration": 1273,
    "start_time": "2022-01-12T18:48:49.978Z"
   },
   {
    "duration": 535,
    "start_time": "2022-01-12T18:48:51.258Z"
   },
   {
    "duration": 628,
    "start_time": "2022-01-12T18:48:51.795Z"
   },
   {
    "duration": 678,
    "start_time": "2022-01-12T18:48:52.425Z"
   },
   {
    "duration": 5977,
    "start_time": "2022-01-12T18:48:53.105Z"
   },
   {
    "duration": 1119,
    "start_time": "2022-01-12T18:48:59.085Z"
   },
   {
    "duration": 680,
    "start_time": "2022-01-12T18:49:00.208Z"
   },
   {
    "duration": 719,
    "start_time": "2022-01-12T18:49:00.890Z"
   },
   {
    "duration": 1456,
    "start_time": "2022-01-12T18:49:01.611Z"
   },
   {
    "duration": 1369,
    "start_time": "2022-01-12T19:17:34.582Z"
   },
   {
    "duration": 964,
    "start_time": "2022-01-12T19:18:40.787Z"
   },
   {
    "duration": 1644,
    "start_time": "2022-01-12T20:04:33.781Z"
   },
   {
    "duration": 6,
    "start_time": "2022-01-12T20:04:35.428Z"
   },
   {
    "duration": 29,
    "start_time": "2022-01-12T20:04:35.436Z"
   },
   {
    "duration": 9,
    "start_time": "2022-01-12T20:04:35.468Z"
   },
   {
    "duration": 16,
    "start_time": "2022-01-12T20:04:35.479Z"
   },
   {
    "duration": 6,
    "start_time": "2022-01-12T20:04:35.497Z"
   },
   {
    "duration": 14,
    "start_time": "2022-01-12T20:04:35.505Z"
   },
   {
    "duration": 26,
    "start_time": "2022-01-12T20:04:35.560Z"
   },
   {
    "duration": 8,
    "start_time": "2022-01-12T20:04:35.589Z"
   },
   {
    "duration": 60,
    "start_time": "2022-01-12T20:04:35.600Z"
   },
   {
    "duration": 111,
    "start_time": "2022-01-12T20:04:35.663Z"
   },
   {
    "duration": 15,
    "start_time": "2022-01-12T20:04:35.776Z"
   },
   {
    "duration": 16,
    "start_time": "2022-01-12T20:04:35.794Z"
   },
   {
    "duration": 769,
    "start_time": "2022-01-12T20:04:35.812Z"
   },
   {
    "duration": 27,
    "start_time": "2022-01-12T20:04:36.584Z"
   },
   {
    "duration": 63,
    "start_time": "2022-01-12T20:04:36.613Z"
   },
   {
    "duration": 1253,
    "start_time": "2022-01-12T20:04:36.679Z"
   },
   {
    "duration": 555,
    "start_time": "2022-01-12T20:04:37.935Z"
   },
   {
    "duration": 617,
    "start_time": "2022-01-12T20:04:38.493Z"
   },
   {
    "duration": 668,
    "start_time": "2022-01-12T20:04:39.113Z"
   },
   {
    "duration": 5716,
    "start_time": "2022-01-12T20:04:39.784Z"
   },
   {
    "duration": 1057,
    "start_time": "2022-01-12T20:04:45.502Z"
   },
   {
    "duration": 648,
    "start_time": "2022-01-12T20:04:46.563Z"
   },
   {
    "duration": 684,
    "start_time": "2022-01-12T20:04:47.214Z"
   },
   {
    "duration": 996,
    "start_time": "2022-01-12T20:04:47.901Z"
   },
   {
    "duration": 30,
    "start_time": "2022-01-12T21:40:35.941Z"
   },
   {
    "duration": 31,
    "start_time": "2022-01-12T21:40:48.543Z"
   },
   {
    "duration": 59,
    "start_time": "2022-01-12T21:41:04.016Z"
   },
   {
    "duration": 24,
    "start_time": "2022-01-12T21:42:00.337Z"
   },
   {
    "duration": 567,
    "start_time": "2022-01-12T21:43:18.635Z"
   },
   {
    "duration": 433,
    "start_time": "2022-01-12T21:43:37.442Z"
   },
   {
    "duration": 605,
    "start_time": "2022-01-12T21:52:10.524Z"
   },
   {
    "duration": 472,
    "start_time": "2022-01-12T21:52:35.852Z"
   },
   {
    "duration": 535,
    "start_time": "2022-01-12T21:53:36.066Z"
   },
   {
    "duration": 1620,
    "start_time": "2022-01-12T21:53:54.294Z"
   },
   {
    "duration": 7,
    "start_time": "2022-01-12T21:53:55.917Z"
   },
   {
    "duration": 32,
    "start_time": "2022-01-12T21:53:55.927Z"
   },
   {
    "duration": 9,
    "start_time": "2022-01-12T21:53:55.963Z"
   },
   {
    "duration": 14,
    "start_time": "2022-01-12T21:53:55.974Z"
   },
   {
    "duration": 6,
    "start_time": "2022-01-12T21:53:55.991Z"
   },
   {
    "duration": 16,
    "start_time": "2022-01-12T21:53:55.999Z"
   },
   {
    "duration": 65,
    "start_time": "2022-01-12T21:53:56.019Z"
   },
   {
    "duration": 10,
    "start_time": "2022-01-12T21:53:56.087Z"
   },
   {
    "duration": 71,
    "start_time": "2022-01-12T21:53:56.100Z"
   },
   {
    "duration": 111,
    "start_time": "2022-01-12T21:53:56.174Z"
   },
   {
    "duration": 14,
    "start_time": "2022-01-12T21:53:56.287Z"
   },
   {
    "duration": 16,
    "start_time": "2022-01-12T21:53:56.303Z"
   },
   {
    "duration": 666,
    "start_time": "2022-01-12T21:53:56.321Z"
   },
   {
    "duration": 28,
    "start_time": "2022-01-12T21:53:56.990Z"
   },
   {
    "duration": 66,
    "start_time": "2022-01-12T21:53:57.021Z"
   },
   {
    "duration": 1228,
    "start_time": "2022-01-12T21:53:57.090Z"
   },
   {
    "duration": 538,
    "start_time": "2022-01-12T21:53:58.321Z"
   },
   {
    "duration": 726,
    "start_time": "2022-01-12T21:53:58.861Z"
   },
   {
    "duration": 630,
    "start_time": "2022-01-12T21:53:59.589Z"
   },
   {
    "duration": 5799,
    "start_time": "2022-01-12T21:54:00.222Z"
   },
   {
    "duration": 1023,
    "start_time": "2022-01-12T21:54:06.023Z"
   },
   {
    "duration": 772,
    "start_time": "2022-01-12T21:54:07.058Z"
   },
   {
    "duration": 688,
    "start_time": "2022-01-12T21:54:07.833Z"
   },
   {
    "duration": 957,
    "start_time": "2022-01-12T21:54:08.523Z"
   },
   {
    "duration": 3,
    "start_time": "2022-01-12T21:54:09.482Z"
   },
   {
    "duration": 691,
    "start_time": "2022-01-12T21:54:09.487Z"
   },
   {
    "duration": 1384,
    "start_time": "2022-01-12T21:57:44.078Z"
   },
   {
    "duration": 468,
    "start_time": "2022-01-12T21:59:18.042Z"
   },
   {
    "duration": 8942,
    "start_time": "2022-01-12T22:02:48.692Z"
   },
   {
    "duration": 1516,
    "start_time": "2022-01-12T22:03:22.100Z"
   },
   {
    "duration": 18,
    "start_time": "2022-01-12T22:13:12.402Z"
   },
   {
    "duration": 18,
    "start_time": "2022-01-12T22:14:10.448Z"
   },
   {
    "duration": 17,
    "start_time": "2022-01-12T22:14:14.193Z"
   },
   {
    "duration": 26,
    "start_time": "2022-01-12T22:17:53.428Z"
   },
   {
    "duration": 32,
    "start_time": "2022-01-12T22:18:11.163Z"
   },
   {
    "duration": 38,
    "start_time": "2022-01-12T22:19:31.368Z"
   },
   {
    "duration": 27,
    "start_time": "2022-01-12T22:20:45.222Z"
   },
   {
    "duration": 462,
    "start_time": "2022-01-12T22:22:23.871Z"
   },
   {
    "duration": 537,
    "start_time": "2022-01-12T22:23:34.777Z"
   },
   {
    "duration": 472,
    "start_time": "2022-01-12T22:28:34.521Z"
   },
   {
    "duration": 560,
    "start_time": "2022-01-12T22:29:13.799Z"
   },
   {
    "duration": 476,
    "start_time": "2022-01-12T22:30:19.623Z"
   },
   {
    "duration": 11,
    "start_time": "2022-01-12T22:34:49.238Z"
   },
   {
    "duration": 34,
    "start_time": "2022-01-12T22:41:26.619Z"
   },
   {
    "duration": 28,
    "start_time": "2022-01-12T22:41:35.235Z"
   },
   {
    "duration": 29,
    "start_time": "2022-01-12T22:41:57.452Z"
   },
   {
    "duration": 563,
    "start_time": "2022-01-12T22:44:05.935Z"
   },
   {
    "duration": 462,
    "start_time": "2022-01-12T22:45:33.414Z"
   },
   {
    "duration": 12,
    "start_time": "2022-01-12T22:47:38.417Z"
   },
   {
    "duration": 1612,
    "start_time": "2022-01-12T23:28:50.613Z"
   },
   {
    "duration": 5,
    "start_time": "2022-01-12T23:28:52.228Z"
   },
   {
    "duration": 11,
    "start_time": "2022-01-12T23:28:52.261Z"
   },
   {
    "duration": 9,
    "start_time": "2022-01-12T23:28:52.275Z"
   },
   {
    "duration": 15,
    "start_time": "2022-01-12T23:28:52.286Z"
   },
   {
    "duration": 7,
    "start_time": "2022-01-12T23:28:52.303Z"
   },
   {
    "duration": 54,
    "start_time": "2022-01-12T23:28:52.312Z"
   },
   {
    "duration": 29,
    "start_time": "2022-01-12T23:28:52.370Z"
   },
   {
    "duration": 11,
    "start_time": "2022-01-12T23:28:52.402Z"
   },
   {
    "duration": 67,
    "start_time": "2022-01-12T23:28:52.415Z"
   },
   {
    "duration": 104,
    "start_time": "2022-01-12T23:28:52.484Z"
   },
   {
    "duration": 14,
    "start_time": "2022-01-12T23:28:52.590Z"
   },
   {
    "duration": 15,
    "start_time": "2022-01-12T23:28:52.606Z"
   },
   {
    "duration": 671,
    "start_time": "2022-01-12T23:28:52.623Z"
   },
   {
    "duration": 27,
    "start_time": "2022-01-12T23:28:53.296Z"
   },
   {
    "duration": 54,
    "start_time": "2022-01-12T23:28:53.325Z"
   },
   {
    "duration": 1211,
    "start_time": "2022-01-12T23:28:53.381Z"
   },
   {
    "duration": 521,
    "start_time": "2022-01-12T23:28:54.595Z"
   },
   {
    "duration": 656,
    "start_time": "2022-01-12T23:28:55.118Z"
   },
   {
    "duration": 622,
    "start_time": "2022-01-12T23:28:55.777Z"
   },
   {
    "duration": 5585,
    "start_time": "2022-01-12T23:28:56.401Z"
   },
   {
    "duration": 996,
    "start_time": "2022-01-12T23:29:01.988Z"
   },
   {
    "duration": 651,
    "start_time": "2022-01-12T23:29:02.989Z"
   },
   {
    "duration": 680,
    "start_time": "2022-01-12T23:29:03.642Z"
   },
   {
    "duration": 952,
    "start_time": "2022-01-12T23:29:04.324Z"
   },
   {
    "duration": 29,
    "start_time": "2022-01-12T23:29:05.279Z"
   },
   {
    "duration": 576,
    "start_time": "2022-01-12T23:29:05.311Z"
   },
   {
    "duration": 692,
    "start_time": "2022-01-12T23:29:05.890Z"
   },
   {
    "duration": 20,
    "start_time": "2022-01-12T23:29:06.586Z"
   },
   {
    "duration": 55,
    "start_time": "2022-01-12T23:29:06.610Z"
   },
   {
    "duration": 476,
    "start_time": "2022-01-12T23:29:06.667Z"
   },
   {
    "duration": 469,
    "start_time": "2022-01-12T23:29:07.146Z"
   },
   {
    "duration": 13,
    "start_time": "2022-01-12T23:29:07.618Z"
   },
   {
    "duration": 1190,
    "start_time": "2022-01-15T09:01:14.302Z"
   },
   {
    "duration": 4454,
    "start_time": "2022-01-15T09:09:06.120Z"
   },
   {
    "duration": 186,
    "start_time": "2022-01-15T09:11:08.316Z"
   },
   {
    "duration": 1126,
    "start_time": "2022-01-15T09:11:13.249Z"
   },
   {
    "duration": 4,
    "start_time": "2022-01-15T09:11:14.377Z"
   },
   {
    "duration": 15,
    "start_time": "2022-01-15T09:11:14.383Z"
   },
   {
    "duration": 8,
    "start_time": "2022-01-15T09:11:14.399Z"
   },
   {
    "duration": 11,
    "start_time": "2022-01-15T09:11:14.409Z"
   },
   {
    "duration": 4,
    "start_time": "2022-01-15T09:11:14.421Z"
   },
   {
    "duration": 11,
    "start_time": "2022-01-15T09:11:14.427Z"
   },
   {
    "duration": 20,
    "start_time": "2022-01-15T09:11:14.440Z"
   },
   {
    "duration": 5,
    "start_time": "2022-01-15T09:11:14.462Z"
   },
   {
    "duration": 26,
    "start_time": "2022-01-15T09:11:14.491Z"
   },
   {
    "duration": 20,
    "start_time": "2022-01-15T09:11:14.519Z"
   },
   {
    "duration": 263,
    "start_time": "2022-01-15T09:11:14.541Z"
   },
   {
    "duration": -573,
    "start_time": "2022-01-15T09:11:15.380Z"
   },
   {
    "duration": -574,
    "start_time": "2022-01-15T09:11:15.382Z"
   },
   {
    "duration": -575,
    "start_time": "2022-01-15T09:11:15.384Z"
   },
   {
    "duration": -577,
    "start_time": "2022-01-15T09:11:15.387Z"
   },
   {
    "duration": -578,
    "start_time": "2022-01-15T09:11:15.389Z"
   },
   {
    "duration": -579,
    "start_time": "2022-01-15T09:11:15.391Z"
   },
   {
    "duration": -581,
    "start_time": "2022-01-15T09:11:15.393Z"
   },
   {
    "duration": -581,
    "start_time": "2022-01-15T09:11:15.395Z"
   },
   {
    "duration": -582,
    "start_time": "2022-01-15T09:11:15.397Z"
   },
   {
    "duration": -584,
    "start_time": "2022-01-15T09:11:15.399Z"
   },
   {
    "duration": -585,
    "start_time": "2022-01-15T09:11:15.401Z"
   },
   {
    "duration": -586,
    "start_time": "2022-01-15T09:11:15.403Z"
   },
   {
    "duration": -587,
    "start_time": "2022-01-15T09:11:15.405Z"
   },
   {
    "duration": -588,
    "start_time": "2022-01-15T09:11:15.407Z"
   },
   {
    "duration": -588,
    "start_time": "2022-01-15T09:11:15.409Z"
   },
   {
    "duration": -589,
    "start_time": "2022-01-15T09:11:15.411Z"
   },
   {
    "duration": -596,
    "start_time": "2022-01-15T09:11:15.419Z"
   },
   {
    "duration": -598,
    "start_time": "2022-01-15T09:11:15.422Z"
   },
   {
    "duration": -599,
    "start_time": "2022-01-15T09:11:15.424Z"
   },
   {
    "duration": -600,
    "start_time": "2022-01-15T09:11:15.426Z"
   },
   {
    "duration": -601,
    "start_time": "2022-01-15T09:11:15.428Z"
   },
   {
    "duration": 295,
    "start_time": "2022-01-15T09:14:11.316Z"
   },
   {
    "duration": 268,
    "start_time": "2022-01-15T09:15:17.729Z"
   },
   {
    "duration": 1150,
    "start_time": "2022-01-15T09:19:32.848Z"
   },
   {
    "duration": 5,
    "start_time": "2022-01-15T09:19:34.000Z"
   },
   {
    "duration": 17,
    "start_time": "2022-01-15T09:19:34.007Z"
   },
   {
    "duration": 9,
    "start_time": "2022-01-15T09:19:34.027Z"
   },
   {
    "duration": 11,
    "start_time": "2022-01-15T09:19:34.038Z"
   },
   {
    "duration": 18,
    "start_time": "2022-01-15T09:19:34.050Z"
   },
   {
    "duration": 24,
    "start_time": "2022-01-15T09:19:34.070Z"
   },
   {
    "duration": 24,
    "start_time": "2022-01-15T09:19:34.097Z"
   },
   {
    "duration": 6,
    "start_time": "2022-01-15T09:19:34.124Z"
   },
   {
    "duration": 38,
    "start_time": "2022-01-15T09:19:34.132Z"
   },
   {
    "duration": 30,
    "start_time": "2022-01-15T09:19:34.172Z"
   },
   {
    "duration": 299,
    "start_time": "2022-01-15T09:19:34.204Z"
   },
   {
    "duration": 13,
    "start_time": "2022-01-15T09:19:34.505Z"
   },
   {
    "duration": 427,
    "start_time": "2022-01-15T09:19:34.520Z"
   },
   {
    "duration": 18,
    "start_time": "2022-01-15T09:19:34.948Z"
   },
   {
    "duration": 35,
    "start_time": "2022-01-15T09:19:34.968Z"
   },
   {
    "duration": 758,
    "start_time": "2022-01-15T09:19:35.005Z"
   },
   {
    "duration": 349,
    "start_time": "2022-01-15T09:19:35.765Z"
   },
   {
    "duration": 426,
    "start_time": "2022-01-15T09:19:36.116Z"
   },
   {
    "duration": 427,
    "start_time": "2022-01-15T09:19:36.544Z"
   },
   {
    "duration": 3653,
    "start_time": "2022-01-15T09:19:36.974Z"
   },
   {
    "duration": 629,
    "start_time": "2022-01-15T09:19:40.629Z"
   },
   {
    "duration": 433,
    "start_time": "2022-01-15T09:19:41.261Z"
   },
   {
    "duration": 471,
    "start_time": "2022-01-15T09:19:41.696Z"
   },
   {
    "duration": 713,
    "start_time": "2022-01-15T09:19:42.169Z"
   },
   {
    "duration": 23,
    "start_time": "2022-01-15T09:19:42.884Z"
   },
   {
    "duration": 298,
    "start_time": "2022-01-15T09:19:42.909Z"
   },
   {
    "duration": 298,
    "start_time": "2022-01-15T09:19:43.208Z"
   },
   {
    "duration": 9,
    "start_time": "2022-01-15T09:19:43.508Z"
   },
   {
    "duration": 17,
    "start_time": "2022-01-15T09:19:43.519Z"
   },
   {
    "duration": 317,
    "start_time": "2022-01-15T09:19:43.538Z"
   },
   {
    "duration": 292,
    "start_time": "2022-01-15T09:19:43.857Z"
   },
   {
    "duration": 9,
    "start_time": "2022-01-15T09:19:44.150Z"
   },
   {
    "duration": 256,
    "start_time": "2022-01-15T09:23:24.666Z"
   },
   {
    "duration": 423,
    "start_time": "2022-01-15T09:24:52.441Z"
   },
   {
    "duration": 57,
    "start_time": "2022-01-15T09:26:50.590Z"
   },
   {
    "duration": 56,
    "start_time": "2022-01-15T09:26:55.467Z"
   },
   {
    "duration": 418,
    "start_time": "2022-01-15T09:27:09.956Z"
   },
   {
    "duration": 21,
    "start_time": "2022-01-15T09:29:30.152Z"
   },
   {
    "duration": 1227,
    "start_time": "2022-01-15T09:29:40.184Z"
   },
   {
    "duration": 4,
    "start_time": "2022-01-15T09:29:41.412Z"
   },
   {
    "duration": 8,
    "start_time": "2022-01-15T09:29:41.420Z"
   },
   {
    "duration": 6,
    "start_time": "2022-01-15T09:29:41.429Z"
   },
   {
    "duration": 13,
    "start_time": "2022-01-15T09:29:41.437Z"
   },
   {
    "duration": 39,
    "start_time": "2022-01-15T09:29:41.452Z"
   },
   {
    "duration": 10,
    "start_time": "2022-01-15T09:29:41.494Z"
   },
   {
    "duration": 22,
    "start_time": "2022-01-15T09:29:41.506Z"
   },
   {
    "duration": 6,
    "start_time": "2022-01-15T09:29:41.529Z"
   },
   {
    "duration": 56,
    "start_time": "2022-01-15T09:29:41.536Z"
   },
   {
    "duration": 23,
    "start_time": "2022-01-15T09:29:41.593Z"
   },
   {
    "duration": 324,
    "start_time": "2022-01-15T09:29:41.618Z"
   },
   {
    "duration": 428,
    "start_time": "2022-01-15T09:29:41.944Z"
   },
   {
    "duration": 425,
    "start_time": "2022-01-15T09:29:42.373Z"
   },
   {
    "duration": 19,
    "start_time": "2022-01-15T09:29:42.799Z"
   },
   {
    "duration": 19,
    "start_time": "2022-01-15T09:29:42.820Z"
   },
   {
    "duration": 608,
    "start_time": "2022-01-15T09:29:42.841Z"
   },
   {
    "duration": 352,
    "start_time": "2022-01-15T09:29:43.451Z"
   },
   {
    "duration": 520,
    "start_time": "2022-01-15T09:29:43.805Z"
   },
   {
    "duration": 429,
    "start_time": "2022-01-15T09:29:44.327Z"
   },
   {
    "duration": 3603,
    "start_time": "2022-01-15T09:29:44.758Z"
   },
   {
    "duration": 582,
    "start_time": "2022-01-15T09:29:48.365Z"
   },
   {
    "duration": 431,
    "start_time": "2022-01-15T09:29:48.950Z"
   },
   {
    "duration": 562,
    "start_time": "2022-01-15T09:29:49.383Z"
   },
   {
    "duration": 627,
    "start_time": "2022-01-15T09:29:49.947Z"
   },
   {
    "duration": 26,
    "start_time": "2022-01-15T09:29:50.575Z"
   },
   {
    "duration": 294,
    "start_time": "2022-01-15T09:29:50.602Z"
   },
   {
    "duration": 300,
    "start_time": "2022-01-15T09:29:50.898Z"
   },
   {
    "duration": 9,
    "start_time": "2022-01-15T09:29:51.200Z"
   },
   {
    "duration": 19,
    "start_time": "2022-01-15T09:29:51.211Z"
   },
   {
    "duration": 337,
    "start_time": "2022-01-15T09:29:51.232Z"
   },
   {
    "duration": 320,
    "start_time": "2022-01-15T09:29:51.571Z"
   },
   {
    "duration": 9,
    "start_time": "2022-01-15T09:29:51.893Z"
   },
   {
    "duration": 545,
    "start_time": "2022-01-15T09:38:04.432Z"
   },
   {
    "duration": 860,
    "start_time": "2022-01-15T09:41:21.770Z"
   },
   {
    "duration": 616,
    "start_time": "2022-01-15T09:41:39.737Z"
   },
   {
    "duration": 599,
    "start_time": "2022-01-15T09:41:48.882Z"
   },
   {
    "duration": 705,
    "start_time": "2022-01-15T09:42:05.665Z"
   },
   {
    "duration": 601,
    "start_time": "2022-01-15T09:42:25.968Z"
   },
   {
    "duration": 622,
    "start_time": "2022-01-15T09:42:39.384Z"
   },
   {
    "duration": 619,
    "start_time": "2022-01-15T09:42:55.801Z"
   },
   {
    "duration": 599,
    "start_time": "2022-01-15T09:49:45.588Z"
   },
   {
    "duration": 1191,
    "start_time": "2022-01-15T09:50:38.609Z"
   },
   {
    "duration": 4,
    "start_time": "2022-01-15T09:50:39.802Z"
   },
   {
    "duration": 9,
    "start_time": "2022-01-15T09:50:39.808Z"
   },
   {
    "duration": 5,
    "start_time": "2022-01-15T09:50:39.819Z"
   },
   {
    "duration": 11,
    "start_time": "2022-01-15T09:50:39.826Z"
   },
   {
    "duration": 4,
    "start_time": "2022-01-15T09:50:39.839Z"
   },
   {
    "duration": 50,
    "start_time": "2022-01-15T09:50:39.844Z"
   },
   {
    "duration": 24,
    "start_time": "2022-01-15T09:50:39.897Z"
   },
   {
    "duration": 5,
    "start_time": "2022-01-15T09:50:39.924Z"
   },
   {
    "duration": 22,
    "start_time": "2022-01-15T09:50:39.931Z"
   },
   {
    "duration": 46,
    "start_time": "2022-01-15T09:50:39.955Z"
   },
   {
    "duration": 320,
    "start_time": "2022-01-15T09:50:40.003Z"
   },
   {
    "duration": 447,
    "start_time": "2022-01-15T09:50:40.325Z"
   },
   {
    "duration": 428,
    "start_time": "2022-01-15T09:50:40.774Z"
   },
   {
    "duration": 21,
    "start_time": "2022-01-15T09:50:41.204Z"
   },
   {
    "duration": 22,
    "start_time": "2022-01-15T09:50:41.227Z"
   },
   {
    "duration": 644,
    "start_time": "2022-01-15T09:50:41.251Z"
   },
   {
    "duration": 352,
    "start_time": "2022-01-15T09:50:41.897Z"
   },
   {
    "duration": 501,
    "start_time": "2022-01-15T09:50:42.251Z"
   },
   {
    "duration": 478,
    "start_time": "2022-01-15T09:50:42.754Z"
   },
   {
    "duration": 3640,
    "start_time": "2022-01-15T09:50:43.234Z"
   },
   {
    "duration": 585,
    "start_time": "2022-01-15T09:50:46.875Z"
   },
   {
    "duration": 420,
    "start_time": "2022-01-15T09:50:47.464Z"
   },
   {
    "duration": 545,
    "start_time": "2022-01-15T09:50:47.886Z"
   },
   {
    "duration": 607,
    "start_time": "2022-01-15T09:50:48.433Z"
   },
   {
    "duration": 19,
    "start_time": "2022-01-15T09:50:49.042Z"
   },
   {
    "duration": 318,
    "start_time": "2022-01-15T09:50:49.063Z"
   },
   {
    "duration": 283,
    "start_time": "2022-01-15T09:50:49.391Z"
   },
   {
    "duration": 20,
    "start_time": "2022-01-15T09:50:49.676Z"
   },
   {
    "duration": 18,
    "start_time": "2022-01-15T09:50:49.698Z"
   },
   {
    "duration": 336,
    "start_time": "2022-01-15T09:50:49.718Z"
   },
   {
    "duration": 298,
    "start_time": "2022-01-15T09:50:50.056Z"
   },
   {
    "duration": 8,
    "start_time": "2022-01-15T09:50:50.357Z"
   },
   {
    "duration": 2052,
    "start_time": "2022-01-15T09:53:59.774Z"
   },
   {
    "duration": 1498,
    "start_time": "2022-01-15T09:58:47.221Z"
   },
   {
    "duration": 61,
    "start_time": "2022-01-15T10:02:30.838Z"
   },
   {
    "duration": 71,
    "start_time": "2022-01-15T10:03:00.964Z"
   },
   {
    "duration": 1587,
    "start_time": "2022-01-15T10:03:40.715Z"
   },
   {
    "duration": 1416,
    "start_time": "2022-01-15T10:04:06.667Z"
   },
   {
    "duration": 68,
    "start_time": "2022-01-15T10:04:29.306Z"
   },
   {
    "duration": 1482,
    "start_time": "2022-01-15T10:04:37.161Z"
   },
   {
    "duration": 1966,
    "start_time": "2022-01-15T10:07:52.532Z"
   },
   {
    "duration": 1610,
    "start_time": "2022-01-15T10:10:13.647Z"
   },
   {
    "duration": 1610,
    "start_time": "2022-01-15T10:11:49.172Z"
   },
   {
    "duration": 665,
    "start_time": "2022-01-15T10:21:01.286Z"
   },
   {
    "duration": 640,
    "start_time": "2022-01-15T10:21:12.084Z"
   },
   {
    "duration": 567,
    "start_time": "2022-01-15T10:21:22.476Z"
   },
   {
    "duration": 671,
    "start_time": "2022-01-15T10:23:00.753Z"
   },
   {
    "duration": 358,
    "start_time": "2022-01-15T10:24:11.640Z"
   },
   {
    "duration": 1053,
    "start_time": "2022-01-15T10:25:33.885Z"
   },
   {
    "duration": 1153,
    "start_time": "2022-01-15T10:26:03.043Z"
   },
   {
    "duration": 5,
    "start_time": "2022-01-15T10:26:04.200Z"
   },
   {
    "duration": 12,
    "start_time": "2022-01-15T10:26:04.206Z"
   },
   {
    "duration": 8,
    "start_time": "2022-01-15T10:26:04.219Z"
   },
   {
    "duration": 11,
    "start_time": "2022-01-15T10:26:04.228Z"
   },
   {
    "duration": 4,
    "start_time": "2022-01-15T10:26:04.241Z"
   },
   {
    "duration": 48,
    "start_time": "2022-01-15T10:26:04.247Z"
   },
   {
    "duration": 19,
    "start_time": "2022-01-15T10:26:04.297Z"
   },
   {
    "duration": 5,
    "start_time": "2022-01-15T10:26:04.317Z"
   },
   {
    "duration": 26,
    "start_time": "2022-01-15T10:26:04.324Z"
   },
   {
    "duration": 55,
    "start_time": "2022-01-15T10:26:04.352Z"
   },
   {
    "duration": 303,
    "start_time": "2022-01-15T10:26:04.409Z"
   },
   {
    "duration": 438,
    "start_time": "2022-01-15T10:26:04.714Z"
   },
   {
    "duration": 421,
    "start_time": "2022-01-15T10:26:05.154Z"
   },
   {
    "duration": 22,
    "start_time": "2022-01-15T10:26:05.577Z"
   },
   {
    "duration": 24,
    "start_time": "2022-01-15T10:26:05.600Z"
   },
   {
    "duration": 527,
    "start_time": "2022-01-15T10:26:05.625Z"
   },
   {
    "duration": -674,
    "start_time": "2022-01-15T10:26:06.829Z"
   },
   {
    "duration": -680,
    "start_time": "2022-01-15T10:26:06.836Z"
   },
   {
    "duration": -680,
    "start_time": "2022-01-15T10:26:06.838Z"
   },
   {
    "duration": -682,
    "start_time": "2022-01-15T10:26:06.841Z"
   },
   {
    "duration": -682,
    "start_time": "2022-01-15T10:26:06.843Z"
   },
   {
    "duration": -683,
    "start_time": "2022-01-15T10:26:06.845Z"
   },
   {
    "duration": -684,
    "start_time": "2022-01-15T10:26:06.847Z"
   },
   {
    "duration": -683,
    "start_time": "2022-01-15T10:26:06.848Z"
   },
   {
    "duration": -684,
    "start_time": "2022-01-15T10:26:06.850Z"
   },
   {
    "duration": -684,
    "start_time": "2022-01-15T10:26:06.852Z"
   },
   {
    "duration": -685,
    "start_time": "2022-01-15T10:26:06.854Z"
   },
   {
    "duration": -686,
    "start_time": "2022-01-15T10:26:06.857Z"
   },
   {
    "duration": -687,
    "start_time": "2022-01-15T10:26:06.859Z"
   },
   {
    "duration": -688,
    "start_time": "2022-01-15T10:26:06.861Z"
   },
   {
    "duration": -688,
    "start_time": "2022-01-15T10:26:06.863Z"
   },
   {
    "duration": -688,
    "start_time": "2022-01-15T10:26:06.864Z"
   },
   {
    "duration": 183,
    "start_time": "2022-01-15T10:30:13.619Z"
   },
   {
    "duration": 176,
    "start_time": "2022-01-15T10:31:32.720Z"
   },
   {
    "duration": 540,
    "start_time": "2022-01-15T10:31:47.223Z"
   },
   {
    "duration": 656,
    "start_time": "2022-01-15T10:32:23.975Z"
   },
   {
    "duration": 195,
    "start_time": "2022-01-15T10:32:50.079Z"
   },
   {
    "duration": 661,
    "start_time": "2022-01-15T10:32:55.373Z"
   },
   {
    "duration": 1207,
    "start_time": "2022-01-15T10:35:10.410Z"
   },
   {
    "duration": 3054,
    "start_time": "2022-01-15T10:37:23.581Z"
   },
   {
    "duration": 4,
    "start_time": "2022-01-15T10:37:26.636Z"
   },
   {
    "duration": 10,
    "start_time": "2022-01-15T10:37:26.642Z"
   },
   {
    "duration": 9,
    "start_time": "2022-01-15T10:37:26.653Z"
   },
   {
    "duration": 34,
    "start_time": "2022-01-15T10:37:26.663Z"
   },
   {
    "duration": 4,
    "start_time": "2022-01-15T10:37:26.699Z"
   },
   {
    "duration": 12,
    "start_time": "2022-01-15T10:37:26.704Z"
   },
   {
    "duration": 19,
    "start_time": "2022-01-15T10:37:26.719Z"
   },
   {
    "duration": 6,
    "start_time": "2022-01-15T10:37:26.739Z"
   },
   {
    "duration": 69,
    "start_time": "2022-01-15T10:37:26.747Z"
   },
   {
    "duration": 29,
    "start_time": "2022-01-15T10:37:26.818Z"
   },
   {
    "duration": 302,
    "start_time": "2022-01-15T10:37:26.849Z"
   },
   {
    "duration": 431,
    "start_time": "2022-01-15T10:37:27.152Z"
   },
   {
    "duration": 422,
    "start_time": "2022-01-15T10:37:27.584Z"
   },
   {
    "duration": 18,
    "start_time": "2022-01-15T10:37:28.008Z"
   },
   {
    "duration": 19,
    "start_time": "2022-01-15T10:37:28.027Z"
   },
   {
    "duration": 1240,
    "start_time": "2022-01-15T10:37:28.047Z"
   },
   {
    "duration": 402,
    "start_time": "2022-01-15T10:37:29.289Z"
   },
   {
    "duration": 452,
    "start_time": "2022-01-15T10:37:29.693Z"
   },
   {
    "duration": 417,
    "start_time": "2022-01-15T10:37:30.147Z"
   },
   {
    "duration": 3668,
    "start_time": "2022-01-15T10:37:30.566Z"
   },
   {
    "duration": 581,
    "start_time": "2022-01-15T10:37:34.236Z"
   },
   {
    "duration": 433,
    "start_time": "2022-01-15T10:37:34.819Z"
   },
   {
    "duration": 529,
    "start_time": "2022-01-15T10:37:35.253Z"
   },
   {
    "duration": 583,
    "start_time": "2022-01-15T10:37:35.791Z"
   },
   {
    "duration": 27,
    "start_time": "2022-01-15T10:37:36.376Z"
   },
   {
    "duration": 288,
    "start_time": "2022-01-15T10:37:36.405Z"
   },
   {
    "duration": 287,
    "start_time": "2022-01-15T10:37:36.695Z"
   },
   {
    "duration": 8,
    "start_time": "2022-01-15T10:37:36.992Z"
   },
   {
    "duration": 39,
    "start_time": "2022-01-15T10:37:37.002Z"
   },
   {
    "duration": 311,
    "start_time": "2022-01-15T10:37:37.043Z"
   },
   {
    "duration": 299,
    "start_time": "2022-01-15T10:37:37.357Z"
   },
   {
    "duration": 9,
    "start_time": "2022-01-15T10:37:37.658Z"
   },
   {
    "duration": 563,
    "start_time": "2022-01-15T10:51:08.135Z"
   },
   {
    "duration": 571,
    "start_time": "2022-01-15T10:51:16.222Z"
   },
   {
    "duration": 19865,
    "start_time": "2022-01-15T10:54:25.146Z"
   },
   {
    "duration": 582,
    "start_time": "2022-01-15T10:55:24.718Z"
   },
   {
    "duration": 287,
    "start_time": "2022-01-15T11:00:11.279Z"
   },
   {
    "duration": 330,
    "start_time": "2022-01-15T11:01:26.212Z"
   },
   {
    "duration": 232,
    "start_time": "2022-01-15T11:02:02.091Z"
   },
   {
    "duration": 234,
    "start_time": "2022-01-15T11:02:58.474Z"
   },
   {
    "duration": 55,
    "start_time": "2022-01-15T11:12:41.698Z"
   },
   {
    "duration": 229,
    "start_time": "2022-01-15T11:14:03.735Z"
   },
   {
    "duration": 1170,
    "start_time": "2022-01-15T11:16:36.618Z"
   },
   {
    "duration": 4,
    "start_time": "2022-01-15T11:16:37.790Z"
   },
   {
    "duration": 7,
    "start_time": "2022-01-15T11:16:37.798Z"
   },
   {
    "duration": 6,
    "start_time": "2022-01-15T11:16:37.806Z"
   },
   {
    "duration": 11,
    "start_time": "2022-01-15T11:16:37.813Z"
   },
   {
    "duration": 4,
    "start_time": "2022-01-15T11:16:37.825Z"
   },
   {
    "duration": 11,
    "start_time": "2022-01-15T11:16:37.832Z"
   },
   {
    "duration": 60,
    "start_time": "2022-01-15T11:16:37.845Z"
   },
   {
    "duration": 6,
    "start_time": "2022-01-15T11:16:37.907Z"
   },
   {
    "duration": 22,
    "start_time": "2022-01-15T11:16:37.914Z"
   },
   {
    "duration": 60,
    "start_time": "2022-01-15T11:16:37.938Z"
   },
   {
    "duration": 301,
    "start_time": "2022-01-15T11:16:38.000Z"
   },
   {
    "duration": 417,
    "start_time": "2022-01-15T11:16:38.303Z"
   },
   {
    "duration": 403,
    "start_time": "2022-01-15T11:16:38.722Z"
   },
   {
    "duration": 18,
    "start_time": "2022-01-15T11:16:39.127Z"
   },
   {
    "duration": 47,
    "start_time": "2022-01-15T11:16:39.146Z"
   },
   {
    "duration": 1201,
    "start_time": "2022-01-15T11:16:39.194Z"
   },
   {
    "duration": 399,
    "start_time": "2022-01-15T11:16:40.397Z"
   },
   {
    "duration": 443,
    "start_time": "2022-01-15T11:16:40.798Z"
   },
   {
    "duration": 420,
    "start_time": "2022-01-15T11:16:41.243Z"
   },
   {
    "duration": 3589,
    "start_time": "2022-01-15T11:16:41.665Z"
   },
   {
    "duration": 249,
    "start_time": "2022-01-15T11:16:45.258Z"
   },
   {
    "duration": 458,
    "start_time": "2022-01-15T11:16:45.510Z"
   },
   {
    "duration": 542,
    "start_time": "2022-01-15T11:16:45.970Z"
   },
   {
    "duration": 606,
    "start_time": "2022-01-15T11:16:46.515Z"
   },
   {
    "duration": 20,
    "start_time": "2022-01-15T11:16:47.123Z"
   },
   {
    "duration": 299,
    "start_time": "2022-01-15T11:16:47.145Z"
   },
   {
    "duration": 296,
    "start_time": "2022-01-15T11:16:47.447Z"
   },
   {
    "duration": 9,
    "start_time": "2022-01-15T11:16:47.745Z"
   },
   {
    "duration": 42,
    "start_time": "2022-01-15T11:16:47.756Z"
   },
   {
    "duration": 312,
    "start_time": "2022-01-15T11:16:47.800Z"
   },
   {
    "duration": 308,
    "start_time": "2022-01-15T11:16:48.114Z"
   },
   {
    "duration": 7,
    "start_time": "2022-01-15T11:16:48.424Z"
   }
  ],
  "kernelspec": {
   "display_name": "Python 3 (ipykernel)",
   "language": "python",
   "name": "python3"
  },
  "language_info": {
   "codemirror_mode": {
    "name": "ipython",
    "version": 3
   },
   "file_extension": ".py",
   "mimetype": "text/x-python",
   "name": "python",
   "nbconvert_exporter": "python",
   "pygments_lexer": "ipython3",
   "version": "3.9.7"
  },
  "toc": {
   "base_numbering": 1,
   "nav_menu": {},
   "number_sections": true,
   "sideBar": true,
   "skip_h1_title": true,
   "title_cell": "Table of Contents",
   "title_sidebar": "Contents",
   "toc_cell": false,
   "toc_position": {},
   "toc_section_display": true,
   "toc_window_display": false
  }
 },
 "nbformat": 4,
 "nbformat_minor": 2
}
