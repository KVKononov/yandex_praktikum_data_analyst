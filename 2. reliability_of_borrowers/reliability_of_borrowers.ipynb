{
 "cells": [
  {
   "cell_type": "markdown",
   "metadata": {},
   "source": [
    "# Исследование надёжности заёмщиков\n",
    "\n",
    "Заказчик — кредитный отдел банка. Нужно разобраться, влияет ли семейное положение и количество детей клиента на факт погашения кредита в срок. Входные данные от банка — статистика о платёжеспособности клиентов.\n",
    "\n",
    "Результаты исследования будут учтены при построении модели **кредитного скоринга** — специальной системы, которая оценивает способность потенциального заёмщика вернуть кредит банку."
   ]
  },
  {
   "cell_type": "markdown",
   "metadata": {},
   "source": [
    "## 1. Изучение данных из файла"
   ]
  },
  {
   "cell_type": "code",
   "execution_count": 1,
   "metadata": {},
   "outputs": [
    {
     "data": {
      "text/html": [
       "<div>\n",
       "<style scoped>\n",
       "    .dataframe tbody tr th:only-of-type {\n",
       "        vertical-align: middle;\n",
       "    }\n",
       "\n",
       "    .dataframe tbody tr th {\n",
       "        vertical-align: top;\n",
       "    }\n",
       "\n",
       "    .dataframe thead th {\n",
       "        text-align: right;\n",
       "    }\n",
       "</style>\n",
       "<table border=\"1\" class=\"dataframe\">\n",
       "  <thead>\n",
       "    <tr style=\"text-align: right;\">\n",
       "      <th></th>\n",
       "      <th>children</th>\n",
       "      <th>days_employed</th>\n",
       "      <th>dob_years</th>\n",
       "      <th>education</th>\n",
       "      <th>education_id</th>\n",
       "      <th>family_status</th>\n",
       "      <th>family_status_id</th>\n",
       "      <th>gender</th>\n",
       "      <th>income_type</th>\n",
       "      <th>debt</th>\n",
       "      <th>total_income</th>\n",
       "      <th>purpose</th>\n",
       "    </tr>\n",
       "  </thead>\n",
       "  <tbody>\n",
       "    <tr>\n",
       "      <td>0</td>\n",
       "      <td>1</td>\n",
       "      <td>-8437.673028</td>\n",
       "      <td>42</td>\n",
       "      <td>высшее</td>\n",
       "      <td>0</td>\n",
       "      <td>женат / замужем</td>\n",
       "      <td>0</td>\n",
       "      <td>F</td>\n",
       "      <td>сотрудник</td>\n",
       "      <td>0</td>\n",
       "      <td>253875.639453</td>\n",
       "      <td>покупка жилья</td>\n",
       "    </tr>\n",
       "    <tr>\n",
       "      <td>1</td>\n",
       "      <td>1</td>\n",
       "      <td>-4024.803754</td>\n",
       "      <td>36</td>\n",
       "      <td>среднее</td>\n",
       "      <td>1</td>\n",
       "      <td>женат / замужем</td>\n",
       "      <td>0</td>\n",
       "      <td>F</td>\n",
       "      <td>сотрудник</td>\n",
       "      <td>0</td>\n",
       "      <td>112080.014102</td>\n",
       "      <td>приобретение автомобиля</td>\n",
       "    </tr>\n",
       "    <tr>\n",
       "      <td>2</td>\n",
       "      <td>0</td>\n",
       "      <td>-5623.422610</td>\n",
       "      <td>33</td>\n",
       "      <td>Среднее</td>\n",
       "      <td>1</td>\n",
       "      <td>женат / замужем</td>\n",
       "      <td>0</td>\n",
       "      <td>M</td>\n",
       "      <td>сотрудник</td>\n",
       "      <td>0</td>\n",
       "      <td>145885.952297</td>\n",
       "      <td>покупка жилья</td>\n",
       "    </tr>\n",
       "    <tr>\n",
       "      <td>3</td>\n",
       "      <td>3</td>\n",
       "      <td>-4124.747207</td>\n",
       "      <td>32</td>\n",
       "      <td>среднее</td>\n",
       "      <td>1</td>\n",
       "      <td>женат / замужем</td>\n",
       "      <td>0</td>\n",
       "      <td>M</td>\n",
       "      <td>сотрудник</td>\n",
       "      <td>0</td>\n",
       "      <td>267628.550329</td>\n",
       "      <td>дополнительное образование</td>\n",
       "    </tr>\n",
       "    <tr>\n",
       "      <td>4</td>\n",
       "      <td>0</td>\n",
       "      <td>340266.072047</td>\n",
       "      <td>53</td>\n",
       "      <td>среднее</td>\n",
       "      <td>1</td>\n",
       "      <td>гражданский брак</td>\n",
       "      <td>1</td>\n",
       "      <td>F</td>\n",
       "      <td>пенсионер</td>\n",
       "      <td>0</td>\n",
       "      <td>158616.077870</td>\n",
       "      <td>сыграть свадьбу</td>\n",
       "    </tr>\n",
       "  </tbody>\n",
       "</table>\n",
       "</div>"
      ],
      "text/plain": [
       "   children  days_employed  dob_years education  education_id  \\\n",
       "0         1   -8437.673028         42    высшее             0   \n",
       "1         1   -4024.803754         36   среднее             1   \n",
       "2         0   -5623.422610         33   Среднее             1   \n",
       "3         3   -4124.747207         32   среднее             1   \n",
       "4         0  340266.072047         53   среднее             1   \n",
       "\n",
       "      family_status  family_status_id gender income_type  debt   total_income  \\\n",
       "0   женат / замужем                 0      F   сотрудник     0  253875.639453   \n",
       "1   женат / замужем                 0      F   сотрудник     0  112080.014102   \n",
       "2   женат / замужем                 0      M   сотрудник     0  145885.952297   \n",
       "3   женат / замужем                 0      M   сотрудник     0  267628.550329   \n",
       "4  гражданский брак                 1      F   пенсионер     0  158616.077870   \n",
       "\n",
       "                      purpose  \n",
       "0               покупка жилья  \n",
       "1     приобретение автомобиля  \n",
       "2               покупка жилья  \n",
       "3  дополнительное образование  \n",
       "4             сыграть свадьбу  "
      ]
     },
     "metadata": {},
     "output_type": "display_data"
    },
    {
     "name": "stdout",
     "output_type": "stream",
     "text": [
      "<class 'pandas.core.frame.DataFrame'>\n",
      "RangeIndex: 21525 entries, 0 to 21524\n",
      "Data columns (total 12 columns):\n",
      "children            21525 non-null int64\n",
      "days_employed       19351 non-null float64\n",
      "dob_years           21525 non-null int64\n",
      "education           21525 non-null object\n",
      "education_id        21525 non-null int64\n",
      "family_status       21525 non-null object\n",
      "family_status_id    21525 non-null int64\n",
      "gender              21525 non-null object\n",
      "income_type         21525 non-null object\n",
      "debt                21525 non-null int64\n",
      "total_income        19351 non-null float64\n",
      "purpose             21525 non-null object\n",
      "dtypes: float64(2), int64(5), object(5)\n",
      "memory usage: 2.0+ MB\n"
     ]
    }
   ],
   "source": [
    "import pandas as pd\n",
    "bank_data = pd.read_csv('data.csv')\n",
    "display(bank_data.head(5))\n",
    "bank_data.info()"
   ]
  },
  {
   "cell_type": "markdown",
   "metadata": {},
   "source": [
    "**Вывод**"
   ]
  },
  {
   "cell_type": "markdown",
   "metadata": {},
   "source": [
    "В таблице 12 колонок, типы данных - float64, int64, object\n",
    "\n",
    "В названиях столбцов нарушений нет.\n",
    "\n",
    "Количество значений в столбцах различается. Значит, в данных есть пропущенные значения.\n",
    "\n",
    "В колонке days_employed есть отрицательные значения.\n",
    "\n",
    "Согласно документации к данным:\n",
    "\n",
    "* `children` — количество детей в семье\n",
    "* `days_employed` — общий трудовой стаж в днях\n",
    "* `dob_years` — возраст клиента в годах\n",
    "* `education` — уровень образования клиента\n",
    "* `education_id` — идентификатор уровня образования\n",
    "* `family_status` — семейное положение\n",
    "* `family_status_id` — идентификатор семейного положения\n",
    "* `gender` — пол клиента\n",
    "* `income_type` — тип занятости\n",
    "* `debt` — имел ли задолженность по возврату кредитов\n",
    "* `total_income` — ежемесячный доход\n",
    "* `purpose` — цель получения кредита"
   ]
  },
  {
   "cell_type": "markdown",
   "metadata": {},
   "source": [
    "## 2. Предобработка данных"
   ]
  },
  {
   "cell_type": "markdown",
   "metadata": {},
   "source": [
    "### Обработка пропусков"
   ]
  },
  {
   "cell_type": "code",
   "execution_count": 2,
   "metadata": {},
   "outputs": [
    {
     "name": "stdout",
     "output_type": "stream",
     "text": [
      "Пропуски до (в столбце Days employed): 2174\n",
      "Пропуски после (в столбце Days employed): 0\n"
     ]
    }
   ],
   "source": [
    "# Заменяю пропуски в столбце на медианное значение\n",
    "print('Пропуски до (в столбце Days employed):', bank_data['days_employed'].isna().sum())\n",
    "bank_data.loc[bank_data['days_employed'].isna(), 'days_employed'] = bank_data['days_employed'].median()\n",
    "print('Пропуски после (в столбце Days employed):', bank_data['days_employed'].isna().sum())"
   ]
  },
  {
   "cell_type": "code",
   "execution_count": 3,
   "metadata": {},
   "outputs": [
    {
     "name": "stdout",
     "output_type": "stream",
     "text": [
      "Пропуски до (в столбце Total income): 2174\n",
      "Пропуски после (в столбце Total income): 0\n"
     ]
    }
   ],
   "source": [
    "# Заменяю пропуски в столбце на медианное значение\n",
    "print('Пропуски до (в столбце Total income):', bank_data['total_income'].isna().sum())\n",
    "bank_data.loc[bank_data['total_income'].isna(), 'total_income'] = bank_data['total_income'].median()\n",
    "print('Пропуски после (в столбце Total income):', bank_data['days_employed'].isna().sum())"
   ]
  },
  {
   "cell_type": "code",
   "execution_count": 4,
   "metadata": {},
   "outputs": [
    {
     "name": "stdout",
     "output_type": "stream",
     "text": [
      "[ 1  0  3  2 -1  4 20  5]\n",
      "['F' 'M' 'XNA']\n",
      "F      14236\n",
      "M       7288\n",
      "XNA        1\n",
      "Name: gender, dtype: int64\n",
      "[1 0 3 2 4 5]\n",
      "['F' 'M']\n"
     ]
    }
   ],
   "source": [
    "# Показывает значение -1 и 20\n",
    "print(bank_data['children'].unique())  \n",
    "# Показывает значение XNA\n",
    "print(bank_data['gender'].unique()) \n",
    "# Нахожу самый рапространенный пол в таблице\n",
    "print(bank_data['gender'].value_counts()) \n",
    "# Заменяю значение\n",
    "bank_data['children'] = bank_data['children'].replace(-1, 0) \n",
    "# Заменяю значение\n",
    "bank_data['children'] = bank_data['children'].replace(20, 2) \n",
    "# Заменяю значение\n",
    "bank_data['gender'] = bank_data['gender'].replace('XNA', 'F') \n",
    "print(bank_data['children'].unique())\n",
    "print(bank_data['gender'].unique())"
   ]
  },
  {
   "cell_type": "code",
   "execution_count": 5,
   "metadata": {},
   "outputs": [
    {
     "name": "stdout",
     "output_type": "stream",
     "text": [
      "101\n",
      "0\n"
     ]
    }
   ],
   "source": [
    "# Количество несовершеннолетних\n",
    "print(bank_data[bank_data['dob_years'] < 18]['dob_years'].count()) \n",
    "# Замена несовершеннолетних\n",
    "bank_data.loc[bank_data['dob_years'] < 18, 'dob_years'] = int(bank_data['dob_years'].median()) \n",
    "# Количество несовершеннолетних после замены\n",
    "print(bank_data[bank_data['dob_years'] < 18]['dob_years'].count()) "
   ]
  },
  {
   "cell_type": "markdown",
   "metadata": {},
   "source": [
    "**Вывод**"
   ]
  },
  {
   "cell_type": "markdown",
   "metadata": {},
   "source": [
    "1) Нашел пропущенные значения в столбце days_employed и в столбце total_income. Также в толбце children были странные значения\n",
    "-1 и 20, заменил их на 0 и 2. В столбце gender, было значение XNA, его заменил на самый распространенный пол в таблице. Также обнаружил несовершеннолетних (возраст меньше 18 в колонке dob_years), заменил на медиану. \n",
    "\n",
    "2) Количество пропусков 2174, если пропуск в days_employed, то он есть и в total_income, возможно это связано с неофициальным трудоустройством или чем-то подобным. По типу пропуска, думаю это тип MAR (Missing At Random).\n",
    "\n",
    "3) Пропуски заполнял медианной. "
   ]
  },
  {
   "cell_type": "markdown",
   "metadata": {},
   "source": [
    "### Замена типа данных"
   ]
  },
  {
   "cell_type": "code",
   "execution_count": 6,
   "metadata": {},
   "outputs": [
    {
     "data": {
      "text/html": [
       "<div>\n",
       "<style scoped>\n",
       "    .dataframe tbody tr th:only-of-type {\n",
       "        vertical-align: middle;\n",
       "    }\n",
       "\n",
       "    .dataframe tbody tr th {\n",
       "        vertical-align: top;\n",
       "    }\n",
       "\n",
       "    .dataframe thead th {\n",
       "        text-align: right;\n",
       "    }\n",
       "</style>\n",
       "<table border=\"1\" class=\"dataframe\">\n",
       "  <thead>\n",
       "    <tr style=\"text-align: right;\">\n",
       "      <th></th>\n",
       "      <th>children</th>\n",
       "      <th>days_employed</th>\n",
       "      <th>dob_years</th>\n",
       "      <th>education</th>\n",
       "      <th>education_id</th>\n",
       "      <th>family_status</th>\n",
       "      <th>family_status_id</th>\n",
       "      <th>gender</th>\n",
       "      <th>income_type</th>\n",
       "      <th>debt</th>\n",
       "      <th>total_income</th>\n",
       "      <th>purpose</th>\n",
       "    </tr>\n",
       "  </thead>\n",
       "  <tbody>\n",
       "    <tr>\n",
       "      <td>0</td>\n",
       "      <td>1</td>\n",
       "      <td>8437</td>\n",
       "      <td>42</td>\n",
       "      <td>высшее</td>\n",
       "      <td>0</td>\n",
       "      <td>женат / замужем</td>\n",
       "      <td>0</td>\n",
       "      <td>F</td>\n",
       "      <td>сотрудник</td>\n",
       "      <td>0</td>\n",
       "      <td>253875</td>\n",
       "      <td>покупка жилья</td>\n",
       "    </tr>\n",
       "    <tr>\n",
       "      <td>1</td>\n",
       "      <td>1</td>\n",
       "      <td>4024</td>\n",
       "      <td>36</td>\n",
       "      <td>среднее</td>\n",
       "      <td>1</td>\n",
       "      <td>женат / замужем</td>\n",
       "      <td>0</td>\n",
       "      <td>F</td>\n",
       "      <td>сотрудник</td>\n",
       "      <td>0</td>\n",
       "      <td>112080</td>\n",
       "      <td>приобретение автомобиля</td>\n",
       "    </tr>\n",
       "    <tr>\n",
       "      <td>2</td>\n",
       "      <td>0</td>\n",
       "      <td>5623</td>\n",
       "      <td>33</td>\n",
       "      <td>среднее</td>\n",
       "      <td>1</td>\n",
       "      <td>женат / замужем</td>\n",
       "      <td>0</td>\n",
       "      <td>M</td>\n",
       "      <td>сотрудник</td>\n",
       "      <td>0</td>\n",
       "      <td>145885</td>\n",
       "      <td>покупка жилья</td>\n",
       "    </tr>\n",
       "    <tr>\n",
       "      <td>3</td>\n",
       "      <td>3</td>\n",
       "      <td>4124</td>\n",
       "      <td>32</td>\n",
       "      <td>среднее</td>\n",
       "      <td>1</td>\n",
       "      <td>женат / замужем</td>\n",
       "      <td>0</td>\n",
       "      <td>M</td>\n",
       "      <td>сотрудник</td>\n",
       "      <td>0</td>\n",
       "      <td>267628</td>\n",
       "      <td>дополнительное образование</td>\n",
       "    </tr>\n",
       "    <tr>\n",
       "      <td>4</td>\n",
       "      <td>0</td>\n",
       "      <td>14177</td>\n",
       "      <td>53</td>\n",
       "      <td>среднее</td>\n",
       "      <td>1</td>\n",
       "      <td>гражданский брак</td>\n",
       "      <td>1</td>\n",
       "      <td>F</td>\n",
       "      <td>пенсионер</td>\n",
       "      <td>0</td>\n",
       "      <td>158616</td>\n",
       "      <td>сыграть свадьбу</td>\n",
       "    </tr>\n",
       "  </tbody>\n",
       "</table>\n",
       "</div>"
      ],
      "text/plain": [
       "   children  days_employed  dob_years education  education_id  \\\n",
       "0         1           8437         42    высшее             0   \n",
       "1         1           4024         36   среднее             1   \n",
       "2         0           5623         33   среднее             1   \n",
       "3         3           4124         32   среднее             1   \n",
       "4         0          14177         53   среднее             1   \n",
       "\n",
       "      family_status  family_status_id gender income_type  debt  total_income  \\\n",
       "0   женат / замужем                 0      F   сотрудник     0        253875   \n",
       "1   женат / замужем                 0      F   сотрудник     0        112080   \n",
       "2   женат / замужем                 0      M   сотрудник     0        145885   \n",
       "3   женат / замужем                 0      M   сотрудник     0        267628   \n",
       "4  гражданский брак                 1      F   пенсионер     0        158616   \n",
       "\n",
       "                      purpose  \n",
       "0               покупка жилья  \n",
       "1     приобретение автомобиля  \n",
       "2               покупка жилья  \n",
       "3  дополнительное образование  \n",
       "4             сыграть свадьбу  "
      ]
     },
     "metadata": {},
     "output_type": "display_data"
    }
   ],
   "source": [
    "# Перевожу столбец в целочисленный формат\n",
    "bank_data['total_income'] = bank_data['total_income'].astype('int') \n",
    "# Меняю отрицательные значения на положительные\n",
    "bank_data['days_employed'] = abs(bank_data['days_employed']) \n",
    "# Перевожу стаж из часов в дни\n",
    "bank_data.loc[bank_data['days_employed'] >30000, 'days_employed'] = bank_data.loc[bank_data['days_employed'] >30000, 'days_employed'] / 24\n",
    "# Перевожу столбец в целочисленный формат\n",
    "bank_data['days_employed'] = bank_data['days_employed'].astype('int')  \n",
    "# Приводим к нижнему регистру\n",
    "bank_data['education'] = bank_data['education'].str.lower() \n",
    "# Приводим к нижнему регистру\n",
    "bank_data['family_status'] = bank_data['family_status'].str.lower() \n",
    "display(bank_data.head(5))"
   ]
  },
  {
   "cell_type": "markdown",
   "metadata": {},
   "source": [
    "**Вывод**"
   ]
  },
  {
   "cell_type": "markdown",
   "metadata": {},
   "source": [
    "Для перевода из вещественного формата в целочисленный использовал метод astype(), потому что данный метод лучше подходит для решения этой задачи. Метод to_numeric() превращает значения столбца в числовой тип float64 (вещественное число).  "
   ]
  },
  {
   "cell_type": "markdown",
   "metadata": {},
   "source": [
    "### Обработка дубликатов"
   ]
  },
  {
   "cell_type": "code",
   "execution_count": 7,
   "metadata": {},
   "outputs": [
    {
     "name": "stdout",
     "output_type": "stream",
     "text": [
      "Количество дубликатов до: 72\n",
      "Количество дубликатов после: 0\n"
     ]
    }
   ],
   "source": [
    "print('Количество дубликатов до:', bank_data.duplicated().sum()) # Нахожу дубликаты\n",
    "bank_data = bank_data.drop_duplicates().reset_index(drop = True) # Удаляю дубликаты \n",
    "print('Количество дубликатов после:', bank_data.duplicated().sum()) # Проверяю дубликаты  "
   ]
  },
  {
   "cell_type": "markdown",
   "metadata": {},
   "source": [
    "**Вывод**"
   ]
  },
  {
   "cell_type": "markdown",
   "metadata": {},
   "source": [
    "1) Для данной таблицы выбрал метод duplicated(), потому что этот метод обрабатывает всю таблицу, а не столбец как метод value_counts(). В таблице много повторяющихся значений и нет id для каждого пользователя. Метод уникальных значений здесь не подойдет. \n",
    "\n",
    "2) Возможная причина пояления дубликатов - неправильное соединение баз. База была не одна, при соединении в общую таблицу продублировались некоторые клиенты.   "
   ]
  },
  {
   "cell_type": "markdown",
   "metadata": {},
   "source": [
    "### Лемматизация"
   ]
  },
  {
   "cell_type": "code",
   "execution_count": 8,
   "metadata": {},
   "outputs": [
    {
     "data": {
      "text/html": [
       "<div>\n",
       "<style scoped>\n",
       "    .dataframe tbody tr th:only-of-type {\n",
       "        vertical-align: middle;\n",
       "    }\n",
       "\n",
       "    .dataframe tbody tr th {\n",
       "        vertical-align: top;\n",
       "    }\n",
       "\n",
       "    .dataframe thead th {\n",
       "        text-align: right;\n",
       "    }\n",
       "</style>\n",
       "<table border=\"1\" class=\"dataframe\">\n",
       "  <thead>\n",
       "    <tr style=\"text-align: right;\">\n",
       "      <th></th>\n",
       "      <th>children</th>\n",
       "      <th>days_employed</th>\n",
       "      <th>dob_years</th>\n",
       "      <th>education</th>\n",
       "      <th>education_id</th>\n",
       "      <th>family_status</th>\n",
       "      <th>family_status_id</th>\n",
       "      <th>gender</th>\n",
       "      <th>income_type</th>\n",
       "      <th>debt</th>\n",
       "      <th>total_income</th>\n",
       "      <th>purpose</th>\n",
       "      <th>purpose_list</th>\n",
       "    </tr>\n",
       "  </thead>\n",
       "  <tbody>\n",
       "    <tr>\n",
       "      <td>0</td>\n",
       "      <td>1</td>\n",
       "      <td>8437</td>\n",
       "      <td>42</td>\n",
       "      <td>высшее</td>\n",
       "      <td>0</td>\n",
       "      <td>женат / замужем</td>\n",
       "      <td>0</td>\n",
       "      <td>F</td>\n",
       "      <td>сотрудник</td>\n",
       "      <td>0</td>\n",
       "      <td>253875</td>\n",
       "      <td>покупка жилья</td>\n",
       "      <td>недвижимость</td>\n",
       "    </tr>\n",
       "    <tr>\n",
       "      <td>1</td>\n",
       "      <td>1</td>\n",
       "      <td>4024</td>\n",
       "      <td>36</td>\n",
       "      <td>среднее</td>\n",
       "      <td>1</td>\n",
       "      <td>женат / замужем</td>\n",
       "      <td>0</td>\n",
       "      <td>F</td>\n",
       "      <td>сотрудник</td>\n",
       "      <td>0</td>\n",
       "      <td>112080</td>\n",
       "      <td>приобретение автомобиля</td>\n",
       "      <td>авто</td>\n",
       "    </tr>\n",
       "    <tr>\n",
       "      <td>2</td>\n",
       "      <td>0</td>\n",
       "      <td>5623</td>\n",
       "      <td>33</td>\n",
       "      <td>среднее</td>\n",
       "      <td>1</td>\n",
       "      <td>женат / замужем</td>\n",
       "      <td>0</td>\n",
       "      <td>M</td>\n",
       "      <td>сотрудник</td>\n",
       "      <td>0</td>\n",
       "      <td>145885</td>\n",
       "      <td>покупка жилья</td>\n",
       "      <td>недвижимость</td>\n",
       "    </tr>\n",
       "    <tr>\n",
       "      <td>3</td>\n",
       "      <td>3</td>\n",
       "      <td>4124</td>\n",
       "      <td>32</td>\n",
       "      <td>среднее</td>\n",
       "      <td>1</td>\n",
       "      <td>женат / замужем</td>\n",
       "      <td>0</td>\n",
       "      <td>M</td>\n",
       "      <td>сотрудник</td>\n",
       "      <td>0</td>\n",
       "      <td>267628</td>\n",
       "      <td>дополнительное образование</td>\n",
       "      <td>образование</td>\n",
       "    </tr>\n",
       "    <tr>\n",
       "      <td>4</td>\n",
       "      <td>0</td>\n",
       "      <td>14177</td>\n",
       "      <td>53</td>\n",
       "      <td>среднее</td>\n",
       "      <td>1</td>\n",
       "      <td>гражданский брак</td>\n",
       "      <td>1</td>\n",
       "      <td>F</td>\n",
       "      <td>пенсионер</td>\n",
       "      <td>0</td>\n",
       "      <td>158616</td>\n",
       "      <td>сыграть свадьбу</td>\n",
       "      <td>свадьба</td>\n",
       "    </tr>\n",
       "    <tr>\n",
       "      <td>5</td>\n",
       "      <td>0</td>\n",
       "      <td>926</td>\n",
       "      <td>27</td>\n",
       "      <td>высшее</td>\n",
       "      <td>0</td>\n",
       "      <td>гражданский брак</td>\n",
       "      <td>1</td>\n",
       "      <td>M</td>\n",
       "      <td>компаньон</td>\n",
       "      <td>0</td>\n",
       "      <td>255763</td>\n",
       "      <td>покупка жилья</td>\n",
       "      <td>недвижимость</td>\n",
       "    </tr>\n",
       "    <tr>\n",
       "      <td>6</td>\n",
       "      <td>0</td>\n",
       "      <td>2879</td>\n",
       "      <td>43</td>\n",
       "      <td>высшее</td>\n",
       "      <td>0</td>\n",
       "      <td>женат / замужем</td>\n",
       "      <td>0</td>\n",
       "      <td>F</td>\n",
       "      <td>компаньон</td>\n",
       "      <td>0</td>\n",
       "      <td>240525</td>\n",
       "      <td>операции с жильем</td>\n",
       "      <td>недвижимость</td>\n",
       "    </tr>\n",
       "    <tr>\n",
       "      <td>7</td>\n",
       "      <td>0</td>\n",
       "      <td>152</td>\n",
       "      <td>50</td>\n",
       "      <td>среднее</td>\n",
       "      <td>1</td>\n",
       "      <td>женат / замужем</td>\n",
       "      <td>0</td>\n",
       "      <td>M</td>\n",
       "      <td>сотрудник</td>\n",
       "      <td>0</td>\n",
       "      <td>135823</td>\n",
       "      <td>образование</td>\n",
       "      <td>образование</td>\n",
       "    </tr>\n",
       "    <tr>\n",
       "      <td>8</td>\n",
       "      <td>2</td>\n",
       "      <td>6929</td>\n",
       "      <td>35</td>\n",
       "      <td>высшее</td>\n",
       "      <td>0</td>\n",
       "      <td>гражданский брак</td>\n",
       "      <td>1</td>\n",
       "      <td>F</td>\n",
       "      <td>сотрудник</td>\n",
       "      <td>0</td>\n",
       "      <td>95856</td>\n",
       "      <td>на проведение свадьбы</td>\n",
       "      <td>свадьба</td>\n",
       "    </tr>\n",
       "    <tr>\n",
       "      <td>9</td>\n",
       "      <td>0</td>\n",
       "      <td>2188</td>\n",
       "      <td>41</td>\n",
       "      <td>среднее</td>\n",
       "      <td>1</td>\n",
       "      <td>женат / замужем</td>\n",
       "      <td>0</td>\n",
       "      <td>M</td>\n",
       "      <td>сотрудник</td>\n",
       "      <td>0</td>\n",
       "      <td>144425</td>\n",
       "      <td>покупка жилья для семьи</td>\n",
       "      <td>недвижимость</td>\n",
       "    </tr>\n",
       "  </tbody>\n",
       "</table>\n",
       "</div>"
      ],
      "text/plain": [
       "   children  days_employed  dob_years education  education_id  \\\n",
       "0         1           8437         42    высшее             0   \n",
       "1         1           4024         36   среднее             1   \n",
       "2         0           5623         33   среднее             1   \n",
       "3         3           4124         32   среднее             1   \n",
       "4         0          14177         53   среднее             1   \n",
       "5         0            926         27    высшее             0   \n",
       "6         0           2879         43    высшее             0   \n",
       "7         0            152         50   среднее             1   \n",
       "8         2           6929         35    высшее             0   \n",
       "9         0           2188         41   среднее             1   \n",
       "\n",
       "      family_status  family_status_id gender income_type  debt  total_income  \\\n",
       "0   женат / замужем                 0      F   сотрудник     0        253875   \n",
       "1   женат / замужем                 0      F   сотрудник     0        112080   \n",
       "2   женат / замужем                 0      M   сотрудник     0        145885   \n",
       "3   женат / замужем                 0      M   сотрудник     0        267628   \n",
       "4  гражданский брак                 1      F   пенсионер     0        158616   \n",
       "5  гражданский брак                 1      M   компаньон     0        255763   \n",
       "6   женат / замужем                 0      F   компаньон     0        240525   \n",
       "7   женат / замужем                 0      M   сотрудник     0        135823   \n",
       "8  гражданский брак                 1      F   сотрудник     0         95856   \n",
       "9   женат / замужем                 0      M   сотрудник     0        144425   \n",
       "\n",
       "                      purpose  purpose_list  \n",
       "0               покупка жилья  недвижимость  \n",
       "1     приобретение автомобиля          авто  \n",
       "2               покупка жилья  недвижимость  \n",
       "3  дополнительное образование   образование  \n",
       "4             сыграть свадьбу       свадьба  \n",
       "5               покупка жилья  недвижимость  \n",
       "6           операции с жильем  недвижимость  \n",
       "7                 образование   образование  \n",
       "8       на проведение свадьбы       свадьба  \n",
       "9     покупка жилья для семьи  недвижимость  "
      ]
     },
     "metadata": {},
     "output_type": "display_data"
    },
    {
     "name": "stdout",
     "output_type": "stream",
     "text": [
      "недвижимость    10811\n",
      "авто             4306\n",
      "образование      4013\n",
      "свадьба          2323\n",
      "Name: purpose_list, dtype: int64\n"
     ]
    }
   ],
   "source": [
    "from pymystem3 import Mystem\n",
    "from collections import Counter\n",
    "m = Mystem()\n",
    "# Получил уникальные значения purpose, склеил их в одну строку с помощью join и лемматизировал\n",
    "lemmas = m.lemmatize(' '.join(bank_data['purpose'].unique()))\n",
    "# Посчитал частоту появления слов.\n",
    "Counter(lemmas).most_common()\n",
    "\n",
    "# Основные категории: недвижимость, жилье, свадьба, автомобиль, образование    \n",
    "\n",
    "# Написал функцию для apply с лемматизацией\n",
    "def purpose_list_function(text): \n",
    "    lemmas = m.lemmatize(text) \n",
    "    if 'недвижимость' in lemmas:\n",
    "        return 'недвижимость'\n",
    "    elif 'жилье' in lemmas:\n",
    "        return 'недвижимость'\n",
    "    elif 'свадьба' in lemmas:\n",
    "        return 'свадьба'\n",
    "    elif 'автомобиль' in lemmas:\n",
    "        return 'авто'\n",
    "    elif 'образование' in lemmas:\n",
    "        return 'образование'\n",
    "    else:\n",
    "        return 'прочее'\n",
    "\n",
    "bank_data['purpose_list'] = bank_data['purpose'].apply(purpose_list_function)\n",
    "display(bank_data.head(10))\n",
    "print(bank_data['purpose_list'].value_counts())"
   ]
  },
  {
   "cell_type": "markdown",
   "metadata": {},
   "source": [
    "**Вывод**"
   ]
  },
  {
   "cell_type": "markdown",
   "metadata": {},
   "source": [
    "Импортировал необходимые библиотеки. Получил уникальные значения purpose, склеил их в одну строку с помощью join и лемматизировал. Посчитал частоту появления слов при помощи Counter. Также использовал метод value_counts, чтобы подробнее изучить цели кредита. Основными категориями оказались недвижимость или жилье, свадьбы, автомобили, образование. В функции указал раздел прочее, но он не понадобился. Все цели кредита попали под основные категории.    "
   ]
  },
  {
   "cell_type": "markdown",
   "metadata": {},
   "source": [
    "### Категоризация данных"
   ]
  },
  {
   "cell_type": "code",
   "execution_count": 9,
   "metadata": {},
   "outputs": [
    {
     "name": "stdout",
     "output_type": "stream",
     "text": [
      "                        education\n",
      "education_id                     \n",
      "0                          высшее\n",
      "1                         среднее\n",
      "2             неоконченное высшее\n",
      "3                       начальное\n",
      "4                  ученая степень\n",
      "                          family_status\n",
      "family_status_id                       \n",
      "0                       женат / замужем\n",
      "1                      гражданский брак\n",
      "2                        вдовец / вдова\n",
      "3                             в разводе\n",
      "4                 не женат / не замужем\n"
     ]
    }
   ],
   "source": [
    "# Классификация по типу\n",
    "education_dict = bank_data[['education','education_id']].drop_duplicates().set_index('education_id') \n",
    "family_dict = bank_data[['family_status','family_status_id']].drop_duplicates().set_index('family_status_id') \n",
    "print(education_dict)\n",
    "print(family_dict)\n"
   ]
  },
  {
   "cell_type": "code",
   "execution_count": 10,
   "metadata": {},
   "outputs": [
    {
     "name": "stdout",
     "output_type": "stream",
     "text": [
      "взрослые      20558\n",
      "пенсионеры      895\n",
      "Name: dob_years_group, dtype: int64\n"
     ]
    }
   ],
   "source": [
    "# Классификация по возрастным группам\n",
    "def dob_years_function(age):\n",
    "    if age < 18:\n",
    "        return 'дети'\n",
    "    if age <= 64:\n",
    "        return 'взрослые'\n",
    "    return 'пенсионеры' \n",
    "\n",
    "bank_data['dob_years_group'] = bank_data['dob_years'].apply(dob_years_function) \n",
    "print(bank_data['dob_years_group'].value_counts())"
   ]
  },
  {
   "cell_type": "code",
   "execution_count": 11,
   "metadata": {},
   "outputs": [
    {
     "name": "stdout",
     "output_type": "stream",
     "text": [
      "средний доход    15508\n",
      "низкий доход      4463\n",
      "высокий доход     1482\n",
      "Name: total_income_group, dtype: int64\n"
     ]
    }
   ],
   "source": [
    "# Классификация по доходам\n",
    "def total_income_function(money):\n",
    "    if money < 100000:\n",
    "        return 'низкий доход'\n",
    "    if 100000 <= money < 300000:\n",
    "        return 'средний доход'\n",
    "    return 'высокий доход'\n",
    "\n",
    "bank_data['total_income_group'] = bank_data['total_income'].apply(total_income_function) \n",
    "print(bank_data['total_income_group'].value_counts())"
   ]
  },
  {
   "cell_type": "code",
   "execution_count": 12,
   "metadata": {},
   "outputs": [],
   "source": [
    "# Классификация по наличию детей\n",
    "def children_function(child):\n",
    "    if child > 0:\n",
    "        return 'есть дети'\n",
    "    return 'нет детей'"
   ]
  },
  {
   "cell_type": "markdown",
   "metadata": {},
   "source": [
    "**Вывод**"
   ]
  },
  {
   "cell_type": "markdown",
   "metadata": {},
   "source": [
    "Применил классификацию по типу для колонок education и family_status для того, чтобы оптимально хранить информацию о категориях. Использовал классификацию по возрастным группам для колонки dob_years, для выполнения задач по этому кейсу - это было не нужно, но для проверки и удобства сделал и такую классификацию. Для колонки total_income сделал классификацию по доходам (низкий, средний, высокий), чтобы проще было анализировать базу и ответить на вопрос: 'Есть ли зависимость между уровнем дохода и возвратом кредита в срок?'. Также сделал классификацию по наличию детей для удобства.\n"
   ]
  },
  {
   "cell_type": "markdown",
   "metadata": {},
   "source": [
    "## 3. Исследовательский анализ данных"
   ]
  },
  {
   "cell_type": "markdown",
   "metadata": {},
   "source": [
    "- Есть ли зависимость между наличием детей и возвратом кредита в срок?"
   ]
  },
  {
   "cell_type": "code",
   "execution_count": 13,
   "metadata": {},
   "outputs": [
    {
     "data": {
      "text/html": [
       "<div>\n",
       "<style scoped>\n",
       "    .dataframe tbody tr th:only-of-type {\n",
       "        vertical-align: middle;\n",
       "    }\n",
       "\n",
       "    .dataframe tbody tr th {\n",
       "        vertical-align: top;\n",
       "    }\n",
       "\n",
       "    .dataframe thead th {\n",
       "        text-align: right;\n",
       "    }\n",
       "</style>\n",
       "<table border=\"1\" class=\"dataframe\">\n",
       "  <thead>\n",
       "    <tr style=\"text-align: right;\">\n",
       "      <th></th>\n",
       "      <th>no_debt</th>\n",
       "      <th>debt</th>\n",
       "      <th>%</th>\n",
       "    </tr>\n",
       "    <tr>\n",
       "      <th>children</th>\n",
       "      <th></th>\n",
       "      <th></th>\n",
       "      <th></th>\n",
       "    </tr>\n",
       "  </thead>\n",
       "  <tbody>\n",
       "    <tr>\n",
       "      <td>0</td>\n",
       "      <td>13073.0</td>\n",
       "      <td>1064.0</td>\n",
       "      <td>7.526349</td>\n",
       "    </tr>\n",
       "    <tr>\n",
       "      <td>1</td>\n",
       "      <td>4364.0</td>\n",
       "      <td>444.0</td>\n",
       "      <td>9.234609</td>\n",
       "    </tr>\n",
       "    <tr>\n",
       "      <td>2</td>\n",
       "      <td>1926.0</td>\n",
       "      <td>202.0</td>\n",
       "      <td>9.492481</td>\n",
       "    </tr>\n",
       "    <tr>\n",
       "      <td>3</td>\n",
       "      <td>303.0</td>\n",
       "      <td>27.0</td>\n",
       "      <td>8.181818</td>\n",
       "    </tr>\n",
       "    <tr>\n",
       "      <td>4</td>\n",
       "      <td>37.0</td>\n",
       "      <td>4.0</td>\n",
       "      <td>9.756098</td>\n",
       "    </tr>\n",
       "    <tr>\n",
       "      <td>5</td>\n",
       "      <td>9.0</td>\n",
       "      <td>0.0</td>\n",
       "      <td>0.000000</td>\n",
       "    </tr>\n",
       "  </tbody>\n",
       "</table>\n",
       "</div>"
      ],
      "text/plain": [
       "          no_debt    debt         %\n",
       "children                           \n",
       "0         13073.0  1064.0  7.526349\n",
       "1          4364.0   444.0  9.234609\n",
       "2          1926.0   202.0  9.492481\n",
       "3           303.0    27.0  8.181818\n",
       "4            37.0     4.0  9.756098\n",
       "5             9.0     0.0  0.000000"
      ]
     },
     "metadata": {},
     "output_type": "display_data"
    }
   ],
   "source": [
    "data_children_debt = bank_data.pivot_table(index=['children'], columns = 'debt', values = 'total_income', aggfunc = 'count')\n",
    "data_children_debt.columns = ['no_debt', 'debt']\n",
    "data_children_debt['%'] = (data_children_debt['debt'] / (data_children_debt['no_debt'] + data_children_debt['debt'])) * 100\n",
    "data_children_debt = data_children_debt.fillna(0)\n",
    "display(data_children_debt)"
   ]
  },
  {
   "cell_type": "markdown",
   "metadata": {},
   "source": [
    "**Вывод**"
   ]
  },
  {
   "cell_type": "markdown",
   "metadata": {},
   "source": [
    "В анализируемой таблице мы видим незначительное превышение процентных пунктов невозвратов у группы людей с детьми, чем в группе людей без детей. Отклонения несущественные, недостаточно факторов для более точного анализа, нужна большая выборка. "
   ]
  },
  {
   "cell_type": "markdown",
   "metadata": {},
   "source": [
    "- Есть ли зависимость между семейным положением и возвратом кредита в срок?"
   ]
  },
  {
   "cell_type": "code",
   "execution_count": 14,
   "metadata": {},
   "outputs": [
    {
     "data": {
      "text/html": [
       "<div>\n",
       "<style scoped>\n",
       "    .dataframe tbody tr th:only-of-type {\n",
       "        vertical-align: middle;\n",
       "    }\n",
       "\n",
       "    .dataframe tbody tr th {\n",
       "        vertical-align: top;\n",
       "    }\n",
       "\n",
       "    .dataframe thead th {\n",
       "        text-align: right;\n",
       "    }\n",
       "</style>\n",
       "<table border=\"1\" class=\"dataframe\">\n",
       "  <thead>\n",
       "    <tr style=\"text-align: right;\">\n",
       "      <th></th>\n",
       "      <th>no_debt</th>\n",
       "      <th>debt</th>\n",
       "      <th>%</th>\n",
       "    </tr>\n",
       "    <tr>\n",
       "      <th>family_status</th>\n",
       "      <th></th>\n",
       "      <th></th>\n",
       "      <th></th>\n",
       "    </tr>\n",
       "  </thead>\n",
       "  <tbody>\n",
       "    <tr>\n",
       "      <td>в разводе</td>\n",
       "      <td>1110</td>\n",
       "      <td>85</td>\n",
       "      <td>7.112971</td>\n",
       "    </tr>\n",
       "    <tr>\n",
       "      <td>вдовец / вдова</td>\n",
       "      <td>896</td>\n",
       "      <td>63</td>\n",
       "      <td>6.569343</td>\n",
       "    </tr>\n",
       "    <tr>\n",
       "      <td>гражданский брак</td>\n",
       "      <td>3762</td>\n",
       "      <td>388</td>\n",
       "      <td>9.349398</td>\n",
       "    </tr>\n",
       "    <tr>\n",
       "      <td>женат / замужем</td>\n",
       "      <td>11408</td>\n",
       "      <td>931</td>\n",
       "      <td>7.545182</td>\n",
       "    </tr>\n",
       "    <tr>\n",
       "      <td>не женат / не замужем</td>\n",
       "      <td>2536</td>\n",
       "      <td>274</td>\n",
       "      <td>9.750890</td>\n",
       "    </tr>\n",
       "  </tbody>\n",
       "</table>\n",
       "</div>"
      ],
      "text/plain": [
       "                       no_debt  debt         %\n",
       "family_status                                 \n",
       "в разводе                 1110    85  7.112971\n",
       "вдовец / вдова             896    63  6.569343\n",
       "гражданский брак          3762   388  9.349398\n",
       "женат / замужем          11408   931  7.545182\n",
       "не женат / не замужем     2536   274  9.750890"
      ]
     },
     "metadata": {},
     "output_type": "display_data"
    }
   ],
   "source": [
    "data_family_debt = bank_data.pivot_table(index=['family_status'], columns = 'debt', values = 'total_income', aggfunc = 'count')\n",
    "data_family_debt.columns = ['no_debt', 'debt']\n",
    "data_family_debt['%'] = (data_family_debt['debt'] / (data_family_debt['no_debt'] + data_family_debt['debt'])) * 100\n",
    "display(data_family_debt)"
   ]
  },
  {
   "cell_type": "markdown",
   "metadata": {},
   "source": [
    "**Вывод**"
   ]
  },
  {
   "cell_type": "markdown",
   "metadata": {},
   "source": [
    "Данные категории граждан можно объединить в три группы. Первая группа - гражданский брак и не женат / не замужем. Вторая группа - женат / замужем. Третья группа - вдовец / вдова и в разводе. По результатам анализа у первой группы процентных пунктов невозвратов больше всего, далее идет вторая группа, наименьший уровень процентных пунктов у третьей группы.    "
   ]
  },
  {
   "cell_type": "markdown",
   "metadata": {},
   "source": [
    "- Есть ли зависимость между уровнем дохода и возвратом кредита в срок?"
   ]
  },
  {
   "cell_type": "code",
   "execution_count": 15,
   "metadata": {},
   "outputs": [
    {
     "data": {
      "text/html": [
       "<div>\n",
       "<style scoped>\n",
       "    .dataframe tbody tr th:only-of-type {\n",
       "        vertical-align: middle;\n",
       "    }\n",
       "\n",
       "    .dataframe tbody tr th {\n",
       "        vertical-align: top;\n",
       "    }\n",
       "\n",
       "    .dataframe thead th {\n",
       "        text-align: right;\n",
       "    }\n",
       "</style>\n",
       "<table border=\"1\" class=\"dataframe\">\n",
       "  <thead>\n",
       "    <tr style=\"text-align: right;\">\n",
       "      <th></th>\n",
       "      <th>no_debt</th>\n",
       "      <th>debt</th>\n",
       "      <th>%</th>\n",
       "    </tr>\n",
       "    <tr>\n",
       "      <th>total_income_group</th>\n",
       "      <th></th>\n",
       "      <th></th>\n",
       "      <th></th>\n",
       "    </tr>\n",
       "  </thead>\n",
       "  <tbody>\n",
       "    <tr>\n",
       "      <td>высокий доход</td>\n",
       "      <td>1376</td>\n",
       "      <td>106</td>\n",
       "      <td>7.152497</td>\n",
       "    </tr>\n",
       "    <tr>\n",
       "      <td>низкий доход</td>\n",
       "      <td>4109</td>\n",
       "      <td>354</td>\n",
       "      <td>7.931884</td>\n",
       "    </tr>\n",
       "    <tr>\n",
       "      <td>средний доход</td>\n",
       "      <td>14227</td>\n",
       "      <td>1281</td>\n",
       "      <td>8.260253</td>\n",
       "    </tr>\n",
       "  </tbody>\n",
       "</table>\n",
       "</div>"
      ],
      "text/plain": [
       "                    no_debt  debt         %\n",
       "total_income_group                         \n",
       "высокий доход          1376   106  7.152497\n",
       "низкий доход           4109   354  7.931884\n",
       "средний доход         14227  1281  8.260253"
      ]
     },
     "metadata": {},
     "output_type": "display_data"
    }
   ],
   "source": [
    "data_income_debt = bank_data.pivot_table(index=['total_income_group'], columns = 'debt', values = 'total_income', aggfunc = 'count')\n",
    "data_income_debt.columns = ['no_debt', 'debt']\n",
    "data_income_debt['%'] = (data_income_debt['debt'] / (data_income_debt['no_debt'] + data_income_debt['debt'])) * 100\n",
    "display(data_income_debt)"
   ]
  },
  {
   "cell_type": "markdown",
   "metadata": {},
   "source": [
    "**Вывод**"
   ]
  },
  {
   "cell_type": "markdown",
   "metadata": {},
   "source": [
    "В данной таблице мы видим, что наибольший уровень процентных пунктов у людей со средним доходом, однако у людей с низким доходом уровень процентных пунктов невозвратов тоже высок. Это может быть связано с тем, что обладатели среднего дохода чаще берут кредит, чем люди с низким или высоким доходами. Люди с высокими доходами показали лучший результат.   "
   ]
  },
  {
   "cell_type": "markdown",
   "metadata": {},
   "source": [
    "- Как разные цели кредита влияют на его возврат в срок?"
   ]
  },
  {
   "cell_type": "code",
   "execution_count": 16,
   "metadata": {},
   "outputs": [
    {
     "data": {
      "text/html": [
       "<div>\n",
       "<style scoped>\n",
       "    .dataframe tbody tr th:only-of-type {\n",
       "        vertical-align: middle;\n",
       "    }\n",
       "\n",
       "    .dataframe tbody tr th {\n",
       "        vertical-align: top;\n",
       "    }\n",
       "\n",
       "    .dataframe thead th {\n",
       "        text-align: right;\n",
       "    }\n",
       "</style>\n",
       "<table border=\"1\" class=\"dataframe\">\n",
       "  <thead>\n",
       "    <tr style=\"text-align: right;\">\n",
       "      <th></th>\n",
       "      <th>no_debt</th>\n",
       "      <th>debt</th>\n",
       "      <th>%</th>\n",
       "    </tr>\n",
       "    <tr>\n",
       "      <th>purpose_list</th>\n",
       "      <th></th>\n",
       "      <th></th>\n",
       "      <th></th>\n",
       "    </tr>\n",
       "  </thead>\n",
       "  <tbody>\n",
       "    <tr>\n",
       "      <td>авто</td>\n",
       "      <td>3903</td>\n",
       "      <td>403</td>\n",
       "      <td>9.359034</td>\n",
       "    </tr>\n",
       "    <tr>\n",
       "      <td>недвижимость</td>\n",
       "      <td>10029</td>\n",
       "      <td>782</td>\n",
       "      <td>7.233373</td>\n",
       "    </tr>\n",
       "    <tr>\n",
       "      <td>образование</td>\n",
       "      <td>3643</td>\n",
       "      <td>370</td>\n",
       "      <td>9.220035</td>\n",
       "    </tr>\n",
       "    <tr>\n",
       "      <td>свадьба</td>\n",
       "      <td>2137</td>\n",
       "      <td>186</td>\n",
       "      <td>8.006888</td>\n",
       "    </tr>\n",
       "  </tbody>\n",
       "</table>\n",
       "</div>"
      ],
      "text/plain": [
       "              no_debt  debt         %\n",
       "purpose_list                         \n",
       "авто             3903   403  9.359034\n",
       "недвижимость    10029   782  7.233373\n",
       "образование      3643   370  9.220035\n",
       "свадьба          2137   186  8.006888"
      ]
     },
     "metadata": {},
     "output_type": "display_data"
    }
   ],
   "source": [
    "data_purpose_debt = bank_data.pivot_table(index=['purpose_list'], columns = 'debt', values = 'total_income', aggfunc = 'count')\n",
    "data_purpose_debt.columns = ['no_debt', 'debt']\n",
    "data_purpose_debt['%'] = (data_purpose_debt['debt'] / (data_purpose_debt['no_debt'] + data_purpose_debt['debt'])) * 100\n",
    "display(data_purpose_debt)"
   ]
  },
  {
   "cell_type": "markdown",
   "metadata": {},
   "source": [
    "**Вывод**"
   ]
  },
  {
   "cell_type": "markdown",
   "metadata": {},
   "source": [
    "Из данных в приведённой таблице мы видим, что по кредитам на недвижимость самый маленький процент просрочки кредитов. Это может быть объяснено большей суммой, сроком кредита и большей ответственности к этому. Процент по возвратам кредитов на свадьбу не существенно выше, поэтому можно предположить, что сумма кредита не так велика и оплачивается совместно. Следующая категория по возрастанию - кредиты на образование. Самый большой процент просрочки кредита на авто. Чтобы точно ответить, почему по определенным категориям различается процент невозвратов, необходимо больше данных.  "
   ]
  },
  {
   "cell_type": "markdown",
   "metadata": {},
   "source": [
    "## 4. Общий вывод"
   ]
  },
  {
   "cell_type": "markdown",
   "metadata": {},
   "source": [
    "Проверялось четыре гипотезы для кредитного отдела банка:\n",
    "\n",
    "1. Есть ли зависимость между наличием детей и возвратом кредита в срок? \n",
    "Наблюдалось незначительное превышение процентных пунктов невозвратов у группы людей с детьми, чем в группе людей без детей, однако у людей с пятью детьми задолжностей нет. Гипотеза подтвердилась лишь отчасти. \n",
    "\n",
    "2. Есть ли зависимость между семейным положением и возвратом кредита в срок?\n",
    "Уровень процентных пунктов невозвратов у людей состоящих в гражданском браке или не женатых самый большой. Овдовевшие или разведенные платят в срок чаще всего. Гипотеза подтвердилась, хотя разница в процентах и небольшая.  \n",
    "\n",
    "3. Есть ли зависимость между уровнем дохода и возвратом кредита в срок?\n",
    "У людей со средним доходом уровень процентных пунктов невозвратов самый большой, затем идут люди с низкими доходами, наилучший результат у тех у кого высокий доход. Гипотеза подтвердилась, зависимость есть. \n",
    "\n",
    "4. Как разные цели кредита влияют на его возврат в срок?\n",
    "Кредит на недвижимость имеет самый маленький уровень процентных пунктов невозвратов, самый большой уровень п.п. у кредита на автомобиль. Разница в  процентных пунктах несущественная, данные не показательны. Гипотеза подтвердилась лишь отчасти, отклонения несущественные.\n",
    "\n",
    "Из данных в анализируемых таблицах нельзя сделать однозначных выводов, разница в п.п. небольшая, результаты не показательны.    "
   ]
  }
 ],
 "metadata": {
  "ExecuteTimeLog": [
   {
    "duration": 937,
    "start_time": "2021-11-23T15:36:17.798Z"
   },
   {
    "duration": 58,
    "start_time": "2021-11-23T15:38:15.097Z"
   },
   {
    "duration": 66,
    "start_time": "2021-11-23T15:38:39.665Z"
   },
   {
    "duration": 63,
    "start_time": "2021-11-23T15:39:50.136Z"
   },
   {
    "duration": 55,
    "start_time": "2021-11-23T15:48:05.593Z"
   },
   {
    "duration": 72,
    "start_time": "2021-11-23T15:48:47.630Z"
   },
   {
    "duration": 73,
    "start_time": "2021-11-23T16:06:14.450Z"
   },
   {
    "duration": 10,
    "start_time": "2021-11-23T16:14:04.552Z"
   },
   {
    "duration": 13,
    "start_time": "2021-11-23T16:16:31.810Z"
   },
   {
    "duration": 343,
    "start_time": "2021-11-23T16:20:44.586Z"
   },
   {
    "duration": 250,
    "start_time": "2021-11-23T16:22:57.589Z"
   },
   {
    "duration": 266,
    "start_time": "2021-11-23T16:24:28.812Z"
   },
   {
    "duration": 7,
    "start_time": "2021-11-23T16:24:57.899Z"
   },
   {
    "duration": 11,
    "start_time": "2021-11-23T16:26:08.800Z"
   },
   {
    "duration": 143,
    "start_time": "2021-11-23T16:26:50.928Z"
   },
   {
    "duration": 15,
    "start_time": "2021-11-23T16:26:54.944Z"
   },
   {
    "duration": 17,
    "start_time": "2021-11-23T16:28:33.812Z"
   },
   {
    "duration": -1231,
    "start_time": "2021-11-23T17:11:05.546Z"
   },
   {
    "duration": 7063,
    "start_time": "2021-11-23T17:11:13.707Z"
   },
   {
    "duration": 7,
    "start_time": "2021-11-23T17:13:09.960Z"
   },
   {
    "duration": 7,
    "start_time": "2021-11-23T17:13:24.240Z"
   },
   {
    "duration": 8,
    "start_time": "2021-11-23T17:16:00.780Z"
   },
   {
    "duration": 9,
    "start_time": "2021-11-23T17:16:14.778Z"
   },
   {
    "duration": 7,
    "start_time": "2021-11-23T17:16:20.346Z"
   },
   {
    "duration": 89,
    "start_time": "2021-11-23T17:28:16.445Z"
   },
   {
    "duration": 5,
    "start_time": "2021-11-23T17:28:30.758Z"
   },
   {
    "duration": 8,
    "start_time": "2021-11-23T17:33:29.030Z"
   },
   {
    "duration": 8,
    "start_time": "2021-11-23T17:34:39.404Z"
   },
   {
    "duration": 67,
    "start_time": "2021-11-23T17:36:35.487Z"
   },
   {
    "duration": 9,
    "start_time": "2021-11-23T17:37:52.919Z"
   },
   {
    "duration": 12,
    "start_time": "2021-11-23T17:38:03.822Z"
   },
   {
    "duration": 4,
    "start_time": "2021-11-23T17:45:14.514Z"
   },
   {
    "duration": 4,
    "start_time": "2021-11-23T17:47:09.766Z"
   },
   {
    "duration": 5,
    "start_time": "2021-11-23T17:48:14.902Z"
   },
   {
    "duration": 15,
    "start_time": "2021-11-23T17:54:14.507Z"
   },
   {
    "duration": 16,
    "start_time": "2021-11-23T17:54:31.994Z"
   },
   {
    "duration": 656,
    "start_time": "2021-11-23T17:54:45.160Z"
   },
   {
    "duration": 15,
    "start_time": "2021-11-23T17:54:45.817Z"
   },
   {
    "duration": 15,
    "start_time": "2021-11-23T18:02:06.736Z"
   },
   {
    "duration": 14,
    "start_time": "2021-11-23T18:03:31.934Z"
   },
   {
    "duration": 89,
    "start_time": "2021-11-23T18:47:44.595Z"
   },
   {
    "duration": 14,
    "start_time": "2021-11-23T18:48:14.272Z"
   },
   {
    "duration": 12,
    "start_time": "2021-11-23T18:52:03.331Z"
   },
   {
    "duration": 12,
    "start_time": "2021-11-23T18:52:18.218Z"
   },
   {
    "duration": 12,
    "start_time": "2021-11-23T18:52:23.034Z"
   },
   {
    "duration": 12,
    "start_time": "2021-11-23T18:52:25.105Z"
   },
   {
    "duration": 649,
    "start_time": "2021-11-23T18:52:35.353Z"
   },
   {
    "duration": 11,
    "start_time": "2021-11-23T18:52:36.004Z"
   },
   {
    "duration": 332,
    "start_time": "2021-11-23T22:48:56.035Z"
   },
   {
    "duration": 644,
    "start_time": "2021-11-23T22:49:26.356Z"
   },
   {
    "duration": 10,
    "start_time": "2021-11-23T22:49:27.002Z"
   },
   {
    "duration": 11,
    "start_time": "2021-11-23T22:49:59.895Z"
   },
   {
    "duration": 73,
    "start_time": "2021-11-23T22:50:20.183Z"
   },
   {
    "duration": 10,
    "start_time": "2021-11-23T22:50:41.557Z"
   },
   {
    "duration": 11,
    "start_time": "2021-11-23T22:51:56.483Z"
   },
   {
    "duration": 9,
    "start_time": "2021-11-23T22:52:59.929Z"
   },
   {
    "duration": 8,
    "start_time": "2021-11-23T22:54:18.289Z"
   },
   {
    "duration": 7,
    "start_time": "2021-11-23T22:55:03.590Z"
   },
   {
    "duration": 88,
    "start_time": "2021-11-23T22:55:59.132Z"
   },
   {
    "duration": 9,
    "start_time": "2021-11-23T22:56:03.460Z"
   },
   {
    "duration": 10,
    "start_time": "2021-11-23T22:57:18.170Z"
   },
   {
    "duration": 11,
    "start_time": "2021-11-23T22:58:03.384Z"
   },
   {
    "duration": 13,
    "start_time": "2021-11-23T22:58:16.452Z"
   },
   {
    "duration": 23,
    "start_time": "2021-11-23T22:59:36.582Z"
   },
   {
    "duration": 24,
    "start_time": "2021-11-23T23:01:07.939Z"
   },
   {
    "duration": 25,
    "start_time": "2021-11-23T23:06:05.602Z"
   },
   {
    "duration": 7,
    "start_time": "2021-11-23T23:06:36.850Z"
   },
   {
    "duration": 5,
    "start_time": "2021-11-23T23:07:07.705Z"
   },
   {
    "duration": 317,
    "start_time": "2021-11-23T23:08:36.575Z"
   },
   {
    "duration": 6,
    "start_time": "2021-11-23T23:08:52.607Z"
   },
   {
    "duration": 6,
    "start_time": "2021-11-23T23:11:20.802Z"
   },
   {
    "duration": 400,
    "start_time": "2021-11-23T23:18:46.693Z"
   },
   {
    "duration": 426,
    "start_time": "2021-11-23T23:18:55.790Z"
   },
   {
    "duration": 31,
    "start_time": "2021-11-23T23:19:01.614Z"
   },
   {
    "duration": 30,
    "start_time": "2021-11-23T23:20:32.308Z"
   },
   {
    "duration": 15,
    "start_time": "2021-11-23T23:22:46.758Z"
   },
   {
    "duration": 91,
    "start_time": "2021-11-23T23:24:19.788Z"
   },
   {
    "duration": 86,
    "start_time": "2021-11-23T23:24:24.684Z"
   },
   {
    "duration": 95,
    "start_time": "2021-11-23T23:24:38.915Z"
   },
   {
    "duration": 642,
    "start_time": "2021-11-23T23:24:52.908Z"
   },
   {
    "duration": 83,
    "start_time": "2021-11-23T23:24:53.552Z"
   },
   {
    "duration": 106,
    "start_time": "2021-11-23T23:25:07.964Z"
   },
   {
    "duration": 7,
    "start_time": "2021-11-23T23:25:12.651Z"
   },
   {
    "duration": 68,
    "start_time": "2021-11-23T23:26:20.619Z"
   },
   {
    "duration": 21,
    "start_time": "2021-11-23T23:27:01.345Z"
   },
   {
    "duration": 68,
    "start_time": "2021-11-23T23:29:37.469Z"
   },
   {
    "duration": 1389,
    "start_time": "2021-11-24T15:33:06.752Z"
   },
   {
    "duration": 917,
    "start_time": "2021-11-24T15:33:18.205Z"
   },
   {
    "duration": 55,
    "start_time": "2021-11-24T15:33:19.125Z"
   },
   {
    "duration": 23,
    "start_time": "2021-11-24T15:33:19.183Z"
   },
   {
    "duration": 31,
    "start_time": "2021-11-24T16:28:08.227Z"
   },
   {
    "duration": 35,
    "start_time": "2021-11-24T16:33:41.209Z"
   },
   {
    "duration": 533,
    "start_time": "2021-11-24T16:41:03.778Z"
   },
   {
    "duration": 40,
    "start_time": "2021-11-24T16:41:18.292Z"
   },
   {
    "duration": 62,
    "start_time": "2021-11-24T16:42:04.766Z"
   },
   {
    "duration": 71,
    "start_time": "2021-11-24T16:42:16.116Z"
   },
   {
    "duration": 71,
    "start_time": "2021-11-24T16:53:07.442Z"
   },
   {
    "duration": 70,
    "start_time": "2021-11-24T16:53:20.869Z"
   },
   {
    "duration": 66,
    "start_time": "2021-11-24T16:53:27.876Z"
   },
   {
    "duration": 977,
    "start_time": "2021-11-24T16:54:31.524Z"
   },
   {
    "duration": 32,
    "start_time": "2021-11-24T16:54:32.504Z"
   },
   {
    "duration": 86,
    "start_time": "2021-11-24T16:54:32.539Z"
   },
   {
    "duration": 531,
    "start_time": "2021-11-24T16:55:02.774Z"
   },
   {
    "duration": 63,
    "start_time": "2021-11-24T16:55:15.183Z"
   },
   {
    "duration": 393,
    "start_time": "2021-11-24T16:55:38.295Z"
   },
   {
    "duration": 75,
    "start_time": "2021-11-24T16:56:14.821Z"
   },
   {
    "duration": 53,
    "start_time": "2021-11-24T16:57:09.006Z"
   },
   {
    "duration": 888,
    "start_time": "2021-11-24T16:57:15.512Z"
   },
   {
    "duration": 35,
    "start_time": "2021-11-24T16:57:16.403Z"
   },
   {
    "duration": 62,
    "start_time": "2021-11-24T16:57:16.460Z"
   },
   {
    "duration": 64,
    "start_time": "2021-11-24T16:57:24.433Z"
   },
   {
    "duration": 451,
    "start_time": "2021-11-24T16:57:42.688Z"
   },
   {
    "duration": 908,
    "start_time": "2021-11-24T16:57:52.016Z"
   },
   {
    "duration": 59,
    "start_time": "2021-11-24T16:57:52.927Z"
   },
   {
    "duration": 70,
    "start_time": "2021-11-24T16:57:52.989Z"
   },
   {
    "duration": 73,
    "start_time": "2021-11-24T16:58:54.567Z"
   },
   {
    "duration": 63,
    "start_time": "2021-11-24T16:59:12.757Z"
   },
   {
    "duration": 69,
    "start_time": "2021-11-24T16:59:36.005Z"
   },
   {
    "duration": 70,
    "start_time": "2021-11-24T17:03:34.422Z"
   },
   {
    "duration": 28,
    "start_time": "2021-11-24T22:08:29.338Z"
   },
   {
    "duration": 242,
    "start_time": "2021-11-24T22:08:57.659Z"
   },
   {
    "duration": 24,
    "start_time": "2021-11-24T22:09:01.386Z"
   },
   {
    "duration": 20,
    "start_time": "2021-11-24T22:09:36.769Z"
   },
   {
    "duration": 23,
    "start_time": "2021-11-24T22:09:52.169Z"
   },
   {
    "duration": 21,
    "start_time": "2021-11-24T22:13:15.499Z"
   },
   {
    "duration": 22,
    "start_time": "2021-11-24T22:13:27.426Z"
   },
   {
    "duration": 60,
    "start_time": "2021-11-24T22:15:40.734Z"
   },
   {
    "duration": 59,
    "start_time": "2021-11-24T22:18:21.490Z"
   },
   {
    "duration": 888,
    "start_time": "2021-11-24T22:19:06.541Z"
   },
   {
    "duration": 41,
    "start_time": "2021-11-24T22:19:07.432Z"
   },
   {
    "duration": 63,
    "start_time": "2021-11-24T22:19:07.476Z"
   },
   {
    "duration": 89,
    "start_time": "2021-11-24T22:19:07.542Z"
   },
   {
    "duration": 33,
    "start_time": "2021-11-24T22:22:30.079Z"
   },
   {
    "duration": 33,
    "start_time": "2021-11-24T22:26:19.408Z"
   },
   {
    "duration": 32,
    "start_time": "2021-11-24T22:26:31.255Z"
   },
   {
    "duration": 30,
    "start_time": "2021-11-24T22:27:39.430Z"
   },
   {
    "duration": 1156,
    "start_time": "2021-11-24T22:28:04.725Z"
   },
   {
    "duration": 49,
    "start_time": "2021-11-24T22:28:05.884Z"
   },
   {
    "duration": 67,
    "start_time": "2021-11-24T22:28:05.961Z"
   },
   {
    "duration": 88,
    "start_time": "2021-11-24T22:28:06.031Z"
   },
   {
    "duration": 57,
    "start_time": "2021-11-24T22:28:13.893Z"
   },
   {
    "duration": 5,
    "start_time": "2021-11-24T22:38:59.810Z"
   },
   {
    "duration": 61,
    "start_time": "2021-11-24T22:53:12.770Z"
   },
   {
    "duration": 390,
    "start_time": "2021-11-25T15:16:50.872Z"
   },
   {
    "duration": 774,
    "start_time": "2021-11-25T15:16:58.083Z"
   },
   {
    "duration": 25,
    "start_time": "2021-11-25T15:16:58.859Z"
   },
   {
    "duration": 59,
    "start_time": "2021-11-25T15:16:58.886Z"
   },
   {
    "duration": 70,
    "start_time": "2021-11-25T15:16:58.947Z"
   },
   {
    "duration": 701,
    "start_time": "2021-11-25T15:16:59.019Z"
   },
   {
    "duration": 781,
    "start_time": "2021-11-25T15:22:10.932Z"
   },
   {
    "duration": 718,
    "start_time": "2021-11-25T15:25:01.766Z"
   },
   {
    "duration": 708,
    "start_time": "2021-11-25T15:25:04.158Z"
   },
   {
    "duration": 811,
    "start_time": "2021-11-25T15:25:16.404Z"
   },
   {
    "duration": 2149,
    "start_time": "2021-11-25T15:46:49.754Z"
   },
   {
    "duration": 781,
    "start_time": "2021-11-25T15:47:35.883Z"
   },
   {
    "duration": 24,
    "start_time": "2021-11-25T15:47:36.666Z"
   },
   {
    "duration": 74,
    "start_time": "2021-11-25T15:47:36.710Z"
   },
   {
    "duration": 68,
    "start_time": "2021-11-25T15:47:36.786Z"
   },
   {
    "duration": 2197,
    "start_time": "2021-11-25T15:47:36.856Z"
   },
   {
    "duration": 757,
    "start_time": "2021-11-25T15:49:32.175Z"
   },
   {
    "duration": 379,
    "start_time": "2021-11-25T15:50:47.248Z"
   },
   {
    "duration": 716,
    "start_time": "2021-11-25T15:51:02.013Z"
   },
   {
    "duration": 739,
    "start_time": "2021-11-25T15:51:10.118Z"
   },
   {
    "duration": 1015,
    "start_time": "2021-11-25T15:51:29.956Z"
   },
   {
    "duration": 718,
    "start_time": "2021-11-25T16:01:27.539Z"
   },
   {
    "duration": 4045,
    "start_time": "2021-11-25T16:02:36.690Z"
   },
   {
    "duration": 4494,
    "start_time": "2021-11-25T16:02:54.442Z"
   },
   {
    "duration": 3786,
    "start_time": "2021-11-25T16:04:21.672Z"
   },
   {
    "duration": 4516,
    "start_time": "2021-11-25T16:06:09.667Z"
   },
   {
    "duration": 4131,
    "start_time": "2021-11-25T16:07:14.753Z"
   },
   {
    "duration": 4262,
    "start_time": "2021-11-25T16:07:42.985Z"
   },
   {
    "duration": 15,
    "start_time": "2021-11-25T18:30:07.839Z"
   },
   {
    "duration": 425,
    "start_time": "2021-11-25T18:32:45.954Z"
   },
   {
    "duration": 11,
    "start_time": "2021-11-25T18:33:12.218Z"
   },
   {
    "duration": 9,
    "start_time": "2021-11-25T18:34:44.928Z"
   },
   {
    "duration": 17,
    "start_time": "2021-11-25T18:44:07.071Z"
   },
   {
    "duration": 16,
    "start_time": "2021-11-25T18:44:22.822Z"
   },
   {
    "duration": 17,
    "start_time": "2021-11-25T18:44:43.142Z"
   },
   {
    "duration": 17,
    "start_time": "2021-11-25T18:50:57.931Z"
   },
   {
    "duration": 36,
    "start_time": "2021-11-25T18:51:16.250Z"
   },
   {
    "duration": 25,
    "start_time": "2021-11-25T19:37:52.157Z"
   },
   {
    "duration": 24,
    "start_time": "2021-11-25T19:39:47.218Z"
   },
   {
    "duration": 21,
    "start_time": "2021-11-25T19:41:36.742Z"
   },
   {
    "duration": 7,
    "start_time": "2021-11-25T19:47:34.116Z"
   },
   {
    "duration": 712,
    "start_time": "2021-11-25T19:47:45.627Z"
   },
   {
    "duration": 6,
    "start_time": "2021-11-25T19:47:46.341Z"
   },
   {
    "duration": 451,
    "start_time": "2021-11-25T19:47:46.351Z"
   },
   {
    "duration": -1434,
    "start_time": "2021-11-25T19:47:48.239Z"
   },
   {
    "duration": -1441,
    "start_time": "2021-11-25T19:47:48.248Z"
   },
   {
    "duration": -1442,
    "start_time": "2021-11-25T19:47:48.250Z"
   },
   {
    "duration": 30,
    "start_time": "2021-11-25T19:48:30.267Z"
   },
   {
    "duration": 930,
    "start_time": "2021-11-25T19:48:37.286Z"
   },
   {
    "duration": 27,
    "start_time": "2021-11-25T19:48:38.219Z"
   },
   {
    "duration": 62,
    "start_time": "2021-11-25T19:48:38.248Z"
   },
   {
    "duration": 49,
    "start_time": "2021-11-25T19:48:38.312Z"
   },
   {
    "duration": 4145,
    "start_time": "2021-11-25T19:48:38.363Z"
   },
   {
    "duration": 40,
    "start_time": "2021-11-25T19:48:42.510Z"
   },
   {
    "duration": 23,
    "start_time": "2021-11-25T19:49:05.759Z"
   },
   {
    "duration": 33,
    "start_time": "2021-11-25T19:49:17.007Z"
   },
   {
    "duration": 41,
    "start_time": "2021-11-25T19:50:01.861Z"
   },
   {
    "duration": 40,
    "start_time": "2021-11-25T19:50:44.261Z"
   },
   {
    "duration": 690,
    "start_time": "2021-11-25T19:50:50.637Z"
   },
   {
    "duration": 29,
    "start_time": "2021-11-25T19:50:51.330Z"
   },
   {
    "duration": 69,
    "start_time": "2021-11-25T19:50:51.361Z"
   },
   {
    "duration": 51,
    "start_time": "2021-11-25T19:50:51.433Z"
   },
   {
    "duration": 4472,
    "start_time": "2021-11-25T19:50:51.486Z"
   },
   {
    "duration": 51,
    "start_time": "2021-11-25T19:50:55.960Z"
   },
   {
    "duration": 41,
    "start_time": "2021-11-25T19:54:27.734Z"
   },
   {
    "duration": 32,
    "start_time": "2021-11-25T19:54:42.605Z"
   },
   {
    "duration": 26,
    "start_time": "2021-11-25T19:54:51.605Z"
   },
   {
    "duration": 30,
    "start_time": "2021-11-25T19:56:24.530Z"
   },
   {
    "duration": 29,
    "start_time": "2021-11-25T19:57:41.136Z"
   },
   {
    "duration": 716,
    "start_time": "2021-11-25T19:59:22.277Z"
   },
   {
    "duration": 42,
    "start_time": "2021-11-25T19:59:22.998Z"
   },
   {
    "duration": 80,
    "start_time": "2021-11-25T19:59:23.042Z"
   },
   {
    "duration": 68,
    "start_time": "2021-11-25T19:59:23.125Z"
   },
   {
    "duration": 4089,
    "start_time": "2021-11-25T19:59:23.207Z"
   },
   {
    "duration": 44,
    "start_time": "2021-11-25T19:59:27.299Z"
   },
   {
    "duration": 37,
    "start_time": "2021-11-25T20:10:05.900Z"
   },
   {
    "duration": 722,
    "start_time": "2021-11-26T15:20:29.450Z"
   },
   {
    "duration": 40,
    "start_time": "2021-11-26T15:20:30.174Z"
   },
   {
    "duration": 53,
    "start_time": "2021-11-26T15:20:30.218Z"
   },
   {
    "duration": 57,
    "start_time": "2021-11-26T15:20:30.273Z"
   },
   {
    "duration": 3504,
    "start_time": "2021-11-26T15:20:30.332Z"
   },
   {
    "duration": 36,
    "start_time": "2021-11-26T15:20:33.838Z"
   },
   {
    "duration": 424,
    "start_time": "2021-11-26T15:27:08.009Z"
   },
   {
    "duration": 356,
    "start_time": "2021-11-26T15:30:01.140Z"
   },
   {
    "duration": 384,
    "start_time": "2021-11-26T15:34:10.086Z"
   },
   {
    "duration": 23,
    "start_time": "2021-11-26T15:35:43.707Z"
   },
   {
    "duration": 16,
    "start_time": "2021-11-26T15:39:31.821Z"
   },
   {
    "duration": 32,
    "start_time": "2021-11-26T15:39:45.108Z"
   },
   {
    "duration": 65,
    "start_time": "2021-11-26T15:43:04.839Z"
   },
   {
    "duration": 23,
    "start_time": "2021-11-26T15:43:58.893Z"
   },
   {
    "duration": 47,
    "start_time": "2021-11-26T15:44:50.645Z"
   },
   {
    "duration": 20,
    "start_time": "2021-11-26T15:50:25.162Z"
   },
   {
    "duration": 373,
    "start_time": "2021-11-26T15:56:36.560Z"
   },
   {
    "duration": 19,
    "start_time": "2021-11-26T15:56:53.120Z"
   },
   {
    "duration": 355,
    "start_time": "2021-11-26T16:05:04.690Z"
   },
   {
    "duration": 1430,
    "start_time": "2021-11-26T16:05:41.529Z"
   },
   {
    "duration": 24,
    "start_time": "2021-11-26T16:06:24.664Z"
   },
   {
    "duration": 21,
    "start_time": "2021-11-26T16:08:02.556Z"
   },
   {
    "duration": 21,
    "start_time": "2021-11-26T16:09:56.698Z"
   },
   {
    "duration": 642,
    "start_time": "2021-11-26T22:45:02.064Z"
   },
   {
    "duration": 29,
    "start_time": "2021-11-26T22:45:02.709Z"
   },
   {
    "duration": 59,
    "start_time": "2021-11-26T22:45:02.740Z"
   },
   {
    "duration": 44,
    "start_time": "2021-11-26T22:45:02.801Z"
   },
   {
    "duration": 3313,
    "start_time": "2021-11-26T22:45:02.846Z"
   },
   {
    "duration": 56,
    "start_time": "2021-11-26T22:45:06.161Z"
   },
   {
    "duration": 26,
    "start_time": "2021-11-26T22:45:06.218Z"
   },
   {
    "duration": 20,
    "start_time": "2021-11-26T22:45:06.246Z"
   },
   {
    "duration": 39,
    "start_time": "2021-11-26T22:45:06.268Z"
   },
   {
    "duration": 17,
    "start_time": "2021-11-26T22:45:06.309Z"
   },
   {
    "duration": 621,
    "start_time": "2021-11-27T18:41:19.327Z"
   },
   {
    "duration": 24,
    "start_time": "2021-11-27T18:41:19.950Z"
   },
   {
    "duration": 44,
    "start_time": "2021-11-27T18:41:19.976Z"
   },
   {
    "duration": 41,
    "start_time": "2021-11-27T18:41:20.022Z"
   },
   {
    "duration": 3231,
    "start_time": "2021-11-27T18:41:20.065Z"
   },
   {
    "duration": 40,
    "start_time": "2021-11-27T18:41:23.298Z"
   },
   {
    "duration": 23,
    "start_time": "2021-11-27T18:41:23.340Z"
   },
   {
    "duration": 36,
    "start_time": "2021-11-27T18:41:23.364Z"
   },
   {
    "duration": 16,
    "start_time": "2021-11-27T18:41:23.402Z"
   },
   {
    "duration": 16,
    "start_time": "2021-11-27T18:41:23.419Z"
   },
   {
    "duration": 80,
    "start_time": "2021-11-27T19:42:16.813Z"
   },
   {
    "duration": 75,
    "start_time": "2021-11-27T20:21:57.938Z"
   },
   {
    "duration": 615,
    "start_time": "2021-11-27T20:34:52.911Z"
   },
   {
    "duration": 27,
    "start_time": "2021-11-27T20:34:53.528Z"
   },
   {
    "duration": 54,
    "start_time": "2021-11-27T20:34:53.557Z"
   },
   {
    "duration": 44,
    "start_time": "2021-11-27T20:34:53.613Z"
   },
   {
    "duration": 3347,
    "start_time": "2021-11-27T20:34:53.659Z"
   },
   {
    "duration": 44,
    "start_time": "2021-11-27T20:34:57.007Z"
   },
   {
    "duration": 38,
    "start_time": "2021-11-27T20:34:57.052Z"
   },
   {
    "duration": 18,
    "start_time": "2021-11-27T20:34:57.092Z"
   },
   {
    "duration": 16,
    "start_time": "2021-11-27T20:34:57.112Z"
   },
   {
    "duration": 18,
    "start_time": "2021-11-27T20:34:57.129Z"
   },
   {
    "duration": 766,
    "start_time": "2021-11-28T19:17:24.078Z"
   },
   {
    "duration": 474,
    "start_time": "2021-11-28T19:21:30.150Z"
   },
   {
    "duration": 109,
    "start_time": "2021-11-28T19:21:38.694Z"
   },
   {
    "duration": 730,
    "start_time": "2021-11-28T19:21:45.684Z"
   },
   {
    "duration": 121,
    "start_time": "2021-11-28T19:21:46.416Z"
   },
   {
    "duration": -75,
    "start_time": "2021-11-28T19:21:46.614Z"
   },
   {
    "duration": -79,
    "start_time": "2021-11-28T19:21:46.619Z"
   },
   {
    "duration": -80,
    "start_time": "2021-11-28T19:21:46.621Z"
   },
   {
    "duration": -81,
    "start_time": "2021-11-28T19:21:46.624Z"
   },
   {
    "duration": -82,
    "start_time": "2021-11-28T19:21:46.626Z"
   },
   {
    "duration": -85,
    "start_time": "2021-11-28T19:21:46.629Z"
   },
   {
    "duration": -89,
    "start_time": "2021-11-28T19:21:46.635Z"
   },
   {
    "duration": -90,
    "start_time": "2021-11-28T19:21:46.637Z"
   },
   {
    "duration": -90,
    "start_time": "2021-11-28T19:21:46.638Z"
   },
   {
    "duration": 714,
    "start_time": "2021-11-28T19:37:23.827Z"
   },
   {
    "duration": 9,
    "start_time": "2021-11-28T19:37:24.543Z"
   },
   {
    "duration": 11,
    "start_time": "2021-11-28T19:37:24.554Z"
   },
   {
    "duration": 12,
    "start_time": "2021-11-28T19:37:24.567Z"
   },
   {
    "duration": 11,
    "start_time": "2021-11-28T19:37:24.606Z"
   },
   {
    "duration": 132,
    "start_time": "2021-11-28T19:37:24.618Z"
   },
   {
    "duration": -105,
    "start_time": "2021-11-28T19:37:24.857Z"
   },
   {
    "duration": -106,
    "start_time": "2021-11-28T19:37:24.860Z"
   },
   {
    "duration": -108,
    "start_time": "2021-11-28T19:37:24.863Z"
   },
   {
    "duration": -109,
    "start_time": "2021-11-28T19:37:24.865Z"
   },
   {
    "duration": -115,
    "start_time": "2021-11-28T19:37:24.872Z"
   },
   {
    "duration": -117,
    "start_time": "2021-11-28T19:37:24.875Z"
   },
   {
    "duration": -118,
    "start_time": "2021-11-28T19:37:24.877Z"
   },
   {
    "duration": 159,
    "start_time": "2021-11-28T19:38:32.840Z"
   },
   {
    "duration": 156,
    "start_time": "2021-11-28T19:38:40.904Z"
   },
   {
    "duration": 483,
    "start_time": "2021-11-28T19:38:45.680Z"
   },
   {
    "duration": 119,
    "start_time": "2021-11-28T19:39:23.302Z"
   },
   {
    "duration": 41,
    "start_time": "2021-11-28T19:41:31.340Z"
   },
   {
    "duration": 667,
    "start_time": "2021-11-28T19:48:40.944Z"
   },
   {
    "duration": 8,
    "start_time": "2021-11-28T19:48:41.613Z"
   },
   {
    "duration": 8,
    "start_time": "2021-11-28T19:48:41.623Z"
   },
   {
    "duration": 12,
    "start_time": "2021-11-28T19:48:41.633Z"
   },
   {
    "duration": 11,
    "start_time": "2021-11-28T19:48:41.647Z"
   },
   {
    "duration": 70,
    "start_time": "2021-11-28T19:48:41.660Z"
   },
   {
    "duration": 46,
    "start_time": "2021-11-28T19:48:41.731Z"
   },
   {
    "duration": 3581,
    "start_time": "2021-11-28T19:48:41.780Z"
   },
   {
    "duration": 22,
    "start_time": "2021-11-28T19:48:45.363Z"
   },
   {
    "duration": 28,
    "start_time": "2021-11-28T19:48:45.386Z"
   },
   {
    "duration": 16,
    "start_time": "2021-11-28T19:48:45.416Z"
   },
   {
    "duration": 13,
    "start_time": "2021-11-28T19:48:45.434Z"
   },
   {
    "duration": 28,
    "start_time": "2021-11-28T19:48:45.449Z"
   },
   {
    "duration": 41,
    "start_time": "2021-11-28T19:48:45.478Z"
   },
   {
    "duration": 43,
    "start_time": "2021-11-28T19:48:45.520Z"
   },
   {
    "duration": 20,
    "start_time": "2021-11-28T19:48:45.565Z"
   },
   {
    "duration": 14,
    "start_time": "2021-11-28T19:51:53.452Z"
   },
   {
    "duration": 16,
    "start_time": "2021-11-28T19:52:06.811Z"
   },
   {
    "duration": 16,
    "start_time": "2021-11-28T19:52:16.850Z"
   },
   {
    "duration": 12,
    "start_time": "2021-11-28T19:52:33.130Z"
   },
   {
    "duration": 15,
    "start_time": "2021-11-28T19:52:38.370Z"
   },
   {
    "duration": 18,
    "start_time": "2021-11-28T19:54:47.295Z"
   },
   {
    "duration": 12,
    "start_time": "2021-11-28T19:54:59.990Z"
   },
   {
    "duration": 3,
    "start_time": "2021-11-28T20:05:35.693Z"
   },
   {
    "duration": 23,
    "start_time": "2021-11-28T20:05:41.043Z"
   },
   {
    "duration": 706,
    "start_time": "2021-11-28T20:05:52.630Z"
   },
   {
    "duration": 8,
    "start_time": "2021-11-28T20:05:53.338Z"
   },
   {
    "duration": 13,
    "start_time": "2021-11-28T20:05:53.348Z"
   },
   {
    "duration": 24,
    "start_time": "2021-11-28T20:05:53.363Z"
   },
   {
    "duration": 18,
    "start_time": "2021-11-28T20:05:53.389Z"
   },
   {
    "duration": 49,
    "start_time": "2021-11-28T20:05:53.409Z"
   },
   {
    "duration": 56,
    "start_time": "2021-11-28T20:05:53.459Z"
   },
   {
    "duration": 3544,
    "start_time": "2021-11-28T20:05:53.518Z"
   },
   {
    "duration": 20,
    "start_time": "2021-11-28T20:05:57.064Z"
   },
   {
    "duration": 29,
    "start_time": "2021-11-28T20:05:57.086Z"
   },
   {
    "duration": 24,
    "start_time": "2021-11-28T20:05:57.117Z"
   },
   {
    "duration": 15,
    "start_time": "2021-11-28T20:05:57.143Z"
   },
   {
    "duration": 419,
    "start_time": "2021-11-28T20:05:57.159Z"
   },
   {
    "duration": -158,
    "start_time": "2021-11-28T20:05:57.738Z"
   },
   {
    "duration": -160,
    "start_time": "2021-11-28T20:05:57.741Z"
   },
   {
    "duration": -161,
    "start_time": "2021-11-28T20:05:57.743Z"
   },
   {
    "duration": 24,
    "start_time": "2021-11-28T20:06:36.092Z"
   },
   {
    "duration": 19,
    "start_time": "2021-11-28T20:16:42.075Z"
   },
   {
    "duration": 923,
    "start_time": "2021-11-28T20:18:15.290Z"
   },
   {
    "duration": 8,
    "start_time": "2021-11-28T20:18:16.216Z"
   },
   {
    "duration": 11,
    "start_time": "2021-11-28T20:18:16.226Z"
   },
   {
    "duration": 15,
    "start_time": "2021-11-28T20:18:16.239Z"
   },
   {
    "duration": 10,
    "start_time": "2021-11-28T20:18:16.256Z"
   },
   {
    "duration": 48,
    "start_time": "2021-11-28T20:18:16.268Z"
   },
   {
    "duration": 47,
    "start_time": "2021-11-28T20:18:16.318Z"
   },
   {
    "duration": 3682,
    "start_time": "2021-11-28T20:18:16.368Z"
   },
   {
    "duration": 21,
    "start_time": "2021-11-28T20:18:20.052Z"
   },
   {
    "duration": 12,
    "start_time": "2021-11-28T20:18:20.074Z"
   },
   {
    "duration": 13,
    "start_time": "2021-11-28T20:18:20.107Z"
   },
   {
    "duration": 12,
    "start_time": "2021-11-28T20:18:20.122Z"
   },
   {
    "duration": 35,
    "start_time": "2021-11-28T20:18:20.135Z"
   },
   {
    "duration": 36,
    "start_time": "2021-11-28T20:18:20.172Z"
   },
   {
    "duration": 20,
    "start_time": "2021-11-28T20:18:20.210Z"
   },
   {
    "duration": 33,
    "start_time": "2021-11-28T20:18:20.232Z"
   },
   {
    "duration": 105,
    "start_time": "2021-11-28T20:44:14.555Z"
   },
   {
    "duration": 687,
    "start_time": "2021-11-28T20:44:52.533Z"
   },
   {
    "duration": 8,
    "start_time": "2021-11-28T20:44:53.222Z"
   },
   {
    "duration": 9,
    "start_time": "2021-11-28T20:44:53.233Z"
   },
   {
    "duration": 13,
    "start_time": "2021-11-28T20:44:53.244Z"
   },
   {
    "duration": 9,
    "start_time": "2021-11-28T20:44:53.259Z"
   },
   {
    "duration": 65,
    "start_time": "2021-11-28T20:44:53.269Z"
   },
   {
    "duration": 47,
    "start_time": "2021-11-28T20:44:53.336Z"
   },
   {
    "duration": 3575,
    "start_time": "2021-11-28T20:44:53.385Z"
   },
   {
    "duration": 19,
    "start_time": "2021-11-28T20:44:56.962Z"
   },
   {
    "duration": 28,
    "start_time": "2021-11-28T20:44:56.983Z"
   },
   {
    "duration": 14,
    "start_time": "2021-11-28T20:44:57.013Z"
   },
   {
    "duration": 3,
    "start_time": "2021-11-28T20:44:57.029Z"
   },
   {
    "duration": 29,
    "start_time": "2021-11-28T20:44:57.034Z"
   },
   {
    "duration": 44,
    "start_time": "2021-11-28T20:44:57.064Z"
   },
   {
    "duration": 19,
    "start_time": "2021-11-28T20:44:57.109Z"
   },
   {
    "duration": 18,
    "start_time": "2021-11-28T20:44:57.129Z"
   },
   {
    "duration": 863,
    "start_time": "2021-11-29T21:05:35.104Z"
   },
   {
    "duration": 15,
    "start_time": "2021-11-29T21:05:35.970Z"
   },
   {
    "duration": 13,
    "start_time": "2021-11-29T21:05:35.988Z"
   },
   {
    "duration": 18,
    "start_time": "2021-11-29T21:05:36.003Z"
   },
   {
    "duration": 13,
    "start_time": "2021-11-29T21:05:36.024Z"
   },
   {
    "duration": 99,
    "start_time": "2021-11-29T21:05:36.039Z"
   },
   {
    "duration": 79,
    "start_time": "2021-11-29T21:05:36.141Z"
   },
   {
    "duration": 4765,
    "start_time": "2021-11-29T21:05:36.224Z"
   },
   {
    "duration": 28,
    "start_time": "2021-11-29T21:05:40.991Z"
   },
   {
    "duration": 17,
    "start_time": "2021-11-29T21:05:41.021Z"
   },
   {
    "duration": 50,
    "start_time": "2021-11-29T21:05:41.041Z"
   },
   {
    "duration": 8,
    "start_time": "2021-11-29T21:05:41.094Z"
   },
   {
    "duration": 36,
    "start_time": "2021-11-29T21:05:41.105Z"
   },
   {
    "duration": 50,
    "start_time": "2021-11-29T21:05:41.143Z"
   },
   {
    "duration": 29,
    "start_time": "2021-11-29T21:05:41.195Z"
   },
   {
    "duration": 27,
    "start_time": "2021-11-29T21:05:41.227Z"
   },
   {
    "duration": 13,
    "start_time": "2021-11-29T21:08:51.436Z"
   },
   {
    "duration": 931,
    "start_time": "2021-11-29T21:13:44.066Z"
   },
   {
    "duration": 16,
    "start_time": "2021-11-29T21:13:45.000Z"
   },
   {
    "duration": 29,
    "start_time": "2021-11-29T21:13:45.020Z"
   },
   {
    "duration": 51,
    "start_time": "2021-11-29T21:13:45.053Z"
   },
   {
    "duration": 14,
    "start_time": "2021-11-29T21:13:45.107Z"
   },
   {
    "duration": 86,
    "start_time": "2021-11-29T21:13:45.124Z"
   },
   {
    "duration": 91,
    "start_time": "2021-11-29T21:13:45.213Z"
   },
   {
    "duration": 4900,
    "start_time": "2021-11-29T21:13:45.308Z"
   },
   {
    "duration": 27,
    "start_time": "2021-11-29T21:13:50.211Z"
   },
   {
    "duration": 16,
    "start_time": "2021-11-29T21:13:50.240Z"
   },
   {
    "duration": 18,
    "start_time": "2021-11-29T21:13:50.283Z"
   },
   {
    "duration": 12,
    "start_time": "2021-11-29T21:13:50.304Z"
   },
   {
    "duration": 13,
    "start_time": "2021-11-29T21:13:50.319Z"
   },
   {
    "duration": 62,
    "start_time": "2021-11-29T21:13:50.335Z"
   },
   {
    "duration": 30,
    "start_time": "2021-11-29T21:13:50.400Z"
   },
   {
    "duration": 53,
    "start_time": "2021-11-29T21:13:50.433Z"
   },
   {
    "duration": 28,
    "start_time": "2021-11-29T21:13:50.488Z"
   },
   {
    "duration": 13,
    "start_time": "2021-11-29T21:14:06.426Z"
   },
   {
    "duration": 11,
    "start_time": "2021-11-29T21:14:51.985Z"
   },
   {
    "duration": 886,
    "start_time": "2021-11-29T21:14:57.784Z"
   },
   {
    "duration": 13,
    "start_time": "2021-11-29T21:14:58.673Z"
   },
   {
    "duration": 11,
    "start_time": "2021-11-29T21:14:58.690Z"
   },
   {
    "duration": 20,
    "start_time": "2021-11-29T21:14:58.704Z"
   },
   {
    "duration": 14,
    "start_time": "2021-11-29T21:14:58.726Z"
   },
   {
    "duration": 94,
    "start_time": "2021-11-29T21:14:58.742Z"
   },
   {
    "duration": 81,
    "start_time": "2021-11-29T21:14:58.839Z"
   },
   {
    "duration": 5334,
    "start_time": "2021-11-29T21:14:58.923Z"
   },
   {
    "duration": 41,
    "start_time": "2021-11-29T21:15:04.259Z"
   },
   {
    "duration": 16,
    "start_time": "2021-11-29T21:15:04.303Z"
   },
   {
    "duration": 27,
    "start_time": "2021-11-29T21:15:04.321Z"
   },
   {
    "duration": 32,
    "start_time": "2021-11-29T21:15:04.350Z"
   },
   {
    "duration": 15,
    "start_time": "2021-11-29T21:15:04.386Z"
   },
   {
    "duration": 37,
    "start_time": "2021-11-29T21:15:04.403Z"
   },
   {
    "duration": 33,
    "start_time": "2021-11-29T21:15:04.482Z"
   },
   {
    "duration": 29,
    "start_time": "2021-11-29T21:15:04.518Z"
   },
   {
    "duration": 60,
    "start_time": "2021-11-29T21:15:04.550Z"
   },
   {
    "duration": 9,
    "start_time": "2021-11-29T21:16:24.999Z"
   },
   {
    "duration": 33,
    "start_time": "2021-11-29T21:16:25.487Z"
   },
   {
    "duration": 10,
    "start_time": "2021-11-29T21:16:30.792Z"
   },
   {
    "duration": 11,
    "start_time": "2021-11-29T21:17:18.681Z"
   },
   {
    "duration": 10,
    "start_time": "2021-11-29T21:17:25.606Z"
   },
   {
    "duration": 8,
    "start_time": "2021-11-29T21:17:33.954Z"
   },
   {
    "duration": 12,
    "start_time": "2021-11-29T21:17:37.025Z"
   },
   {
    "duration": 11,
    "start_time": "2021-11-29T21:17:41.395Z"
   },
   {
    "duration": 13,
    "start_time": "2021-11-29T21:17:44.847Z"
   },
   {
    "duration": 14,
    "start_time": "2021-11-29T21:18:33.688Z"
   },
   {
    "duration": 10,
    "start_time": "2021-11-29T21:20:32.019Z"
   },
   {
    "duration": 14,
    "start_time": "2021-11-29T21:20:32.377Z"
   },
   {
    "duration": 10,
    "start_time": "2021-11-29T21:20:32.809Z"
   },
   {
    "duration": 10,
    "start_time": "2021-11-29T21:20:37.051Z"
   },
   {
    "duration": 156,
    "start_time": "2021-11-29T21:20:46.899Z"
   },
   {
    "duration": 9,
    "start_time": "2021-11-29T21:20:52.322Z"
   },
   {
    "duration": 14,
    "start_time": "2021-11-29T21:20:59.341Z"
   },
   {
    "duration": 11,
    "start_time": "2021-11-29T21:21:02.157Z"
   },
   {
    "duration": 832,
    "start_time": "2021-11-29T21:28:46.530Z"
   },
   {
    "duration": 19,
    "start_time": "2021-11-29T21:28:47.365Z"
   },
   {
    "duration": 12,
    "start_time": "2021-11-29T21:28:47.387Z"
   },
   {
    "duration": 25,
    "start_time": "2021-11-29T21:28:47.402Z"
   },
   {
    "duration": 52,
    "start_time": "2021-11-29T21:28:47.430Z"
   },
   {
    "duration": 72,
    "start_time": "2021-11-29T21:28:47.485Z"
   },
   {
    "duration": 84,
    "start_time": "2021-11-29T21:28:47.559Z"
   },
   {
    "duration": 4809,
    "start_time": "2021-11-29T21:28:47.647Z"
   },
   {
    "duration": 42,
    "start_time": "2021-11-29T21:28:52.459Z"
   },
   {
    "duration": 17,
    "start_time": "2021-11-29T21:28:52.504Z"
   },
   {
    "duration": 57,
    "start_time": "2021-11-29T21:28:52.524Z"
   },
   {
    "duration": 14,
    "start_time": "2021-11-29T21:28:52.585Z"
   },
   {
    "duration": 53,
    "start_time": "2021-11-29T21:28:52.601Z"
   },
   {
    "duration": 39,
    "start_time": "2021-11-29T21:28:52.657Z"
   },
   {
    "duration": 30,
    "start_time": "2021-11-29T21:28:52.699Z"
   },
   {
    "duration": 64,
    "start_time": "2021-11-29T21:28:52.732Z"
   }
  ],
  "kernelspec": {
   "display_name": "Python 3 (ipykernel)",
   "language": "python",
   "name": "python3"
  },
  "language_info": {
   "codemirror_mode": {
    "name": "ipython",
    "version": 3
   },
   "file_extension": ".py",
   "mimetype": "text/x-python",
   "name": "python",
   "nbconvert_exporter": "python",
   "pygments_lexer": "ipython3",
   "version": "3.9.7"
  },
  "toc": {
   "base_numbering": 1,
   "nav_menu": {},
   "number_sections": true,
   "sideBar": true,
   "skip_h1_title": true,
   "title_cell": "Table of Contents",
   "title_sidebar": "Contents",
   "toc_cell": false,
   "toc_position": {},
   "toc_section_display": true,
   "toc_window_display": false
  }
 },
 "nbformat": 4,
 "nbformat_minor": 2
}
