{
 "cells": [
  {
   "cell_type": "markdown",
   "metadata": {},
   "source": [
    "# Проект - \"Анализ рекламных источников в игре\" \n",
    "\n",
    "Основной датасет содержит данные о событиях, совершенных в мобильной игре «Космические братья». В ней пользователи строят свою космическую программу и пытаются преуспеть в нелёгком деле колонизации галактики. Основная монетизация игры — только планируется. Но предполагается, что в приложении будет происходить показ рекламы на экране с выбором типа объекта для постройки. В датасете представлены данные по игре пользователей на первом уровне. Завершение первого уровня требует от игрока выполнения одного из двух условий:\n",
    "\n",
    "- Победа над первым врагом\n",
    "- Реализация проекта - разработка орбитальной сборки спутников\n",
    "\n",
    "В датасете содержатся данные первых пользователей приложения — когорты пользователей, которые начали пользоваться приложением в период с 4 по 10 мая включительно.\n",
    "\n",
    "Задача:\n",
    "\n",
    "Проанализируйте поведения игроков в зависимости от источника перехода.\n",
    "- Проведите исследовательский анализ данных;\n",
    "- Проанализируйте влияние источника перехода в игру на поведение пользователя;\n",
    "- Проверьте статистические гипотезы:\n",
    "    1. Проверьте гипотезу: время завершения уровня различается в зависимости способа прохождения:\n",
    "        - через реализацию проекта,\n",
    "        - через победу над первым игроком.\n",
    "    2. Сформулируйте собственную статистическую гипотезу. Дополните её нулевой и альтернативной гипотезами. Проверьте гипотезу с помощью статистического теста.\n",
    "    \n",
    "\n",
    "Презентация - https://disk.yandex.ru/i/rO8H5auuQl8xPg\n",
    "\n",
    "\n",
    "Дашборд - https://public.tableau.com/views/_16523584313770/sheet2?:language=en-US&:display_count=n&:origin=viz_share_link"
   ]
  },
  {
   "cell_type": "markdown",
   "metadata": {},
   "source": [
    "## Оглавление\n",
    "\n",
    "1. Изучение данных из файла\n",
    "2. Подготовка данных\n",
    "3. Исследовательский анализ данных\n",
    "4. Проверка гипотез\n",
    "5. Общий вывод"
   ]
  },
  {
   "cell_type": "markdown",
   "metadata": {},
   "source": [
    "##  1. Изучение данных из файла "
   ]
  },
  {
   "cell_type": "code",
   "execution_count": 1,
   "metadata": {},
   "outputs": [],
   "source": [
    "import pandas as pd\n",
    "import seaborn as sns\n",
    "import matplotlib.pyplot as plt\n",
    "import numpy as np\n",
    "import datetime as dt\n",
    "import math as mth\n",
    "import plotly.express as px \n",
    "from scipy import stats as st\n",
    "from pandas.plotting import register_matplotlib_converters\n",
    "from plotly import graph_objects as go\n",
    "import warnings\n",
    "warnings.filterwarnings('ignore')\n",
    "pd.set_option('display.max_rows', None)\n",
    "pd.set_option('display.max_columns', None)\n",
    "pd.set_option('display.float_format', '{:,.2f}'.format)\n",
    "register_matplotlib_converters()"
   ]
  },
  {
   "cell_type": "code",
   "execution_count": 2,
   "metadata": {},
   "outputs": [
    {
     "data": {
      "text/html": [
       "<div>\n",
       "<style scoped>\n",
       "    .dataframe tbody tr th:only-of-type {\n",
       "        vertical-align: middle;\n",
       "    }\n",
       "\n",
       "    .dataframe tbody tr th {\n",
       "        vertical-align: top;\n",
       "    }\n",
       "\n",
       "    .dataframe thead th {\n",
       "        text-align: right;\n",
       "    }\n",
       "</style>\n",
       "<table border=\"1\" class=\"dataframe\">\n",
       "  <thead>\n",
       "    <tr style=\"text-align: right;\">\n",
       "      <th></th>\n",
       "      <th>user_id</th>\n",
       "      <th>source</th>\n",
       "    </tr>\n",
       "  </thead>\n",
       "  <tbody>\n",
       "    <tr>\n",
       "      <th>0</th>\n",
       "      <td>0001f83c-c6ac-4621-b7f0-8a28b283ac30</td>\n",
       "      <td>facebook_ads</td>\n",
       "    </tr>\n",
       "    <tr>\n",
       "      <th>1</th>\n",
       "      <td>00151b4f-ba38-44a8-a650-d7cf130a0105</td>\n",
       "      <td>yandex_direct</td>\n",
       "    </tr>\n",
       "    <tr>\n",
       "      <th>2</th>\n",
       "      <td>001aaea6-3d14-43f1-8ca8-7f48820f17aa</td>\n",
       "      <td>youtube_channel_reklama</td>\n",
       "    </tr>\n",
       "    <tr>\n",
       "      <th>3</th>\n",
       "      <td>001d39dc-366c-4021-9604-6a3b9ff01e25</td>\n",
       "      <td>instagram_new_adverts</td>\n",
       "    </tr>\n",
       "    <tr>\n",
       "      <th>4</th>\n",
       "      <td>002f508f-67b6-479f-814b-b05f00d4e995</td>\n",
       "      <td>facebook_ads</td>\n",
       "    </tr>\n",
       "  </tbody>\n",
       "</table>\n",
       "</div>"
      ],
      "text/plain": [
       "                                user_id                   source\n",
       "0  0001f83c-c6ac-4621-b7f0-8a28b283ac30             facebook_ads\n",
       "1  00151b4f-ba38-44a8-a650-d7cf130a0105            yandex_direct\n",
       "2  001aaea6-3d14-43f1-8ca8-7f48820f17aa  youtube_channel_reklama\n",
       "3  001d39dc-366c-4021-9604-6a3b9ff01e25    instagram_new_adverts\n",
       "4  002f508f-67b6-479f-814b-b05f00d4e995             facebook_ads"
      ]
     },
     "metadata": {},
     "output_type": "display_data"
    },
    {
     "name": "stdout",
     "output_type": "stream",
     "text": [
      "<class 'pandas.core.frame.DataFrame'>\n",
      "RangeIndex: 13576 entries, 0 to 13575\n",
      "Data columns (total 2 columns):\n",
      " #   Column   Non-Null Count  Dtype \n",
      "---  ------   --------------  ----- \n",
      " 0   user_id  13576 non-null  object\n",
      " 1   source   13576 non-null  object\n",
      "dtypes: object(2)\n",
      "memory usage: 212.2+ KB\n"
     ]
    }
   ],
   "source": [
    "# База по пользователям\n",
    "users_data = pd.read_csv('/datasets/user_source.csv')\n",
    "display(users_data.head())\n",
    "users_data.info()"
   ]
  },
  {
   "cell_type": "code",
   "execution_count": 3,
   "metadata": {},
   "outputs": [
    {
     "data": {
      "text/html": [
       "<div>\n",
       "<style scoped>\n",
       "    .dataframe tbody tr th:only-of-type {\n",
       "        vertical-align: middle;\n",
       "    }\n",
       "\n",
       "    .dataframe tbody tr th {\n",
       "        vertical-align: top;\n",
       "    }\n",
       "\n",
       "    .dataframe thead th {\n",
       "        text-align: right;\n",
       "    }\n",
       "</style>\n",
       "<table border=\"1\" class=\"dataframe\">\n",
       "  <thead>\n",
       "    <tr style=\"text-align: right;\">\n",
       "      <th></th>\n",
       "      <th>event_datetime</th>\n",
       "      <th>event</th>\n",
       "      <th>building_type</th>\n",
       "      <th>user_id</th>\n",
       "      <th>project_type</th>\n",
       "    </tr>\n",
       "  </thead>\n",
       "  <tbody>\n",
       "    <tr>\n",
       "      <th>0</th>\n",
       "      <td>2020-05-04 00:00:01</td>\n",
       "      <td>building</td>\n",
       "      <td>assembly_shop</td>\n",
       "      <td>55e92310-cb8e-4754-b622-597e124b03de</td>\n",
       "      <td>NaN</td>\n",
       "    </tr>\n",
       "    <tr>\n",
       "      <th>1</th>\n",
       "      <td>2020-05-04 00:00:03</td>\n",
       "      <td>building</td>\n",
       "      <td>assembly_shop</td>\n",
       "      <td>c07b1c10-f477-44dc-81dc-ec82254b1347</td>\n",
       "      <td>NaN</td>\n",
       "    </tr>\n",
       "    <tr>\n",
       "      <th>2</th>\n",
       "      <td>2020-05-04 00:00:16</td>\n",
       "      <td>building</td>\n",
       "      <td>assembly_shop</td>\n",
       "      <td>6edd42cc-e753-4ff6-a947-2107cd560710</td>\n",
       "      <td>NaN</td>\n",
       "    </tr>\n",
       "    <tr>\n",
       "      <th>3</th>\n",
       "      <td>2020-05-04 00:00:16</td>\n",
       "      <td>building</td>\n",
       "      <td>assembly_shop</td>\n",
       "      <td>92c69003-d60a-444a-827f-8cc51bf6bf4c</td>\n",
       "      <td>NaN</td>\n",
       "    </tr>\n",
       "    <tr>\n",
       "      <th>4</th>\n",
       "      <td>2020-05-04 00:00:35</td>\n",
       "      <td>building</td>\n",
       "      <td>assembly_shop</td>\n",
       "      <td>cdc6bb92-0ccb-4490-9866-ef142f09139d</td>\n",
       "      <td>NaN</td>\n",
       "    </tr>\n",
       "  </tbody>\n",
       "</table>\n",
       "</div>"
      ],
      "text/plain": [
       "        event_datetime     event  building_type  \\\n",
       "0  2020-05-04 00:00:01  building  assembly_shop   \n",
       "1  2020-05-04 00:00:03  building  assembly_shop   \n",
       "2  2020-05-04 00:00:16  building  assembly_shop   \n",
       "3  2020-05-04 00:00:16  building  assembly_shop   \n",
       "4  2020-05-04 00:00:35  building  assembly_shop   \n",
       "\n",
       "                                user_id project_type  \n",
       "0  55e92310-cb8e-4754-b622-597e124b03de          NaN  \n",
       "1  c07b1c10-f477-44dc-81dc-ec82254b1347          NaN  \n",
       "2  6edd42cc-e753-4ff6-a947-2107cd560710          NaN  \n",
       "3  92c69003-d60a-444a-827f-8cc51bf6bf4c          NaN  \n",
       "4  cdc6bb92-0ccb-4490-9866-ef142f09139d          NaN  "
      ]
     },
     "metadata": {},
     "output_type": "display_data"
    },
    {
     "name": "stdout",
     "output_type": "stream",
     "text": [
      "<class 'pandas.core.frame.DataFrame'>\n",
      "RangeIndex: 135640 entries, 0 to 135639\n",
      "Data columns (total 5 columns):\n",
      " #   Column          Non-Null Count   Dtype \n",
      "---  ------          --------------   ----- \n",
      " 0   event_datetime  135640 non-null  object\n",
      " 1   event           135640 non-null  object\n",
      " 2   building_type   127957 non-null  object\n",
      " 3   user_id         135640 non-null  object\n",
      " 4   project_type    1866 non-null    object\n",
      "dtypes: object(5)\n",
      "memory usage: 5.2+ MB\n"
     ]
    }
   ],
   "source": [
    "# База по действиям в игре\n",
    "games_data = pd.read_csv('/datasets/game_actions.csv')\n",
    "display(games_data.head())\n",
    "games_data.info()"
   ]
  },
  {
   "cell_type": "code",
   "execution_count": 4,
   "metadata": {
    "scrolled": true
   },
   "outputs": [
    {
     "data": {
      "text/html": [
       "<div>\n",
       "<style scoped>\n",
       "    .dataframe tbody tr th:only-of-type {\n",
       "        vertical-align: middle;\n",
       "    }\n",
       "\n",
       "    .dataframe tbody tr th {\n",
       "        vertical-align: top;\n",
       "    }\n",
       "\n",
       "    .dataframe thead th {\n",
       "        text-align: right;\n",
       "    }\n",
       "</style>\n",
       "<table border=\"1\" class=\"dataframe\">\n",
       "  <thead>\n",
       "    <tr style=\"text-align: right;\">\n",
       "      <th></th>\n",
       "      <th>source</th>\n",
       "      <th>day</th>\n",
       "      <th>cost</th>\n",
       "    </tr>\n",
       "  </thead>\n",
       "  <tbody>\n",
       "    <tr>\n",
       "      <th>0</th>\n",
       "      <td>facebook_ads</td>\n",
       "      <td>2020-05-03</td>\n",
       "      <td>935.88</td>\n",
       "    </tr>\n",
       "    <tr>\n",
       "      <th>1</th>\n",
       "      <td>facebook_ads</td>\n",
       "      <td>2020-05-04</td>\n",
       "      <td>548.35</td>\n",
       "    </tr>\n",
       "    <tr>\n",
       "      <th>2</th>\n",
       "      <td>facebook_ads</td>\n",
       "      <td>2020-05-05</td>\n",
       "      <td>260.19</td>\n",
       "    </tr>\n",
       "    <tr>\n",
       "      <th>3</th>\n",
       "      <td>facebook_ads</td>\n",
       "      <td>2020-05-06</td>\n",
       "      <td>177.98</td>\n",
       "    </tr>\n",
       "    <tr>\n",
       "      <th>4</th>\n",
       "      <td>facebook_ads</td>\n",
       "      <td>2020-05-07</td>\n",
       "      <td>111.77</td>\n",
       "    </tr>\n",
       "    <tr>\n",
       "      <th>5</th>\n",
       "      <td>facebook_ads</td>\n",
       "      <td>2020-05-08</td>\n",
       "      <td>68.01</td>\n",
       "    </tr>\n",
       "    <tr>\n",
       "      <th>6</th>\n",
       "      <td>facebook_ads</td>\n",
       "      <td>2020-05-09</td>\n",
       "      <td>38.72</td>\n",
       "    </tr>\n",
       "    <tr>\n",
       "      <th>7</th>\n",
       "      <td>instagram_new_adverts</td>\n",
       "      <td>2020-05-03</td>\n",
       "      <td>943.20</td>\n",
       "    </tr>\n",
       "    <tr>\n",
       "      <th>8</th>\n",
       "      <td>instagram_new_adverts</td>\n",
       "      <td>2020-05-04</td>\n",
       "      <td>502.93</td>\n",
       "    </tr>\n",
       "    <tr>\n",
       "      <th>9</th>\n",
       "      <td>instagram_new_adverts</td>\n",
       "      <td>2020-05-05</td>\n",
       "      <td>313.97</td>\n",
       "    </tr>\n",
       "    <tr>\n",
       "      <th>10</th>\n",
       "      <td>instagram_new_adverts</td>\n",
       "      <td>2020-05-06</td>\n",
       "      <td>173.07</td>\n",
       "    </tr>\n",
       "    <tr>\n",
       "      <th>11</th>\n",
       "      <td>instagram_new_adverts</td>\n",
       "      <td>2020-05-07</td>\n",
       "      <td>109.92</td>\n",
       "    </tr>\n",
       "    <tr>\n",
       "      <th>12</th>\n",
       "      <td>instagram_new_adverts</td>\n",
       "      <td>2020-05-08</td>\n",
       "      <td>71.58</td>\n",
       "    </tr>\n",
       "    <tr>\n",
       "      <th>13</th>\n",
       "      <td>instagram_new_adverts</td>\n",
       "      <td>2020-05-09</td>\n",
       "      <td>46.78</td>\n",
       "    </tr>\n",
       "    <tr>\n",
       "      <th>14</th>\n",
       "      <td>yandex_direct</td>\n",
       "      <td>2020-05-03</td>\n",
       "      <td>969.14</td>\n",
       "    </tr>\n",
       "    <tr>\n",
       "      <th>15</th>\n",
       "      <td>yandex_direct</td>\n",
       "      <td>2020-05-04</td>\n",
       "      <td>554.65</td>\n",
       "    </tr>\n",
       "    <tr>\n",
       "      <th>16</th>\n",
       "      <td>yandex_direct</td>\n",
       "      <td>2020-05-05</td>\n",
       "      <td>308.23</td>\n",
       "    </tr>\n",
       "    <tr>\n",
       "      <th>17</th>\n",
       "      <td>yandex_direct</td>\n",
       "      <td>2020-05-06</td>\n",
       "      <td>180.92</td>\n",
       "    </tr>\n",
       "    <tr>\n",
       "      <th>18</th>\n",
       "      <td>yandex_direct</td>\n",
       "      <td>2020-05-07</td>\n",
       "      <td>114.43</td>\n",
       "    </tr>\n",
       "    <tr>\n",
       "      <th>19</th>\n",
       "      <td>yandex_direct</td>\n",
       "      <td>2020-05-08</td>\n",
       "      <td>62.96</td>\n",
       "    </tr>\n",
       "    <tr>\n",
       "      <th>20</th>\n",
       "      <td>yandex_direct</td>\n",
       "      <td>2020-05-09</td>\n",
       "      <td>42.78</td>\n",
       "    </tr>\n",
       "    <tr>\n",
       "      <th>21</th>\n",
       "      <td>youtube_channel_reklama</td>\n",
       "      <td>2020-05-03</td>\n",
       "      <td>454.22</td>\n",
       "    </tr>\n",
       "    <tr>\n",
       "      <th>22</th>\n",
       "      <td>youtube_channel_reklama</td>\n",
       "      <td>2020-05-04</td>\n",
       "      <td>259.07</td>\n",
       "    </tr>\n",
       "    <tr>\n",
       "      <th>23</th>\n",
       "      <td>youtube_channel_reklama</td>\n",
       "      <td>2020-05-05</td>\n",
       "      <td>147.04</td>\n",
       "    </tr>\n",
       "    <tr>\n",
       "      <th>24</th>\n",
       "      <td>youtube_channel_reklama</td>\n",
       "      <td>2020-05-06</td>\n",
       "      <td>88.51</td>\n",
       "    </tr>\n",
       "    <tr>\n",
       "      <th>25</th>\n",
       "      <td>youtube_channel_reklama</td>\n",
       "      <td>2020-05-07</td>\n",
       "      <td>55.74</td>\n",
       "    </tr>\n",
       "    <tr>\n",
       "      <th>26</th>\n",
       "      <td>youtube_channel_reklama</td>\n",
       "      <td>2020-05-08</td>\n",
       "      <td>40.22</td>\n",
       "    </tr>\n",
       "    <tr>\n",
       "      <th>27</th>\n",
       "      <td>youtube_channel_reklama</td>\n",
       "      <td>2020-05-09</td>\n",
       "      <td>23.31</td>\n",
       "    </tr>\n",
       "  </tbody>\n",
       "</table>\n",
       "</div>"
      ],
      "text/plain": [
       "                     source         day   cost\n",
       "0              facebook_ads  2020-05-03 935.88\n",
       "1              facebook_ads  2020-05-04 548.35\n",
       "2              facebook_ads  2020-05-05 260.19\n",
       "3              facebook_ads  2020-05-06 177.98\n",
       "4              facebook_ads  2020-05-07 111.77\n",
       "5              facebook_ads  2020-05-08  68.01\n",
       "6              facebook_ads  2020-05-09  38.72\n",
       "7     instagram_new_adverts  2020-05-03 943.20\n",
       "8     instagram_new_adverts  2020-05-04 502.93\n",
       "9     instagram_new_adverts  2020-05-05 313.97\n",
       "10    instagram_new_adverts  2020-05-06 173.07\n",
       "11    instagram_new_adverts  2020-05-07 109.92\n",
       "12    instagram_new_adverts  2020-05-08  71.58\n",
       "13    instagram_new_adverts  2020-05-09  46.78\n",
       "14            yandex_direct  2020-05-03 969.14\n",
       "15            yandex_direct  2020-05-04 554.65\n",
       "16            yandex_direct  2020-05-05 308.23\n",
       "17            yandex_direct  2020-05-06 180.92\n",
       "18            yandex_direct  2020-05-07 114.43\n",
       "19            yandex_direct  2020-05-08  62.96\n",
       "20            yandex_direct  2020-05-09  42.78\n",
       "21  youtube_channel_reklama  2020-05-03 454.22\n",
       "22  youtube_channel_reklama  2020-05-04 259.07\n",
       "23  youtube_channel_reklama  2020-05-05 147.04\n",
       "24  youtube_channel_reklama  2020-05-06  88.51\n",
       "25  youtube_channel_reklama  2020-05-07  55.74\n",
       "26  youtube_channel_reklama  2020-05-08  40.22\n",
       "27  youtube_channel_reklama  2020-05-09  23.31"
      ]
     },
     "metadata": {},
     "output_type": "display_data"
    },
    {
     "name": "stdout",
     "output_type": "stream",
     "text": [
      "<class 'pandas.core.frame.DataFrame'>\n",
      "RangeIndex: 28 entries, 0 to 27\n",
      "Data columns (total 3 columns):\n",
      " #   Column  Non-Null Count  Dtype  \n",
      "---  ------  --------------  -----  \n",
      " 0   source  28 non-null     object \n",
      " 1   day     28 non-null     object \n",
      " 2   cost    28 non-null     float64\n",
      "dtypes: float64(1), object(2)\n",
      "memory usage: 800.0+ bytes\n"
     ]
    }
   ],
   "source": [
    "# База по рекламе\n",
    "costs_data = pd.read_csv('/datasets/ad_costs.csv')\n",
    "display(costs_data)\n",
    "costs_data.info()"
   ]
  },
  {
   "cell_type": "markdown",
   "metadata": {},
   "source": [
    "**Вывод**"
   ]
  },
  {
   "cell_type": "markdown",
   "metadata": {},
   "source": [
    "Всего 3 таблицы, типы данных - float64, object.\n",
    "\n",
    "В таблице games_data количество значений в столбцах различается, это происходит из-за событий в игре, т.е. в строке где указан проект в столбце project_type, будут пустые значения в building_type. Даты нужно перевести в формат datetime.\n",
    "\n",
    "Согласно документации к данным:\n",
    "\n",
    "Таблица users_data (информация о пользователях):\n",
    "\n",
    "* `user_id` - идентификатор пользователя\n",
    "* `source` - источник, с которого пришёл пользователь, установивший приложение\n",
    "\n",
    "Таблица games_data (информация о действиях в игре):\n",
    "\n",
    "* `event_datetime` — время события\n",
    "* `event` — одно из трёх событий:\n",
    "    1. building — объект построен\n",
    "    2. finished_stage_1 — первый уровень завершён\n",
    "    3. project — проект завершён\n",
    "\n",
    "\n",
    "* `building_type` — один из трёх типов здания:\n",
    "    1. assembly_shop — сборочный цех\n",
    "    2. spaceport — космопорт\n",
    "    3. research_center — исследовательский центр\n",
    "\n",
    "\n",
    "* `user_id` — идентификатор пользователя\n",
    "* `project_type` — тип реализованного проекта\n",
    "\n",
    "Таблица costs_data (информация о рекламных активностях):\n",
    "\n",
    "* `day` - день, в который был совершен клик по объявлению\n",
    "* `source` - источник трафика\n",
    "* `cost` - стоимость кликов"
   ]
  },
  {
   "cell_type": "markdown",
   "metadata": {},
   "source": [
    "## 2. Подготовка данных "
   ]
  },
  {
   "cell_type": "code",
   "execution_count": 5,
   "metadata": {},
   "outputs": [
    {
     "name": "stdout",
     "output_type": "stream",
     "text": [
      "['building' 'finished_stage_1' 'project']\n",
      "['assembly_shop' 'spaceport' nan 'research_center']\n",
      "[nan 'satellite_orbital_assembly']\n"
     ]
    }
   ],
   "source": [
    "# Проверяю названия событий, зданий и проектов\n",
    "print(games_data['event'].unique())\n",
    "print(games_data['building_type'].unique())\n",
    "print(games_data['project_type'].unique())"
   ]
  },
  {
   "cell_type": "code",
   "execution_count": 6,
   "metadata": {},
   "outputs": [
    {
     "name": "stdout",
     "output_type": "stream",
     "text": [
      "Пропуски в users_data: user_id    0\n",
      "source     0\n",
      "dtype: int64\n",
      "Количество дубликатов в users_data: 0\n"
     ]
    }
   ],
   "source": [
    "# Проверяю наличие пропусков\n",
    "print('Пропуски в users_data:', users_data.isna().sum())\n",
    "# Проверяю наличие дубликатов\n",
    "print('Количество дубликатов в users_data:', users_data.duplicated().sum())"
   ]
  },
  {
   "cell_type": "code",
   "execution_count": 7,
   "metadata": {},
   "outputs": [
    {
     "name": "stdout",
     "output_type": "stream",
     "text": [
      "Пропуски в games_data: event_datetime         0\n",
      "event                  0\n",
      "building_type       7683\n",
      "user_id                0\n",
      "project_type      133774\n",
      "dtype: int64\n",
      "Количество дубликатов в games_data: 1\n",
      "Количество дубликатов в games_data: 0\n"
     ]
    }
   ],
   "source": [
    "# Проверяю наличие пропусков в games_data\n",
    "print('Пропуски в games_data:', games_data.isna().sum())\n",
    "# Проверяю наличие дубликатов в games_data\n",
    "print('Количество дубликатов в games_data:', games_data.duplicated().sum())\n",
    "# Удаляю дубликаты \n",
    "games_data = games_data.drop_duplicates().reset_index(drop = True) \n",
    "# Проверяю повторно наличие дубликатов\n",
    "print('Количество дубликатов в games_data:', games_data.duplicated().sum())"
   ]
  },
  {
   "cell_type": "code",
   "execution_count": 8,
   "metadata": {},
   "outputs": [
    {
     "name": "stdout",
     "output_type": "stream",
     "text": [
      "Количество дубликатов в users_data: 0\n",
      "Количество дубликатов в costs_data: 0\n"
     ]
    }
   ],
   "source": [
    "# Проверяю наличие дубликатов в users_data и costs_data\n",
    "print('Количество дубликатов в users_data:', users_data.duplicated().sum())\n",
    "print('Количество дубликатов в costs_data:', costs_data.duplicated().sum())"
   ]
  },
  {
   "cell_type": "code",
   "execution_count": 9,
   "metadata": {},
   "outputs": [
    {
     "data": {
      "text/html": [
       "<div>\n",
       "<style scoped>\n",
       "    .dataframe tbody tr th:only-of-type {\n",
       "        vertical-align: middle;\n",
       "    }\n",
       "\n",
       "    .dataframe tbody tr th {\n",
       "        vertical-align: top;\n",
       "    }\n",
       "\n",
       "    .dataframe thead th {\n",
       "        text-align: right;\n",
       "    }\n",
       "</style>\n",
       "<table border=\"1\" class=\"dataframe\">\n",
       "  <thead>\n",
       "    <tr style=\"text-align: right;\">\n",
       "      <th></th>\n",
       "      <th>event_datetime</th>\n",
       "      <th>event</th>\n",
       "      <th>building_type</th>\n",
       "      <th>user_id</th>\n",
       "      <th>project_type</th>\n",
       "      <th>event_date</th>\n",
       "      <th>day</th>\n",
       "    </tr>\n",
       "  </thead>\n",
       "  <tbody>\n",
       "    <tr>\n",
       "      <th>0</th>\n",
       "      <td>2020-05-04 00:00:01</td>\n",
       "      <td>building</td>\n",
       "      <td>assembly_shop</td>\n",
       "      <td>55e92310-cb8e-4754-b622-597e124b03de</td>\n",
       "      <td>NaN</td>\n",
       "      <td>2020-05-04</td>\n",
       "      <td>4</td>\n",
       "    </tr>\n",
       "    <tr>\n",
       "      <th>1</th>\n",
       "      <td>2020-05-04 00:00:03</td>\n",
       "      <td>building</td>\n",
       "      <td>assembly_shop</td>\n",
       "      <td>c07b1c10-f477-44dc-81dc-ec82254b1347</td>\n",
       "      <td>NaN</td>\n",
       "      <td>2020-05-04</td>\n",
       "      <td>4</td>\n",
       "    </tr>\n",
       "    <tr>\n",
       "      <th>2</th>\n",
       "      <td>2020-05-04 00:00:16</td>\n",
       "      <td>building</td>\n",
       "      <td>assembly_shop</td>\n",
       "      <td>6edd42cc-e753-4ff6-a947-2107cd560710</td>\n",
       "      <td>NaN</td>\n",
       "      <td>2020-05-04</td>\n",
       "      <td>4</td>\n",
       "    </tr>\n",
       "    <tr>\n",
       "      <th>3</th>\n",
       "      <td>2020-05-04 00:00:16</td>\n",
       "      <td>building</td>\n",
       "      <td>assembly_shop</td>\n",
       "      <td>92c69003-d60a-444a-827f-8cc51bf6bf4c</td>\n",
       "      <td>NaN</td>\n",
       "      <td>2020-05-04</td>\n",
       "      <td>4</td>\n",
       "    </tr>\n",
       "    <tr>\n",
       "      <th>4</th>\n",
       "      <td>2020-05-04 00:00:35</td>\n",
       "      <td>building</td>\n",
       "      <td>assembly_shop</td>\n",
       "      <td>cdc6bb92-0ccb-4490-9866-ef142f09139d</td>\n",
       "      <td>NaN</td>\n",
       "      <td>2020-05-04</td>\n",
       "      <td>4</td>\n",
       "    </tr>\n",
       "  </tbody>\n",
       "</table>\n",
       "</div>"
      ],
      "text/plain": [
       "       event_datetime     event  building_type  \\\n",
       "0 2020-05-04 00:00:01  building  assembly_shop   \n",
       "1 2020-05-04 00:00:03  building  assembly_shop   \n",
       "2 2020-05-04 00:00:16  building  assembly_shop   \n",
       "3 2020-05-04 00:00:16  building  assembly_shop   \n",
       "4 2020-05-04 00:00:35  building  assembly_shop   \n",
       "\n",
       "                                user_id project_type  event_date  day  \n",
       "0  55e92310-cb8e-4754-b622-597e124b03de          NaN  2020-05-04    4  \n",
       "1  c07b1c10-f477-44dc-81dc-ec82254b1347          NaN  2020-05-04    4  \n",
       "2  6edd42cc-e753-4ff6-a947-2107cd560710          NaN  2020-05-04    4  \n",
       "3  92c69003-d60a-444a-827f-8cc51bf6bf4c          NaN  2020-05-04    4  \n",
       "4  cdc6bb92-0ccb-4490-9866-ef142f09139d          NaN  2020-05-04    4  "
      ]
     },
     "metadata": {},
     "output_type": "display_data"
    },
    {
     "name": "stdout",
     "output_type": "stream",
     "text": [
      "<class 'pandas.core.frame.DataFrame'>\n",
      "RangeIndex: 135639 entries, 0 to 135638\n",
      "Data columns (total 7 columns):\n",
      " #   Column          Non-Null Count   Dtype         \n",
      "---  ------          --------------   -----         \n",
      " 0   event_datetime  135639 non-null  datetime64[ns]\n",
      " 1   event           135639 non-null  object        \n",
      " 2   building_type   127956 non-null  object        \n",
      " 3   user_id         135639 non-null  object        \n",
      " 4   project_type    1866 non-null    object        \n",
      " 5   event_date      135639 non-null  object        \n",
      " 6   day             135639 non-null  int64         \n",
      "dtypes: datetime64[ns](1), int64(1), object(5)\n",
      "memory usage: 7.2+ MB\n"
     ]
    }
   ],
   "source": [
    "# Перевожу дату в формат datetime\n",
    "games_data['event_datetime'] = pd.to_datetime(\n",
    "    games_data['event_datetime'], format='%Y-%m-%d')\n",
    "\n",
    "# Добавляю отдельный столбец дат\n",
    "games_data['event_date'] = games_data['event_datetime'].dt.date\n",
    "\n",
    "# Добавляю столбец day\n",
    "games_data['day'] = games_data['event_datetime'].dt.day\n",
    "display(games_data.head())\n",
    "games_data.info()"
   ]
  },
  {
   "cell_type": "markdown",
   "metadata": {},
   "source": [
    "**Вывод**"
   ]
  },
  {
   "cell_type": "markdown",
   "metadata": {},
   "source": [
    "1. Были проверены названия в колонках event, building_type и project_type на уникальность.\n",
    "2. Пропуски в таблице games_data связаны с игровой механикой, их можно оставить.\n",
    "3. Обнаружил и удалил явный дубликат (1 шт.).\n",
    "4. Перевел дату в формат datetime, а также добавил отдельный столбец дней."
   ]
  },
  {
   "cell_type": "markdown",
   "metadata": {},
   "source": [
    "## 3. Исследовательский анализ данных "
   ]
  },
  {
   "cell_type": "code",
   "execution_count": 10,
   "metadata": {},
   "outputs": [
    {
     "name": "stdout",
     "output_type": "stream",
     "text": [
      "Количество событий: 135639\n",
      "Типов событий: 3\n",
      "Количество пользователей: 13576\n"
     ]
    }
   ],
   "source": [
    "# Количество событий в games_data\n",
    "print('Количество событий:', games_data.shape[0])\n",
    "print('Типов событий:', games_data['event'].nunique())\n",
    "# Количество пользователей в games_data\n",
    "print('Количество пользователей:', games_data['user_id'].nunique())"
   ]
  },
  {
   "cell_type": "code",
   "execution_count": 11,
   "metadata": {},
   "outputs": [
    {
     "data": {
      "text/html": [
       "<div>\n",
       "<style scoped>\n",
       "    .dataframe tbody tr th:only-of-type {\n",
       "        vertical-align: middle;\n",
       "    }\n",
       "\n",
       "    .dataframe tbody tr th {\n",
       "        vertical-align: top;\n",
       "    }\n",
       "\n",
       "    .dataframe thead th {\n",
       "        text-align: right;\n",
       "    }\n",
       "</style>\n",
       "<table border=\"1\" class=\"dataframe\">\n",
       "  <thead>\n",
       "    <tr style=\"text-align: right;\">\n",
       "      <th></th>\n",
       "      <th>event</th>\n",
       "    </tr>\n",
       "  </thead>\n",
       "  <tbody>\n",
       "    <tr>\n",
       "      <th>count</th>\n",
       "      <td>13,576.00</td>\n",
       "    </tr>\n",
       "    <tr>\n",
       "      <th>mean</th>\n",
       "      <td>9.99</td>\n",
       "    </tr>\n",
       "    <tr>\n",
       "      <th>std</th>\n",
       "      <td>4.15</td>\n",
       "    </tr>\n",
       "    <tr>\n",
       "      <th>min</th>\n",
       "      <td>1.00</td>\n",
       "    </tr>\n",
       "    <tr>\n",
       "      <th>25%</th>\n",
       "      <td>6.00</td>\n",
       "    </tr>\n",
       "    <tr>\n",
       "      <th>50%</th>\n",
       "      <td>10.00</td>\n",
       "    </tr>\n",
       "    <tr>\n",
       "      <th>75%</th>\n",
       "      <td>13.00</td>\n",
       "    </tr>\n",
       "    <tr>\n",
       "      <th>max</th>\n",
       "      <td>22.00</td>\n",
       "    </tr>\n",
       "  </tbody>\n",
       "</table>\n",
       "</div>"
      ],
      "text/plain": [
       "          event\n",
       "count 13,576.00\n",
       "mean       9.99\n",
       "std        4.15\n",
       "min        1.00\n",
       "25%        6.00\n",
       "50%       10.00\n",
       "75%       13.00\n",
       "max       22.00"
      ]
     },
     "execution_count": 11,
     "metadata": {},
     "output_type": "execute_result"
    }
   ],
   "source": [
    "data_pivot = games_data.pivot_table(index = 'user_id', values = 'event', aggfunc = 'count')\n",
    "data_pivot.describe()"
   ]
  },
  {
   "cell_type": "markdown",
   "metadata": {},
   "source": [
    "В среднем пользователи совершают 10 действий в игре, максимальное значение 22."
   ]
  },
  {
   "cell_type": "code",
   "execution_count": 12,
   "metadata": {},
   "outputs": [
    {
     "name": "stdout",
     "output_type": "stream",
     "text": [
      "Минимальная дата: 2020-05-04 00:00:01\n",
      "Максимальная дата: 2020-06-05 12:32:49\n"
     ]
    }
   ],
   "source": [
    "# Минимальная и максимальная даты\n",
    "print('Минимальная дата:', games_data['event_datetime'].min())\n",
    "print('Максимальная дата:', games_data['event_datetime'].max())"
   ]
  },
  {
   "cell_type": "code",
   "execution_count": 13,
   "metadata": {},
   "outputs": [
    {
     "data": {
      "image/png": "[encoded data removed]",
      "text/plain": [
       "<Figure size 1080x648 with 1 Axes>"
      ]
     },
     "metadata": {
      "needs_background": "light"
     },
     "output_type": "display_data"
    }
   ],
   "source": [
    "# График распределения по дате\n",
    "games_data.groupby('event_date').agg({'event': 'count'})\\\n",
    ".plot(kind = 'bar', figsize = (15, 9)).get_legend().remove()\n",
    "plt.title('Распределение событий по дате')\n",
    "plt.xlabel('Даты')\n",
    "plt.ylabel('Число событий')\n",
    "plt.xticks(rotation = 45)\n",
    "plt.show()"
   ]
  },
  {
   "cell_type": "markdown",
   "metadata": {},
   "source": [
    "С 04.05.2020 и до 09.05.2020 наблюдается положительная динамика, число действий растет день ото дня. Пик активности игроков наблюдается 9 мая. После идет сильный спад, до начальных значений (около 8000), и дальше событий все меньше и меньше.  "
   ]
  },
  {
   "cell_type": "code",
   "execution_count": 14,
   "metadata": {},
   "outputs": [
    {
     "data": {
      "text/html": [
       "<div>\n",
       "<style scoped>\n",
       "    .dataframe tbody tr th:only-of-type {\n",
       "        vertical-align: middle;\n",
       "    }\n",
       "\n",
       "    .dataframe tbody tr th {\n",
       "        vertical-align: top;\n",
       "    }\n",
       "\n",
       "    .dataframe thead th {\n",
       "        text-align: right;\n",
       "    }\n",
       "</style>\n",
       "<table border=\"1\" class=\"dataframe\">\n",
       "  <thead>\n",
       "    <tr style=\"text-align: right;\">\n",
       "      <th></th>\n",
       "      <th>user_id</th>\n",
       "      <th>event</th>\n",
       "      <th>source</th>\n",
       "    </tr>\n",
       "  </thead>\n",
       "  <tbody>\n",
       "    <tr>\n",
       "      <th>0</th>\n",
       "      <td>0001f83c-c6ac-4621-b7f0-8a28b283ac30</td>\n",
       "      <td>not_finished</td>\n",
       "      <td>facebook_ads</td>\n",
       "    </tr>\n",
       "    <tr>\n",
       "      <th>1</th>\n",
       "      <td>00151b4f-ba38-44a8-a650-d7cf130a0105</td>\n",
       "      <td>not_finished</td>\n",
       "      <td>yandex_direct</td>\n",
       "    </tr>\n",
       "    <tr>\n",
       "      <th>2</th>\n",
       "      <td>001aaea6-3d14-43f1-8ca8-7f48820f17aa</td>\n",
       "      <td>not_finished</td>\n",
       "      <td>youtube_channel_reklama</td>\n",
       "    </tr>\n",
       "    <tr>\n",
       "      <th>3</th>\n",
       "      <td>001d39dc-366c-4021-9604-6a3b9ff01e25</td>\n",
       "      <td>finished_stage_1</td>\n",
       "      <td>instagram_new_adverts</td>\n",
       "    </tr>\n",
       "    <tr>\n",
       "      <th>4</th>\n",
       "      <td>002f508f-67b6-479f-814b-b05f00d4e995</td>\n",
       "      <td>not_finished</td>\n",
       "      <td>facebook_ads</td>\n",
       "    </tr>\n",
       "  </tbody>\n",
       "</table>\n",
       "</div>"
      ],
      "text/plain": [
       "                                user_id             event  \\\n",
       "0  0001f83c-c6ac-4621-b7f0-8a28b283ac30      not_finished   \n",
       "1  00151b4f-ba38-44a8-a650-d7cf130a0105      not_finished   \n",
       "2  001aaea6-3d14-43f1-8ca8-7f48820f17aa      not_finished   \n",
       "3  001d39dc-366c-4021-9604-6a3b9ff01e25  finished_stage_1   \n",
       "4  002f508f-67b6-479f-814b-b05f00d4e995      not_finished   \n",
       "\n",
       "                    source  \n",
       "0             facebook_ads  \n",
       "1            yandex_direct  \n",
       "2  youtube_channel_reklama  \n",
       "3    instagram_new_adverts  \n",
       "4             facebook_ads  "
      ]
     },
     "metadata": {},
     "output_type": "display_data"
    },
    {
     "name": "stdout",
     "output_type": "stream",
     "text": [
      "<class 'pandas.core.frame.DataFrame'>\n",
      "Int64Index: 15442 entries, 0 to 15441\n",
      "Data columns (total 3 columns):\n",
      " #   Column   Non-Null Count  Dtype \n",
      "---  ------   --------------  ----- \n",
      " 0   user_id  15442 non-null  object\n",
      " 1   event    15442 non-null  object\n",
      " 2   source   15442 non-null  object\n",
      "dtypes: object(3)\n",
      "memory usage: 482.6+ KB\n"
     ]
    }
   ],
   "source": [
    "# База профилей пользователей \n",
    "profiles_data = games_data.groupby('user_id').nunique()\n",
    "profiles_data = profiles_data.drop(columns = ['event', 'event_datetime', \n",
    "                                              'building_type', 'project_type', 'event_date', 'day'])\n",
    "# База пользователей, прошедших 1 уровень\n",
    "finish_level = games_data.query('event == \"finished_stage_1\" or event == \"project\"')\n",
    "\n",
    "# Объединение таблиц\n",
    "finish_data = profiles_data.merge(finish_level, on = 'user_id', how = 'outer')\n",
    "finish_data = finish_data.merge(users_data, on = 'user_id', how = 'outer') \n",
    "finish_data = finish_data.fillna('not_finished')\n",
    "finish_data = finish_data.drop(columns=['event_datetime', 'building_type', 'project_type', 'event_date', 'day'])\n",
    "display(finish_data.head())\n",
    "finish_data.info()"
   ]
  },
  {
   "cell_type": "code",
   "execution_count": 15,
   "metadata": {},
   "outputs": [
    {
     "data": {
      "text/html": [
       "<div>\n",
       "<style scoped>\n",
       "    .dataframe tbody tr th:only-of-type {\n",
       "        vertical-align: middle;\n",
       "    }\n",
       "\n",
       "    .dataframe tbody tr th {\n",
       "        vertical-align: top;\n",
       "    }\n",
       "\n",
       "    .dataframe thead th {\n",
       "        text-align: right;\n",
       "    }\n",
       "</style>\n",
       "<table border=\"1\" class=\"dataframe\">\n",
       "  <thead>\n",
       "    <tr style=\"text-align: right;\">\n",
       "      <th></th>\n",
       "      <th>user_id</th>\n",
       "    </tr>\n",
       "    <tr>\n",
       "      <th>event</th>\n",
       "      <th></th>\n",
       "    </tr>\n",
       "  </thead>\n",
       "  <tbody>\n",
       "    <tr>\n",
       "      <th>finished_stage_1</th>\n",
       "      <td>5817</td>\n",
       "    </tr>\n",
       "    <tr>\n",
       "      <th>not_finished</th>\n",
       "      <td>7759</td>\n",
       "    </tr>\n",
       "    <tr>\n",
       "      <th>project</th>\n",
       "      <td>1866</td>\n",
       "    </tr>\n",
       "  </tbody>\n",
       "</table>\n",
       "</div>"
      ],
      "text/plain": [
       "                  user_id\n",
       "event                    \n",
       "finished_stage_1     5817\n",
       "not_finished         7759\n",
       "project              1866"
      ]
     },
     "metadata": {},
     "output_type": "display_data"
    },
    {
     "data": {
      "image/png": "[encoded data removed]",
      "text/plain": [
       "<Figure size 1080x648 with 1 Axes>"
      ]
     },
     "metadata": {},
     "output_type": "display_data"
    }
   ],
   "source": [
    "# Распределение числа игроков по стратегиям\n",
    "strategy_data = finish_data.groupby('event').agg({'user_id': 'count', 'user_id': 'nunique'})\n",
    "display(strategy_data)\n",
    "\n",
    "# Круговая диаграмма по стратегиям игроков\n",
    "strategy_data.plot(kind = 'pie', subplots = True, autopct='%1.1f%%', figsize=(15,9))\n",
    "plt.title('Круговая диаграмма по стратегиям игроков')\n",
    "plt.ylabel('Стратегия')\n",
    "plt.legend(title='Стратегии', loc = 'upper left')\n",
    "plt.show()"
   ]
  },
  {
   "cell_type": "markdown",
   "metadata": {},
   "source": [
    "Для игроков можно выделить три типа поведения (стратегии) в игре: \n",
    "1. Пройти уровень, победив врага.\n",
    "2. Пройти уровень, реализав проект.\n",
    "3. Не проходить уровень, заниматься только строительством объектов.\n",
    "\n",
    "На графике видно, что 50.2% игроков так и не прошли первый уровень. Из 49.8% прошедших, 37.7% предпочли пройти уровень через pvp, остальные 12.1% через разработку орбитальной сборки спутников. "
   ]
  },
  {
   "cell_type": "code",
   "execution_count": 16,
   "metadata": {},
   "outputs": [
    {
     "data": {
      "text/html": [
       "<div>\n",
       "<style scoped>\n",
       "    .dataframe tbody tr th:only-of-type {\n",
       "        vertical-align: middle;\n",
       "    }\n",
       "\n",
       "    .dataframe tbody tr th {\n",
       "        vertical-align: top;\n",
       "    }\n",
       "\n",
       "    .dataframe thead th {\n",
       "        text-align: right;\n",
       "    }\n",
       "</style>\n",
       "<table border=\"1\" class=\"dataframe\">\n",
       "  <thead>\n",
       "    <tr style=\"text-align: right;\">\n",
       "      <th></th>\n",
       "      <th>cost</th>\n",
       "    </tr>\n",
       "    <tr>\n",
       "      <th>source</th>\n",
       "      <th></th>\n",
       "    </tr>\n",
       "  </thead>\n",
       "  <tbody>\n",
       "    <tr>\n",
       "      <th>yandex_direct</th>\n",
       "      <td>2,233.11</td>\n",
       "    </tr>\n",
       "    <tr>\n",
       "      <th>instagram_new_adverts</th>\n",
       "      <td>2,161.44</td>\n",
       "    </tr>\n",
       "    <tr>\n",
       "      <th>facebook_ads</th>\n",
       "      <td>2,140.90</td>\n",
       "    </tr>\n",
       "    <tr>\n",
       "      <th>youtube_channel_reklama</th>\n",
       "      <td>1,068.12</td>\n",
       "    </tr>\n",
       "  </tbody>\n",
       "</table>\n",
       "</div>"
      ],
      "text/plain": [
       "                            cost\n",
       "source                          \n",
       "yandex_direct           2,233.11\n",
       "instagram_new_adverts   2,161.44\n",
       "facebook_ads            2,140.90\n",
       "youtube_channel_reklama 1,068.12"
      ]
     },
     "metadata": {},
     "output_type": "display_data"
    }
   ],
   "source": [
    "# Таблица стоимости кликов по рекламным источникам за весь период \n",
    "cost_cac = costs_data.groupby('source').agg({'cost': 'sum'}).sort_values(by = 'cost', ascending = False)\n",
    "display(cost_cac)"
   ]
  },
  {
   "cell_type": "markdown",
   "metadata": {},
   "source": [
    "На первом месте yandex_direct, далее идут instagram_new_adverts и facebook_ads, стоимость этих 3 каналов приблизительно одинаковая. youtube_channel_reklama обошолся дешевле всего. \t"
   ]
  },
  {
   "cell_type": "code",
   "execution_count": 17,
   "metadata": {},
   "outputs": [
    {
     "data": {
      "text/html": [
       "<div>\n",
       "<style scoped>\n",
       "    .dataframe tbody tr th:only-of-type {\n",
       "        vertical-align: middle;\n",
       "    }\n",
       "\n",
       "    .dataframe tbody tr th {\n",
       "        vertical-align: top;\n",
       "    }\n",
       "\n",
       "    .dataframe thead th {\n",
       "        text-align: right;\n",
       "    }\n",
       "</style>\n",
       "<table border=\"1\" class=\"dataframe\">\n",
       "  <thead>\n",
       "    <tr style=\"text-align: right;\">\n",
       "      <th></th>\n",
       "      <th>user_id</th>\n",
       "    </tr>\n",
       "    <tr>\n",
       "      <th>source</th>\n",
       "      <th></th>\n",
       "    </tr>\n",
       "  </thead>\n",
       "  <tbody>\n",
       "    <tr>\n",
       "      <th>yandex_direct</th>\n",
       "      <td>4817</td>\n",
       "    </tr>\n",
       "    <tr>\n",
       "      <th>instagram_new_adverts</th>\n",
       "      <td>3347</td>\n",
       "    </tr>\n",
       "    <tr>\n",
       "      <th>facebook_ads</th>\n",
       "      <td>2726</td>\n",
       "    </tr>\n",
       "    <tr>\n",
       "      <th>youtube_channel_reklama</th>\n",
       "      <td>2686</td>\n",
       "    </tr>\n",
       "  </tbody>\n",
       "</table>\n",
       "</div>"
      ],
      "text/plain": [
       "                         user_id\n",
       "source                          \n",
       "yandex_direct               4817\n",
       "instagram_new_adverts       3347\n",
       "facebook_ads                2726\n",
       "youtube_channel_reklama     2686"
      ]
     },
     "metadata": {},
     "output_type": "display_data"
    }
   ],
   "source": [
    "# Таблица привлечения пользователей для рекламных каналов \n",
    "user_cac = finish_data.groupby('source').agg(\n",
    "    {'user_id': 'count', 'user_id': 'nunique'}).sort_values(by = 'user_id', ascending = False)\n",
    "display(user_cac)"
   ]
  },
  {
   "cell_type": "markdown",
   "metadata": {},
   "source": [
    "Канал yandex_direct привел больше всего людей. Также стоит обратить внимание на facebook_ads, его стоимость в два раза больше, чем у youtube_channel_reklama, а пользователей он привел не намного больше. (facebook_ads - 2726, youtube_channel_reklama\t- 2686)      "
   ]
  },
  {
   "cell_type": "code",
   "execution_count": 18,
   "metadata": {},
   "outputs": [
    {
     "data": {
      "text/html": [
       "<div>\n",
       "<style scoped>\n",
       "    .dataframe tbody tr th:only-of-type {\n",
       "        vertical-align: middle;\n",
       "    }\n",
       "\n",
       "    .dataframe tbody tr th {\n",
       "        vertical-align: top;\n",
       "    }\n",
       "\n",
       "    .dataframe thead th {\n",
       "        text-align: right;\n",
       "    }\n",
       "</style>\n",
       "<table border=\"1\" class=\"dataframe\">\n",
       "  <thead>\n",
       "    <tr style=\"text-align: right;\">\n",
       "      <th></th>\n",
       "      <th>user_id</th>\n",
       "      <th>cost</th>\n",
       "      <th>cac</th>\n",
       "    </tr>\n",
       "    <tr>\n",
       "      <th>source</th>\n",
       "      <th></th>\n",
       "      <th></th>\n",
       "      <th></th>\n",
       "    </tr>\n",
       "  </thead>\n",
       "  <tbody>\n",
       "    <tr>\n",
       "      <th>facebook_ads</th>\n",
       "      <td>2726</td>\n",
       "      <td>2,140.90</td>\n",
       "      <td>0.79</td>\n",
       "    </tr>\n",
       "    <tr>\n",
       "      <th>instagram_new_adverts</th>\n",
       "      <td>3347</td>\n",
       "      <td>2,161.44</td>\n",
       "      <td>0.65</td>\n",
       "    </tr>\n",
       "    <tr>\n",
       "      <th>yandex_direct</th>\n",
       "      <td>4817</td>\n",
       "      <td>2,233.11</td>\n",
       "      <td>0.46</td>\n",
       "    </tr>\n",
       "    <tr>\n",
       "      <th>youtube_channel_reklama</th>\n",
       "      <td>2686</td>\n",
       "      <td>1,068.12</td>\n",
       "      <td>0.40</td>\n",
       "    </tr>\n",
       "  </tbody>\n",
       "</table>\n",
       "</div>"
      ],
      "text/plain": [
       "                         user_id     cost  cac\n",
       "source                                        \n",
       "facebook_ads                2726 2,140.90 0.79\n",
       "instagram_new_adverts       3347 2,161.44 0.65\n",
       "yandex_direct               4817 2,233.11 0.46\n",
       "youtube_channel_reklama     2686 1,068.12 0.40"
      ]
     },
     "metadata": {},
     "output_type": "display_data"
    }
   ],
   "source": [
    "# Просчитываю САС \n",
    "cac_data = user_cac.merge(cost_cac, on = 'source', how = 'outer')\n",
    "cac_data['cac'] = cac_data['cost'] / cac_data['user_id']\n",
    "display(cac_data.sort_values(by = 'cac', ascending = False))"
   ]
  },
  {
   "cell_type": "markdown",
   "metadata": {},
   "source": [
    "Наибольшая стоимость привлечения клиентов у facebook_ads - 0.79, наименьшая 0.4 у youtube_channel_reklama. Лучше всего справился yandex_direct, при относительно небольшой стоимости привлечения клиента 0.46, этот источник привел больше всего пользователей."
   ]
  },
  {
   "cell_type": "code",
   "execution_count": 19,
   "metadata": {},
   "outputs": [
    {
     "data": {
      "text/html": [
       "<div>\n",
       "<style scoped>\n",
       "    .dataframe tbody tr th:only-of-type {\n",
       "        vertical-align: middle;\n",
       "    }\n",
       "\n",
       "    .dataframe tbody tr th {\n",
       "        vertical-align: top;\n",
       "    }\n",
       "\n",
       "    .dataframe thead th {\n",
       "        text-align: right;\n",
       "    }\n",
       "</style>\n",
       "<table border=\"1\" class=\"dataframe\">\n",
       "  <thead>\n",
       "    <tr style=\"text-align: right;\">\n",
       "      <th>source</th>\n",
       "      <th>facebook_ads</th>\n",
       "      <th>instagram_new_adverts</th>\n",
       "      <th>yandex_direct</th>\n",
       "      <th>youtube_channel_reklama</th>\n",
       "    </tr>\n",
       "    <tr>\n",
       "      <th>event</th>\n",
       "      <th></th>\n",
       "      <th></th>\n",
       "      <th></th>\n",
       "      <th></th>\n",
       "    </tr>\n",
       "  </thead>\n",
       "  <tbody>\n",
       "    <tr>\n",
       "      <th>finished_stage_1</th>\n",
       "      <td>1150</td>\n",
       "      <td>1466</td>\n",
       "      <td>2042</td>\n",
       "      <td>1159</td>\n",
       "    </tr>\n",
       "    <tr>\n",
       "      <th>not_finished</th>\n",
       "      <td>1576</td>\n",
       "      <td>1881</td>\n",
       "      <td>2775</td>\n",
       "      <td>1527</td>\n",
       "    </tr>\n",
       "    <tr>\n",
       "      <th>project</th>\n",
       "      <td>391</td>\n",
       "      <td>476</td>\n",
       "      <td>620</td>\n",
       "      <td>379</td>\n",
       "    </tr>\n",
       "  </tbody>\n",
       "</table>\n",
       "</div>"
      ],
      "text/plain": [
       "source            facebook_ads  instagram_new_adverts  yandex_direct  \\\n",
       "event                                                                  \n",
       "finished_stage_1          1150                   1466           2042   \n",
       "not_finished              1576                   1881           2775   \n",
       "project                    391                    476            620   \n",
       "\n",
       "source            youtube_channel_reklama  \n",
       "event                                      \n",
       "finished_stage_1                     1159  \n",
       "not_finished                         1527  \n",
       "project                               379  "
      ]
     },
     "metadata": {},
     "output_type": "display_data"
    },
    {
     "data": {
      "image/png": "[encoded data removed]",
      "text/plain": [
       "<Figure size 1080x648 with 1 Axes>"
      ]
     },
     "metadata": {
      "needs_background": "light"
     },
     "output_type": "display_data"
    }
   ],
   "source": [
    "# Таблица и диаграмма по стратегии игроков для разных рекламных каналов\n",
    "source_pivot = (finish_data.pivot_table(index = 'event', columns ='source',\n",
    "                            values = 'user_id', aggfunc = 'nunique'))                              \n",
    "display(source_pivot)\n",
    "source_pivot.plot.bar(figsize=(15, 9))\n",
    "plt.title('Столбчатая диаграмма по стратегии игроков для разных рекламных каналов')\n",
    "plt.xticks(rotation = 0)\n",
    "plt.show()"
   ]
  },
  {
   "cell_type": "markdown",
   "metadata": {},
   "source": [
    "Таблица показывает значения больше, чем должно быть, видимо какие то пользователи, помимо пвп, еще и реализуют проект. Изучив график можно сделать вывод, что взаимосвязи между рекламным источником и конкретной стратегией нет."
   ]
  },
  {
   "cell_type": "code",
   "execution_count": 20,
   "metadata": {},
   "outputs": [
    {
     "data": {
      "text/html": [
       "<div>\n",
       "<style scoped>\n",
       "    .dataframe tbody tr th:only-of-type {\n",
       "        vertical-align: middle;\n",
       "    }\n",
       "\n",
       "    .dataframe tbody tr th {\n",
       "        vertical-align: top;\n",
       "    }\n",
       "\n",
       "    .dataframe thead th {\n",
       "        text-align: right;\n",
       "    }\n",
       "</style>\n",
       "<table border=\"1\" class=\"dataframe\">\n",
       "  <thead>\n",
       "    <tr style=\"text-align: right;\">\n",
       "      <th>source</th>\n",
       "      <th>facebook_ads</th>\n",
       "      <th>instagram_new_adverts</th>\n",
       "      <th>yandex_direct</th>\n",
       "      <th>youtube_channel_reklama</th>\n",
       "    </tr>\n",
       "    <tr>\n",
       "      <th>building_type</th>\n",
       "      <th></th>\n",
       "      <th></th>\n",
       "      <th></th>\n",
       "      <th></th>\n",
       "    </tr>\n",
       "  </thead>\n",
       "  <tbody>\n",
       "    <tr>\n",
       "      <th>assembly_shop</th>\n",
       "      <td>11117</td>\n",
       "      <td>13431</td>\n",
       "      <td>19295</td>\n",
       "      <td>10651</td>\n",
       "    </tr>\n",
       "    <tr>\n",
       "      <th>research_center</th>\n",
       "      <td>2945</td>\n",
       "      <td>3537</td>\n",
       "      <td>4952</td>\n",
       "      <td>2703</td>\n",
       "    </tr>\n",
       "    <tr>\n",
       "      <th>spaceport</th>\n",
       "      <td>12069</td>\n",
       "      <td>14847</td>\n",
       "      <td>20785</td>\n",
       "      <td>11624</td>\n",
       "    </tr>\n",
       "  </tbody>\n",
       "</table>\n",
       "</div>"
      ],
      "text/plain": [
       "source           facebook_ads  instagram_new_adverts  yandex_direct  \\\n",
       "building_type                                                         \n",
       "assembly_shop           11117                  13431          19295   \n",
       "research_center          2945                   3537           4952   \n",
       "spaceport               12069                  14847          20785   \n",
       "\n",
       "source           youtube_channel_reklama  \n",
       "building_type                             \n",
       "assembly_shop                      10651  \n",
       "research_center                     2703  \n",
       "spaceport                          11624  "
      ]
     },
     "metadata": {},
     "output_type": "display_data"
    },
    {
     "data": {
      "image/png": "[encoded data removed]",
      "text/plain": [
       "<Figure size 1080x648 with 1 Axes>"
      ]
     },
     "metadata": {
      "needs_background": "light"
     },
     "output_type": "display_data"
    }
   ],
   "source": [
    "# Таблица и диаграмма по постройке объектов для разных рекламных каналов\n",
    "good_data = games_data.merge(users_data, on = 'user_id', how = 'outer')\n",
    "buildings_pivot = (good_data.pivot_table(index = 'building_type', columns ='source',\n",
    "                            values = 'user_id', aggfunc = 'count'))                              \n",
    "display(buildings_pivot)\n",
    "buildings_pivot.plot.bar(figsize=(15, 9))\n",
    "plt.title('Столбчатая диаграмма по постройке объектов для разных рекламных каналов')\n",
    "plt.xticks(rotation = 0)\n",
    "plt.show()"
   ]
  },
  {
   "cell_type": "markdown",
   "metadata": {},
   "source": [
    "Больше всего построенных зданий у пользователей, пришедших по yandex_direct, вообщем ничего удивительного, этот канал привел больше всего пользователей. Чаще всего и больше всего игроки строят spaceport, далее идет assembly_shop, его строят почти также часто, меньше всего research_center. Очевидно это связано с игровой механикой. Взаимосвязи между рекламным источником и типом построек не обнаружено.       "
   ]
  },
  {
   "cell_type": "code",
   "execution_count": 21,
   "metadata": {},
   "outputs": [
    {
     "data": {
      "text/html": [
       "<div>\n",
       "<style scoped>\n",
       "    .dataframe tbody tr th:only-of-type {\n",
       "        vertical-align: middle;\n",
       "    }\n",
       "\n",
       "    .dataframe tbody tr th {\n",
       "        vertical-align: top;\n",
       "    }\n",
       "\n",
       "    .dataframe thead th {\n",
       "        text-align: right;\n",
       "    }\n",
       "</style>\n",
       "<table border=\"1\" class=\"dataframe\">\n",
       "  <thead>\n",
       "    <tr style=\"text-align: right;\">\n",
       "      <th></th>\n",
       "      <th>user_id</th>\n",
       "      <th>event_datetime</th>\n",
       "      <th>event_datetime</th>\n",
       "      <th>complete_level_time</th>\n",
       "    </tr>\n",
       "  </thead>\n",
       "  <tbody>\n",
       "    <tr>\n",
       "      <th>91</th>\n",
       "      <td>03990bc0-47b6-44ce-9f8b-3afb1a97d0e7</td>\n",
       "      <td>2020-05-07 16:40:32</td>\n",
       "      <td>2020-05-08 02:19:33</td>\n",
       "      <td>0 days 09:39:01</td>\n",
       "    </tr>\n",
       "    <tr>\n",
       "      <th>4687</th>\n",
       "      <td>ced7b368-818f-48f6-9461-2346de0892c5</td>\n",
       "      <td>2020-05-04 00:13:21</td>\n",
       "      <td>2020-05-04 19:47:29</td>\n",
       "      <td>0 days 19:34:08</td>\n",
       "    </tr>\n",
       "    <tr>\n",
       "      <th>4547</th>\n",
       "      <td>c8180f71-68dc-4fd5-ba6e-ba5f5d0d28f7</td>\n",
       "      <td>2020-05-08 16:08:29</td>\n",
       "      <td>2020-05-09 11:52:33</td>\n",
       "      <td>0 days 19:44:04</td>\n",
       "    </tr>\n",
       "    <tr>\n",
       "      <th>825</th>\n",
       "      <td>2204ae7f-892b-494d-bd58-28816ff35eb5</td>\n",
       "      <td>2020-05-07 02:25:27</td>\n",
       "      <td>2020-05-08 01:02:51</td>\n",
       "      <td>0 days 22:37:24</td>\n",
       "    </tr>\n",
       "    <tr>\n",
       "      <th>1032</th>\n",
       "      <td>2ab1cc5a-413a-408e-ba76-01de8e12bead</td>\n",
       "      <td>2020-05-05 13:25:04</td>\n",
       "      <td>2020-05-06 13:43:12</td>\n",
       "      <td>1 days 00:18:08</td>\n",
       "    </tr>\n",
       "  </tbody>\n",
       "</table>\n",
       "</div>"
      ],
      "text/plain": [
       "                                   user_id      event_datetime  \\\n",
       "91    03990bc0-47b6-44ce-9f8b-3afb1a97d0e7 2020-05-07 16:40:32   \n",
       "4687  ced7b368-818f-48f6-9461-2346de0892c5 2020-05-04 00:13:21   \n",
       "4547  c8180f71-68dc-4fd5-ba6e-ba5f5d0d28f7 2020-05-08 16:08:29   \n",
       "825   2204ae7f-892b-494d-bd58-28816ff35eb5 2020-05-07 02:25:27   \n",
       "1032  2ab1cc5a-413a-408e-ba76-01de8e12bead 2020-05-05 13:25:04   \n",
       "\n",
       "          event_datetime complete_level_time  \n",
       "91   2020-05-08 02:19:33     0 days 09:39:01  \n",
       "4687 2020-05-04 19:47:29     0 days 19:34:08  \n",
       "4547 2020-05-09 11:52:33     0 days 19:44:04  \n",
       "825  2020-05-08 01:02:51     0 days 22:37:24  \n",
       "1032 2020-05-06 13:43:12     1 days 00:18:08  "
      ]
     },
     "metadata": {},
     "output_type": "display_data"
    },
    {
     "name": "stdout",
     "output_type": "stream",
     "text": [
      "Самое быстрое прохождение уровня:  0 days 09:39:01\n",
      "Самое долгое прохождение уровня:  30 days 21:58:53\n",
      "Прохождение уровня в среднем:  11 days 20:37:59.561801616\n"
     ]
    }
   ],
   "source": [
    "# Таблица со временем завершения уровня\n",
    "user_filter = finish_data[finish_data['event'] != 'not_finished']['user_id']\n",
    "level_time_data = (games_data.query('user_id in @user_filter').groupby('user_id')\n",
    "              .agg({'event_datetime':['min','max']}))\n",
    "\n",
    "level_time_data['complete_level_time'] = level_time_data[('event_datetime', 'max')] \\\n",
    "                                       - level_time_data[('event_datetime', 'min')]\n",
    "\n",
    "level_time_data.columns = level_time_data.columns.droplevel(1)\n",
    "level_time_data = level_time_data.reset_index().sort_values(by = 'complete_level_time')\n",
    "display(level_time_data.head())\n",
    "\n",
    "print('Самое быстрое прохождение уровня: ', level_time_data['complete_level_time'].min())\n",
    "print('Самое долгое прохождение уровня: ', level_time_data['complete_level_time'].max())\n",
    "print('Прохождение уровня в среднем: ', level_time_data['complete_level_time'].mean())"
   ]
  },
  {
   "cell_type": "code",
   "execution_count": 22,
   "metadata": {},
   "outputs": [
    {
     "data": {
      "text/html": [
       "<div>\n",
       "<style scoped>\n",
       "    .dataframe tbody tr th:only-of-type {\n",
       "        vertical-align: middle;\n",
       "    }\n",
       "\n",
       "    .dataframe tbody tr th {\n",
       "        vertical-align: top;\n",
       "    }\n",
       "\n",
       "    .dataframe thead th {\n",
       "        text-align: right;\n",
       "    }\n",
       "</style>\n",
       "<table border=\"1\" class=\"dataframe\">\n",
       "  <thead>\n",
       "    <tr style=\"text-align: right;\">\n",
       "      <th></th>\n",
       "      <th>day</th>\n",
       "    </tr>\n",
       "    <tr>\n",
       "      <th>source</th>\n",
       "      <th></th>\n",
       "    </tr>\n",
       "  </thead>\n",
       "  <tbody>\n",
       "    <tr>\n",
       "      <th>facebook_ads</th>\n",
       "      <td>10.15</td>\n",
       "    </tr>\n",
       "    <tr>\n",
       "      <th>instagram_new_adverts</th>\n",
       "      <td>10.09</td>\n",
       "    </tr>\n",
       "    <tr>\n",
       "      <th>yandex_direct</th>\n",
       "      <td>9.90</td>\n",
       "    </tr>\n",
       "    <tr>\n",
       "      <th>youtube_channel_reklama</th>\n",
       "      <td>9.87</td>\n",
       "    </tr>\n",
       "  </tbody>\n",
       "</table>\n",
       "</div>"
      ],
      "text/plain": [
       "                          day\n",
       "source                       \n",
       "facebook_ads            10.15\n",
       "instagram_new_adverts   10.09\n",
       "yandex_direct            9.90\n",
       "youtube_channel_reklama  9.87"
      ]
     },
     "metadata": {},
     "output_type": "display_data"
    },
    {
     "data": {
      "image/png": "[encoded data removed]",
      "text/plain": [
       "<Figure size 1080x648 with 1 Axes>"
      ]
     },
     "metadata": {
      "needs_background": "light"
     },
     "output_type": "display_data"
    },
    {
     "data": {
      "text/html": [
       "<div>\n",
       "<style scoped>\n",
       "    .dataframe tbody tr th:only-of-type {\n",
       "        vertical-align: middle;\n",
       "    }\n",
       "\n",
       "    .dataframe tbody tr th {\n",
       "        vertical-align: top;\n",
       "    }\n",
       "\n",
       "    .dataframe thead th {\n",
       "        text-align: right;\n",
       "    }\n",
       "</style>\n",
       "<table border=\"1\" class=\"dataframe\">\n",
       "  <thead>\n",
       "    <tr style=\"text-align: right;\">\n",
       "      <th></th>\n",
       "      <th>day</th>\n",
       "    </tr>\n",
       "  </thead>\n",
       "  <tbody>\n",
       "    <tr>\n",
       "      <th>count</th>\n",
       "      <td>13,576.00</td>\n",
       "    </tr>\n",
       "    <tr>\n",
       "      <th>mean</th>\n",
       "      <td>9.99</td>\n",
       "    </tr>\n",
       "    <tr>\n",
       "      <th>std</th>\n",
       "      <td>4.15</td>\n",
       "    </tr>\n",
       "    <tr>\n",
       "      <th>min</th>\n",
       "      <td>1.00</td>\n",
       "    </tr>\n",
       "    <tr>\n",
       "      <th>25%</th>\n",
       "      <td>6.00</td>\n",
       "    </tr>\n",
       "    <tr>\n",
       "      <th>50%</th>\n",
       "      <td>10.00</td>\n",
       "    </tr>\n",
       "    <tr>\n",
       "      <th>75%</th>\n",
       "      <td>13.00</td>\n",
       "    </tr>\n",
       "    <tr>\n",
       "      <th>max</th>\n",
       "      <td>22.00</td>\n",
       "    </tr>\n",
       "  </tbody>\n",
       "</table>\n",
       "</div>"
      ],
      "text/plain": [
       "            day\n",
       "count 13,576.00\n",
       "mean       9.99\n",
       "std        4.15\n",
       "min        1.00\n",
       "25%        6.00\n",
       "50%       10.00\n",
       "75%       13.00\n",
       "max       22.00"
      ]
     },
     "execution_count": 22,
     "metadata": {},
     "output_type": "execute_result"
    }
   ],
   "source": [
    "# Таблица и диаграмма по дням проведенным в игре для разных рекламных каналов\n",
    "day_data = good_data.groupby('user_id').agg({'day': 'count'})\n",
    "time_data = profiles_data.merge(day_data, on = 'user_id', how = 'outer')\n",
    "time_data = time_data.merge(users_data, on = 'user_id', how = 'outer')\n",
    "time_group = time_data.groupby('source').agg({'day': 'mean'})\n",
    "display(time_group)\n",
    "time_group.plot.bar(figsize=(15, 9)).get_legend().remove()\n",
    "plt.title('Столбчатая диаграмма по дням проведенным в игре для разных рекламных каналов')\n",
    "plt.xticks(rotation = 0)\n",
    "plt.show()\n",
    "time_data.describe()"
   ]
  },
  {
   "cell_type": "markdown",
   "metadata": {},
   "source": [
    "В данных графике и таблице мы видим, что в среднем проведенное в игре время, за исследуемый период времени, приблизительно одинаковое. Около 10 дней для всех рекламных источников.  "
   ]
  },
  {
   "cell_type": "markdown",
   "metadata": {},
   "source": [
    "**Вывод**"
   ]
  },
  {
   "cell_type": "markdown",
   "metadata": {},
   "source": [
    "1. 50.2% игроков не прошли первый уровень. Из 49.8% прошедших, 37.7% предпочли пройти уровень через pvp, остальные 12.1% через разработку орбитальной сборки спутников.\n",
    "2. Наибольшая стоимость привлечения клиентов у facebook_ads - 0.79, наименьшая 0.4 у youtube_channel_reklama. Лучше всего справился yandex_direct, при относительно небольшой стоимости привлечения клиента 0.46, этот источник привел больше всего пользователей. Также стоит обратить внимание на facebook_ads, его стоимость почти в два раза больше, чем у youtube_channel_reklama, а клиентов он привел не намного больше. (facebook_ads - 2726, youtube_channel_reklama - 2686)\n",
    "3. Таблица показывает значения больше, чем должно быть, видимо какие то пользователи, помимо пвп, еще и реализуют проект. Изучив график можно сделать вывод, что взаимосвязи между рекламным источником и конкретной стратегией нет.\n",
    "4. Больше всего построенных зданий у пользователей, пришедших по yandex_direct, вообщем ничего удивительного, этот канал привел больше всего пользователей. Чаще всего и больше всего игроки строят spaceport, далее идет assembly_shop, его строят почти также часто, меньше всего research_center. Очевидно это связано с игровой механикой. Взаимосвязи между рекламным источником и типом построек не обнаружено.\n",
    "5. Самое быстрое прохождение уровня: 09:39:01, в среднем игроки затрачивают 11 дней на прохождение уровня.\n",
    "6. В данных графике и таблице мы видим, что в среднем проведенное в игре время, за исследуемый период времени, приблизительно одинаковое. Около 10 дней для всех рекламных источников."
   ]
  },
  {
   "cell_type": "markdown",
   "metadata": {},
   "source": [
    "## 4. Проверка гипотез "
   ]
  },
  {
   "cell_type": "markdown",
   "metadata": {},
   "source": [
    "Формулировка гипотез:\n",
    "    \n",
    "1. Нулевая гипотеза – Время завершения уровня не различается в зависимости от способа прохождения, параметры равны.\n",
    "Альтернативная гипотеза – Время завершения уровня различается в зависимости от способа прохождения, параметры не равны.\n",
    "    \n",
    "2. Нулевая гипотеза - Количество построенных зданий не различается у пользователей с разных рекламных каналов, параметры равны.\n",
    "Альтернативная гипотеза - Количество построенных зданий различается у пользователей с разных рекламных каналов, параметры не равны.\n",
    "    \n",
    "H₀ всегда формулируется так, чтобы использовать знак равенства.  "
   ]
  },
  {
   "cell_type": "code",
   "execution_count": 23,
   "metadata": {},
   "outputs": [
    {
     "name": "stdout",
     "output_type": "stream",
     "text": [
      "count   7,683.00\n",
      "mean      293.95\n",
      "std        95.95\n",
      "min         9.65\n",
      "25%       231.50\n",
      "50%       286.52\n",
      "75%       350.21\n",
      "max       741.98\n",
      "Name: complete_level_time, dtype: float64\n"
     ]
    },
    {
     "data": {
      "image/png": "[encoded data removed]",
      "text/plain": [
       "<Figure size 864x648 with 1 Axes>"
      ]
     },
     "metadata": {
      "needs_background": "light"
     },
     "output_type": "display_data"
    }
   ],
   "source": [
    "# Гистограмма по времени\n",
    "complete_data = level_time_data.merge(finish_data, on = 'user_id', how = 'outer')\n",
    "complete_data['complete_level_time'] = complete_data['complete_level_time'] / np.timedelta64(1, 'h')\n",
    "print(complete_data['complete_level_time'].describe())\n",
    "complete_data['complete_level_time'].hist(bins=10, figsize=(12,9))\n",
    "plt.title('Гистограмма по времени завершения уровня')\n",
    "plt.xlabel('Время (ч)')\n",
    "plt.ylabel('Частота')\n",
    "plt.show()"
   ]
  },
  {
   "cell_type": "markdown",
   "metadata": {},
   "source": [
    "Гистограмма показывает, что пик значений приходится на ~230 - 300. Распределение нормальное."
   ]
  },
  {
   "cell_type": "code",
   "execution_count": 24,
   "metadata": {},
   "outputs": [
    {
     "data": {
      "image/png": "[encoded data removed]",
      "text/plain": [
       "<Figure size 864x360 with 1 Axes>"
      ]
     },
     "metadata": {
      "needs_background": "light"
     },
     "output_type": "display_data"
    }
   ],
   "source": [
    "# Диаграмма размаха по времени прохождения\n",
    "plt.figure(figsize = (12, 5))\n",
    "sns.boxplot(x = 'complete_level_time', data = complete_data)\n",
    "plt.title('Диаграмма размаха по времени прохождения')\n",
    "plt.show()"
   ]
  },
  {
   "cell_type": "markdown",
   "metadata": {},
   "source": [
    "Диаграмма размаха показывает, что в данных есть выбросы. Нужно сделать срез (от 61 до 515)."
   ]
  },
  {
   "cell_type": "code",
   "execution_count": 25,
   "metadata": {},
   "outputs": [
    {
     "name": "stdout",
     "output_type": "stream",
     "text": [
      "p-значение:  7.136258032620015e-53\n",
      "Отвергаем нулевую гипотезу\n"
     ]
    }
   ],
   "source": [
    "# Проверка гипотезы\n",
    "complete_data = complete_data.query('complete_level_time < 515 and complete_level_time > 61')\n",
    "pvp_time = complete_data[complete_data['event'] == 'finished_stage_1']['complete_level_time']\n",
    "project_time = complete_data[complete_data['event'] == 'project']['complete_level_time']\n",
    "\n",
    "alpha = 0.05\n",
    "results = st.ttest_ind(pvp_time, project_time) \n",
    "print('p-значение: ', results.pvalue)\n",
    "\n",
    "if results.pvalue < alpha: \n",
    "    print(\"Отвергаем нулевую гипотезу\")\n",
    "else:\n",
    "    print(\"Не получилось отвергнуть нулевую гипотезу\")"
   ]
  },
  {
   "cell_type": "markdown",
   "metadata": {},
   "source": [
    "Время завершения уровня различается в зависимости от способа прохождения, параметры не равны."
   ]
  },
  {
   "cell_type": "code",
   "execution_count": 26,
   "metadata": {},
   "outputs": [
    {
     "data": {
      "text/html": [
       "<div>\n",
       "<style scoped>\n",
       "    .dataframe tbody tr th:only-of-type {\n",
       "        vertical-align: middle;\n",
       "    }\n",
       "\n",
       "    .dataframe tbody tr th {\n",
       "        vertical-align: top;\n",
       "    }\n",
       "\n",
       "    .dataframe thead th {\n",
       "        text-align: right;\n",
       "    }\n",
       "</style>\n",
       "<table border=\"1\" class=\"dataframe\">\n",
       "  <thead>\n",
       "    <tr style=\"text-align: right;\">\n",
       "      <th></th>\n",
       "      <th>user_id</th>\n",
       "      <th>assembly_shop</th>\n",
       "      <th>research_center</th>\n",
       "      <th>spaceport</th>\n",
       "      <th>total</th>\n",
       "      <th>source</th>\n",
       "    </tr>\n",
       "  </thead>\n",
       "  <tbody>\n",
       "    <tr>\n",
       "      <th>0</th>\n",
       "      <td>0001f83c-c6ac-4621-b7f0-8a28b283ac30</td>\n",
       "      <td>6.00</td>\n",
       "      <td>1.00</td>\n",
       "      <td>6.00</td>\n",
       "      <td>13</td>\n",
       "      <td>facebook_ads</td>\n",
       "    </tr>\n",
       "    <tr>\n",
       "      <th>1</th>\n",
       "      <td>00151b4f-ba38-44a8-a650-d7cf130a0105</td>\n",
       "      <td>4.00</td>\n",
       "      <td>NaN</td>\n",
       "      <td>5.00</td>\n",
       "      <td>9</td>\n",
       "      <td>yandex_direct</td>\n",
       "    </tr>\n",
       "    <tr>\n",
       "      <th>2</th>\n",
       "      <td>001aaea6-3d14-43f1-8ca8-7f48820f17aa</td>\n",
       "      <td>2.00</td>\n",
       "      <td>NaN</td>\n",
       "      <td>2.00</td>\n",
       "      <td>4</td>\n",
       "      <td>youtube_channel_reklama</td>\n",
       "    </tr>\n",
       "    <tr>\n",
       "      <th>3</th>\n",
       "      <td>001d39dc-366c-4021-9604-6a3b9ff01e25</td>\n",
       "      <td>4.00</td>\n",
       "      <td>NaN</td>\n",
       "      <td>4.00</td>\n",
       "      <td>8</td>\n",
       "      <td>instagram_new_adverts</td>\n",
       "    </tr>\n",
       "    <tr>\n",
       "      <th>4</th>\n",
       "      <td>002f508f-67b6-479f-814b-b05f00d4e995</td>\n",
       "      <td>3.00</td>\n",
       "      <td>1.00</td>\n",
       "      <td>8.00</td>\n",
       "      <td>12</td>\n",
       "      <td>facebook_ads</td>\n",
       "    </tr>\n",
       "  </tbody>\n",
       "</table>\n",
       "</div>"
      ],
      "text/plain": [
       "                                user_id  assembly_shop  research_center  \\\n",
       "0  0001f83c-c6ac-4621-b7f0-8a28b283ac30           6.00             1.00   \n",
       "1  00151b4f-ba38-44a8-a650-d7cf130a0105           4.00              NaN   \n",
       "2  001aaea6-3d14-43f1-8ca8-7f48820f17aa           2.00              NaN   \n",
       "3  001d39dc-366c-4021-9604-6a3b9ff01e25           4.00              NaN   \n",
       "4  002f508f-67b6-479f-814b-b05f00d4e995           3.00             1.00   \n",
       "\n",
       "   spaceport  total                   source  \n",
       "0       6.00     13             facebook_ads  \n",
       "1       5.00      9            yandex_direct  \n",
       "2       2.00      4  youtube_channel_reklama  \n",
       "3       4.00      8    instagram_new_adverts  \n",
       "4       8.00     12             facebook_ads  "
      ]
     },
     "metadata": {},
     "output_type": "display_data"
    }
   ],
   "source": [
    "# Таблица построенных зданий у пользователей \n",
    "buildings_hyp = (good_data.pivot_table(index = 'user_id', columns ='building_type',\n",
    "                            values = 'event', aggfunc = 'count'))      \n",
    "buildings_hyp['total'] = buildings_hyp.sum(axis=1)\n",
    "buildings_hyp['total'] = buildings_hyp['total'].astype('int')\n",
    "buildings_hyp = buildings_hyp.merge(users_data, on = 'user_id', how = 'outer')\n",
    "display(buildings_hyp.head())\n",
    "facebook_ads = buildings_hyp[buildings_hyp['source'] == 'facebook_ads']['total']\n",
    "yandex_direct = buildings_hyp[buildings_hyp['source'] == 'yandex_direct']['total']\n",
    "youtube_channel_reklama = buildings_hyp[buildings_hyp['source'] == 'youtube_channel_reklama']['total']\n",
    "instagram_new_adverts = buildings_hyp[buildings_hyp['source'] == 'instagram_new_adverts']['total']"
   ]
  },
  {
   "cell_type": "code",
   "execution_count": 27,
   "metadata": {},
   "outputs": [
    {
     "name": "stdout",
     "output_type": "stream",
     "text": [
      "Пересекающихся пользователей в каналах facebook_ads и yandex_direct = 0\n",
      "Пересекающихся пользователей в каналах facebook_ads и youtube_channel_reklama = 0\n",
      "Пересекающихся пользователей в каналах facebook_ads и instagram_new_adverts = 0\n",
      "Пересекающихся пользователей в каналах yandex_direct и youtube_channel_reklama = 0\n",
      "Пересекающихся пользователей в каналах yandex_direct и instagram_new_adverts = 0\n",
      "Пересекающихся пользователей в каналах youtube_channel_reklama и instagram_new_adverts = 0\n"
     ]
    }
   ],
   "source": [
    "# Проверка на пересекающихся пользователей в группах\n",
    "a = buildings_hyp[buildings_hyp['source'] == 'facebook_ads']['user_id']\n",
    "b = buildings_hyp[buildings_hyp['source'] == 'yandex_direct']['user_id']\n",
    "c = buildings_hyp[buildings_hyp['source'] == 'youtube_channel_reklama']['user_id']\n",
    "d = buildings_hyp[buildings_hyp['source'] == 'instagram_new_adverts']['user_id']\n",
    "result_1 = list(set(a) & set(b)) \n",
    "result_2 = list(set(a) & set(c))\n",
    "result_3 = list(set(a) & set(d))\n",
    "result_4 = list(set(b) & set(c))\n",
    "result_5 = list(set(b) & set(d))\n",
    "result_6 = list(set(c) & set(d))\n",
    "print('Пересекающихся пользователей в каналах facebook_ads и yandex_direct =', len(result_1))\n",
    "print('Пересекающихся пользователей в каналах facebook_ads и youtube_channel_reklama =', len(result_2))\n",
    "print('Пересекающихся пользователей в каналах facebook_ads и instagram_new_adverts =', len(result_3))\n",
    "print('Пересекающихся пользователей в каналах yandex_direct и youtube_channel_reklama =', len(result_4))\n",
    "print('Пересекающихся пользователей в каналах yandex_direct и instagram_new_adverts =', len(result_5))\n",
    "print('Пересекающихся пользователей в каналах youtube_channel_reklama и instagram_new_adverts =', len(result_6))"
   ]
  },
  {
   "cell_type": "code",
   "execution_count": 28,
   "metadata": {},
   "outputs": [
    {
     "data": {
      "image/png": "[encoded data removed]",
      "text/plain": [
       "<Figure size 864x360 with 1 Axes>"
      ]
     },
     "metadata": {
      "needs_background": "light"
     },
     "output_type": "display_data"
    },
    {
     "name": "stdout",
     "output_type": "stream",
     "text": [
      "count   13,576.00\n",
      "mean         9.43\n",
      "std          3.86\n",
      "min          1.00\n",
      "25%          6.00\n",
      "50%         10.00\n",
      "75%         12.00\n",
      "max         20.00\n",
      "Name: total, dtype: float64\n"
     ]
    }
   ],
   "source": [
    "# Гистограмма по постройкам\n",
    "plt.figure(figsize = (12, 5))\n",
    "sns.distplot(facebook_ads, label = 'facebook', kde = True)\n",
    "sns.distplot(yandex_direct, label = 'yandex', kde = True)\n",
    "sns.distplot(youtube_channel_reklama, label = 'youtube', kde = True)\n",
    "sns.distplot(instagram_new_adverts, label = 'instagram', kde = True)\n",
    "plt.title('Гистограмма по постройкам для разных рекламных каналов')\n",
    "plt.legend()\n",
    "plt.show()\n",
    "print(buildings_hyp['total'].describe())"
   ]
  },
  {
   "cell_type": "markdown",
   "metadata": {},
   "source": [
    "На графике видно, что распределение с двумя пиками. Для проведения анализа лучше провести непараметрический тест Уилкоксона-Манна-Уитни, из-за выбросов в данных."
   ]
  },
  {
   "cell_type": "code",
   "execution_count": 29,
   "metadata": {},
   "outputs": [
    {
     "name": "stdout",
     "output_type": "stream",
     "text": [
      "Рекламные источники:  facebook_ads/yandex_direct\n",
      "p-значение:  0.014383638324054673\n",
      "Не получилось отвергнуть нулевую гипотезу\n",
      "---------------------------------------------\n",
      "Рекламные источники:  facebook_ads/youtube_channel_reklama\n",
      "p-значение:  0.010788356347116118\n",
      "Не получилось отвергнуть нулевую гипотезу\n",
      "---------------------------------------------\n",
      "Рекламные источники:  facebook_ads/instagram_new_adverts\n",
      "p-значение:  0.38716367306843236\n",
      "Не получилось отвергнуть нулевую гипотезу\n",
      "---------------------------------------------\n",
      "Рекламные источники:  yandex_direct/youtube_channel_reklama\n",
      "p-значение:  0.6514154789589316\n",
      "Не получилось отвергнуть нулевую гипотезу\n",
      "---------------------------------------------\n",
      "Рекламные источники:  yandex_direct/instagram_new_adverts\n",
      "p-значение:  0.1018893572665771\n",
      "Не получилось отвергнуть нулевую гипотезу\n",
      "---------------------------------------------\n",
      "Рекламные источники:  youtube_channel_reklama/instagram_new_adverts\n",
      "p-значение:  0.06600456483354944\n",
      "Не получилось отвергнуть нулевую гипотезу\n",
      "---------------------------------------------\n"
     ]
    }
   ],
   "source": [
    "# Функция для проверки гипотез\n",
    "def check_hypothesis(source_1, source_2, tital):\n",
    "    print('Рекламные источники: ', tital)\n",
    "    bonferroni_alpha = alpha / 6  \n",
    "    results = st.mannwhitneyu(source_1, source_2)\n",
    "    print('p-значение: ', results.pvalue)\n",
    "    if results.pvalue < bonferroni_alpha: \n",
    "        print(\"Отвергаем нулевую гипотезу\")\n",
    "    else:\n",
    "        print(\"Не получилось отвергнуть нулевую гипотезу\")\n",
    "    print('---------------------------------------------')\n",
    "        \n",
    "check_hypothesis(facebook_ads, yandex_direct, 'facebook_ads/yandex_direct')\n",
    "check_hypothesis(facebook_ads, youtube_channel_reklama, 'facebook_ads/youtube_channel_reklama')\n",
    "check_hypothesis(facebook_ads, instagram_new_adverts, 'facebook_ads/instagram_new_adverts')\n",
    "check_hypothesis(yandex_direct, youtube_channel_reklama, 'yandex_direct/youtube_channel_reklama')\n",
    "check_hypothesis(yandex_direct, instagram_new_adverts, 'yandex_direct/instagram_new_adverts')\n",
    "check_hypothesis(youtube_channel_reklama, instagram_new_adverts, 'youtube_channel_reklama/instagram_new_adverts')"
   ]
  },
  {
   "cell_type": "markdown",
   "metadata": {},
   "source": [
    "Количество построенных зданий у пользователей с разных рекламных каналов приблизительно одинаково. Параметры равны. "
   ]
  },
  {
   "cell_type": "markdown",
   "metadata": {},
   "source": [
    "**Вывод**"
   ]
  },
  {
   "cell_type": "markdown",
   "metadata": {},
   "source": [
    "Формулировка гипотез:\n",
    "    \n",
    "* Нулевая гипотеза – Время завершения уровня не различается в зависимости от способа прохождения, параметры равны.\n",
    "Альтернативная гипотеза – Время завершения уровня различается в зависимости от способа прохождения, параметры не равны.\n",
    "    \n",
    "* Нулевая гипотеза - Количество построенных зданий не различается у пользователей с разных рекламных каналов, параметры равны.\n",
    "Альтернативная гипотеза - Количество построенных зданий различается у пользователей с разных рекламных каналов, параметры не равны.\n",
    "\n",
    "1. Исходя из всех построенных графиков, можно сделать вывод, что пик значений приходится на ~230 - 300. Распределение нормальное, в данных есть выбросы. Нужно сделать срез (от 61 до 515).\n",
    "2. Время завершения уровня различается в зависимости от способа прохождения, параметры не равны.\n",
    "3. На графике видно, что распределение с двумя пиками, пересекающихся пользователей не обнаружено. Для проведения анализа лучше провести непараметрический тест Уилкоксона-Манна-Уитни, из-за выбросов в данных. Сравнивается 4 рекламных источника это множественное сравнение. Для корректности результатов, использовал метод Бонферрони.  \n",
    "4. Количество построенных зданий у пользователей с разных рекламных каналов приблизительно одинаково. Параметры равны."
   ]
  },
  {
   "cell_type": "markdown",
   "metadata": {},
   "source": [
    "## 5. Общий вывод "
   ]
  },
  {
   "cell_type": "markdown",
   "metadata": {},
   "source": [
    "По данным о событиях, совершенных в мобильной игре«Космические братья», можно сделать несколько выводов:\n",
    "\n",
    "1. На этапе предобработки были проверены названия в колонках на уникальность. Также были обнаружены и удалены явные дубликаты в количестве 1 штуки, пропуски в таблице games_data связаны с игровой механикой, их можно оставить. Данные о датах были преобразованы в формат datetime, а также был добавлен отдельный столбец для дней. Количество событий: 135639, типов событий: 3, количество уникальных пользователей: 13576.\n",
    "2. Для игроков можно выделить три типа поведения (стратегии) в игре:\n",
    "* Пройти уровень, победив врага.\n",
    "* Пройти уровень, реализав проект.\n",
    "* Не проходить уровень, заниматься только строительством объектов.\n",
    "\n",
    "На графике видно, что 50.2% игроков так и не прошли первый уровень. Из 49.8% прошедших, 37.7% предпочли пройти уровень через pvp, остальные 12.1% через разработку орбитальной сборки спутников.\n",
    "\n",
    "3. Наибольшая стоимость привлечения клиентов у facebook_ads - 0.79, наименьшая 0.4 у youtube_channel_reklama. Лучше всего справился yandex_direct, при относительно небольшой стоимости привлечения клиента 0.46, этот источник привел больше всего пользователей. Также стоит обратить внимание на facebook_ads, его стоимость почти в два раза больше, чем у youtube_channel_reklama, а клиентов он привел не намного больше. (facebook_ads - 2726, youtube_channel_reklama - 2686). Таблица показывает значения больше, чем должно быть, видимо какие то пользователи, помимо пвп, еще и реализуют проект. Изучив график можно сделать вывод, что взаимосвязи между рекламным источником и конкретной стратегией нет.\n",
    "4. Больше всего построенных зданий у пользователей, пришедших по yandex_direct, вообщем ничего удивительного, этот канал привел больше всего пользователей. Чаще всего и больше всего игроки строят spaceport, далее идет assembly_shop, его строят почти также часто, меньше всего research_center. Очевидно это связано с игровой механикой. Взаимосвязи между рекламным источником и типом построек не обнаружено.\n",
    "5. Самое быстрое прохождение уровня: 09:39:01, в среднем игроки затрачивают 11 дней на прохождение уровня. По данным из графика и таблицы можно сделать вывод, что в среднем проведенное в игре время, за исследуемый период времени, приблизительно одинаковое. Около 10 дней для всех рекламных источников. \n",
    "6. Время завершения уровня различается в зависимости от способа прохождения, параметры не равны.\n",
    "7. Количество построенных зданий у пользователей с разных рекламных каналов приблизительно одинаково. Параметры равны."
   ]
  }
 ],
 "metadata": {
  "ExecuteTimeLog": [
   {
    "duration": 1467,
    "start_time": "2022-05-06T18:45:06.318Z"
   },
   {
    "duration": 191,
    "start_time": "2022-05-06T18:45:30.930Z"
   },
   {
    "duration": 504,
    "start_time": "2022-05-06T18:46:02.241Z"
   },
   {
    "duration": 334,
    "start_time": "2022-05-06T18:46:26.594Z"
   },
   {
    "duration": 24,
    "start_time": "2022-05-06T18:48:11.785Z"
   },
   {
    "duration": 12,
    "start_time": "2022-05-06T18:48:21.860Z"
   },
   {
    "duration": 352,
    "start_time": "2022-05-06T18:48:32.333Z"
   },
   {
    "duration": 10,
    "start_time": "2022-05-06T18:50:47.442Z"
   },
   {
    "duration": 82,
    "start_time": "2022-05-06T18:52:39.958Z"
   },
   {
    "duration": 45,
    "start_time": "2022-05-06T19:42:48.182Z"
   },
   {
    "duration": 47,
    "start_time": "2022-05-06T19:44:41.098Z"
   },
   {
    "duration": 44,
    "start_time": "2022-05-06T19:45:50.264Z"
   },
   {
    "duration": 126,
    "start_time": "2022-05-06T19:50:28.529Z"
   },
   {
    "duration": 21,
    "start_time": "2022-05-06T19:53:42.474Z"
   },
   {
    "duration": 24,
    "start_time": "2022-05-06T19:58:14.330Z"
   },
   {
    "duration": 32,
    "start_time": "2022-05-06T20:01:13.902Z"
   },
   {
    "duration": 483,
    "start_time": "2022-05-06T20:03:49.346Z"
   },
   {
    "duration": 97,
    "start_time": "2022-05-06T20:39:37.942Z"
   },
   {
    "duration": 6,
    "start_time": "2022-05-06T20:40:15.682Z"
   },
   {
    "duration": 4,
    "start_time": "2022-05-06T20:40:35.498Z"
   },
   {
    "duration": 36,
    "start_time": "2022-05-06T20:48:43.495Z"
   },
   {
    "duration": 27,
    "start_time": "2022-05-06T20:49:06.616Z"
   },
   {
    "duration": 21,
    "start_time": "2022-05-06T20:49:16.087Z"
   },
   {
    "duration": 34,
    "start_time": "2022-05-06T20:50:01.656Z"
   },
   {
    "duration": 43,
    "start_time": "2022-05-06T22:22:12.905Z"
   },
   {
    "duration": 2140,
    "start_time": "2022-05-06T22:36:23.301Z"
   },
   {
    "duration": 42,
    "start_time": "2022-05-06T22:36:33.413Z"
   },
   {
    "duration": 39,
    "start_time": "2022-05-06T22:38:00.833Z"
   },
   {
    "duration": 56,
    "start_time": "2022-05-06T22:38:23.336Z"
   },
   {
    "duration": 5,
    "start_time": "2022-05-06T22:40:41.572Z"
   },
   {
    "duration": 1362,
    "start_time": "2022-05-06T22:43:44.738Z"
   },
   {
    "duration": 179,
    "start_time": "2022-05-06T22:43:46.102Z"
   },
   {
    "duration": 436,
    "start_time": "2022-05-06T22:43:46.283Z"
   },
   {
    "duration": 100,
    "start_time": "2022-05-06T22:43:46.721Z"
   },
   {
    "duration": 22,
    "start_time": "2022-05-06T22:43:46.823Z"
   },
   {
    "duration": 12,
    "start_time": "2022-05-06T22:43:46.846Z"
   },
   {
    "duration": 280,
    "start_time": "2022-05-06T22:43:46.859Z"
   },
   {
    "duration": 9,
    "start_time": "2022-05-06T22:43:47.141Z"
   },
   {
    "duration": 126,
    "start_time": "2022-05-06T22:43:47.152Z"
   },
   {
    "duration": 50,
    "start_time": "2022-05-06T22:43:47.280Z"
   },
   {
    "duration": 75,
    "start_time": "2022-05-06T22:43:47.331Z"
   },
   {
    "duration": 5,
    "start_time": "2022-05-06T22:43:47.408Z"
   },
   {
    "duration": 361,
    "start_time": "2022-05-06T22:43:47.414Z"
   },
   {
    "duration": 135,
    "start_time": "2022-05-06T22:43:47.777Z"
   },
   {
    "duration": 0,
    "start_time": "2022-05-06T22:43:47.914Z"
   },
   {
    "duration": 0,
    "start_time": "2022-05-06T22:43:47.916Z"
   },
   {
    "duration": 0,
    "start_time": "2022-05-06T22:43:47.917Z"
   },
   {
    "duration": 12,
    "start_time": "2022-05-06T23:11:18.302Z"
   },
   {
    "duration": 165,
    "start_time": "2022-05-06T23:14:56.843Z"
   },
   {
    "duration": 14,
    "start_time": "2022-05-06T23:16:42.303Z"
   },
   {
    "duration": 10,
    "start_time": "2022-05-06T23:17:13.030Z"
   },
   {
    "duration": 11,
    "start_time": "2022-05-06T23:17:32.957Z"
   },
   {
    "duration": 11,
    "start_time": "2022-05-06T23:19:15.818Z"
   },
   {
    "duration": 11,
    "start_time": "2022-05-06T23:19:29.755Z"
   },
   {
    "duration": 11,
    "start_time": "2022-05-06T23:19:36.210Z"
   },
   {
    "duration": 12,
    "start_time": "2022-05-06T23:25:30.718Z"
   },
   {
    "duration": 10,
    "start_time": "2022-05-06T23:27:27.725Z"
   },
   {
    "duration": 49,
    "start_time": "2022-05-06T23:27:36.972Z"
   },
   {
    "duration": 11,
    "start_time": "2022-05-06T23:28:16.258Z"
   },
   {
    "duration": 11,
    "start_time": "2022-05-06T23:28:49.298Z"
   },
   {
    "duration": 11,
    "start_time": "2022-05-06T23:28:51.017Z"
   },
   {
    "duration": 10,
    "start_time": "2022-05-06T23:29:18.857Z"
   },
   {
    "duration": 140,
    "start_time": "2022-05-06T23:29:29.631Z"
   },
   {
    "duration": 11,
    "start_time": "2022-05-06T23:29:41.991Z"
   },
   {
    "duration": 140,
    "start_time": "2022-05-06T23:34:04.897Z"
   },
   {
    "duration": 128,
    "start_time": "2022-05-06T23:34:24.025Z"
   },
   {
    "duration": 184,
    "start_time": "2022-05-06T23:34:40.941Z"
   },
   {
    "duration": 145,
    "start_time": "2022-05-06T23:34:47.757Z"
   },
   {
    "duration": 144,
    "start_time": "2022-05-06T23:35:25.119Z"
   },
   {
    "duration": 380,
    "start_time": "2022-05-06T23:38:33.423Z"
   },
   {
    "duration": 499,
    "start_time": "2022-05-06T23:38:43.759Z"
   },
   {
    "duration": 426,
    "start_time": "2022-05-06T23:39:11.039Z"
   },
   {
    "duration": 491,
    "start_time": "2022-05-06T23:39:51.957Z"
   },
   {
    "duration": 783,
    "start_time": "2022-05-06T23:42:26.946Z"
   },
   {
    "duration": 11,
    "start_time": "2022-05-06T23:42:35.722Z"
   },
   {
    "duration": 48,
    "start_time": "2022-05-06T23:43:22.432Z"
   },
   {
    "duration": 495,
    "start_time": "2022-05-06T23:44:23.160Z"
   },
   {
    "duration": 432,
    "start_time": "2022-05-06T23:50:28.197Z"
   },
   {
    "duration": 569,
    "start_time": "2022-05-06T23:56:02.695Z"
   },
   {
    "duration": 426,
    "start_time": "2022-05-06T23:56:29.399Z"
   },
   {
    "duration": 579,
    "start_time": "2022-05-07T00:06:02.905Z"
   },
   {
    "duration": 1143,
    "start_time": "2022-05-07T00:06:19.326Z"
   },
   {
    "duration": 137,
    "start_time": "2022-05-07T00:08:23.469Z"
   },
   {
    "duration": 137,
    "start_time": "2022-05-07T00:08:37.954Z"
   },
   {
    "duration": 71,
    "start_time": "2022-05-07T00:08:48.922Z"
   },
   {
    "duration": 9,
    "start_time": "2022-05-07T00:08:55.938Z"
   },
   {
    "duration": 149,
    "start_time": "2022-05-07T00:12:16.427Z"
   },
   {
    "duration": 15,
    "start_time": "2022-05-07T00:12:17.699Z"
   },
   {
    "duration": 76,
    "start_time": "2022-05-07T00:12:22.410Z"
   },
   {
    "duration": 54,
    "start_time": "2022-05-07T00:12:24.817Z"
   },
   {
    "duration": 25,
    "start_time": "2022-05-07T00:12:32.394Z"
   },
   {
    "duration": 67,
    "start_time": "2022-05-07T00:13:19.456Z"
   },
   {
    "duration": 23,
    "start_time": "2022-05-07T00:13:20.297Z"
   },
   {
    "duration": 46,
    "start_time": "2022-05-07T00:13:24.231Z"
   },
   {
    "duration": 24,
    "start_time": "2022-05-07T00:13:46.080Z"
   },
   {
    "duration": 72,
    "start_time": "2022-05-07T00:14:09.206Z"
   },
   {
    "duration": 23,
    "start_time": "2022-05-07T00:14:11.296Z"
   },
   {
    "duration": 18,
    "start_time": "2022-05-07T00:18:37.051Z"
   },
   {
    "duration": 24,
    "start_time": "2022-05-07T00:18:50.886Z"
   },
   {
    "duration": 150,
    "start_time": "2022-05-07T00:19:23.003Z"
   },
   {
    "duration": 134,
    "start_time": "2022-05-07T00:19:31.123Z"
   },
   {
    "duration": 18,
    "start_time": "2022-05-07T00:19:35.497Z"
   },
   {
    "duration": 24,
    "start_time": "2022-05-07T00:19:37.940Z"
   },
   {
    "duration": 25,
    "start_time": "2022-05-07T00:21:06.559Z"
   },
   {
    "duration": 4,
    "start_time": "2022-05-07T00:21:25.143Z"
   },
   {
    "duration": 155,
    "start_time": "2022-05-07T00:21:39.319Z"
   },
   {
    "duration": 29,
    "start_time": "2022-05-07T00:28:43.803Z"
   },
   {
    "duration": 24,
    "start_time": "2022-05-07T00:28:54.889Z"
   },
   {
    "duration": 27,
    "start_time": "2022-05-07T00:30:15.167Z"
   },
   {
    "duration": 29,
    "start_time": "2022-05-07T00:30:58.805Z"
   },
   {
    "duration": 48,
    "start_time": "2022-05-07T00:31:18.349Z"
   },
   {
    "duration": 22,
    "start_time": "2022-05-07T00:31:22.110Z"
   },
   {
    "duration": 1225,
    "start_time": "2022-05-07T00:32:27.972Z"
   },
   {
    "duration": 212,
    "start_time": "2022-05-07T00:32:29.199Z"
   },
   {
    "duration": 466,
    "start_time": "2022-05-07T00:32:29.412Z"
   },
   {
    "duration": 210,
    "start_time": "2022-05-07T00:32:29.880Z"
   },
   {
    "duration": 23,
    "start_time": "2022-05-07T00:32:30.091Z"
   },
   {
    "duration": 11,
    "start_time": "2022-05-07T00:32:30.116Z"
   },
   {
    "duration": 298,
    "start_time": "2022-05-07T00:32:30.129Z"
   },
   {
    "duration": 10,
    "start_time": "2022-05-07T00:32:30.429Z"
   },
   {
    "duration": 130,
    "start_time": "2022-05-07T00:32:30.441Z"
   },
   {
    "duration": 50,
    "start_time": "2022-05-07T00:32:30.573Z"
   },
   {
    "duration": 72,
    "start_time": "2022-05-07T00:32:30.625Z"
   },
   {
    "duration": 5,
    "start_time": "2022-05-07T00:32:30.699Z"
   },
   {
    "duration": 371,
    "start_time": "2022-05-07T00:32:30.706Z"
   },
   {
    "duration": 2409,
    "start_time": "2022-05-07T00:32:31.079Z"
   },
   {
    "duration": 0,
    "start_time": "2022-05-07T00:32:33.490Z"
   },
   {
    "duration": 0,
    "start_time": "2022-05-07T00:32:33.491Z"
   },
   {
    "duration": 0,
    "start_time": "2022-05-07T00:32:33.492Z"
   },
   {
    "duration": 0,
    "start_time": "2022-05-07T00:32:33.493Z"
   },
   {
    "duration": 0,
    "start_time": "2022-05-07T00:32:33.494Z"
   },
   {
    "duration": 0,
    "start_time": "2022-05-07T00:32:33.495Z"
   },
   {
    "duration": 2478,
    "start_time": "2022-05-07T00:32:43.910Z"
   },
   {
    "duration": 2,
    "start_time": "2022-05-07T00:33:44.116Z"
   },
   {
    "duration": 22,
    "start_time": "2022-05-07T00:34:40.185Z"
   },
   {
    "duration": 596,
    "start_time": "2022-05-07T00:36:06.568Z"
   },
   {
    "duration": 25,
    "start_time": "2022-05-07T00:40:21.481Z"
   },
   {
    "duration": 25,
    "start_time": "2022-05-07T00:40:24.024Z"
   },
   {
    "duration": 51,
    "start_time": "2022-05-07T00:41:02.095Z"
   },
   {
    "duration": 56,
    "start_time": "2022-05-07T00:41:25.094Z"
   },
   {
    "duration": 56,
    "start_time": "2022-05-07T00:41:56.214Z"
   },
   {
    "duration": 49,
    "start_time": "2022-05-07T00:43:56.914Z"
   },
   {
    "duration": 2245,
    "start_time": "2022-05-07T00:44:43.833Z"
   },
   {
    "duration": 2221,
    "start_time": "2022-05-07T00:46:08.863Z"
   },
   {
    "duration": 52,
    "start_time": "2022-05-07T00:46:22.726Z"
   },
   {
    "duration": 135,
    "start_time": "2022-05-07T00:48:45.540Z"
   },
   {
    "duration": 185,
    "start_time": "2022-05-07T00:49:28.905Z"
   },
   {
    "duration": 193,
    "start_time": "2022-05-07T00:49:43.817Z"
   },
   {
    "duration": 202,
    "start_time": "2022-05-07T00:50:48.296Z"
   },
   {
    "duration": 198,
    "start_time": "2022-05-07T00:52:43.940Z"
   },
   {
    "duration": 197,
    "start_time": "2022-05-07T00:52:48.220Z"
   },
   {
    "duration": 186,
    "start_time": "2022-05-07T00:55:20.136Z"
   },
   {
    "duration": 282,
    "start_time": "2022-05-07T00:55:55.528Z"
   },
   {
    "duration": 208,
    "start_time": "2022-05-07T00:56:01.760Z"
   },
   {
    "duration": 199,
    "start_time": "2022-05-07T00:57:25.477Z"
   },
   {
    "duration": 203,
    "start_time": "2022-05-07T00:57:39.468Z"
   },
   {
    "duration": 210,
    "start_time": "2022-05-07T00:57:44.940Z"
   },
   {
    "duration": 221,
    "start_time": "2022-05-07T00:58:11.612Z"
   },
   {
    "duration": 227,
    "start_time": "2022-05-07T00:58:53.411Z"
   },
   {
    "duration": 289,
    "start_time": "2022-05-07T00:59:22.513Z"
   },
   {
    "duration": 209,
    "start_time": "2022-05-07T00:59:36.865Z"
   },
   {
    "duration": 212,
    "start_time": "2022-05-07T00:59:54.520Z"
   },
   {
    "duration": 1698,
    "start_time": "2022-05-07T01:00:11.454Z"
   },
   {
    "duration": 129,
    "start_time": "2022-05-07T01:00:13.155Z"
   },
   {
    "duration": 495,
    "start_time": "2022-05-07T01:00:13.286Z"
   },
   {
    "duration": 65,
    "start_time": "2022-05-07T01:00:13.784Z"
   },
   {
    "duration": 40,
    "start_time": "2022-05-07T01:00:13.851Z"
   },
   {
    "duration": 17,
    "start_time": "2022-05-07T01:00:13.893Z"
   },
   {
    "duration": 463,
    "start_time": "2022-05-07T01:00:13.912Z"
   },
   {
    "duration": 21,
    "start_time": "2022-05-07T01:00:14.377Z"
   },
   {
    "duration": 157,
    "start_time": "2022-05-07T01:00:14.399Z"
   },
   {
    "duration": 55,
    "start_time": "2022-05-07T01:00:14.559Z"
   },
   {
    "duration": 80,
    "start_time": "2022-05-07T01:00:14.616Z"
   },
   {
    "duration": 4,
    "start_time": "2022-05-07T01:00:14.698Z"
   },
   {
    "duration": 386,
    "start_time": "2022-05-07T01:00:14.704Z"
   },
   {
    "duration": 227,
    "start_time": "2022-05-07T01:00:15.092Z"
   },
   {
    "duration": 115,
    "start_time": "2022-05-07T01:00:15.321Z"
   },
   {
    "duration": 0,
    "start_time": "2022-05-07T01:00:15.438Z"
   },
   {
    "duration": 206,
    "start_time": "2022-05-07T01:00:24.366Z"
   },
   {
    "duration": 5,
    "start_time": "2022-05-07T01:01:04.413Z"
   },
   {
    "duration": 189,
    "start_time": "2022-05-07T01:01:12.549Z"
   },
   {
    "duration": 199,
    "start_time": "2022-05-07T01:01:20.380Z"
   },
   {
    "duration": 195,
    "start_time": "2022-05-07T01:02:42.299Z"
   },
   {
    "duration": 205,
    "start_time": "2022-05-07T01:02:55.042Z"
   },
   {
    "duration": 72,
    "start_time": "2022-05-07T01:03:30.225Z"
   },
   {
    "duration": 73,
    "start_time": "2022-05-07T01:03:40.001Z"
   },
   {
    "duration": 366,
    "start_time": "2022-05-07T01:03:46.721Z"
   },
   {
    "duration": 76,
    "start_time": "2022-05-07T02:22:51.552Z"
   },
   {
    "duration": 201,
    "start_time": "2022-05-07T02:23:05.128Z"
   },
   {
    "duration": 48,
    "start_time": "2022-05-07T02:33:52.822Z"
   },
   {
    "duration": 51,
    "start_time": "2022-05-07T02:34:53.140Z"
   },
   {
    "duration": 47,
    "start_time": "2022-05-07T02:35:06.900Z"
   },
   {
    "duration": 51,
    "start_time": "2022-05-07T02:35:13.020Z"
   },
   {
    "duration": 46,
    "start_time": "2022-05-07T02:36:49.056Z"
   },
   {
    "duration": 54,
    "start_time": "2022-05-07T02:37:12.727Z"
   },
   {
    "duration": 50,
    "start_time": "2022-05-07T02:39:20.389Z"
   },
   {
    "duration": 20,
    "start_time": "2022-05-07T02:42:01.184Z"
   },
   {
    "duration": 540,
    "start_time": "2022-05-07T02:43:03.102Z"
   },
   {
    "duration": 54,
    "start_time": "2022-05-07T02:43:20.809Z"
   },
   {
    "duration": 589,
    "start_time": "2022-05-07T02:45:43.482Z"
   },
   {
    "duration": 602,
    "start_time": "2022-05-07T02:45:55.866Z"
   },
   {
    "duration": 135,
    "start_time": "2022-05-07T02:48:08.422Z"
   },
   {
    "duration": 52,
    "start_time": "2022-05-07T02:48:13.278Z"
   },
   {
    "duration": 139,
    "start_time": "2022-05-07T02:48:35.445Z"
   },
   {
    "duration": 134,
    "start_time": "2022-05-07T02:48:42.427Z"
   },
   {
    "duration": 10,
    "start_time": "2022-05-07T02:48:49.971Z"
   },
   {
    "duration": 10,
    "start_time": "2022-05-07T02:48:56.963Z"
   },
   {
    "duration": 10,
    "start_time": "2022-05-07T02:50:15.066Z"
   },
   {
    "duration": 51,
    "start_time": "2022-05-07T02:51:14.576Z"
   },
   {
    "duration": 52,
    "start_time": "2022-05-07T02:52:37.981Z"
   },
   {
    "duration": 51,
    "start_time": "2022-05-07T02:52:46.621Z"
   },
   {
    "duration": 51,
    "start_time": "2022-05-07T02:52:57.540Z"
   },
   {
    "duration": 49,
    "start_time": "2022-05-07T02:53:24.204Z"
   },
   {
    "duration": 54,
    "start_time": "2022-05-07T02:55:02.275Z"
   },
   {
    "duration": 57,
    "start_time": "2022-05-07T02:55:15.418Z"
   },
   {
    "duration": 52,
    "start_time": "2022-05-07T02:57:35.710Z"
   },
   {
    "duration": 50,
    "start_time": "2022-05-07T02:57:41.326Z"
   },
   {
    "duration": 55,
    "start_time": "2022-05-07T02:58:04.157Z"
   },
   {
    "duration": 60,
    "start_time": "2022-05-07T02:58:16.564Z"
   },
   {
    "duration": 55,
    "start_time": "2022-05-07T02:58:29.843Z"
   },
   {
    "duration": 49,
    "start_time": "2022-05-07T03:03:01.277Z"
   },
   {
    "duration": 137,
    "start_time": "2022-05-07T03:06:08.519Z"
   },
   {
    "duration": 140,
    "start_time": "2022-05-07T03:08:59.266Z"
   },
   {
    "duration": 52,
    "start_time": "2022-05-07T03:09:05.898Z"
   },
   {
    "duration": 53,
    "start_time": "2022-05-07T03:09:25.753Z"
   },
   {
    "duration": 51,
    "start_time": "2022-05-07T03:09:29.393Z"
   },
   {
    "duration": 52,
    "start_time": "2022-05-07T03:09:42.745Z"
   },
   {
    "duration": 52,
    "start_time": "2022-05-07T03:09:57.376Z"
   },
   {
    "duration": 51,
    "start_time": "2022-05-07T03:10:38.623Z"
   },
   {
    "duration": 50,
    "start_time": "2022-05-07T03:12:02.270Z"
   },
   {
    "duration": 50,
    "start_time": "2022-05-07T03:25:53.741Z"
   },
   {
    "duration": 49,
    "start_time": "2022-05-07T03:26:10.373Z"
   },
   {
    "duration": 209,
    "start_time": "2022-05-07T03:27:30.035Z"
   },
   {
    "duration": 234,
    "start_time": "2022-05-07T03:32:27.603Z"
   },
   {
    "duration": 359,
    "start_time": "2022-05-07T03:50:38.578Z"
   },
   {
    "duration": 359,
    "start_time": "2022-05-07T03:50:48.146Z"
   },
   {
    "duration": 338,
    "start_time": "2022-05-07T03:50:58.634Z"
   },
   {
    "duration": 415,
    "start_time": "2022-05-07T03:51:04.954Z"
   },
   {
    "duration": 314,
    "start_time": "2022-05-07T03:52:32.024Z"
   },
   {
    "duration": 332,
    "start_time": "2022-05-07T03:52:38.159Z"
   },
   {
    "duration": 277,
    "start_time": "2022-05-08T00:29:30.862Z"
   },
   {
    "duration": 74,
    "start_time": "2022-05-08T00:40:19.532Z"
   },
   {
    "duration": 9,
    "start_time": "2022-05-08T00:42:31.624Z"
   },
   {
    "duration": 9,
    "start_time": "2022-05-08T00:43:03.919Z"
   },
   {
    "duration": 9,
    "start_time": "2022-05-08T00:45:41.739Z"
   },
   {
    "duration": 10,
    "start_time": "2022-05-08T01:03:56.332Z"
   },
   {
    "duration": 136,
    "start_time": "2022-05-08T01:21:09.804Z"
   },
   {
    "duration": 45,
    "start_time": "2022-05-08T01:21:20.284Z"
   },
   {
    "duration": 10,
    "start_time": "2022-05-08T01:21:22.781Z"
   },
   {
    "duration": 12,
    "start_time": "2022-05-08T01:21:33.491Z"
   },
   {
    "duration": 17,
    "start_time": "2022-05-08T01:21:44.515Z"
   },
   {
    "duration": 11,
    "start_time": "2022-05-08T01:25:15.654Z"
   },
   {
    "duration": 131,
    "start_time": "2022-05-08T01:29:35.495Z"
   },
   {
    "duration": 134,
    "start_time": "2022-05-08T01:29:48.550Z"
   },
   {
    "duration": 150,
    "start_time": "2022-05-08T01:30:16.916Z"
   },
   {
    "duration": 136,
    "start_time": "2022-05-08T01:30:38.052Z"
   },
   {
    "duration": 131,
    "start_time": "2022-05-08T01:30:43.172Z"
   },
   {
    "duration": 146,
    "start_time": "2022-05-08T01:32:01.617Z"
   },
   {
    "duration": 151,
    "start_time": "2022-05-08T01:32:25.097Z"
   },
   {
    "duration": 66,
    "start_time": "2022-05-08T01:34:06.950Z"
   },
   {
    "duration": 43,
    "start_time": "2022-05-08T01:34:20.494Z"
   },
   {
    "duration": 67,
    "start_time": "2022-05-08T01:35:57.972Z"
   },
   {
    "duration": 57,
    "start_time": "2022-05-08T01:36:15.700Z"
   },
   {
    "duration": 266,
    "start_time": "2022-05-08T01:37:55.776Z"
   },
   {
    "duration": 249,
    "start_time": "2022-05-08T01:44:37.228Z"
   },
   {
    "duration": 284,
    "start_time": "2022-05-08T01:46:01.170Z"
   },
   {
    "duration": 220,
    "start_time": "2022-05-08T01:47:13.656Z"
   },
   {
    "duration": 56,
    "start_time": "2022-05-08T01:48:43.141Z"
   },
   {
    "duration": 61,
    "start_time": "2022-05-08T01:49:10.229Z"
   },
   {
    "duration": 59,
    "start_time": "2022-05-08T01:49:21.572Z"
   },
   {
    "duration": 53,
    "start_time": "2022-05-08T01:49:34.229Z"
   },
   {
    "duration": 57,
    "start_time": "2022-05-08T01:50:58.266Z"
   },
   {
    "duration": 58,
    "start_time": "2022-05-08T01:51:36.400Z"
   },
   {
    "duration": 58,
    "start_time": "2022-05-08T01:52:18.270Z"
   },
   {
    "duration": 239,
    "start_time": "2022-05-08T01:53:03.535Z"
   },
   {
    "duration": 61,
    "start_time": "2022-05-08T01:54:40.908Z"
   },
   {
    "duration": 1072,
    "start_time": "2022-05-08T01:55:00.436Z"
   },
   {
    "duration": 265,
    "start_time": "2022-05-08T01:55:58.337Z"
   },
   {
    "duration": 137,
    "start_time": "2022-05-08T01:57:23.295Z"
   },
   {
    "duration": 221,
    "start_time": "2022-05-08T01:57:30.062Z"
   },
   {
    "duration": 239,
    "start_time": "2022-05-08T01:58:53.597Z"
   },
   {
    "duration": 141,
    "start_time": "2022-05-08T01:59:34.274Z"
   },
   {
    "duration": 57,
    "start_time": "2022-05-08T01:59:40.986Z"
   },
   {
    "duration": 250,
    "start_time": "2022-05-08T02:00:04.937Z"
   },
   {
    "duration": 252,
    "start_time": "2022-05-08T02:02:32.830Z"
   },
   {
    "duration": 246,
    "start_time": "2022-05-08T02:02:43.653Z"
   },
   {
    "duration": 353,
    "start_time": "2022-05-08T06:32:48.334Z"
   },
   {
    "duration": 61,
    "start_time": "2022-05-08T06:33:25.740Z"
   },
   {
    "duration": 266,
    "start_time": "2022-05-08T06:35:19.858Z"
   },
   {
    "duration": 263,
    "start_time": "2022-05-08T06:35:27.905Z"
   },
   {
    "duration": 50,
    "start_time": "2022-05-08T06:35:34.604Z"
   },
   {
    "duration": 928,
    "start_time": "2022-05-08T06:37:07.742Z"
   },
   {
    "duration": 922,
    "start_time": "2022-05-08T06:37:33.093Z"
   },
   {
    "duration": 8,
    "start_time": "2022-05-08T06:37:55.512Z"
   },
   {
    "duration": 9,
    "start_time": "2022-05-08T06:38:27.324Z"
   },
   {
    "duration": 46,
    "start_time": "2022-05-08T06:45:21.930Z"
   },
   {
    "duration": 46,
    "start_time": "2022-05-08T06:45:37.488Z"
   },
   {
    "duration": 195,
    "start_time": "2022-05-08T06:46:53.799Z"
   },
   {
    "duration": 204,
    "start_time": "2022-05-08T06:47:22.069Z"
   },
   {
    "duration": 229,
    "start_time": "2022-05-08T06:47:38.332Z"
   },
   {
    "duration": 242,
    "start_time": "2022-05-08T06:48:15.260Z"
   },
   {
    "duration": 240,
    "start_time": "2022-05-08T07:30:45.211Z"
   },
   {
    "duration": 23,
    "start_time": "2022-05-08T07:34:56.165Z"
   },
   {
    "duration": 22,
    "start_time": "2022-05-08T07:37:01.361Z"
   },
   {
    "duration": 253,
    "start_time": "2022-05-08T07:37:04.992Z"
   },
   {
    "duration": 9,
    "start_time": "2022-05-08T07:48:54.919Z"
   },
   {
    "duration": 9,
    "start_time": "2022-05-08T07:49:06.539Z"
   },
   {
    "duration": 45,
    "start_time": "2022-05-08T07:49:10.220Z"
   },
   {
    "duration": 27,
    "start_time": "2022-05-08T08:17:19.084Z"
   },
   {
    "duration": 29,
    "start_time": "2022-05-08T09:27:15.054Z"
   },
   {
    "duration": 31,
    "start_time": "2022-05-08T09:27:34.622Z"
   },
   {
    "duration": 31,
    "start_time": "2022-05-08T09:28:03.532Z"
   },
   {
    "duration": 33,
    "start_time": "2022-05-08T09:29:24.626Z"
   },
   {
    "duration": 35,
    "start_time": "2022-05-08T09:32:36.276Z"
   },
   {
    "duration": 49,
    "start_time": "2022-05-08T09:34:18.970Z"
   },
   {
    "duration": 86,
    "start_time": "2022-05-08T09:47:06.004Z"
   },
   {
    "duration": 58,
    "start_time": "2022-05-08T09:47:17.316Z"
   },
   {
    "duration": 272,
    "start_time": "2022-05-08T09:56:52.540Z"
   },
   {
    "duration": 268,
    "start_time": "2022-05-08T09:58:07.177Z"
   },
   {
    "duration": 48,
    "start_time": "2022-05-08T10:10:44.188Z"
   },
   {
    "duration": 375,
    "start_time": "2022-05-08T10:13:01.873Z"
   },
   {
    "duration": 260,
    "start_time": "2022-05-08T10:13:14.248Z"
   },
   {
    "duration": 233,
    "start_time": "2022-05-08T10:14:35.645Z"
   },
   {
    "duration": 288,
    "start_time": "2022-05-08T10:15:19.092Z"
   },
   {
    "duration": 2052,
    "start_time": "2022-05-09T10:36:47.794Z"
   },
   {
    "duration": 250,
    "start_time": "2022-05-09T10:36:49.849Z"
   },
   {
    "duration": 569,
    "start_time": "2022-05-09T10:36:50.102Z"
   },
   {
    "duration": 123,
    "start_time": "2022-05-09T10:36:50.674Z"
   },
   {
    "duration": 38,
    "start_time": "2022-05-09T10:36:50.799Z"
   },
   {
    "duration": 16,
    "start_time": "2022-05-09T10:36:50.839Z"
   },
   {
    "duration": 436,
    "start_time": "2022-05-09T10:36:50.857Z"
   },
   {
    "duration": 20,
    "start_time": "2022-05-09T10:36:51.295Z"
   },
   {
    "duration": 221,
    "start_time": "2022-05-09T10:36:51.317Z"
   },
   {
    "duration": 83,
    "start_time": "2022-05-09T10:36:51.543Z"
   },
   {
    "duration": 109,
    "start_time": "2022-05-09T10:36:51.629Z"
   },
   {
    "duration": 8,
    "start_time": "2022-05-09T10:36:51.740Z"
   },
   {
    "duration": 591,
    "start_time": "2022-05-09T10:36:51.750Z"
   },
   {
    "duration": 369,
    "start_time": "2022-05-09T10:36:52.343Z"
   },
   {
    "duration": 16,
    "start_time": "2022-05-09T10:36:52.715Z"
   },
   {
    "duration": 140,
    "start_time": "2022-05-09T10:36:52.734Z"
   },
   {
    "duration": 75,
    "start_time": "2022-05-09T10:36:52.877Z"
   },
   {
    "duration": 589,
    "start_time": "2022-05-09T10:36:52.955Z"
   },
   {
    "duration": 3,
    "start_time": "2022-05-09T10:36:53.546Z"
   },
   {
    "duration": 467,
    "start_time": "2022-05-09T10:36:53.552Z"
   },
   {
    "duration": 43,
    "start_time": "2022-05-09T10:36:54.021Z"
   },
   {
    "duration": 57,
    "start_time": "2022-05-09T10:36:54.066Z"
   },
   {
    "duration": 17,
    "start_time": "2022-05-09T10:36:54.126Z"
   },
   {
    "duration": 52,
    "start_time": "2022-05-09T10:36:54.145Z"
   },
   {
    "duration": 107,
    "start_time": "2022-05-09T10:43:56.964Z"
   },
   {
    "duration": 101,
    "start_time": "2022-05-09T10:44:12.699Z"
   },
   {
    "duration": 121,
    "start_time": "2022-05-09T10:53:52.228Z"
   },
   {
    "duration": 120,
    "start_time": "2022-05-09T10:54:02.931Z"
   },
   {
    "duration": 130,
    "start_time": "2022-05-09T11:23:21.569Z"
   },
   {
    "duration": 120,
    "start_time": "2022-05-09T11:23:56.233Z"
   },
   {
    "duration": 159,
    "start_time": "2022-05-09T11:24:07.118Z"
   },
   {
    "duration": 126,
    "start_time": "2022-05-09T11:24:16.137Z"
   },
   {
    "duration": 319,
    "start_time": "2022-05-09T11:30:22.562Z"
   },
   {
    "duration": 217,
    "start_time": "2022-05-09T11:31:28.333Z"
   },
   {
    "duration": 405,
    "start_time": "2022-05-09T11:32:43.072Z"
   },
   {
    "duration": 331,
    "start_time": "2022-05-09T11:34:00.433Z"
   },
   {
    "duration": 363,
    "start_time": "2022-05-09T11:34:10.965Z"
   },
   {
    "duration": 311,
    "start_time": "2022-05-09T11:36:00.258Z"
   },
   {
    "duration": 338,
    "start_time": "2022-05-09T11:37:24.505Z"
   },
   {
    "duration": 313,
    "start_time": "2022-05-09T11:42:09.630Z"
   },
   {
    "duration": 19,
    "start_time": "2022-05-09T11:42:55.382Z"
   },
   {
    "duration": 30,
    "start_time": "2022-05-09T11:43:56.113Z"
   },
   {
    "duration": 430,
    "start_time": "2022-05-09T11:45:20.945Z"
   },
   {
    "duration": 557,
    "start_time": "2022-05-09T11:48:19.437Z"
   },
   {
    "duration": 31,
    "start_time": "2022-05-09T12:32:31.099Z"
   },
   {
    "duration": 321,
    "start_time": "2022-05-09T12:32:35.793Z"
   },
   {
    "duration": 413,
    "start_time": "2022-05-09T12:34:18.951Z"
   },
   {
    "duration": 313,
    "start_time": "2022-05-09T12:34:50.958Z"
   },
   {
    "duration": 350,
    "start_time": "2022-05-09T12:35:58.423Z"
   },
   {
    "duration": 7,
    "start_time": "2022-05-09T12:40:52.349Z"
   },
   {
    "duration": 13,
    "start_time": "2022-05-09T12:41:14.123Z"
   },
   {
    "duration": 11,
    "start_time": "2022-05-09T12:41:38.058Z"
   },
   {
    "duration": 82,
    "start_time": "2022-05-09T13:01:16.539Z"
   },
   {
    "duration": 90,
    "start_time": "2022-05-09T13:04:32.312Z"
   },
   {
    "duration": 87,
    "start_time": "2022-05-09T13:06:05.627Z"
   },
   {
    "duration": 95,
    "start_time": "2022-05-09T13:07:46.511Z"
   },
   {
    "duration": 90,
    "start_time": "2022-05-09T13:08:47.044Z"
   },
   {
    "duration": 105,
    "start_time": "2022-05-09T13:09:01.371Z"
   },
   {
    "duration": 157,
    "start_time": "2022-05-09T13:09:49.972Z"
   },
   {
    "duration": 128,
    "start_time": "2022-05-09T13:10:50.945Z"
   },
   {
    "duration": 308,
    "start_time": "2022-05-09T13:11:53.923Z"
   },
   {
    "duration": 92,
    "start_time": "2022-05-09T13:18:50.815Z"
   },
   {
    "duration": 89,
    "start_time": "2022-05-09T13:19:12.325Z"
   },
   {
    "duration": 89,
    "start_time": "2022-05-09T13:19:50.434Z"
   },
   {
    "duration": 102,
    "start_time": "2022-05-09T13:20:01.323Z"
   },
   {
    "duration": 99,
    "start_time": "2022-05-09T13:21:40.791Z"
   },
   {
    "duration": 92,
    "start_time": "2022-05-09T13:21:52.455Z"
   },
   {
    "duration": 57,
    "start_time": "2022-05-09T13:22:31.536Z"
   },
   {
    "duration": 115,
    "start_time": "2022-05-09T13:22:48.557Z"
   },
   {
    "duration": 96,
    "start_time": "2022-05-09T13:23:09.203Z"
   },
   {
    "duration": 85,
    "start_time": "2022-05-09T13:25:12.955Z"
   },
   {
    "duration": 96,
    "start_time": "2022-05-09T13:25:24.689Z"
   },
   {
    "duration": 85,
    "start_time": "2022-05-09T13:25:28.623Z"
   },
   {
    "duration": 421,
    "start_time": "2022-05-09T13:26:07.583Z"
   },
   {
    "duration": 405,
    "start_time": "2022-05-09T13:26:43.929Z"
   },
   {
    "duration": 404,
    "start_time": "2022-05-09T13:27:37.965Z"
   },
   {
    "duration": 368,
    "start_time": "2022-05-09T13:28:17.038Z"
   },
   {
    "duration": 352,
    "start_time": "2022-05-09T13:29:17.346Z"
   },
   {
    "duration": 353,
    "start_time": "2022-05-09T13:29:41.345Z"
   },
   {
    "duration": 366,
    "start_time": "2022-05-09T13:30:30.021Z"
   },
   {
    "duration": 371,
    "start_time": "2022-05-09T13:31:58.765Z"
   },
   {
    "duration": 356,
    "start_time": "2022-05-09T13:37:47.701Z"
   },
   {
    "duration": 457,
    "start_time": "2022-05-09T13:37:54.827Z"
   },
   {
    "duration": 380,
    "start_time": "2022-05-09T13:38:23.065Z"
   },
   {
    "duration": 1869,
    "start_time": "2022-05-09T13:49:24.203Z"
   },
   {
    "duration": 281,
    "start_time": "2022-05-09T13:49:26.075Z"
   },
   {
    "duration": 808,
    "start_time": "2022-05-09T13:49:26.358Z"
   },
   {
    "duration": 1700,
    "start_time": "2022-05-09T13:49:27.168Z"
   },
   {
    "duration": 44,
    "start_time": "2022-05-09T13:49:28.872Z"
   },
   {
    "duration": 25,
    "start_time": "2022-05-09T13:49:28.920Z"
   },
   {
    "duration": 421,
    "start_time": "2022-05-09T13:49:28.948Z"
   },
   {
    "duration": 29,
    "start_time": "2022-05-09T13:49:29.371Z"
   },
   {
    "duration": 211,
    "start_time": "2022-05-09T13:49:29.402Z"
   },
   {
    "duration": 76,
    "start_time": "2022-05-09T13:49:29.616Z"
   },
   {
    "duration": 110,
    "start_time": "2022-05-09T13:49:29.698Z"
   },
   {
    "duration": 14,
    "start_time": "2022-05-09T13:49:29.811Z"
   },
   {
    "duration": 607,
    "start_time": "2022-05-09T13:49:29.827Z"
   },
   {
    "duration": 367,
    "start_time": "2022-05-09T13:49:30.438Z"
   },
   {
    "duration": 351,
    "start_time": "2022-05-09T13:49:30.807Z"
   },
   {
    "duration": 13,
    "start_time": "2022-05-09T13:49:31.161Z"
   },
   {
    "duration": 50,
    "start_time": "2022-05-09T13:49:31.176Z"
   },
   {
    "duration": 393,
    "start_time": "2022-05-09T13:49:31.229Z"
   },
   {
    "duration": 577,
    "start_time": "2022-05-09T13:49:31.625Z"
   },
   {
    "duration": 368,
    "start_time": "2022-05-09T13:49:32.210Z"
   },
   {
    "duration": 462,
    "start_time": "2022-05-09T14:21:01.323Z"
   },
   {
    "duration": 331,
    "start_time": "2022-05-09T14:21:12.153Z"
   },
   {
    "duration": 54,
    "start_time": "2022-05-09T14:34:49.800Z"
   },
   {
    "duration": 20,
    "start_time": "2022-05-09T14:35:36.796Z"
   },
   {
    "duration": 2060,
    "start_time": "2022-05-09T14:37:50.779Z"
   },
   {
    "duration": 207,
    "start_time": "2022-05-09T14:37:52.842Z"
   },
   {
    "duration": 694,
    "start_time": "2022-05-09T14:37:53.051Z"
   },
   {
    "duration": 98,
    "start_time": "2022-05-09T14:37:53.749Z"
   },
   {
    "duration": 60,
    "start_time": "2022-05-09T14:37:53.850Z"
   },
   {
    "duration": 24,
    "start_time": "2022-05-09T14:37:53.912Z"
   },
   {
    "duration": 461,
    "start_time": "2022-05-09T14:37:53.939Z"
   },
   {
    "duration": 19,
    "start_time": "2022-05-09T14:37:54.405Z"
   },
   {
    "duration": 238,
    "start_time": "2022-05-09T14:37:54.427Z"
   },
   {
    "duration": 94,
    "start_time": "2022-05-09T14:37:54.669Z"
   },
   {
    "duration": 108,
    "start_time": "2022-05-09T14:37:54.766Z"
   },
   {
    "duration": 7,
    "start_time": "2022-05-09T14:37:54.876Z"
   },
   {
    "duration": 690,
    "start_time": "2022-05-09T14:37:54.892Z"
   },
   {
    "duration": 368,
    "start_time": "2022-05-09T14:37:55.584Z"
   },
   {
    "duration": 351,
    "start_time": "2022-05-09T14:37:55.955Z"
   },
   {
    "duration": 18,
    "start_time": "2022-05-09T14:37:56.309Z"
   },
   {
    "duration": 38,
    "start_time": "2022-05-09T14:37:56.330Z"
   },
   {
    "duration": 441,
    "start_time": "2022-05-09T14:37:56.370Z"
   },
   {
    "duration": 598,
    "start_time": "2022-05-09T14:37:56.814Z"
   },
   {
    "duration": 40,
    "start_time": "2022-05-09T14:37:57.419Z"
   },
   {
    "duration": 10,
    "start_time": "2022-05-09T14:37:57.461Z"
   },
   {
    "duration": 405,
    "start_time": "2022-05-09T14:37:57.473Z"
   },
   {
    "duration": 286,
    "start_time": "2022-05-09T14:38:34.448Z"
   },
   {
    "duration": 266,
    "start_time": "2022-05-09T14:38:43.862Z"
   },
   {
    "duration": 30,
    "start_time": "2022-05-09T14:39:01.023Z"
   },
   {
    "duration": 246,
    "start_time": "2022-05-09T14:44:13.759Z"
   },
   {
    "duration": 321,
    "start_time": "2022-05-09T14:44:18.086Z"
   },
   {
    "duration": 35,
    "start_time": "2022-05-09T14:44:32.643Z"
   },
   {
    "duration": 57,
    "start_time": "2022-05-09T14:46:54.491Z"
   },
   {
    "duration": 26,
    "start_time": "2022-05-09T14:47:17.146Z"
   },
   {
    "duration": 421,
    "start_time": "2022-05-09T14:49:17.002Z"
   },
   {
    "duration": 372,
    "start_time": "2022-05-09T14:50:01.982Z"
   },
   {
    "duration": 26,
    "start_time": "2022-05-09T14:50:27.113Z"
   },
   {
    "duration": 17,
    "start_time": "2022-05-09T14:51:15.171Z"
   },
   {
    "duration": 15,
    "start_time": "2022-05-09T14:51:16.852Z"
   },
   {
    "duration": 247,
    "start_time": "2022-05-09T14:51:45.947Z"
   },
   {
    "duration": 414,
    "start_time": "2022-05-09T15:10:45.731Z"
   },
   {
    "duration": 15,
    "start_time": "2022-05-09T15:11:05.770Z"
   },
   {
    "duration": 228,
    "start_time": "2022-05-09T15:12:18.413Z"
   },
   {
    "duration": 135,
    "start_time": "2022-05-09T15:13:24.418Z"
   },
   {
    "duration": 5,
    "start_time": "2022-05-09T15:13:31.271Z"
   },
   {
    "duration": 23,
    "start_time": "2022-05-09T15:13:32.887Z"
   },
   {
    "duration": 14,
    "start_time": "2022-05-10T08:51:58.834Z"
   },
   {
    "duration": 58,
    "start_time": "2022-05-10T08:53:25.847Z"
   },
   {
    "duration": 198,
    "start_time": "2022-05-10T09:11:36.883Z"
   },
   {
    "duration": 143,
    "start_time": "2022-05-10T09:12:29.127Z"
   },
   {
    "duration": 173,
    "start_time": "2022-05-10T09:14:59.914Z"
   },
   {
    "duration": 67,
    "start_time": "2022-05-10T09:15:58.953Z"
   },
   {
    "duration": 151,
    "start_time": "2022-05-10T09:16:12.223Z"
   },
   {
    "duration": 211,
    "start_time": "2022-05-10T09:18:11.710Z"
   },
   {
    "duration": 152,
    "start_time": "2022-05-10T09:18:23.470Z"
   },
   {
    "duration": 248,
    "start_time": "2022-05-10T09:19:16.596Z"
   },
   {
    "duration": 344,
    "start_time": "2022-05-10T09:19:24.962Z"
   },
   {
    "duration": 247,
    "start_time": "2022-05-10T09:19:32.178Z"
   },
   {
    "duration": 155,
    "start_time": "2022-05-10T09:19:43.813Z"
   },
   {
    "duration": 216,
    "start_time": "2022-05-10T09:25:32.137Z"
   },
   {
    "duration": 82,
    "start_time": "2022-05-10T09:30:55.133Z"
   },
   {
    "duration": 73,
    "start_time": "2022-05-10T09:31:30.825Z"
   },
   {
    "duration": 82,
    "start_time": "2022-05-10T09:32:25.670Z"
   },
   {
    "duration": 98,
    "start_time": "2022-05-10T09:33:00.764Z"
   },
   {
    "duration": 224,
    "start_time": "2022-05-10T09:34:06.371Z"
   },
   {
    "duration": 70,
    "start_time": "2022-05-10T09:35:31.742Z"
   },
   {
    "duration": 77,
    "start_time": "2022-05-10T09:35:49.078Z"
   },
   {
    "duration": 71,
    "start_time": "2022-05-10T09:36:06.533Z"
   },
   {
    "duration": 77,
    "start_time": "2022-05-10T09:36:40.028Z"
   },
   {
    "duration": 74,
    "start_time": "2022-05-10T09:37:44.083Z"
   },
   {
    "duration": 76,
    "start_time": "2022-05-10T09:37:54.816Z"
   },
   {
    "duration": 74,
    "start_time": "2022-05-10T09:38:53.443Z"
   },
   {
    "duration": 79,
    "start_time": "2022-05-10T09:39:13.406Z"
   },
   {
    "duration": 115,
    "start_time": "2022-05-10T09:40:57.271Z"
   },
   {
    "duration": 88,
    "start_time": "2022-05-10T09:41:17.229Z"
   },
   {
    "duration": 81,
    "start_time": "2022-05-10T09:42:17.259Z"
   },
   {
    "duration": 83,
    "start_time": "2022-05-10T09:42:26.284Z"
   },
   {
    "duration": 81,
    "start_time": "2022-05-10T09:42:35.440Z"
   },
   {
    "duration": 81,
    "start_time": "2022-05-10T09:44:11.728Z"
   },
   {
    "duration": 26,
    "start_time": "2022-05-10T10:42:58.986Z"
   },
   {
    "duration": 36,
    "start_time": "2022-05-10T10:43:19.874Z"
   },
   {
    "duration": 49,
    "start_time": "2022-05-10T10:47:58.777Z"
   },
   {
    "duration": 41,
    "start_time": "2022-05-10T10:48:13.420Z"
   },
   {
    "duration": 311,
    "start_time": "2022-05-10T10:50:31.165Z"
   },
   {
    "duration": 44,
    "start_time": "2022-05-10T10:56:27.699Z"
   },
   {
    "duration": 4205,
    "start_time": "2022-05-10T11:31:56.997Z"
   },
   {
    "duration": 39,
    "start_time": "2022-05-10T11:32:17.446Z"
   },
   {
    "duration": 975,
    "start_time": "2022-05-10T11:34:53.272Z"
   },
   {
    "duration": 1851,
    "start_time": "2022-05-10T11:36:22.119Z"
   },
   {
    "duration": 1760,
    "start_time": "2022-05-10T11:36:37.970Z"
   },
   {
    "duration": 411,
    "start_time": "2022-05-10T11:36:39.733Z"
   },
   {
    "duration": 663,
    "start_time": "2022-05-10T11:36:40.146Z"
   },
   {
    "duration": 122,
    "start_time": "2022-05-10T11:36:40.812Z"
   },
   {
    "duration": 32,
    "start_time": "2022-05-10T11:36:40.937Z"
   },
   {
    "duration": 34,
    "start_time": "2022-05-10T11:36:40.971Z"
   },
   {
    "duration": 399,
    "start_time": "2022-05-10T11:36:41.007Z"
   },
   {
    "duration": 15,
    "start_time": "2022-05-10T11:36:41.408Z"
   },
   {
    "duration": 196,
    "start_time": "2022-05-10T11:36:41.425Z"
   },
   {
    "duration": 56,
    "start_time": "2022-05-10T11:36:41.624Z"
   },
   {
    "duration": 96,
    "start_time": "2022-05-10T11:36:41.698Z"
   },
   {
    "duration": 9,
    "start_time": "2022-05-10T11:36:41.796Z"
   },
   {
    "duration": 577,
    "start_time": "2022-05-10T11:36:41.807Z"
   },
   {
    "duration": 370,
    "start_time": "2022-05-10T11:36:42.387Z"
   },
   {
    "duration": 315,
    "start_time": "2022-05-10T11:36:42.759Z"
   },
   {
    "duration": 28,
    "start_time": "2022-05-10T11:36:43.077Z"
   },
   {
    "duration": 23,
    "start_time": "2022-05-10T11:36:43.107Z"
   },
   {
    "duration": 392,
    "start_time": "2022-05-10T11:36:43.132Z"
   },
   {
    "duration": 530,
    "start_time": "2022-05-10T11:36:43.526Z"
   },
   {
    "duration": 105,
    "start_time": "2022-05-10T11:36:44.058Z"
   },
   {
    "duration": 373,
    "start_time": "2022-05-10T11:36:44.165Z"
   },
   {
    "duration": 76,
    "start_time": "2022-05-10T11:36:44.540Z"
   },
   {
    "duration": 168,
    "start_time": "2022-05-10T11:36:44.619Z"
   },
   {
    "duration": 0,
    "start_time": "2022-05-10T11:36:44.789Z"
   },
   {
    "duration": 870,
    "start_time": "2022-05-10T11:37:23.962Z"
   },
   {
    "duration": 64,
    "start_time": "2022-05-10T11:38:17.288Z"
   },
   {
    "duration": 2449,
    "start_time": "2022-05-10T11:38:50.473Z"
   },
   {
    "duration": 173,
    "start_time": "2022-05-10T11:38:52.926Z"
   },
   {
    "duration": 536,
    "start_time": "2022-05-10T11:38:53.101Z"
   },
   {
    "duration": 87,
    "start_time": "2022-05-10T11:38:53.640Z"
   },
   {
    "duration": 51,
    "start_time": "2022-05-10T11:38:53.730Z"
   },
   {
    "duration": 22,
    "start_time": "2022-05-10T11:38:53.792Z"
   },
   {
    "duration": 408,
    "start_time": "2022-05-10T11:38:53.816Z"
   },
   {
    "duration": 15,
    "start_time": "2022-05-10T11:38:54.226Z"
   },
   {
    "duration": 277,
    "start_time": "2022-05-10T11:38:54.243Z"
   },
   {
    "duration": 96,
    "start_time": "2022-05-10T11:38:54.525Z"
   },
   {
    "duration": 139,
    "start_time": "2022-05-10T11:38:54.624Z"
   },
   {
    "duration": 8,
    "start_time": "2022-05-10T11:38:54.766Z"
   },
   {
    "duration": 612,
    "start_time": "2022-05-10T11:38:54.776Z"
   },
   {
    "duration": 374,
    "start_time": "2022-05-10T11:38:55.394Z"
   },
   {
    "duration": 345,
    "start_time": "2022-05-10T11:38:55.770Z"
   },
   {
    "duration": 14,
    "start_time": "2022-05-10T11:38:56.118Z"
   },
   {
    "duration": 26,
    "start_time": "2022-05-10T11:38:56.134Z"
   },
   {
    "duration": 438,
    "start_time": "2022-05-10T11:38:56.162Z"
   },
   {
    "duration": 546,
    "start_time": "2022-05-10T11:38:56.610Z"
   },
   {
    "duration": 105,
    "start_time": "2022-05-10T11:38:57.159Z"
   },
   {
    "duration": 389,
    "start_time": "2022-05-10T11:38:57.266Z"
   },
   {
    "duration": 66,
    "start_time": "2022-05-10T11:38:57.657Z"
   },
   {
    "duration": 189,
    "start_time": "2022-05-10T11:38:57.725Z"
   },
   {
    "duration": 0,
    "start_time": "2022-05-10T11:38:57.917Z"
   },
   {
    "duration": 47,
    "start_time": "2022-05-10T11:40:04.495Z"
   },
   {
    "duration": 49,
    "start_time": "2022-05-10T11:40:11.107Z"
   },
   {
    "duration": 57,
    "start_time": "2022-05-10T11:40:33.085Z"
   },
   {
    "duration": 48,
    "start_time": "2022-05-10T11:41:40.484Z"
   },
   {
    "duration": 2916,
    "start_time": "2022-05-10T15:07:23.849Z"
   },
   {
    "duration": 303,
    "start_time": "2022-05-10T15:07:42.849Z"
   },
   {
    "duration": 369,
    "start_time": "2022-05-10T15:08:30.924Z"
   },
   {
    "duration": 12,
    "start_time": "2022-05-10T15:11:57.938Z"
   },
   {
    "duration": 173,
    "start_time": "2022-05-10T15:12:03.794Z"
   },
   {
    "duration": 155,
    "start_time": "2022-05-10T15:12:49.552Z"
   },
   {
    "duration": 199,
    "start_time": "2022-05-10T15:13:22.214Z"
   },
   {
    "duration": 293,
    "start_time": "2022-05-10T15:18:25.610Z"
   },
   {
    "duration": 181,
    "start_time": "2022-05-10T15:20:02.834Z"
   },
   {
    "duration": 177,
    "start_time": "2022-05-10T15:20:12.586Z"
   },
   {
    "duration": 172,
    "start_time": "2022-05-10T15:20:34.425Z"
   },
   {
    "duration": 178,
    "start_time": "2022-05-10T15:20:40.233Z"
   },
   {
    "duration": 199,
    "start_time": "2022-05-10T15:21:00.329Z"
   },
   {
    "duration": 195,
    "start_time": "2022-05-10T15:21:10.019Z"
   },
   {
    "duration": 188,
    "start_time": "2022-05-10T15:21:14.248Z"
   },
   {
    "duration": 315,
    "start_time": "2022-05-10T15:21:21.087Z"
   },
   {
    "duration": 198,
    "start_time": "2022-05-10T15:21:41.151Z"
   },
   {
    "duration": 25,
    "start_time": "2022-05-10T15:24:53.353Z"
   },
   {
    "duration": 176,
    "start_time": "2022-05-10T15:25:10.743Z"
   },
   {
    "duration": 20,
    "start_time": "2022-05-10T15:25:56.558Z"
   },
   {
    "duration": 181,
    "start_time": "2022-05-10T15:25:58.541Z"
   },
   {
    "duration": 18,
    "start_time": "2022-05-10T15:26:16.446Z"
   },
   {
    "duration": 169,
    "start_time": "2022-05-10T15:26:17.981Z"
   },
   {
    "duration": 19,
    "start_time": "2022-05-10T15:26:27.038Z"
   },
   {
    "duration": 182,
    "start_time": "2022-05-10T15:26:28.887Z"
   },
   {
    "duration": 19,
    "start_time": "2022-05-10T15:27:02.445Z"
   },
   {
    "duration": 189,
    "start_time": "2022-05-10T15:27:03.332Z"
   },
   {
    "duration": 26,
    "start_time": "2022-05-10T15:29:27.889Z"
   },
   {
    "duration": 185,
    "start_time": "2022-05-10T15:29:29.272Z"
   },
   {
    "duration": 1738,
    "start_time": "2022-05-10T15:30:03.388Z"
   },
   {
    "duration": 299,
    "start_time": "2022-05-10T15:30:05.130Z"
   },
   {
    "duration": 711,
    "start_time": "2022-05-10T15:30:05.431Z"
   },
   {
    "duration": 1040,
    "start_time": "2022-05-10T15:30:06.145Z"
   },
   {
    "duration": 48,
    "start_time": "2022-05-10T15:30:07.188Z"
   },
   {
    "duration": 19,
    "start_time": "2022-05-10T15:30:07.239Z"
   },
   {
    "duration": 469,
    "start_time": "2022-05-10T15:30:07.261Z"
   },
   {
    "duration": 15,
    "start_time": "2022-05-10T15:30:07.733Z"
   },
   {
    "duration": 225,
    "start_time": "2022-05-10T15:30:07.750Z"
   },
   {
    "duration": 82,
    "start_time": "2022-05-10T15:30:07.979Z"
   },
   {
    "duration": 120,
    "start_time": "2022-05-10T15:30:08.063Z"
   },
   {
    "duration": 12,
    "start_time": "2022-05-10T15:30:08.185Z"
   },
   {
    "duration": 660,
    "start_time": "2022-05-10T15:30:08.199Z"
   },
   {
    "duration": 422,
    "start_time": "2022-05-10T15:30:08.861Z"
   },
   {
    "duration": 385,
    "start_time": "2022-05-10T15:30:09.298Z"
   },
   {
    "duration": 28,
    "start_time": "2022-05-10T15:30:09.685Z"
   },
   {
    "duration": 36,
    "start_time": "2022-05-10T15:30:09.718Z"
   },
   {
    "duration": 388,
    "start_time": "2022-05-10T15:30:09.757Z"
   },
   {
    "duration": 576,
    "start_time": "2022-05-10T15:30:10.148Z"
   },
   {
    "duration": 125,
    "start_time": "2022-05-10T15:30:10.728Z"
   },
   {
    "duration": 420,
    "start_time": "2022-05-10T15:30:10.856Z"
   },
   {
    "duration": 342,
    "start_time": "2022-05-10T15:30:11.280Z"
   },
   {
    "duration": 274,
    "start_time": "2022-05-10T15:30:11.625Z"
   },
   {
    "duration": 27,
    "start_time": "2022-05-10T15:30:11.903Z"
   },
   {
    "duration": 191,
    "start_time": "2022-05-10T15:30:11.933Z"
   },
   {
    "duration": 4,
    "start_time": "2022-05-10T15:30:12.129Z"
   },
   {
    "duration": 195,
    "start_time": "2022-05-10T15:30:12.135Z"
   },
   {
    "duration": 0,
    "start_time": "2022-05-10T15:30:12.333Z"
   },
   {
    "duration": 30,
    "start_time": "2022-05-10T15:30:29.694Z"
   },
   {
    "duration": 229,
    "start_time": "2022-05-10T15:30:31.054Z"
   },
   {
    "duration": 25,
    "start_time": "2022-05-10T15:30:36.229Z"
   },
   {
    "duration": 192,
    "start_time": "2022-05-10T15:30:37.766Z"
   },
   {
    "duration": 19,
    "start_time": "2022-05-10T15:30:42.454Z"
   },
   {
    "duration": 173,
    "start_time": "2022-05-10T15:30:44.125Z"
   },
   {
    "duration": 312,
    "start_time": "2022-05-10T15:43:53.483Z"
   },
   {
    "duration": 320,
    "start_time": "2022-05-10T15:44:03.622Z"
   },
   {
    "duration": 270,
    "start_time": "2022-05-10T15:50:36.454Z"
   },
   {
    "duration": 186,
    "start_time": "2022-05-10T15:51:22.949Z"
   },
   {
    "duration": 1734,
    "start_time": "2022-05-10T16:01:29.937Z"
   },
   {
    "duration": 176,
    "start_time": "2022-05-10T16:01:31.673Z"
   },
   {
    "duration": 624,
    "start_time": "2022-05-10T16:01:31.851Z"
   },
   {
    "duration": 105,
    "start_time": "2022-05-10T16:01:32.479Z"
   },
   {
    "duration": 37,
    "start_time": "2022-05-10T16:01:32.587Z"
   },
   {
    "duration": 19,
    "start_time": "2022-05-10T16:01:32.627Z"
   },
   {
    "duration": 433,
    "start_time": "2022-05-10T16:01:32.650Z"
   },
   {
    "duration": 20,
    "start_time": "2022-05-10T16:01:33.085Z"
   },
   {
    "duration": 207,
    "start_time": "2022-05-10T16:01:33.107Z"
   },
   {
    "duration": 81,
    "start_time": "2022-05-10T16:01:33.320Z"
   },
   {
    "duration": 119,
    "start_time": "2022-05-10T16:01:33.404Z"
   },
   {
    "duration": 9,
    "start_time": "2022-05-10T16:01:33.526Z"
   },
   {
    "duration": 622,
    "start_time": "2022-05-10T16:01:33.537Z"
   },
   {
    "duration": 365,
    "start_time": "2022-05-10T16:01:34.162Z"
   },
   {
    "duration": 330,
    "start_time": "2022-05-10T16:01:34.530Z"
   },
   {
    "duration": 13,
    "start_time": "2022-05-10T16:01:34.862Z"
   },
   {
    "duration": 37,
    "start_time": "2022-05-10T16:01:34.877Z"
   },
   {
    "duration": 411,
    "start_time": "2022-05-10T16:01:34.916Z"
   },
   {
    "duration": 528,
    "start_time": "2022-05-10T16:01:35.330Z"
   },
   {
    "duration": 99,
    "start_time": "2022-05-10T16:01:35.860Z"
   },
   {
    "duration": 471,
    "start_time": "2022-05-10T16:01:35.962Z"
   },
   {
    "duration": 425,
    "start_time": "2022-05-10T16:01:36.436Z"
   },
   {
    "duration": 288,
    "start_time": "2022-05-10T16:01:36.863Z"
   },
   {
    "duration": 21,
    "start_time": "2022-05-10T16:01:37.153Z"
   },
   {
    "duration": 5,
    "start_time": "2022-05-10T16:01:37.193Z"
   },
   {
    "duration": 165,
    "start_time": "2022-05-10T16:01:37.200Z"
   },
   {
    "duration": 0,
    "start_time": "2022-05-10T16:01:37.367Z"
   },
   {
    "duration": 9,
    "start_time": "2022-05-10T16:04:42.106Z"
   },
   {
    "duration": 55,
    "start_time": "2022-05-10T16:07:38.248Z"
   },
   {
    "duration": 66,
    "start_time": "2022-05-10T16:07:49.285Z"
   },
   {
    "duration": 192,
    "start_time": "2022-05-10T16:09:18.819Z"
   },
   {
    "duration": 263,
    "start_time": "2022-05-10T16:09:27.090Z"
   },
   {
    "duration": 23,
    "start_time": "2022-05-10T16:10:18.984Z"
   },
   {
    "duration": 19,
    "start_time": "2022-05-10T16:11:29.088Z"
   },
   {
    "duration": 22,
    "start_time": "2022-05-10T16:15:36.903Z"
   },
   {
    "duration": 8,
    "start_time": "2022-05-10T16:16:04.078Z"
   },
   {
    "duration": 64409,
    "start_time": "2022-05-10T16:16:12.809Z"
   },
   {
    "duration": 16,
    "start_time": "2022-05-10T16:17:32.093Z"
   },
   {
    "duration": 19,
    "start_time": "2022-05-10T16:17:39.077Z"
   },
   {
    "duration": 25,
    "start_time": "2022-05-10T16:17:50.043Z"
   },
   {
    "duration": 422,
    "start_time": "2022-05-10T16:18:11.827Z"
   },
   {
    "duration": 35,
    "start_time": "2022-05-10T16:19:08.715Z"
   },
   {
    "duration": 3873,
    "start_time": "2022-05-10T16:24:06.472Z"
   },
   {
    "duration": 32,
    "start_time": "2022-05-10T16:27:14.259Z"
   },
   {
    "duration": 7,
    "start_time": "2022-05-10T16:27:29.147Z"
   },
   {
    "duration": 261,
    "start_time": "2022-05-10T16:31:57.366Z"
   },
   {
    "duration": 23,
    "start_time": "2022-05-10T16:32:16.107Z"
   },
   {
    "duration": 14,
    "start_time": "2022-05-10T16:32:19.889Z"
   },
   {
    "duration": 5,
    "start_time": "2022-05-10T16:38:24.641Z"
   },
   {
    "duration": 13,
    "start_time": "2022-05-10T16:38:36.143Z"
   },
   {
    "duration": 3442,
    "start_time": "2022-05-10T16:39:02.176Z"
   },
   {
    "duration": 0,
    "start_time": "2022-05-10T16:39:05.621Z"
   },
   {
    "duration": 252,
    "start_time": "2022-05-10T16:39:08.776Z"
   },
   {
    "duration": 39,
    "start_time": "2022-05-10T16:51:05.125Z"
   },
   {
    "duration": 7,
    "start_time": "2022-05-10T16:51:08.987Z"
   },
   {
    "duration": 15,
    "start_time": "2022-05-10T16:54:18.893Z"
   },
   {
    "duration": 17,
    "start_time": "2022-05-10T16:56:58.184Z"
   },
   {
    "duration": 177,
    "start_time": "2022-05-10T16:57:40.567Z"
   },
   {
    "duration": 122,
    "start_time": "2022-05-10T16:58:15.609Z"
   },
   {
    "duration": 147,
    "start_time": "2022-05-10T16:59:19.652Z"
   },
   {
    "duration": 165,
    "start_time": "2022-05-10T17:00:53.275Z"
   },
   {
    "duration": 20,
    "start_time": "2022-05-10T17:02:50.322Z"
   },
   {
    "duration": 6,
    "start_time": "2022-05-10T17:03:04.160Z"
   },
   {
    "duration": 12,
    "start_time": "2022-05-10T17:06:17.345Z"
   },
   {
    "duration": 15,
    "start_time": "2022-05-10T17:06:46.327Z"
   },
   {
    "duration": 17,
    "start_time": "2022-05-10T17:14:29.102Z"
   },
   {
    "duration": 9,
    "start_time": "2022-05-10T17:14:50.708Z"
   },
   {
    "duration": 140,
    "start_time": "2022-05-10T17:23:30.333Z"
   },
   {
    "duration": 7,
    "start_time": "2022-05-10T17:23:32.843Z"
   },
   {
    "duration": 19,
    "start_time": "2022-05-10T17:45:12.504Z"
   },
   {
    "duration": 21,
    "start_time": "2022-05-10T17:45:52.422Z"
   },
   {
    "duration": 19,
    "start_time": "2022-05-10T17:46:09.205Z"
   },
   {
    "duration": 16,
    "start_time": "2022-05-10T17:46:11.438Z"
   },
   {
    "duration": 19,
    "start_time": "2022-05-10T17:46:13.388Z"
   },
   {
    "duration": 18,
    "start_time": "2022-05-10T17:46:15.387Z"
   },
   {
    "duration": 50,
    "start_time": "2022-05-10T17:47:13.477Z"
   },
   {
    "duration": 43,
    "start_time": "2022-05-10T17:52:00.123Z"
   },
   {
    "duration": 276,
    "start_time": "2022-05-10T17:53:18.729Z"
   },
   {
    "duration": 269,
    "start_time": "2022-05-10T17:54:01.272Z"
   },
   {
    "duration": 233,
    "start_time": "2022-05-10T17:54:43.288Z"
   },
   {
    "duration": 381,
    "start_time": "2022-05-10T17:59:37.278Z"
   },
   {
    "duration": 1639,
    "start_time": "2022-05-10T18:15:17.221Z"
   },
   {
    "duration": 498,
    "start_time": "2022-05-10T18:16:37.640Z"
   },
   {
    "duration": 596,
    "start_time": "2022-05-10T18:17:20.703Z"
   },
   {
    "duration": 631,
    "start_time": "2022-05-10T18:17:44.175Z"
   },
   {
    "duration": 617,
    "start_time": "2022-05-10T18:18:02.286Z"
   },
   {
    "duration": 536,
    "start_time": "2022-05-10T18:18:09.061Z"
   },
   {
    "duration": 516,
    "start_time": "2022-05-10T18:21:53.121Z"
   },
   {
    "duration": 1149,
    "start_time": "2022-05-10T18:23:58.828Z"
   },
   {
    "duration": 415,
    "start_time": "2022-05-10T18:32:03.087Z"
   },
   {
    "duration": 30,
    "start_time": "2022-05-11T08:48:17.668Z"
   },
   {
    "duration": 28,
    "start_time": "2022-05-11T08:48:41.796Z"
   },
   {
    "duration": 81,
    "start_time": "2022-05-12T14:27:15.475Z"
   },
   {
    "duration": 1822,
    "start_time": "2022-05-12T14:27:30.257Z"
   },
   {
    "duration": 144,
    "start_time": "2022-05-12T14:27:32.082Z"
   },
   {
    "duration": 503,
    "start_time": "2022-05-12T14:27:32.231Z"
   },
   {
    "duration": 192,
    "start_time": "2022-05-12T14:27:32.737Z"
   },
   {
    "duration": 39,
    "start_time": "2022-05-12T14:27:32.931Z"
   },
   {
    "duration": 20,
    "start_time": "2022-05-12T14:27:32.973Z"
   },
   {
    "duration": 340,
    "start_time": "2022-05-12T14:27:32.996Z"
   },
   {
    "duration": 11,
    "start_time": "2022-05-12T14:27:33.338Z"
   },
   {
    "duration": 141,
    "start_time": "2022-05-12T14:27:33.351Z"
   },
   {
    "duration": 46,
    "start_time": "2022-05-12T14:27:33.493Z"
   },
   {
    "duration": 122,
    "start_time": "2022-05-12T14:27:33.541Z"
   },
   {
    "duration": 6,
    "start_time": "2022-05-12T14:27:33.665Z"
   },
   {
    "duration": 374,
    "start_time": "2022-05-12T14:27:33.688Z"
   },
   {
    "duration": 296,
    "start_time": "2022-05-12T14:27:34.064Z"
   },
   {
    "duration": 218,
    "start_time": "2022-05-12T14:27:34.362Z"
   },
   {
    "duration": 11,
    "start_time": "2022-05-12T14:27:34.582Z"
   },
   {
    "duration": 22,
    "start_time": "2022-05-12T14:27:34.595Z"
   },
   {
    "duration": 272,
    "start_time": "2022-05-12T14:27:34.619Z"
   },
   {
    "duration": 394,
    "start_time": "2022-05-12T14:27:34.892Z"
   },
   {
    "duration": 68,
    "start_time": "2022-05-12T14:27:35.288Z"
   },
   {
    "duration": 265,
    "start_time": "2022-05-12T14:27:35.358Z"
   },
   {
    "duration": 215,
    "start_time": "2022-05-12T14:27:35.625Z"
   },
   {
    "duration": 233,
    "start_time": "2022-05-12T14:27:35.842Z"
   },
   {
    "duration": 25,
    "start_time": "2022-05-12T14:27:36.077Z"
   },
   {
    "duration": 118,
    "start_time": "2022-05-12T14:27:36.104Z"
   },
   {
    "duration": 0,
    "start_time": "2022-05-12T14:27:36.224Z"
   },
   {
    "duration": 0,
    "start_time": "2022-05-12T14:27:36.226Z"
   },
   {
    "duration": 0,
    "start_time": "2022-05-12T14:27:36.227Z"
   },
   {
    "duration": 0,
    "start_time": "2022-05-12T14:27:36.228Z"
   },
   {
    "duration": 1902,
    "start_time": "2022-05-12T14:28:26.731Z"
   },
   {
    "duration": 1353,
    "start_time": "2022-05-12T14:29:01.946Z"
   },
   {
    "duration": 106,
    "start_time": "2022-05-12T14:29:03.302Z"
   },
   {
    "duration": 425,
    "start_time": "2022-05-12T14:29:03.410Z"
   },
   {
    "duration": 54,
    "start_time": "2022-05-12T14:29:03.837Z"
   },
   {
    "duration": 40,
    "start_time": "2022-05-12T14:29:03.893Z"
   },
   {
    "duration": 18,
    "start_time": "2022-05-12T14:29:03.935Z"
   },
   {
    "duration": 382,
    "start_time": "2022-05-12T14:29:03.956Z"
   },
   {
    "duration": 11,
    "start_time": "2022-05-12T14:29:04.339Z"
   },
   {
    "duration": 124,
    "start_time": "2022-05-12T14:29:04.352Z"
   },
   {
    "duration": 49,
    "start_time": "2022-05-12T14:29:04.478Z"
   },
   {
    "duration": 77,
    "start_time": "2022-05-12T14:29:04.529Z"
   },
   {
    "duration": 6,
    "start_time": "2022-05-12T14:29:04.608Z"
   },
   {
    "duration": 374,
    "start_time": "2022-05-12T14:29:04.616Z"
   },
   {
    "duration": 282,
    "start_time": "2022-05-12T14:29:04.992Z"
   },
   {
    "duration": 193,
    "start_time": "2022-05-12T14:29:05.276Z"
   },
   {
    "duration": 10,
    "start_time": "2022-05-12T14:29:05.471Z"
   },
   {
    "duration": 16,
    "start_time": "2022-05-12T14:29:05.488Z"
   },
   {
    "duration": 239,
    "start_time": "2022-05-12T14:29:05.506Z"
   },
   {
    "duration": 357,
    "start_time": "2022-05-12T14:29:05.746Z"
   },
   {
    "duration": 61,
    "start_time": "2022-05-12T14:29:06.105Z"
   },
   {
    "duration": 221,
    "start_time": "2022-05-12T14:29:06.168Z"
   },
   {
    "duration": 236,
    "start_time": "2022-05-12T14:29:06.391Z"
   },
   {
    "duration": 298,
    "start_time": "2022-05-12T14:29:06.629Z"
   },
   {
    "duration": 17,
    "start_time": "2022-05-12T14:29:06.929Z"
   },
   {
    "duration": 120,
    "start_time": "2022-05-12T14:29:06.949Z"
   },
   {
    "duration": 27,
    "start_time": "2022-05-12T14:29:07.071Z"
   },
   {
    "duration": 415,
    "start_time": "2022-05-12T14:29:07.100Z"
   },
   {
    "duration": 35,
    "start_time": "2022-05-12T14:29:07.518Z"
   },
   {
    "duration": 160,
    "start_time": "2022-05-12T14:29:07.555Z"
   },
   {
    "duration": 1939,
    "start_time": "2022-05-12T14:31:47.371Z"
   },
   {
    "duration": 1867,
    "start_time": "2022-05-12T14:32:26.699Z"
   },
   {
    "duration": 1300,
    "start_time": "2022-05-12T14:34:05.321Z"
   },
   {
    "duration": 124,
    "start_time": "2022-05-12T14:34:06.623Z"
   },
   {
    "duration": 690,
    "start_time": "2022-05-12T14:34:06.749Z"
   },
   {
    "duration": 50,
    "start_time": "2022-05-12T14:34:07.441Z"
   },
   {
    "duration": 23,
    "start_time": "2022-05-12T14:34:07.493Z"
   },
   {
    "duration": 14,
    "start_time": "2022-05-12T14:34:07.518Z"
   },
   {
    "duration": 334,
    "start_time": "2022-05-12T14:34:07.534Z"
   },
   {
    "duration": 24,
    "start_time": "2022-05-12T14:34:07.870Z"
   },
   {
    "duration": 133,
    "start_time": "2022-05-12T14:34:07.895Z"
   },
   {
    "duration": 59,
    "start_time": "2022-05-12T14:34:08.031Z"
   },
   {
    "duration": 71,
    "start_time": "2022-05-12T14:34:08.092Z"
   },
   {
    "duration": 29,
    "start_time": "2022-05-12T14:34:08.165Z"
   },
   {
    "duration": 365,
    "start_time": "2022-05-12T14:34:08.196Z"
   },
   {
    "duration": 273,
    "start_time": "2022-05-12T14:34:08.563Z"
   },
   {
    "duration": 203,
    "start_time": "2022-05-12T14:34:08.837Z"
   },
   {
    "duration": 10,
    "start_time": "2022-05-12T14:34:09.043Z"
   },
   {
    "duration": 34,
    "start_time": "2022-05-12T14:34:09.055Z"
   },
   {
    "duration": 227,
    "start_time": "2022-05-12T14:34:09.091Z"
   },
   {
    "duration": 340,
    "start_time": "2022-05-12T14:34:09.320Z"
   },
   {
    "duration": 101,
    "start_time": "2022-05-12T14:34:09.663Z"
   },
   {
    "duration": 230,
    "start_time": "2022-05-12T14:34:09.765Z"
   },
   {
    "duration": 202,
    "start_time": "2022-05-12T14:34:09.997Z"
   },
   {
    "duration": 253,
    "start_time": "2022-05-12T14:34:10.202Z"
   },
   {
    "duration": 15,
    "start_time": "2022-05-12T14:34:10.457Z"
   },
   {
    "duration": 110,
    "start_time": "2022-05-12T14:34:10.488Z"
   },
   {
    "duration": 25,
    "start_time": "2022-05-12T14:34:10.600Z"
   },
   {
    "duration": 444,
    "start_time": "2022-05-12T14:34:10.627Z"
   },
   {
    "duration": 45,
    "start_time": "2022-05-12T14:34:11.075Z"
   },
   {
    "duration": 1262,
    "start_time": "2022-05-12T14:54:22.812Z"
   },
   {
    "duration": 106,
    "start_time": "2022-05-12T14:54:24.077Z"
   },
   {
    "duration": 583,
    "start_time": "2022-05-12T14:54:24.185Z"
   },
   {
    "duration": 48,
    "start_time": "2022-05-12T14:54:24.771Z"
   },
   {
    "duration": 37,
    "start_time": "2022-05-12T14:54:24.822Z"
   },
   {
    "duration": 17,
    "start_time": "2022-05-12T14:54:24.862Z"
   },
   {
    "duration": 304,
    "start_time": "2022-05-12T14:54:24.881Z"
   },
   {
    "duration": 11,
    "start_time": "2022-05-12T14:54:25.188Z"
   },
   {
    "duration": 135,
    "start_time": "2022-05-12T14:54:25.201Z"
   },
   {
    "duration": 57,
    "start_time": "2022-05-12T14:54:25.339Z"
   },
   {
    "duration": 69,
    "start_time": "2022-05-12T14:54:25.398Z"
   },
   {
    "duration": 23,
    "start_time": "2022-05-12T14:54:25.469Z"
   },
   {
    "duration": 368,
    "start_time": "2022-05-12T14:54:25.494Z"
   },
   {
    "duration": 275,
    "start_time": "2022-05-12T14:54:25.864Z"
   },
   {
    "duration": 201,
    "start_time": "2022-05-12T14:54:26.140Z"
   },
   {
    "duration": 10,
    "start_time": "2022-05-12T14:54:26.343Z"
   },
   {
    "duration": 19,
    "start_time": "2022-05-12T14:54:26.354Z"
   },
   {
    "duration": 260,
    "start_time": "2022-05-12T14:54:26.374Z"
   },
   {
    "duration": 349,
    "start_time": "2022-05-12T14:54:26.636Z"
   },
   {
    "duration": 59,
    "start_time": "2022-05-12T14:54:26.988Z"
   },
   {
    "duration": 240,
    "start_time": "2022-05-12T14:54:27.049Z"
   },
   {
    "duration": 207,
    "start_time": "2022-05-12T14:54:27.291Z"
   },
   {
    "duration": 220,
    "start_time": "2022-05-12T14:54:27.500Z"
   },
   {
    "duration": 14,
    "start_time": "2022-05-12T14:54:27.722Z"
   },
   {
    "duration": 112,
    "start_time": "2022-05-12T14:54:27.738Z"
   },
   {
    "duration": 22,
    "start_time": "2022-05-12T14:54:27.852Z"
   },
   {
    "duration": 412,
    "start_time": "2022-05-12T14:54:27.889Z"
   },
   {
    "duration": 33,
    "start_time": "2022-05-12T14:54:28.304Z"
   },
   {
    "duration": 1230,
    "start_time": "2022-05-13T13:52:49.985Z"
   },
   {
    "duration": 60,
    "start_time": "2022-05-13T13:52:51.218Z"
   },
   {
    "duration": 768,
    "start_time": "2022-05-13T13:52:51.280Z"
   },
   {
    "duration": 42,
    "start_time": "2022-05-13T13:52:52.050Z"
   },
   {
    "duration": 21,
    "start_time": "2022-05-13T13:52:52.094Z"
   },
   {
    "duration": 13,
    "start_time": "2022-05-13T13:52:52.117Z"
   },
   {
    "duration": 285,
    "start_time": "2022-05-13T13:52:52.132Z"
   },
   {
    "duration": 11,
    "start_time": "2022-05-13T13:52:52.418Z"
   },
   {
    "duration": 148,
    "start_time": "2022-05-13T13:52:52.430Z"
   },
   {
    "duration": 44,
    "start_time": "2022-05-13T13:52:52.581Z"
   },
   {
    "duration": 78,
    "start_time": "2022-05-13T13:52:52.627Z"
   },
   {
    "duration": 5,
    "start_time": "2022-05-13T13:52:52.707Z"
   },
   {
    "duration": 336,
    "start_time": "2022-05-13T13:52:52.713Z"
   },
   {
    "duration": 289,
    "start_time": "2022-05-13T13:52:53.052Z"
   },
   {
    "duration": 195,
    "start_time": "2022-05-13T13:52:53.343Z"
   },
   {
    "duration": 8,
    "start_time": "2022-05-13T13:52:53.540Z"
   },
   {
    "duration": 31,
    "start_time": "2022-05-13T13:52:53.550Z"
   },
   {
    "duration": 232,
    "start_time": "2022-05-13T13:52:53.582Z"
   },
   {
    "duration": 322,
    "start_time": "2022-05-13T13:52:53.816Z"
   },
   {
    "duration": 85,
    "start_time": "2022-05-13T13:52:54.139Z"
   },
   {
    "duration": 219,
    "start_time": "2022-05-13T13:52:54.226Z"
   },
   {
    "duration": 201,
    "start_time": "2022-05-13T13:52:54.446Z"
   },
   {
    "duration": 185,
    "start_time": "2022-05-13T13:52:54.649Z"
   },
   {
    "duration": 16,
    "start_time": "2022-05-13T13:52:54.836Z"
   },
   {
    "duration": 102,
    "start_time": "2022-05-13T13:52:54.862Z"
   },
   {
    "duration": 25,
    "start_time": "2022-05-13T13:52:54.965Z"
   },
   {
    "duration": 378,
    "start_time": "2022-05-13T13:52:54.991Z"
   },
   {
    "duration": 37,
    "start_time": "2022-05-13T13:52:55.371Z"
   },
   {
    "duration": 1517,
    "start_time": "2022-05-14T09:28:23.924Z"
   },
   {
    "duration": 40,
    "start_time": "2022-05-14T09:28:25.444Z"
   },
   {
    "duration": 269,
    "start_time": "2022-05-14T09:28:25.486Z"
   },
   {
    "duration": 24,
    "start_time": "2022-05-14T09:28:25.757Z"
   },
   {
    "duration": 46,
    "start_time": "2022-05-14T09:28:25.782Z"
   },
   {
    "duration": 13,
    "start_time": "2022-05-14T09:28:25.830Z"
   },
   {
    "duration": 302,
    "start_time": "2022-05-14T09:28:25.844Z"
   },
   {
    "duration": 10,
    "start_time": "2022-05-14T09:28:26.148Z"
   },
   {
    "duration": 149,
    "start_time": "2022-05-14T09:28:26.160Z"
   },
   {
    "duration": 58,
    "start_time": "2022-05-14T09:28:26.313Z"
   },
   {
    "duration": 108,
    "start_time": "2022-05-14T09:28:26.372Z"
   },
   {
    "duration": 6,
    "start_time": "2022-05-14T09:28:26.481Z"
   },
   {
    "duration": 392,
    "start_time": "2022-05-14T09:28:26.489Z"
   },
   {
    "duration": 288,
    "start_time": "2022-05-14T09:28:26.883Z"
   },
   {
    "duration": 205,
    "start_time": "2022-05-14T09:28:27.172Z"
   },
   {
    "duration": 6,
    "start_time": "2022-05-14T09:28:27.379Z"
   },
   {
    "duration": 29,
    "start_time": "2022-05-14T09:28:27.386Z"
   },
   {
    "duration": 249,
    "start_time": "2022-05-14T09:28:27.417Z"
   },
   {
    "duration": 364,
    "start_time": "2022-05-14T09:28:27.668Z"
   },
   {
    "duration": 56,
    "start_time": "2022-05-14T09:28:28.034Z"
   },
   {
    "duration": 241,
    "start_time": "2022-05-14T09:28:28.111Z"
   },
   {
    "duration": 222,
    "start_time": "2022-05-14T09:28:28.354Z"
   },
   {
    "duration": 206,
    "start_time": "2022-05-14T09:28:28.578Z"
   },
   {
    "duration": 34,
    "start_time": "2022-05-14T09:28:28.786Z"
   },
   {
    "duration": 111,
    "start_time": "2022-05-14T09:28:28.822Z"
   },
   {
    "duration": 23,
    "start_time": "2022-05-14T09:28:28.934Z"
   },
   {
    "duration": 465,
    "start_time": "2022-05-14T09:28:28.958Z"
   },
   {
    "duration": 34,
    "start_time": "2022-05-14T09:28:29.426Z"
   },
   {
    "duration": 10,
    "start_time": "2022-05-14T09:29:02.155Z"
   },
   {
    "duration": 24,
    "start_time": "2022-05-14T09:29:11.077Z"
   },
   {
    "duration": 7,
    "start_time": "2022-05-14T09:30:16.223Z"
   },
   {
    "duration": 13,
    "start_time": "2022-05-14T09:30:29.713Z"
   },
   {
    "duration": 12,
    "start_time": "2022-05-14T09:31:31.680Z"
   },
   {
    "duration": 18,
    "start_time": "2022-05-14T09:31:59.807Z"
   },
   {
    "duration": 211,
    "start_time": "2022-05-14T09:45:56.127Z"
   },
   {
    "duration": 174,
    "start_time": "2022-05-14T09:46:23.086Z"
   },
   {
    "duration": 169,
    "start_time": "2022-05-14T09:46:30.782Z"
   },
   {
    "duration": 1284,
    "start_time": "2022-05-14T09:48:58.178Z"
   },
   {
    "duration": 46,
    "start_time": "2022-05-14T09:48:59.464Z"
   },
   {
    "duration": 258,
    "start_time": "2022-05-14T09:48:59.512Z"
   },
   {
    "duration": 24,
    "start_time": "2022-05-14T09:48:59.772Z"
   },
   {
    "duration": 37,
    "start_time": "2022-05-14T09:48:59.797Z"
   },
   {
    "duration": 14,
    "start_time": "2022-05-14T09:48:59.835Z"
   },
   {
    "duration": 325,
    "start_time": "2022-05-14T09:48:59.851Z"
   },
   {
    "duration": 11,
    "start_time": "2022-05-14T09:49:00.177Z"
   },
   {
    "duration": 160,
    "start_time": "2022-05-14T09:49:00.190Z"
   },
   {
    "duration": 57,
    "start_time": "2022-05-14T09:49:00.353Z"
   },
   {
    "duration": 64,
    "start_time": "2022-05-14T09:49:00.412Z"
   },
   {
    "duration": 5,
    "start_time": "2022-05-14T09:49:00.478Z"
   },
   {
    "duration": 409,
    "start_time": "2022-05-14T09:49:00.485Z"
   },
   {
    "duration": 284,
    "start_time": "2022-05-14T09:49:00.896Z"
   },
   {
    "duration": 182,
    "start_time": "2022-05-14T09:49:01.181Z"
   },
   {
    "duration": 9,
    "start_time": "2022-05-14T09:49:01.365Z"
   },
   {
    "duration": 35,
    "start_time": "2022-05-14T09:49:01.376Z"
   },
   {
    "duration": 14,
    "start_time": "2022-05-14T09:49:01.413Z"
   },
   {
    "duration": 255,
    "start_time": "2022-05-14T09:49:01.429Z"
   },
   {
    "duration": 363,
    "start_time": "2022-05-14T09:49:01.686Z"
   },
   {
    "duration": 74,
    "start_time": "2022-05-14T09:49:02.051Z"
   },
   {
    "duration": 241,
    "start_time": "2022-05-14T09:49:02.127Z"
   },
   {
    "duration": 212,
    "start_time": "2022-05-14T09:49:02.370Z"
   },
   {
    "duration": 207,
    "start_time": "2022-05-14T09:49:02.584Z"
   },
   {
    "duration": 22,
    "start_time": "2022-05-14T09:49:02.793Z"
   },
   {
    "duration": 107,
    "start_time": "2022-05-14T09:49:02.817Z"
   },
   {
    "duration": 21,
    "start_time": "2022-05-14T09:49:02.926Z"
   },
   {
    "duration": 472,
    "start_time": "2022-05-14T09:49:02.950Z"
   },
   {
    "duration": 35,
    "start_time": "2022-05-14T09:49:03.425Z"
   },
   {
    "duration": 1275,
    "start_time": "2022-06-21T17:38:35.593Z"
   },
   {
    "duration": 180,
    "start_time": "2022-06-21T17:38:36.878Z"
   },
   {
    "duration": 862,
    "start_time": "2022-06-21T17:38:37.060Z"
   },
   {
    "duration": 101,
    "start_time": "2022-06-21T17:38:37.925Z"
   },
   {
    "duration": 24,
    "start_time": "2022-06-21T17:38:38.027Z"
   },
   {
    "duration": 17,
    "start_time": "2022-06-21T17:38:38.053Z"
   },
   {
    "duration": 317,
    "start_time": "2022-06-21T17:38:38.075Z"
   },
   {
    "duration": 11,
    "start_time": "2022-06-21T17:38:38.394Z"
   },
   {
    "duration": 157,
    "start_time": "2022-06-21T17:38:38.407Z"
   },
   {
    "duration": 43,
    "start_time": "2022-06-21T17:38:38.575Z"
   },
   {
    "duration": 82,
    "start_time": "2022-06-21T17:38:38.620Z"
   },
   {
    "duration": 7,
    "start_time": "2022-06-21T17:38:38.704Z"
   },
   {
    "duration": 674,
    "start_time": "2022-06-21T17:38:38.713Z"
   },
   {
    "duration": 286,
    "start_time": "2022-06-21T17:38:39.388Z"
   },
   {
    "duration": 158,
    "start_time": "2022-06-21T17:38:39.684Z"
   },
   {
    "duration": 15,
    "start_time": "2022-06-21T17:38:39.844Z"
   },
   {
    "duration": 24,
    "start_time": "2022-06-21T17:38:39.861Z"
   },
   {
    "duration": 13,
    "start_time": "2022-06-21T17:38:39.888Z"
   },
   {
    "duration": 246,
    "start_time": "2022-06-21T17:38:39.902Z"
   },
   {
    "duration": 371,
    "start_time": "2022-06-21T17:38:40.150Z"
   },
   {
    "duration": 66,
    "start_time": "2022-06-21T17:38:40.523Z"
   },
   {
    "duration": 238,
    "start_time": "2022-06-21T17:38:40.591Z"
   },
   {
    "duration": 236,
    "start_time": "2022-06-21T17:38:40.830Z"
   },
   {
    "duration": 228,
    "start_time": "2022-06-21T17:38:41.070Z"
   },
   {
    "duration": 13,
    "start_time": "2022-06-21T17:38:41.300Z"
   },
   {
    "duration": 121,
    "start_time": "2022-06-21T17:38:41.315Z"
   },
   {
    "duration": 43,
    "start_time": "2022-06-21T17:38:41.437Z"
   },
   {
    "duration": 434,
    "start_time": "2022-06-21T17:38:41.483Z"
   },
   {
    "duration": 43,
    "start_time": "2022-06-21T17:38:41.919Z"
   },
   {
    "duration": 1225,
    "start_time": "2022-06-21T18:52:34.438Z"
   },
   {
    "duration": 54,
    "start_time": "2022-06-21T18:52:35.670Z"
   },
   {
    "duration": 260,
    "start_time": "2022-06-21T18:52:35.726Z"
   },
   {
    "duration": 29,
    "start_time": "2022-06-21T18:52:35.989Z"
   },
   {
    "duration": 24,
    "start_time": "2022-06-21T18:52:36.020Z"
   },
   {
    "duration": 26,
    "start_time": "2022-06-21T18:52:36.055Z"
   },
   {
    "duration": 266,
    "start_time": "2022-06-21T18:52:36.083Z"
   },
   {
    "duration": 28,
    "start_time": "2022-06-21T18:52:36.351Z"
   },
   {
    "duration": 136,
    "start_time": "2022-06-21T18:52:36.382Z"
   },
   {
    "duration": 53,
    "start_time": "2022-06-21T18:52:36.521Z"
   },
   {
    "duration": 66,
    "start_time": "2022-06-21T18:52:36.576Z"
   },
   {
    "duration": 14,
    "start_time": "2022-06-21T18:52:36.644Z"
   },
   {
    "duration": 419,
    "start_time": "2022-06-21T18:52:36.661Z"
   },
   {
    "duration": 309,
    "start_time": "2022-06-21T18:52:37.084Z"
   },
   {
    "duration": 189,
    "start_time": "2022-06-21T18:52:37.395Z"
   },
   {
    "duration": 11,
    "start_time": "2022-06-21T18:52:37.586Z"
   },
   {
    "duration": 19,
    "start_time": "2022-06-21T18:52:37.599Z"
   },
   {
    "duration": 13,
    "start_time": "2022-06-21T18:52:37.619Z"
   },
   {
    "duration": 255,
    "start_time": "2022-06-21T18:52:37.634Z"
   },
   {
    "duration": 379,
    "start_time": "2022-06-21T18:52:37.890Z"
   },
   {
    "duration": 65,
    "start_time": "2022-06-21T18:52:38.272Z"
   },
   {
    "duration": 282,
    "start_time": "2022-06-21T18:52:38.341Z"
   },
   {
    "duration": 213,
    "start_time": "2022-06-21T18:52:38.625Z"
   },
   {
    "duration": 193,
    "start_time": "2022-06-21T18:52:38.839Z"
   },
   {
    "duration": 32,
    "start_time": "2022-06-21T18:52:39.034Z"
   },
   {
    "duration": 113,
    "start_time": "2022-06-21T18:52:39.068Z"
   },
   {
    "duration": 22,
    "start_time": "2022-06-21T18:52:39.183Z"
   },
   {
    "duration": 469,
    "start_time": "2022-06-21T18:52:39.210Z"
   },
   {
    "duration": 31,
    "start_time": "2022-06-21T18:52:39.681Z"
   }
  ],
  "kernelspec": {
   "display_name": "Python 3 (ipykernel)",
   "language": "python",
   "name": "python3"
  },
  "language_info": {
   "codemirror_mode": {
    "name": "ipython",
    "version": 3
   },
   "file_extension": ".py",
   "mimetype": "text/x-python",
   "name": "python",
   "nbconvert_exporter": "python",
   "pygments_lexer": "ipython3",
   "version": "3.9.7"
  },
  "toc": {
   "base_numbering": 1,
   "nav_menu": {},
   "number_sections": true,
   "sideBar": true,
   "skip_h1_title": true,
   "title_cell": "Table of Contents",
   "title_sidebar": "Contents",
   "toc_cell": false,
   "toc_position": {},
   "toc_section_display": true,
   "toc_window_display": false
  }
 },
 "nbformat": 4,
 "nbformat_minor": 2
}
