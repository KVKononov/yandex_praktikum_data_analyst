{
 "cells": [
  {
   "cell_type": "markdown",
   "metadata": {},
   "source": [
    "# Принятие решений в бизнесе\n",
    "\n",
    "Вы — аналитик крупного интернет-магазина. Вместе с отделом маркетинга вы подготовили список гипотез для увеличения выручки.\n",
    "Приоритизируйте гипотезы, запустите A/B-тест и проанализируйте результаты."
   ]
  },
  {
   "cell_type": "markdown",
   "metadata": {},
   "source": [
    "## Оглавление\n",
    "\n",
    "1. Изучение данных из файла\n",
    "2. Приоритизация гипотез\n",
    "3. Анализ A/B-теста\n",
    "4. Общий вывод"
   ]
  },
  {
   "cell_type": "markdown",
   "metadata": {},
   "source": [
    "##  1. Изучение данных из файла "
   ]
  },
  {
   "cell_type": "code",
   "execution_count": 1,
   "metadata": {},
   "outputs": [],
   "source": [
    "import pandas as pd\n",
    "import seaborn as sns\n",
    "import matplotlib.pyplot as plt\n",
    "import numpy as np\n",
    "import datetime as dt\n",
    "from scipy import stats as st\n",
    "from pandas.plotting import register_matplotlib_converters\n",
    "import warnings\n",
    "warnings.filterwarnings('ignore')\n",
    "pd.set_option('display.max_rows', None)\n",
    "pd.set_option('display.max_columns', None)\n",
    "register_matplotlib_converters()"
   ]
  },
  {
   "cell_type": "code",
   "execution_count": 2,
   "metadata": {},
   "outputs": [
    {
     "data": {
      "text/html": [
       "<div>\n",
       "<style scoped>\n",
       "    .dataframe tbody tr th:only-of-type {\n",
       "        vertical-align: middle;\n",
       "    }\n",
       "\n",
       "    .dataframe tbody tr th {\n",
       "        vertical-align: top;\n",
       "    }\n",
       "\n",
       "    .dataframe thead th {\n",
       "        text-align: right;\n",
       "    }\n",
       "</style>\n",
       "<table border=\"1\" class=\"dataframe\">\n",
       "  <thead>\n",
       "    <tr style=\"text-align: right;\">\n",
       "      <th></th>\n",
       "      <th>hypothesis</th>\n",
       "      <th>reach</th>\n",
       "      <th>impact</th>\n",
       "      <th>confidence</th>\n",
       "      <th>efforts</th>\n",
       "    </tr>\n",
       "  </thead>\n",
       "  <tbody>\n",
       "    <tr>\n",
       "      <th>0</th>\n",
       "      <td>Добавить два новых канала привлечения трафика,...</td>\n",
       "      <td>3</td>\n",
       "      <td>10</td>\n",
       "      <td>8</td>\n",
       "      <td>6</td>\n",
       "    </tr>\n",
       "    <tr>\n",
       "      <th>1</th>\n",
       "      <td>Запустить собственную службу доставки, что сок...</td>\n",
       "      <td>2</td>\n",
       "      <td>5</td>\n",
       "      <td>4</td>\n",
       "      <td>10</td>\n",
       "    </tr>\n",
       "    <tr>\n",
       "      <th>2</th>\n",
       "      <td>Добавить блоки рекомендаций товаров на сайт ин...</td>\n",
       "      <td>8</td>\n",
       "      <td>3</td>\n",
       "      <td>7</td>\n",
       "      <td>3</td>\n",
       "    </tr>\n",
       "    <tr>\n",
       "      <th>3</th>\n",
       "      <td>Изменить структура категорий, что увеличит кон...</td>\n",
       "      <td>8</td>\n",
       "      <td>3</td>\n",
       "      <td>3</td>\n",
       "      <td>8</td>\n",
       "    </tr>\n",
       "    <tr>\n",
       "      <th>4</th>\n",
       "      <td>Изменить цвет фона главной страницы, чтобы уве...</td>\n",
       "      <td>3</td>\n",
       "      <td>1</td>\n",
       "      <td>1</td>\n",
       "      <td>1</td>\n",
       "    </tr>\n",
       "  </tbody>\n",
       "</table>\n",
       "</div>"
      ],
      "text/plain": [
       "                                          hypothesis  reach  impact  \\\n",
       "0  Добавить два новых канала привлечения трафика,...      3      10   \n",
       "1  Запустить собственную службу доставки, что сок...      2       5   \n",
       "2  Добавить блоки рекомендаций товаров на сайт ин...      8       3   \n",
       "3  Изменить структура категорий, что увеличит кон...      8       3   \n",
       "4  Изменить цвет фона главной страницы, чтобы уве...      3       1   \n",
       "\n",
       "   confidence  efforts  \n",
       "0           8        6  \n",
       "1           4       10  \n",
       "2           7        3  \n",
       "3           3        8  \n",
       "4           1        1  "
      ]
     },
     "metadata": {},
     "output_type": "display_data"
    },
    {
     "name": "stdout",
     "output_type": "stream",
     "text": [
      "<class 'pandas.core.frame.DataFrame'>\n",
      "RangeIndex: 9 entries, 0 to 8\n",
      "Data columns (total 5 columns):\n",
      " #   Column      Non-Null Count  Dtype \n",
      "---  ------      --------------  ----- \n",
      " 0   hypothesis  9 non-null      object\n",
      " 1   reach       9 non-null      int64 \n",
      " 2   impact      9 non-null      int64 \n",
      " 3   confidence  9 non-null      int64 \n",
      " 4   efforts     9 non-null      int64 \n",
      "dtypes: int64(4), object(1)\n",
      "memory usage: 488.0+ bytes\n"
     ]
    },
    {
     "data": {
      "text/html": [
       "<div>\n",
       "<style scoped>\n",
       "    .dataframe tbody tr th:only-of-type {\n",
       "        vertical-align: middle;\n",
       "    }\n",
       "\n",
       "    .dataframe tbody tr th {\n",
       "        vertical-align: top;\n",
       "    }\n",
       "\n",
       "    .dataframe thead th {\n",
       "        text-align: right;\n",
       "    }\n",
       "</style>\n",
       "<table border=\"1\" class=\"dataframe\">\n",
       "  <thead>\n",
       "    <tr style=\"text-align: right;\">\n",
       "      <th></th>\n",
       "      <th>transaction_id</th>\n",
       "      <th>visitor_id</th>\n",
       "      <th>date</th>\n",
       "      <th>revenue</th>\n",
       "      <th>group</th>\n",
       "    </tr>\n",
       "  </thead>\n",
       "  <tbody>\n",
       "    <tr>\n",
       "      <th>0</th>\n",
       "      <td>3667963787</td>\n",
       "      <td>3312258926</td>\n",
       "      <td>2019-08-15</td>\n",
       "      <td>1650</td>\n",
       "      <td>B</td>\n",
       "    </tr>\n",
       "    <tr>\n",
       "      <th>1</th>\n",
       "      <td>2804400009</td>\n",
       "      <td>3642806036</td>\n",
       "      <td>2019-08-15</td>\n",
       "      <td>730</td>\n",
       "      <td>B</td>\n",
       "    </tr>\n",
       "    <tr>\n",
       "      <th>2</th>\n",
       "      <td>2961555356</td>\n",
       "      <td>4069496402</td>\n",
       "      <td>2019-08-15</td>\n",
       "      <td>400</td>\n",
       "      <td>A</td>\n",
       "    </tr>\n",
       "    <tr>\n",
       "      <th>3</th>\n",
       "      <td>3797467345</td>\n",
       "      <td>1196621759</td>\n",
       "      <td>2019-08-15</td>\n",
       "      <td>9759</td>\n",
       "      <td>B</td>\n",
       "    </tr>\n",
       "    <tr>\n",
       "      <th>4</th>\n",
       "      <td>2282983706</td>\n",
       "      <td>2322279887</td>\n",
       "      <td>2019-08-15</td>\n",
       "      <td>2308</td>\n",
       "      <td>B</td>\n",
       "    </tr>\n",
       "  </tbody>\n",
       "</table>\n",
       "</div>"
      ],
      "text/plain": [
       "   transaction_id  visitor_id        date  revenue group\n",
       "0      3667963787  3312258926  2019-08-15     1650     B\n",
       "1      2804400009  3642806036  2019-08-15      730     B\n",
       "2      2961555356  4069496402  2019-08-15      400     A\n",
       "3      3797467345  1196621759  2019-08-15     9759     B\n",
       "4      2282983706  2322279887  2019-08-15     2308     B"
      ]
     },
     "metadata": {},
     "output_type": "display_data"
    },
    {
     "name": "stdout",
     "output_type": "stream",
     "text": [
      "<class 'pandas.core.frame.DataFrame'>\n",
      "RangeIndex: 1197 entries, 0 to 1196\n",
      "Data columns (total 5 columns):\n",
      " #   Column          Non-Null Count  Dtype \n",
      "---  ------          --------------  ----- \n",
      " 0   transaction_id  1197 non-null   int64 \n",
      " 1   visitor_id      1197 non-null   int64 \n",
      " 2   date            1197 non-null   object\n",
      " 3   revenue         1197 non-null   int64 \n",
      " 4   group           1197 non-null   object\n",
      "dtypes: int64(3), object(2)\n",
      "memory usage: 46.9+ KB\n"
     ]
    },
    {
     "data": {
      "text/html": [
       "<div>\n",
       "<style scoped>\n",
       "    .dataframe tbody tr th:only-of-type {\n",
       "        vertical-align: middle;\n",
       "    }\n",
       "\n",
       "    .dataframe tbody tr th {\n",
       "        vertical-align: top;\n",
       "    }\n",
       "\n",
       "    .dataframe thead th {\n",
       "        text-align: right;\n",
       "    }\n",
       "</style>\n",
       "<table border=\"1\" class=\"dataframe\">\n",
       "  <thead>\n",
       "    <tr style=\"text-align: right;\">\n",
       "      <th></th>\n",
       "      <th>date</th>\n",
       "      <th>group</th>\n",
       "      <th>visitors</th>\n",
       "    </tr>\n",
       "  </thead>\n",
       "  <tbody>\n",
       "    <tr>\n",
       "      <th>0</th>\n",
       "      <td>2019-08-01</td>\n",
       "      <td>A</td>\n",
       "      <td>719</td>\n",
       "    </tr>\n",
       "    <tr>\n",
       "      <th>1</th>\n",
       "      <td>2019-08-02</td>\n",
       "      <td>A</td>\n",
       "      <td>619</td>\n",
       "    </tr>\n",
       "    <tr>\n",
       "      <th>2</th>\n",
       "      <td>2019-08-03</td>\n",
       "      <td>A</td>\n",
       "      <td>507</td>\n",
       "    </tr>\n",
       "    <tr>\n",
       "      <th>3</th>\n",
       "      <td>2019-08-04</td>\n",
       "      <td>A</td>\n",
       "      <td>717</td>\n",
       "    </tr>\n",
       "    <tr>\n",
       "      <th>4</th>\n",
       "      <td>2019-08-05</td>\n",
       "      <td>A</td>\n",
       "      <td>756</td>\n",
       "    </tr>\n",
       "  </tbody>\n",
       "</table>\n",
       "</div>"
      ],
      "text/plain": [
       "         date group  visitors\n",
       "0  2019-08-01     A       719\n",
       "1  2019-08-02     A       619\n",
       "2  2019-08-03     A       507\n",
       "3  2019-08-04     A       717\n",
       "4  2019-08-05     A       756"
      ]
     },
     "metadata": {},
     "output_type": "display_data"
    },
    {
     "name": "stdout",
     "output_type": "stream",
     "text": [
      "<class 'pandas.core.frame.DataFrame'>\n",
      "RangeIndex: 62 entries, 0 to 61\n",
      "Data columns (total 3 columns):\n",
      " #   Column    Non-Null Count  Dtype \n",
      "---  ------    --------------  ----- \n",
      " 0   date      62 non-null     object\n",
      " 1   group     62 non-null     object\n",
      " 2   visitors  62 non-null     int64 \n",
      "dtypes: int64(1), object(2)\n",
      "memory usage: 1.6+ KB\n"
     ]
    }
   ],
   "source": [
    "# База по гипотезам\n",
    "hypothesis_data = pd.read_csv('/datasets/hypothesis.csv')\n",
    "# Привел названия столбцов к нижнему регистру\n",
    "hypothesis_data.columns = hypothesis_data.columns.str.lower()\n",
    "# База по заказам\n",
    "orders_data = pd.read_csv('/datasets/orders.csv')\n",
    "orders_data.rename(\n",
    "    columns = {'transactionId' : 'transaction_id', \n",
    "    'visitorId' : 'visitor_id'}, inplace = True)\n",
    "# База по пользователям\n",
    "visitors_data = pd.read_csv('/datasets/visitors.csv')\n",
    "display(hypothesis_data.head())\n",
    "hypothesis_data.info()\n",
    "display(orders_data.head())\n",
    "orders_data.info()\n",
    "display(visitors_data.head())\n",
    "visitors_data.info()"
   ]
  },
  {
   "cell_type": "code",
   "execution_count": 3,
   "metadata": {},
   "outputs": [
    {
     "name": "stdout",
     "output_type": "stream",
     "text": [
      "Пропуски в hypothesis_data: hypothesis    0\n",
      "reach         0\n",
      "impact        0\n",
      "confidence    0\n",
      "efforts       0\n",
      "dtype: int64\n",
      "Пропуски в orders_data: transaction_id    0\n",
      "visitor_id        0\n",
      "date              0\n",
      "revenue           0\n",
      "group             0\n",
      "dtype: int64\n",
      "Пропуски в visitors_data: date        0\n",
      "group       0\n",
      "visitors    0\n",
      "dtype: int64\n",
      "Количество дубликатов в hypothesis_data: 0\n",
      "Количество дубликатов в orders_data: 0\n",
      "Количество дубликатов в visitors_data: 0\n"
     ]
    }
   ],
   "source": [
    "# Проверяю наличие пропусков\n",
    "print('Пропуски в hypothesis_data:', hypothesis_data.isna().sum())\n",
    "print('Пропуски в orders_data:', orders_data.isna().sum())\n",
    "print('Пропуски в visitors_data:', visitors_data.isna().sum())\n",
    "# Проверяю наличие дубликатов\n",
    "print('Количество дубликатов в hypothesis_data:', hypothesis_data.duplicated().sum())\n",
    "print('Количество дубликатов в orders_data:', orders_data.duplicated().sum())\n",
    "print('Количество дубликатов в visitors_data:', visitors_data.duplicated().sum())"
   ]
  },
  {
   "cell_type": "markdown",
   "metadata": {},
   "source": [
    "**Вывод**"
   ]
  },
  {
   "cell_type": "markdown",
   "metadata": {},
   "source": [
    "Всего 3 таблицы, типы данных - int64, object.\n",
    "\n",
    "Количество значений в столбцах не различается. Пропусков нет, дубликатов не обнаружил.\n",
    "\n",
    "Привёл названия столбцов в hypothesis_data к нижнему регистру. Названия столбцов в orders_data изменил, согласно змеиному регистру.\n",
    "\n",
    "Согласно документации к данным:\n",
    "\n",
    "Таблица hypothesis (информация о гипотезах):\n",
    "\n",
    "* `hypothesis` — краткое описание гипотезы;\n",
    "* `reach` — охват пользователей по 10-балльной шкале;\n",
    "* `impact` — влияние на пользователей по 10-балльной шкале;\n",
    "* `confidence` — уверенность в гипотезе по 10-балльной шкале;\n",
    "* `efforts` — затраты ресурсов на проверку гипотезы по 10-балльной шкале. Чем больше значение Efforts, тем дороже проверка гипотезы.\n",
    "\n",
    "Таблица orders (информация о заказах):\n",
    "\n",
    "* `transaction_id` — идентификатор заказа;\n",
    "* `visitor_id` — идентификатор пользователя, совершившего заказ;\n",
    "* `date` — дата, когда был совершён заказ;\n",
    "* `revenue` — выручка заказа;\n",
    "* `group` — группа A/B-теста, в которую попал заказ.\n",
    "\n",
    "Таблица visitors (информация о пользователях):\n",
    "\n",
    "* `date` — дата;\n",
    "* `group` — группа A/B-теста;\n",
    "* `visitors` — количество пользователей в указанную дату в указанной группе A/B-теста"
   ]
  },
  {
   "cell_type": "markdown",
   "metadata": {},
   "source": [
    "##  2. Приоритизация гипотез "
   ]
  },
  {
   "cell_type": "code",
   "execution_count": 4,
   "metadata": {},
   "outputs": [
    {
     "data": {
      "text/html": [
       "<div>\n",
       "<style scoped>\n",
       "    .dataframe tbody tr th:only-of-type {\n",
       "        vertical-align: middle;\n",
       "    }\n",
       "\n",
       "    .dataframe tbody tr th {\n",
       "        vertical-align: top;\n",
       "    }\n",
       "\n",
       "    .dataframe thead th {\n",
       "        text-align: right;\n",
       "    }\n",
       "</style>\n",
       "<table border=\"1\" class=\"dataframe\">\n",
       "  <thead>\n",
       "    <tr style=\"text-align: right;\">\n",
       "      <th></th>\n",
       "      <th>hypothesis</th>\n",
       "      <th>ICE</th>\n",
       "    </tr>\n",
       "  </thead>\n",
       "  <tbody>\n",
       "    <tr>\n",
       "      <th>8</th>\n",
       "      <td>Запустить акцию, дающую скидку на товар в день...</td>\n",
       "      <td>16.200000</td>\n",
       "    </tr>\n",
       "    <tr>\n",
       "      <th>0</th>\n",
       "      <td>Добавить два новых канала привлечения трафика,...</td>\n",
       "      <td>13.333333</td>\n",
       "    </tr>\n",
       "    <tr>\n",
       "      <th>7</th>\n",
       "      <td>Добавить форму подписки на все основные страни...</td>\n",
       "      <td>11.200000</td>\n",
       "    </tr>\n",
       "    <tr>\n",
       "      <th>6</th>\n",
       "      <td>Показать на главной странице баннеры с актуаль...</td>\n",
       "      <td>8.000000</td>\n",
       "    </tr>\n",
       "    <tr>\n",
       "      <th>2</th>\n",
       "      <td>Добавить блоки рекомендаций товаров на сайт ин...</td>\n",
       "      <td>7.000000</td>\n",
       "    </tr>\n",
       "    <tr>\n",
       "      <th>1</th>\n",
       "      <td>Запустить собственную службу доставки, что сок...</td>\n",
       "      <td>2.000000</td>\n",
       "    </tr>\n",
       "    <tr>\n",
       "      <th>5</th>\n",
       "      <td>Добавить страницу отзывов клиентов о магазине,...</td>\n",
       "      <td>1.333333</td>\n",
       "    </tr>\n",
       "    <tr>\n",
       "      <th>3</th>\n",
       "      <td>Изменить структура категорий, что увеличит кон...</td>\n",
       "      <td>1.125000</td>\n",
       "    </tr>\n",
       "    <tr>\n",
       "      <th>4</th>\n",
       "      <td>Изменить цвет фона главной страницы, чтобы уве...</td>\n",
       "      <td>1.000000</td>\n",
       "    </tr>\n",
       "  </tbody>\n",
       "</table>\n",
       "</div>"
      ],
      "text/plain": [
       "                                          hypothesis        ICE\n",
       "8  Запустить акцию, дающую скидку на товар в день...  16.200000\n",
       "0  Добавить два новых канала привлечения трафика,...  13.333333\n",
       "7  Добавить форму подписки на все основные страни...  11.200000\n",
       "6  Показать на главной странице баннеры с актуаль...   8.000000\n",
       "2  Добавить блоки рекомендаций товаров на сайт ин...   7.000000\n",
       "1  Запустить собственную службу доставки, что сок...   2.000000\n",
       "5  Добавить страницу отзывов клиентов о магазине,...   1.333333\n",
       "3  Изменить структура категорий, что увеличит кон...   1.125000\n",
       "4  Изменить цвет фона главной страницы, чтобы уве...   1.000000"
      ]
     },
     "metadata": {},
     "output_type": "display_data"
    }
   ],
   "source": [
    "# ICE для гипотез\n",
    "hypothesis_data['ICE'] = ((hypothesis_data['impact'] * hypothesis_data['confidence']) / hypothesis_data['efforts'])\n",
    "display(hypothesis_data[['hypothesis', 'ICE']].sort_values(by='ICE', ascending=False))"
   ]
  },
  {
   "cell_type": "markdown",
   "metadata": {},
   "source": [
    "Перспективные гипотезы: 8, 0, 7, 6 и 2."
   ]
  },
  {
   "cell_type": "code",
   "execution_count": 5,
   "metadata": {},
   "outputs": [
    {
     "data": {
      "text/html": [
       "<div>\n",
       "<style scoped>\n",
       "    .dataframe tbody tr th:only-of-type {\n",
       "        vertical-align: middle;\n",
       "    }\n",
       "\n",
       "    .dataframe tbody tr th {\n",
       "        vertical-align: top;\n",
       "    }\n",
       "\n",
       "    .dataframe thead th {\n",
       "        text-align: right;\n",
       "    }\n",
       "</style>\n",
       "<table border=\"1\" class=\"dataframe\">\n",
       "  <thead>\n",
       "    <tr style=\"text-align: right;\">\n",
       "      <th></th>\n",
       "      <th>hypothesis</th>\n",
       "      <th>RICE</th>\n",
       "    </tr>\n",
       "  </thead>\n",
       "  <tbody>\n",
       "    <tr>\n",
       "      <th>7</th>\n",
       "      <td>Добавить форму подписки на все основные страни...</td>\n",
       "      <td>112.0</td>\n",
       "    </tr>\n",
       "    <tr>\n",
       "      <th>2</th>\n",
       "      <td>Добавить блоки рекомендаций товаров на сайт ин...</td>\n",
       "      <td>56.0</td>\n",
       "    </tr>\n",
       "    <tr>\n",
       "      <th>0</th>\n",
       "      <td>Добавить два новых канала привлечения трафика,...</td>\n",
       "      <td>40.0</td>\n",
       "    </tr>\n",
       "    <tr>\n",
       "      <th>6</th>\n",
       "      <td>Показать на главной странице баннеры с актуаль...</td>\n",
       "      <td>40.0</td>\n",
       "    </tr>\n",
       "    <tr>\n",
       "      <th>8</th>\n",
       "      <td>Запустить акцию, дающую скидку на товар в день...</td>\n",
       "      <td>16.2</td>\n",
       "    </tr>\n",
       "    <tr>\n",
       "      <th>3</th>\n",
       "      <td>Изменить структура категорий, что увеличит кон...</td>\n",
       "      <td>9.0</td>\n",
       "    </tr>\n",
       "    <tr>\n",
       "      <th>1</th>\n",
       "      <td>Запустить собственную службу доставки, что сок...</td>\n",
       "      <td>4.0</td>\n",
       "    </tr>\n",
       "    <tr>\n",
       "      <th>5</th>\n",
       "      <td>Добавить страницу отзывов клиентов о магазине,...</td>\n",
       "      <td>4.0</td>\n",
       "    </tr>\n",
       "    <tr>\n",
       "      <th>4</th>\n",
       "      <td>Изменить цвет фона главной страницы, чтобы уве...</td>\n",
       "      <td>3.0</td>\n",
       "    </tr>\n",
       "  </tbody>\n",
       "</table>\n",
       "</div>"
      ],
      "text/plain": [
       "                                          hypothesis   RICE\n",
       "7  Добавить форму подписки на все основные страни...  112.0\n",
       "2  Добавить блоки рекомендаций товаров на сайт ин...   56.0\n",
       "0  Добавить два новых канала привлечения трафика,...   40.0\n",
       "6  Показать на главной странице баннеры с актуаль...   40.0\n",
       "8  Запустить акцию, дающую скидку на товар в день...   16.2\n",
       "3  Изменить структура категорий, что увеличит кон...    9.0\n",
       "1  Запустить собственную службу доставки, что сок...    4.0\n",
       "5  Добавить страницу отзывов клиентов о магазине,...    4.0\n",
       "4  Изменить цвет фона главной страницы, чтобы уве...    3.0"
      ]
     },
     "metadata": {},
     "output_type": "display_data"
    }
   ],
   "source": [
    "# RICE для гипотез\n",
    "hypothesis_data['RICE'] = (\n",
    "    (hypothesis_data['reach'] * hypothesis_data['impact'] * hypothesis_data['confidence'])\n",
    "    / hypothesis_data['efforts']) \n",
    "display(hypothesis_data[['hypothesis', 'RICE']].sort_values(by='RICE', ascending=False))"
   ]
  },
  {
   "cell_type": "markdown",
   "metadata": {},
   "source": [
    "Перспективные гипотезы: 7, 2, 0, 6 и 8."
   ]
  },
  {
   "cell_type": "markdown",
   "metadata": {},
   "source": [
    "**Вывод**"
   ]
  },
  {
   "cell_type": "markdown",
   "metadata": {},
   "source": [
    "1. Способ приоритизации задач ICE показывает, что самые перспективные гипотезы: 8, 0, 7, 6 и 2.\n",
    "2. RICE показывает, что наиболее перспективные гипотезы: 7, 2, 0, 6 и 8.\n",
    "3. Оба способа показывают одинаковые гипотезы, однако в разном порядке. На первом месте по ICE гипотеза под номером 8, по RICE лидирующую позицию занимает номер 7, а гипотеза под номером 8 в самом конце. Так получилось, потому что у 7 высокий параметр \"reach\" (скольких пользователей затронет изменение). Также высокий показатель охвата пользователей у гипотез 2 и 3, но у 3 номера низкие остальные параметры, поэтому он менее перпективен.       "
   ]
  },
  {
   "cell_type": "markdown",
   "metadata": {},
   "source": [
    "##  3. Анализ A/B-теста "
   ]
  },
  {
   "cell_type": "code",
   "execution_count": 6,
   "metadata": {},
   "outputs": [],
   "source": [
    "orders_data['date'] = orders_data['date'].map(\n",
    "    lambda x: dt.datetime.strptime(x, '%Y-%m-%d')\n",
    ")\n",
    "visitors_data['date'] = visitors_data['date'].map(\n",
    "    lambda x: dt.datetime.strptime(x, '%Y-%m-%d')\n",
    ")\n",
    "dates_groups = orders_data[['date', 'group']].drop_duplicates()\n",
    "orders_aggregated = dates_groups.apply(\n",
    "    lambda x: orders_data[\n",
    "        np.logical_and(\n",
    "            orders_data['date'] <= x['date'], orders_data['group'] == x['group']\n",
    "        )\n",
    "    ].agg(\n",
    "        {\n",
    "            'date': 'max',\n",
    "            'group': 'max',\n",
    "            'transaction_id': 'nunique',\n",
    "            'visitor_id': 'nunique',\n",
    "            'revenue': 'sum',\n",
    "        }\n",
    "    ),\n",
    "    axis=1,\n",
    ").sort_values(by=['date', 'group'])\n",
    "visitors_aggregated = dates_groups.apply(\n",
    "    lambda x: visitors_data[\n",
    "        np.logical_and(\n",
    "            visitors_data['date'] <= x['date'], visitors_data['group'] == x['group']\n",
    "        )\n",
    "    ].agg({'date': 'max', 'group': 'max', 'visitors': 'sum'}),\n",
    "    axis=1,\n",
    ").sort_values(by=['date', 'group'])\n",
    "\n",
    "cumulative_data = orders_aggregated.merge(\n",
    "    visitors_aggregated, left_on=['date', 'group'], right_on=['date', 'group']\n",
    ")\n",
    "cumulative_data.columns = [\n",
    "    'date',\n",
    "    'group',\n",
    "    'orders',\n",
    "    'buyers',\n",
    "    'revenue',\n",
    "    'visitors',\n",
    "]\n",
    "cumulative_revenue_A = cumulative_data[cumulative_data['group']=='A'][['date','revenue', 'orders']]\n",
    "cumulative_revenue_B = cumulative_data[cumulative_data['group']=='B'][['date','revenue', 'orders']]"
   ]
  },
  {
   "cell_type": "code",
   "execution_count": 7,
   "metadata": {},
   "outputs": [
    {
     "data": {
      "image/png": "[encoded data removed]",
      "text/plain": [
       "<Figure size 1080x648 with 1 Axes>"
      ]
     },
     "metadata": {
      "needs_background": "light"
     },
     "output_type": "display_data"
    }
   ],
   "source": [
    "# График кумулятивной выручки по группам\n",
    "plt.figure(figsize = (15, 9))\n",
    "plt.plot(cumulative_revenue_A['date'], cumulative_revenue_A['revenue'], label='A')\n",
    "plt.plot(cumulative_revenue_B['date'], cumulative_revenue_B['revenue'], label='B')\n",
    "plt.title('График кумулятивной выручки по группам')\n",
    "plt.grid()\n",
    "plt.legend()\n",
    "plt.show()"
   ]
  },
  {
   "cell_type": "markdown",
   "metadata": {},
   "source": [
    "На графике видно, что сегмент \"В\" преобладает над \"A\". До 18 августа они были практически наравне, но потом произошел резкий скачок у сегмента \"B\". Возможно на результат повлияли аномально большие заказы."
   ]
  },
  {
   "cell_type": "code",
   "execution_count": 8,
   "metadata": {},
   "outputs": [
    {
     "data": {
      "image/png": "[encoded data removed]",
      "text/plain": [
       "<Figure size 1080x648 with 1 Axes>"
      ]
     },
     "metadata": {
      "needs_background": "light"
     },
     "output_type": "display_data"
    }
   ],
   "source": [
    "# График кумулятивного среднего чека по группам\n",
    "plt.figure(figsize = (15, 9))\n",
    "plt.plot(cumulative_revenue_A['date'], cumulative_revenue_A['revenue']/cumulative_revenue_A['orders'], label='A')\n",
    "plt.plot(cumulative_revenue_B['date'], cumulative_revenue_B['revenue']/cumulative_revenue_B['orders'], label='B')\n",
    "plt.title('График кумулятивного среднего чека по группам')\n",
    "plt.grid()\n",
    "plt.legend()\n",
    "plt.show()"
   ]
  },
  {
   "cell_type": "markdown",
   "metadata": {},
   "source": [
    "Группа \"В\" сильно обходит \"А\". Значение кумулятивного среднего чека по сегментам колеблется, также наблюдается скачок 18 августа у \"В\". Возможно требуется провести дополнительный анализ выбросов."
   ]
  },
  {
   "cell_type": "code",
   "execution_count": 9,
   "metadata": {},
   "outputs": [
    {
     "data": {
      "image/png": "[encoded data removed]",
      "text/plain": [
       "<Figure size 1080x648 with 1 Axes>"
      ]
     },
     "metadata": {
      "needs_background": "light"
     },
     "output_type": "display_data"
    }
   ],
   "source": [
    "# График относительного изменения кумулятивного среднего чека группы B к группе A\n",
    "merged_сumulative_revenue = cumulative_revenue_A.merge(cumulative_revenue_B, left_on='date',\n",
    "                                                       right_on='date', how='left', suffixes=['A', 'B'])\n",
    "plt.figure(figsize = (15, 9))\n",
    "plt.plot(merged_сumulative_revenue['date'], (merged_сumulative_revenue['revenueB']\n",
    "                    /merged_сumulative_revenue['ordersB'])/(merged_сumulative_revenue['revenueA']\n",
    "                                                    /merged_сumulative_revenue['ordersA'])-1)\n",
    "plt.axhline(y=0, color='black', linestyle='--')\n",
    "plt.title('График относительного изменения кумулятивного среднего чека группы B к группе A')\n",
    "plt.grid()\n",
    "plt.show()"
   ]
  },
  {
   "cell_type": "markdown",
   "metadata": {},
   "source": [
    "Данный график также показывает, резкий скачок 18 августа. "
   ]
  },
  {
   "cell_type": "code",
   "execution_count": 10,
   "metadata": {},
   "outputs": [
    {
     "data": {
      "image/png": "[encoded data removed]",
      "text/plain": [
       "<Figure size 1080x648 with 1 Axes>"
      ]
     },
     "metadata": {
      "needs_background": "light"
     },
     "output_type": "display_data"
    }
   ],
   "source": [
    "# График кумулятивной конверсии по группам\n",
    "cumulative_data['conversion'] = cumulative_data['orders']/cumulative_data['visitors']\n",
    "cumulative_data_A = cumulative_data[cumulative_data['group']=='A']\n",
    "cumulative_data_B = cumulative_data[cumulative_data['group']=='B']\n",
    "plt.figure(figsize = (15, 9))\n",
    "plt.plot(cumulative_data_A['date'], cumulative_data_A['conversion'], label='A')\n",
    "plt.plot(cumulative_data_B['date'], cumulative_data_B['conversion'], label='B')\n",
    "plt.title('График кумулятивной конверсии по группам')\n",
    "plt.grid()\n",
    "plt.ylim(0, 0.05)\n",
    "plt.legend()\n",
    "plt.show()"
   ]
  },
  {
   "cell_type": "markdown",
   "metadata": {},
   "source": [
    "В начале теста группа \"А\" имела большую конверсию, но постепенно группа \"В\" выровнялась и зафиксировалась около одного значения, больше значения группы \"А\"."
   ]
  },
  {
   "cell_type": "code",
   "execution_count": 11,
   "metadata": {},
   "outputs": [
    {
     "data": {
      "image/png": "[encoded data removed]",
      "text/plain": [
       "<Figure size 1080x648 with 1 Axes>"
      ]
     },
     "metadata": {
      "needs_background": "light"
     },
     "output_type": "display_data"
    }
   ],
   "source": [
    "# График относительного изменения кумулятивной конверсии группы B к группе A\n",
    "merged_сumulative_сonversions = cumulative_data_A[['date','conversion']].merge(\n",
    "    cumulative_data_B[['date','conversion']], left_on='date', right_on='date', how='left', suffixes=['A', 'B'])\n",
    "plt.figure(figsize = (15, 9))\n",
    "plt.plot(merged_сumulative_сonversions['date'],\n",
    "         merged_сumulative_сonversions['conversionB']\n",
    "         /merged_сumulative_сonversions['conversionA']-1, \n",
    "         label=\"Относительный прирост конверсии группы B относительно группы A\")\n",
    "plt.legend()\n",
    "plt.title('График относительного изменения кумулятивной конверсии группы B к группе A')\n",
    "plt.grid()\n",
    "plt.axhline(y=0, color='black', linestyle='--')\n",
    "plt.axhline(y=0.2, color='grey', linestyle='--')\n",
    "plt.show()"
   ]
  },
  {
   "cell_type": "markdown",
   "metadata": {},
   "source": [
    "Начиная с 6 августа, накопительная конверсия сегмента \"B\" лежит значительно выше накопительной конверсии сегмента \"A\"."
   ]
  },
  {
   "cell_type": "code",
   "execution_count": 12,
   "metadata": {},
   "outputs": [
    {
     "data": {
      "image/png": "[encoded data removed]",
      "text/plain": [
       "<Figure size 1080x648 with 1 Axes>"
      ]
     },
     "metadata": {
      "needs_background": "light"
     },
     "output_type": "display_data"
    }
   ],
   "source": [
    "# База по пользователям\n",
    "orders_by_users = (\n",
    "    orders_data.groupby('visitor_id', as_index=False)\n",
    "    .agg({'transaction_id': pd.Series.nunique})\n",
    ")\n",
    "orders_by_users.columns = ['visitor_id', 'orders']\n",
    "# Точечный график количества заказов по пользователям\n",
    "plt.figure(figsize = (15, 9))\n",
    "plt.title('Точечный график количества заказов по пользователям')\n",
    "plt.xlabel('Кол-во наблюдений')\n",
    "plt.ylabel('Кол-во заказов')\n",
    "plt.grid()\n",
    "x_values = pd.Series(range(0, len(orders_by_users)))\n",
    "plt.scatter(x_values, orders_by_users['orders'])\n",
    "plt.show()"
   ]
  },
  {
   "cell_type": "markdown",
   "metadata": {},
   "source": [
    "В основном пользователи делают 1 заказ, меньшее кол-во пользователей делают 2 заказа, однако их не мало. 3 и более заказов редкость. Для более точного анализа нужно посчитать выборочные перцентили."
   ]
  },
  {
   "cell_type": "code",
   "execution_count": 13,
   "metadata": {},
   "outputs": [
    {
     "name": "stdout",
     "output_type": "stream",
     "text": [
      "[1. 2. 4.]\n"
     ]
    }
   ],
   "source": [
    "# Перцентили\n",
    "print(np.percentile(orders_by_users['orders'], [90, 95, 99]))"
   ]
  },
  {
   "cell_type": "markdown",
   "metadata": {},
   "source": [
    "Не более 5% пользователей совершили больше двух заказов, не более 1% больше четырех.  Граница для определения аномальных пользователей по количеству заказов - не более 2."
   ]
  },
  {
   "cell_type": "code",
   "execution_count": 14,
   "metadata": {},
   "outputs": [
    {
     "data": {
      "image/png": "[encoded data removed]",
      "text/plain": [
       "<Figure size 1080x648 with 1 Axes>"
      ]
     },
     "metadata": {
      "needs_background": "light"
     },
     "output_type": "display_data"
    }
   ],
   "source": [
    "# Точечный график стоимостей заказов № 1\n",
    "plt.figure(figsize = (15, 9))\n",
    "plt.title('Точечный график стоимостей заказов № 1')\n",
    "plt.xlabel('Пользователи')\n",
    "plt.ylabel('Стоимость')\n",
    "plt.grid()\n",
    "x_values = pd.Series(range(0, len(orders_data['revenue'])))\n",
    "plt.scatter(x_values, orders_data['revenue'])\n",
    "plt.show()"
   ]
  },
  {
   "cell_type": "code",
   "execution_count": 15,
   "metadata": {},
   "outputs": [
    {
     "data": {
      "image/png": "[encoded data removed]",
      "text/plain": [
       "<Figure size 1080x648 with 1 Axes>"
      ]
     },
     "metadata": {
      "needs_background": "light"
     },
     "output_type": "display_data"
    }
   ],
   "source": [
    "# Точечный график стоимостей заказов № 2\n",
    "plt.figure(figsize = (15, 9))\n",
    "plt.title('Точечный график стоимостей заказов № 2')\n",
    "plt.xlabel('Пользователи')\n",
    "plt.ylabel('Стоимость')\n",
    "plt.grid()\n",
    "plt.ylim(0, 200000)\n",
    "x_values = pd.Series(range(0, len(orders_data['revenue'])))\n",
    "plt.scatter(x_values, orders_data['revenue'])\n",
    "plt.show()"
   ]
  },
  {
   "cell_type": "markdown",
   "metadata": {},
   "source": [
    "На первом графике стоимостей заказов наблюдается огромный выброс на одного пользователя со стоимость заказа в 1.20 млн. На втором графике установлено ограничение по оси Y на 200 000, на нем видно, что в основном пользователи заказывают до 25 тысяч. \n",
    "Для более точного анализа нужно посчитать выборочные перцентили."
   ]
  },
  {
   "cell_type": "code",
   "execution_count": 16,
   "metadata": {},
   "outputs": [
    {
     "name": "stdout",
     "output_type": "stream",
     "text": [
      "[18168.  28000.  58233.2]\n"
     ]
    }
   ],
   "source": [
    "# Перцентили\n",
    "print(np.percentile(orders_data['revenue'], [90, 95, 99]))"
   ]
  },
  {
   "cell_type": "markdown",
   "metadata": {},
   "source": [
    "Не более, чем у 5% заказов чек дороже 28 000, не более 1% дороже 58233. Граница для определения аномальных пользователей по стоимости заказов - не более 28000."
   ]
  },
  {
   "cell_type": "code",
   "execution_count": 17,
   "metadata": {},
   "outputs": [
    {
     "name": "stdout",
     "output_type": "stream",
     "text": [
      "0.01679\n",
      "0.138\n"
     ]
    }
   ],
   "source": [
    "# Cтатистическая значимость различий в конверсии между группами по «сырым» данным\n",
    "visitors_A_daily = visitors_data[visitors_data['group'] == 'A'][['date', 'visitors']]\n",
    "visitors_A_daily.columns = ['date', 'visitors_per_date_A']\n",
    "visitors_A_cummulative = visitors_A_daily.apply(\n",
    "    lambda x: visitors_A_daily[visitors_A_daily['date'] <= x['date']].agg(\n",
    "        {'date': 'max', 'visitors_per_date_A': 'sum'}\n",
    "    ),\n",
    "    axis=1,\n",
    ")\n",
    "visitors_A_cummulative.columns = ['date', 'visitors_cummulative_A']\n",
    "visitors_B_daily = visitors_data[visitors_data['group'] == 'B'][['date', 'visitors']]\n",
    "visitors_B_daily.columns = ['date', 'visitors_per_date_B']\n",
    "visitors_B_cummulative = visitors_B_daily.apply(\n",
    "    lambda x: visitors_B_daily[visitors_B_daily['date'] <= x['date']].agg(\n",
    "        {'date': 'max', 'visitors_per_date_B': 'sum'}\n",
    "    ),\n",
    "    axis=1,\n",
    ")\n",
    "visitors_B_cummulative.columns = ['date', 'visitors_cummulative_B'] \n",
    "orders_A_daily = (\n",
    "    orders_data[orders_data['group'] == 'A'][['date', 'transaction_id', 'visitor_id', 'revenue']]\n",
    "    .groupby('date', as_index=False)\n",
    "    .agg({'transaction_id': pd.Series.nunique, 'revenue': 'sum'})\n",
    ")\n",
    "orders_A_daily.columns = ['date', 'orders_per_date_A', 'revenue_per_date_A']\n",
    "orders_A_cummulative = orders_A_daily.apply(\n",
    "    lambda x: orders_A_daily[orders_A_daily['date'] <= x['date']].agg(\n",
    "        {'date': 'max', 'orders_per_date_A': 'sum', 'revenue_per_date_A': 'sum'}\n",
    "    ),\n",
    "    axis=1,\n",
    ").sort_values(by=['date'])\n",
    "orders_A_cummulative.columns = [\n",
    "    'date',\n",
    "    'orders_cummulative_A',\n",
    "    'revenue_cummulative_A',\n",
    "] \n",
    "orders_B_daily = (\n",
    "    orders_data[orders_data['group'] == 'B'][['date', 'transaction_id', 'visitor_id', 'revenue']]\n",
    "    .groupby('date', as_index=False)\n",
    "    .agg({'transaction_id': pd.Series.nunique, 'revenue': 'sum'})\n",
    ")\n",
    "orders_B_daily.columns = ['date', 'orders_per_date_B', 'revenue_per_date_B']\n",
    "orders_B_cummulative = orders_B_daily.apply(\n",
    "    lambda x: orders_B_daily[orders_B_daily['date'] <= x['date']].agg(\n",
    "        {'date': 'max', 'orders_per_date_B': 'sum', 'revenue_per_date_B': 'sum'}\n",
    "    ),\n",
    "    axis=1,\n",
    ").sort_values(by=['date'])\n",
    "orders_B_cummulative.columns = [\n",
    "    'date',\n",
    "    'orders_cummulative_B',\n",
    "    'revenue_cummulative_B',\n",
    "] \n",
    "raw_data = (\n",
    "    orders_A_daily.merge(\n",
    "        orders_B_daily, left_on='date', right_on='date', how='left'\n",
    "    )\n",
    "    .merge(orders_A_cummulative, left_on='date', right_on='date', how='left')\n",
    "    .merge(orders_B_cummulative, left_on='date', right_on='date', how='left')\n",
    "    .merge(visitors_A_daily, left_on='date', right_on='date', how='left')\n",
    "    .merge(visitors_B_daily, left_on='date', right_on='date', how='left')\n",
    "    .merge(visitors_A_cummulative, left_on='date', right_on='date', how='left')\n",
    "    .merge(visitors_B_cummulative, left_on='date', right_on='date', how='left')\n",
    ") \n",
    "orders_by_users_A = (\n",
    "    orders_data[orders_data['group'] == 'A']\n",
    "    .groupby('visitor_id', as_index=False)\n",
    "    .agg({'transaction_id': pd.Series.nunique})\n",
    ")\n",
    "orders_by_users_A.columns = ['visitor_id', 'orders']\n",
    "orders_by_users_B = (\n",
    "    orders_data[orders_data['group'] == 'B']\n",
    "    .groupby('visitor_id', as_index=False)\n",
    "    .agg({'transaction_id': pd.Series.nunique})\n",
    ")\n",
    "orders_by_users_B.columns = ['visitor_id', 'orders'] \n",
    "sample_A = pd.concat(\n",
    "    [\n",
    "        orders_by_users_A['orders'],\n",
    "        pd.Series(\n",
    "            0,\n",
    "            index=np.arange(\n",
    "                raw_data['visitors_per_date_A'].sum() - len(orders_by_users_A['orders'])\n",
    "            ),\n",
    "            name='orders',\n",
    "        ),\n",
    "    ],\n",
    "    axis=0,\n",
    ")\n",
    "sample_B = pd.concat(\n",
    "    [\n",
    "        orders_by_users_B['orders'],\n",
    "        pd.Series(\n",
    "            0,\n",
    "            index=np.arange(\n",
    "                raw_data['visitors_per_date_B'].sum() - len(orders_by_users_B['orders'])\n",
    "            ),\n",
    "            name='orders',\n",
    "        ),\n",
    "    ],\n",
    "    axis=0,\n",
    ")\n",
    "print(\"{0:.5f}\".format(st.mannwhitneyu(sample_A, sample_B)[1]))\n",
    "print(\"{0:.3f}\".format(sample_B.mean() / sample_A.mean() - 1))"
   ]
  },
  {
   "cell_type": "markdown",
   "metadata": {},
   "source": [
    "Нулевая гипотеза – конверсии в группах \"А\" и \"В\" равны, параметры равны. Альтернативная гипотеза – конверсии в группах \"А\" и \"В\" не равны, параметры не равны. H₀ всегда формулируется так, чтобы использовать знак равенства. \n",
    "\n",
    "P-value меньше 0,05, поэтому нулевую гипотезу отвергаем. Анализ \"сырых данных\" сообщает, что в конверсии между группами есть статистически значимые различия. Относительный прирост конверсии группы \"В\" к конверсии группы \"А\" равен 13,8%."
   ]
  },
  {
   "cell_type": "code",
   "execution_count": 18,
   "metadata": {},
   "outputs": [
    {
     "name": "stdout",
     "output_type": "stream",
     "text": [
      "0.729\n",
      "0.259\n"
     ]
    }
   ],
   "source": [
    "# Cтатистическая значимость различий в среднем чеке заказа между группами по «сырым» данным\n",
    "print('{0:.3f}'.format(st.mannwhitneyu(\n",
    "    orders_data[orders_data['group']=='A']['revenue'], orders_data[orders_data['group']=='B']['revenue'])[1]))\n",
    "print('{0:.3f}'.format(\n",
    "    orders_data[orders_data['group']=='B']['revenue'].mean()/orders_data[orders_data['group']=='A']['revenue'].mean()-1))"
   ]
  },
  {
   "cell_type": "markdown",
   "metadata": {},
   "source": [
    "Нулевая гипотеза – средние чеки в группах \"А\" и \"В\" равны, параметры равны. Альтернативная гипотеза – средние чеки в группах \"А\" и \"В\" не равны, параметры не равны. \n",
    "\n",
    "P-value больше 0,05, отвергнуть нулевую гипотезу не получилось. Анализ \"сырых данных\" сообщает, что в средних чеках между группами нет статистически значимых различий. Относительное различие среднего чека между сегментами 25,9%."
   ]
  },
  {
   "cell_type": "code",
   "execution_count": 19,
   "metadata": {},
   "outputs": [
    {
     "name": "stdout",
     "output_type": "stream",
     "text": [
      "0.01304\n",
      "0.173\n"
     ]
    }
   ],
   "source": [
    "# Cтатистическая значимость различий в конверсии между группами по «очищенным» данным\n",
    "users_with_many_orders = pd.concat(\n",
    "    [\n",
    "        orders_by_users_A[orders_by_users_A['orders'] > 2]['visitor_id'],\n",
    "        orders_by_users_B[orders_by_users_B['orders'] > 2]['visitor_id'],\n",
    "    ],\n",
    "    axis=0,\n",
    ")\n",
    "users_with_expensive_orders = orders_data[orders_data['revenue'] > 28000]['visitor_id']\n",
    "abnormal_users = (\n",
    "    pd.concat([users_with_many_orders, users_with_expensive_orders], axis=0)\n",
    "    .drop_duplicates()\n",
    "    .sort_values()\n",
    ")\n",
    "sample_A_filtered = pd.concat(\n",
    "    [\n",
    "        orders_by_users_A[\n",
    "            np.logical_not(orders_by_users_A['visitor_id'].isin(abnormal_users))\n",
    "        ]['orders'],\n",
    "        pd.Series(\n",
    "            0,\n",
    "            index=np.arange(\n",
    "                raw_data['visitors_per_date_A'].sum() - len(orders_by_users_A['orders'])\n",
    "            ),\n",
    "            name='orders',\n",
    "        ),\n",
    "    ],\n",
    "    axis=0,\n",
    ")\n",
    "sample_B_filtered = pd.concat(\n",
    "    [\n",
    "        orders_by_users_B[\n",
    "            np.logical_not(orders_by_users_B['visitor_id'].isin(abnormal_users))\n",
    "        ]['orders'],\n",
    "        pd.Series(\n",
    "            0,\n",
    "            index=np.arange(\n",
    "                raw_data['visitors_per_date_B'].sum() - len(orders_by_users_B['orders'])\n",
    "            ),\n",
    "            name='orders',\n",
    "        ),\n",
    "    ],\n",
    "    axis=0,\n",
    ") \n",
    "print('{0:.5f}'.format(st.mannwhitneyu(sample_A_filtered, sample_B_filtered)[1]))\n",
    "print('{0:.3f}'.format(sample_B_filtered.mean()/sample_A_filtered.mean()-1))"
   ]
  },
  {
   "cell_type": "markdown",
   "metadata": {},
   "source": [
    "P-value меньше 0,05, поэтому нулевую гипотезу отвергаем. Анализ \"очищенных данных\" сообщает, что в конверсии между группами есть статистически значимые различия. Относительный прирост конверсии группы \"В\" к конверсии группы \"А\" равен 17,3%."
   ]
  },
  {
   "cell_type": "code",
   "execution_count": 20,
   "metadata": {},
   "outputs": [
    {
     "name": "stdout",
     "output_type": "stream",
     "text": [
      "0.738\n",
      "-0.020\n"
     ]
    }
   ],
   "source": [
    "# Cтатистическая значимость различий в среднем чеке заказа между группами по «очищенным» данным\n",
    "print(\n",
    "    '{0:.3f}'.format(\n",
    "        st.mannwhitneyu(\n",
    "            orders_data[\n",
    "                np.logical_and(\n",
    "                    orders_data['group'] == 'A',\n",
    "                    np.logical_not(orders_data['visitor_id'].isin(abnormal_users)),\n",
    "                )\n",
    "            ]['revenue'],\n",
    "            orders_data[\n",
    "                np.logical_and(\n",
    "                    orders_data['group'] == 'B',\n",
    "                    np.logical_not(orders_data['visitor_id'].isin(abnormal_users)),\n",
    "                )\n",
    "            ]['revenue'],\n",
    "        )[1]\n",
    "    )\n",
    ")\n",
    "print(\n",
    "    \"{0:.3f}\".format(\n",
    "        orders_data[\n",
    "            np.logical_and(\n",
    "                orders_data['group'] == 'B',\n",
    "                np.logical_not(orders_data['visitor_id'].isin(abnormal_users)),\n",
    "            )\n",
    "        ]['revenue'].mean()\n",
    "        / orders_data[\n",
    "            np.logical_and(\n",
    "                orders_data['group'] == 'A',\n",
    "                np.logical_not(orders_data['visitor_id'].isin(abnormal_users)),\n",
    "            )\n",
    "        ]['revenue'].mean()\n",
    "        - 1\n",
    "    )\n",
    ") "
   ]
  },
  {
   "cell_type": "markdown",
   "metadata": {},
   "source": [
    "P-value больше 0,05, отвергнуть нулевую гипотезу не получилось. Анализ \"очищенных данных\" сообщает, что в средних чеках между группами нет статистически значимых различий. Относительное различие среднего чека между сегментами -2%, т.е. средний чек группы \"А\" выше, чем у \"В\"."
   ]
  },
  {
   "cell_type": "markdown",
   "metadata": {},
   "source": [
    "**Вывод**"
   ]
  },
  {
   "cell_type": "markdown",
   "metadata": {},
   "source": [
    "1. Исходя из всех построенных графиков, можно сделать вывод, что сегмент \"В\" преобладает над \"А\". Также удалось установить, что есть выбросы в данных. \n",
    "2. В конверсии между группами \"А\" и \"В\" есть статистически значимые различия как по \"сырым данным\", так и по \"очищенным\". P-value меньше 0,05, поэтому нулевую гипотезу о том, что параметры равны, отвергаем.\n",
    "3. По средним чекам между группами \"А\" и \"В\" нет статистически значимых различий как по \"сырым данным\", так и по \"очищенным\". P-value больше 0,05, отвергнуть нулевую гипотезу не получилось.\n",
    "4. Для проведения анализа выбрал непараметрический тест Уилкоксона-Манна-Уитни, из-за выбросов в данных."
   ]
  },
  {
   "cell_type": "markdown",
   "metadata": {},
   "source": [
    "## 4. Общий вывод "
   ]
  },
  {
   "cell_type": "markdown",
   "metadata": {},
   "source": [
    "По данным интернет-магазина, можно сделать несколько выводов:\n",
    "1. Способ приоритизации задач ICE показывает, что самые перспективные гипотезы: 8, 0, 7, 6 и 2. RICE показывает, что наиболее перспективные гипотезы: 7, 2, 0, 6 и 8. Оба способа показывают одинаковые гипотезы, однако в разном порядке. На первом месте по ICE гипотеза под номером 8, по RICE лидирующую позицию занимает номер 7, а гипотеза под номером 8 в самом конце. Так получилось, потому что у 7 высокий параметр \"reach\" (скольких пользователей затронет изменение).\n",
    "2. Сравнивая группы \"В\" и \"А\", становится понятно, что сегмент \"В\" лучше. Конверсия у него выше, чем у \"А\", а средний чек не имеет статистически значимых различий между группами. В связи с этим, рекомендую остановить тест, зафиксировать победу группы \"В\".     "
   ]
  }
 ],
 "metadata": {
  "ExecuteTimeLog": [
   {
    "duration": 1667,
    "start_time": "2022-02-24T21:04:05.689Z"
   },
   {
    "duration": 167,
    "start_time": "2022-02-24T21:05:13.287Z"
   },
   {
    "duration": 114,
    "start_time": "2022-02-24T21:05:35.502Z"
   },
   {
    "duration": 119,
    "start_time": "2022-02-24T21:08:16.226Z"
   },
   {
    "duration": 111,
    "start_time": "2022-02-24T21:18:23.808Z"
   },
   {
    "duration": 108,
    "start_time": "2022-02-24T21:18:48.625Z"
   },
   {
    "duration": 5,
    "start_time": "2022-02-24T21:20:24.796Z"
   },
   {
    "duration": 112,
    "start_time": "2022-02-24T21:20:27.270Z"
   },
   {
    "duration": 110,
    "start_time": "2022-02-24T21:22:22.490Z"
   },
   {
    "duration": 7,
    "start_time": "2022-02-24T21:25:13.019Z"
   },
   {
    "duration": 15,
    "start_time": "2022-02-24T21:29:52.252Z"
   },
   {
    "duration": 20,
    "start_time": "2022-02-24T21:30:35.060Z"
   },
   {
    "duration": 20,
    "start_time": "2022-02-24T21:31:07.538Z"
   },
   {
    "duration": 534,
    "start_time": "2022-02-24T21:37:25.351Z"
   },
   {
    "duration": 20,
    "start_time": "2022-02-24T21:37:42.399Z"
   },
   {
    "duration": 16,
    "start_time": "2022-02-24T21:40:51.657Z"
   },
   {
    "duration": 14,
    "start_time": "2022-02-24T21:44:02.791Z"
   },
   {
    "duration": 1946,
    "start_time": "2022-02-25T18:50:15.136Z"
   },
   {
    "duration": -1256,
    "start_time": "2022-02-25T18:50:18.342Z"
   },
   {
    "duration": -1257,
    "start_time": "2022-02-25T18:50:18.345Z"
   },
   {
    "duration": -1258,
    "start_time": "2022-02-25T18:50:18.348Z"
   },
   {
    "duration": -1258,
    "start_time": "2022-02-25T18:50:18.350Z"
   },
   {
    "duration": 6,
    "start_time": "2022-02-25T18:50:42.988Z"
   },
   {
    "duration": 1520,
    "start_time": "2022-02-25T18:50:50.684Z"
   },
   {
    "duration": 117,
    "start_time": "2022-02-25T18:50:52.207Z"
   },
   {
    "duration": 20,
    "start_time": "2022-02-25T18:50:52.327Z"
   },
   {
    "duration": 15,
    "start_time": "2022-02-25T18:50:52.349Z"
   },
   {
    "duration": 48,
    "start_time": "2022-02-25T18:50:52.366Z"
   },
   {
    "duration": 1881,
    "start_time": "2022-02-25T18:52:49.431Z"
   },
   {
    "duration": 6,
    "start_time": "2022-02-25T18:53:19.566Z"
   },
   {
    "duration": 1820,
    "start_time": "2022-02-25T18:53:25.670Z"
   },
   {
    "duration": 27,
    "start_time": "2022-02-25T18:55:12.539Z"
   },
   {
    "duration": 1698,
    "start_time": "2022-02-25T18:57:53.655Z"
   },
   {
    "duration": 17,
    "start_time": "2022-02-25T18:59:27.436Z"
   },
   {
    "duration": 3174,
    "start_time": "2022-02-25T19:00:22.835Z"
   },
   {
    "duration": 1757,
    "start_time": "2022-02-25T19:00:26.730Z"
   },
   {
    "duration": 1461,
    "start_time": "2022-02-25T19:00:52.035Z"
   },
   {
    "duration": 117,
    "start_time": "2022-02-25T19:00:53.499Z"
   },
   {
    "duration": 20,
    "start_time": "2022-02-25T19:00:53.619Z"
   },
   {
    "duration": 15,
    "start_time": "2022-02-25T19:00:53.642Z"
   },
   {
    "duration": 54,
    "start_time": "2022-02-25T19:00:53.659Z"
   },
   {
    "duration": 576,
    "start_time": "2022-02-25T19:00:53.716Z"
   },
   {
    "duration": -1253,
    "start_time": "2022-02-25T19:00:55.548Z"
   },
   {
    "duration": -1255,
    "start_time": "2022-02-25T19:00:55.552Z"
   },
   {
    "duration": 1968,
    "start_time": "2022-02-25T19:01:14.888Z"
   },
   {
    "duration": 1516,
    "start_time": "2022-02-25T19:01:47.525Z"
   },
   {
    "duration": 115,
    "start_time": "2022-02-25T19:01:49.044Z"
   },
   {
    "duration": 19,
    "start_time": "2022-02-25T19:01:49.162Z"
   },
   {
    "duration": 36,
    "start_time": "2022-02-25T19:01:49.183Z"
   },
   {
    "duration": 16,
    "start_time": "2022-02-25T19:01:49.222Z"
   },
   {
    "duration": 370,
    "start_time": "2022-02-25T19:01:49.240Z"
   },
   {
    "duration": 16,
    "start_time": "2022-02-25T19:01:49.613Z"
   },
   {
    "duration": 3,
    "start_time": "2022-02-25T19:01:49.634Z"
   },
   {
    "duration": 17,
    "start_time": "2022-02-25T19:03:26.655Z"
   },
   {
    "duration": 1589,
    "start_time": "2022-02-25T19:04:02.850Z"
   },
   {
    "duration": 131,
    "start_time": "2022-02-25T19:04:04.442Z"
   },
   {
    "duration": 41,
    "start_time": "2022-02-25T19:04:04.576Z"
   },
   {
    "duration": 18,
    "start_time": "2022-02-25T19:04:04.620Z"
   },
   {
    "duration": 16,
    "start_time": "2022-02-25T19:04:04.641Z"
   },
   {
    "duration": 636,
    "start_time": "2022-02-25T19:04:04.659Z"
   },
   {
    "duration": 25,
    "start_time": "2022-02-25T19:04:05.298Z"
   },
   {
    "duration": 15,
    "start_time": "2022-02-25T19:04:05.327Z"
   },
   {
    "duration": 3,
    "start_time": "2022-02-25T19:04:05.345Z"
   },
   {
    "duration": 1466,
    "start_time": "2022-02-25T19:07:07.740Z"
   },
   {
    "duration": 116,
    "start_time": "2022-02-25T19:07:09.209Z"
   },
   {
    "duration": 19,
    "start_time": "2022-02-25T19:07:09.328Z"
   },
   {
    "duration": 16,
    "start_time": "2022-02-25T19:07:09.351Z"
   },
   {
    "duration": 49,
    "start_time": "2022-02-25T19:07:09.370Z"
   },
   {
    "duration": 609,
    "start_time": "2022-02-25T19:07:09.422Z"
   },
   {
    "duration": 329,
    "start_time": "2022-02-25T19:07:10.033Z"
   },
   {
    "duration": 18,
    "start_time": "2022-02-25T19:07:10.365Z"
   },
   {
    "duration": 32,
    "start_time": "2022-02-25T19:07:10.385Z"
   },
   {
    "duration": 3,
    "start_time": "2022-02-25T19:07:10.419Z"
   },
   {
    "duration": 964,
    "start_time": "2022-02-25T19:08:37.656Z"
   },
   {
    "duration": 322,
    "start_time": "2022-02-25T19:08:54.593Z"
   },
   {
    "duration": 125,
    "start_time": "2022-02-25T19:10:07.791Z"
   },
   {
    "duration": 532,
    "start_time": "2022-02-25T19:10:11.375Z"
   },
   {
    "duration": 37,
    "start_time": "2022-02-25T19:18:05.712Z"
   },
   {
    "duration": 22,
    "start_time": "2022-02-25T19:18:06.864Z"
   },
   {
    "duration": 512,
    "start_time": "2022-02-25T21:15:40.367Z"
   },
   {
    "duration": 618,
    "start_time": "2022-02-25T21:26:54.982Z"
   },
   {
    "duration": 682,
    "start_time": "2022-02-25T21:27:14.491Z"
   },
   {
    "duration": 525,
    "start_time": "2022-02-25T21:39:54.253Z"
   },
   {
    "duration": 537,
    "start_time": "2022-02-25T21:40:10.108Z"
   },
   {
    "duration": 648,
    "start_time": "2022-02-25T21:41:55.590Z"
   },
   {
    "duration": 554,
    "start_time": "2022-02-25T21:53:28.661Z"
   },
   {
    "duration": 527,
    "start_time": "2022-02-25T21:59:42.930Z"
   },
   {
    "duration": 613,
    "start_time": "2022-02-25T22:13:13.034Z"
   },
   {
    "duration": 632,
    "start_time": "2022-02-25T22:15:14.312Z"
   },
   {
    "duration": 638,
    "start_time": "2022-02-25T22:18:33.147Z"
   },
   {
    "duration": 562,
    "start_time": "2022-02-25T22:26:30.469Z"
   },
   {
    "duration": 1020,
    "start_time": "2022-02-25T22:27:26.851Z"
   },
   {
    "duration": 769,
    "start_time": "2022-02-25T22:27:58.266Z"
   },
   {
    "duration": 1252,
    "start_time": "2022-02-25T22:31:04.045Z"
   },
   {
    "duration": 829,
    "start_time": "2022-02-25T22:31:25.684Z"
   },
   {
    "duration": 1483,
    "start_time": "2022-02-25T22:38:22.861Z"
   },
   {
    "duration": 114,
    "start_time": "2022-02-25T22:38:24.351Z"
   },
   {
    "duration": 22,
    "start_time": "2022-02-25T22:38:24.469Z"
   },
   {
    "duration": 18,
    "start_time": "2022-02-25T22:38:24.511Z"
   },
   {
    "duration": 15,
    "start_time": "2022-02-25T22:38:24.532Z"
   },
   {
    "duration": 661,
    "start_time": "2022-02-25T22:38:24.549Z"
   },
   {
    "duration": 577,
    "start_time": "2022-02-25T22:38:25.213Z"
   },
   {
    "duration": 554,
    "start_time": "2022-02-25T22:38:25.794Z"
   },
   {
    "duration": 681,
    "start_time": "2022-02-25T22:38:26.351Z"
   },
   {
    "duration": 534,
    "start_time": "2022-02-25T22:38:27.035Z"
   },
   {
    "duration": 690,
    "start_time": "2022-02-25T22:38:27.571Z"
   },
   {
    "duration": 921,
    "start_time": "2022-02-25T22:38:28.264Z"
   },
   {
    "duration": 326,
    "start_time": "2022-02-26T15:12:33.534Z"
   },
   {
    "duration": 1250,
    "start_time": "2022-02-26T15:12:43.906Z"
   },
   {
    "duration": 79,
    "start_time": "2022-02-26T15:12:45.158Z"
   },
   {
    "duration": 15,
    "start_time": "2022-02-26T15:12:45.240Z"
   },
   {
    "duration": 14,
    "start_time": "2022-02-26T15:12:45.258Z"
   },
   {
    "duration": 36,
    "start_time": "2022-02-26T15:12:45.274Z"
   },
   {
    "duration": 434,
    "start_time": "2022-02-26T15:12:45.312Z"
   },
   {
    "duration": 395,
    "start_time": "2022-02-26T15:12:45.748Z"
   },
   {
    "duration": 383,
    "start_time": "2022-02-26T15:12:46.146Z"
   },
   {
    "duration": 448,
    "start_time": "2022-02-26T15:12:46.531Z"
   },
   {
    "duration": 361,
    "start_time": "2022-02-26T15:12:46.981Z"
   },
   {
    "duration": 503,
    "start_time": "2022-02-26T15:12:47.343Z"
   },
   {
    "duration": 584,
    "start_time": "2022-02-26T15:12:47.848Z"
   },
   {
    "duration": 5,
    "start_time": "2022-02-26T15:12:48.434Z"
   },
   {
    "duration": 357,
    "start_time": "2022-02-26T15:19:41.509Z"
   },
   {
    "duration": 428,
    "start_time": "2022-02-26T15:21:57.720Z"
   },
   {
    "duration": 457,
    "start_time": "2022-02-26T15:24:05.493Z"
   },
   {
    "duration": 496,
    "start_time": "2022-02-26T15:25:13.099Z"
   },
   {
    "duration": 441,
    "start_time": "2022-02-26T15:26:29.825Z"
   },
   {
    "duration": 465,
    "start_time": "2022-02-26T15:26:32.186Z"
   },
   {
    "duration": 471,
    "start_time": "2022-02-26T15:29:33.677Z"
   },
   {
    "duration": 439,
    "start_time": "2022-02-26T15:29:50.964Z"
   },
   {
    "duration": 4,
    "start_time": "2022-02-26T15:31:35.058Z"
   },
   {
    "duration": 691,
    "start_time": "2022-02-26T16:14:34.015Z"
   },
   {
    "duration": 384,
    "start_time": "2022-02-26T16:14:57.854Z"
   },
   {
    "duration": 218,
    "start_time": "2022-02-26T16:25:58.500Z"
   },
   {
    "duration": 11,
    "start_time": "2022-02-26T16:26:03.898Z"
   },
   {
    "duration": 222,
    "start_time": "2022-02-26T16:45:15.906Z"
   },
   {
    "duration": 20,
    "start_time": "2022-02-26T16:45:36.634Z"
   },
   {
    "duration": 20,
    "start_time": "2022-02-26T16:50:20.402Z"
   },
   {
    "duration": 16,
    "start_time": "2022-02-26T16:53:52.668Z"
   },
   {
    "duration": 1157,
    "start_time": "2022-02-26T17:41:22.403Z"
   },
   {
    "duration": 72,
    "start_time": "2022-02-26T17:41:23.562Z"
   },
   {
    "duration": 16,
    "start_time": "2022-02-26T17:41:23.639Z"
   },
   {
    "duration": 13,
    "start_time": "2022-02-26T17:41:23.657Z"
   },
   {
    "duration": 12,
    "start_time": "2022-02-26T17:41:23.702Z"
   },
   {
    "duration": 394,
    "start_time": "2022-02-26T17:41:23.717Z"
   },
   {
    "duration": 376,
    "start_time": "2022-02-26T17:41:24.115Z"
   },
   {
    "duration": 362,
    "start_time": "2022-02-26T17:41:24.502Z"
   },
   {
    "duration": 500,
    "start_time": "2022-02-26T17:41:24.867Z"
   },
   {
    "duration": 359,
    "start_time": "2022-02-26T17:41:25.369Z"
   },
   {
    "duration": 465,
    "start_time": "2022-02-26T17:41:25.730Z"
   },
   {
    "duration": 577,
    "start_time": "2022-02-26T17:41:26.196Z"
   },
   {
    "duration": 5,
    "start_time": "2022-02-26T17:41:26.775Z"
   },
   {
    "duration": 499,
    "start_time": "2022-02-26T17:41:26.781Z"
   },
   {
    "duration": 472,
    "start_time": "2022-02-26T17:41:27.282Z"
   },
   {
    "duration": 5,
    "start_time": "2022-02-26T17:41:27.755Z"
   },
   {
    "duration": 399,
    "start_time": "2022-02-26T17:41:27.762Z"
   },
   {
    "duration": 12,
    "start_time": "2022-02-26T17:41:28.163Z"
   },
   {
    "duration": 34,
    "start_time": "2022-02-26T17:41:28.177Z"
   },
   {
    "duration": 14,
    "start_time": "2022-02-26T17:41:28.213Z"
   },
   {
    "duration": 1415,
    "start_time": "2022-02-27T10:46:20.732Z"
   },
   {
    "duration": 122,
    "start_time": "2022-02-27T10:46:22.149Z"
   },
   {
    "duration": 18,
    "start_time": "2022-02-27T10:46:22.274Z"
   },
   {
    "duration": 39,
    "start_time": "2022-02-27T10:46:22.295Z"
   },
   {
    "duration": 15,
    "start_time": "2022-02-27T10:46:22.336Z"
   },
   {
    "duration": 579,
    "start_time": "2022-02-27T10:46:22.353Z"
   },
   {
    "duration": 542,
    "start_time": "2022-02-27T10:46:22.934Z"
   },
   {
    "duration": 525,
    "start_time": "2022-02-27T10:46:23.481Z"
   },
   {
    "duration": 626,
    "start_time": "2022-02-27T10:46:24.009Z"
   },
   {
    "duration": 511,
    "start_time": "2022-02-27T10:46:24.638Z"
   },
   {
    "duration": 609,
    "start_time": "2022-02-27T10:46:25.151Z"
   },
   {
    "duration": 832,
    "start_time": "2022-02-27T10:46:25.762Z"
   },
   {
    "duration": 6,
    "start_time": "2022-02-27T10:46:26.597Z"
   },
   {
    "duration": 672,
    "start_time": "2022-02-27T10:46:26.605Z"
   },
   {
    "duration": 670,
    "start_time": "2022-02-27T10:46:27.280Z"
   },
   {
    "duration": 6,
    "start_time": "2022-02-27T10:46:27.952Z"
   },
   {
    "duration": 666,
    "start_time": "2022-02-27T10:46:27.960Z"
   },
   {
    "duration": 14,
    "start_time": "2022-02-27T10:46:28.629Z"
   },
   {
    "duration": 24,
    "start_time": "2022-02-27T10:46:28.645Z"
   },
   {
    "duration": 21,
    "start_time": "2022-02-27T10:46:28.672Z"
   },
   {
    "duration": 253,
    "start_time": "2022-02-28T16:50:23.092Z"
   },
   {
    "duration": 1085,
    "start_time": "2022-02-28T16:52:19.217Z"
   },
   {
    "duration": 70,
    "start_time": "2022-02-28T16:52:20.304Z"
   },
   {
    "duration": 13,
    "start_time": "2022-02-28T16:52:20.376Z"
   },
   {
    "duration": 22,
    "start_time": "2022-02-28T16:52:20.391Z"
   },
   {
    "duration": 13,
    "start_time": "2022-02-28T16:52:20.415Z"
   },
   {
    "duration": 436,
    "start_time": "2022-02-28T16:52:20.430Z"
   },
   {
    "duration": 386,
    "start_time": "2022-02-28T16:52:20.868Z"
   },
   {
    "duration": 341,
    "start_time": "2022-02-28T16:52:21.256Z"
   },
   {
    "duration": 433,
    "start_time": "2022-02-28T16:52:21.600Z"
   },
   {
    "duration": 343,
    "start_time": "2022-02-28T16:52:22.035Z"
   },
   {
    "duration": 466,
    "start_time": "2022-02-28T16:52:22.380Z"
   },
   {
    "duration": 540,
    "start_time": "2022-02-28T16:52:22.848Z"
   },
   {
    "duration": 3,
    "start_time": "2022-02-28T16:52:23.390Z"
   },
   {
    "duration": 505,
    "start_time": "2022-02-28T16:52:23.395Z"
   },
   {
    "duration": 419,
    "start_time": "2022-02-28T16:52:23.902Z"
   },
   {
    "duration": 4,
    "start_time": "2022-02-28T16:52:24.322Z"
   },
   {
    "duration": 375,
    "start_time": "2022-02-28T16:52:24.328Z"
   },
   {
    "duration": 9,
    "start_time": "2022-02-28T16:52:24.705Z"
   },
   {
    "duration": 17,
    "start_time": "2022-02-28T16:52:24.715Z"
   },
   {
    "duration": 34,
    "start_time": "2022-02-28T16:52:24.734Z"
   },
   {
    "duration": 17,
    "start_time": "2022-02-28T21:23:34.604Z"
   },
   {
    "duration": 20,
    "start_time": "2022-02-28T21:23:44.547Z"
   },
   {
    "duration": 1078,
    "start_time": "2022-02-28T21:30:13.403Z"
   },
   {
    "duration": 62,
    "start_time": "2022-02-28T21:30:14.483Z"
   },
   {
    "duration": 17,
    "start_time": "2022-02-28T21:30:14.548Z"
   },
   {
    "duration": 14,
    "start_time": "2022-02-28T21:30:14.568Z"
   },
   {
    "duration": 12,
    "start_time": "2022-02-28T21:30:14.584Z"
   },
   {
    "duration": 361,
    "start_time": "2022-02-28T21:30:14.598Z"
   },
   {
    "duration": 341,
    "start_time": "2022-02-28T21:30:14.960Z"
   },
   {
    "duration": 337,
    "start_time": "2022-02-28T21:30:15.303Z"
   },
   {
    "duration": 455,
    "start_time": "2022-02-28T21:30:15.641Z"
   },
   {
    "duration": 334,
    "start_time": "2022-02-28T21:30:16.097Z"
   },
   {
    "duration": 467,
    "start_time": "2022-02-28T21:30:16.432Z"
   },
   {
    "duration": 488,
    "start_time": "2022-02-28T21:30:16.901Z"
   },
   {
    "duration": 4,
    "start_time": "2022-02-28T21:30:17.391Z"
   },
   {
    "duration": 502,
    "start_time": "2022-02-28T21:30:17.397Z"
   },
   {
    "duration": 417,
    "start_time": "2022-02-28T21:30:17.900Z"
   },
   {
    "duration": 4,
    "start_time": "2022-02-28T21:30:18.319Z"
   },
   {
    "duration": 383,
    "start_time": "2022-02-28T21:30:18.325Z"
   },
   {
    "duration": 9,
    "start_time": "2022-02-28T21:30:18.710Z"
   },
   {
    "duration": 16,
    "start_time": "2022-02-28T21:30:18.721Z"
   },
   {
    "duration": 30,
    "start_time": "2022-02-28T21:30:18.739Z"
   },
   {
    "duration": 1093,
    "start_time": "2022-03-01T08:16:01.100Z"
   },
   {
    "duration": 87,
    "start_time": "2022-03-01T08:16:02.195Z"
   },
   {
    "duration": 13,
    "start_time": "2022-03-01T08:16:02.284Z"
   },
   {
    "duration": 12,
    "start_time": "2022-03-01T08:16:02.299Z"
   },
   {
    "duration": 21,
    "start_time": "2022-03-01T08:16:02.313Z"
   },
   {
    "duration": 396,
    "start_time": "2022-03-01T08:16:02.336Z"
   },
   {
    "duration": 350,
    "start_time": "2022-03-01T08:16:02.735Z"
   },
   {
    "duration": 313,
    "start_time": "2022-03-01T08:16:03.087Z"
   },
   {
    "duration": 459,
    "start_time": "2022-03-01T08:16:03.402Z"
   },
   {
    "duration": 312,
    "start_time": "2022-03-01T08:16:03.862Z"
   },
   {
    "duration": 421,
    "start_time": "2022-03-01T08:16:04.175Z"
   },
   {
    "duration": 494,
    "start_time": "2022-03-01T08:16:04.598Z"
   },
   {
    "duration": 4,
    "start_time": "2022-03-01T08:16:05.094Z"
   },
   {
    "duration": 631,
    "start_time": "2022-03-01T08:16:05.100Z"
   },
   {
    "duration": 539,
    "start_time": "2022-03-01T08:16:05.733Z"
   },
   {
    "duration": 4,
    "start_time": "2022-03-01T08:16:06.274Z"
   },
   {
    "duration": 548,
    "start_time": "2022-03-01T08:16:06.280Z"
   },
   {
    "duration": 11,
    "start_time": "2022-03-01T08:16:06.833Z"
   },
   {
    "duration": 18,
    "start_time": "2022-03-01T08:16:06.846Z"
   },
   {
    "duration": 15,
    "start_time": "2022-03-01T08:16:06.865Z"
   },
   {
    "duration": 1042,
    "start_time": "2022-06-20T12:25:46.777Z"
   },
   {
    "duration": 221,
    "start_time": "2022-06-20T12:25:47.820Z"
   },
   {
    "duration": 12,
    "start_time": "2022-06-20T12:25:48.043Z"
   },
   {
    "duration": 10,
    "start_time": "2022-06-20T12:25:48.057Z"
   },
   {
    "duration": 9,
    "start_time": "2022-06-20T12:25:48.069Z"
   },
   {
    "duration": 292,
    "start_time": "2022-06-20T12:25:48.079Z"
   },
   {
    "duration": 275,
    "start_time": "2022-06-20T12:25:48.372Z"
   },
   {
    "duration": 226,
    "start_time": "2022-06-20T12:25:48.648Z"
   },
   {
    "duration": 289,
    "start_time": "2022-06-20T12:25:48.875Z"
   },
   {
    "duration": 199,
    "start_time": "2022-06-20T12:25:49.166Z"
   },
   {
    "duration": 298,
    "start_time": "2022-06-20T12:25:49.367Z"
   },
   {
    "duration": 266,
    "start_time": "2022-06-20T12:25:49.666Z"
   },
   {
    "duration": 4,
    "start_time": "2022-06-20T12:25:49.934Z"
   },
   {
    "duration": 170,
    "start_time": "2022-06-20T12:25:49.939Z"
   },
   {
    "duration": 174,
    "start_time": "2022-06-20T12:25:50.111Z"
   },
   {
    "duration": 3,
    "start_time": "2022-06-20T12:25:50.287Z"
   },
   {
    "duration": 398,
    "start_time": "2022-06-20T12:25:50.292Z"
   },
   {
    "duration": 9,
    "start_time": "2022-06-20T12:25:50.691Z"
   },
   {
    "duration": 39,
    "start_time": "2022-06-20T12:25:50.701Z"
   },
   {
    "duration": 18,
    "start_time": "2022-06-20T12:25:50.741Z"
   }
  ],
  "kernelspec": {
   "display_name": "Python 3 (ipykernel)",
   "language": "python",
   "name": "python3"
  },
  "language_info": {
   "codemirror_mode": {
    "name": "ipython",
    "version": 3
   },
   "file_extension": ".py",
   "mimetype": "text/x-python",
   "name": "python",
   "nbconvert_exporter": "python",
   "pygments_lexer": "ipython3",
   "version": "3.9.7"
  },
  "toc": {
   "base_numbering": 1,
   "nav_menu": {},
   "number_sections": true,
   "sideBar": true,
   "skip_h1_title": true,
   "title_cell": "Table of Contents",
   "title_sidebar": "Contents",
   "toc_cell": false,
   "toc_position": {},
   "toc_section_display": true,
   "toc_window_display": false
  }
 },
 "nbformat": 4,
 "nbformat_minor": 2
}
