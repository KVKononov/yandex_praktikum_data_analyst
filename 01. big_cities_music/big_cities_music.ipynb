{
 "cells": [
  {
   "cell_type": "markdown",
   "metadata": {
    "id": "E0vqbgi9ay0H"
   },
   "source": [
    "# Яндекс.Музыка"
   ]
  },
  {
   "cell_type": "markdown",
   "metadata": {},
   "source": [
    "## Оглавление\n",
    "\n",
    "1. Обзор данных\n",
    "2. Предобработка данных\n",
    "3. Проверка гипотез\n",
    "4. Итоги исследования"
   ]
  },
  {
   "cell_type": "markdown",
   "metadata": {
    "id": "Ml1hmfXC_Zcs"
   },
   "source": [
    "## 1. Обзор данных "
   ]
  },
  {
   "cell_type": "code",
   "execution_count": 1,
   "metadata": {
    "id": "AXN7PHPN_Zcs"
   },
   "outputs": [],
   "source": [
    "import pandas as pd # импорт библиотеки pandas"
   ]
  },
  {
   "cell_type": "code",
   "execution_count": 2,
   "metadata": {
    "id": "fFVu7vqh_Zct"
   },
   "outputs": [],
   "source": [
    "df = pd.read_csv('yandex_music_project.csv') # чтение файла с данными и сохранение в df"
   ]
  },
  {
   "cell_type": "code",
   "execution_count": 3,
   "metadata": {
    "id": "oWTVX3gW_Zct"
   },
   "outputs": [
    {
     "data": {
      "text/html": [
       "<div>\n",
       "<style scoped>\n",
       "    .dataframe tbody tr th:only-of-type {\n",
       "        vertical-align: middle;\n",
       "    }\n",
       "\n",
       "    .dataframe tbody tr th {\n",
       "        vertical-align: top;\n",
       "    }\n",
       "\n",
       "    .dataframe thead th {\n",
       "        text-align: right;\n",
       "    }\n",
       "</style>\n",
       "<table border=\"1\" class=\"dataframe\">\n",
       "  <thead>\n",
       "    <tr style=\"text-align: right;\">\n",
       "      <th></th>\n",
       "      <th>userID</th>\n",
       "      <th>Track</th>\n",
       "      <th>artist</th>\n",
       "      <th>genre</th>\n",
       "      <th>City</th>\n",
       "      <th>time</th>\n",
       "      <th>Day</th>\n",
       "    </tr>\n",
       "  </thead>\n",
       "  <tbody>\n",
       "    <tr>\n",
       "      <td>0</td>\n",
       "      <td>FFB692EC</td>\n",
       "      <td>Kamigata To Boots</td>\n",
       "      <td>The Mass Missile</td>\n",
       "      <td>rock</td>\n",
       "      <td>Saint-Petersburg</td>\n",
       "      <td>20:28:33</td>\n",
       "      <td>Wednesday</td>\n",
       "    </tr>\n",
       "    <tr>\n",
       "      <td>1</td>\n",
       "      <td>55204538</td>\n",
       "      <td>Delayed Because of Accident</td>\n",
       "      <td>Andreas Rönnberg</td>\n",
       "      <td>rock</td>\n",
       "      <td>Moscow</td>\n",
       "      <td>14:07:09</td>\n",
       "      <td>Friday</td>\n",
       "    </tr>\n",
       "    <tr>\n",
       "      <td>2</td>\n",
       "      <td>20EC38</td>\n",
       "      <td>Funiculì funiculà</td>\n",
       "      <td>Mario Lanza</td>\n",
       "      <td>pop</td>\n",
       "      <td>Saint-Petersburg</td>\n",
       "      <td>20:58:07</td>\n",
       "      <td>Wednesday</td>\n",
       "    </tr>\n",
       "    <tr>\n",
       "      <td>3</td>\n",
       "      <td>A3DD03C9</td>\n",
       "      <td>Dragons in the Sunset</td>\n",
       "      <td>Fire + Ice</td>\n",
       "      <td>folk</td>\n",
       "      <td>Saint-Petersburg</td>\n",
       "      <td>08:37:09</td>\n",
       "      <td>Monday</td>\n",
       "    </tr>\n",
       "    <tr>\n",
       "      <td>4</td>\n",
       "      <td>E2DC1FAE</td>\n",
       "      <td>Soul People</td>\n",
       "      <td>Space Echo</td>\n",
       "      <td>dance</td>\n",
       "      <td>Moscow</td>\n",
       "      <td>08:34:34</td>\n",
       "      <td>Monday</td>\n",
       "    </tr>\n",
       "    <tr>\n",
       "      <td>5</td>\n",
       "      <td>842029A1</td>\n",
       "      <td>Преданная</td>\n",
       "      <td>IMPERVTOR</td>\n",
       "      <td>rusrap</td>\n",
       "      <td>Saint-Petersburg</td>\n",
       "      <td>13:09:41</td>\n",
       "      <td>Friday</td>\n",
       "    </tr>\n",
       "    <tr>\n",
       "      <td>6</td>\n",
       "      <td>4CB90AA5</td>\n",
       "      <td>True</td>\n",
       "      <td>Roman Messer</td>\n",
       "      <td>dance</td>\n",
       "      <td>Moscow</td>\n",
       "      <td>13:00:07</td>\n",
       "      <td>Wednesday</td>\n",
       "    </tr>\n",
       "    <tr>\n",
       "      <td>7</td>\n",
       "      <td>F03E1C1F</td>\n",
       "      <td>Feeling This Way</td>\n",
       "      <td>Polina Griffith</td>\n",
       "      <td>dance</td>\n",
       "      <td>Moscow</td>\n",
       "      <td>20:47:49</td>\n",
       "      <td>Wednesday</td>\n",
       "    </tr>\n",
       "    <tr>\n",
       "      <td>8</td>\n",
       "      <td>8FA1D3BE</td>\n",
       "      <td>И вновь продолжается бой</td>\n",
       "      <td>NaN</td>\n",
       "      <td>ruspop</td>\n",
       "      <td>Moscow</td>\n",
       "      <td>09:17:40</td>\n",
       "      <td>Friday</td>\n",
       "    </tr>\n",
       "    <tr>\n",
       "      <td>9</td>\n",
       "      <td>E772D5C0</td>\n",
       "      <td>Pessimist</td>\n",
       "      <td>NaN</td>\n",
       "      <td>dance</td>\n",
       "      <td>Saint-Petersburg</td>\n",
       "      <td>21:20:49</td>\n",
       "      <td>Wednesday</td>\n",
       "    </tr>\n",
       "  </tbody>\n",
       "</table>\n",
       "</div>"
      ],
      "text/plain": [
       "     userID                        Track            artist   genre  \\\n",
       "0  FFB692EC            Kamigata To Boots  The Mass Missile    rock   \n",
       "1  55204538  Delayed Because of Accident  Andreas Rönnberg    rock   \n",
       "2    20EC38            Funiculì funiculà       Mario Lanza     pop   \n",
       "3  A3DD03C9        Dragons in the Sunset        Fire + Ice    folk   \n",
       "4  E2DC1FAE                  Soul People        Space Echo   dance   \n",
       "5  842029A1                    Преданная         IMPERVTOR  rusrap   \n",
       "6  4CB90AA5                         True      Roman Messer   dance   \n",
       "7  F03E1C1F             Feeling This Way   Polina Griffith   dance   \n",
       "8  8FA1D3BE     И вновь продолжается бой               NaN  ruspop   \n",
       "9  E772D5C0                    Pessimist               NaN   dance   \n",
       "\n",
       "             City        time        Day  \n",
       "0  Saint-Petersburg  20:28:33  Wednesday  \n",
       "1            Moscow  14:07:09     Friday  \n",
       "2  Saint-Petersburg  20:58:07  Wednesday  \n",
       "3  Saint-Petersburg  08:37:09     Monday  \n",
       "4            Moscow  08:34:34     Monday  \n",
       "5  Saint-Petersburg  13:09:41     Friday  \n",
       "6            Moscow  13:00:07  Wednesday  \n",
       "7            Moscow  20:47:49  Wednesday  \n",
       "8            Moscow  09:17:40     Friday  \n",
       "9  Saint-Petersburg  21:20:49  Wednesday  "
      ]
     },
     "metadata": {},
     "output_type": "display_data"
    }
   ],
   "source": [
    "display(df.head(10)) # получение первых 10 строк таблицы df"
   ]
  },
  {
   "cell_type": "code",
   "execution_count": 4,
   "metadata": {
    "id": "DSf2kIb-_Zct"
   },
   "outputs": [
    {
     "name": "stdout",
     "output_type": "stream",
     "text": [
      "<class 'pandas.core.frame.DataFrame'>\n",
      "RangeIndex: 65079 entries, 0 to 65078\n",
      "Data columns (total 7 columns):\n",
      "  userID    65079 non-null object\n",
      "Track       63848 non-null object\n",
      "artist      57876 non-null object\n",
      "genre       63881 non-null object\n",
      "  City      65079 non-null object\n",
      "time        65079 non-null object\n",
      "Day         65079 non-null object\n",
      "dtypes: object(7)\n",
      "memory usage: 3.5+ MB\n"
     ]
    },
    {
     "data": {
      "text/plain": [
       "None"
      ]
     },
     "metadata": {},
     "output_type": "display_data"
    }
   ],
   "source": [
    "display(df.info())# получение общей информации о данных в таблице df"
   ]
  },
  {
   "cell_type": "markdown",
   "metadata": {
    "id": "TaQ2Iwbr_Zct"
   },
   "source": [
    "Итак, в таблице семь столбцов. Тип данных во всех столбцах — `object`.\n",
    "\n",
    "Согласно документации к данным:\n",
    "* `userID` — идентификатор пользователя;\n",
    "* `Track` — название трека;  \n",
    "* `artist` — имя исполнителя;\n",
    "* `genre` — название жанра;\n",
    "* `City` — город пользователя;\n",
    "* `time` — время начала прослушивания;\n",
    "* `Day` — день недели.\n",
    "\n",
    "В названиях колонок видны три нарушения стиля:\n",
    "1. Строчные буквы сочетаются с прописными.\n",
    "2. Встречаются пробелы.\n",
    "3. UserID нужно записать в змеином регистре - user_id.\n",
    "\n",
    "\n",
    "Количество значений в столбцах различается. Значит, в данных есть пропущенные значения."
   ]
  },
  {
   "cell_type": "markdown",
   "metadata": {
    "id": "MCB6-dXG_Zct"
   },
   "source": [
    "**Выводы**\n",
    "\n",
    "В каждой строке таблицы — данные о прослушанном треке. Часть колонок описывает саму композицию: название, исполнителя и жанр. Остальные данные рассказывают о пользователе: из какого он города, когда он слушал музыку. \n",
    "\n",
    "Предварительно можно утверждать, что, данных достаточно для проверки гипотез. Но встречаются пропуски в данных, а в названиях колонок — расхождения с хорошим стилем.\n",
    "\n",
    "Чтобы двигаться дальше, нужно устранить проблемы в данных."
   ]
  },
  {
   "cell_type": "markdown",
   "metadata": {
    "id": "SjYF6Ub9_Zct"
   },
   "source": [
    "## 2. Предобработка данных "
   ]
  },
  {
   "cell_type": "code",
   "execution_count": 5,
   "metadata": {
    "id": "oKOTdF_Q_Zct"
   },
   "outputs": [
    {
     "name": "stdout",
     "output_type": "stream",
     "text": [
      "Index(['  userID', 'Track', 'artist', 'genre', '  City  ', 'time', 'Day'], dtype='object')\n"
     ]
    }
   ],
   "source": [
    "print(df.columns) # перечень названий столбцов таблицы df"
   ]
  },
  {
   "cell_type": "code",
   "execution_count": 6,
   "metadata": {
    "id": "ISlFqs5y_Zct"
   },
   "outputs": [],
   "source": [
    "df.set_axis(['user_id', 'track', 'artist', 'genre', 'city', 'time', 'day'], axis = 'columns', inplace = True) # переименование столбцов"
   ]
  },
  {
   "cell_type": "code",
   "execution_count": 7,
   "metadata": {
    "id": "d4NOAmTW_Zct"
   },
   "outputs": [
    {
     "name": "stdout",
     "output_type": "stream",
     "text": [
      "Index(['user_id', 'track', 'artist', 'genre', 'city', 'time', 'day'], dtype='object')\n"
     ]
    }
   ],
   "source": [
    "print(df.columns) # проверка результатов - перечень названий столбцов"
   ]
  },
  {
   "cell_type": "code",
   "execution_count": 8,
   "metadata": {
    "id": "RskX29qr_Zct"
   },
   "outputs": [
    {
     "name": "stdout",
     "output_type": "stream",
     "text": [
      "user_id       0\n",
      "track      1231\n",
      "artist     7203\n",
      "genre      1198\n",
      "city          0\n",
      "time          0\n",
      "day           0\n",
      "dtype: int64\n"
     ]
    }
   ],
   "source": [
    "print(df.isna().sum()) # подсчёт пропусков"
   ]
  },
  {
   "cell_type": "code",
   "execution_count": 9,
   "metadata": {
    "id": "KplB5qWs_Zct"
   },
   "outputs": [],
   "source": [
    "columns_to_replace = ['track', 'artist', 'genre'] # перебор названий столбцов в цикле и замена пропущенных значений на 'unknown'\n",
    "for i in columns_to_replace:\n",
    "    df[i] = df[i].fillna('unknown')"
   ]
  },
  {
   "cell_type": "code",
   "execution_count": 10,
   "metadata": {
    "id": "Tq4nYRX4_Zct"
   },
   "outputs": [
    {
     "name": "stdout",
     "output_type": "stream",
     "text": [
      "user_id    0\n",
      "track      0\n",
      "artist     0\n",
      "genre      0\n",
      "city       0\n",
      "time       0\n",
      "day        0\n",
      "dtype: int64\n"
     ]
    }
   ],
   "source": [
    "print(df.isna().sum()) # подсчёт пропусков"
   ]
  },
  {
   "cell_type": "code",
   "execution_count": 11,
   "metadata": {
    "id": "36eES_S0_Zct"
   },
   "outputs": [
    {
     "name": "stdout",
     "output_type": "stream",
     "text": [
      "3826\n"
     ]
    }
   ],
   "source": [
    "print(df.duplicated().sum())# подсчёт явных дубликатов"
   ]
  },
  {
   "cell_type": "code",
   "execution_count": 12,
   "metadata": {
    "id": "exFHq6tt_Zct"
   },
   "outputs": [],
   "source": [
    "df = df.drop_duplicates().reset_index(drop = True) # удаление явных дубликатов (с удалением старых индексов и формированием новых)"
   ]
  },
  {
   "cell_type": "code",
   "execution_count": 13,
   "metadata": {
    "id": "-8PuNWQ0_Zct"
   },
   "outputs": [
    {
     "name": "stdout",
     "output_type": "stream",
     "text": [
      "0\n"
     ]
    }
   ],
   "source": [
    "print(df.duplicated().sum()) # проверка на отсутствие дубликатов"
   ]
  },
  {
   "cell_type": "code",
   "execution_count": 14,
   "metadata": {
    "id": "JIUcqzZN_Zct"
   },
   "outputs": [
    {
     "name": "stdout",
     "output_type": "stream",
     "text": [
      "['acid' 'acoustic' 'action' 'adult' 'africa' 'afrikaans' 'alternative'\n",
      " 'alternativepunk' 'ambient' 'americana' 'animated' 'anime' 'arabesk'\n",
      " 'arabic' 'arena' 'argentinetango' 'art' 'audiobook' 'author' 'avantgarde'\n",
      " 'axé' 'baile' 'balkan' 'beats' 'bigroom' 'black' 'bluegrass' 'blues'\n",
      " 'bollywood' 'bossa' 'brazilian' 'breakbeat' 'breaks' 'broadway'\n",
      " 'cantautori' 'cantopop' 'canzone' 'caribbean' 'caucasian' 'celtic'\n",
      " 'chamber' 'chanson' 'children' 'chill' 'chinese' 'choral' 'christian'\n",
      " 'christmas' 'classical' 'classicmetal' 'club' 'colombian' 'comedy'\n",
      " 'conjazz' 'contemporary' 'country' 'cuban' 'dance' 'dancehall' 'dancepop'\n",
      " 'dark' 'death' 'deep' 'deutschrock' 'deutschspr' 'dirty' 'disco' 'dnb'\n",
      " 'documentary' 'downbeat' 'downtempo' 'drum' 'dub' 'dubstep' 'eastern'\n",
      " 'easy' 'electronic' 'electropop' 'emo' 'entehno' 'epicmetal' 'estrada'\n",
      " 'ethnic' 'eurofolk' 'european' 'experimental' 'extrememetal' 'fado'\n",
      " 'fairytail' 'film' 'fitness' 'flamenco' 'folk' 'folklore' 'folkmetal'\n",
      " 'folkrock' 'folktronica' 'forró' 'frankreich' 'französisch' 'french'\n",
      " 'funk' 'future' 'gangsta' 'garage' 'german' 'ghazal' 'gitarre' 'glitch'\n",
      " 'gospel' 'gothic' 'grime' 'grunge' 'gypsy' 'handsup' \"hard'n'heavy\"\n",
      " 'hardcore' 'hardstyle' 'hardtechno' 'hip' 'hip-hop' 'hiphop' 'historisch'\n",
      " 'holiday' 'hop' 'horror' 'house' 'hymn' 'idm' 'independent' 'indian'\n",
      " 'indie' 'indipop' 'industrial' 'inspirational' 'instrumental'\n",
      " 'international' 'irish' 'jam' 'japanese' 'jazz' 'jewish' 'jpop' 'jungle'\n",
      " 'k-pop' 'karadeniz' 'karaoke' 'kayokyoku' 'korean' 'laiko' 'latin'\n",
      " 'latino' 'leftfield' 'local' 'lounge' 'loungeelectronic' 'lovers'\n",
      " 'malaysian' 'mandopop' 'marschmusik' 'meditative' 'mediterranean'\n",
      " 'melodic' 'metal' 'metalcore' 'mexican' 'middle' 'minimal'\n",
      " 'miscellaneous' 'modern' 'mood' 'mpb' 'muslim' 'native' 'neoklassik'\n",
      " 'neue' 'new' 'newage' 'newwave' 'nu' 'nujazz' 'numetal' 'oceania' 'old'\n",
      " 'opera' 'orchestral' 'other' 'piano' 'podcasts' 'pop' 'popdance'\n",
      " 'popelectronic' 'popeurodance' 'poprussian' 'post' 'posthardcore'\n",
      " 'postrock' 'power' 'progmetal' 'progressive' 'psychedelic' 'punjabi'\n",
      " 'punk' 'quebecois' 'ragga' 'ram' 'rancheras' 'rap' 'rave' 'reggae'\n",
      " 'reggaeton' 'regional' 'relax' 'religious' 'retro' 'rhythm' 'rnb' 'rnr'\n",
      " 'rock' 'rockabilly' 'rockalternative' 'rockindie' 'rockother' 'romance'\n",
      " 'roots' 'ruspop' 'rusrap' 'rusrock' 'russian' 'salsa' 'samba' 'scenic'\n",
      " 'schlager' 'self' 'sertanejo' 'shanson' 'shoegazing' 'showtunes' 'singer'\n",
      " 'ska' 'skarock' 'slow' 'smooth' 'soft' 'soul' 'soulful' 'sound'\n",
      " 'soundtrack' 'southern' 'specialty' 'speech' 'spiritual' 'sport'\n",
      " 'stonerrock' 'surf' 'swing' 'synthpop' 'synthrock' 'sängerportrait'\n",
      " 'tango' 'tanzorchester' 'taraftar' 'tatar' 'tech' 'techno' 'teen'\n",
      " 'thrash' 'top' 'traditional' 'tradjazz' 'trance' 'tribal' 'trip'\n",
      " 'triphop' 'tropical' 'türk' 'türkçe' 'ukrrock' 'unknown' 'urban' 'uzbek'\n",
      " 'variété' 'vi' 'videogame' 'vocal' 'western' 'world' 'worldbeat' 'ïîï'\n",
      " 'электроника']\n"
     ]
    }
   ],
   "source": [
    "df_genres = df['genre'] # Просмотр уникальных названий жанров\n",
    "df_genres = df_genres.sort_values()\n",
    "print(df_genres.unique()) # В неявных дубликатах есть ещё 'ïîï' и 'электроника', в задании про них не написано, \n",
    "# нужно ли заменять их или они добавлены по ошибке и можно оставить?  "
   ]
  },
  {
   "cell_type": "markdown",
   "metadata": {
    "id": "qej-Qmuo_Zct"
   },
   "source": [
    "Правильное название — hiphop. Поищем другие варианты:\n",
    "\n",
    "* hip\n",
    "* hop\n",
    "* hip-hop"
   ]
  },
  {
   "cell_type": "code",
   "execution_count": 15,
   "metadata": {
    "id": "ErNDkmns_Zct"
   },
   "outputs": [],
   "source": [
    "wrong_genres = ['hip', 'hop', 'hip-hop'] # Функция для замены неявных дубликатов\n",
    "correct_genre = 'hiphop'\n",
    "def replace_wrong_genres(wrong_genres, correct_genre):\n",
    "    df['genre'] = df['genre'].replace(wrong_genres, correct_genre)"
   ]
  },
  {
   "cell_type": "code",
   "execution_count": 16,
   "metadata": {
    "id": "YN5i2hpmSo09"
   },
   "outputs": [],
   "source": [
    "replace_wrong_genres(wrong_genres, correct_genre) # Устранение неявных дубликатов"
   ]
  },
  {
   "cell_type": "code",
   "execution_count": 17,
   "metadata": {
    "id": "wvixALnFG15m"
   },
   "outputs": [
    {
     "name": "stdout",
     "output_type": "stream",
     "text": [
      "['rock' 'pop' 'folk' 'dance' 'rusrap' 'ruspop' 'world' 'electronic'\n",
      " 'unknown' 'alternative' 'children' 'rnb' 'hiphop' 'jazz' 'postrock'\n",
      " 'latin' 'classical' 'metal' 'reggae' 'tatar' 'blues' 'instrumental'\n",
      " 'rusrock' 'dnb' 'türk' 'post' 'country' 'psychedelic' 'conjazz' 'indie'\n",
      " 'posthardcore' 'local' 'avantgarde' 'punk' 'videogame' 'techno' 'house'\n",
      " 'christmas' 'melodic' 'caucasian' 'reggaeton' 'soundtrack' 'singer' 'ska'\n",
      " 'shanson' 'ambient' 'film' 'western' 'rap' 'beats' \"hard'n'heavy\"\n",
      " 'progmetal' 'minimal' 'contemporary' 'new' 'soul' 'holiday' 'german'\n",
      " 'tropical' 'fairytail' 'spiritual' 'urban' 'gospel' 'nujazz' 'folkmetal'\n",
      " 'trance' 'miscellaneous' 'anime' 'hardcore' 'progressive' 'chanson'\n",
      " 'numetal' 'vocal' 'estrada' 'russian' 'classicmetal' 'dubstep' 'club'\n",
      " 'deep' 'southern' 'black' 'folkrock' 'fitness' 'french' 'disco'\n",
      " 'religious' 'drum' 'extrememetal' 'türkçe' 'experimental' 'easy'\n",
      " 'metalcore' 'modern' 'argentinetango' 'old' 'breaks' 'eurofolk'\n",
      " 'stonerrock' 'industrial' 'funk' 'jpop' 'middle' 'variété' 'other'\n",
      " 'adult' 'christian' 'gothic' 'international' 'muslim' 'relax' 'schlager'\n",
      " 'caribbean' 'ukrrock' 'nu' 'breakbeat' 'comedy' 'chill' 'newage'\n",
      " 'specialty' 'uzbek' 'k-pop' 'balkan' 'chinese' 'meditative' 'dub' 'power'\n",
      " 'death' 'grime' 'arabesk' 'romance' 'flamenco' 'leftfield' 'european'\n",
      " 'tech' 'newwave' 'dancehall' 'mpb' 'piano' 'top' 'bigroom' 'opera'\n",
      " 'celtic' 'tradjazz' 'acoustic' 'epicmetal' 'historisch' 'downbeat'\n",
      " 'downtempo' 'africa' 'audiobook' 'jewish' 'sängerportrait' 'deutschrock'\n",
      " 'eastern' 'action' 'future' 'electropop' 'folklore' 'bollywood'\n",
      " 'marschmusik' 'rnr' 'karaoke' 'indian' 'rancheras' 'электроника'\n",
      " 'afrikaans' 'tango' 'rhythm' 'sound' 'deutschspr' 'trip' 'lovers'\n",
      " 'choral' 'dancepop' 'podcasts' 'retro' 'smooth' 'mexican' 'brazilian'\n",
      " 'ïîï' 'mood' 'surf' 'author' 'gangsta' 'triphop' 'inspirational' 'idm'\n",
      " 'ethnic' 'bluegrass' 'broadway' 'animated' 'americana' 'karadeniz'\n",
      " 'rockabilly' 'colombian' 'self' 'synthrock' 'sertanejo' 'japanese'\n",
      " 'canzone' 'swing' 'lounge' 'sport' 'korean' 'ragga' 'traditional'\n",
      " 'gitarre' 'frankreich' 'alternativepunk' 'emo' 'laiko' 'cantopop'\n",
      " 'glitch' 'documentary' 'rockalternative' 'thrash' 'hymn' 'oceania'\n",
      " 'rockother' 'popeurodance' 'dark' 'vi' 'grunge' 'hardstyle' 'samba'\n",
      " 'garage' 'soft' 'art' 'folktronica' 'entehno' 'mediterranean' 'chamber'\n",
      " 'cuban' 'taraftar' 'rockindie' 'gypsy' 'hardtechno' 'shoegazing'\n",
      " 'skarock' 'bossa' 'salsa' 'latino' 'worldbeat' 'malaysian' 'baile'\n",
      " 'ghazal' 'loungeelectronic' 'arabic' 'popelectronic' 'acid' 'kayokyoku'\n",
      " 'neoklassik' 'tribal' 'tanzorchester' 'native' 'independent' 'cantautori'\n",
      " 'handsup' 'poprussian' 'punjabi' 'synthpop' 'rave' 'französisch'\n",
      " 'quebecois' 'speech' 'soulful' 'teen' 'jam' 'ram' 'horror' 'scenic'\n",
      " 'orchestral' 'neue' 'roots' 'slow' 'jungle' 'indipop' 'axé' 'fado'\n",
      " 'showtunes' 'arena' 'irish' 'mandopop' 'forró' 'popdance' 'dirty'\n",
      " 'regional']\n"
     ]
    }
   ],
   "source": [
    "print(df['genre'].unique()) # Проверка на неявные дубликаты"
   ]
  },
  {
   "cell_type": "markdown",
   "metadata": {
    "id": "jz6a9-7HQUDd"
   },
   "source": [
    "**Выводы**\n",
    "\n",
    "На этапе предобработки в данных обнаружились не только пропуски и проблемы с названиями столбцов, но и всяческие виды дубликатов. Их удаление позволит провести анализ точнее. Поскольку сведения о жанрах важно сохранить для анализа, не просто удаляем все пропущенные значения, но заполним пропущенные имена исполнителей и названия треков. Имена столбцов теперь корректны и удобны для дальнейшей работы."
   ]
  },
  {
   "cell_type": "markdown",
   "metadata": {
    "id": "WttZHXH0SqKk"
   },
   "source": [
    "## 3. Проверка гипотез "
   ]
  },
  {
   "cell_type": "markdown",
   "metadata": {},
   "source": [
    "### Сравнение поведения пользователей двух столиц"
   ]
  },
  {
   "cell_type": "markdown",
   "metadata": {
    "id": "nwt_MuaL_Zcu"
   },
   "source": [
    "Первая гипотеза, что в Москве и Санкт-Петербурге пользователи слушают музыку по-разному. Проверяем это предположение по данным о трёх днях недели — понедельнике, среде и пятнице."
   ]
  },
  {
   "cell_type": "code",
   "execution_count": 18,
   "metadata": {
    "id": "0_Qs96oh_Zcu"
   },
   "outputs": [
    {
     "data": {
      "text/plain": [
       "city\n",
       "Moscow              42741\n",
       "Saint-Petersburg    18512\n",
       "Name: genre, dtype: int64"
      ]
     },
     "metadata": {},
     "output_type": "display_data"
    }
   ],
   "source": [
    "display(df.groupby('city')['genre'].count()) # Подсчёт прослушиваний в каждом городе"
   ]
  },
  {
   "cell_type": "markdown",
   "metadata": {
    "id": "dzli3w8o_Zcu"
   },
   "source": [
    "В Москве прослушиваний больше, чем в Петербурге. Из этого не следует, что московские пользователи чаще слушают музыку. Просто самих пользователей в Москве больше."
   ]
  },
  {
   "cell_type": "code",
   "execution_count": 19,
   "metadata": {
    "id": "uZMKjiJz_Zcu"
   },
   "outputs": [
    {
     "name": "stdout",
     "output_type": "stream",
     "text": [
      "day\n",
      "Friday       21840\n",
      "Monday       21354\n",
      "Wednesday    18059\n",
      "Name: genre, dtype: int64\n"
     ]
    }
   ],
   "source": [
    "print(df.groupby('day')['genre'].count())# Подсчёт прослушиваний в каждый из трёх дней"
   ]
  },
  {
   "cell_type": "markdown",
   "metadata": {
    "id": "cC2tNrlL_Zcu"
   },
   "source": [
    "В среднем пользователи из двух городов менее активны по средам. Но картина может измениться, если рассмотреть каждый город в отдельности."
   ]
  },
  {
   "cell_type": "code",
   "execution_count": 1,
   "metadata": {
    "id": "Nz3GdQB1_Zcu"
   },
   "outputs": [],
   "source": [
    "def number_tracks(day, city): # <создание функции number_tracks()>\n",
    "    track_list = df[(df['day'] == day) & (df['city'] == city)] # Объявляется функция с двумя параметрами: day, city.\n",
    "    track_list_count = track_list['user_id'].count() # В переменной track_list сохраняются те строки таблицы df, для которых \n",
    "    return track_list_count # значение в столбце 'day' равно параметру day и одновременно значение\n",
    "# в столбце 'city' равно параметру city.\n",
    "# В переменной track_list_count сохраняется число значений столбца 'user_id',\n",
    "# рассчитанное методом count() для таблицы track_list.\n",
    "# Функция возвращает число - значение track_list_count.\n",
    "\n",
    "# Функция для подсчёта прослушиваний для конкретного города и дня.\n",
    "# С помощью последовательной фильтрации с логической индексацией она \n",
    "# сначала получит из исходной таблицы строки с нужным днём,\n",
    "# затем из результата отфильтрует строки с нужным городом,\n",
    "# методом count() посчитает количество значений в колонке user_id. \n",
    "# Это количество функция вернёт в качестве результата"
   ]
  },
  {
   "cell_type": "code",
   "execution_count": 21,
   "metadata": {
    "id": "rJcRATNQ_Zcu"
   },
   "outputs": [
    {
     "data": {
      "text/plain": [
       "15740"
      ]
     },
     "execution_count": 21,
     "metadata": {},
     "output_type": "execute_result"
    }
   ],
   "source": [
    "number_tracks('Monday', 'Moscow') # количество прослушиваний в Москве по понедельникам"
   ]
  },
  {
   "cell_type": "code",
   "execution_count": 22,
   "metadata": {
    "id": "hq_ncZ5T_Zcu"
   },
   "outputs": [
    {
     "data": {
      "text/plain": [
       "5614"
      ]
     },
     "execution_count": 22,
     "metadata": {},
     "output_type": "execute_result"
    }
   ],
   "source": [
    "number_tracks('Monday', 'Saint-Petersburg') # количество прослушиваний в Санкт-Петербурге по понедельникам"
   ]
  },
  {
   "cell_type": "code",
   "execution_count": 23,
   "metadata": {
    "id": "_NTy2VPU_Zcu"
   },
   "outputs": [
    {
     "data": {
      "text/plain": [
       "11056"
      ]
     },
     "execution_count": 23,
     "metadata": {},
     "output_type": "execute_result"
    }
   ],
   "source": [
    "number_tracks('Wednesday', 'Moscow') # количество прослушиваний в Москве по средам"
   ]
  },
  {
   "cell_type": "code",
   "execution_count": 24,
   "metadata": {
    "id": "j2y3TAwo_Zcu"
   },
   "outputs": [
    {
     "data": {
      "text/plain": [
       "7003"
      ]
     },
     "execution_count": 24,
     "metadata": {},
     "output_type": "execute_result"
    }
   ],
   "source": [
    "number_tracks('Wednesday', 'Saint-Petersburg') # количество прослушиваний в Санкт-Петербурге по средам"
   ]
  },
  {
   "cell_type": "code",
   "execution_count": 25,
   "metadata": {
    "id": "vYDw5u_K_Zcu"
   },
   "outputs": [
    {
     "data": {
      "text/plain": [
       "15945"
      ]
     },
     "execution_count": 25,
     "metadata": {},
     "output_type": "execute_result"
    }
   ],
   "source": [
    "number_tracks('Friday', 'Moscow') # количество прослушиваний в Москве по пятницам"
   ]
  },
  {
   "cell_type": "code",
   "execution_count": 26,
   "metadata": {
    "id": "8_yzFtW3_Zcu"
   },
   "outputs": [
    {
     "data": {
      "text/plain": [
       "5895"
      ]
     },
     "execution_count": 26,
     "metadata": {},
     "output_type": "execute_result"
    }
   ],
   "source": [
    "number_tracks('Friday', 'Saint-Petersburg') # количество прослушиваний в Санкт-Петербурге по пятницам"
   ]
  },
  {
   "cell_type": "code",
   "execution_count": 27,
   "metadata": {
    "id": "APAcLpOr_Zcu"
   },
   "outputs": [
    {
     "data": {
      "text/html": [
       "<div>\n",
       "<style scoped>\n",
       "    .dataframe tbody tr th:only-of-type {\n",
       "        vertical-align: middle;\n",
       "    }\n",
       "\n",
       "    .dataframe tbody tr th {\n",
       "        vertical-align: top;\n",
       "    }\n",
       "\n",
       "    .dataframe thead th {\n",
       "        text-align: right;\n",
       "    }\n",
       "</style>\n",
       "<table border=\"1\" class=\"dataframe\">\n",
       "  <thead>\n",
       "    <tr style=\"text-align: right;\">\n",
       "      <th></th>\n",
       "      <th>city</th>\n",
       "      <th>monday</th>\n",
       "      <th>wednesday</th>\n",
       "      <th>friday</th>\n",
       "    </tr>\n",
       "  </thead>\n",
       "  <tbody>\n",
       "    <tr>\n",
       "      <td>0</td>\n",
       "      <td>Moscow</td>\n",
       "      <td>15740</td>\n",
       "      <td>11056</td>\n",
       "      <td>15945</td>\n",
       "    </tr>\n",
       "    <tr>\n",
       "      <td>1</td>\n",
       "      <td>Saint-Petersburg</td>\n",
       "      <td>5614</td>\n",
       "      <td>7003</td>\n",
       "      <td>5895</td>\n",
       "    </tr>\n",
       "  </tbody>\n",
       "</table>\n",
       "</div>"
      ],
      "text/plain": [
       "               city  monday  wednesday  friday\n",
       "0            Moscow   15740      11056   15945\n",
       "1  Saint-Petersburg    5614       7003    5895"
      ]
     },
     "metadata": {},
     "output_type": "display_data"
    }
   ],
   "source": [
    "columns_research_table = ['city', 'monday', 'wednesday', 'friday'] # Таблица с результатами\n",
    "data_research_table = [['Moscow', 15740, 11056, 15945], ['Saint-Petersburg', 5614, 7003, 5895]]\n",
    "research_table = pd.DataFrame(data = data_research_table, columns = columns_research_table) \n",
    "display(research_table)"
   ]
  },
  {
   "cell_type": "markdown",
   "metadata": {
    "id": "-EgPIHYu_Zcu"
   },
   "source": [
    "**Выводы**\n",
    "\n",
    "Данные показывают разницу поведения пользователей:\n",
    "\n",
    "- В Москве пик прослушиваний приходится на понедельник и пятницу, а в среду заметен спад.\n",
    "- В Петербурге, наоборот, больше слушают музыку по средам. Активность в понедельник и пятницу здесь почти в равной мере уступает среде.\n",
    "\n",
    "Значит, данные говорят в пользу первой гипотезы."
   ]
  },
  {
   "cell_type": "markdown",
   "metadata": {},
   "source": [
    "### Музыка в начале и в конце недели"
   ]
  },
  {
   "cell_type": "markdown",
   "metadata": {
    "id": "eXrQqXFH_Zcu"
   },
   "source": [
    "Согласно второй гипотезе, утром в понедельник в Москве преобладают одни жанры, а в Петербурге — другие. Так же и вечером пятницы преобладают разные жанры — в зависимости от города."
   ]
  },
  {
   "cell_type": "code",
   "execution_count": 28,
   "metadata": {
    "id": "qeaFfM_P_Zcu"
   },
   "outputs": [],
   "source": [
    "moscow_general = df[df['city'] == 'Moscow'] # получение таблицы moscow_general из тех строк таблицы df, \n",
    "# для которых значение в столбце 'city' равно 'Moscow'"
   ]
  },
  {
   "cell_type": "code",
   "execution_count": 29,
   "metadata": {
    "id": "ORaVRKto_Zcu"
   },
   "outputs": [],
   "source": [
    "spb_general = df[df['city'] == 'Saint-Petersburg'] # получение таблицы spb_general из тех строк таблицы df,\n",
    "# для которых значение в столбце 'city' равно 'Saint-Petersburg'"
   ]
  },
  {
   "cell_type": "code",
   "execution_count": 30,
   "metadata": {
    "id": "laJT9BYl_Zcu"
   },
   "outputs": [],
   "source": [
    "def genre_weekday(table, day, time1, time2): # Объявление функции genre_weekday() с параметрами table, day, time1, time2,\n",
    "    genre_df = table[table['day'] == day] # которая возвращает информацию о самых популярных жанрах в указанный день в\n",
    "    genre_df = genre_df[(genre_df['time'] > time1) & (genre_df['time'] < time2)] # заданное время:\n",
    "    genre_df_count = genre_df.groupby('genre')['genre'].count() # 1) в переменную genre_df сохраняются те строки переданного датафрейма table, для\n",
    "    genre_df_sorted = genre_df_count.sort_values(ascending=False) #    которых одновременно:\n",
    "    return genre_df_sorted.head(10) #    - значение в столбце day равно значению аргумента day\n",
    "#    - значение в столбце time больше значения аргумента time1\n",
    "#    - значение в столбце time меньше значения аргумента time2\n",
    "# 2) сгруппировать датафрейм genre_df по столбцу genre, взять один из его\n",
    "#    столбцов и посчитать методом count() количество записей для каждого из\n",
    "#    присутствующих жанров, получившийся Series записать в переменную\n",
    "#    genre_df_count\n",
    "# 3) отсортировать genre_df_count по убыванию встречаемости и сохранить\n",
    "#    в переменную genre_df_sorted\n",
    "# 4) вернуть Series из 10 первых значений genre_df_sorted, это будут топ-10\n",
    "#    популярных жанров (в указанный день, в заданное время)"
   ]
  },
  {
   "cell_type": "code",
   "execution_count": 31,
   "metadata": {
    "id": "yz7itPUQ_Zcu"
   },
   "outputs": [
    {
     "data": {
      "text/plain": [
       "genre\n",
       "pop            781\n",
       "dance          549\n",
       "electronic     480\n",
       "rock           474\n",
       "hiphop         286\n",
       "ruspop         186\n",
       "world          181\n",
       "rusrap         175\n",
       "alternative    164\n",
       "unknown        161\n",
       "Name: genre, dtype: int64"
      ]
     },
     "execution_count": 31,
     "metadata": {},
     "output_type": "execute_result"
    }
   ],
   "source": [
    "genre_weekday(moscow_general, 'Monday', '07:00', '11:00') # вызов функции для утра понедельника в Москве (вместо df — таблица moscow_general)\n",
    "# объекты, хранящие время, являются строками и сравниваются как строки\n",
    "# пример вызова: genre_weekday(moscow_general, 'Monday', '07:00', '11:00')"
   ]
  },
  {
   "cell_type": "code",
   "execution_count": 32,
   "metadata": {
    "id": "kwUcHPdy_Zcu"
   },
   "outputs": [
    {
     "data": {
      "text/plain": [
       "genre\n",
       "pop            218\n",
       "dance          182\n",
       "rock           162\n",
       "electronic     147\n",
       "hiphop          80\n",
       "ruspop          64\n",
       "alternative     58\n",
       "rusrap          55\n",
       "jazz            44\n",
       "classical       40\n",
       "Name: genre, dtype: int64"
      ]
     },
     "execution_count": 32,
     "metadata": {},
     "output_type": "execute_result"
    }
   ],
   "source": [
    "genre_weekday(spb_general, 'Monday', '07:00', '11:00') # вызов функции для утра понедельника в Петербурге (вместо df — таблица spb_general)"
   ]
  },
  {
   "cell_type": "code",
   "execution_count": 33,
   "metadata": {
    "id": "EzXVRE1o_Zcu"
   },
   "outputs": [
    {
     "data": {
      "text/plain": [
       "genre\n",
       "pop            713\n",
       "rock           517\n",
       "dance          495\n",
       "electronic     482\n",
       "hiphop         273\n",
       "world          208\n",
       "ruspop         170\n",
       "alternative    163\n",
       "classical      163\n",
       "rusrap         142\n",
       "Name: genre, dtype: int64"
      ]
     },
     "execution_count": 33,
     "metadata": {},
     "output_type": "execute_result"
    }
   ],
   "source": [
    "genre_weekday(moscow_general, 'Friday', '17:00', '23:00') # вызов функции для вечера пятницы в Москве"
   ]
  },
  {
   "cell_type": "code",
   "execution_count": 34,
   "metadata": {
    "id": "JZaEKu5v_Zcu"
   },
   "outputs": [
    {
     "data": {
      "text/plain": [
       "genre\n",
       "pop            256\n",
       "rock           216\n",
       "electronic     216\n",
       "dance          210\n",
       "hiphop          97\n",
       "alternative     63\n",
       "jazz            61\n",
       "classical       60\n",
       "rusrap          59\n",
       "world           54\n",
       "Name: genre, dtype: int64"
      ]
     },
     "execution_count": 34,
     "metadata": {},
     "output_type": "execute_result"
    }
   ],
   "source": [
    "genre_weekday(spb_general, 'Friday', '17:00', '23:00') # вызов функции для вечера пятницы в Петербурге"
   ]
  },
  {
   "cell_type": "markdown",
   "metadata": {
    "id": "wrCe4MNX_Zcu"
   },
   "source": [
    "**Выводы**\n",
    "\n",
    "Если сравнить топ-10 жанров в понедельник утром, можно сделать такие выводы:\n",
    "\n",
    "1. В Москве и Петербурге слушают похожую музыку. Единственное отличие — в московский рейтинг вошёл жанр “world”, а в петербургский — джаз и классика.\n",
    "\n",
    "2. В Москве пропущенных значений оказалось так много, что значение `'unknown'` заняло десятое место среди самых популярных жанров. Значит, пропущенные значения занимают существенную долю в данных и угрожают достоверности исследования.\n",
    "\n",
    "Вечер пятницы не меняет эту картину. Некоторые жанры поднимаются немного выше, другие спускаются, но в целом топ-10 остаётся тем же самым.\n",
    "\n",
    "Таким образом, вторая гипотеза подтвердилась лишь частично:\n",
    "* Пользователи слушают похожую музыку в начале недели и в конце.\n",
    "* Разница между Москвой и Петербургом не слишком выражена. В Москве чаще слушают русскую популярную музыку, в Петербурге — джаз.\n",
    "\n",
    "Однако пропуски в данных ставят под сомнение этот результат. В Москве их так много, что рейтинг топ-10 мог бы выглядеть иначе, если бы не утерянные  данные о жанрах."
   ]
  },
  {
   "cell_type": "markdown",
   "metadata": {
    "id": "JolODAqr_Zcu"
   },
   "source": [
    "### Жанровые предпочтения в Москве и Петербурге\n",
    "\n",
    "Гипотеза: Петербург — столица рэпа, музыку этого жанра там слушают чаще, чем в Москве.  А Москва — город контрастов, в котором, тем не менее, преобладает поп-музыка."
   ]
  },
  {
   "cell_type": "code",
   "execution_count": 35,
   "metadata": {
    "id": "r19lIPke_Zcu"
   },
   "outputs": [],
   "source": [
    "moscow_genres = moscow_general.groupby('genre')['genre'].count().sort_values(ascending=False) # одной строкой: группировка таблицы moscow_general по столбцу 'genre', \n",
    "# подсчёт числа значений 'genre' в этой группировке методом count(), \n",
    "# сортировка получившегося Series в порядке убывания и сохранение в moscow_genres"
   ]
  },
  {
   "cell_type": "code",
   "execution_count": 36,
   "metadata": {
    "id": "WhCSooF8_Zcv"
   },
   "outputs": [
    {
     "data": {
      "text/plain": [
       "genre\n",
       "pop            5892\n",
       "dance          4435\n",
       "rock           3965\n",
       "electronic     3786\n",
       "hiphop         2096\n",
       "classical      1616\n",
       "world          1432\n",
       "alternative    1379\n",
       "ruspop         1372\n",
       "rusrap         1161\n",
       "Name: genre, dtype: int64"
      ]
     },
     "execution_count": 36,
     "metadata": {},
     "output_type": "execute_result"
    }
   ],
   "source": [
    "moscow_genres.head(10) # просмотр первых 10 строк moscow_genres"
   ]
  },
  {
   "cell_type": "code",
   "execution_count": 37,
   "metadata": {
    "id": "gluLIpE7_Zcv"
   },
   "outputs": [],
   "source": [
    "spb_genres = spb_general.groupby('genre')['genre'].count().sort_values(ascending=False) # одной строкой: группировка таблицы spb_general по столбцу 'genre', \n",
    "# подсчёт числа значений 'genre' в этой группировке методом count(), \n",
    "# сортировка получившегося Series в порядке убывания и сохранение в spb_genres"
   ]
  },
  {
   "cell_type": "code",
   "execution_count": 38,
   "metadata": {
    "id": "uaGJHjVU_Zcv"
   },
   "outputs": [
    {
     "data": {
      "text/plain": [
       "genre\n",
       "pop            2431\n",
       "dance          1932\n",
       "rock           1879\n",
       "electronic     1736\n",
       "hiphop          960\n",
       "alternative     649\n",
       "classical       646\n",
       "rusrap          564\n",
       "ruspop          538\n",
       "world           515\n",
       "Name: genre, dtype: int64"
      ]
     },
     "execution_count": 38,
     "metadata": {},
     "output_type": "execute_result"
    }
   ],
   "source": [
    "spb_genres.head(10)# просмотр первых 10 строк spb_genres"
   ]
  },
  {
   "cell_type": "markdown",
   "metadata": {
    "id": "RY51YJYu_Zcv"
   },
   "source": [
    "**Выводы**"
   ]
  },
  {
   "cell_type": "markdown",
   "metadata": {
    "id": "nVhnJEm__Zcv"
   },
   "source": [
    "Гипотеза частично подтвердилась:\n",
    "* Поп-музыка — самый популярный жанр в Москве, как и предполагала гипотеза. Более того, в топ-10 жанров встречается близкий жанр — русская популярная музыка.\n",
    "* Вопреки ожиданиям, рэп одинаково популярен в Москве и Петербурге. \n"
   ]
  },
  {
   "cell_type": "markdown",
   "metadata": {
    "id": "ykKQ0N65_Zcv"
   },
   "source": [
    "## 4. Итоги исследования "
   ]
  },
  {
   "cell_type": "markdown",
   "metadata": {
    "id": "tjUwbHb3_Zcv"
   },
   "source": [
    "Гипотезы:\n",
    "\n",
    "1. День недели по-разному влияет на активность пользователей в Москве и Петербурге. \n",
    "\n",
    "Первая гипотеза полностью подтвердилась.\n",
    "\n",
    "2. Музыкальные предпочтения не сильно меняются в течение недели — будь то Москва или Петербург. Небольшие различия заметны в начале недели, по понедельникам:\n",
    "* в Москве слушают музыку жанра “world”,\n",
    "* в Петербурге — джаз и классику.\n",
    "\n",
    "Таким образом, вторая гипотеза подтвердилась лишь отчасти. Этот результат мог оказаться иным, если бы не пропуски в данных.\n",
    "\n",
    "3. Во вкусах пользователей Москвы и Петербурга больше общего чем различий. Вопреки ожиданиям, предпочтения жанров в Петербурге напоминают московские.\n",
    "\n",
    "Третья гипотеза не подтвердилась. Если различия в предпочтениях и существуют, на основной массе пользователей они незаметны."
   ]
  }
 ],
 "metadata": {
  "ExecuteTimeLog": [
   {
    "duration": 824,
    "start_time": "2021-11-10T18:45:41.042Z"
   },
   {
    "duration": 466,
    "start_time": "2021-11-10T18:45:42.658Z"
   },
   {
    "duration": 317,
    "start_time": "2021-11-10T18:46:00.825Z"
   },
   {
    "duration": -841,
    "start_time": "2021-11-10T18:46:18.475Z"
   },
   {
    "duration": 2063,
    "start_time": "2021-11-10T18:46:20.120Z"
   },
   {
    "duration": 304,
    "start_time": "2021-11-10T18:46:22.320Z"
   },
   {
    "duration": 2365,
    "start_time": "2021-11-10T18:46:54.528Z"
   },
   {
    "duration": 2330,
    "start_time": "2021-11-10T18:47:37.110Z"
   },
   {
    "duration": 216,
    "start_time": "2021-11-10T18:47:49.821Z"
   },
   {
    "duration": 204,
    "start_time": "2021-11-10T18:47:55.077Z"
   },
   {
    "duration": 30,
    "start_time": "2021-11-10T18:48:01.413Z"
   },
   {
    "duration": 33,
    "start_time": "2021-11-10T18:49:09.580Z"
   },
   {
    "duration": 6,
    "start_time": "2021-11-10T19:12:32.772Z"
   },
   {
    "duration": 6,
    "start_time": "2021-11-10T19:12:42.268Z"
   },
   {
    "duration": 1194,
    "start_time": "2021-11-10T19:15:35.457Z"
   },
   {
    "duration": 5,
    "start_time": "2021-11-10T19:15:36.822Z"
   },
   {
    "duration": 4,
    "start_time": "2021-11-10T19:16:49.613Z"
   },
   {
    "duration": 6,
    "start_time": "2021-11-10T19:16:51.644Z"
   },
   {
    "duration": 6,
    "start_time": "2021-11-10T19:16:54.260Z"
   },
   {
    "duration": 37,
    "start_time": "2021-11-10T19:19:50.120Z"
   },
   {
    "duration": 32,
    "start_time": "2021-11-10T19:19:58.872Z"
   },
   {
    "duration": 7752,
    "start_time": "2021-11-10T19:35:07.396Z"
   },
   {
    "duration": -908,
    "start_time": "2021-11-10T19:35:59.117Z"
   },
   {
    "duration": 46,
    "start_time": "2021-11-10T19:36:00.731Z"
   },
   {
    "duration": 8568,
    "start_time": "2021-11-10T19:36:18.915Z"
   },
   {
    "duration": -933,
    "start_time": "2021-11-10T19:36:28.421Z"
   },
   {
    "duration": 7265,
    "start_time": "2021-11-10T19:36:43.926Z"
   },
   {
    "duration": 28,
    "start_time": "2021-11-10T19:38:53.159Z"
   },
   {
    "duration": 30,
    "start_time": "2021-11-10T19:38:58.444Z"
   },
   {
    "duration": 42,
    "start_time": "2021-11-10T19:39:00.531Z"
   },
   {
    "duration": 6841,
    "start_time": "2021-11-10T19:41:01.075Z"
   },
   {
    "duration": 6674,
    "start_time": "2021-11-10T19:41:08.232Z"
   },
   {
    "duration": 8656,
    "start_time": "2021-11-10T19:44:16.363Z"
   },
   {
    "duration": 4,
    "start_time": "2021-11-10T19:45:57.604Z"
   },
   {
    "duration": 213,
    "start_time": "2021-11-10T19:45:57.611Z"
   },
   {
    "duration": 20,
    "start_time": "2021-11-10T19:45:57.828Z"
   },
   {
    "duration": 49,
    "start_time": "2021-11-10T19:45:57.852Z"
   },
   {
    "duration": 5,
    "start_time": "2021-11-10T19:45:57.929Z"
   },
   {
    "duration": 6,
    "start_time": "2021-11-10T19:45:57.937Z"
   },
   {
    "duration": 7,
    "start_time": "2021-11-10T19:45:57.946Z"
   },
   {
    "duration": 29,
    "start_time": "2021-11-10T19:45:57.957Z"
   },
   {
    "duration": 9638,
    "start_time": "2021-11-10T19:45:57.989Z"
   },
   {
    "duration": 29,
    "start_time": "2021-11-10T19:46:24.727Z"
   },
   {
    "duration": 23,
    "start_time": "2021-11-10T19:46:31.607Z"
   },
   {
    "duration": 30,
    "start_time": "2021-11-10T19:46:33.606Z"
   },
   {
    "duration": 106,
    "start_time": "2021-11-10T19:50:06.926Z"
   },
   {
    "duration": 136,
    "start_time": "2021-11-10T19:51:58.174Z"
   },
   {
    "duration": 90,
    "start_time": "2021-11-10T19:52:19.801Z"
   },
   {
    "duration": 115,
    "start_time": "2021-11-10T19:54:01.469Z"
   },
   {
    "duration": 122,
    "start_time": "2021-11-10T19:54:08.808Z"
   },
   {
    "duration": 110,
    "start_time": "2021-11-10T20:00:23.480Z"
   },
   {
    "duration": 79,
    "start_time": "2021-11-10T20:00:26.457Z"
   },
   {
    "duration": 57,
    "start_time": "2021-11-10T20:05:27.031Z"
   },
   {
    "duration": 81,
    "start_time": "2021-11-10T20:06:06.814Z"
   },
   {
    "duration": 4,
    "start_time": "2021-11-10T20:21:33.234Z"
   },
   {
    "duration": 480,
    "start_time": "2021-11-10T20:21:37.074Z"
   },
   {
    "duration": 947,
    "start_time": "2021-11-10T20:21:48.715Z"
   },
   {
    "duration": 5,
    "start_time": "2021-11-10T20:23:41.255Z"
   },
   {
    "duration": 709,
    "start_time": "2021-11-10T20:23:43.422Z"
   },
   {
    "duration": 743,
    "start_time": "2021-11-10T20:24:01.039Z"
   },
   {
    "duration": 545,
    "start_time": "2021-11-10T20:25:46.676Z"
   },
   {
    "duration": 7262,
    "start_time": "2021-11-10T20:25:48.756Z"
   },
   {
    "duration": 3544,
    "start_time": "2021-11-10T20:25:56.021Z"
   },
   {
    "duration": 9,
    "start_time": "2021-11-10T20:26:58.146Z"
   },
   {
    "duration": 45,
    "start_time": "2021-11-10T20:34:30.092Z"
   },
   {
    "duration": 48,
    "start_time": "2021-11-10T20:35:54.346Z"
   },
   {
    "duration": 15,
    "start_time": "2021-11-10T20:36:23.764Z"
   },
   {
    "duration": 58,
    "start_time": "2021-11-10T20:36:49.872Z"
   },
   {
    "duration": 14,
    "start_time": "2021-11-10T20:37:18.723Z"
   },
   {
    "duration": 26,
    "start_time": "2021-11-10T20:38:14.170Z"
   },
   {
    "duration": 15,
    "start_time": "2021-11-10T20:38:35.036Z"
   },
   {
    "duration": 14,
    "start_time": "2021-11-10T20:40:04.702Z"
   },
   {
    "duration": 22,
    "start_time": "2021-11-10T20:40:22.117Z"
   },
   {
    "duration": 13,
    "start_time": "2021-11-10T20:40:27.079Z"
   },
   {
    "duration": 271,
    "start_time": "2021-11-10T20:48:03.910Z"
   },
   {
    "duration": 104,
    "start_time": "2021-11-10T20:48:10.214Z"
   },
   {
    "duration": 97,
    "start_time": "2021-11-10T20:48:35.713Z"
   },
   {
    "duration": 91,
    "start_time": "2021-11-10T20:49:11.696Z"
   },
   {
    "duration": 94,
    "start_time": "2021-11-10T20:49:40.511Z"
   },
   {
    "duration": 5,
    "start_time": "2021-11-10T20:50:05.118Z"
   },
   {
    "duration": 15,
    "start_time": "2021-11-10T20:50:08.525Z"
   },
   {
    "duration": 256,
    "start_time": "2021-11-10T20:50:20.078Z"
   },
   {
    "duration": 14,
    "start_time": "2021-11-10T20:50:32.837Z"
   },
   {
    "duration": 15,
    "start_time": "2021-11-10T20:51:21.564Z"
   },
   {
    "duration": 4,
    "start_time": "2021-11-10T20:51:29.292Z"
   },
   {
    "duration": 15,
    "start_time": "2021-11-10T20:51:35.971Z"
   },
   {
    "duration": 4,
    "start_time": "2021-11-10T20:52:29.027Z"
   },
   {
    "duration": 6816,
    "start_time": "2021-11-10T20:52:30.738Z"
   },
   {
    "duration": 5,
    "start_time": "2021-11-10T20:52:47.849Z"
   },
   {
    "duration": 16,
    "start_time": "2021-11-10T20:52:49.713Z"
   },
   {
    "duration": 15,
    "start_time": "2021-11-10T20:52:53.214Z"
   },
   {
    "duration": 3,
    "start_time": "2021-11-10T20:53:11.026Z"
   },
   {
    "duration": 197,
    "start_time": "2021-11-10T20:53:11.032Z"
   },
   {
    "duration": 15,
    "start_time": "2021-11-10T20:53:11.232Z"
   },
   {
    "duration": 36,
    "start_time": "2021-11-10T20:53:11.251Z"
   },
   {
    "duration": 5,
    "start_time": "2021-11-10T20:53:11.290Z"
   },
   {
    "duration": 35,
    "start_time": "2021-11-10T20:53:11.297Z"
   },
   {
    "duration": 5,
    "start_time": "2021-11-10T20:53:11.336Z"
   },
   {
    "duration": 33,
    "start_time": "2021-11-10T20:53:11.345Z"
   },
   {
    "duration": 61,
    "start_time": "2021-11-10T20:53:11.381Z"
   },
   {
    "duration": 32,
    "start_time": "2021-11-10T20:53:11.445Z"
   },
   {
    "duration": 104,
    "start_time": "2021-11-10T20:53:11.479Z"
   },
   {
    "duration": 106,
    "start_time": "2021-11-10T20:53:11.586Z"
   },
   {
    "duration": 84,
    "start_time": "2021-11-10T20:53:11.694Z"
   },
   {
    "duration": 67,
    "start_time": "2021-11-10T20:53:11.781Z"
   },
   {
    "duration": 4,
    "start_time": "2021-11-10T20:53:11.850Z"
   },
   {
    "duration": 14,
    "start_time": "2021-11-10T20:53:11.857Z"
   },
   {
    "duration": 12,
    "start_time": "2021-11-10T20:53:11.873Z"
   },
   {
    "duration": 43,
    "start_time": "2021-11-10T20:53:11.887Z"
   },
   {
    "duration": 13,
    "start_time": "2021-11-10T20:53:11.934Z"
   },
   {
    "duration": 5,
    "start_time": "2021-11-10T20:53:11.949Z"
   },
   {
    "duration": 737,
    "start_time": "2021-11-10T20:54:03.878Z"
   },
   {
    "duration": 186,
    "start_time": "2021-11-10T20:54:04.617Z"
   },
   {
    "duration": 32,
    "start_time": "2021-11-10T20:54:04.807Z"
   },
   {
    "duration": 36,
    "start_time": "2021-11-10T20:54:04.842Z"
   },
   {
    "duration": 4,
    "start_time": "2021-11-10T20:54:04.881Z"
   },
   {
    "duration": 41,
    "start_time": "2021-11-10T20:54:04.888Z"
   },
   {
    "duration": 10,
    "start_time": "2021-11-10T20:54:04.932Z"
   },
   {
    "duration": 31,
    "start_time": "2021-11-10T20:54:04.945Z"
   },
   {
    "duration": 53,
    "start_time": "2021-11-10T20:54:04.980Z"
   },
   {
    "duration": 32,
    "start_time": "2021-11-10T20:54:05.035Z"
   },
   {
    "duration": 108,
    "start_time": "2021-11-10T20:54:05.070Z"
   },
   {
    "duration": 111,
    "start_time": "2021-11-10T20:54:05.181Z"
   },
   {
    "duration": 83,
    "start_time": "2021-11-10T20:54:05.295Z"
   },
   {
    "duration": 66,
    "start_time": "2021-11-10T20:54:05.380Z"
   },
   {
    "duration": 5,
    "start_time": "2021-11-10T20:54:05.448Z"
   },
   {
    "duration": 12,
    "start_time": "2021-11-10T20:54:05.455Z"
   },
   {
    "duration": 12,
    "start_time": "2021-11-10T20:54:05.470Z"
   },
   {
    "duration": 47,
    "start_time": "2021-11-10T20:54:05.484Z"
   },
   {
    "duration": 14,
    "start_time": "2021-11-10T20:54:05.533Z"
   },
   {
    "duration": 5,
    "start_time": "2021-11-10T20:54:05.549Z"
   },
   {
    "duration": 23,
    "start_time": "2021-11-10T20:54:05.556Z"
   },
   {
    "duration": 48,
    "start_time": "2021-11-10T20:54:05.581Z"
   },
   {
    "duration": 4,
    "start_time": "2021-11-10T20:54:05.634Z"
   },
   {
    "duration": 10,
    "start_time": "2021-11-10T20:54:05.641Z"
   },
   {
    "duration": 6,
    "start_time": "2021-11-10T20:54:05.653Z"
   },
   {
    "duration": 5,
    "start_time": "2021-11-10T20:54:05.661Z"
   },
   {
    "duration": 10,
    "start_time": "2021-11-10T20:54:05.668Z"
   },
   {
    "duration": 6,
    "start_time": "2021-11-10T20:54:05.680Z"
   },
   {
    "duration": 41,
    "start_time": "2021-11-10T20:54:05.688Z"
   },
   {
    "duration": 4,
    "start_time": "2021-11-10T20:54:05.731Z"
   },
   {
    "duration": 14,
    "start_time": "2021-11-10T20:54:05.737Z"
   },
   {
    "duration": 5,
    "start_time": "2021-11-10T20:54:05.753Z"
   },
   {
    "duration": 14,
    "start_time": "2021-11-10T20:54:05.760Z"
   },
   {
    "duration": 6,
    "start_time": "2021-11-10T20:54:05.776Z"
   },
   {
    "duration": 6,
    "start_time": "2021-11-10T20:54:05.785Z"
   },
   {
    "duration": 36,
    "start_time": "2021-11-10T20:54:05.793Z"
   },
   {
    "duration": 11,
    "start_time": "2021-11-10T20:54:05.831Z"
   },
   {
    "duration": 9,
    "start_time": "2021-11-10T20:54:05.845Z"
   },
   {
    "duration": 5,
    "start_time": "2021-11-10T20:55:15.816Z"
   },
   {
    "duration": 15,
    "start_time": "2021-11-10T20:55:17.606Z"
   },
   {
    "duration": 128,
    "start_time": "2021-11-10T21:00:04.792Z"
   },
   {
    "duration": 6,
    "start_time": "2021-11-10T21:00:13.199Z"
   },
   {
    "duration": 23,
    "start_time": "2021-11-10T21:00:19.934Z"
   },
   {
    "duration": 17,
    "start_time": "2021-11-10T21:00:48.238Z"
   },
   {
    "duration": 5,
    "start_time": "2021-11-10T21:01:18.741Z"
   },
   {
    "duration": 16,
    "start_time": "2021-11-10T21:01:20.244Z"
   },
   {
    "duration": 4,
    "start_time": "2021-11-10T21:02:46.147Z"
   },
   {
    "duration": 14,
    "start_time": "2021-11-10T21:02:47.537Z"
   },
   {
    "duration": 5,
    "start_time": "2021-11-10T21:03:53.745Z"
   },
   {
    "duration": 24,
    "start_time": "2021-11-10T21:03:55.343Z"
   },
   {
    "duration": 21,
    "start_time": "2021-11-10T21:03:56.656Z"
   },
   {
    "duration": 19,
    "start_time": "2021-11-10T21:04:28.199Z"
   },
   {
    "duration": 22,
    "start_time": "2021-11-10T21:04:29.823Z"
   },
   {
    "duration": 23,
    "start_time": "2021-11-10T21:05:05.166Z"
   },
   {
    "duration": 18,
    "start_time": "2021-11-10T21:05:06.173Z"
   },
   {
    "duration": 13,
    "start_time": "2021-11-10T21:10:44.412Z"
   },
   {
    "duration": 17,
    "start_time": "2021-11-10T21:14:12.983Z"
   },
   {
    "duration": 14,
    "start_time": "2021-11-10T21:14:13.583Z"
   },
   {
    "duration": 6,
    "start_time": "2021-11-10T21:23:16.632Z"
   },
   {
    "duration": 52,
    "start_time": "2021-11-10T21:24:25.006Z"
   },
   {
    "duration": 47,
    "start_time": "2021-11-10T21:24:49.196Z"
   },
   {
    "duration": 50,
    "start_time": "2021-11-10T21:25:07.452Z"
   },
   {
    "duration": 47,
    "start_time": "2021-11-10T21:25:09.300Z"
   },
   {
    "duration": 51,
    "start_time": "2021-11-10T21:25:36.612Z"
   },
   {
    "duration": 52,
    "start_time": "2021-11-10T21:26:51.522Z"
   },
   {
    "duration": 52,
    "start_time": "2021-11-10T21:27:08.017Z"
   },
   {
    "duration": 772,
    "start_time": "2021-11-10T21:28:38.994Z"
   },
   {
    "duration": 184,
    "start_time": "2021-11-10T21:28:39.769Z"
   },
   {
    "duration": 25,
    "start_time": "2021-11-10T21:28:39.956Z"
   },
   {
    "duration": 53,
    "start_time": "2021-11-10T21:28:39.983Z"
   },
   {
    "duration": 5,
    "start_time": "2021-11-10T21:28:40.038Z"
   },
   {
    "duration": 7,
    "start_time": "2021-11-10T21:28:40.045Z"
   },
   {
    "duration": 11,
    "start_time": "2021-11-10T21:28:40.054Z"
   },
   {
    "duration": 62,
    "start_time": "2021-11-10T21:28:40.069Z"
   },
   {
    "duration": 27,
    "start_time": "2021-11-10T21:28:40.134Z"
   },
   {
    "duration": 30,
    "start_time": "2021-11-10T21:28:40.163Z"
   },
   {
    "duration": 112,
    "start_time": "2021-11-10T21:28:40.196Z"
   },
   {
    "duration": 117,
    "start_time": "2021-11-10T21:28:40.311Z"
   },
   {
    "duration": 78,
    "start_time": "2021-11-10T21:28:40.431Z"
   },
   {
    "duration": 65,
    "start_time": "2021-11-10T21:28:40.511Z"
   },
   {
    "duration": 23,
    "start_time": "2021-11-10T21:28:40.578Z"
   },
   {
    "duration": 31,
    "start_time": "2021-11-10T21:28:40.604Z"
   },
   {
    "duration": 33,
    "start_time": "2021-11-10T21:28:40.638Z"
   },
   {
    "duration": 56,
    "start_time": "2021-11-10T21:28:40.673Z"
   },
   {
    "duration": 26,
    "start_time": "2021-11-10T21:28:40.731Z"
   },
   {
    "duration": 17,
    "start_time": "2021-11-10T21:28:40.760Z"
   },
   {
    "duration": 35,
    "start_time": "2021-11-10T21:28:40.779Z"
   },
   {
    "duration": 25,
    "start_time": "2021-11-10T21:28:40.817Z"
   },
   {
    "duration": 36,
    "start_time": "2021-11-10T21:28:40.849Z"
   },
   {
    "duration": 36,
    "start_time": "2021-11-10T21:28:40.888Z"
   },
   {
    "duration": 22,
    "start_time": "2021-11-10T21:28:40.927Z"
   },
   {
    "duration": 37,
    "start_time": "2021-11-10T21:28:40.952Z"
   },
   {
    "duration": 16,
    "start_time": "2021-11-10T21:28:40.992Z"
   },
   {
    "duration": 27,
    "start_time": "2021-11-10T21:28:41.011Z"
   },
   {
    "duration": 26,
    "start_time": "2021-11-10T21:28:41.040Z"
   },
   {
    "duration": 18,
    "start_time": "2021-11-10T21:28:41.068Z"
   },
   {
    "duration": 65,
    "start_time": "2021-11-10T21:28:41.088Z"
   },
   {
    "duration": 44,
    "start_time": "2021-11-10T21:28:41.155Z"
   },
   {
    "duration": 67,
    "start_time": "2021-11-10T21:28:41.202Z"
   },
   {
    "duration": 68,
    "start_time": "2021-11-10T21:28:41.271Z"
   },
   {
    "duration": 3,
    "start_time": "2021-11-10T21:28:41.341Z"
   },
   {
    "duration": 19,
    "start_time": "2021-11-10T21:28:41.346Z"
   },
   {
    "duration": 21,
    "start_time": "2021-11-10T21:28:41.368Z"
   },
   {
    "duration": 22,
    "start_time": "2021-11-10T21:28:41.391Z"
   },
   {
    "duration": 13,
    "start_time": "2021-11-10T21:29:00.622Z"
   },
   {
    "duration": 8,
    "start_time": "2021-11-10T21:29:07.326Z"
   },
   {
    "duration": 45,
    "start_time": "2021-11-10T21:29:08.877Z"
   },
   {
    "duration": 47,
    "start_time": "2021-11-10T21:29:11.477Z"
   },
   {
    "duration": 6,
    "start_time": "2021-11-10T21:31:33.573Z"
   },
   {
    "duration": 39,
    "start_time": "2021-11-10T21:31:37.636Z"
   },
   {
    "duration": 23,
    "start_time": "2021-11-10T21:31:42.797Z"
   },
   {
    "duration": 41,
    "start_time": "2021-11-10T21:31:44.532Z"
   },
   {
    "duration": 25,
    "start_time": "2021-11-10T21:31:45.916Z"
   },
   {
    "duration": 15,
    "start_time": "2021-11-10T21:40:11.679Z"
   },
   {
    "duration": 8,
    "start_time": "2021-11-10T21:40:13.550Z"
   },
   {
    "duration": 8,
    "start_time": "2021-11-10T21:41:05.214Z"
   },
   {
    "duration": 7,
    "start_time": "2021-11-10T21:41:06.252Z"
   },
   {
    "duration": 931,
    "start_time": "2021-11-10T21:43:17.155Z"
   },
   {
    "duration": 204,
    "start_time": "2021-11-10T21:43:18.090Z"
   },
   {
    "duration": 39,
    "start_time": "2021-11-10T21:43:18.298Z"
   },
   {
    "duration": 39,
    "start_time": "2021-11-10T21:43:18.341Z"
   },
   {
    "duration": 11,
    "start_time": "2021-11-10T21:43:18.383Z"
   },
   {
    "duration": 34,
    "start_time": "2021-11-10T21:43:18.397Z"
   },
   {
    "duration": 8,
    "start_time": "2021-11-10T21:43:18.434Z"
   },
   {
    "duration": 32,
    "start_time": "2021-11-10T21:43:18.446Z"
   },
   {
    "duration": 57,
    "start_time": "2021-11-10T21:43:18.482Z"
   },
   {
    "duration": 34,
    "start_time": "2021-11-10T21:43:18.541Z"
   },
   {
    "duration": 114,
    "start_time": "2021-11-10T21:43:18.578Z"
   },
   {
    "duration": 124,
    "start_time": "2021-11-10T21:43:18.695Z"
   },
   {
    "duration": 85,
    "start_time": "2021-11-10T21:43:18.821Z"
   },
   {
    "duration": 71,
    "start_time": "2021-11-10T21:43:18.910Z"
   },
   {
    "duration": 5,
    "start_time": "2021-11-10T21:43:18.985Z"
   },
   {
    "duration": 43,
    "start_time": "2021-11-10T21:43:18.993Z"
   },
   {
    "duration": 12,
    "start_time": "2021-11-10T21:43:19.039Z"
   },
   {
    "duration": 18,
    "start_time": "2021-11-10T21:43:19.054Z"
   },
   {
    "duration": 58,
    "start_time": "2021-11-10T21:43:19.075Z"
   },
   {
    "duration": 6,
    "start_time": "2021-11-10T21:43:19.136Z"
   },
   {
    "duration": 29,
    "start_time": "2021-11-10T21:43:19.144Z"
   },
   {
    "duration": 58,
    "start_time": "2021-11-10T21:43:19.176Z"
   },
   {
    "duration": 22,
    "start_time": "2021-11-10T21:43:19.241Z"
   },
   {
    "duration": 21,
    "start_time": "2021-11-10T21:43:19.267Z"
   },
   {
    "duration": 55,
    "start_time": "2021-11-10T21:43:19.291Z"
   },
   {
    "duration": 21,
    "start_time": "2021-11-10T21:43:19.348Z"
   },
   {
    "duration": 13,
    "start_time": "2021-11-10T21:43:19.371Z"
   },
   {
    "duration": 58,
    "start_time": "2021-11-10T21:43:19.387Z"
   },
   {
    "duration": 14,
    "start_time": "2021-11-10T21:43:19.448Z"
   },
   {
    "duration": 7,
    "start_time": "2021-11-10T21:43:19.465Z"
   },
   {
    "duration": 84,
    "start_time": "2021-11-10T21:43:19.475Z"
   },
   {
    "duration": 24,
    "start_time": "2021-11-10T21:43:19.562Z"
   },
   {
    "duration": 70,
    "start_time": "2021-11-10T21:43:19.589Z"
   },
   {
    "duration": 27,
    "start_time": "2021-11-10T21:43:19.661Z"
   },
   {
    "duration": 11,
    "start_time": "2021-11-10T21:43:19.691Z"
   },
   {
    "duration": 7,
    "start_time": "2021-11-10T21:43:19.730Z"
   },
   {
    "duration": 8,
    "start_time": "2021-11-10T21:43:19.740Z"
   },
   {
    "duration": 8,
    "start_time": "2021-11-10T21:43:19.756Z"
   },
   {
    "duration": 1469,
    "start_time": "2021-11-10T21:44:17.552Z"
   },
   {
    "duration": 215,
    "start_time": "2021-11-10T21:44:19.023Z"
   },
   {
    "duration": 36,
    "start_time": "2021-11-10T21:44:19.242Z"
   },
   {
    "duration": 72,
    "start_time": "2021-11-10T21:44:19.281Z"
   },
   {
    "duration": 5,
    "start_time": "2021-11-10T21:44:19.355Z"
   },
   {
    "duration": 7,
    "start_time": "2021-11-10T21:44:19.363Z"
   },
   {
    "duration": 15,
    "start_time": "2021-11-10T21:44:19.373Z"
   },
   {
    "duration": 82,
    "start_time": "2021-11-10T21:44:19.395Z"
   },
   {
    "duration": 29,
    "start_time": "2021-11-10T21:44:19.481Z"
   },
   {
    "duration": 52,
    "start_time": "2021-11-10T21:44:19.513Z"
   },
   {
    "duration": 137,
    "start_time": "2021-11-10T21:44:19.567Z"
   },
   {
    "duration": 128,
    "start_time": "2021-11-10T21:44:19.707Z"
   },
   {
    "duration": 123,
    "start_time": "2021-11-10T21:44:19.839Z"
   },
   {
    "duration": 67,
    "start_time": "2021-11-10T21:44:19.965Z"
   },
   {
    "duration": 7,
    "start_time": "2021-11-10T21:44:20.036Z"
   },
   {
    "duration": 15,
    "start_time": "2021-11-10T21:44:20.047Z"
   },
   {
    "duration": 19,
    "start_time": "2021-11-10T21:44:20.065Z"
   },
   {
    "duration": 55,
    "start_time": "2021-11-10T21:44:20.087Z"
   },
   {
    "duration": 12,
    "start_time": "2021-11-10T21:44:20.145Z"
   },
   {
    "duration": 5,
    "start_time": "2021-11-10T21:44:20.160Z"
   },
   {
    "duration": 26,
    "start_time": "2021-11-10T21:44:20.167Z"
   },
   {
    "duration": 59,
    "start_time": "2021-11-10T21:44:20.195Z"
   },
   {
    "duration": 20,
    "start_time": "2021-11-10T21:44:20.259Z"
   },
   {
    "duration": 56,
    "start_time": "2021-11-10T21:44:20.282Z"
   },
   {
    "duration": 25,
    "start_time": "2021-11-10T21:44:20.341Z"
   },
   {
    "duration": 21,
    "start_time": "2021-11-10T21:44:20.369Z"
   },
   {
    "duration": 52,
    "start_time": "2021-11-10T21:44:20.393Z"
   },
   {
    "duration": 19,
    "start_time": "2021-11-10T21:44:20.447Z"
   },
   {
    "duration": 12,
    "start_time": "2021-11-10T21:44:20.469Z"
   },
   {
    "duration": 6,
    "start_time": "2021-11-10T21:44:20.484Z"
   },
   {
    "duration": 94,
    "start_time": "2021-11-10T21:44:20.493Z"
   },
   {
    "duration": 22,
    "start_time": "2021-11-10T21:44:20.589Z"
   },
   {
    "duration": 55,
    "start_time": "2021-11-10T21:44:20.629Z"
   },
   {
    "duration": 52,
    "start_time": "2021-11-10T21:44:20.687Z"
   },
   {
    "duration": 18,
    "start_time": "2021-11-10T21:44:20.743Z"
   },
   {
    "duration": 8,
    "start_time": "2021-11-10T21:44:20.764Z"
   },
   {
    "duration": 15,
    "start_time": "2021-11-10T21:44:20.774Z"
   },
   {
    "duration": 42,
    "start_time": "2021-11-10T21:44:20.792Z"
   },
   {
    "duration": 599,
    "start_time": "2021-11-10T22:32:04.045Z"
   },
   {
    "duration": 139,
    "start_time": "2021-11-10T22:32:04.646Z"
   },
   {
    "duration": 17,
    "start_time": "2021-11-10T22:32:04.787Z"
   },
   {
    "duration": 25,
    "start_time": "2021-11-10T22:32:04.806Z"
   },
   {
    "duration": 14,
    "start_time": "2021-11-10T22:32:04.832Z"
   },
   {
    "duration": 4,
    "start_time": "2021-11-10T22:32:04.848Z"
   },
   {
    "duration": 6,
    "start_time": "2021-11-10T22:32:04.853Z"
   },
   {
    "duration": 43,
    "start_time": "2021-11-10T22:32:04.861Z"
   },
   {
    "duration": 23,
    "start_time": "2021-11-10T22:32:04.906Z"
   },
   {
    "duration": 27,
    "start_time": "2021-11-10T22:32:04.931Z"
   },
   {
    "duration": 60,
    "start_time": "2021-11-10T22:32:04.961Z"
   },
   {
    "duration": 81,
    "start_time": "2021-11-10T22:32:05.022Z"
   },
   {
    "duration": 58,
    "start_time": "2021-11-10T22:32:05.104Z"
   },
   {
    "duration": 37,
    "start_time": "2021-11-10T22:32:05.163Z"
   },
   {
    "duration": 3,
    "start_time": "2021-11-10T22:32:05.201Z"
   },
   {
    "duration": 9,
    "start_time": "2021-11-10T22:32:05.205Z"
   },
   {
    "duration": 8,
    "start_time": "2021-11-10T22:32:05.216Z"
   },
   {
    "duration": 26,
    "start_time": "2021-11-10T22:32:05.226Z"
   },
   {
    "duration": 13,
    "start_time": "2021-11-10T22:32:05.254Z"
   },
   {
    "duration": 3,
    "start_time": "2021-11-10T22:32:05.269Z"
   },
   {
    "duration": 22,
    "start_time": "2021-11-10T22:32:05.273Z"
   },
   {
    "duration": 13,
    "start_time": "2021-11-10T22:32:05.297Z"
   },
   {
    "duration": 35,
    "start_time": "2021-11-10T22:32:05.313Z"
   },
   {
    "duration": 16,
    "start_time": "2021-11-10T22:32:05.350Z"
   },
   {
    "duration": 18,
    "start_time": "2021-11-10T22:32:05.368Z"
   },
   {
    "duration": 14,
    "start_time": "2021-11-10T22:32:05.388Z"
   },
   {
    "duration": 40,
    "start_time": "2021-11-10T22:32:05.404Z"
   },
   {
    "duration": 13,
    "start_time": "2021-11-10T22:32:05.446Z"
   },
   {
    "duration": 11,
    "start_time": "2021-11-10T22:32:05.461Z"
   },
   {
    "duration": 4,
    "start_time": "2021-11-10T22:32:05.474Z"
   },
   {
    "duration": 31,
    "start_time": "2021-11-10T22:32:05.480Z"
   },
   {
    "duration": 42,
    "start_time": "2021-11-10T22:32:05.513Z"
   },
   {
    "duration": 33,
    "start_time": "2021-11-10T22:32:05.557Z"
   },
   {
    "duration": 18,
    "start_time": "2021-11-10T22:32:05.591Z"
   },
   {
    "duration": 33,
    "start_time": "2021-11-10T22:32:05.611Z"
   },
   {
    "duration": 4,
    "start_time": "2021-11-10T22:32:05.646Z"
   },
   {
    "duration": 8,
    "start_time": "2021-11-10T22:32:05.652Z"
   },
   {
    "duration": 7,
    "start_time": "2021-11-10T22:32:05.662Z"
   },
   {
    "duration": 623,
    "start_time": "2021-11-11T04:44:33.215Z"
   },
   {
    "duration": 136,
    "start_time": "2021-11-11T04:44:33.840Z"
   },
   {
    "duration": 17,
    "start_time": "2021-11-11T04:44:33.977Z"
   },
   {
    "duration": 27,
    "start_time": "2021-11-11T04:44:33.995Z"
   },
   {
    "duration": 3,
    "start_time": "2021-11-11T04:44:34.023Z"
   },
   {
    "duration": 5,
    "start_time": "2021-11-11T04:44:34.028Z"
   },
   {
    "duration": 7,
    "start_time": "2021-11-11T04:44:34.045Z"
   },
   {
    "duration": 24,
    "start_time": "2021-11-11T04:44:34.055Z"
   },
   {
    "duration": 18,
    "start_time": "2021-11-11T04:44:34.081Z"
   },
   {
    "duration": 21,
    "start_time": "2021-11-11T04:44:34.101Z"
   },
   {
    "duration": 56,
    "start_time": "2021-11-11T04:44:34.144Z"
   },
   {
    "duration": 81,
    "start_time": "2021-11-11T04:44:34.201Z"
   },
   {
    "duration": 49,
    "start_time": "2021-11-11T04:44:34.283Z"
   },
   {
    "duration": 37,
    "start_time": "2021-11-11T04:44:34.344Z"
   },
   {
    "duration": 3,
    "start_time": "2021-11-11T04:44:34.382Z"
   },
   {
    "duration": 9,
    "start_time": "2021-11-11T04:44:34.387Z"
   },
   {
    "duration": 10,
    "start_time": "2021-11-11T04:44:34.397Z"
   },
   {
    "duration": 11,
    "start_time": "2021-11-11T04:44:34.409Z"
   },
   {
    "duration": 30,
    "start_time": "2021-11-11T04:44:34.422Z"
   },
   {
    "duration": 4,
    "start_time": "2021-11-11T04:44:34.453Z"
   },
   {
    "duration": 21,
    "start_time": "2021-11-11T04:44:34.458Z"
   },
   {
    "duration": 13,
    "start_time": "2021-11-11T04:44:34.481Z"
   },
   {
    "duration": 14,
    "start_time": "2021-11-11T04:44:34.497Z"
   },
   {
    "duration": 43,
    "start_time": "2021-11-11T04:44:34.513Z"
   },
   {
    "duration": 15,
    "start_time": "2021-11-11T04:44:34.558Z"
   },
   {
    "duration": 16,
    "start_time": "2021-11-11T04:44:34.574Z"
   },
   {
    "duration": 11,
    "start_time": "2021-11-11T04:44:34.592Z"
   },
   {
    "duration": 39,
    "start_time": "2021-11-11T04:44:34.605Z"
   },
   {
    "duration": 9,
    "start_time": "2021-11-11T04:44:34.646Z"
   },
   {
    "duration": 21,
    "start_time": "2021-11-11T04:44:34.657Z"
   },
   {
    "duration": 38,
    "start_time": "2021-11-11T04:44:34.680Z"
   },
   {
    "duration": 15,
    "start_time": "2021-11-11T04:44:34.720Z"
   },
   {
    "duration": 28,
    "start_time": "2021-11-11T04:44:34.737Z"
   },
   {
    "duration": 18,
    "start_time": "2021-11-11T04:44:34.766Z"
   },
   {
    "duration": 7,
    "start_time": "2021-11-11T04:44:34.786Z"
   },
   {
    "duration": 6,
    "start_time": "2021-11-11T04:44:34.794Z"
   },
   {
    "duration": 15,
    "start_time": "2021-11-11T04:44:34.802Z"
   },
   {
    "duration": 26,
    "start_time": "2021-11-11T04:44:34.819Z"
   },
   {
    "duration": 27,
    "start_time": "2021-11-11T04:45:50.250Z"
   },
   {
    "duration": 12,
    "start_time": "2021-11-11T04:47:12.147Z"
   },
   {
    "duration": 574,
    "start_time": "2021-11-11T04:48:43.791Z"
   },
   {
    "duration": 26,
    "start_time": "2021-11-11T04:49:28.013Z"
   },
   {
    "duration": 31,
    "start_time": "2021-11-11T04:49:34.501Z"
   },
   {
    "duration": 601,
    "start_time": "2021-11-11T04:50:27.761Z"
   },
   {
    "duration": 141,
    "start_time": "2021-11-11T04:50:28.364Z"
   },
   {
    "duration": 17,
    "start_time": "2021-11-11T04:50:28.507Z"
   },
   {
    "duration": 30,
    "start_time": "2021-11-11T04:50:28.525Z"
   },
   {
    "duration": 13,
    "start_time": "2021-11-11T04:50:28.556Z"
   },
   {
    "duration": 10,
    "start_time": "2021-11-11T04:50:28.571Z"
   },
   {
    "duration": 7,
    "start_time": "2021-11-11T04:50:28.584Z"
   },
   {
    "duration": 31,
    "start_time": "2021-11-11T04:50:28.593Z"
   },
   {
    "duration": 26,
    "start_time": "2021-11-11T04:50:28.626Z"
   },
   {
    "duration": 30,
    "start_time": "2021-11-11T04:50:28.654Z"
   },
   {
    "duration": 75,
    "start_time": "2021-11-11T04:50:28.686Z"
   },
   {
    "duration": 72,
    "start_time": "2021-11-11T04:50:28.763Z"
   },
   {
    "duration": 56,
    "start_time": "2021-11-11T04:50:28.837Z"
   },
   {
    "duration": 52,
    "start_time": "2021-11-11T04:50:28.895Z"
   },
   {
    "duration": 4,
    "start_time": "2021-11-11T04:50:28.949Z"
   },
   {
    "duration": 12,
    "start_time": "2021-11-11T04:50:28.954Z"
   },
   {
    "duration": 9,
    "start_time": "2021-11-11T04:50:28.968Z"
   },
   {
    "duration": 15,
    "start_time": "2021-11-11T04:50:28.978Z"
   },
   {
    "duration": 10,
    "start_time": "2021-11-11T04:50:28.995Z"
   },
   {
    "duration": 3,
    "start_time": "2021-11-11T04:50:29.007Z"
   },
   {
    "duration": 41,
    "start_time": "2021-11-11T04:50:29.012Z"
   },
   {
    "duration": 15,
    "start_time": "2021-11-11T04:50:29.056Z"
   },
   {
    "duration": 20,
    "start_time": "2021-11-11T04:50:29.073Z"
   },
   {
    "duration": 18,
    "start_time": "2021-11-11T04:50:29.095Z"
   },
   {
    "duration": 38,
    "start_time": "2021-11-11T04:50:29.115Z"
   },
   {
    "duration": 15,
    "start_time": "2021-11-11T04:50:29.154Z"
   },
   {
    "duration": 12,
    "start_time": "2021-11-11T04:50:29.171Z"
   },
   {
    "duration": 16,
    "start_time": "2021-11-11T04:50:29.184Z"
   },
   {
    "duration": 14,
    "start_time": "2021-11-11T04:50:29.202Z"
   },
   {
    "duration": 4,
    "start_time": "2021-11-11T04:50:29.218Z"
   },
   {
    "duration": 47,
    "start_time": "2021-11-11T04:50:29.223Z"
   },
   {
    "duration": 18,
    "start_time": "2021-11-11T04:50:29.271Z"
   },
   {
    "duration": 28,
    "start_time": "2021-11-11T04:50:29.290Z"
   },
   {
    "duration": 39,
    "start_time": "2021-11-11T04:50:29.320Z"
   },
   {
    "duration": 8,
    "start_time": "2021-11-11T04:50:29.361Z"
   },
   {
    "duration": 20,
    "start_time": "2021-11-11T04:50:29.371Z"
   },
   {
    "duration": 9,
    "start_time": "2021-11-11T04:50:29.394Z"
   },
   {
    "duration": 12,
    "start_time": "2021-11-11T04:50:29.405Z"
   },
   {
    "duration": 18,
    "start_time": "2021-11-11T04:51:01.618Z"
   },
   {
    "duration": 29,
    "start_time": "2021-11-11T04:51:04.690Z"
   },
   {
    "duration": 12,
    "start_time": "2021-11-11T04:55:26.377Z"
   },
   {
    "duration": 11,
    "start_time": "2021-11-11T04:55:26.990Z"
   },
   {
    "duration": 4,
    "start_time": "2021-11-11T04:55:30.116Z"
   },
   {
    "duration": 31,
    "start_time": "2021-11-11T04:55:34.803Z"
   },
   {
    "duration": 41,
    "start_time": "2021-11-11T04:56:49.350Z"
   },
   {
    "duration": 31,
    "start_time": "2021-11-11T04:57:08.240Z"
   },
   {
    "duration": 408,
    "start_time": "2021-11-11T19:12:24.866Z"
   },
   {
    "duration": 710,
    "start_time": "2021-11-11T19:12:52.132Z"
   },
   {
    "duration": 183,
    "start_time": "2021-11-11T19:12:53.076Z"
   },
   {
    "duration": 27,
    "start_time": "2021-11-11T19:12:53.861Z"
   },
   {
    "duration": 35,
    "start_time": "2021-11-11T19:12:58.644Z"
   },
   {
    "duration": 5,
    "start_time": "2021-11-11T19:13:01.603Z"
   },
   {
    "duration": 5,
    "start_time": "2021-11-11T19:13:03.283Z"
   },
   {
    "duration": 5,
    "start_time": "2021-11-11T19:13:05.091Z"
   },
   {
    "duration": 31,
    "start_time": "2021-11-11T19:13:06.235Z"
   },
   {
    "duration": 33,
    "start_time": "2021-11-11T19:13:14.044Z"
   },
   {
    "duration": 28,
    "start_time": "2021-11-11T19:13:22.108Z"
   },
   {
    "duration": 4,
    "start_time": "2021-11-11T19:16:21.490Z"
   },
   {
    "duration": 207,
    "start_time": "2021-11-11T19:16:21.501Z"
   },
   {
    "duration": 15,
    "start_time": "2021-11-11T19:16:21.711Z"
   },
   {
    "duration": 54,
    "start_time": "2021-11-11T19:16:21.728Z"
   },
   {
    "duration": 7,
    "start_time": "2021-11-11T19:16:21.785Z"
   },
   {
    "duration": 7,
    "start_time": "2021-11-11T19:16:21.795Z"
   },
   {
    "duration": 16,
    "start_time": "2021-11-11T19:16:21.804Z"
   },
   {
    "duration": 63,
    "start_time": "2021-11-11T19:16:21.823Z"
   },
   {
    "duration": 27,
    "start_time": "2021-11-11T19:16:21.891Z"
   },
   {
    "duration": 28,
    "start_time": "2021-11-11T19:16:21.921Z"
   },
   {
    "duration": 113,
    "start_time": "2021-11-11T19:16:21.952Z"
   },
   {
    "duration": 133,
    "start_time": "2021-11-11T19:16:22.067Z"
   },
   {
    "duration": 93,
    "start_time": "2021-11-11T19:16:22.202Z"
   },
   {
    "duration": 57,
    "start_time": "2021-11-11T19:16:22.298Z"
   },
   {
    "duration": 4,
    "start_time": "2021-11-11T19:16:22.357Z"
   },
   {
    "duration": 25,
    "start_time": "2021-11-11T19:16:22.364Z"
   },
   {
    "duration": 14,
    "start_time": "2021-11-11T19:16:22.391Z"
   },
   {
    "duration": 14,
    "start_time": "2021-11-11T19:16:22.408Z"
   },
   {
    "duration": 13,
    "start_time": "2021-11-11T19:16:22.424Z"
   },
   {
    "duration": 4,
    "start_time": "2021-11-11T19:16:22.439Z"
   },
   {
    "duration": 55,
    "start_time": "2021-11-11T19:16:22.445Z"
   },
   {
    "duration": 18,
    "start_time": "2021-11-11T19:16:22.502Z"
   },
   {
    "duration": 18,
    "start_time": "2021-11-11T19:16:22.523Z"
   },
   {
    "duration": 50,
    "start_time": "2021-11-11T19:16:22.546Z"
   },
   {
    "duration": 20,
    "start_time": "2021-11-11T19:16:22.599Z"
   },
   {
    "duration": 17,
    "start_time": "2021-11-11T19:16:22.622Z"
   },
   {
    "duration": 50,
    "start_time": "2021-11-11T19:16:22.642Z"
   },
   {
    "duration": 16,
    "start_time": "2021-11-11T19:16:22.695Z"
   },
   {
    "duration": 11,
    "start_time": "2021-11-11T19:16:22.714Z"
   },
   {
    "duration": 9,
    "start_time": "2021-11-11T19:16:27.344Z"
   },
   {
    "duration": 23,
    "start_time": "2021-11-11T19:16:32.749Z"
   },
   {
    "duration": 17,
    "start_time": "2021-11-11T19:16:35.862Z"
   },
   {
    "duration": 27,
    "start_time": "2021-11-11T19:16:39.086Z"
   },
   {
    "duration": 17,
    "start_time": "2021-11-11T19:16:40.070Z"
   },
   {
    "duration": 12,
    "start_time": "2021-11-11T19:16:42.421Z"
   },
   {
    "duration": 7,
    "start_time": "2021-11-11T19:16:43.317Z"
   },
   {
    "duration": 9,
    "start_time": "2021-11-11T19:16:46.693Z"
   },
   {
    "duration": 7,
    "start_time": "2021-11-11T19:16:48.437Z"
   },
   {
    "duration": 943,
    "start_time": "2021-11-11T19:17:40.444Z"
   },
   {
    "duration": 188,
    "start_time": "2021-11-11T19:17:41.390Z"
   },
   {
    "duration": 27,
    "start_time": "2021-11-11T19:17:41.585Z"
   },
   {
    "duration": 37,
    "start_time": "2021-11-11T19:17:41.615Z"
   },
   {
    "duration": 6,
    "start_time": "2021-11-11T19:17:41.683Z"
   },
   {
    "duration": 6,
    "start_time": "2021-11-11T19:17:41.692Z"
   },
   {
    "duration": 6,
    "start_time": "2021-11-11T19:17:41.702Z"
   },
   {
    "duration": 36,
    "start_time": "2021-11-11T19:17:41.711Z"
   },
   {
    "duration": 30,
    "start_time": "2021-11-11T19:17:41.783Z"
   },
   {
    "duration": 31,
    "start_time": "2021-11-11T19:17:41.816Z"
   },
   {
    "duration": 153,
    "start_time": "2021-11-11T19:17:41.849Z"
   },
   {
    "duration": 116,
    "start_time": "2021-11-11T19:17:42.004Z"
   },
   {
    "duration": 86,
    "start_time": "2021-11-11T19:17:42.122Z"
   },
   {
    "duration": 74,
    "start_time": "2021-11-11T19:17:42.210Z"
   },
   {
    "duration": 4,
    "start_time": "2021-11-11T19:17:42.287Z"
   },
   {
    "duration": 17,
    "start_time": "2021-11-11T19:17:42.294Z"
   },
   {
    "duration": 11,
    "start_time": "2021-11-11T19:17:42.314Z"
   },
   {
    "duration": 16,
    "start_time": "2021-11-11T19:17:42.327Z"
   },
   {
    "duration": 48,
    "start_time": "2021-11-11T19:17:42.346Z"
   },
   {
    "duration": 12,
    "start_time": "2021-11-11T19:17:42.396Z"
   },
   {
    "duration": 23,
    "start_time": "2021-11-11T19:17:42.410Z"
   },
   {
    "duration": 55,
    "start_time": "2021-11-11T19:17:42.437Z"
   },
   {
    "duration": 22,
    "start_time": "2021-11-11T19:17:42.494Z"
   },
   {
    "duration": 18,
    "start_time": "2021-11-11T19:17:42.518Z"
   },
   {
    "duration": 48,
    "start_time": "2021-11-11T19:17:42.538Z"
   },
   {
    "duration": 26,
    "start_time": "2021-11-11T19:17:42.589Z"
   },
   {
    "duration": 15,
    "start_time": "2021-11-11T19:17:42.618Z"
   },
   {
    "duration": 59,
    "start_time": "2021-11-11T19:17:42.636Z"
   },
   {
    "duration": 23,
    "start_time": "2021-11-11T19:17:42.698Z"
   },
   {
    "duration": 8,
    "start_time": "2021-11-11T19:17:42.723Z"
   },
   {
    "duration": 30,
    "start_time": "2021-11-11T19:17:42.733Z"
   },
   {
    "duration": 37,
    "start_time": "2021-11-11T19:17:42.781Z"
   },
   {
    "duration": 21,
    "start_time": "2021-11-11T19:17:42.820Z"
   },
   {
    "duration": 15,
    "start_time": "2021-11-11T19:17:42.843Z"
   },
   {
    "duration": 29,
    "start_time": "2021-11-11T19:17:42.860Z"
   },
   {
    "duration": 7,
    "start_time": "2021-11-11T19:17:42.891Z"
   },
   {
    "duration": 13,
    "start_time": "2021-11-11T19:17:42.901Z"
   },
   {
    "duration": 15,
    "start_time": "2021-11-11T19:17:42.918Z"
   },
   {
    "duration": 460,
    "start_time": "2021-11-11T19:21:03.024Z"
   },
   {
    "duration": 6,
    "start_time": "2021-11-11T19:21:58.814Z"
   },
   {
    "duration": 7,
    "start_time": "2021-11-11T19:22:14.494Z"
   },
   {
    "duration": 911,
    "start_time": "2021-11-11T19:22:55.720Z"
   },
   {
    "duration": 205,
    "start_time": "2021-11-11T19:22:56.634Z"
   },
   {
    "duration": 45,
    "start_time": "2021-11-11T19:22:56.847Z"
   },
   {
    "duration": 50,
    "start_time": "2021-11-11T19:22:56.894Z"
   },
   {
    "duration": 40,
    "start_time": "2021-11-11T19:22:56.948Z"
   },
   {
    "duration": 6,
    "start_time": "2021-11-11T19:22:56.992Z"
   },
   {
    "duration": 19,
    "start_time": "2021-11-11T19:22:57.002Z"
   },
   {
    "duration": 31,
    "start_time": "2021-11-11T19:22:57.025Z"
   },
   {
    "duration": 32,
    "start_time": "2021-11-11T19:22:57.081Z"
   },
   {
    "duration": 31,
    "start_time": "2021-11-11T19:22:57.116Z"
   },
   {
    "duration": 123,
    "start_time": "2021-11-11T19:22:57.150Z"
   },
   {
    "duration": 143,
    "start_time": "2021-11-11T19:22:57.283Z"
   },
   {
    "duration": 120,
    "start_time": "2021-11-11T19:22:57.429Z"
   },
   {
    "duration": 80,
    "start_time": "2021-11-11T19:22:57.552Z"
   },
   {
    "duration": 6,
    "start_time": "2021-11-11T19:22:57.635Z"
   },
   {
    "duration": 41,
    "start_time": "2021-11-11T19:22:57.644Z"
   },
   {
    "duration": 14,
    "start_time": "2021-11-11T19:22:57.688Z"
   },
   {
    "duration": 20,
    "start_time": "2021-11-11T19:22:57.705Z"
   },
   {
    "duration": 25,
    "start_time": "2021-11-11T19:22:57.728Z"
   },
   {
    "duration": 7,
    "start_time": "2021-11-11T19:22:57.783Z"
   },
   {
    "duration": 42,
    "start_time": "2021-11-11T19:22:57.797Z"
   },
   {
    "duration": 47,
    "start_time": "2021-11-11T19:22:57.845Z"
   },
   {
    "duration": 36,
    "start_time": "2021-11-11T19:22:57.896Z"
   },
   {
    "duration": 52,
    "start_time": "2021-11-11T19:22:57.934Z"
   },
   {
    "duration": 37,
    "start_time": "2021-11-11T19:22:57.989Z"
   },
   {
    "duration": 55,
    "start_time": "2021-11-11T19:22:58.029Z"
   },
   {
    "duration": 15,
    "start_time": "2021-11-11T19:22:58.087Z"
   },
   {
    "duration": 26,
    "start_time": "2021-11-11T19:22:58.105Z"
   },
   {
    "duration": 18,
    "start_time": "2021-11-11T19:22:58.133Z"
   },
   {
    "duration": 31,
    "start_time": "2021-11-11T19:22:58.153Z"
   },
   {
    "duration": 50,
    "start_time": "2021-11-11T19:22:58.187Z"
   },
   {
    "duration": 32,
    "start_time": "2021-11-11T19:22:58.240Z"
   },
   {
    "duration": 50,
    "start_time": "2021-11-11T19:22:58.274Z"
   },
   {
    "duration": 20,
    "start_time": "2021-11-11T19:22:58.326Z"
   },
   {
    "duration": 11,
    "start_time": "2021-11-11T19:22:58.349Z"
   },
   {
    "duration": 12,
    "start_time": "2021-11-11T19:22:58.381Z"
   },
   {
    "duration": 13,
    "start_time": "2021-11-11T19:22:58.395Z"
   },
   {
    "duration": 16,
    "start_time": "2021-11-11T19:22:58.412Z"
   },
   {
    "duration": 46,
    "start_time": "2021-11-11T19:24:12.719Z"
   },
   {
    "duration": 785,
    "start_time": "2021-11-11T19:24:29.267Z"
   },
   {
    "duration": 307,
    "start_time": "2021-11-11T19:24:30.055Z"
   },
   {
    "duration": 31,
    "start_time": "2021-11-11T19:24:30.366Z"
   },
   {
    "duration": 36,
    "start_time": "2021-11-11T19:24:30.400Z"
   },
   {
    "duration": 4,
    "start_time": "2021-11-11T19:24:30.438Z"
   },
   {
    "duration": 37,
    "start_time": "2021-11-11T19:24:30.445Z"
   },
   {
    "duration": 5,
    "start_time": "2021-11-11T19:24:30.484Z"
   },
   {
    "duration": 41,
    "start_time": "2021-11-11T19:24:30.494Z"
   },
   {
    "duration": 57,
    "start_time": "2021-11-11T19:24:30.538Z"
   },
   {
    "duration": 66,
    "start_time": "2021-11-11T19:24:30.598Z"
   },
   {
    "duration": 93,
    "start_time": "2021-11-11T19:24:30.667Z"
   },
   {
    "duration": 126,
    "start_time": "2021-11-11T19:24:30.763Z"
   },
   {
    "duration": 96,
    "start_time": "2021-11-11T19:24:30.892Z"
   },
   {
    "duration": 63,
    "start_time": "2021-11-11T19:24:30.991Z"
   },
   {
    "duration": 25,
    "start_time": "2021-11-11T19:24:31.057Z"
   },
   {
    "duration": 27,
    "start_time": "2021-11-11T19:24:31.086Z"
   },
   {
    "duration": 100,
    "start_time": "2021-11-11T19:24:31.116Z"
   },
   {
    "duration": 40,
    "start_time": "2021-11-11T19:24:31.219Z"
   },
   {
    "duration": 13,
    "start_time": "2021-11-11T19:24:31.261Z"
   },
   {
    "duration": 8,
    "start_time": "2021-11-11T19:24:31.277Z"
   },
   {
    "duration": 29,
    "start_time": "2021-11-11T19:24:31.287Z"
   },
   {
    "duration": 23,
    "start_time": "2021-11-11T19:24:31.318Z"
   },
   {
    "duration": 39,
    "start_time": "2021-11-11T19:24:31.346Z"
   },
   {
    "duration": 21,
    "start_time": "2021-11-11T19:24:31.388Z"
   },
   {
    "duration": 22,
    "start_time": "2021-11-11T19:24:31.411Z"
   },
   {
    "duration": 47,
    "start_time": "2021-11-11T19:24:31.436Z"
   },
   {
    "duration": 13,
    "start_time": "2021-11-11T19:24:31.486Z"
   },
   {
    "duration": 27,
    "start_time": "2021-11-11T19:24:31.501Z"
   },
   {
    "duration": 14,
    "start_time": "2021-11-11T19:24:31.531Z"
   },
   {
    "duration": 36,
    "start_time": "2021-11-11T19:24:31.548Z"
   },
   {
    "duration": 35,
    "start_time": "2021-11-11T19:24:31.587Z"
   },
   {
    "duration": 18,
    "start_time": "2021-11-11T19:24:31.626Z"
   },
   {
    "duration": 50,
    "start_time": "2021-11-11T19:24:31.646Z"
   },
   {
    "duration": 16,
    "start_time": "2021-11-11T19:24:31.698Z"
   },
   {
    "duration": 11,
    "start_time": "2021-11-11T19:24:31.716Z"
   },
   {
    "duration": 9,
    "start_time": "2021-11-11T19:24:31.729Z"
   },
   {
    "duration": 45,
    "start_time": "2021-11-11T19:24:31.741Z"
   },
   {
    "duration": 8,
    "start_time": "2021-11-11T19:24:31.789Z"
   },
   {
    "duration": 762,
    "start_time": "2021-11-11T19:24:51.513Z"
   },
   {
    "duration": 205,
    "start_time": "2021-11-11T19:24:52.278Z"
   },
   {
    "duration": 25,
    "start_time": "2021-11-11T19:24:52.486Z"
   },
   {
    "duration": 35,
    "start_time": "2021-11-11T19:24:52.514Z"
   },
   {
    "duration": 30,
    "start_time": "2021-11-11T19:24:52.551Z"
   },
   {
    "duration": 5,
    "start_time": "2021-11-11T19:24:52.585Z"
   },
   {
    "duration": 7,
    "start_time": "2021-11-11T19:24:52.593Z"
   },
   {
    "duration": 32,
    "start_time": "2021-11-11T19:24:52.604Z"
   },
   {
    "duration": 59,
    "start_time": "2021-11-11T19:24:52.639Z"
   },
   {
    "duration": 29,
    "start_time": "2021-11-11T19:24:52.701Z"
   },
   {
    "duration": 114,
    "start_time": "2021-11-11T19:24:52.733Z"
   },
   {
    "duration": 125,
    "start_time": "2021-11-11T19:24:52.849Z"
   },
   {
    "duration": 81,
    "start_time": "2021-11-11T19:24:52.976Z"
   },
   {
    "duration": 68,
    "start_time": "2021-11-11T19:24:53.059Z"
   },
   {
    "duration": 4,
    "start_time": "2021-11-11T19:24:53.130Z"
   },
   {
    "duration": 10,
    "start_time": "2021-11-11T19:24:53.136Z"
   },
   {
    "duration": 35,
    "start_time": "2021-11-11T19:24:53.149Z"
   },
   {
    "duration": 14,
    "start_time": "2021-11-11T19:24:53.186Z"
   },
   {
    "duration": 13,
    "start_time": "2021-11-11T19:24:53.202Z"
   },
   {
    "duration": 4,
    "start_time": "2021-11-11T19:24:53.217Z"
   },
   {
    "duration": 60,
    "start_time": "2021-11-11T19:24:53.224Z"
   },
   {
    "duration": 21,
    "start_time": "2021-11-11T19:24:53.286Z"
   },
   {
    "duration": 19,
    "start_time": "2021-11-11T19:24:53.312Z"
   },
   {
    "duration": 49,
    "start_time": "2021-11-11T19:24:53.334Z"
   },
   {
    "duration": 24,
    "start_time": "2021-11-11T19:24:53.386Z"
   },
   {
    "duration": 18,
    "start_time": "2021-11-11T19:24:53.413Z"
   },
   {
    "duration": 12,
    "start_time": "2021-11-11T19:24:53.433Z"
   },
   {
    "duration": 16,
    "start_time": "2021-11-11T19:24:53.481Z"
   },
   {
    "duration": 12,
    "start_time": "2021-11-11T19:24:53.500Z"
   },
   {
    "duration": 5,
    "start_time": "2021-11-11T19:24:53.515Z"
   },
   {
    "duration": 33,
    "start_time": "2021-11-11T19:24:53.523Z"
   },
   {
    "duration": 16,
    "start_time": "2021-11-11T19:24:53.582Z"
   },
   {
    "duration": 24,
    "start_time": "2021-11-11T19:24:53.600Z"
   },
   {
    "duration": 17,
    "start_time": "2021-11-11T19:24:53.626Z"
   },
   {
    "duration": 11,
    "start_time": "2021-11-11T19:24:53.683Z"
   },
   {
    "duration": 7,
    "start_time": "2021-11-11T19:24:53.696Z"
   },
   {
    "duration": 10,
    "start_time": "2021-11-11T19:24:53.705Z"
   },
   {
    "duration": 9,
    "start_time": "2021-11-11T19:24:53.717Z"
   },
   {
    "duration": 894,
    "start_time": "2021-11-11T19:26:32.592Z"
   },
   {
    "duration": 228,
    "start_time": "2021-11-11T19:26:33.490Z"
   },
   {
    "duration": 26,
    "start_time": "2021-11-11T19:26:33.723Z"
   },
   {
    "duration": 56,
    "start_time": "2021-11-11T19:26:33.752Z"
   },
   {
    "duration": 6,
    "start_time": "2021-11-11T19:26:33.813Z"
   },
   {
    "duration": 7,
    "start_time": "2021-11-11T19:26:33.823Z"
   },
   {
    "duration": 6,
    "start_time": "2021-11-11T19:26:33.833Z"
   },
   {
    "duration": 45,
    "start_time": "2021-11-11T19:26:33.885Z"
   },
   {
    "duration": 25,
    "start_time": "2021-11-11T19:26:33.933Z"
   },
   {
    "duration": 65,
    "start_time": "2021-11-11T19:26:33.960Z"
   },
   {
    "duration": 120,
    "start_time": "2021-11-11T19:26:34.028Z"
   },
   {
    "duration": 117,
    "start_time": "2021-11-11T19:26:34.151Z"
   },
   {
    "duration": 91,
    "start_time": "2021-11-11T19:26:34.270Z"
   },
   {
    "duration": 86,
    "start_time": "2021-11-11T19:26:34.364Z"
   },
   {
    "duration": 4,
    "start_time": "2021-11-11T19:26:34.452Z"
   },
   {
    "duration": 36,
    "start_time": "2021-11-11T19:26:34.458Z"
   },
   {
    "duration": 12,
    "start_time": "2021-11-11T19:26:34.498Z"
   },
   {
    "duration": 23,
    "start_time": "2021-11-11T19:26:34.513Z"
   },
   {
    "duration": 12,
    "start_time": "2021-11-11T19:26:34.538Z"
   },
   {
    "duration": 7,
    "start_time": "2021-11-11T19:26:34.586Z"
   },
   {
    "duration": 35,
    "start_time": "2021-11-11T19:26:34.596Z"
   },
   {
    "duration": 49,
    "start_time": "2021-11-11T19:26:34.634Z"
   },
   {
    "duration": 29,
    "start_time": "2021-11-11T19:26:34.689Z"
   },
   {
    "duration": 18,
    "start_time": "2021-11-11T19:26:34.723Z"
   },
   {
    "duration": 66,
    "start_time": "2021-11-11T19:26:34.744Z"
   },
   {
    "duration": 26,
    "start_time": "2021-11-11T19:26:34.813Z"
   },
   {
    "duration": 11,
    "start_time": "2021-11-11T19:26:34.842Z"
   },
   {
    "duration": 49,
    "start_time": "2021-11-11T19:26:34.855Z"
   },
   {
    "duration": 18,
    "start_time": "2021-11-11T19:26:34.907Z"
   },
   {
    "duration": 7,
    "start_time": "2021-11-11T19:26:34.927Z"
   },
   {
    "duration": 66,
    "start_time": "2021-11-11T19:26:34.936Z"
   },
   {
    "duration": 23,
    "start_time": "2021-11-11T19:26:35.005Z"
   },
   {
    "duration": 25,
    "start_time": "2021-11-11T19:26:35.030Z"
   },
   {
    "duration": 50,
    "start_time": "2021-11-11T19:26:35.058Z"
   },
   {
    "duration": 11,
    "start_time": "2021-11-11T19:26:35.111Z"
   },
   {
    "duration": 6,
    "start_time": "2021-11-11T19:26:35.125Z"
   },
   {
    "duration": 49,
    "start_time": "2021-11-11T19:26:35.134Z"
   },
   {
    "duration": 10,
    "start_time": "2021-11-11T19:26:35.186Z"
   },
   {
    "duration": 525,
    "start_time": "2021-11-12T14:07:52.912Z"
   },
   {
    "duration": 127,
    "start_time": "2021-11-12T14:07:53.439Z"
   },
   {
    "duration": 16,
    "start_time": "2021-11-12T14:07:53.568Z"
   },
   {
    "duration": 23,
    "start_time": "2021-11-12T14:07:53.591Z"
   },
   {
    "duration": 12,
    "start_time": "2021-11-12T14:07:53.616Z"
   },
   {
    "duration": 17,
    "start_time": "2021-11-12T14:07:53.630Z"
   },
   {
    "duration": 6,
    "start_time": "2021-11-12T14:07:53.649Z"
   },
   {
    "duration": 23,
    "start_time": "2021-11-12T14:07:53.657Z"
   },
   {
    "duration": 21,
    "start_time": "2021-11-12T14:07:53.682Z"
   },
   {
    "duration": 22,
    "start_time": "2021-11-12T14:07:53.704Z"
   },
   {
    "duration": 70,
    "start_time": "2021-11-12T14:07:53.728Z"
   },
   {
    "duration": 65,
    "start_time": "2021-11-12T14:07:53.799Z"
   },
   {
    "duration": 62,
    "start_time": "2021-11-12T14:07:53.865Z"
   },
   {
    "duration": 36,
    "start_time": "2021-11-12T14:07:53.928Z"
   },
   {
    "duration": 3,
    "start_time": "2021-11-12T14:07:53.966Z"
   },
   {
    "duration": 23,
    "start_time": "2021-11-12T14:07:53.970Z"
   },
   {
    "duration": 6,
    "start_time": "2021-11-12T14:07:53.994Z"
   },
   {
    "duration": 11,
    "start_time": "2021-11-12T14:07:54.001Z"
   },
   {
    "duration": 9,
    "start_time": "2021-11-12T14:07:54.013Z"
   },
   {
    "duration": 4,
    "start_time": "2021-11-12T14:07:54.023Z"
   },
   {
    "duration": 25,
    "start_time": "2021-11-12T14:07:54.028Z"
   },
   {
    "duration": 12,
    "start_time": "2021-11-12T14:07:54.055Z"
   },
   {
    "duration": 13,
    "start_time": "2021-11-12T14:07:54.092Z"
   },
   {
    "duration": 13,
    "start_time": "2021-11-12T14:07:54.107Z"
   },
   {
    "duration": 13,
    "start_time": "2021-11-12T14:07:54.122Z"
   },
   {
    "duration": 12,
    "start_time": "2021-11-12T14:07:54.137Z"
   },
   {
    "duration": 8,
    "start_time": "2021-11-12T14:07:54.150Z"
   },
   {
    "duration": 40,
    "start_time": "2021-11-12T14:07:54.159Z"
   },
   {
    "duration": 7,
    "start_time": "2021-11-12T14:07:54.201Z"
   },
   {
    "duration": 5,
    "start_time": "2021-11-12T14:07:54.210Z"
   },
   {
    "duration": 21,
    "start_time": "2021-11-12T14:07:54.216Z"
   },
   {
    "duration": 10,
    "start_time": "2021-11-12T14:07:54.238Z"
   },
   {
    "duration": 13,
    "start_time": "2021-11-12T14:07:54.249Z"
   },
   {
    "duration": 36,
    "start_time": "2021-11-12T14:07:54.264Z"
   },
   {
    "duration": 7,
    "start_time": "2021-11-12T14:07:54.301Z"
   },
   {
    "duration": 5,
    "start_time": "2021-11-12T14:07:54.309Z"
   },
   {
    "duration": 7,
    "start_time": "2021-11-12T14:07:54.315Z"
   },
   {
    "duration": 9,
    "start_time": "2021-11-12T14:07:54.323Z"
   },
   {
    "duration": 59,
    "start_time": "2021-11-12T14:09:55.276Z"
   }
  ],
  "colab": {
   "collapsed_sections": [
    "E0vqbgi9ay0H",
    "VUC88oWjTJw2"
   ],
   "name": "yandex_music_project_2021.2.ipynb",
   "provenance": []
  },
  "kernelspec": {
   "display_name": "Python 3 (ipykernel)",
   "language": "python",
   "name": "python3"
  },
  "language_info": {
   "codemirror_mode": {
    "name": "ipython",
    "version": 3
   },
   "file_extension": ".py",
   "mimetype": "text/x-python",
   "name": "python",
   "nbconvert_exporter": "python",
   "pygments_lexer": "ipython3",
   "version": "3.9.7"
  },
  "toc": {
   "base_numbering": 1,
   "nav_menu": {},
   "number_sections": true,
   "sideBar": true,
   "skip_h1_title": true,
   "title_cell": "Table of Contents",
   "title_sidebar": "Contents",
   "toc_cell": false,
   "toc_position": {},
   "toc_section_display": true,
   "toc_window_display": false
  }
 },
 "nbformat": 4,
 "nbformat_minor": 1
}
