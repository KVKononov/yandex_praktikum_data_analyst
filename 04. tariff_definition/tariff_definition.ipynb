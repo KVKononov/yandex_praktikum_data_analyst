{
 "cells": [
  {
   "cell_type": "markdown",
   "metadata": {},
   "source": [
    "# Определение перспективного тарифа для телеком-компании\n",
    "\n",
    "Вы аналитик компании «Мегалайн» — федерального оператора сотовой связи. Клиентам предлагают два тарифных плана: «Смарт» и «Ультра». Чтобы скорректировать рекламный бюджет, коммерческий департамент хочет понять, какой тариф приносит больше денег.\n",
    "Вам предстоит сделать предварительный анализ тарифов на небольшой выборке клиентов. В вашем распоряжении данные 500 пользователей «Мегалайна»: кто они, откуда, каким тарифом пользуются, сколько звонков и сообщений каждый отправил за 2018 год. Нужно проанализировать поведение клиентов и сделать вывод — какой тариф лучше."
   ]
  },
  {
   "cell_type": "markdown",
   "metadata": {},
   "source": [
    "## Оглавление\n",
    "\n",
    "1. Изучение данных из файла\n",
    "2. Подготовка данных\n",
    "3. Исследовательский анализ данных\n",
    "4. Проверка гипотез\n",
    "5. Общий вывод"
   ]
  },
  {
   "cell_type": "markdown",
   "metadata": {},
   "source": [
    "# 1. Изучение данных из файла "
   ]
  },
  {
   "cell_type": "code",
   "execution_count": 1,
   "metadata": {},
   "outputs": [
    {
     "data": {
      "text/html": [
       "<div>\n",
       "<style scoped>\n",
       "    .dataframe tbody tr th:only-of-type {\n",
       "        vertical-align: middle;\n",
       "    }\n",
       "\n",
       "    .dataframe tbody tr th {\n",
       "        vertical-align: top;\n",
       "    }\n",
       "\n",
       "    .dataframe thead th {\n",
       "        text-align: right;\n",
       "    }\n",
       "</style>\n",
       "<table border=\"1\" class=\"dataframe\">\n",
       "  <thead>\n",
       "    <tr style=\"text-align: right;\">\n",
       "      <th></th>\n",
       "      <th>id</th>\n",
       "      <th>call_date</th>\n",
       "      <th>duration</th>\n",
       "      <th>user_id</th>\n",
       "    </tr>\n",
       "  </thead>\n",
       "  <tbody>\n",
       "    <tr>\n",
       "      <th>0</th>\n",
       "      <td>1000_0</td>\n",
       "      <td>2018-07-25</td>\n",
       "      <td>0.00</td>\n",
       "      <td>1000</td>\n",
       "    </tr>\n",
       "    <tr>\n",
       "      <th>1</th>\n",
       "      <td>1000_1</td>\n",
       "      <td>2018-08-17</td>\n",
       "      <td>0.00</td>\n",
       "      <td>1000</td>\n",
       "    </tr>\n",
       "    <tr>\n",
       "      <th>2</th>\n",
       "      <td>1000_2</td>\n",
       "      <td>2018-06-11</td>\n",
       "      <td>2.85</td>\n",
       "      <td>1000</td>\n",
       "    </tr>\n",
       "    <tr>\n",
       "      <th>3</th>\n",
       "      <td>1000_3</td>\n",
       "      <td>2018-09-21</td>\n",
       "      <td>13.80</td>\n",
       "      <td>1000</td>\n",
       "    </tr>\n",
       "    <tr>\n",
       "      <th>4</th>\n",
       "      <td>1000_4</td>\n",
       "      <td>2018-12-15</td>\n",
       "      <td>5.18</td>\n",
       "      <td>1000</td>\n",
       "    </tr>\n",
       "  </tbody>\n",
       "</table>\n",
       "</div>"
      ],
      "text/plain": [
       "       id   call_date  duration  user_id\n",
       "0  1000_0  2018-07-25      0.00     1000\n",
       "1  1000_1  2018-08-17      0.00     1000\n",
       "2  1000_2  2018-06-11      2.85     1000\n",
       "3  1000_3  2018-09-21     13.80     1000\n",
       "4  1000_4  2018-12-15      5.18     1000"
      ]
     },
     "metadata": {},
     "output_type": "display_data"
    },
    {
     "name": "stdout",
     "output_type": "stream",
     "text": [
      "<class 'pandas.core.frame.DataFrame'>\n",
      "RangeIndex: 202607 entries, 0 to 202606\n",
      "Data columns (total 4 columns):\n",
      " #   Column     Non-Null Count   Dtype  \n",
      "---  ------     --------------   -----  \n",
      " 0   id         202607 non-null  object \n",
      " 1   call_date  202607 non-null  object \n",
      " 2   duration   202607 non-null  float64\n",
      " 3   user_id    202607 non-null  int64  \n",
      "dtypes: float64(1), int64(1), object(2)\n",
      "memory usage: 6.2+ MB\n"
     ]
    }
   ],
   "source": [
    "import pandas as pd\n",
    "import matplotlib.pyplot as plt\n",
    "import numpy as np\n",
    "from scipy import stats as st\n",
    "import warnings\n",
    "warnings.filterwarnings('ignore')\n",
    "pd.set_option('display.max_rows', None)\n",
    "pd.set_option('display.max_columns', None)\n",
    "# База по звонкам\n",
    "calls_data = pd.read_csv('/datasets/calls.csv')\n",
    "display(calls_data.head())\n",
    "calls_data.info()"
   ]
  },
  {
   "cell_type": "code",
   "execution_count": 2,
   "metadata": {},
   "outputs": [
    {
     "data": {
      "text/html": [
       "<div>\n",
       "<style scoped>\n",
       "    .dataframe tbody tr th:only-of-type {\n",
       "        vertical-align: middle;\n",
       "    }\n",
       "\n",
       "    .dataframe tbody tr th {\n",
       "        vertical-align: top;\n",
       "    }\n",
       "\n",
       "    .dataframe thead th {\n",
       "        text-align: right;\n",
       "    }\n",
       "</style>\n",
       "<table border=\"1\" class=\"dataframe\">\n",
       "  <thead>\n",
       "    <tr style=\"text-align: right;\">\n",
       "      <th></th>\n",
       "      <th>Unnamed: 0</th>\n",
       "      <th>id</th>\n",
       "      <th>mb_used</th>\n",
       "      <th>session_date</th>\n",
       "      <th>user_id</th>\n",
       "    </tr>\n",
       "  </thead>\n",
       "  <tbody>\n",
       "    <tr>\n",
       "      <th>0</th>\n",
       "      <td>0</td>\n",
       "      <td>1000_0</td>\n",
       "      <td>112.95</td>\n",
       "      <td>2018-11-25</td>\n",
       "      <td>1000</td>\n",
       "    </tr>\n",
       "    <tr>\n",
       "      <th>1</th>\n",
       "      <td>1</td>\n",
       "      <td>1000_1</td>\n",
       "      <td>1052.81</td>\n",
       "      <td>2018-09-07</td>\n",
       "      <td>1000</td>\n",
       "    </tr>\n",
       "    <tr>\n",
       "      <th>2</th>\n",
       "      <td>2</td>\n",
       "      <td>1000_2</td>\n",
       "      <td>1197.26</td>\n",
       "      <td>2018-06-25</td>\n",
       "      <td>1000</td>\n",
       "    </tr>\n",
       "    <tr>\n",
       "      <th>3</th>\n",
       "      <td>3</td>\n",
       "      <td>1000_3</td>\n",
       "      <td>550.27</td>\n",
       "      <td>2018-08-22</td>\n",
       "      <td>1000</td>\n",
       "    </tr>\n",
       "    <tr>\n",
       "      <th>4</th>\n",
       "      <td>4</td>\n",
       "      <td>1000_4</td>\n",
       "      <td>302.56</td>\n",
       "      <td>2018-09-24</td>\n",
       "      <td>1000</td>\n",
       "    </tr>\n",
       "  </tbody>\n",
       "</table>\n",
       "</div>"
      ],
      "text/plain": [
       "   Unnamed: 0      id  mb_used session_date  user_id\n",
       "0           0  1000_0   112.95   2018-11-25     1000\n",
       "1           1  1000_1  1052.81   2018-09-07     1000\n",
       "2           2  1000_2  1197.26   2018-06-25     1000\n",
       "3           3  1000_3   550.27   2018-08-22     1000\n",
       "4           4  1000_4   302.56   2018-09-24     1000"
      ]
     },
     "metadata": {},
     "output_type": "display_data"
    },
    {
     "name": "stdout",
     "output_type": "stream",
     "text": [
      "<class 'pandas.core.frame.DataFrame'>\n",
      "RangeIndex: 149396 entries, 0 to 149395\n",
      "Data columns (total 5 columns):\n",
      " #   Column        Non-Null Count   Dtype  \n",
      "---  ------        --------------   -----  \n",
      " 0   Unnamed: 0    149396 non-null  int64  \n",
      " 1   id            149396 non-null  object \n",
      " 2   mb_used       149396 non-null  float64\n",
      " 3   session_date  149396 non-null  object \n",
      " 4   user_id       149396 non-null  int64  \n",
      "dtypes: float64(1), int64(2), object(2)\n",
      "memory usage: 5.7+ MB\n"
     ]
    }
   ],
   "source": [
    "# База по интернету\n",
    "internet_data = pd.read_csv('/datasets/internet.csv')\n",
    "display(internet_data.head())\n",
    "internet_data.info()"
   ]
  },
  {
   "cell_type": "code",
   "execution_count": 3,
   "metadata": {},
   "outputs": [
    {
     "data": {
      "text/html": [
       "<div>\n",
       "<style scoped>\n",
       "    .dataframe tbody tr th:only-of-type {\n",
       "        vertical-align: middle;\n",
       "    }\n",
       "\n",
       "    .dataframe tbody tr th {\n",
       "        vertical-align: top;\n",
       "    }\n",
       "\n",
       "    .dataframe thead th {\n",
       "        text-align: right;\n",
       "    }\n",
       "</style>\n",
       "<table border=\"1\" class=\"dataframe\">\n",
       "  <thead>\n",
       "    <tr style=\"text-align: right;\">\n",
       "      <th></th>\n",
       "      <th>id</th>\n",
       "      <th>message_date</th>\n",
       "      <th>user_id</th>\n",
       "    </tr>\n",
       "  </thead>\n",
       "  <tbody>\n",
       "    <tr>\n",
       "      <th>0</th>\n",
       "      <td>1000_0</td>\n",
       "      <td>2018-06-27</td>\n",
       "      <td>1000</td>\n",
       "    </tr>\n",
       "    <tr>\n",
       "      <th>1</th>\n",
       "      <td>1000_1</td>\n",
       "      <td>2018-10-08</td>\n",
       "      <td>1000</td>\n",
       "    </tr>\n",
       "    <tr>\n",
       "      <th>2</th>\n",
       "      <td>1000_2</td>\n",
       "      <td>2018-08-04</td>\n",
       "      <td>1000</td>\n",
       "    </tr>\n",
       "    <tr>\n",
       "      <th>3</th>\n",
       "      <td>1000_3</td>\n",
       "      <td>2018-06-16</td>\n",
       "      <td>1000</td>\n",
       "    </tr>\n",
       "    <tr>\n",
       "      <th>4</th>\n",
       "      <td>1000_4</td>\n",
       "      <td>2018-12-05</td>\n",
       "      <td>1000</td>\n",
       "    </tr>\n",
       "  </tbody>\n",
       "</table>\n",
       "</div>"
      ],
      "text/plain": [
       "       id message_date  user_id\n",
       "0  1000_0   2018-06-27     1000\n",
       "1  1000_1   2018-10-08     1000\n",
       "2  1000_2   2018-08-04     1000\n",
       "3  1000_3   2018-06-16     1000\n",
       "4  1000_4   2018-12-05     1000"
      ]
     },
     "metadata": {},
     "output_type": "display_data"
    },
    {
     "name": "stdout",
     "output_type": "stream",
     "text": [
      "<class 'pandas.core.frame.DataFrame'>\n",
      "RangeIndex: 123036 entries, 0 to 123035\n",
      "Data columns (total 3 columns):\n",
      " #   Column        Non-Null Count   Dtype \n",
      "---  ------        --------------   ----- \n",
      " 0   id            123036 non-null  object\n",
      " 1   message_date  123036 non-null  object\n",
      " 2   user_id       123036 non-null  int64 \n",
      "dtypes: int64(1), object(2)\n",
      "memory usage: 2.8+ MB\n"
     ]
    }
   ],
   "source": [
    "# База по сообщениям\n",
    "messages_data = pd.read_csv('/datasets/messages.csv')\n",
    "display(messages_data.head())\n",
    "messages_data.info()"
   ]
  },
  {
   "cell_type": "code",
   "execution_count": 4,
   "metadata": {},
   "outputs": [
    {
     "data": {
      "text/html": [
       "<div>\n",
       "<style scoped>\n",
       "    .dataframe tbody tr th:only-of-type {\n",
       "        vertical-align: middle;\n",
       "    }\n",
       "\n",
       "    .dataframe tbody tr th {\n",
       "        vertical-align: top;\n",
       "    }\n",
       "\n",
       "    .dataframe thead th {\n",
       "        text-align: right;\n",
       "    }\n",
       "</style>\n",
       "<table border=\"1\" class=\"dataframe\">\n",
       "  <thead>\n",
       "    <tr style=\"text-align: right;\">\n",
       "      <th></th>\n",
       "      <th>messages_included</th>\n",
       "      <th>mb_per_month_included</th>\n",
       "      <th>minutes_included</th>\n",
       "      <th>rub_monthly_fee</th>\n",
       "      <th>rub_per_gb</th>\n",
       "      <th>rub_per_message</th>\n",
       "      <th>rub_per_minute</th>\n",
       "      <th>tariff</th>\n",
       "    </tr>\n",
       "  </thead>\n",
       "  <tbody>\n",
       "    <tr>\n",
       "      <th>0</th>\n",
       "      <td>50</td>\n",
       "      <td>15360</td>\n",
       "      <td>500</td>\n",
       "      <td>550</td>\n",
       "      <td>200</td>\n",
       "      <td>3</td>\n",
       "      <td>3</td>\n",
       "      <td>smart</td>\n",
       "    </tr>\n",
       "    <tr>\n",
       "      <th>1</th>\n",
       "      <td>1000</td>\n",
       "      <td>30720</td>\n",
       "      <td>3000</td>\n",
       "      <td>1950</td>\n",
       "      <td>150</td>\n",
       "      <td>1</td>\n",
       "      <td>1</td>\n",
       "      <td>ultra</td>\n",
       "    </tr>\n",
       "  </tbody>\n",
       "</table>\n",
       "</div>"
      ],
      "text/plain": [
       "   messages_included  mb_per_month_included  minutes_included  \\\n",
       "0                 50                  15360               500   \n",
       "1               1000                  30720              3000   \n",
       "\n",
       "   rub_monthly_fee  rub_per_gb  rub_per_message  rub_per_minute tariff  \n",
       "0              550         200                3               3  smart  \n",
       "1             1950         150                1               1  ultra  "
      ]
     },
     "metadata": {},
     "output_type": "display_data"
    },
    {
     "name": "stdout",
     "output_type": "stream",
     "text": [
      "<class 'pandas.core.frame.DataFrame'>\n",
      "RangeIndex: 2 entries, 0 to 1\n",
      "Data columns (total 8 columns):\n",
      " #   Column                 Non-Null Count  Dtype \n",
      "---  ------                 --------------  ----- \n",
      " 0   messages_included      2 non-null      int64 \n",
      " 1   mb_per_month_included  2 non-null      int64 \n",
      " 2   minutes_included       2 non-null      int64 \n",
      " 3   rub_monthly_fee        2 non-null      int64 \n",
      " 4   rub_per_gb             2 non-null      int64 \n",
      " 5   rub_per_message        2 non-null      int64 \n",
      " 6   rub_per_minute         2 non-null      int64 \n",
      " 7   tariff                 2 non-null      object\n",
      "dtypes: int64(7), object(1)\n",
      "memory usage: 256.0+ bytes\n"
     ]
    }
   ],
   "source": [
    "# База по тарифам\n",
    "tariffs_data = pd.read_csv('/datasets/tariffs.csv')\n",
    "tariffs_data.rename(columns={'tariff_name': 'tariff'}, inplace=True)\n",
    "display(tariffs_data.head())\n",
    "tariffs_data.info()"
   ]
  },
  {
   "cell_type": "code",
   "execution_count": 5,
   "metadata": {},
   "outputs": [
    {
     "data": {
      "text/html": [
       "<div>\n",
       "<style scoped>\n",
       "    .dataframe tbody tr th:only-of-type {\n",
       "        vertical-align: middle;\n",
       "    }\n",
       "\n",
       "    .dataframe tbody tr th {\n",
       "        vertical-align: top;\n",
       "    }\n",
       "\n",
       "    .dataframe thead th {\n",
       "        text-align: right;\n",
       "    }\n",
       "</style>\n",
       "<table border=\"1\" class=\"dataframe\">\n",
       "  <thead>\n",
       "    <tr style=\"text-align: right;\">\n",
       "      <th></th>\n",
       "      <th>user_id</th>\n",
       "      <th>age</th>\n",
       "      <th>churn_date</th>\n",
       "      <th>city</th>\n",
       "      <th>first_name</th>\n",
       "      <th>last_name</th>\n",
       "      <th>reg_date</th>\n",
       "      <th>tariff</th>\n",
       "    </tr>\n",
       "  </thead>\n",
       "  <tbody>\n",
       "    <tr>\n",
       "      <th>0</th>\n",
       "      <td>1000</td>\n",
       "      <td>52</td>\n",
       "      <td>NaN</td>\n",
       "      <td>Краснодар</td>\n",
       "      <td>Рафаил</td>\n",
       "      <td>Верещагин</td>\n",
       "      <td>2018-05-25</td>\n",
       "      <td>ultra</td>\n",
       "    </tr>\n",
       "    <tr>\n",
       "      <th>1</th>\n",
       "      <td>1001</td>\n",
       "      <td>41</td>\n",
       "      <td>NaN</td>\n",
       "      <td>Москва</td>\n",
       "      <td>Иван</td>\n",
       "      <td>Ежов</td>\n",
       "      <td>2018-11-01</td>\n",
       "      <td>smart</td>\n",
       "    </tr>\n",
       "    <tr>\n",
       "      <th>2</th>\n",
       "      <td>1002</td>\n",
       "      <td>59</td>\n",
       "      <td>NaN</td>\n",
       "      <td>Стерлитамак</td>\n",
       "      <td>Евгений</td>\n",
       "      <td>Абрамович</td>\n",
       "      <td>2018-06-17</td>\n",
       "      <td>smart</td>\n",
       "    </tr>\n",
       "    <tr>\n",
       "      <th>3</th>\n",
       "      <td>1003</td>\n",
       "      <td>23</td>\n",
       "      <td>NaN</td>\n",
       "      <td>Москва</td>\n",
       "      <td>Белла</td>\n",
       "      <td>Белякова</td>\n",
       "      <td>2018-08-17</td>\n",
       "      <td>ultra</td>\n",
       "    </tr>\n",
       "    <tr>\n",
       "      <th>4</th>\n",
       "      <td>1004</td>\n",
       "      <td>68</td>\n",
       "      <td>NaN</td>\n",
       "      <td>Новокузнецк</td>\n",
       "      <td>Татьяна</td>\n",
       "      <td>Авдеенко</td>\n",
       "      <td>2018-05-14</td>\n",
       "      <td>ultra</td>\n",
       "    </tr>\n",
       "  </tbody>\n",
       "</table>\n",
       "</div>"
      ],
      "text/plain": [
       "   user_id  age churn_date         city first_name  last_name    reg_date  \\\n",
       "0     1000   52        NaN    Краснодар     Рафаил  Верещагин  2018-05-25   \n",
       "1     1001   41        NaN       Москва       Иван       Ежов  2018-11-01   \n",
       "2     1002   59        NaN  Стерлитамак    Евгений  Абрамович  2018-06-17   \n",
       "3     1003   23        NaN       Москва      Белла   Белякова  2018-08-17   \n",
       "4     1004   68        NaN  Новокузнецк    Татьяна   Авдеенко  2018-05-14   \n",
       "\n",
       "  tariff  \n",
       "0  ultra  \n",
       "1  smart  \n",
       "2  smart  \n",
       "3  ultra  \n",
       "4  ultra  "
      ]
     },
     "metadata": {},
     "output_type": "display_data"
    },
    {
     "name": "stdout",
     "output_type": "stream",
     "text": [
      "<class 'pandas.core.frame.DataFrame'>\n",
      "RangeIndex: 500 entries, 0 to 499\n",
      "Data columns (total 8 columns):\n",
      " #   Column      Non-Null Count  Dtype \n",
      "---  ------      --------------  ----- \n",
      " 0   user_id     500 non-null    int64 \n",
      " 1   age         500 non-null    int64 \n",
      " 2   churn_date  38 non-null     object\n",
      " 3   city        500 non-null    object\n",
      " 4   first_name  500 non-null    object\n",
      " 5   last_name   500 non-null    object\n",
      " 6   reg_date    500 non-null    object\n",
      " 7   tariff      500 non-null    object\n",
      "dtypes: int64(2), object(6)\n",
      "memory usage: 31.4+ KB\n"
     ]
    }
   ],
   "source": [
    "# База по пользователям\n",
    "users_data = pd.read_csv('/datasets/users.csv')\n",
    "display(users_data.head())\n",
    "users_data.info()"
   ]
  },
  {
   "cell_type": "markdown",
   "metadata": {},
   "source": [
    "**Вывод**"
   ]
  },
  {
   "cell_type": "markdown",
   "metadata": {},
   "source": [
    "Всего 5 таблиц, типы данных - float64, int64, object. \n",
    "\n",
    "Согласно документации к данным:\n",
    "\n",
    "Таблица users (информация о пользователях):\n",
    "    \n",
    "* `user_id` — уникальный идентификатор пользователя\n",
    "* `first_name` — имя пользователя\n",
    "* `last_name` — фамилия пользователя\n",
    "* `age` — возраст пользователя (годы)\n",
    "* `reg_date` — дата подключения тарифа (день, месяц, год)\n",
    "* `churn_date` — дата прекращения пользования тарифом (если значение пропущено, то тариф ещё действовал на момент выгрузки данных)\n",
    "* `city` — город проживания пользователя\n",
    "* `tarif` — название тарифного плана\n",
    "\n",
    "Таблица calls (информация о звонках):\n",
    "    \n",
    "* `id` — уникальный номер звонка\n",
    "* `call_date` — дата звонка\n",
    "* `duration` — длительность звонка в минутах\n",
    "* `user_id` — идентификатор пользователя, сделавшего звонок\n",
    "\n",
    "Таблица messages (информация о сообщениях):\n",
    "    \n",
    "* `id` — уникальный номер сообщения\n",
    "* `message_date` — дата сообщения\n",
    "* `user_id` — идентификатор пользователя, отправившего сообщение\n",
    "\n",
    "Таблица internet (информация об интернет-сессиях):\n",
    "    \n",
    "* `id` — уникальный номер сессии\n",
    "* `mb_used` — объём потраченного за сессию интернет-трафика (в мегабайтах)\n",
    "* `session_date` — дата интернет-сессии\n",
    "* `user_id` — идентификатор пользователя\n",
    "\n",
    "Таблица tariffs (информация о тарифах):\n",
    "    \n",
    "* `tariff_name` — название тарифа\n",
    "* `rub_monthly_fee` — ежемесячная абонентская плата в рублях\n",
    "* `minutes_included` — количество минут разговора в месяц, включённых в абонентскую плату\n",
    "* `messages_included` — количество сообщений в месяц, включённых в абонентскую плату\n",
    "* `mb_per_month_included` — объём интернет-трафика, включённого в абонентскую плату (в мегабайтах)\n",
    "* `rub_per_minute` — стоимость минуты разговора сверх тарифного пакета (например, если в тарифе 100 минут разговора в месяц, то со 101 минуты будет взиматься плата)\n",
    "* `rub_per_message` — стоимость отправки сообщения сверх тарифного пакета\n",
    "* `rub_per_gb` — стоимость дополнительного гигабайта интернет-трафика сверх тарифного пакета (1 гигабайт = 1024 мегабайта)"
   ]
  },
  {
   "cell_type": "markdown",
   "metadata": {},
   "source": [
    "# 2. Подготовка данных "
   ]
  },
  {
   "cell_type": "code",
   "execution_count": 6,
   "metadata": {},
   "outputs": [
    {
     "data": {
      "text/html": [
       "<div>\n",
       "<style scoped>\n",
       "    .dataframe tbody tr th:only-of-type {\n",
       "        vertical-align: middle;\n",
       "    }\n",
       "\n",
       "    .dataframe tbody tr th {\n",
       "        vertical-align: top;\n",
       "    }\n",
       "\n",
       "    .dataframe thead th {\n",
       "        text-align: right;\n",
       "    }\n",
       "</style>\n",
       "<table border=\"1\" class=\"dataframe\">\n",
       "  <thead>\n",
       "    <tr style=\"text-align: right;\">\n",
       "      <th></th>\n",
       "      <th>id</th>\n",
       "      <th>call_date</th>\n",
       "      <th>duration</th>\n",
       "      <th>user_id</th>\n",
       "      <th>month</th>\n",
       "    </tr>\n",
       "  </thead>\n",
       "  <tbody>\n",
       "    <tr>\n",
       "      <th>0</th>\n",
       "      <td>1000_0</td>\n",
       "      <td>2018-07-25</td>\n",
       "      <td>0.00</td>\n",
       "      <td>1000</td>\n",
       "      <td>7</td>\n",
       "    </tr>\n",
       "    <tr>\n",
       "      <th>1</th>\n",
       "      <td>1000_1</td>\n",
       "      <td>2018-08-17</td>\n",
       "      <td>0.00</td>\n",
       "      <td>1000</td>\n",
       "      <td>8</td>\n",
       "    </tr>\n",
       "    <tr>\n",
       "      <th>2</th>\n",
       "      <td>1000_2</td>\n",
       "      <td>2018-06-11</td>\n",
       "      <td>2.85</td>\n",
       "      <td>1000</td>\n",
       "      <td>6</td>\n",
       "    </tr>\n",
       "    <tr>\n",
       "      <th>3</th>\n",
       "      <td>1000_3</td>\n",
       "      <td>2018-09-21</td>\n",
       "      <td>13.80</td>\n",
       "      <td>1000</td>\n",
       "      <td>9</td>\n",
       "    </tr>\n",
       "    <tr>\n",
       "      <th>4</th>\n",
       "      <td>1000_4</td>\n",
       "      <td>2018-12-15</td>\n",
       "      <td>5.18</td>\n",
       "      <td>1000</td>\n",
       "      <td>12</td>\n",
       "    </tr>\n",
       "  </tbody>\n",
       "</table>\n",
       "</div>"
      ],
      "text/plain": [
       "       id  call_date  duration  user_id  month\n",
       "0  1000_0 2018-07-25      0.00     1000      7\n",
       "1  1000_1 2018-08-17      0.00     1000      8\n",
       "2  1000_2 2018-06-11      2.85     1000      6\n",
       "3  1000_3 2018-09-21     13.80     1000      9\n",
       "4  1000_4 2018-12-15      5.18     1000     12"
      ]
     },
     "metadata": {},
     "output_type": "display_data"
    }
   ],
   "source": [
    "# Перевожу даты в формат datetime\n",
    "calls_data['call_date'] = pd.to_datetime(\n",
    "    calls_data['call_date'], format='%Y-%m-%d'\n",
    ")\n",
    "# Добавляю столбец month\n",
    "calls_data['month'] = calls_data['call_date'].dt.month\n",
    "display(calls_data.head())"
   ]
  },
  {
   "cell_type": "code",
   "execution_count": 7,
   "metadata": {},
   "outputs": [
    {
     "data": {
      "text/html": [
       "<div>\n",
       "<style scoped>\n",
       "    .dataframe tbody tr th:only-of-type {\n",
       "        vertical-align: middle;\n",
       "    }\n",
       "\n",
       "    .dataframe tbody tr th {\n",
       "        vertical-align: top;\n",
       "    }\n",
       "\n",
       "    .dataframe thead th {\n",
       "        text-align: right;\n",
       "    }\n",
       "</style>\n",
       "<table border=\"1\" class=\"dataframe\">\n",
       "  <thead>\n",
       "    <tr style=\"text-align: right;\">\n",
       "      <th></th>\n",
       "      <th>Unnamed: 0</th>\n",
       "      <th>id</th>\n",
       "      <th>mb_used</th>\n",
       "      <th>session_date</th>\n",
       "      <th>user_id</th>\n",
       "      <th>month</th>\n",
       "    </tr>\n",
       "  </thead>\n",
       "  <tbody>\n",
       "    <tr>\n",
       "      <th>0</th>\n",
       "      <td>0</td>\n",
       "      <td>1000_0</td>\n",
       "      <td>112.95</td>\n",
       "      <td>2018-11-25</td>\n",
       "      <td>1000</td>\n",
       "      <td>11</td>\n",
       "    </tr>\n",
       "    <tr>\n",
       "      <th>1</th>\n",
       "      <td>1</td>\n",
       "      <td>1000_1</td>\n",
       "      <td>1052.81</td>\n",
       "      <td>2018-09-07</td>\n",
       "      <td>1000</td>\n",
       "      <td>9</td>\n",
       "    </tr>\n",
       "    <tr>\n",
       "      <th>2</th>\n",
       "      <td>2</td>\n",
       "      <td>1000_2</td>\n",
       "      <td>1197.26</td>\n",
       "      <td>2018-06-25</td>\n",
       "      <td>1000</td>\n",
       "      <td>6</td>\n",
       "    </tr>\n",
       "    <tr>\n",
       "      <th>3</th>\n",
       "      <td>3</td>\n",
       "      <td>1000_3</td>\n",
       "      <td>550.27</td>\n",
       "      <td>2018-08-22</td>\n",
       "      <td>1000</td>\n",
       "      <td>8</td>\n",
       "    </tr>\n",
       "    <tr>\n",
       "      <th>4</th>\n",
       "      <td>4</td>\n",
       "      <td>1000_4</td>\n",
       "      <td>302.56</td>\n",
       "      <td>2018-09-24</td>\n",
       "      <td>1000</td>\n",
       "      <td>9</td>\n",
       "    </tr>\n",
       "  </tbody>\n",
       "</table>\n",
       "</div>"
      ],
      "text/plain": [
       "   Unnamed: 0      id  mb_used session_date  user_id  month\n",
       "0           0  1000_0   112.95   2018-11-25     1000     11\n",
       "1           1  1000_1  1052.81   2018-09-07     1000      9\n",
       "2           2  1000_2  1197.26   2018-06-25     1000      6\n",
       "3           3  1000_3   550.27   2018-08-22     1000      8\n",
       "4           4  1000_4   302.56   2018-09-24     1000      9"
      ]
     },
     "metadata": {},
     "output_type": "display_data"
    }
   ],
   "source": [
    "# Перевожу даты в формат datetime\n",
    "internet_data['session_date'] = pd.to_datetime(\n",
    "    internet_data['session_date'], format='%Y-%m-%d'\n",
    ")\n",
    "# Добавляю столбец month\n",
    "internet_data['month'] = internet_data['session_date'].dt.month\n",
    "display(internet_data.head())"
   ]
  },
  {
   "cell_type": "code",
   "execution_count": 8,
   "metadata": {},
   "outputs": [
    {
     "data": {
      "text/html": [
       "<div>\n",
       "<style scoped>\n",
       "    .dataframe tbody tr th:only-of-type {\n",
       "        vertical-align: middle;\n",
       "    }\n",
       "\n",
       "    .dataframe tbody tr th {\n",
       "        vertical-align: top;\n",
       "    }\n",
       "\n",
       "    .dataframe thead th {\n",
       "        text-align: right;\n",
       "    }\n",
       "</style>\n",
       "<table border=\"1\" class=\"dataframe\">\n",
       "  <thead>\n",
       "    <tr style=\"text-align: right;\">\n",
       "      <th></th>\n",
       "      <th>id</th>\n",
       "      <th>message_date</th>\n",
       "      <th>user_id</th>\n",
       "      <th>month</th>\n",
       "    </tr>\n",
       "  </thead>\n",
       "  <tbody>\n",
       "    <tr>\n",
       "      <th>0</th>\n",
       "      <td>1000_0</td>\n",
       "      <td>2018-06-27</td>\n",
       "      <td>1000</td>\n",
       "      <td>6</td>\n",
       "    </tr>\n",
       "    <tr>\n",
       "      <th>1</th>\n",
       "      <td>1000_1</td>\n",
       "      <td>2018-10-08</td>\n",
       "      <td>1000</td>\n",
       "      <td>10</td>\n",
       "    </tr>\n",
       "    <tr>\n",
       "      <th>2</th>\n",
       "      <td>1000_2</td>\n",
       "      <td>2018-08-04</td>\n",
       "      <td>1000</td>\n",
       "      <td>8</td>\n",
       "    </tr>\n",
       "    <tr>\n",
       "      <th>3</th>\n",
       "      <td>1000_3</td>\n",
       "      <td>2018-06-16</td>\n",
       "      <td>1000</td>\n",
       "      <td>6</td>\n",
       "    </tr>\n",
       "    <tr>\n",
       "      <th>4</th>\n",
       "      <td>1000_4</td>\n",
       "      <td>2018-12-05</td>\n",
       "      <td>1000</td>\n",
       "      <td>12</td>\n",
       "    </tr>\n",
       "  </tbody>\n",
       "</table>\n",
       "</div>"
      ],
      "text/plain": [
       "       id message_date  user_id  month\n",
       "0  1000_0   2018-06-27     1000      6\n",
       "1  1000_1   2018-10-08     1000     10\n",
       "2  1000_2   2018-08-04     1000      8\n",
       "3  1000_3   2018-06-16     1000      6\n",
       "4  1000_4   2018-12-05     1000     12"
      ]
     },
     "metadata": {},
     "output_type": "display_data"
    }
   ],
   "source": [
    "# Перевожу даты в формат datetime\n",
    "messages_data['message_date'] = pd.to_datetime(\n",
    "    messages_data['message_date'], format='%Y-%m-%d'\n",
    ")\n",
    "# Добавляю столбец month\n",
    "messages_data['month'] = messages_data['message_date'].dt.month\n",
    "display(messages_data.head())"
   ]
  },
  {
   "cell_type": "code",
   "execution_count": 9,
   "metadata": {},
   "outputs": [
    {
     "data": {
      "text/html": [
       "<div>\n",
       "<style scoped>\n",
       "    .dataframe tbody tr th:only-of-type {\n",
       "        vertical-align: middle;\n",
       "    }\n",
       "\n",
       "    .dataframe tbody tr th {\n",
       "        vertical-align: top;\n",
       "    }\n",
       "\n",
       "    .dataframe thead th {\n",
       "        text-align: right;\n",
       "    }\n",
       "</style>\n",
       "<table border=\"1\" class=\"dataframe\">\n",
       "  <thead>\n",
       "    <tr style=\"text-align: right;\">\n",
       "      <th></th>\n",
       "      <th>user_id</th>\n",
       "      <th>age</th>\n",
       "      <th>churn_date</th>\n",
       "      <th>city</th>\n",
       "      <th>first_name</th>\n",
       "      <th>last_name</th>\n",
       "      <th>reg_date</th>\n",
       "      <th>tariff</th>\n",
       "      <th>month</th>\n",
       "    </tr>\n",
       "  </thead>\n",
       "  <tbody>\n",
       "    <tr>\n",
       "      <th>0</th>\n",
       "      <td>1000</td>\n",
       "      <td>52</td>\n",
       "      <td>NaN</td>\n",
       "      <td>Краснодар</td>\n",
       "      <td>Рафаил</td>\n",
       "      <td>Верещагин</td>\n",
       "      <td>2018-05-25</td>\n",
       "      <td>ultra</td>\n",
       "      <td>5</td>\n",
       "    </tr>\n",
       "    <tr>\n",
       "      <th>1</th>\n",
       "      <td>1001</td>\n",
       "      <td>41</td>\n",
       "      <td>NaN</td>\n",
       "      <td>Москва</td>\n",
       "      <td>Иван</td>\n",
       "      <td>Ежов</td>\n",
       "      <td>2018-11-01</td>\n",
       "      <td>smart</td>\n",
       "      <td>11</td>\n",
       "    </tr>\n",
       "    <tr>\n",
       "      <th>2</th>\n",
       "      <td>1002</td>\n",
       "      <td>59</td>\n",
       "      <td>NaN</td>\n",
       "      <td>Стерлитамак</td>\n",
       "      <td>Евгений</td>\n",
       "      <td>Абрамович</td>\n",
       "      <td>2018-06-17</td>\n",
       "      <td>smart</td>\n",
       "      <td>6</td>\n",
       "    </tr>\n",
       "    <tr>\n",
       "      <th>3</th>\n",
       "      <td>1003</td>\n",
       "      <td>23</td>\n",
       "      <td>NaN</td>\n",
       "      <td>Москва</td>\n",
       "      <td>Белла</td>\n",
       "      <td>Белякова</td>\n",
       "      <td>2018-08-17</td>\n",
       "      <td>ultra</td>\n",
       "      <td>8</td>\n",
       "    </tr>\n",
       "    <tr>\n",
       "      <th>4</th>\n",
       "      <td>1004</td>\n",
       "      <td>68</td>\n",
       "      <td>NaN</td>\n",
       "      <td>Новокузнецк</td>\n",
       "      <td>Татьяна</td>\n",
       "      <td>Авдеенко</td>\n",
       "      <td>2018-05-14</td>\n",
       "      <td>ultra</td>\n",
       "      <td>5</td>\n",
       "    </tr>\n",
       "  </tbody>\n",
       "</table>\n",
       "</div>"
      ],
      "text/plain": [
       "   user_id  age churn_date         city first_name  last_name   reg_date  \\\n",
       "0     1000   52        NaN    Краснодар     Рафаил  Верещагин 2018-05-25   \n",
       "1     1001   41        NaN       Москва       Иван       Ежов 2018-11-01   \n",
       "2     1002   59        NaN  Стерлитамак    Евгений  Абрамович 2018-06-17   \n",
       "3     1003   23        NaN       Москва      Белла   Белякова 2018-08-17   \n",
       "4     1004   68        NaN  Новокузнецк    Татьяна   Авдеенко 2018-05-14   \n",
       "\n",
       "  tariff  month  \n",
       "0  ultra      5  \n",
       "1  smart     11  \n",
       "2  smart      6  \n",
       "3  ultra      8  \n",
       "4  ultra      5  "
      ]
     },
     "metadata": {},
     "output_type": "display_data"
    }
   ],
   "source": [
    "# Перевожу даты в формат datetime\n",
    "users_data['reg_date'] = pd.to_datetime(\n",
    "    users_data['reg_date'], format='%Y-%m-%d'\n",
    ")\n",
    "# Добавляю столбец month\n",
    "users_data['month'] = users_data['reg_date'].dt.month\n",
    "display(users_data.head())"
   ]
  },
  {
   "cell_type": "code",
   "execution_count": 10,
   "metadata": {},
   "outputs": [
    {
     "data": {
      "text/html": [
       "<div>\n",
       "<style scoped>\n",
       "    .dataframe tbody tr th:only-of-type {\n",
       "        vertical-align: middle;\n",
       "    }\n",
       "\n",
       "    .dataframe tbody tr th {\n",
       "        vertical-align: top;\n",
       "    }\n",
       "\n",
       "    .dataframe thead th {\n",
       "        text-align: right;\n",
       "    }\n",
       "</style>\n",
       "<table border=\"1\" class=\"dataframe\">\n",
       "  <thead>\n",
       "    <tr style=\"text-align: right;\">\n",
       "      <th></th>\n",
       "      <th>user_id</th>\n",
       "      <th>month</th>\n",
       "      <th>duration</th>\n",
       "    </tr>\n",
       "  </thead>\n",
       "  <tbody>\n",
       "    <tr>\n",
       "      <th>0</th>\n",
       "      <td>1000</td>\n",
       "      <td>5</td>\n",
       "      <td>151.0</td>\n",
       "    </tr>\n",
       "    <tr>\n",
       "      <th>1</th>\n",
       "      <td>1000</td>\n",
       "      <td>6</td>\n",
       "      <td>159.0</td>\n",
       "    </tr>\n",
       "    <tr>\n",
       "      <th>2</th>\n",
       "      <td>1000</td>\n",
       "      <td>7</td>\n",
       "      <td>319.0</td>\n",
       "    </tr>\n",
       "    <tr>\n",
       "      <th>3</th>\n",
       "      <td>1000</td>\n",
       "      <td>8</td>\n",
       "      <td>390.0</td>\n",
       "    </tr>\n",
       "    <tr>\n",
       "      <th>4</th>\n",
       "      <td>1000</td>\n",
       "      <td>9</td>\n",
       "      <td>441.0</td>\n",
       "    </tr>\n",
       "  </tbody>\n",
       "</table>\n",
       "</div>"
      ],
      "text/plain": [
       "   user_id  month  duration\n",
       "0     1000      5     151.0\n",
       "1     1000      6     159.0\n",
       "2     1000      7     319.0\n",
       "3     1000      8     390.0\n",
       "4     1000      9     441.0"
      ]
     },
     "metadata": {},
     "output_type": "display_data"
    }
   ],
   "source": [
    "# Группирую базу и нахожу длительность звонков\n",
    "calls_data = calls_data.groupby(['user_id', 'month']).agg({'duration': 'sum'}).reset_index()\n",
    "# Округляю в большую сторону\n",
    "calls_data['duration'] = calls_data['duration'].apply(np.ceil).replace(0, 1)\n",
    "display(calls_data.head())"
   ]
  },
  {
   "cell_type": "code",
   "execution_count": 11,
   "metadata": {},
   "outputs": [
    {
     "data": {
      "text/html": [
       "<div>\n",
       "<style scoped>\n",
       "    .dataframe tbody tr th:only-of-type {\n",
       "        vertical-align: middle;\n",
       "    }\n",
       "\n",
       "    .dataframe tbody tr th {\n",
       "        vertical-align: top;\n",
       "    }\n",
       "\n",
       "    .dataframe thead th {\n",
       "        text-align: right;\n",
       "    }\n",
       "</style>\n",
       "<table border=\"1\" class=\"dataframe\">\n",
       "  <thead>\n",
       "    <tr style=\"text-align: right;\">\n",
       "      <th></th>\n",
       "      <th>user_id</th>\n",
       "      <th>month</th>\n",
       "      <th>mb_used</th>\n",
       "    </tr>\n",
       "  </thead>\n",
       "  <tbody>\n",
       "    <tr>\n",
       "      <th>0</th>\n",
       "      <td>1000</td>\n",
       "      <td>5</td>\n",
       "      <td>2254.0</td>\n",
       "    </tr>\n",
       "    <tr>\n",
       "      <th>1</th>\n",
       "      <td>1000</td>\n",
       "      <td>6</td>\n",
       "      <td>23234.0</td>\n",
       "    </tr>\n",
       "    <tr>\n",
       "      <th>2</th>\n",
       "      <td>1000</td>\n",
       "      <td>7</td>\n",
       "      <td>14004.0</td>\n",
       "    </tr>\n",
       "    <tr>\n",
       "      <th>3</th>\n",
       "      <td>1000</td>\n",
       "      <td>8</td>\n",
       "      <td>14056.0</td>\n",
       "    </tr>\n",
       "    <tr>\n",
       "      <th>4</th>\n",
       "      <td>1000</td>\n",
       "      <td>9</td>\n",
       "      <td>14569.0</td>\n",
       "    </tr>\n",
       "  </tbody>\n",
       "</table>\n",
       "</div>"
      ],
      "text/plain": [
       "   user_id  month  mb_used\n",
       "0     1000      5   2254.0\n",
       "1     1000      6  23234.0\n",
       "2     1000      7  14004.0\n",
       "3     1000      8  14056.0\n",
       "4     1000      9  14569.0"
      ]
     },
     "metadata": {},
     "output_type": "display_data"
    }
   ],
   "source": [
    "# Группирую базу и нахожу объем израсходованного интернет-трафика\n",
    "internet_data = internet_data.groupby(['user_id', 'month']).agg({'mb_used': 'sum'}).reset_index()\n",
    "# Округляю в большую сторону\n",
    "internet_data['mb_used'] = internet_data['mb_used'].apply(np.ceil).replace(0, 1)\n",
    "display(internet_data.head())"
   ]
  },
  {
   "cell_type": "code",
   "execution_count": 12,
   "metadata": {},
   "outputs": [
    {
     "data": {
      "text/html": [
       "<div>\n",
       "<style scoped>\n",
       "    .dataframe tbody tr th:only-of-type {\n",
       "        vertical-align: middle;\n",
       "    }\n",
       "\n",
       "    .dataframe tbody tr th {\n",
       "        vertical-align: top;\n",
       "    }\n",
       "\n",
       "    .dataframe thead th {\n",
       "        text-align: right;\n",
       "    }\n",
       "</style>\n",
       "<table border=\"1\" class=\"dataframe\">\n",
       "  <thead>\n",
       "    <tr style=\"text-align: right;\">\n",
       "      <th></th>\n",
       "      <th>user_id</th>\n",
       "      <th>month</th>\n",
       "      <th>sms</th>\n",
       "    </tr>\n",
       "  </thead>\n",
       "  <tbody>\n",
       "    <tr>\n",
       "      <th>0</th>\n",
       "      <td>1000</td>\n",
       "      <td>5</td>\n",
       "      <td>22</td>\n",
       "    </tr>\n",
       "    <tr>\n",
       "      <th>1</th>\n",
       "      <td>1000</td>\n",
       "      <td>6</td>\n",
       "      <td>60</td>\n",
       "    </tr>\n",
       "    <tr>\n",
       "      <th>2</th>\n",
       "      <td>1000</td>\n",
       "      <td>7</td>\n",
       "      <td>75</td>\n",
       "    </tr>\n",
       "    <tr>\n",
       "      <th>3</th>\n",
       "      <td>1000</td>\n",
       "      <td>8</td>\n",
       "      <td>81</td>\n",
       "    </tr>\n",
       "    <tr>\n",
       "      <th>4</th>\n",
       "      <td>1000</td>\n",
       "      <td>9</td>\n",
       "      <td>57</td>\n",
       "    </tr>\n",
       "  </tbody>\n",
       "</table>\n",
       "</div>"
      ],
      "text/plain": [
       "   user_id  month  sms\n",
       "0     1000      5   22\n",
       "1     1000      6   60\n",
       "2     1000      7   75\n",
       "3     1000      8   81\n",
       "4     1000      9   57"
      ]
     },
     "metadata": {},
     "output_type": "display_data"
    }
   ],
   "source": [
    "# Группирую базу и нахожу количество отправленных сообщений\n",
    "messages_data = messages_data.groupby(['user_id', 'month']).agg({'message_date': 'count'}).reset_index()\n",
    "messages_data.rename(columns={'message_date': 'sms'}, inplace=True)\n",
    "display(messages_data.head())"
   ]
  },
  {
   "cell_type": "code",
   "execution_count": 13,
   "metadata": {},
   "outputs": [
    {
     "data": {
      "text/html": [
       "<div>\n",
       "<style scoped>\n",
       "    .dataframe tbody tr th:only-of-type {\n",
       "        vertical-align: middle;\n",
       "    }\n",
       "\n",
       "    .dataframe tbody tr th {\n",
       "        vertical-align: top;\n",
       "    }\n",
       "\n",
       "    .dataframe thead th {\n",
       "        text-align: right;\n",
       "    }\n",
       "</style>\n",
       "<table border=\"1\" class=\"dataframe\">\n",
       "  <thead>\n",
       "    <tr style=\"text-align: right;\">\n",
       "      <th></th>\n",
       "      <th>user_id</th>\n",
       "      <th>month_x</th>\n",
       "      <th>duration</th>\n",
       "      <th>mb_used</th>\n",
       "      <th>sms</th>\n",
       "      <th>messages_included</th>\n",
       "      <th>mb_per_month_included</th>\n",
       "      <th>minutes_included</th>\n",
       "      <th>rub_monthly_fee</th>\n",
       "      <th>rub_per_gb</th>\n",
       "      <th>rub_per_message</th>\n",
       "      <th>rub_per_minute</th>\n",
       "      <th>tariff</th>\n",
       "      <th>age</th>\n",
       "      <th>churn_date</th>\n",
       "      <th>city</th>\n",
       "      <th>first_name</th>\n",
       "      <th>last_name</th>\n",
       "      <th>reg_date</th>\n",
       "      <th>month_y</th>\n",
       "    </tr>\n",
       "  </thead>\n",
       "  <tbody>\n",
       "    <tr>\n",
       "      <th>0</th>\n",
       "      <td>1000</td>\n",
       "      <td>5.0</td>\n",
       "      <td>151.0</td>\n",
       "      <td>2254.0</td>\n",
       "      <td>22.0</td>\n",
       "      <td>1000</td>\n",
       "      <td>30720</td>\n",
       "      <td>3000</td>\n",
       "      <td>1950</td>\n",
       "      <td>150</td>\n",
       "      <td>1</td>\n",
       "      <td>1</td>\n",
       "      <td>ultra</td>\n",
       "      <td>52</td>\n",
       "      <td>NaN</td>\n",
       "      <td>Краснодар</td>\n",
       "      <td>Рафаил</td>\n",
       "      <td>Верещагин</td>\n",
       "      <td>2018-05-25</td>\n",
       "      <td>5</td>\n",
       "    </tr>\n",
       "    <tr>\n",
       "      <th>1</th>\n",
       "      <td>1000</td>\n",
       "      <td>6.0</td>\n",
       "      <td>159.0</td>\n",
       "      <td>23234.0</td>\n",
       "      <td>60.0</td>\n",
       "      <td>1000</td>\n",
       "      <td>30720</td>\n",
       "      <td>3000</td>\n",
       "      <td>1950</td>\n",
       "      <td>150</td>\n",
       "      <td>1</td>\n",
       "      <td>1</td>\n",
       "      <td>ultra</td>\n",
       "      <td>52</td>\n",
       "      <td>NaN</td>\n",
       "      <td>Краснодар</td>\n",
       "      <td>Рафаил</td>\n",
       "      <td>Верещагин</td>\n",
       "      <td>2018-05-25</td>\n",
       "      <td>5</td>\n",
       "    </tr>\n",
       "    <tr>\n",
       "      <th>2</th>\n",
       "      <td>1000</td>\n",
       "      <td>7.0</td>\n",
       "      <td>319.0</td>\n",
       "      <td>14004.0</td>\n",
       "      <td>75.0</td>\n",
       "      <td>1000</td>\n",
       "      <td>30720</td>\n",
       "      <td>3000</td>\n",
       "      <td>1950</td>\n",
       "      <td>150</td>\n",
       "      <td>1</td>\n",
       "      <td>1</td>\n",
       "      <td>ultra</td>\n",
       "      <td>52</td>\n",
       "      <td>NaN</td>\n",
       "      <td>Краснодар</td>\n",
       "      <td>Рафаил</td>\n",
       "      <td>Верещагин</td>\n",
       "      <td>2018-05-25</td>\n",
       "      <td>5</td>\n",
       "    </tr>\n",
       "    <tr>\n",
       "      <th>3</th>\n",
       "      <td>1000</td>\n",
       "      <td>8.0</td>\n",
       "      <td>390.0</td>\n",
       "      <td>14056.0</td>\n",
       "      <td>81.0</td>\n",
       "      <td>1000</td>\n",
       "      <td>30720</td>\n",
       "      <td>3000</td>\n",
       "      <td>1950</td>\n",
       "      <td>150</td>\n",
       "      <td>1</td>\n",
       "      <td>1</td>\n",
       "      <td>ultra</td>\n",
       "      <td>52</td>\n",
       "      <td>NaN</td>\n",
       "      <td>Краснодар</td>\n",
       "      <td>Рафаил</td>\n",
       "      <td>Верещагин</td>\n",
       "      <td>2018-05-25</td>\n",
       "      <td>5</td>\n",
       "    </tr>\n",
       "    <tr>\n",
       "      <th>4</th>\n",
       "      <td>1000</td>\n",
       "      <td>9.0</td>\n",
       "      <td>441.0</td>\n",
       "      <td>14569.0</td>\n",
       "      <td>57.0</td>\n",
       "      <td>1000</td>\n",
       "      <td>30720</td>\n",
       "      <td>3000</td>\n",
       "      <td>1950</td>\n",
       "      <td>150</td>\n",
       "      <td>1</td>\n",
       "      <td>1</td>\n",
       "      <td>ultra</td>\n",
       "      <td>52</td>\n",
       "      <td>NaN</td>\n",
       "      <td>Краснодар</td>\n",
       "      <td>Рафаил</td>\n",
       "      <td>Верещагин</td>\n",
       "      <td>2018-05-25</td>\n",
       "      <td>5</td>\n",
       "    </tr>\n",
       "  </tbody>\n",
       "</table>\n",
       "</div>"
      ],
      "text/plain": [
       "   user_id  month_x  duration  mb_used   sms  messages_included  \\\n",
       "0     1000      5.0     151.0   2254.0  22.0               1000   \n",
       "1     1000      6.0     159.0  23234.0  60.0               1000   \n",
       "2     1000      7.0     319.0  14004.0  75.0               1000   \n",
       "3     1000      8.0     390.0  14056.0  81.0               1000   \n",
       "4     1000      9.0     441.0  14569.0  57.0               1000   \n",
       "\n",
       "   mb_per_month_included  minutes_included  rub_monthly_fee  rub_per_gb  \\\n",
       "0                  30720              3000             1950         150   \n",
       "1                  30720              3000             1950         150   \n",
       "2                  30720              3000             1950         150   \n",
       "3                  30720              3000             1950         150   \n",
       "4                  30720              3000             1950         150   \n",
       "\n",
       "   rub_per_message  rub_per_minute tariff  age churn_date       city  \\\n",
       "0                1               1  ultra   52        NaN  Краснодар   \n",
       "1                1               1  ultra   52        NaN  Краснодар   \n",
       "2                1               1  ultra   52        NaN  Краснодар   \n",
       "3                1               1  ultra   52        NaN  Краснодар   \n",
       "4                1               1  ultra   52        NaN  Краснодар   \n",
       "\n",
       "  first_name  last_name   reg_date  month_y  \n",
       "0     Рафаил  Верещагин 2018-05-25        5  \n",
       "1     Рафаил  Верещагин 2018-05-25        5  \n",
       "2     Рафаил  Верещагин 2018-05-25        5  \n",
       "3     Рафаил  Верещагин 2018-05-25        5  \n",
       "4     Рафаил  Верещагин 2018-05-25        5  "
      ]
     },
     "metadata": {},
     "output_type": "display_data"
    }
   ],
   "source": [
    "# Объединяю базы в одну общую\n",
    "data = tariffs_data.merge(users_data, on='tariff', how='outer')        \n",
    "good_data = calls_data.merge(internet_data, on=['user_id', 'month'], how='outer')\n",
    "good_data = good_data.merge(messages_data, on=['user_id', 'month'], how='outer')\n",
    "good_data = good_data.merge(data, on='user_id', how='outer')\n",
    "display(good_data.head())"
   ]
  },
  {
   "cell_type": "code",
   "execution_count": 14,
   "metadata": {},
   "outputs": [],
   "source": [
    "# Удаляю лишний столбец\n",
    "good_data.pop('month_y')\n",
    "good_data.rename(columns={'month_x': 'month'}, inplace=True)"
   ]
  },
  {
   "cell_type": "code",
   "execution_count": 15,
   "metadata": {},
   "outputs": [
    {
     "name": "stdout",
     "output_type": "stream",
     "text": [
      "Пропуски до (в столбце sms): 499\n",
      "Пропуски до (в столбце month): 2\n",
      "Пропуски до (в столбце duration): 42\n",
      "Пропуски до (в столбце mb_used): 13\n",
      "Пропуски после (в столбце sms): 0\n",
      "Пропуски после (в столбце month): 0\n",
      "Пропуски после (в столбце duration): 0\n",
      "Пропуски после (в столбце mb_used): 0\n",
      "Количество дубликатов: 0\n"
     ]
    }
   ],
   "source": [
    "# Проверяю наличие пропусков\n",
    "print('Пропуски до (в столбце sms):', good_data['sms'].isna().sum())\n",
    "print('Пропуски до (в столбце month):', good_data['month'].isna().sum())\n",
    "print('Пропуски до (в столбце duration):', good_data['duration'].isna().sum())\n",
    "print('Пропуски до (в столбце mb_used):', good_data['mb_used'].isna().sum())\n",
    "# Удаляю строки где пропущен месяц\n",
    "good_data.dropna(subset = ['month'], inplace = True)\n",
    "# Заполняю пустые значения 0\n",
    "good_data['sms'] = good_data['sms'].fillna(0)\n",
    "good_data['duration'] = good_data['duration'].fillna(0)\n",
    "good_data['mb_used'] = good_data['mb_used'].fillna(0)\n",
    "# Проверяю наличие пропусков\n",
    "print('Пропуски после (в столбце sms):', good_data['sms'].isna().sum())\n",
    "print('Пропуски после (в столбце month):', good_data['month'].isna().sum())\n",
    "print('Пропуски после (в столбце duration):', good_data['duration'].isna().sum())\n",
    "print('Пропуски после (в столбце mb_used):', good_data['mb_used'].isna().sum())\n",
    "# Заменяю тип данных на int\n",
    "good_data['month'] = good_data['month'].astype('int')\n",
    "good_data['sms'] = good_data['sms'].astype('int')\n",
    "good_data['duration'] = good_data['duration'].astype('int')\n",
    "good_data['mb_used'] = good_data['mb_used'].astype('int')\n",
    "# Проверяю наличие дубликатов\n",
    "print('Количество дубликатов:', good_data.duplicated().sum())"
   ]
  },
  {
   "cell_type": "code",
   "execution_count": 16,
   "metadata": {},
   "outputs": [],
   "source": [
    "# Перевожу в гигабайты\n",
    "good_data['gb_used'] = (good_data['mb_used'] / 1024)\n",
    "good_data['gb_included'] = (good_data['mb_per_month_included'] / 1024)\n",
    "# Округляю в большую сторону\n",
    "good_data['gb_used'] = good_data['gb_used'].apply(np.ceil).replace(0, 1)"
   ]
  },
  {
   "cell_type": "code",
   "execution_count": 17,
   "metadata": {
    "scrolled": true
   },
   "outputs": [
    {
     "data": {
      "text/html": [
       "<div>\n",
       "<style scoped>\n",
       "    .dataframe tbody tr th:only-of-type {\n",
       "        vertical-align: middle;\n",
       "    }\n",
       "\n",
       "    .dataframe tbody tr th {\n",
       "        vertical-align: top;\n",
       "    }\n",
       "\n",
       "    .dataframe thead th {\n",
       "        text-align: right;\n",
       "    }\n",
       "</style>\n",
       "<table border=\"1\" class=\"dataframe\">\n",
       "  <thead>\n",
       "    <tr style=\"text-align: right;\">\n",
       "      <th></th>\n",
       "      <th>user_id</th>\n",
       "      <th>month</th>\n",
       "      <th>duration</th>\n",
       "      <th>mb_used</th>\n",
       "      <th>sms</th>\n",
       "      <th>messages_included</th>\n",
       "      <th>mb_per_month_included</th>\n",
       "      <th>minutes_included</th>\n",
       "      <th>rub_monthly_fee</th>\n",
       "      <th>rub_per_gb</th>\n",
       "      <th>rub_per_message</th>\n",
       "      <th>rub_per_minute</th>\n",
       "      <th>tariff</th>\n",
       "      <th>age</th>\n",
       "      <th>churn_date</th>\n",
       "      <th>city</th>\n",
       "      <th>first_name</th>\n",
       "      <th>last_name</th>\n",
       "      <th>reg_date</th>\n",
       "      <th>gb_used</th>\n",
       "      <th>gb_included</th>\n",
       "      <th>minutes_over</th>\n",
       "      <th>gb_over</th>\n",
       "      <th>sms_over</th>\n",
       "      <th>total_fee</th>\n",
       "    </tr>\n",
       "  </thead>\n",
       "  <tbody>\n",
       "    <tr>\n",
       "      <th>0</th>\n",
       "      <td>1000</td>\n",
       "      <td>5</td>\n",
       "      <td>151</td>\n",
       "      <td>2254</td>\n",
       "      <td>22</td>\n",
       "      <td>1000</td>\n",
       "      <td>30720</td>\n",
       "      <td>3000</td>\n",
       "      <td>1950</td>\n",
       "      <td>150</td>\n",
       "      <td>1</td>\n",
       "      <td>1</td>\n",
       "      <td>ultra</td>\n",
       "      <td>52</td>\n",
       "      <td>NaN</td>\n",
       "      <td>Краснодар</td>\n",
       "      <td>Рафаил</td>\n",
       "      <td>Верещагин</td>\n",
       "      <td>2018-05-25</td>\n",
       "      <td>3</td>\n",
       "      <td>30</td>\n",
       "      <td>0</td>\n",
       "      <td>0</td>\n",
       "      <td>0</td>\n",
       "      <td>1950</td>\n",
       "    </tr>\n",
       "    <tr>\n",
       "      <th>1</th>\n",
       "      <td>1000</td>\n",
       "      <td>6</td>\n",
       "      <td>159</td>\n",
       "      <td>23234</td>\n",
       "      <td>60</td>\n",
       "      <td>1000</td>\n",
       "      <td>30720</td>\n",
       "      <td>3000</td>\n",
       "      <td>1950</td>\n",
       "      <td>150</td>\n",
       "      <td>1</td>\n",
       "      <td>1</td>\n",
       "      <td>ultra</td>\n",
       "      <td>52</td>\n",
       "      <td>NaN</td>\n",
       "      <td>Краснодар</td>\n",
       "      <td>Рафаил</td>\n",
       "      <td>Верещагин</td>\n",
       "      <td>2018-05-25</td>\n",
       "      <td>23</td>\n",
       "      <td>30</td>\n",
       "      <td>0</td>\n",
       "      <td>0</td>\n",
       "      <td>0</td>\n",
       "      <td>1950</td>\n",
       "    </tr>\n",
       "    <tr>\n",
       "      <th>2</th>\n",
       "      <td>1000</td>\n",
       "      <td>7</td>\n",
       "      <td>319</td>\n",
       "      <td>14004</td>\n",
       "      <td>75</td>\n",
       "      <td>1000</td>\n",
       "      <td>30720</td>\n",
       "      <td>3000</td>\n",
       "      <td>1950</td>\n",
       "      <td>150</td>\n",
       "      <td>1</td>\n",
       "      <td>1</td>\n",
       "      <td>ultra</td>\n",
       "      <td>52</td>\n",
       "      <td>NaN</td>\n",
       "      <td>Краснодар</td>\n",
       "      <td>Рафаил</td>\n",
       "      <td>Верещагин</td>\n",
       "      <td>2018-05-25</td>\n",
       "      <td>14</td>\n",
       "      <td>30</td>\n",
       "      <td>0</td>\n",
       "      <td>0</td>\n",
       "      <td>0</td>\n",
       "      <td>1950</td>\n",
       "    </tr>\n",
       "    <tr>\n",
       "      <th>3</th>\n",
       "      <td>1000</td>\n",
       "      <td>8</td>\n",
       "      <td>390</td>\n",
       "      <td>14056</td>\n",
       "      <td>81</td>\n",
       "      <td>1000</td>\n",
       "      <td>30720</td>\n",
       "      <td>3000</td>\n",
       "      <td>1950</td>\n",
       "      <td>150</td>\n",
       "      <td>1</td>\n",
       "      <td>1</td>\n",
       "      <td>ultra</td>\n",
       "      <td>52</td>\n",
       "      <td>NaN</td>\n",
       "      <td>Краснодар</td>\n",
       "      <td>Рафаил</td>\n",
       "      <td>Верещагин</td>\n",
       "      <td>2018-05-25</td>\n",
       "      <td>14</td>\n",
       "      <td>30</td>\n",
       "      <td>0</td>\n",
       "      <td>0</td>\n",
       "      <td>0</td>\n",
       "      <td>1950</td>\n",
       "    </tr>\n",
       "    <tr>\n",
       "      <th>4</th>\n",
       "      <td>1000</td>\n",
       "      <td>9</td>\n",
       "      <td>441</td>\n",
       "      <td>14569</td>\n",
       "      <td>57</td>\n",
       "      <td>1000</td>\n",
       "      <td>30720</td>\n",
       "      <td>3000</td>\n",
       "      <td>1950</td>\n",
       "      <td>150</td>\n",
       "      <td>1</td>\n",
       "      <td>1</td>\n",
       "      <td>ultra</td>\n",
       "      <td>52</td>\n",
       "      <td>NaN</td>\n",
       "      <td>Краснодар</td>\n",
       "      <td>Рафаил</td>\n",
       "      <td>Верещагин</td>\n",
       "      <td>2018-05-25</td>\n",
       "      <td>15</td>\n",
       "      <td>30</td>\n",
       "      <td>0</td>\n",
       "      <td>0</td>\n",
       "      <td>0</td>\n",
       "      <td>1950</td>\n",
       "    </tr>\n",
       "  </tbody>\n",
       "</table>\n",
       "</div>"
      ],
      "text/plain": [
       "   user_id  month  duration  mb_used  sms  messages_included  \\\n",
       "0     1000      5       151     2254   22               1000   \n",
       "1     1000      6       159    23234   60               1000   \n",
       "2     1000      7       319    14004   75               1000   \n",
       "3     1000      8       390    14056   81               1000   \n",
       "4     1000      9       441    14569   57               1000   \n",
       "\n",
       "   mb_per_month_included  minutes_included  rub_monthly_fee  rub_per_gb  \\\n",
       "0                  30720              3000             1950         150   \n",
       "1                  30720              3000             1950         150   \n",
       "2                  30720              3000             1950         150   \n",
       "3                  30720              3000             1950         150   \n",
       "4                  30720              3000             1950         150   \n",
       "\n",
       "   rub_per_message  rub_per_minute tariff  age churn_date       city  \\\n",
       "0                1               1  ultra   52        NaN  Краснодар   \n",
       "1                1               1  ultra   52        NaN  Краснодар   \n",
       "2                1               1  ultra   52        NaN  Краснодар   \n",
       "3                1               1  ultra   52        NaN  Краснодар   \n",
       "4                1               1  ultra   52        NaN  Краснодар   \n",
       "\n",
       "  first_name  last_name   reg_date  gb_used  gb_included  minutes_over  \\\n",
       "0     Рафаил  Верещагин 2018-05-25        3           30             0   \n",
       "1     Рафаил  Верещагин 2018-05-25       23           30             0   \n",
       "2     Рафаил  Верещагин 2018-05-25       14           30             0   \n",
       "3     Рафаил  Верещагин 2018-05-25       14           30             0   \n",
       "4     Рафаил  Верещагин 2018-05-25       15           30             0   \n",
       "\n",
       "   gb_over  sms_over  total_fee  \n",
       "0        0         0       1950  \n",
       "1        0         0       1950  \n",
       "2        0         0       1950  \n",
       "3        0         0       1950  \n",
       "4        0         0       1950  "
      ]
     },
     "metadata": {},
     "output_type": "display_data"
    },
    {
     "name": "stdout",
     "output_type": "stream",
     "text": [
      "<class 'pandas.core.frame.DataFrame'>\n",
      "Int64Index: 3214 entries, 0 to 3213\n",
      "Data columns (total 25 columns):\n",
      " #   Column                 Non-Null Count  Dtype         \n",
      "---  ------                 --------------  -----         \n",
      " 0   user_id                3214 non-null   int64         \n",
      " 1   month                  3214 non-null   int64         \n",
      " 2   duration               3214 non-null   int64         \n",
      " 3   mb_used                3214 non-null   int64         \n",
      " 4   sms                    3214 non-null   int64         \n",
      " 5   messages_included      3214 non-null   int64         \n",
      " 6   mb_per_month_included  3214 non-null   int64         \n",
      " 7   minutes_included       3214 non-null   int64         \n",
      " 8   rub_monthly_fee        3214 non-null   int64         \n",
      " 9   rub_per_gb             3214 non-null   int64         \n",
      " 10  rub_per_message        3214 non-null   int64         \n",
      " 11  rub_per_minute         3214 non-null   int64         \n",
      " 12  tariff                 3214 non-null   object        \n",
      " 13  age                    3214 non-null   int64         \n",
      " 14  churn_date             187 non-null    object        \n",
      " 15  city                   3214 non-null   object        \n",
      " 16  first_name             3214 non-null   object        \n",
      " 17  last_name              3214 non-null   object        \n",
      " 18  reg_date               3214 non-null   datetime64[ns]\n",
      " 19  gb_used                3214 non-null   int64         \n",
      " 20  gb_included            3214 non-null   int64         \n",
      " 21  minutes_over           3214 non-null   int64         \n",
      " 22  gb_over                3214 non-null   int64         \n",
      " 23  sms_over               3214 non-null   int64         \n",
      " 24  total_fee              3214 non-null   int64         \n",
      "dtypes: datetime64[ns](1), int64(19), object(5)\n",
      "memory usage: 652.8+ KB\n"
     ]
    }
   ],
   "source": [
    "pd.options.display.float_format ='{:,.2f}'.format\n",
    "# Считаю минуты сверх тарифа\n",
    "good_data['minutes_over'] = (good_data['duration'] - good_data['minutes_included']) *  good_data['rub_per_minute']\n",
    "# Привожу отрицательные значения к 0\n",
    "good_data.loc[good_data['minutes_over'] < 0, 'minutes_over'] = 0\n",
    "# Считаю гигабайты сверх тарифа\n",
    "good_data['gb_over'] = (good_data['gb_used'] - good_data['gb_included']) *  good_data['rub_per_gb']\n",
    "# Привожу отрицательные значения к 0\n",
    "good_data.loc[good_data['gb_over'] < 0, 'gb_over'] = 0\n",
    "# Считаю сообщения сверх тарифа\n",
    "good_data['sms_over'] = (good_data['sms'] - good_data['messages_included']) *  good_data['rub_per_message']\n",
    "# Привожу отрицательные значения к 0\n",
    "good_data.loc[good_data['sms_over'] < 0, 'sms_over'] = 0\n",
    "# Считаю прибыль \n",
    "good_data['total_fee'] = good_data['minutes_over'] + good_data['gb_over'] + good_data['sms_over'] + good_data['rub_monthly_fee']\n",
    "# Заменяю тип данных на int\n",
    "good_data['gb_used'] = good_data['gb_used'].astype('int')\n",
    "good_data['gb_included'] = good_data['gb_included'].astype('int')\n",
    "good_data['minutes_over'] = good_data['minutes_over'].astype('int')\n",
    "good_data['gb_over'] = good_data['gb_over'].astype('int')\n",
    "good_data['total_fee'] = good_data['total_fee'].astype('int')\n",
    "display(good_data.head())\n",
    "good_data.info()"
   ]
  },
  {
   "cell_type": "markdown",
   "metadata": {},
   "source": [
    "**Вывод**"
   ]
  },
  {
   "cell_type": "markdown",
   "metadata": {},
   "source": [
    "1. Сгруппировал таблицы по id и месяцам, потом объединил всё в одну общую таблицу. Посчитал количество израсходованных минут, количество отправленных сообщений, объем израсходованного интернет-трафика по месяцам.\n",
    "2. В общей таблице были обнаруженны пропущенные значения в столбцах month, duration, sms и mb_used. Строки, где пропущен месяц, в количестве 2 штук удалил, они не подходят для дальнейшего исследования. Остальные пропущенные значения заполнял нулями, потому что пропуск обусловлен тем, что абонент просто не пользовался пакетом услуг. Пропуски в столбце churn_date, потому что абонент пользовался тарифом на момент составления базы или пользуется до сих пор. Их оставил как есть.\n",
    "3. По условиям Мегалайна округлил гигабайты и минуты в большую сторону.\n",
    "4. Изменил формат дат на datetime во всех таблицах. Также поменял формат у следующих колонок: month, sms, duration, mb_used, gb_used, gb_included, minutes_over, gb_over, total_fee. Значения в них целочисленные, поэтому для удобства перевел их в int64. Для изменения формата использовал метод astype(), потому что данный метод лучше подходит для решения этой задачи. Метод to_numeric() превращает значения столбца в числовой тип float64 (вещественное число).\n",
    "5. Дубликатов не обнаружил.     \n",
    "6. Посчитал помесячную выручку с каждого пользователя, результат в столбце total_fee."
   ]
  },
  {
   "cell_type": "code",
   "execution_count": 18,
   "metadata": {},
   "outputs": [
    {
     "data": {
      "text/plain": [
       "(3214, 25)"
      ]
     },
     "execution_count": 18,
     "metadata": {},
     "output_type": "execute_result"
    }
   ],
   "source": [
    "good_data.shape"
   ]
  },
  {
   "cell_type": "code",
   "execution_count": 19,
   "metadata": {},
   "outputs": [
    {
     "data": {
      "text/plain": [
       "498"
      ]
     },
     "execution_count": 19,
     "metadata": {},
     "output_type": "execute_result"
    }
   ],
   "source": [
    "good_data.user_id.nunique()"
   ]
  },
  {
   "cell_type": "code",
   "execution_count": 20,
   "metadata": {
    "scrolled": true
   },
   "outputs": [
    {
     "data": {
      "text/plain": [
       "count   3,214.00\n",
       "mean    1,506.62\n",
       "std       792.80\n",
       "min       550.00\n",
       "25%       742.00\n",
       "50%     1,565.50\n",
       "75%     1,950.00\n",
       "max     6,614.00\n",
       "Name: total_fee, dtype: float64"
      ]
     },
     "execution_count": 20,
     "metadata": {},
     "output_type": "execute_result"
    }
   ],
   "source": [
    "good_data['total_fee'].describe()"
   ]
  },
  {
   "cell_type": "markdown",
   "metadata": {},
   "source": [
    "# 3. Исследовательский анализ данных "
   ]
  },
  {
   "cell_type": "code",
   "execution_count": 21,
   "metadata": {},
   "outputs": [
    {
     "data": {
      "text/html": [
       "<div>\n",
       "<style scoped>\n",
       "    .dataframe tbody tr th:only-of-type {\n",
       "        vertical-align: middle;\n",
       "    }\n",
       "\n",
       "    .dataframe tbody tr th {\n",
       "        vertical-align: top;\n",
       "    }\n",
       "\n",
       "    .dataframe thead tr th {\n",
       "        text-align: left;\n",
       "    }\n",
       "\n",
       "    .dataframe thead tr:last-of-type th {\n",
       "        text-align: right;\n",
       "    }\n",
       "</style>\n",
       "<table border=\"1\" class=\"dataframe\">\n",
       "  <thead>\n",
       "    <tr>\n",
       "      <th></th>\n",
       "      <th colspan=\"3\" halign=\"left\">duration</th>\n",
       "    </tr>\n",
       "    <tr>\n",
       "      <th></th>\n",
       "      <th>mean</th>\n",
       "      <th>var</th>\n",
       "      <th>std</th>\n",
       "    </tr>\n",
       "    <tr>\n",
       "      <th>tariff</th>\n",
       "      <th></th>\n",
       "      <th></th>\n",
       "      <th></th>\n",
       "    </tr>\n",
       "  </thead>\n",
       "  <tbody>\n",
       "    <tr>\n",
       "      <th>smart</th>\n",
       "      <td>394.92</td>\n",
       "      <td>32,392.20</td>\n",
       "      <td>179.98</td>\n",
       "    </tr>\n",
       "    <tr>\n",
       "      <th>ultra</th>\n",
       "      <td>497.55</td>\n",
       "      <td>89,953.68</td>\n",
       "      <td>299.92</td>\n",
       "    </tr>\n",
       "  </tbody>\n",
       "</table>\n",
       "</div>"
      ],
      "text/plain": [
       "       duration                 \n",
       "           mean       var    std\n",
       "tariff                          \n",
       "smart    394.92 32,392.20 179.98\n",
       "ultra    497.55 89,953.68 299.92"
      ]
     },
     "execution_count": 21,
     "metadata": {},
     "output_type": "execute_result"
    }
   ],
   "source": [
    "# Вывел среднее количество, дисперсию и стандартное отклонение по минутам\n",
    "good_data.groupby('tariff').agg({'duration': ['mean', 'var', 'std']})"
   ]
  },
  {
   "cell_type": "code",
   "execution_count": 22,
   "metadata": {
    "scrolled": true
   },
   "outputs": [
    {
     "name": "stdout",
     "output_type": "stream",
     "text": [
      "count     985.00\n",
      "mean      497.55\n",
      "std       299.92\n",
      "min         0.00\n",
      "25%       268.00\n",
      "50%       489.00\n",
      "75%       712.00\n",
      "max     1,579.00\n",
      "Name: duration, dtype: float64\n",
      "AxesSubplot(0.125,0.125;0.775x0.755)\n"
     ]
    },
    {
     "data": {
      "text/plain": [
       "Text(0, 0.5, 'Частота')"
      ]
     },
     "execution_count": 22,
     "metadata": {},
     "output_type": "execute_result"
    },
    {
     "data": {
      "image/png": "[encoded data removed]",
      "text/plain": [
       "<Figure size 864x648 with 1 Axes>"
      ]
     },
     "metadata": {
      "needs_background": "light"
     },
     "output_type": "display_data"
    }
   ],
   "source": [
    "# Сделал срез по тарифу и построил гистограмму по минутам \n",
    "ultra_data = good_data.query('tariff == \"ultra\"')\n",
    "print(ultra_data['duration'].describe())\n",
    "print(ultra_data['duration'].hist(bins=10, range=(0, 1600), figsize=(12,9)))\n",
    "plt.title('Количество израсходованных минут Ultra')\n",
    "plt.xlabel('Минуты')\n",
    "plt.ylabel('Частота')"
   ]
  },
  {
   "cell_type": "markdown",
   "metadata": {},
   "source": [
    "Абоненты тарифа Ultra в основном используют 500-600 минут разговора в месяц. Редко кто пользуется и половиной предложенных минут. Максимальное значение 1579 минут из 3000 возможных. Распределение Пуассона."
   ]
  },
  {
   "cell_type": "code",
   "execution_count": 23,
   "metadata": {},
   "outputs": [
    {
     "name": "stdout",
     "output_type": "stream",
     "text": [
      "count   2,229.00\n",
      "mean      394.92\n",
      "std       179.98\n",
      "min         0.00\n",
      "25%       268.00\n",
      "50%       398.00\n",
      "75%       516.00\n",
      "max     1,355.00\n",
      "Name: duration, dtype: float64\n",
      "AxesSubplot(0.125,0.125;0.775x0.755)\n"
     ]
    },
    {
     "data": {
      "text/plain": [
       "Text(0, 0.5, 'Частота')"
      ]
     },
     "execution_count": 23,
     "metadata": {},
     "output_type": "execute_result"
    },
    {
     "data": {
      "image/png": "[encoded data removed]",
      "text/plain": [
       "<Figure size 864x648 with 1 Axes>"
      ]
     },
     "metadata": {
      "needs_background": "light"
     },
     "output_type": "display_data"
    }
   ],
   "source": [
    "# Сделал срез по тарифу и построил гистограмму по минутам\n",
    "smart_data = good_data.query('tariff == \"smart\"')\n",
    "print(smart_data['duration'].describe())\n",
    "print(smart_data['duration'].hist(bins=10, range=(0, 1600), figsize=(12,9)))\n",
    "plt.title('Количество израсходованных минут Smart')\n",
    "plt.xlabel('Минуты')\n",
    "plt.ylabel('Частота')"
   ]
  },
  {
   "cell_type": "markdown",
   "metadata": {},
   "source": [
    "Абоненты тарифа Smart в основном используют от 200 до 600 минут разговора в месяц, больше всего пользователей у значения 350-450 минут, немало пользователей превышают лимит. Максимальное значение 1355 минут, почти в 3 раза больше предложенных. Нормальное распределение. "
   ]
  },
  {
   "cell_type": "code",
   "execution_count": 24,
   "metadata": {},
   "outputs": [
    {
     "data": {
      "text/html": [
       "<div>\n",
       "<style scoped>\n",
       "    .dataframe tbody tr th:only-of-type {\n",
       "        vertical-align: middle;\n",
       "    }\n",
       "\n",
       "    .dataframe tbody tr th {\n",
       "        vertical-align: top;\n",
       "    }\n",
       "\n",
       "    .dataframe thead tr th {\n",
       "        text-align: left;\n",
       "    }\n",
       "\n",
       "    .dataframe thead tr:last-of-type th {\n",
       "        text-align: right;\n",
       "    }\n",
       "</style>\n",
       "<table border=\"1\" class=\"dataframe\">\n",
       "  <thead>\n",
       "    <tr>\n",
       "      <th></th>\n",
       "      <th colspan=\"3\" halign=\"left\">sms</th>\n",
       "    </tr>\n",
       "    <tr>\n",
       "      <th></th>\n",
       "      <th>mean</th>\n",
       "      <th>var</th>\n",
       "      <th>std</th>\n",
       "    </tr>\n",
       "    <tr>\n",
       "      <th>tariff</th>\n",
       "      <th></th>\n",
       "      <th></th>\n",
       "      <th></th>\n",
       "    </tr>\n",
       "  </thead>\n",
       "  <tbody>\n",
       "    <tr>\n",
       "      <th>smart</th>\n",
       "      <td>33.38</td>\n",
       "      <td>796.81</td>\n",
       "      <td>28.23</td>\n",
       "    </tr>\n",
       "    <tr>\n",
       "      <th>ultra</th>\n",
       "      <td>49.36</td>\n",
       "      <td>2,285.27</td>\n",
       "      <td>47.80</td>\n",
       "    </tr>\n",
       "  </tbody>\n",
       "</table>\n",
       "</div>"
      ],
      "text/plain": [
       "         sms               \n",
       "        mean      var   std\n",
       "tariff                     \n",
       "smart  33.38   796.81 28.23\n",
       "ultra  49.36 2,285.27 47.80"
      ]
     },
     "execution_count": 24,
     "metadata": {},
     "output_type": "execute_result"
    }
   ],
   "source": [
    "# Вывел среднее количество, дисперсию и стандартное отклонение по сообщениям\n",
    "good_data.groupby('tariff').agg({'sms': ['mean', 'var', 'std']})"
   ]
  },
  {
   "cell_type": "code",
   "execution_count": 25,
   "metadata": {
    "scrolled": true
   },
   "outputs": [
    {
     "name": "stdout",
     "output_type": "stream",
     "text": [
      "count   985.00\n",
      "mean     49.36\n",
      "std      47.80\n",
      "min       0.00\n",
      "25%       6.00\n",
      "50%      38.00\n",
      "75%      79.00\n",
      "max     224.00\n",
      "Name: sms, dtype: float64\n",
      "AxesSubplot(0.125,0.125;0.775x0.755)\n"
     ]
    },
    {
     "data": {
      "text/plain": [
       "Text(0, 0.5, 'Частота')"
      ]
     },
     "execution_count": 25,
     "metadata": {},
     "output_type": "execute_result"
    },
    {
     "data": {
      "image/png": "[encoded data removed]",
      "text/plain": [
       "<Figure size 864x648 with 1 Axes>"
      ]
     },
     "metadata": {
      "needs_background": "light"
     },
     "output_type": "display_data"
    }
   ],
   "source": [
    "# Построил гистограмму по сообщениям\n",
    "print(ultra_data['sms'].describe())\n",
    "print(ultra_data['sms'].hist(bins=10, range=(0, 400), figsize=(12,9)))\n",
    "plt.title('Количество отправленных сообщений Ultra')\n",
    "plt.xlabel('Сообщения')\n",
    "plt.ylabel('Частота')"
   ]
  },
  {
   "cell_type": "markdown",
   "metadata": {},
   "source": [
    "Абонентам тарифа Ultra в основном нужно до 40 сообщений в месяц. Максимальное значение 224 сообщений из 1000 возможных. Распределение Пуассона. "
   ]
  },
  {
   "cell_type": "code",
   "execution_count": 26,
   "metadata": {
    "scrolled": true
   },
   "outputs": [
    {
     "name": "stdout",
     "output_type": "stream",
     "text": [
      "count   2,229.00\n",
      "mean       33.38\n",
      "std        28.23\n",
      "min         0.00\n",
      "25%        10.00\n",
      "50%        28.00\n",
      "75%        51.00\n",
      "max       143.00\n",
      "Name: sms, dtype: float64\n",
      "AxesSubplot(0.125,0.125;0.775x0.755)\n"
     ]
    },
    {
     "data": {
      "text/plain": [
       "Text(0, 0.5, 'Частота')"
      ]
     },
     "execution_count": 26,
     "metadata": {},
     "output_type": "execute_result"
    },
    {
     "data": {
      "image/png": "[encoded data removed]",
      "text/plain": [
       "<Figure size 864x648 with 1 Axes>"
      ]
     },
     "metadata": {
      "needs_background": "light"
     },
     "output_type": "display_data"
    }
   ],
   "source": [
    "# Построил гистограмму по сообщениям\n",
    "print(smart_data['sms'].describe())\n",
    "print(smart_data['sms'].hist(bins=10, range=(0, 400), figsize=(12,9)))\n",
    "plt.title('Количество отправленных сообщений Smart')\n",
    "plt.xlabel('Сообщения')\n",
    "plt.ylabel('Частота')"
   ]
  },
  {
   "cell_type": "markdown",
   "metadata": {},
   "source": [
    "Абоненты тарифа Smart в основном укладываются в 50 сообщений в месяц, им требуется около 40 сообщений в месяц, 25% выборки превышают лимит. Максимальное значение 143 сообщения. Распределение Пуассона."
   ]
  },
  {
   "cell_type": "code",
   "execution_count": 27,
   "metadata": {},
   "outputs": [
    {
     "data": {
      "text/html": [
       "<div>\n",
       "<style scoped>\n",
       "    .dataframe tbody tr th:only-of-type {\n",
       "        vertical-align: middle;\n",
       "    }\n",
       "\n",
       "    .dataframe tbody tr th {\n",
       "        vertical-align: top;\n",
       "    }\n",
       "\n",
       "    .dataframe thead tr th {\n",
       "        text-align: left;\n",
       "    }\n",
       "\n",
       "    .dataframe thead tr:last-of-type th {\n",
       "        text-align: right;\n",
       "    }\n",
       "</style>\n",
       "<table border=\"1\" class=\"dataframe\">\n",
       "  <thead>\n",
       "    <tr>\n",
       "      <th></th>\n",
       "      <th colspan=\"3\" halign=\"left\">gb_used</th>\n",
       "    </tr>\n",
       "    <tr>\n",
       "      <th></th>\n",
       "      <th>mean</th>\n",
       "      <th>var</th>\n",
       "      <th>std</th>\n",
       "    </tr>\n",
       "    <tr>\n",
       "      <th>tariff</th>\n",
       "      <th></th>\n",
       "      <th></th>\n",
       "      <th></th>\n",
       "    </tr>\n",
       "  </thead>\n",
       "  <tbody>\n",
       "    <tr>\n",
       "      <th>smart</th>\n",
       "      <td>16.33</td>\n",
       "      <td>33.00</td>\n",
       "      <td>5.74</td>\n",
       "    </tr>\n",
       "    <tr>\n",
       "      <th>ultra</th>\n",
       "      <td>19.51</td>\n",
       "      <td>96.67</td>\n",
       "      <td>9.83</td>\n",
       "    </tr>\n",
       "  </tbody>\n",
       "</table>\n",
       "</div>"
      ],
      "text/plain": [
       "       gb_used           \n",
       "          mean   var  std\n",
       "tariff                   \n",
       "smart    16.33 33.00 5.74\n",
       "ultra    19.51 96.67 9.83"
      ]
     },
     "execution_count": 27,
     "metadata": {},
     "output_type": "execute_result"
    }
   ],
   "source": [
    "# Вывел среднее количество, дисперсию и стандартное отклонение по гигабайтам\n",
    "good_data.groupby('tariff').agg({'gb_used': ['mean', 'var', 'std']})"
   ]
  },
  {
   "cell_type": "code",
   "execution_count": 28,
   "metadata": {},
   "outputs": [
    {
     "name": "stdout",
     "output_type": "stream",
     "text": [
      "count   985.00\n",
      "mean     19.51\n",
      "std       9.83\n",
      "min       1.00\n",
      "25%      12.00\n",
      "50%      19.00\n",
      "75%      27.00\n",
      "max      49.00\n",
      "Name: gb_used, dtype: float64\n",
      "AxesSubplot(0.125,0.125;0.775x0.755)\n"
     ]
    },
    {
     "data": {
      "text/plain": [
       "Text(0, 0.5, 'Частота')"
      ]
     },
     "execution_count": 28,
     "metadata": {},
     "output_type": "execute_result"
    },
    {
     "data": {
      "image/png": "[encoded data removed]",
      "text/plain": [
       "<Figure size 864x648 with 1 Axes>"
      ]
     },
     "metadata": {
      "needs_background": "light"
     },
     "output_type": "display_data"
    }
   ],
   "source": [
    "# Построил гистограмму по гигабайтам\n",
    "print(ultra_data['gb_used'].describe())\n",
    "print(ultra_data['gb_used'].hist(bins=10, range=(0, 100), figsize=(12,9)))\n",
    "plt.title('Объем израсходованного интернет-трафика Ultra')\n",
    "plt.xlabel('Гигабайты')\n",
    "plt.ylabel('Частота')"
   ]
  },
  {
   "cell_type": "markdown",
   "metadata": {},
   "source": [
    "Абонентам тарифа Ultra нужно 10-30 Гб интернет-трафика. Около 25% выборки превышают лимит по интернету, в отличие от минут и сообщений. Максимальное значение 49 Гб. Распределение Пуассона.  "
   ]
  },
  {
   "cell_type": "code",
   "execution_count": 29,
   "metadata": {},
   "outputs": [
    {
     "name": "stdout",
     "output_type": "stream",
     "text": [
      "count   2,229.00\n",
      "mean       16.33\n",
      "std         5.74\n",
      "min         1.00\n",
      "25%        13.00\n",
      "50%        17.00\n",
      "75%        20.00\n",
      "max        38.00\n",
      "Name: gb_used, dtype: float64\n",
      "AxesSubplot(0.125,0.125;0.775x0.755)\n"
     ]
    },
    {
     "data": {
      "text/plain": [
       "Text(0, 0.5, 'Частота')"
      ]
     },
     "execution_count": 29,
     "metadata": {},
     "output_type": "execute_result"
    },
    {
     "data": {
      "image/png": "[encoded data removed]",
      "text/plain": [
       "<Figure size 864x648 with 1 Axes>"
      ]
     },
     "metadata": {
      "needs_background": "light"
     },
     "output_type": "display_data"
    }
   ],
   "source": [
    "# Построил гистограмму по гигабайтам\n",
    "print(smart_data['gb_used'].describe())\n",
    "print(smart_data['gb_used'].hist(bins=10, range=(0, 100), figsize=(12,9)))\n",
    "plt.title('Объем израсходованного интернет-трафика Smart')\n",
    "plt.xlabel('Гигабайты')\n",
    "plt.ylabel('Частота')"
   ]
  },
  {
   "cell_type": "markdown",
   "metadata": {},
   "source": [
    "Абоненты тарифа Smart в основном используют от 15 до 20 Гб интернет-трафика, часто пользователи выходят за предложенный лимит. Максимальное значение 38 Гб. Распределение Пуассона."
   ]
  },
  {
   "cell_type": "markdown",
   "metadata": {},
   "source": [
    "**Вывод**"
   ]
  },
  {
   "cell_type": "markdown",
   "metadata": {},
   "source": [
    "Абоненты тарифа ультра в целом укладываются в предложенный пакет услуг. Дополнительные траты вызывает только интернет трафик. У пользователей тарифа смарт много дополнительных расходов, они чаще выходят за лимиты по всем предложенным услугам, больше всего по интернет-трафику.   "
   ]
  },
  {
   "cell_type": "markdown",
   "metadata": {},
   "source": [
    "# 4. Проверка гипотез "
   ]
  },
  {
   "cell_type": "code",
   "execution_count": 30,
   "metadata": {},
   "outputs": [
    {
     "name": "stdout",
     "output_type": "stream",
     "text": [
      "count     985.00\n",
      "mean    2,070.15\n",
      "std       376.19\n",
      "min     1,950.00\n",
      "25%     1,950.00\n",
      "50%     1,950.00\n",
      "75%     1,950.00\n",
      "max     4,800.00\n",
      "Name: total_fee, dtype: float64\n",
      "AxesSubplot(0.125,0.125;0.775x0.755)\n"
     ]
    },
    {
     "data": {
      "text/plain": [
       "Text(0, 0.5, 'Частота')"
      ]
     },
     "execution_count": 30,
     "metadata": {},
     "output_type": "execute_result"
    },
    {
     "data": {
      "image/png": "[encoded data removed]",
      "text/plain": [
       "<Figure size 864x648 with 1 Axes>"
      ]
     },
     "metadata": {
      "needs_background": "light"
     },
     "output_type": "display_data"
    }
   ],
   "source": [
    "# Построил гистограмму по выручке\n",
    "print(ultra_data['total_fee'].describe())\n",
    "print(ultra_data['total_fee'].hist(bins=10, range=(0, 5000), figsize=(12,9)))\n",
    "plt.title('Помесячная выручка с каждого пользователя Ultra')\n",
    "plt.xlabel('Деньги')\n",
    "plt.ylabel('Частота')"
   ]
  },
  {
   "cell_type": "code",
   "execution_count": 31,
   "metadata": {},
   "outputs": [
    {
     "name": "stdout",
     "output_type": "stream",
     "text": [
      "count   2,229.00\n",
      "mean    1,257.59\n",
      "std       800.92\n",
      "min       550.00\n",
      "25%       550.00\n",
      "50%       962.00\n",
      "75%     1,733.00\n",
      "max     6,614.00\n",
      "Name: total_fee, dtype: float64\n",
      "AxesSubplot(0.125,0.125;0.775x0.755)\n"
     ]
    },
    {
     "data": {
      "text/plain": [
       "Text(0, 0.5, 'Частота')"
      ]
     },
     "execution_count": 31,
     "metadata": {},
     "output_type": "execute_result"
    },
    {
     "data": {
      "image/png": "[encoded data removed]",
      "text/plain": [
       "<Figure size 864x648 with 1 Axes>"
      ]
     },
     "metadata": {
      "needs_background": "light"
     },
     "output_type": "display_data"
    }
   ],
   "source": [
    "# Построил гистограмму по выручке\n",
    "print(smart_data['total_fee'].describe())\n",
    "print(smart_data['total_fee'].hist(bins=10, range=(0, 5000), figsize=(12,9)))\n",
    "plt.title('Помесячная выручка с каждого пользователя Smart')\n",
    "plt.xlabel('Деньги')\n",
    "plt.ylabel('Частота')"
   ]
  },
  {
   "cell_type": "markdown",
   "metadata": {},
   "source": [
    "Формулировка гипотез:\n",
    "    \n",
    "1. Нулевая гипотеза – Средняя выручка пользователей тарифов «Ультра» и «Смарт» не различаются, параметры равны.\n",
    "Альтернативная гипотеза – Средняя выручка пользователей тарифов «Ультра» и «Смарт» различаются, параметры не равны.\n",
    "    \n",
    "2. Нулевая гипотеза - Средняя выручка пользователей из Москвы не отличается от выручки пользователей из других регионов, параметры равны. \n",
    "Альтернативная гипотеза - Средняя выручка пользователей из Москвы отличается от выручки пользователей из других регионов, параметры не равны.\n",
    "    \n",
    "H₀ всегда формулируется так, чтобы использовать знак равенства."
   ]
  },
  {
   "cell_type": "code",
   "execution_count": 32,
   "metadata": {},
   "outputs": [
    {
     "name": "stdout",
     "output_type": "stream",
     "text": [
      "p-значение:  1.513773301175091e-178\n",
      "Отвергаем нулевую гипотезу\n"
     ]
    }
   ],
   "source": [
    "# Проверка гипотезы\n",
    "ultra_fee = good_data[good_data['tariff'] == 'ultra']['total_fee']\n",
    "smart_fee = good_data[good_data['tariff'] == 'smart']['total_fee']\n",
    "\n",
    "alpha = 0.05\n",
    "results = st.ttest_ind(ultra_fee, smart_fee) \n",
    "print('p-значение: ', results.pvalue)\n",
    "\n",
    "if results.pvalue < alpha: \n",
    "    print(\"Отвергаем нулевую гипотезу\")\n",
    "else:\n",
    "    print(\"Не получилось отвергнуть нулевую гипотезу\")"
   ]
  },
  {
   "cell_type": "markdown",
   "metadata": {},
   "source": [
    "Помесячная выручка с каждого пользователя у двух тарифов разная."
   ]
  },
  {
   "cell_type": "code",
   "execution_count": 33,
   "metadata": {},
   "outputs": [
    {
     "name": "stdout",
     "output_type": "stream",
     "text": [
      "count     611.00\n",
      "mean    1,526.84\n",
      "std       750.22\n",
      "min       550.00\n",
      "25%       750.00\n",
      "50%     1,750.00\n",
      "75%     1,950.00\n",
      "max     5,186.00\n",
      "Name: total_fee, dtype: float64\n",
      "AxesSubplot(0.125,0.125;0.775x0.755)\n"
     ]
    },
    {
     "data": {
      "text/plain": [
       "Text(0, 0.5, 'Частота')"
      ]
     },
     "execution_count": 33,
     "metadata": {},
     "output_type": "execute_result"
    },
    {
     "data": {
      "image/png": "[encoded data removed]",
      "text/plain": [
       "<Figure size 864x648 with 1 Axes>"
      ]
     },
     "metadata": {
      "needs_background": "light"
     },
     "output_type": "display_data"
    }
   ],
   "source": [
    "# Сделал срез и построил гистограмму по выручке в Москве\n",
    "moscow_data = good_data.query('city == \"Москва\"')\n",
    "print(moscow_data['total_fee'].describe())\n",
    "print(moscow_data['total_fee'].hist(bins=10, range=(0, 5000), figsize=(12,9)))\n",
    "plt.title('Помесячная выручка с каждого пользователя по Москве')\n",
    "plt.xlabel('Деньги')\n",
    "plt.ylabel('Частота')"
   ]
  },
  {
   "cell_type": "code",
   "execution_count": 34,
   "metadata": {},
   "outputs": [
    {
     "name": "stdout",
     "output_type": "stream",
     "text": [
      "count   2,603.00\n",
      "mean    1,501.87\n",
      "std       802.53\n",
      "min       550.00\n",
      "25%       716.50\n",
      "50%     1,550.00\n",
      "75%     1,950.00\n",
      "max     6,614.00\n",
      "Name: total_fee, dtype: float64\n",
      "AxesSubplot(0.125,0.125;0.775x0.755)\n"
     ]
    },
    {
     "data": {
      "text/plain": [
       "Text(0, 0.5, 'Частота')"
      ]
     },
     "execution_count": 34,
     "metadata": {},
     "output_type": "execute_result"
    },
    {
     "data": {
      "image/png": "[encoded data removed]",
      "text/plain": [
       "<Figure size 864x648 with 1 Axes>"
      ]
     },
     "metadata": {
      "needs_background": "light"
     },
     "output_type": "display_data"
    }
   ],
   "source": [
    "# Сделал срез и построил гистограмму по выручке в других городах\n",
    "other_data = good_data.query('city != \"Москва\"')\n",
    "print(other_data['total_fee'].describe())\n",
    "print(other_data['total_fee'].hist(bins=10, range=(0, 5000), figsize=(12,9)))\n",
    "plt.title('Помесячная выручка с каждого пользователя по другим городам')\n",
    "plt.xlabel('Деньги')\n",
    "plt.ylabel('Частота')"
   ]
  },
  {
   "cell_type": "code",
   "execution_count": 35,
   "metadata": {},
   "outputs": [
    {
     "name": "stdout",
     "output_type": "stream",
     "text": [
      "p-значение:  0.4836504757759247\n",
      "Не получилось отвергнуть нулевую гипотезу\n"
     ]
    }
   ],
   "source": [
    "# Проверка гипотезы\n",
    "moscow_fee = good_data[good_data['city'] == 'Москва']['total_fee']\n",
    "other_fee = good_data[good_data['city'] != 'Москва']['total_fee']\n",
    "\n",
    "alpha = 0.05\n",
    "results = st.ttest_ind(moscow_fee, other_fee) \n",
    "print('p-значение: ', results.pvalue)\n",
    "\n",
    "if results.pvalue < alpha: \n",
    "    print(\"Отвергаем нулевую гипотезу\")\n",
    "else:\n",
    "    print(\"Не получилось отвергнуть нулевую гипотезу\")"
   ]
  },
  {
   "cell_type": "markdown",
   "metadata": {},
   "source": [
    "Помесячная выручка с каждого пользователя для Москвы и других городов приблизительно одинакова. Параметры равны. "
   ]
  },
  {
   "cell_type": "markdown",
   "metadata": {},
   "source": [
    "**Вывод**"
   ]
  },
  {
   "cell_type": "markdown",
   "metadata": {},
   "source": [
    "1) Средняя выручка пользователей тарифов «Ультра» и «Смарт» различаются. Формируем двустороннюю гипотезу:\n",
    "\n",
    "H₀ (нулевая гипотеза) - нет, разницы нет, параметры равны.\n",
    "Альтернативная гипотеза H₁ - разница есть, параметры не равны.\n",
    "Исходя из p-значения, нулевая гипотеза была отвергнута. Средняя выручка у двух тарифов различается. У тарифа Ultra выручка больше. Smart - 1257, Ultra - 2070.\n",
    "\n",
    "2) Средняя выручка пользователей из Москвы отличается от выручки пользователей из других регионов. Формируем двустороннюю гипотезу:\n",
    "\n",
    "H₀ (нулевая гипотеза) - нет, разницы нет, параметры равны.\n",
    "Альтернативная гипотеза H₁ - разница есть, параметры не равны.\n",
    "Исходя из p-значения, не получилось отвергнуть нулевую гипотезу. Средняя выручка по Москве и другим городам приблизительно одинакова. По Москве 1526, остальные 1501. Разница в 25 рублей. "
   ]
  },
  {
   "cell_type": "markdown",
   "metadata": {},
   "source": [
    "# 5. Общий вывод "
   ]
  },
  {
   "cell_type": "markdown",
   "metadata": {},
   "source": [
    "По данным компании «Мегалайн» — федерального оператора сотовой связи, можно сделать несколько выводов:\n",
    "\n",
    "1. Средняя выручка тарифа Ultra больше, чем у тарифа Smart. Абоненты тарифа ультра в целом укладываются в предложенный пакет услуг. Дополнительные траты вызывает только интернет трафик, минуты расходуются на половину, сообщения еще меньше. У пользователей тарифа смарт много дополнительных расходов, они чаще выходят за лимиты по всем предложенным услугам, больше всего по интернет-трафику. Средняя выручка Ultra - 2070 рублей, средняя выручка Smart - 1257 рублей.   \n",
    "\n",
    "2. Средняя выручка пользователей из Москвы почти не отличается от выручки пользователей из других регионов. По Москве 1526 рублей, по другим городам 1501 рубль."
   ]
  }
 ],
 "metadata": {
  "ExecuteTimeLog": [
   {
    "duration": 1280,
    "start_time": "2021-12-23T19:38:14.679Z"
   },
   {
    "duration": 227,
    "start_time": "2021-12-23T19:39:08.373Z"
   },
   {
    "duration": 161,
    "start_time": "2021-12-23T19:40:08.156Z"
   },
   {
    "duration": 32,
    "start_time": "2021-12-23T19:41:03.923Z"
   },
   {
    "duration": 63,
    "start_time": "2021-12-23T19:42:05.441Z"
   },
   {
    "duration": 172,
    "start_time": "2021-12-23T19:54:40.419Z"
   },
   {
    "duration": 282,
    "start_time": "2021-12-23T19:55:53.145Z"
   },
   {
    "duration": 1138,
    "start_time": "2021-12-23T19:55:56.377Z"
   },
   {
    "duration": 182,
    "start_time": "2021-12-23T19:56:00.073Z"
   },
   {
    "duration": 38,
    "start_time": "2021-12-23T19:56:02.930Z"
   },
   {
    "duration": 33,
    "start_time": "2021-12-23T19:56:10.345Z"
   },
   {
    "duration": 81,
    "start_time": "2021-12-23T19:56:12.721Z"
   },
   {
    "duration": 272,
    "start_time": "2021-12-23T20:00:43.026Z"
   },
   {
    "duration": 242,
    "start_time": "2021-12-23T20:00:47.290Z"
   },
   {
    "duration": 161,
    "start_time": "2021-12-23T20:00:54.913Z"
   },
   {
    "duration": 64,
    "start_time": "2021-12-23T20:00:59.881Z"
   },
   {
    "duration": 476,
    "start_time": "2021-12-23T21:14:09.364Z"
   },
   {
    "duration": 56,
    "start_time": "2021-12-23T21:14:30.772Z"
   },
   {
    "duration": 46,
    "start_time": "2021-12-23T21:17:10.150Z"
   },
   {
    "duration": 52,
    "start_time": "2021-12-23T21:17:19.871Z"
   },
   {
    "duration": 74,
    "start_time": "2021-12-23T21:17:37.255Z"
   },
   {
    "duration": 229,
    "start_time": "2021-12-23T21:20:31.898Z"
   },
   {
    "duration": 229,
    "start_time": "2021-12-23T21:21:17.488Z"
   },
   {
    "duration": 88,
    "start_time": "2021-12-23T21:23:53.995Z"
   },
   {
    "duration": 436,
    "start_time": "2021-12-23T21:25:33.441Z"
   },
   {
    "duration": 127,
    "start_time": "2021-12-23T21:25:46.257Z"
   },
   {
    "duration": 506,
    "start_time": "2021-12-23T21:26:02.312Z"
   },
   {
    "duration": 484,
    "start_time": "2021-12-23T21:36:30.613Z"
   },
   {
    "duration": 1280,
    "start_time": "2021-12-23T21:36:50.629Z"
   },
   {
    "duration": 211,
    "start_time": "2021-12-23T21:36:51.912Z"
   },
   {
    "duration": 166,
    "start_time": "2021-12-23T21:36:52.127Z"
   },
   {
    "duration": 34,
    "start_time": "2021-12-23T21:36:52.296Z"
   },
   {
    "duration": 51,
    "start_time": "2021-12-23T21:36:52.332Z"
   },
   {
    "duration": 121,
    "start_time": "2021-12-23T21:36:52.386Z"
   },
   {
    "duration": 102,
    "start_time": "2021-12-23T21:36:52.510Z"
   },
   {
    "duration": 696,
    "start_time": "2021-12-23T21:36:52.616Z"
   },
   {
    "duration": 622,
    "start_time": "2021-12-23T21:37:38.510Z"
   },
   {
    "duration": 92,
    "start_time": "2021-12-23T21:38:05.989Z"
   },
   {
    "duration": 174,
    "start_time": "2021-12-23T21:38:53.388Z"
   },
   {
    "duration": 147,
    "start_time": "2021-12-23T21:39:28.262Z"
   },
   {
    "duration": 86,
    "start_time": "2021-12-23T21:42:04.944Z"
   },
   {
    "duration": 132,
    "start_time": "2021-12-23T21:48:53.434Z"
   },
   {
    "duration": 509,
    "start_time": "2021-12-23T21:49:12.321Z"
   },
   {
    "duration": 2227,
    "start_time": "2021-12-23T21:55:00.882Z"
   },
   {
    "duration": 2278,
    "start_time": "2021-12-23T21:55:25.470Z"
   },
   {
    "duration": 369,
    "start_time": "2021-12-23T21:59:23.434Z"
   },
   {
    "duration": 434,
    "start_time": "2021-12-23T22:02:28.877Z"
   },
   {
    "duration": 1274,
    "start_time": "2021-12-23T22:03:24.185Z"
   },
   {
    "duration": 201,
    "start_time": "2021-12-23T22:03:25.462Z"
   },
   {
    "duration": 137,
    "start_time": "2021-12-23T22:03:25.667Z"
   },
   {
    "duration": 32,
    "start_time": "2021-12-23T22:03:25.807Z"
   },
   {
    "duration": 47,
    "start_time": "2021-12-23T22:03:25.841Z"
   },
   {
    "duration": 109,
    "start_time": "2021-12-23T22:03:25.891Z"
   },
   {
    "duration": 106,
    "start_time": "2021-12-23T22:03:26.003Z"
   },
   {
    "duration": 104,
    "start_time": "2021-12-23T22:03:26.112Z"
   },
   {
    "duration": 428,
    "start_time": "2021-12-23T22:03:37.069Z"
   },
   {
    "duration": 410,
    "start_time": "2021-12-23T22:04:17.099Z"
   },
   {
    "duration": 1120,
    "start_time": "2021-12-23T22:04:23.056Z"
   },
   {
    "duration": 191,
    "start_time": "2021-12-23T22:04:26.474Z"
   },
   {
    "duration": 139,
    "start_time": "2021-12-23T22:04:28.553Z"
   },
   {
    "duration": 36,
    "start_time": "2021-12-23T22:04:30.284Z"
   },
   {
    "duration": 47,
    "start_time": "2021-12-23T22:04:32.563Z"
   },
   {
    "duration": 105,
    "start_time": "2021-12-23T22:04:35.859Z"
   },
   {
    "duration": 90,
    "start_time": "2021-12-23T22:04:39.065Z"
   },
   {
    "duration": 83,
    "start_time": "2021-12-23T22:04:40.890Z"
   },
   {
    "duration": 477,
    "start_time": "2021-12-23T22:04:54.611Z"
   },
   {
    "duration": 450,
    "start_time": "2021-12-23T22:05:06.553Z"
   },
   {
    "duration": 1139,
    "start_time": "2021-12-23T22:05:16.842Z"
   },
   {
    "duration": 196,
    "start_time": "2021-12-23T22:05:17.983Z"
   },
   {
    "duration": 139,
    "start_time": "2021-12-23T22:05:18.183Z"
   },
   {
    "duration": 38,
    "start_time": "2021-12-23T22:05:18.326Z"
   },
   {
    "duration": 47,
    "start_time": "2021-12-23T22:05:18.366Z"
   },
   {
    "duration": 106,
    "start_time": "2021-12-23T22:05:18.416Z"
   },
   {
    "duration": 96,
    "start_time": "2021-12-23T22:05:18.524Z"
   },
   {
    "duration": 97,
    "start_time": "2021-12-23T22:05:18.623Z"
   },
   {
    "duration": 1318,
    "start_time": "2021-12-23T22:05:34.134Z"
   },
   {
    "duration": 218,
    "start_time": "2021-12-23T22:05:37.054Z"
   },
   {
    "duration": 136,
    "start_time": "2021-12-23T22:05:38.746Z"
   },
   {
    "duration": 45,
    "start_time": "2021-12-23T22:05:40.364Z"
   },
   {
    "duration": 60,
    "start_time": "2021-12-23T22:05:42.142Z"
   },
   {
    "duration": 110,
    "start_time": "2021-12-23T22:05:44.865Z"
   },
   {
    "duration": 92,
    "start_time": "2021-12-23T22:05:46.816Z"
   },
   {
    "duration": 82,
    "start_time": "2021-12-23T22:05:49.055Z"
   },
   {
    "duration": 1175,
    "start_time": "2021-12-23T22:06:41.923Z"
   },
   {
    "duration": 205,
    "start_time": "2021-12-23T22:06:43.101Z"
   },
   {
    "duration": 151,
    "start_time": "2021-12-23T22:06:43.312Z"
   },
   {
    "duration": 35,
    "start_time": "2021-12-23T22:06:43.465Z"
   },
   {
    "duration": 47,
    "start_time": "2021-12-23T22:06:43.502Z"
   },
   {
    "duration": 109,
    "start_time": "2021-12-23T22:06:43.552Z"
   },
   {
    "duration": 105,
    "start_time": "2021-12-23T22:06:43.665Z"
   },
   {
    "duration": 99,
    "start_time": "2021-12-23T22:06:43.772Z"
   },
   {
    "duration": 10,
    "start_time": "2021-12-23T22:06:43.874Z"
   },
   {
    "duration": 2134,
    "start_time": "2021-12-23T22:06:43.886Z"
   },
   {
    "duration": 480,
    "start_time": "2021-12-24T01:06:47.395Z"
   },
   {
    "duration": 886,
    "start_time": "2021-12-24T17:27:08.578Z"
   },
   {
    "duration": 152,
    "start_time": "2021-12-24T17:27:09.466Z"
   },
   {
    "duration": 108,
    "start_time": "2021-12-24T17:27:09.620Z"
   },
   {
    "duration": 33,
    "start_time": "2021-12-24T17:27:09.731Z"
   },
   {
    "duration": 39,
    "start_time": "2021-12-24T17:27:09.766Z"
   },
   {
    "duration": 71,
    "start_time": "2021-12-24T17:27:09.806Z"
   },
   {
    "duration": 59,
    "start_time": "2021-12-24T17:27:09.878Z"
   },
   {
    "duration": 72,
    "start_time": "2021-12-24T17:27:09.939Z"
   },
   {
    "duration": 316,
    "start_time": "2021-12-24T17:27:38.416Z"
   },
   {
    "duration": 834,
    "start_time": "2021-12-24T17:27:44.053Z"
   },
   {
    "duration": 152,
    "start_time": "2021-12-24T17:27:46.022Z"
   },
   {
    "duration": 100,
    "start_time": "2021-12-24T17:27:47.413Z"
   },
   {
    "duration": 28,
    "start_time": "2021-12-24T17:27:48.868Z"
   },
   {
    "duration": 38,
    "start_time": "2021-12-24T17:27:50.290Z"
   },
   {
    "duration": 72,
    "start_time": "2021-12-24T17:27:52.837Z"
   },
   {
    "duration": 59,
    "start_time": "2021-12-24T17:27:55.659Z"
   },
   {
    "duration": 55,
    "start_time": "2021-12-24T17:27:58.075Z"
   },
   {
    "duration": 326,
    "start_time": "2021-12-24T17:28:28.526Z"
   },
   {
    "duration": 974,
    "start_time": "2021-12-24T17:28:34.412Z"
   },
   {
    "duration": 147,
    "start_time": "2021-12-24T17:28:35.388Z"
   },
   {
    "duration": 101,
    "start_time": "2021-12-24T17:28:35.537Z"
   },
   {
    "duration": 27,
    "start_time": "2021-12-24T17:28:35.640Z"
   },
   {
    "duration": 38,
    "start_time": "2021-12-24T17:28:35.669Z"
   },
   {
    "duration": 78,
    "start_time": "2021-12-24T17:28:35.709Z"
   },
   {
    "duration": 76,
    "start_time": "2021-12-24T17:28:35.789Z"
   },
   {
    "duration": 56,
    "start_time": "2021-12-24T17:28:35.867Z"
   },
   {
    "duration": 6,
    "start_time": "2021-12-24T17:28:35.925Z"
   },
   {
    "duration": 1442,
    "start_time": "2021-12-24T17:28:56.074Z"
   },
   {
    "duration": 327,
    "start_time": "2021-12-24T17:29:23.788Z"
   },
   {
    "duration": 871,
    "start_time": "2021-12-24T17:29:30.448Z"
   },
   {
    "duration": 146,
    "start_time": "2021-12-24T17:29:31.321Z"
   },
   {
    "duration": 103,
    "start_time": "2021-12-24T17:29:31.471Z"
   },
   {
    "duration": 26,
    "start_time": "2021-12-24T17:29:31.575Z"
   },
   {
    "duration": 42,
    "start_time": "2021-12-24T17:29:31.603Z"
   },
   {
    "duration": 95,
    "start_time": "2021-12-24T17:29:31.647Z"
   },
   {
    "duration": 87,
    "start_time": "2021-12-24T17:29:31.745Z"
   },
   {
    "duration": 80,
    "start_time": "2021-12-24T17:29:31.834Z"
   },
   {
    "duration": 8,
    "start_time": "2021-12-24T17:29:31.916Z"
   },
   {
    "duration": 1468,
    "start_time": "2021-12-24T17:29:31.926Z"
   },
   {
    "duration": 859,
    "start_time": "2021-12-24T17:31:46.541Z"
   },
   {
    "duration": 150,
    "start_time": "2021-12-24T17:31:47.403Z"
   },
   {
    "duration": 103,
    "start_time": "2021-12-24T17:31:47.560Z"
   },
   {
    "duration": 25,
    "start_time": "2021-12-24T17:31:47.665Z"
   },
   {
    "duration": 36,
    "start_time": "2021-12-24T17:31:47.691Z"
   },
   {
    "duration": 67,
    "start_time": "2021-12-24T17:31:47.729Z"
   },
   {
    "duration": 64,
    "start_time": "2021-12-24T17:31:47.798Z"
   },
   {
    "duration": 54,
    "start_time": "2021-12-24T17:31:47.864Z"
   },
   {
    "duration": 6,
    "start_time": "2021-12-24T17:31:47.920Z"
   },
   {
    "duration": 1527,
    "start_time": "2021-12-24T17:31:47.927Z"
   },
   {
    "duration": 1432,
    "start_time": "2021-12-24T17:32:54.094Z"
   },
   {
    "duration": 148,
    "start_time": "2021-12-24T17:32:55.528Z"
   },
   {
    "duration": 99,
    "start_time": "2021-12-24T17:32:55.678Z"
   },
   {
    "duration": 26,
    "start_time": "2021-12-24T17:32:55.779Z"
   },
   {
    "duration": 38,
    "start_time": "2021-12-24T17:32:55.807Z"
   },
   {
    "duration": 72,
    "start_time": "2021-12-24T17:32:55.846Z"
   },
   {
    "duration": 67,
    "start_time": "2021-12-24T17:32:55.920Z"
   },
   {
    "duration": 55,
    "start_time": "2021-12-24T17:32:55.990Z"
   },
   {
    "duration": 19,
    "start_time": "2021-12-24T17:32:56.047Z"
   },
   {
    "duration": 1439,
    "start_time": "2021-12-24T17:32:56.068Z"
   },
   {
    "duration": 279,
    "start_time": "2021-12-24T17:37:17.997Z"
   },
   {
    "duration": 886,
    "start_time": "2021-12-24T17:37:23.045Z"
   },
   {
    "duration": 155,
    "start_time": "2021-12-24T17:37:23.933Z"
   },
   {
    "duration": 101,
    "start_time": "2021-12-24T17:37:24.090Z"
   },
   {
    "duration": 25,
    "start_time": "2021-12-24T17:37:24.193Z"
   },
   {
    "duration": 36,
    "start_time": "2021-12-24T17:37:24.220Z"
   },
   {
    "duration": 74,
    "start_time": "2021-12-24T17:37:24.257Z"
   },
   {
    "duration": 70,
    "start_time": "2021-12-24T17:37:24.333Z"
   },
   {
    "duration": 74,
    "start_time": "2021-12-24T17:37:24.406Z"
   },
   {
    "duration": 7,
    "start_time": "2021-12-24T17:37:24.483Z"
   },
   {
    "duration": 1525,
    "start_time": "2021-12-24T17:37:24.492Z"
   },
   {
    "duration": 1461,
    "start_time": "2021-12-24T17:37:26.019Z"
   },
   {
    "duration": 260,
    "start_time": "2021-12-24T17:40:32.757Z"
   },
   {
    "duration": 870,
    "start_time": "2021-12-24T17:40:44.319Z"
   },
   {
    "duration": 160,
    "start_time": "2021-12-24T17:40:45.191Z"
   },
   {
    "duration": 113,
    "start_time": "2021-12-24T17:40:45.354Z"
   },
   {
    "duration": 27,
    "start_time": "2021-12-24T17:40:45.470Z"
   },
   {
    "duration": 38,
    "start_time": "2021-12-24T17:40:45.499Z"
   },
   {
    "duration": 76,
    "start_time": "2021-12-24T17:40:45.540Z"
   },
   {
    "duration": 79,
    "start_time": "2021-12-24T17:40:45.618Z"
   },
   {
    "duration": 70,
    "start_time": "2021-12-24T17:40:45.700Z"
   },
   {
    "duration": 7,
    "start_time": "2021-12-24T17:40:45.772Z"
   },
   {
    "duration": 5,
    "start_time": "2021-12-24T17:40:45.781Z"
   },
   {
    "duration": 320,
    "start_time": "2021-12-24T17:40:45.788Z"
   },
   {
    "duration": 277,
    "start_time": "2021-12-24T17:46:04.160Z"
   },
   {
    "duration": 846,
    "start_time": "2021-12-24T17:46:26.294Z"
   },
   {
    "duration": 152,
    "start_time": "2021-12-24T17:46:27.142Z"
   },
   {
    "duration": 105,
    "start_time": "2021-12-24T17:46:27.296Z"
   },
   {
    "duration": 25,
    "start_time": "2021-12-24T17:46:27.404Z"
   },
   {
    "duration": 37,
    "start_time": "2021-12-24T17:46:27.431Z"
   },
   {
    "duration": 54,
    "start_time": "2021-12-24T17:46:27.470Z"
   },
   {
    "duration": 59,
    "start_time": "2021-12-24T17:46:27.526Z"
   },
   {
    "duration": 38,
    "start_time": "2021-12-24T17:46:27.587Z"
   },
   {
    "duration": 299,
    "start_time": "2021-12-24T18:01:27.609Z"
   },
   {
    "duration": 934,
    "start_time": "2021-12-24T18:02:00.727Z"
   },
   {
    "duration": 167,
    "start_time": "2021-12-24T18:02:01.664Z"
   },
   {
    "duration": 117,
    "start_time": "2021-12-24T18:02:01.833Z"
   },
   {
    "duration": 29,
    "start_time": "2021-12-24T18:02:01.960Z"
   },
   {
    "duration": 39,
    "start_time": "2021-12-24T18:02:01.992Z"
   },
   {
    "duration": 319,
    "start_time": "2021-12-24T18:02:02.033Z"
   },
   {
    "duration": -1621,
    "start_time": "2021-12-24T18:02:03.975Z"
   },
   {
    "duration": -1622,
    "start_time": "2021-12-24T18:02:03.977Z"
   },
   {
    "duration": -1623,
    "start_time": "2021-12-24T18:02:03.979Z"
   },
   {
    "duration": -1624,
    "start_time": "2021-12-24T18:02:03.981Z"
   },
   {
    "duration": 37,
    "start_time": "2021-12-24T18:04:27.335Z"
   },
   {
    "duration": 26,
    "start_time": "2021-12-24T18:04:47.517Z"
   },
   {
    "duration": 34,
    "start_time": "2021-12-24T18:08:54.262Z"
   },
   {
    "duration": 48,
    "start_time": "2021-12-24T18:10:20.308Z"
   },
   {
    "duration": 53,
    "start_time": "2021-12-24T18:11:20.698Z"
   },
   {
    "duration": 13,
    "start_time": "2021-12-24T18:12:10.218Z"
   },
   {
    "duration": 30,
    "start_time": "2021-12-24T18:12:42.167Z"
   },
   {
    "duration": 28,
    "start_time": "2021-12-24T18:13:02.087Z"
   },
   {
    "duration": 22,
    "start_time": "2021-12-24T18:13:56.966Z"
   },
   {
    "duration": 13,
    "start_time": "2021-12-24T18:14:05.093Z"
   },
   {
    "duration": 7003,
    "start_time": "2021-12-24T18:14:32.166Z"
   },
   {
    "duration": 7372,
    "start_time": "2021-12-24T18:14:54.036Z"
   },
   {
    "duration": 824,
    "start_time": "2021-12-24T18:15:09.001Z"
   },
   {
    "duration": 151,
    "start_time": "2021-12-24T18:15:09.827Z"
   },
   {
    "duration": 105,
    "start_time": "2021-12-24T18:15:09.980Z"
   },
   {
    "duration": 25,
    "start_time": "2021-12-24T18:15:10.087Z"
   },
   {
    "duration": 35,
    "start_time": "2021-12-24T18:15:10.113Z"
   },
   {
    "duration": 59,
    "start_time": "2021-12-24T18:15:10.149Z"
   },
   {
    "duration": 52,
    "start_time": "2021-12-24T18:15:10.210Z"
   },
   {
    "duration": 37,
    "start_time": "2021-12-24T18:15:10.264Z"
   },
   {
    "duration": 14,
    "start_time": "2021-12-24T18:15:10.303Z"
   },
   {
    "duration": 57,
    "start_time": "2021-12-24T18:15:10.318Z"
   },
   {
    "duration": 23,
    "start_time": "2021-12-24T18:15:10.377Z"
   },
   {
    "duration": 22,
    "start_time": "2021-12-24T18:15:10.401Z"
   },
   {
    "duration": 2,
    "start_time": "2021-12-24T18:15:10.425Z"
   },
   {
    "duration": 14,
    "start_time": "2021-12-24T18:15:17.705Z"
   },
   {
    "duration": 178,
    "start_time": "2021-12-24T18:23:40.084Z"
   },
   {
    "duration": 170,
    "start_time": "2021-12-24T18:23:58.939Z"
   },
   {
    "duration": 13,
    "start_time": "2021-12-24T18:25:07.136Z"
   },
   {
    "duration": 6627,
    "start_time": "2021-12-24T18:25:25.520Z"
   },
   {
    "duration": 6461,
    "start_time": "2021-12-24T18:25:44.616Z"
   },
   {
    "duration": 838,
    "start_time": "2021-12-24T18:25:57.092Z"
   },
   {
    "duration": 161,
    "start_time": "2021-12-24T18:25:57.932Z"
   },
   {
    "duration": 125,
    "start_time": "2021-12-24T18:25:58.097Z"
   },
   {
    "duration": 30,
    "start_time": "2021-12-24T18:25:58.224Z"
   },
   {
    "duration": 40,
    "start_time": "2021-12-24T18:25:58.255Z"
   },
   {
    "duration": 62,
    "start_time": "2021-12-24T18:25:58.297Z"
   },
   {
    "duration": 47,
    "start_time": "2021-12-24T18:25:58.361Z"
   },
   {
    "duration": 53,
    "start_time": "2021-12-24T18:25:58.409Z"
   },
   {
    "duration": 14,
    "start_time": "2021-12-24T18:25:58.463Z"
   },
   {
    "duration": 31,
    "start_time": "2021-12-24T18:25:58.478Z"
   },
   {
    "duration": 22,
    "start_time": "2021-12-24T18:25:58.511Z"
   },
   {
    "duration": 54,
    "start_time": "2021-12-24T18:25:58.535Z"
   },
   {
    "duration": 2,
    "start_time": "2021-12-24T18:25:58.591Z"
   },
   {
    "duration": 6328,
    "start_time": "2021-12-24T18:28:52.798Z"
   },
   {
    "duration": 889,
    "start_time": "2021-12-24T18:29:33.929Z"
   },
   {
    "duration": 190,
    "start_time": "2021-12-24T18:29:34.820Z"
   },
   {
    "duration": 108,
    "start_time": "2021-12-24T18:29:35.013Z"
   },
   {
    "duration": 25,
    "start_time": "2021-12-24T18:29:35.123Z"
   },
   {
    "duration": 37,
    "start_time": "2021-12-24T18:29:35.150Z"
   },
   {
    "duration": 61,
    "start_time": "2021-12-24T18:29:35.189Z"
   },
   {
    "duration": 51,
    "start_time": "2021-12-24T18:29:35.251Z"
   },
   {
    "duration": 38,
    "start_time": "2021-12-24T18:29:35.304Z"
   },
   {
    "duration": 28,
    "start_time": "2021-12-24T18:29:35.344Z"
   },
   {
    "duration": 67,
    "start_time": "2021-12-24T18:29:35.373Z"
   },
   {
    "duration": 23,
    "start_time": "2021-12-24T18:29:35.442Z"
   },
   {
    "duration": 30,
    "start_time": "2021-12-24T18:29:35.466Z"
   },
   {
    "duration": 2,
    "start_time": "2021-12-24T18:29:35.497Z"
   },
   {
    "duration": 904,
    "start_time": "2021-12-24T18:30:22.463Z"
   },
   {
    "duration": 156,
    "start_time": "2021-12-24T18:30:23.369Z"
   },
   {
    "duration": 109,
    "start_time": "2021-12-24T18:30:23.527Z"
   },
   {
    "duration": 27,
    "start_time": "2021-12-24T18:30:23.638Z"
   },
   {
    "duration": 42,
    "start_time": "2021-12-24T18:30:23.666Z"
   },
   {
    "duration": 62,
    "start_time": "2021-12-24T18:30:23.710Z"
   },
   {
    "duration": 47,
    "start_time": "2021-12-24T18:30:23.774Z"
   },
   {
    "duration": 50,
    "start_time": "2021-12-24T18:30:23.823Z"
   },
   {
    "duration": 12,
    "start_time": "2021-12-24T18:30:23.875Z"
   },
   {
    "duration": 43,
    "start_time": "2021-12-24T18:30:23.889Z"
   },
   {
    "duration": 43,
    "start_time": "2021-12-24T18:30:23.934Z"
   },
   {
    "duration": 29,
    "start_time": "2021-12-24T18:30:23.979Z"
   },
   {
    "duration": 2,
    "start_time": "2021-12-24T18:30:24.010Z"
   },
   {
    "duration": 6138,
    "start_time": "2021-12-24T18:30:39.296Z"
   },
   {
    "duration": 849,
    "start_time": "2021-12-24T18:32:54.788Z"
   },
   {
    "duration": 157,
    "start_time": "2021-12-24T18:32:55.638Z"
   },
   {
    "duration": 109,
    "start_time": "2021-12-24T18:32:55.797Z"
   },
   {
    "duration": 27,
    "start_time": "2021-12-24T18:32:55.908Z"
   },
   {
    "duration": 44,
    "start_time": "2021-12-24T18:32:55.937Z"
   },
   {
    "duration": 63,
    "start_time": "2021-12-24T18:32:55.982Z"
   },
   {
    "duration": 52,
    "start_time": "2021-12-24T18:32:56.046Z"
   },
   {
    "duration": 35,
    "start_time": "2021-12-24T18:32:56.101Z"
   },
   {
    "duration": 32,
    "start_time": "2021-12-24T18:32:56.138Z"
   },
   {
    "duration": 50,
    "start_time": "2021-12-24T18:32:56.171Z"
   },
   {
    "duration": 23,
    "start_time": "2021-12-24T18:32:56.223Z"
   },
   {
    "duration": 36,
    "start_time": "2021-12-24T18:32:56.247Z"
   },
   {
    "duration": 35,
    "start_time": "2021-12-24T18:32:56.285Z"
   },
   {
    "duration": 858,
    "start_time": "2021-12-24T18:39:23.015Z"
   },
   {
    "duration": 148,
    "start_time": "2021-12-24T18:39:23.875Z"
   },
   {
    "duration": 101,
    "start_time": "2021-12-24T18:39:24.025Z"
   },
   {
    "duration": 25,
    "start_time": "2021-12-24T18:39:24.128Z"
   },
   {
    "duration": 37,
    "start_time": "2021-12-24T18:39:24.155Z"
   },
   {
    "duration": 62,
    "start_time": "2021-12-24T18:39:24.193Z"
   },
   {
    "duration": 43,
    "start_time": "2021-12-24T18:39:24.257Z"
   },
   {
    "duration": 38,
    "start_time": "2021-12-24T18:39:24.303Z"
   },
   {
    "duration": 25,
    "start_time": "2021-12-24T18:39:24.343Z"
   },
   {
    "duration": 31,
    "start_time": "2021-12-24T18:39:24.370Z"
   },
   {
    "duration": 22,
    "start_time": "2021-12-24T18:39:24.403Z"
   },
   {
    "duration": 45,
    "start_time": "2021-12-24T18:39:24.426Z"
   },
   {
    "duration": 33,
    "start_time": "2021-12-24T18:39:24.473Z"
   },
   {
    "duration": 36,
    "start_time": "2021-12-24T18:41:15.892Z"
   },
   {
    "duration": 335,
    "start_time": "2021-12-24T18:47:00.530Z"
   },
   {
    "duration": 828,
    "start_time": "2021-12-24T18:47:15.493Z"
   },
   {
    "duration": 150,
    "start_time": "2021-12-24T18:47:16.323Z"
   },
   {
    "duration": 105,
    "start_time": "2021-12-24T18:47:16.475Z"
   },
   {
    "duration": 27,
    "start_time": "2021-12-24T18:47:16.582Z"
   },
   {
    "duration": 41,
    "start_time": "2021-12-24T18:47:16.610Z"
   },
   {
    "duration": 63,
    "start_time": "2021-12-24T18:47:16.653Z"
   },
   {
    "duration": 60,
    "start_time": "2021-12-24T18:47:16.718Z"
   },
   {
    "duration": 38,
    "start_time": "2021-12-24T18:47:16.781Z"
   },
   {
    "duration": 13,
    "start_time": "2021-12-24T18:47:16.821Z"
   },
   {
    "duration": 56,
    "start_time": "2021-12-24T18:47:16.836Z"
   },
   {
    "duration": 21,
    "start_time": "2021-12-24T18:47:16.894Z"
   },
   {
    "duration": 46,
    "start_time": "2021-12-24T18:47:16.917Z"
   },
   {
    "duration": 33,
    "start_time": "2021-12-24T18:47:16.965Z"
   },
   {
    "duration": 316,
    "start_time": "2021-12-24T18:47:17.000Z"
   },
   {
    "duration": 6687,
    "start_time": "2021-12-24T18:47:43.339Z"
   },
   {
    "duration": 881,
    "start_time": "2021-12-24T18:48:04.942Z"
   },
   {
    "duration": 144,
    "start_time": "2021-12-24T18:48:05.825Z"
   },
   {
    "duration": 104,
    "start_time": "2021-12-24T18:48:05.970Z"
   },
   {
    "duration": 26,
    "start_time": "2021-12-24T18:48:06.076Z"
   },
   {
    "duration": 37,
    "start_time": "2021-12-24T18:48:06.104Z"
   },
   {
    "duration": 58,
    "start_time": "2021-12-24T18:48:06.143Z"
   },
   {
    "duration": 45,
    "start_time": "2021-12-24T18:48:06.203Z"
   },
   {
    "duration": 35,
    "start_time": "2021-12-24T18:48:06.260Z"
   },
   {
    "duration": 12,
    "start_time": "2021-12-24T18:48:06.297Z"
   },
   {
    "duration": 35,
    "start_time": "2021-12-24T18:48:06.311Z"
   },
   {
    "duration": 22,
    "start_time": "2021-12-24T18:48:06.360Z"
   },
   {
    "duration": 25,
    "start_time": "2021-12-24T18:48:06.383Z"
   },
   {
    "duration": 52,
    "start_time": "2021-12-24T18:48:06.410Z"
   },
   {
    "duration": 16,
    "start_time": "2021-12-24T18:48:06.464Z"
   },
   {
    "duration": 326,
    "start_time": "2021-12-24T18:48:25.104Z"
   },
   {
    "duration": 20,
    "start_time": "2021-12-24T18:48:50.393Z"
   },
   {
    "duration": 283,
    "start_time": "2021-12-24T18:49:18.239Z"
   },
   {
    "duration": 21,
    "start_time": "2021-12-24T18:51:33.763Z"
   },
   {
    "duration": 45,
    "start_time": "2021-12-24T18:56:57.012Z"
   },
   {
    "duration": 46,
    "start_time": "2021-12-24T18:57:25.082Z"
   },
   {
    "duration": 49,
    "start_time": "2021-12-24T19:02:33.985Z"
   },
   {
    "duration": 28,
    "start_time": "2021-12-24T19:02:57.953Z"
   },
   {
    "duration": 18,
    "start_time": "2021-12-24T19:07:07.505Z"
   },
   {
    "duration": 21,
    "start_time": "2021-12-24T19:08:50.998Z"
   },
   {
    "duration": 350,
    "start_time": "2021-12-24T19:10:00.021Z"
   },
   {
    "duration": 6389,
    "start_time": "2021-12-24T19:10:30.411Z"
   },
   {
    "duration": 866,
    "start_time": "2021-12-24T19:10:46.726Z"
   },
   {
    "duration": 150,
    "start_time": "2021-12-24T19:10:47.594Z"
   },
   {
    "duration": 100,
    "start_time": "2021-12-24T19:10:47.746Z"
   },
   {
    "duration": 25,
    "start_time": "2021-12-24T19:10:47.848Z"
   },
   {
    "duration": 38,
    "start_time": "2021-12-24T19:10:47.874Z"
   },
   {
    "duration": 58,
    "start_time": "2021-12-24T19:10:47.913Z"
   },
   {
    "duration": 44,
    "start_time": "2021-12-24T19:10:47.972Z"
   },
   {
    "duration": 53,
    "start_time": "2021-12-24T19:10:48.018Z"
   },
   {
    "duration": 13,
    "start_time": "2021-12-24T19:10:48.073Z"
   },
   {
    "duration": 36,
    "start_time": "2021-12-24T19:10:48.088Z"
   },
   {
    "duration": 44,
    "start_time": "2021-12-24T19:10:48.126Z"
   },
   {
    "duration": 30,
    "start_time": "2021-12-24T19:10:48.172Z"
   },
   {
    "duration": 32,
    "start_time": "2021-12-24T19:10:48.204Z"
   },
   {
    "duration": 37,
    "start_time": "2021-12-24T19:10:48.238Z"
   },
   {
    "duration": 343,
    "start_time": "2021-12-24T19:10:48.277Z"
   },
   {
    "duration": 6524,
    "start_time": "2021-12-24T19:11:55.481Z"
   },
   {
    "duration": 932,
    "start_time": "2021-12-24T19:13:46.178Z"
   },
   {
    "duration": 151,
    "start_time": "2021-12-24T19:13:47.113Z"
   },
   {
    "duration": 101,
    "start_time": "2021-12-24T19:13:47.266Z"
   },
   {
    "duration": 25,
    "start_time": "2021-12-24T19:13:47.369Z"
   },
   {
    "duration": 38,
    "start_time": "2021-12-24T19:13:47.396Z"
   },
   {
    "duration": 61,
    "start_time": "2021-12-24T19:13:47.435Z"
   },
   {
    "duration": 47,
    "start_time": "2021-12-24T19:13:47.498Z"
   },
   {
    "duration": 45,
    "start_time": "2021-12-24T19:13:47.548Z"
   },
   {
    "duration": 13,
    "start_time": "2021-12-24T19:13:47.595Z"
   },
   {
    "duration": 53,
    "start_time": "2021-12-24T19:13:47.610Z"
   },
   {
    "duration": 24,
    "start_time": "2021-12-24T19:13:47.664Z"
   },
   {
    "duration": 20,
    "start_time": "2021-12-24T19:13:47.690Z"
   },
   {
    "duration": 59,
    "start_time": "2021-12-24T19:13:47.712Z"
   },
   {
    "duration": 17,
    "start_time": "2021-12-24T19:13:47.773Z"
   },
   {
    "duration": 21,
    "start_time": "2021-12-24T19:13:47.791Z"
   },
   {
    "duration": 23,
    "start_time": "2021-12-24T19:15:24.323Z"
   },
   {
    "duration": 27,
    "start_time": "2021-12-24T19:17:50.032Z"
   },
   {
    "duration": 28,
    "start_time": "2021-12-24T19:18:40.151Z"
   },
   {
    "duration": 34,
    "start_time": "2021-12-24T19:22:26.864Z"
   },
   {
    "duration": 848,
    "start_time": "2021-12-24T19:33:25.100Z"
   },
   {
    "duration": 149,
    "start_time": "2021-12-24T19:33:25.951Z"
   },
   {
    "duration": 96,
    "start_time": "2021-12-24T19:33:26.102Z"
   },
   {
    "duration": 25,
    "start_time": "2021-12-24T19:33:26.200Z"
   },
   {
    "duration": 43,
    "start_time": "2021-12-24T19:33:26.227Z"
   },
   {
    "duration": 92,
    "start_time": "2021-12-24T19:33:26.272Z"
   },
   {
    "duration": 62,
    "start_time": "2021-12-24T19:33:26.366Z"
   },
   {
    "duration": 52,
    "start_time": "2021-12-24T19:33:26.430Z"
   },
   {
    "duration": 13,
    "start_time": "2021-12-24T19:33:26.484Z"
   },
   {
    "duration": 598,
    "start_time": "2021-12-24T19:33:26.499Z"
   },
   {
    "duration": -2299,
    "start_time": "2021-12-24T19:33:29.398Z"
   },
   {
    "duration": -2301,
    "start_time": "2021-12-24T19:33:29.401Z"
   },
   {
    "duration": -2301,
    "start_time": "2021-12-24T19:33:29.402Z"
   },
   {
    "duration": -2301,
    "start_time": "2021-12-24T19:33:29.403Z"
   },
   {
    "duration": -2301,
    "start_time": "2021-12-24T19:33:29.404Z"
   },
   {
    "duration": 964,
    "start_time": "2021-12-24T19:34:04.588Z"
   },
   {
    "duration": 212,
    "start_time": "2021-12-24T19:34:05.554Z"
   },
   {
    "duration": 144,
    "start_time": "2021-12-24T19:34:05.768Z"
   },
   {
    "duration": 30,
    "start_time": "2021-12-24T19:34:05.914Z"
   },
   {
    "duration": 44,
    "start_time": "2021-12-24T19:34:05.946Z"
   },
   {
    "duration": 81,
    "start_time": "2021-12-24T19:34:05.992Z"
   },
   {
    "duration": 61,
    "start_time": "2021-12-24T19:34:06.075Z"
   },
   {
    "duration": 63,
    "start_time": "2021-12-24T19:34:06.140Z"
   },
   {
    "duration": 16,
    "start_time": "2021-12-24T19:34:06.206Z"
   },
   {
    "duration": 52,
    "start_time": "2021-12-24T19:34:06.224Z"
   },
   {
    "duration": 32,
    "start_time": "2021-12-24T19:34:06.278Z"
   },
   {
    "duration": 21,
    "start_time": "2021-12-24T19:34:06.312Z"
   },
   {
    "duration": 57,
    "start_time": "2021-12-24T19:34:06.335Z"
   },
   {
    "duration": 17,
    "start_time": "2021-12-24T19:34:06.393Z"
   },
   {
    "duration": 62,
    "start_time": "2021-12-24T19:34:06.411Z"
   },
   {
    "duration": 21,
    "start_time": "2021-12-24T19:35:28.611Z"
   },
   {
    "duration": 344,
    "start_time": "2021-12-24T19:43:03.646Z"
   },
   {
    "duration": 271,
    "start_time": "2021-12-24T19:43:27.398Z"
   },
   {
    "duration": 249,
    "start_time": "2021-12-24T19:44:29.567Z"
   },
   {
    "duration": 886,
    "start_time": "2021-12-24T19:44:52.976Z"
   },
   {
    "duration": 157,
    "start_time": "2021-12-24T19:44:53.864Z"
   },
   {
    "duration": 104,
    "start_time": "2021-12-24T19:44:54.023Z"
   },
   {
    "duration": 24,
    "start_time": "2021-12-24T19:44:54.129Z"
   },
   {
    "duration": 42,
    "start_time": "2021-12-24T19:44:54.155Z"
   },
   {
    "duration": 60,
    "start_time": "2021-12-24T19:44:54.198Z"
   },
   {
    "duration": 45,
    "start_time": "2021-12-24T19:44:54.259Z"
   },
   {
    "duration": 36,
    "start_time": "2021-12-24T19:44:54.307Z"
   },
   {
    "duration": 25,
    "start_time": "2021-12-24T19:44:54.345Z"
   },
   {
    "duration": 33,
    "start_time": "2021-12-24T19:44:54.372Z"
   },
   {
    "duration": 23,
    "start_time": "2021-12-24T19:44:54.407Z"
   },
   {
    "duration": 43,
    "start_time": "2021-12-24T19:44:54.431Z"
   },
   {
    "duration": 37,
    "start_time": "2021-12-24T19:44:54.476Z"
   },
   {
    "duration": 17,
    "start_time": "2021-12-24T19:44:54.515Z"
   },
   {
    "duration": 38,
    "start_time": "2021-12-24T19:44:54.560Z"
   },
   {
    "duration": 22,
    "start_time": "2021-12-24T19:44:54.599Z"
   },
   {
    "duration": 40,
    "start_time": "2021-12-24T19:44:54.622Z"
   },
   {
    "duration": 49,
    "start_time": "2021-12-24T19:45:04.953Z"
   },
   {
    "duration": 45,
    "start_time": "2021-12-24T19:46:28.028Z"
   },
   {
    "duration": 80,
    "start_time": "2021-12-24T19:47:18.594Z"
   },
   {
    "duration": 80,
    "start_time": "2021-12-24T19:51:26.360Z"
   },
   {
    "duration": 20,
    "start_time": "2021-12-24T20:01:29.067Z"
   },
   {
    "duration": 850,
    "start_time": "2021-12-24T20:05:27.051Z"
   },
   {
    "duration": 141,
    "start_time": "2021-12-24T20:05:27.903Z"
   },
   {
    "duration": 97,
    "start_time": "2021-12-24T20:05:28.048Z"
   },
   {
    "duration": 27,
    "start_time": "2021-12-24T20:05:28.146Z"
   },
   {
    "duration": 37,
    "start_time": "2021-12-24T20:05:28.175Z"
   },
   {
    "duration": 59,
    "start_time": "2021-12-24T20:05:28.214Z"
   },
   {
    "duration": 46,
    "start_time": "2021-12-24T20:05:28.275Z"
   },
   {
    "duration": 54,
    "start_time": "2021-12-24T20:05:28.323Z"
   },
   {
    "duration": 13,
    "start_time": "2021-12-24T20:05:28.378Z"
   },
   {
    "duration": 35,
    "start_time": "2021-12-24T20:05:28.393Z"
   },
   {
    "duration": 45,
    "start_time": "2021-12-24T20:05:28.429Z"
   },
   {
    "duration": 22,
    "start_time": "2021-12-24T20:05:28.476Z"
   },
   {
    "duration": 35,
    "start_time": "2021-12-24T20:05:28.500Z"
   },
   {
    "duration": 38,
    "start_time": "2021-12-24T20:05:28.537Z"
   },
   {
    "duration": 34,
    "start_time": "2021-12-24T20:05:28.577Z"
   },
   {
    "duration": 24,
    "start_time": "2021-12-24T20:05:28.613Z"
   },
   {
    "duration": 6464,
    "start_time": "2021-12-24T20:05:28.639Z"
   },
   {
    "duration": 230,
    "start_time": "2021-12-24T20:05:44.138Z"
   },
   {
    "duration": 118,
    "start_time": "2021-12-24T20:06:56.434Z"
   },
   {
    "duration": 86,
    "start_time": "2021-12-24T20:07:47.512Z"
   },
   {
    "duration": 867,
    "start_time": "2021-12-24T20:10:05.911Z"
   },
   {
    "duration": 157,
    "start_time": "2021-12-24T20:10:06.780Z"
   },
   {
    "duration": 120,
    "start_time": "2021-12-24T20:10:06.941Z"
   },
   {
    "duration": 27,
    "start_time": "2021-12-24T20:10:07.063Z"
   },
   {
    "duration": 37,
    "start_time": "2021-12-24T20:10:07.092Z"
   },
   {
    "duration": 76,
    "start_time": "2021-12-24T20:10:07.131Z"
   },
   {
    "duration": 52,
    "start_time": "2021-12-24T20:10:07.210Z"
   },
   {
    "duration": 38,
    "start_time": "2021-12-24T20:10:07.264Z"
   },
   {
    "duration": 15,
    "start_time": "2021-12-24T20:10:07.304Z"
   },
   {
    "duration": 63,
    "start_time": "2021-12-24T20:10:07.320Z"
   },
   {
    "duration": 23,
    "start_time": "2021-12-24T20:10:07.385Z"
   },
   {
    "duration": 32,
    "start_time": "2021-12-24T20:10:07.410Z"
   },
   {
    "duration": 48,
    "start_time": "2021-12-24T20:10:07.444Z"
   },
   {
    "duration": 6,
    "start_time": "2021-12-24T20:10:07.494Z"
   },
   {
    "duration": 39,
    "start_time": "2021-12-24T20:10:07.502Z"
   },
   {
    "duration": 20,
    "start_time": "2021-12-24T20:10:07.543Z"
   },
   {
    "duration": 102,
    "start_time": "2021-12-24T20:10:07.565Z"
   },
   {
    "duration": 6539,
    "start_time": "2021-12-24T20:11:49.781Z"
   },
   {
    "duration": -1804,
    "start_time": "2021-12-24T20:11:58.126Z"
   },
   {
    "duration": 832,
    "start_time": "2021-12-24T20:12:13.374Z"
   },
   {
    "duration": 147,
    "start_time": "2021-12-24T20:12:14.208Z"
   },
   {
    "duration": 101,
    "start_time": "2021-12-24T20:12:14.360Z"
   },
   {
    "duration": 25,
    "start_time": "2021-12-24T20:12:14.463Z"
   },
   {
    "duration": 71,
    "start_time": "2021-12-24T20:12:14.490Z"
   },
   {
    "duration": 75,
    "start_time": "2021-12-24T20:12:14.563Z"
   },
   {
    "duration": 44,
    "start_time": "2021-12-24T20:12:14.639Z"
   },
   {
    "duration": 34,
    "start_time": "2021-12-24T20:12:14.685Z"
   },
   {
    "duration": 12,
    "start_time": "2021-12-24T20:12:14.722Z"
   },
   {
    "duration": 57,
    "start_time": "2021-12-24T20:12:14.737Z"
   },
   {
    "duration": 26,
    "start_time": "2021-12-24T20:12:14.796Z"
   },
   {
    "duration": 42,
    "start_time": "2021-12-24T20:12:14.824Z"
   },
   {
    "duration": 33,
    "start_time": "2021-12-24T20:12:14.868Z"
   },
   {
    "duration": 6,
    "start_time": "2021-12-24T20:12:14.903Z"
   },
   {
    "duration": 43,
    "start_time": "2021-12-24T20:12:14.910Z"
   },
   {
    "duration": 6549,
    "start_time": "2021-12-24T20:12:14.956Z"
   },
   {
    "duration": -1804,
    "start_time": "2021-12-24T20:12:23.311Z"
   },
   {
    "duration": 6,
    "start_time": "2021-12-24T20:12:27.761Z"
   },
   {
    "duration": 95,
    "start_time": "2021-12-24T20:12:30.227Z"
   },
   {
    "duration": 121,
    "start_time": "2021-12-24T20:12:47.827Z"
   },
   {
    "duration": 165,
    "start_time": "2021-12-24T20:18:26.974Z"
   },
   {
    "duration": 91,
    "start_time": "2021-12-24T20:19:09.709Z"
   },
   {
    "duration": 884,
    "start_time": "2021-12-24T20:21:49.169Z"
   },
   {
    "duration": 146,
    "start_time": "2021-12-24T20:21:50.060Z"
   },
   {
    "duration": 100,
    "start_time": "2021-12-24T20:21:50.208Z"
   },
   {
    "duration": 25,
    "start_time": "2021-12-24T20:21:50.310Z"
   },
   {
    "duration": 36,
    "start_time": "2021-12-24T20:21:50.336Z"
   },
   {
    "duration": 57,
    "start_time": "2021-12-24T20:21:50.374Z"
   },
   {
    "duration": 60,
    "start_time": "2021-12-24T20:21:50.433Z"
   },
   {
    "duration": 35,
    "start_time": "2021-12-24T20:21:50.495Z"
   },
   {
    "duration": 12,
    "start_time": "2021-12-24T20:21:50.532Z"
   },
   {
    "duration": 44,
    "start_time": "2021-12-24T20:21:50.546Z"
   },
   {
    "duration": 24,
    "start_time": "2021-12-24T20:21:50.591Z"
   },
   {
    "duration": 19,
    "start_time": "2021-12-24T20:21:50.617Z"
   },
   {
    "duration": 33,
    "start_time": "2021-12-24T20:21:50.661Z"
   },
   {
    "duration": 5,
    "start_time": "2021-12-24T20:21:50.695Z"
   },
   {
    "duration": 23,
    "start_time": "2021-12-24T20:21:50.702Z"
   },
   {
    "duration": 34,
    "start_time": "2021-12-24T20:21:50.727Z"
   },
   {
    "duration": 105,
    "start_time": "2021-12-24T20:21:50.763Z"
   },
   {
    "duration": 100,
    "start_time": "2021-12-24T20:28:44.003Z"
   },
   {
    "duration": 409,
    "start_time": "2021-12-24T22:31:34.011Z"
   },
   {
    "duration": 490,
    "start_time": "2021-12-24T22:31:48.257Z"
   },
   {
    "duration": 410,
    "start_time": "2021-12-24T22:32:02.377Z"
   },
   {
    "duration": 443,
    "start_time": "2021-12-24T22:32:17.153Z"
   },
   {
    "duration": 415,
    "start_time": "2021-12-24T22:33:30.878Z"
   },
   {
    "duration": 18,
    "start_time": "2021-12-24T22:36:42.361Z"
   },
   {
    "duration": 55,
    "start_time": "2021-12-24T22:36:58.929Z"
   },
   {
    "duration": 17,
    "start_time": "2021-12-24T22:37:28.869Z"
   },
   {
    "duration": 223,
    "start_time": "2021-12-24T22:39:23.908Z"
   },
   {
    "duration": 403,
    "start_time": "2021-12-24T22:46:30.324Z"
   },
   {
    "duration": 483,
    "start_time": "2021-12-24T22:50:50.200Z"
   },
   {
    "duration": 14,
    "start_time": "2021-12-24T22:56:01.945Z"
   },
   {
    "duration": 436,
    "start_time": "2021-12-24T22:56:46.263Z"
   },
   {
    "duration": 1853,
    "start_time": "2021-12-24T22:57:27.197Z"
   },
   {
    "duration": 280,
    "start_time": "2021-12-24T22:57:43.918Z"
   },
   {
    "duration": 283,
    "start_time": "2021-12-24T22:58:42.904Z"
   },
   {
    "duration": 293,
    "start_time": "2021-12-24T23:00:03.699Z"
   },
   {
    "duration": 13,
    "start_time": "2021-12-24T23:05:15.753Z"
   },
   {
    "duration": 273,
    "start_time": "2021-12-24T23:05:46.248Z"
   },
   {
    "duration": 277,
    "start_time": "2021-12-24T23:06:30.816Z"
   },
   {
    "duration": 283,
    "start_time": "2021-12-24T23:07:40.885Z"
   },
   {
    "duration": 279,
    "start_time": "2021-12-24T23:08:29.636Z"
   },
   {
    "duration": 13,
    "start_time": "2021-12-24T23:09:26.426Z"
   },
   {
    "duration": 284,
    "start_time": "2021-12-24T23:10:24.761Z"
   },
   {
    "duration": 271,
    "start_time": "2021-12-24T23:10:47.015Z"
   },
   {
    "duration": 501,
    "start_time": "2021-12-24T23:11:29.063Z"
   },
   {
    "duration": 272,
    "start_time": "2021-12-24T23:12:13.749Z"
   },
   {
    "duration": 750,
    "start_time": "2021-12-26T18:00:07.691Z"
   },
   {
    "duration": 138,
    "start_time": "2021-12-26T18:00:08.443Z"
   },
   {
    "duration": 92,
    "start_time": "2021-12-26T18:00:08.585Z"
   },
   {
    "duration": 26,
    "start_time": "2021-12-26T18:00:08.679Z"
   },
   {
    "duration": 40,
    "start_time": "2021-12-26T18:00:08.707Z"
   },
   {
    "duration": 53,
    "start_time": "2021-12-26T18:00:08.748Z"
   },
   {
    "duration": 48,
    "start_time": "2021-12-26T18:00:08.803Z"
   },
   {
    "duration": 33,
    "start_time": "2021-12-26T18:00:08.853Z"
   },
   {
    "duration": 12,
    "start_time": "2021-12-26T18:00:08.887Z"
   },
   {
    "duration": 45,
    "start_time": "2021-12-26T18:00:08.900Z"
   },
   {
    "duration": 20,
    "start_time": "2021-12-26T18:00:08.947Z"
   },
   {
    "duration": 17,
    "start_time": "2021-12-26T18:00:08.969Z"
   },
   {
    "duration": 30,
    "start_time": "2021-12-26T18:00:08.987Z"
   },
   {
    "duration": 5,
    "start_time": "2021-12-26T18:00:09.041Z"
   },
   {
    "duration": 23,
    "start_time": "2021-12-26T18:00:09.048Z"
   },
   {
    "duration": 9,
    "start_time": "2021-12-26T18:00:09.072Z"
   },
   {
    "duration": 109,
    "start_time": "2021-12-26T18:00:09.082Z"
   },
   {
    "duration": 10,
    "start_time": "2021-12-26T18:00:09.192Z"
   },
   {
    "duration": 285,
    "start_time": "2021-12-26T18:00:09.204Z"
   },
   {
    "duration": 276,
    "start_time": "2021-12-26T18:00:09.491Z"
   },
   {
    "duration": 11,
    "start_time": "2021-12-26T18:00:09.769Z"
   },
   {
    "duration": 262,
    "start_time": "2021-12-26T18:00:09.783Z"
   },
   {
    "duration": 308,
    "start_time": "2021-12-26T18:00:10.047Z"
   },
   {
    "duration": 11,
    "start_time": "2021-12-26T18:00:10.357Z"
   },
   {
    "duration": 266,
    "start_time": "2021-12-26T18:00:10.369Z"
   },
   {
    "duration": 259,
    "start_time": "2021-12-26T18:00:10.640Z"
   },
   {
    "duration": 273,
    "start_time": "2021-12-26T18:15:31.919Z"
   },
   {
    "duration": 267,
    "start_time": "2021-12-26T18:15:54.599Z"
   },
   {
    "duration": 272,
    "start_time": "2021-12-26T18:16:52.798Z"
   },
   {
    "duration": 320,
    "start_time": "2021-12-26T18:32:33.626Z"
   },
   {
    "duration": 604,
    "start_time": "2021-12-26T18:32:59.955Z"
   },
   {
    "duration": 1309,
    "start_time": "2021-12-26T18:33:09.682Z"
   },
   {
    "duration": 1485,
    "start_time": "2021-12-26T18:33:33.257Z"
   },
   {
    "duration": 147,
    "start_time": "2021-12-26T18:33:34.744Z"
   },
   {
    "duration": 103,
    "start_time": "2021-12-26T18:33:34.893Z"
   },
   {
    "duration": 26,
    "start_time": "2021-12-26T18:33:34.998Z"
   },
   {
    "duration": 38,
    "start_time": "2021-12-26T18:33:35.026Z"
   },
   {
    "duration": 57,
    "start_time": "2021-12-26T18:33:35.065Z"
   },
   {
    "duration": 45,
    "start_time": "2021-12-26T18:33:35.124Z"
   },
   {
    "duration": 33,
    "start_time": "2021-12-26T18:33:35.171Z"
   },
   {
    "duration": 12,
    "start_time": "2021-12-26T18:33:35.206Z"
   },
   {
    "duration": 49,
    "start_time": "2021-12-26T18:33:35.220Z"
   },
   {
    "duration": 22,
    "start_time": "2021-12-26T18:33:35.270Z"
   },
   {
    "duration": 18,
    "start_time": "2021-12-26T18:33:35.294Z"
   },
   {
    "duration": 56,
    "start_time": "2021-12-26T18:33:35.314Z"
   },
   {
    "duration": 5,
    "start_time": "2021-12-26T18:33:35.371Z"
   },
   {
    "duration": 22,
    "start_time": "2021-12-26T18:33:35.378Z"
   },
   {
    "duration": 9,
    "start_time": "2021-12-26T18:33:35.402Z"
   },
   {
    "duration": 134,
    "start_time": "2021-12-26T18:33:35.412Z"
   },
   {
    "duration": 13,
    "start_time": "2021-12-26T18:33:35.548Z"
   },
   {
    "duration": 310,
    "start_time": "2021-12-26T18:33:35.562Z"
   },
   {
    "duration": 281,
    "start_time": "2021-12-26T18:33:35.874Z"
   },
   {
    "duration": 13,
    "start_time": "2021-12-26T18:33:36.156Z"
   },
   {
    "duration": 299,
    "start_time": "2021-12-26T18:33:36.171Z"
   },
   {
    "duration": 282,
    "start_time": "2021-12-26T18:33:36.473Z"
   },
   {
    "duration": 13,
    "start_time": "2021-12-26T18:33:36.757Z"
   },
   {
    "duration": 278,
    "start_time": "2021-12-26T18:33:36.772Z"
   },
   {
    "duration": 304,
    "start_time": "2021-12-26T18:33:37.052Z"
   },
   {
    "duration": 271,
    "start_time": "2021-12-26T18:33:37.358Z"
   },
   {
    "duration": 325,
    "start_time": "2021-12-26T18:33:37.631Z"
   },
   {
    "duration": 517,
    "start_time": "2021-12-26T18:33:37.966Z"
   },
   {
    "duration": -1456,
    "start_time": "2021-12-26T18:33:39.940Z"
   },
   {
    "duration": 6,
    "start_time": "2021-12-26T18:35:49.685Z"
   },
   {
    "duration": 9,
    "start_time": "2021-12-26T18:37:49.352Z"
   },
   {
    "duration": 460,
    "start_time": "2021-12-26T18:37:53.376Z"
   },
   {
    "duration": 271,
    "start_time": "2021-12-26T18:40:24.996Z"
   },
   {
    "duration": 320,
    "start_time": "2021-12-26T18:46:05.490Z"
   },
   {
    "duration": 257,
    "start_time": "2021-12-26T18:47:25.056Z"
   },
   {
    "duration": 3453,
    "start_time": "2021-12-26T18:51:21.033Z"
   },
   {
    "duration": 293,
    "start_time": "2021-12-26T18:51:33.969Z"
   },
   {
    "duration": 8,
    "start_time": "2021-12-26T21:32:21.377Z"
   },
   {
    "duration": 479,
    "start_time": "2021-12-26T21:32:59.456Z"
   },
   {
    "duration": 9,
    "start_time": "2021-12-26T21:33:31.495Z"
   },
   {
    "duration": 5,
    "start_time": "2021-12-26T21:35:29.307Z"
   },
   {
    "duration": 248,
    "start_time": "2021-12-26T21:37:11.242Z"
   },
   {
    "duration": 264,
    "start_time": "2021-12-26T21:37:22.713Z"
   },
   {
    "duration": 5,
    "start_time": "2021-12-26T21:37:33.784Z"
   },
   {
    "duration": 8,
    "start_time": "2021-12-26T21:38:04.279Z"
   },
   {
    "duration": 6,
    "start_time": "2021-12-26T21:38:05.447Z"
   },
   {
    "duration": 8,
    "start_time": "2021-12-26T21:40:34.452Z"
   },
   {
    "duration": 250,
    "start_time": "2021-12-26T21:50:58.497Z"
   },
   {
    "duration": 9,
    "start_time": "2021-12-26T21:51:02.625Z"
   },
   {
    "duration": 333,
    "start_time": "2021-12-26T21:51:03.866Z"
   },
   {
    "duration": 241,
    "start_time": "2021-12-26T21:51:06.468Z"
   },
   {
    "duration": 1201,
    "start_time": "2021-12-26T21:53:44.971Z"
   },
   {
    "duration": 134,
    "start_time": "2021-12-26T21:53:46.173Z"
   },
   {
    "duration": 99,
    "start_time": "2021-12-26T21:53:46.312Z"
   },
   {
    "duration": 25,
    "start_time": "2021-12-26T21:53:46.412Z"
   },
   {
    "duration": 42,
    "start_time": "2021-12-26T21:53:46.439Z"
   },
   {
    "duration": 55,
    "start_time": "2021-12-26T21:53:46.483Z"
   },
   {
    "duration": 41,
    "start_time": "2021-12-26T21:53:46.541Z"
   },
   {
    "duration": 32,
    "start_time": "2021-12-26T21:53:46.584Z"
   },
   {
    "duration": 28,
    "start_time": "2021-12-26T21:53:46.617Z"
   },
   {
    "duration": 30,
    "start_time": "2021-12-26T21:53:46.647Z"
   },
   {
    "duration": 22,
    "start_time": "2021-12-26T21:53:46.678Z"
   },
   {
    "duration": 40,
    "start_time": "2021-12-26T21:53:46.702Z"
   },
   {
    "duration": 30,
    "start_time": "2021-12-26T21:53:46.743Z"
   },
   {
    "duration": 5,
    "start_time": "2021-12-26T21:53:46.774Z"
   },
   {
    "duration": 21,
    "start_time": "2021-12-26T21:53:46.780Z"
   },
   {
    "duration": 8,
    "start_time": "2021-12-26T21:53:46.802Z"
   },
   {
    "duration": 108,
    "start_time": "2021-12-26T21:53:46.812Z"
   },
   {
    "duration": 23,
    "start_time": "2021-12-26T21:53:46.922Z"
   },
   {
    "duration": 276,
    "start_time": "2021-12-26T21:53:46.946Z"
   },
   {
    "duration": 267,
    "start_time": "2021-12-26T21:53:47.224Z"
   },
   {
    "duration": 12,
    "start_time": "2021-12-26T21:53:47.493Z"
   },
   {
    "duration": 274,
    "start_time": "2021-12-26T21:53:47.507Z"
   },
   {
    "duration": 270,
    "start_time": "2021-12-26T21:53:47.783Z"
   },
   {
    "duration": 12,
    "start_time": "2021-12-26T21:53:48.054Z"
   },
   {
    "duration": 260,
    "start_time": "2021-12-26T21:53:48.068Z"
   },
   {
    "duration": 260,
    "start_time": "2021-12-26T21:53:48.330Z"
   },
   {
    "duration": 264,
    "start_time": "2021-12-26T21:53:48.592Z"
   },
   {
    "duration": 250,
    "start_time": "2021-12-26T21:53:48.858Z"
   },
   {
    "duration": 10,
    "start_time": "2021-12-26T21:53:49.110Z"
   },
   {
    "duration": 266,
    "start_time": "2021-12-26T21:53:49.121Z"
   },
   {
    "duration": 326,
    "start_time": "2021-12-26T21:53:49.388Z"
   },
   {
    "duration": 8,
    "start_time": "2021-12-26T21:53:49.716Z"
   },
   {
    "duration": 3,
    "start_time": "2021-12-26T21:53:49.726Z"
   },
   {
    "duration": 8,
    "start_time": "2021-12-26T21:53:49.741Z"
   },
   {
    "duration": 419,
    "start_time": "2021-12-26T22:01:36.763Z"
   },
   {
    "duration": 1155,
    "start_time": "2021-12-26T22:37:28.944Z"
   },
   {
    "duration": 174,
    "start_time": "2021-12-26T22:37:30.102Z"
   },
   {
    "duration": 113,
    "start_time": "2021-12-26T22:37:30.283Z"
   },
   {
    "duration": 26,
    "start_time": "2021-12-26T22:37:30.398Z"
   },
   {
    "duration": 51,
    "start_time": "2021-12-26T22:37:30.425Z"
   },
   {
    "duration": 63,
    "start_time": "2021-12-26T22:37:30.478Z"
   },
   {
    "duration": 45,
    "start_time": "2021-12-26T22:37:30.543Z"
   },
   {
    "duration": 35,
    "start_time": "2021-12-26T22:37:30.590Z"
   },
   {
    "duration": 25,
    "start_time": "2021-12-26T22:37:30.626Z"
   },
   {
    "duration": 38,
    "start_time": "2021-12-26T22:37:30.653Z"
   },
   {
    "duration": 27,
    "start_time": "2021-12-26T22:37:30.692Z"
   },
   {
    "duration": 39,
    "start_time": "2021-12-26T22:37:30.721Z"
   },
   {
    "duration": 35,
    "start_time": "2021-12-26T22:37:30.761Z"
   },
   {
    "duration": 5,
    "start_time": "2021-12-26T22:37:30.798Z"
   },
   {
    "duration": 50,
    "start_time": "2021-12-26T22:37:30.805Z"
   },
   {
    "duration": 11,
    "start_time": "2021-12-26T22:37:30.857Z"
   },
   {
    "duration": 113,
    "start_time": "2021-12-26T22:37:30.870Z"
   },
   {
    "duration": 13,
    "start_time": "2021-12-26T22:37:30.984Z"
   },
   {
    "duration": 318,
    "start_time": "2021-12-26T22:37:30.998Z"
   },
   {
    "duration": 303,
    "start_time": "2021-12-26T22:37:31.318Z"
   },
   {
    "duration": 22,
    "start_time": "2021-12-26T22:37:31.623Z"
   },
   {
    "duration": 280,
    "start_time": "2021-12-26T22:37:31.648Z"
   },
   {
    "duration": 288,
    "start_time": "2021-12-26T22:37:31.930Z"
   },
   {
    "duration": 22,
    "start_time": "2021-12-26T22:37:32.220Z"
   },
   {
    "duration": 278,
    "start_time": "2021-12-26T22:37:32.243Z"
   },
   {
    "duration": 264,
    "start_time": "2021-12-26T22:37:32.522Z"
   },
   {
    "duration": 289,
    "start_time": "2021-12-26T22:37:32.787Z"
   },
   {
    "duration": 276,
    "start_time": "2021-12-26T22:37:33.077Z"
   },
   {
    "duration": 8,
    "start_time": "2021-12-26T22:37:33.355Z"
   },
   {
    "duration": 292,
    "start_time": "2021-12-26T22:37:33.364Z"
   },
   {
    "duration": 343,
    "start_time": "2021-12-26T22:37:33.657Z"
   },
   {
    "duration": 9,
    "start_time": "2021-12-26T22:37:34.001Z"
   },
   {
    "duration": 1715,
    "start_time": "2021-12-27T20:20:34.038Z"
   },
   {
    "duration": 219,
    "start_time": "2021-12-27T20:20:35.756Z"
   },
   {
    "duration": 162,
    "start_time": "2021-12-27T20:20:35.978Z"
   },
   {
    "duration": 30,
    "start_time": "2021-12-27T20:20:36.143Z"
   },
   {
    "duration": 56,
    "start_time": "2021-12-27T20:20:36.176Z"
   },
   {
    "duration": 106,
    "start_time": "2021-12-27T20:20:36.234Z"
   },
   {
    "duration": 92,
    "start_time": "2021-12-27T20:20:36.358Z"
   },
   {
    "duration": 66,
    "start_time": "2021-12-27T20:20:36.453Z"
   },
   {
    "duration": 22,
    "start_time": "2021-12-27T20:20:36.526Z"
   },
   {
    "duration": 77,
    "start_time": "2021-12-27T20:20:36.552Z"
   },
   {
    "duration": 35,
    "start_time": "2021-12-27T20:20:36.633Z"
   },
   {
    "duration": 69,
    "start_time": "2021-12-27T20:20:36.671Z"
   },
   {
    "duration": 84,
    "start_time": "2021-12-27T20:20:36.743Z"
   },
   {
    "duration": 11,
    "start_time": "2021-12-27T20:20:36.831Z"
   },
   {
    "duration": 83,
    "start_time": "2021-12-27T20:20:36.844Z"
   },
   {
    "duration": 13,
    "start_time": "2021-12-27T20:20:36.931Z"
   },
   {
    "duration": 208,
    "start_time": "2021-12-27T20:20:36.947Z"
   },
   {
    "duration": 18,
    "start_time": "2021-12-27T20:20:37.158Z"
   },
   {
    "duration": 568,
    "start_time": "2021-12-27T20:20:37.179Z"
   },
   {
    "duration": 522,
    "start_time": "2021-12-27T20:20:37.749Z"
   },
   {
    "duration": 18,
    "start_time": "2021-12-27T20:20:38.274Z"
   },
   {
    "duration": 547,
    "start_time": "2021-12-27T20:20:38.295Z"
   },
   {
    "duration": 520,
    "start_time": "2021-12-27T20:20:38.844Z"
   },
   {
    "duration": 22,
    "start_time": "2021-12-27T20:20:39.367Z"
   },
   {
    "duration": 518,
    "start_time": "2021-12-27T20:20:39.416Z"
   },
   {
    "duration": 524,
    "start_time": "2021-12-27T20:20:39.937Z"
   },
   {
    "duration": 532,
    "start_time": "2021-12-27T20:20:40.466Z"
   },
   {
    "duration": 525,
    "start_time": "2021-12-27T20:20:41.001Z"
   },
   {
    "duration": 14,
    "start_time": "2021-12-27T20:20:41.530Z"
   },
   {
    "duration": 594,
    "start_time": "2021-12-27T20:20:41.546Z"
   },
   {
    "duration": 587,
    "start_time": "2021-12-27T20:20:42.143Z"
   },
   {
    "duration": 14,
    "start_time": "2021-12-27T20:20:42.735Z"
   },
   {
    "duration": 5,
    "start_time": "2021-12-27T20:22:45.910Z"
   },
   {
    "duration": 6,
    "start_time": "2021-12-27T20:22:52.692Z"
   },
   {
    "duration": 2015,
    "start_time": "2021-12-27T20:23:24.409Z"
   },
   {
    "duration": 27,
    "start_time": "2021-12-27T20:23:45.094Z"
   },
   {
    "duration": 10,
    "start_time": "2021-12-27T20:23:55.994Z"
   },
   {
    "duration": 1142,
    "start_time": "2021-12-28T02:45:43.937Z"
   },
   {
    "duration": 133,
    "start_time": "2021-12-28T02:45:45.081Z"
   },
   {
    "duration": 99,
    "start_time": "2021-12-28T02:45:45.216Z"
   },
   {
    "duration": 23,
    "start_time": "2021-12-28T02:45:45.317Z"
   },
   {
    "duration": 33,
    "start_time": "2021-12-28T02:45:45.342Z"
   },
   {
    "duration": 55,
    "start_time": "2021-12-28T02:45:45.376Z"
   },
   {
    "duration": 42,
    "start_time": "2021-12-28T02:45:45.433Z"
   },
   {
    "duration": 32,
    "start_time": "2021-12-28T02:45:45.478Z"
   },
   {
    "duration": 11,
    "start_time": "2021-12-28T02:45:45.511Z"
   },
   {
    "duration": 42,
    "start_time": "2021-12-28T02:45:45.524Z"
   },
   {
    "duration": 24,
    "start_time": "2021-12-28T02:45:45.568Z"
   },
   {
    "duration": 18,
    "start_time": "2021-12-28T02:45:45.594Z"
   },
   {
    "duration": 56,
    "start_time": "2021-12-28T02:45:45.614Z"
   },
   {
    "duration": 5,
    "start_time": "2021-12-28T02:45:45.672Z"
   },
   {
    "duration": 22,
    "start_time": "2021-12-28T02:45:45.678Z"
   },
   {
    "duration": 9,
    "start_time": "2021-12-28T02:45:45.702Z"
   },
   {
    "duration": 119,
    "start_time": "2021-12-28T02:45:45.712Z"
   },
   {
    "duration": 9,
    "start_time": "2021-12-28T02:45:45.833Z"
   },
   {
    "duration": 6,
    "start_time": "2021-12-28T02:45:45.844Z"
   },
   {
    "duration": 8,
    "start_time": "2021-12-28T02:45:45.852Z"
   },
   {
    "duration": 10,
    "start_time": "2021-12-28T02:45:45.862Z"
   },
   {
    "duration": 282,
    "start_time": "2021-12-28T02:45:45.873Z"
   },
   {
    "duration": 272,
    "start_time": "2021-12-28T02:45:46.158Z"
   },
   {
    "duration": 20,
    "start_time": "2021-12-28T02:45:46.432Z"
   },
   {
    "duration": 269,
    "start_time": "2021-12-28T02:45:46.454Z"
   },
   {
    "duration": 264,
    "start_time": "2021-12-28T02:45:46.724Z"
   },
   {
    "duration": 13,
    "start_time": "2021-12-28T02:45:46.990Z"
   },
   {
    "duration": 298,
    "start_time": "2021-12-28T02:45:47.005Z"
   },
   {
    "duration": 266,
    "start_time": "2021-12-28T02:45:47.305Z"
   },
   {
    "duration": 270,
    "start_time": "2021-12-28T02:45:47.573Z"
   },
   {
    "duration": 261,
    "start_time": "2021-12-28T02:45:47.845Z"
   },
   {
    "duration": 10,
    "start_time": "2021-12-28T02:45:48.108Z"
   },
   {
    "duration": 261,
    "start_time": "2021-12-28T02:45:48.119Z"
   },
   {
    "duration": 314,
    "start_time": "2021-12-28T02:45:48.382Z"
   },
   {
    "duration": 10,
    "start_time": "2021-12-28T02:45:48.698Z"
   },
   {
    "duration": 75,
    "start_time": "2022-05-10T16:34:30.088Z"
   },
   {
    "duration": 7,
    "start_time": "2022-05-10T16:34:35.543Z"
   },
   {
    "duration": 1692,
    "start_time": "2022-05-10T16:34:43.337Z"
   },
   {
    "duration": 206,
    "start_time": "2022-05-10T16:34:45.032Z"
   },
   {
    "duration": 143,
    "start_time": "2022-05-10T16:34:45.240Z"
   },
   {
    "duration": 45,
    "start_time": "2022-05-10T16:34:45.386Z"
   },
   {
    "duration": 49,
    "start_time": "2022-05-10T16:34:45.433Z"
   },
   {
    "duration": 91,
    "start_time": "2022-05-10T16:34:45.484Z"
   },
   {
    "duration": 78,
    "start_time": "2022-05-10T16:34:45.578Z"
   },
   {
    "duration": 78,
    "start_time": "2022-05-10T16:34:45.658Z"
   },
   {
    "duration": 19,
    "start_time": "2022-05-10T16:34:45.738Z"
   },
   {
    "duration": 64,
    "start_time": "2022-05-10T16:34:45.760Z"
   },
   {
    "duration": 29,
    "start_time": "2022-05-10T16:34:45.826Z"
   },
   {
    "duration": 51,
    "start_time": "2022-05-10T16:34:45.858Z"
   },
   {
    "duration": 48,
    "start_time": "2022-05-10T16:34:45.911Z"
   },
   {
    "duration": 6,
    "start_time": "2022-05-10T16:34:45.961Z"
   },
   {
    "duration": 59,
    "start_time": "2022-05-10T16:34:45.968Z"
   },
   {
    "duration": 8,
    "start_time": "2022-05-10T16:34:46.030Z"
   },
   {
    "duration": 90,
    "start_time": "2022-05-10T16:34:46.040Z"
   },
   {
    "duration": 6,
    "start_time": "2022-05-10T16:34:46.132Z"
   },
   {
    "duration": 8,
    "start_time": "2022-05-10T16:34:46.140Z"
   },
   {
    "duration": 11,
    "start_time": "2022-05-10T16:34:46.150Z"
   },
   {
    "duration": 50,
    "start_time": "2022-05-10T16:34:46.163Z"
   },
   {
    "duration": 340,
    "start_time": "2022-05-10T16:34:46.215Z"
   },
   {
    "duration": 329,
    "start_time": "2022-05-10T16:34:46.557Z"
   },
   {
    "duration": 22,
    "start_time": "2022-05-10T16:34:46.888Z"
   },
   {
    "duration": 324,
    "start_time": "2022-05-10T16:34:46.912Z"
   },
   {
    "duration": 335,
    "start_time": "2022-05-10T16:34:47.238Z"
   },
   {
    "duration": 34,
    "start_time": "2022-05-10T16:34:47.576Z"
   },
   {
    "duration": 304,
    "start_time": "2022-05-10T16:34:47.615Z"
   },
   {
    "duration": 305,
    "start_time": "2022-05-10T16:34:47.921Z"
   },
   {
    "duration": 316,
    "start_time": "2022-05-10T16:34:48.229Z"
   },
   {
    "duration": 305,
    "start_time": "2022-05-10T16:34:48.548Z"
   },
   {
    "duration": 11,
    "start_time": "2022-05-10T16:34:48.855Z"
   },
   {
    "duration": 27,
    "start_time": "2022-05-10T16:34:48.868Z"
   },
   {
    "duration": 302,
    "start_time": "2022-05-10T16:34:48.898Z"
   },
   {
    "duration": 369,
    "start_time": "2022-05-10T16:34:49.210Z"
   },
   {
    "duration": 23,
    "start_time": "2022-05-10T16:34:49.581Z"
   },
   {
    "duration": 26,
    "start_time": "2022-05-10T16:35:34.899Z"
   },
   {
    "duration": 1271,
    "start_time": "2022-06-17T11:27:20.093Z"
   },
   {
    "duration": 500,
    "start_time": "2022-06-17T11:27:21.366Z"
   },
   {
    "duration": 306,
    "start_time": "2022-06-17T11:27:21.868Z"
   },
   {
    "duration": 74,
    "start_time": "2022-06-17T11:27:22.176Z"
   },
   {
    "duration": 71,
    "start_time": "2022-06-17T11:27:22.252Z"
   },
   {
    "duration": 63,
    "start_time": "2022-06-17T11:27:22.325Z"
   },
   {
    "duration": 44,
    "start_time": "2022-06-17T11:27:22.390Z"
   },
   {
    "duration": 47,
    "start_time": "2022-06-17T11:27:22.436Z"
   },
   {
    "duration": 11,
    "start_time": "2022-06-17T11:27:22.485Z"
   },
   {
    "duration": 57,
    "start_time": "2022-06-17T11:27:22.499Z"
   },
   {
    "duration": 24,
    "start_time": "2022-06-17T11:27:22.558Z"
   },
   {
    "duration": 17,
    "start_time": "2022-06-17T11:27:22.583Z"
   },
   {
    "duration": 29,
    "start_time": "2022-06-17T11:27:22.602Z"
   },
   {
    "duration": 26,
    "start_time": "2022-06-17T11:27:22.633Z"
   },
   {
    "duration": 22,
    "start_time": "2022-06-17T11:27:22.660Z"
   },
   {
    "duration": 16,
    "start_time": "2022-06-17T11:27:22.683Z"
   },
   {
    "duration": 40,
    "start_time": "2022-06-17T11:27:22.700Z"
   },
   {
    "duration": 3,
    "start_time": "2022-06-17T11:27:22.742Z"
   },
   {
    "duration": 14,
    "start_time": "2022-06-17T11:27:22.747Z"
   },
   {
    "duration": 24,
    "start_time": "2022-06-17T11:27:22.763Z"
   },
   {
    "duration": 16,
    "start_time": "2022-06-17T11:27:22.789Z"
   },
   {
    "duration": 208,
    "start_time": "2022-06-17T11:27:22.806Z"
   },
   {
    "duration": 199,
    "start_time": "2022-06-17T11:27:23.016Z"
   },
   {
    "duration": 13,
    "start_time": "2022-06-17T11:27:23.217Z"
   },
   {
    "duration": 189,
    "start_time": "2022-06-17T11:27:23.232Z"
   },
   {
    "duration": 193,
    "start_time": "2022-06-17T11:27:23.423Z"
   },
   {
    "duration": 12,
    "start_time": "2022-06-17T11:27:23.618Z"
   },
   {
    "duration": 186,
    "start_time": "2022-06-17T11:27:23.633Z"
   },
   {
    "duration": 168,
    "start_time": "2022-06-17T11:27:23.820Z"
   },
   {
    "duration": 181,
    "start_time": "2022-06-17T11:27:23.990Z"
   },
   {
    "duration": 160,
    "start_time": "2022-06-17T11:27:24.173Z"
   },
   {
    "duration": 8,
    "start_time": "2022-06-17T11:27:24.334Z"
   },
   {
    "duration": 168,
    "start_time": "2022-06-17T11:27:24.343Z"
   },
   {
    "duration": 252,
    "start_time": "2022-06-17T11:27:24.512Z"
   },
   {
    "duration": 7,
    "start_time": "2022-06-17T11:27:24.766Z"
   }
  ],
  "kernelspec": {
   "display_name": "Python 3 (ipykernel)",
   "language": "python",
   "name": "python3"
  },
  "language_info": {
   "codemirror_mode": {
    "name": "ipython",
    "version": 3
   },
   "file_extension": ".py",
   "mimetype": "text/x-python",
   "name": "python",
   "nbconvert_exporter": "python",
   "pygments_lexer": "ipython3",
   "version": "3.9.7"
  },
  "toc": {
   "base_numbering": 1,
   "nav_menu": {},
   "number_sections": true,
   "sideBar": true,
   "skip_h1_title": true,
   "title_cell": "Table of Contents",
   "title_sidebar": "Contents",
   "toc_cell": false,
   "toc_position": {},
   "toc_section_display": true,
   "toc_window_display": false
  }
 },
 "nbformat": 4,
 "nbformat_minor": 2
}
