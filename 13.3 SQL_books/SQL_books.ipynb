{
 "cells": [
  {
   "cell_type": "markdown",
   "metadata": {},
   "source": [
    "# SQL - Книги\n",
    "\n",
    "Ваша компания купила крупный сервис для чтения книг по подписке. Ваша первая задача как аналитика — проанализировать базу данных. В ней — информация о книгах, издательствах, авторах, а также пользовательские обзоры книг. Эти данные помогут сформулировать ценностное предложение для нового продукта.\n",
    "\n",
    "Задания:\n",
    "* Посчитайте, сколько книг вышло после 1 января 2000 года;\n",
    "* Для каждой книги посчитайте количество обзоров и среднюю оценку;\n",
    "* Определите издательство, которое выпустило наибольшее число книг толще 50 страниц — так вы исключите из анализа брошюры;\n",
    "* Определите автора с самой высокой средней оценкой книг — учитывайте только книги с 50 и более оценками;\n",
    "* Посчитайте среднее количество обзоров от пользователей, которые поставили больше 50 оценок."
   ]
  },
  {
   "cell_type": "code",
   "execution_count": 1,
   "metadata": {},
   "outputs": [],
   "source": [
    "# импортируем библиотеки\n",
    "import pandas as pd \n",
    "from sqlalchemy import create_engine \n",
    "# устанавливаем параметры\n",
    "db_config = {'user': 'praktikum_student', # имя пользователя\n",
    " 'pwd': 'Sdf4$2;d-d30pp', # пароль\n",
    " 'host': 'rc1b-wcoijxj3yxfsf3fs.mdb.yandexcloud.net', \n",
    " 'port': 6432, # порт подключения\n",
    " 'db': 'data-analyst-final-project-db'} # название базы данных\n",
    "connection_string = 'postgresql://{}:{}@{}:{}/{}'.format(db_config['user'], \n",
    " db_config['pwd'], \n",
    " db_config['host'], \n",
    " db_config['port'], \n",
    " db_config['db']) \n",
    "# сохраняем коннектор\n",
    "engine = create_engine(connection_string, connect_args={'sslmode':'require'}) "
   ]
  },
  {
   "cell_type": "code",
   "execution_count": 2,
   "metadata": {},
   "outputs": [
    {
     "data": {
      "text/html": [
       "<div>\n",
       "<style scoped>\n",
       "    .dataframe tbody tr th:only-of-type {\n",
       "        vertical-align: middle;\n",
       "    }\n",
       "\n",
       "    .dataframe tbody tr th {\n",
       "        vertical-align: top;\n",
       "    }\n",
       "\n",
       "    .dataframe thead th {\n",
       "        text-align: right;\n",
       "    }\n",
       "</style>\n",
       "<table border=\"1\" class=\"dataframe\">\n",
       "  <thead>\n",
       "    <tr style=\"text-align: right;\">\n",
       "      <th></th>\n",
       "      <th>book_id</th>\n",
       "      <th>author_id</th>\n",
       "      <th>title</th>\n",
       "      <th>num_pages</th>\n",
       "      <th>publication_date</th>\n",
       "      <th>publisher_id</th>\n",
       "    </tr>\n",
       "  </thead>\n",
       "  <tbody>\n",
       "    <tr>\n",
       "      <th>0</th>\n",
       "      <td>1</td>\n",
       "      <td>546</td>\n",
       "      <td>'Salem's Lot</td>\n",
       "      <td>594</td>\n",
       "      <td>2005-11-01</td>\n",
       "      <td>93</td>\n",
       "    </tr>\n",
       "    <tr>\n",
       "      <th>1</th>\n",
       "      <td>2</td>\n",
       "      <td>465</td>\n",
       "      <td>1 000 Places to See Before You Die</td>\n",
       "      <td>992</td>\n",
       "      <td>2003-05-22</td>\n",
       "      <td>336</td>\n",
       "    </tr>\n",
       "    <tr>\n",
       "      <th>2</th>\n",
       "      <td>3</td>\n",
       "      <td>407</td>\n",
       "      <td>13 Little Blue Envelopes (Little Blue Envelope...</td>\n",
       "      <td>322</td>\n",
       "      <td>2010-12-21</td>\n",
       "      <td>135</td>\n",
       "    </tr>\n",
       "    <tr>\n",
       "      <th>3</th>\n",
       "      <td>4</td>\n",
       "      <td>82</td>\n",
       "      <td>1491: New Revelations of the Americas Before C...</td>\n",
       "      <td>541</td>\n",
       "      <td>2006-10-10</td>\n",
       "      <td>309</td>\n",
       "    </tr>\n",
       "    <tr>\n",
       "      <th>4</th>\n",
       "      <td>5</td>\n",
       "      <td>125</td>\n",
       "      <td>1776</td>\n",
       "      <td>386</td>\n",
       "      <td>2006-07-04</td>\n",
       "      <td>268</td>\n",
       "    </tr>\n",
       "  </tbody>\n",
       "</table>\n",
       "</div>"
      ],
      "text/plain": [
       "   book_id  author_id                                              title  \\\n",
       "0        1        546                                       'Salem's Lot   \n",
       "1        2        465                 1 000 Places to See Before You Die   \n",
       "2        3        407  13 Little Blue Envelopes (Little Blue Envelope...   \n",
       "3        4         82  1491: New Revelations of the Americas Before C...   \n",
       "4        5        125                                               1776   \n",
       "\n",
       "   num_pages publication_date  publisher_id  \n",
       "0        594       2005-11-01            93  \n",
       "1        992       2003-05-22           336  \n",
       "2        322       2010-12-21           135  \n",
       "3        541       2006-10-10           309  \n",
       "4        386       2006-07-04           268  "
      ]
     },
     "execution_count": 2,
     "metadata": {},
     "output_type": "execute_result"
    }
   ],
   "source": [
    "pd.io.sql.read_sql('''SELECT * FROM books LIMIT 5''', con = engine)"
   ]
  },
  {
   "cell_type": "markdown",
   "metadata": {},
   "source": [
    "Содержит данные о книгах:\n",
    "\n",
    "* `book_id` — идентификатор книги;\n",
    "* `author_id` — идентификатор автора;\n",
    "* `title` — название книги;\n",
    "* `num_pages` — количество страниц;\n",
    "* `publication_date` — дата публикации книги;\n",
    "* `publisher_id` — идентификатор издателя."
   ]
  },
  {
   "cell_type": "code",
   "execution_count": 3,
   "metadata": {},
   "outputs": [
    {
     "data": {
      "text/html": [
       "<div>\n",
       "<style scoped>\n",
       "    .dataframe tbody tr th:only-of-type {\n",
       "        vertical-align: middle;\n",
       "    }\n",
       "\n",
       "    .dataframe tbody tr th {\n",
       "        vertical-align: top;\n",
       "    }\n",
       "\n",
       "    .dataframe thead th {\n",
       "        text-align: right;\n",
       "    }\n",
       "</style>\n",
       "<table border=\"1\" class=\"dataframe\">\n",
       "  <thead>\n",
       "    <tr style=\"text-align: right;\">\n",
       "      <th></th>\n",
       "      <th>author_id</th>\n",
       "      <th>author</th>\n",
       "    </tr>\n",
       "  </thead>\n",
       "  <tbody>\n",
       "    <tr>\n",
       "      <th>0</th>\n",
       "      <td>1</td>\n",
       "      <td>A.S. Byatt</td>\n",
       "    </tr>\n",
       "    <tr>\n",
       "      <th>1</th>\n",
       "      <td>2</td>\n",
       "      <td>Aesop/Laura Harris/Laura Gibbs</td>\n",
       "    </tr>\n",
       "    <tr>\n",
       "      <th>2</th>\n",
       "      <td>3</td>\n",
       "      <td>Agatha Christie</td>\n",
       "    </tr>\n",
       "    <tr>\n",
       "      <th>3</th>\n",
       "      <td>4</td>\n",
       "      <td>Alan Brennert</td>\n",
       "    </tr>\n",
       "    <tr>\n",
       "      <th>4</th>\n",
       "      <td>5</td>\n",
       "      <td>Alan Moore/David   Lloyd</td>\n",
       "    </tr>\n",
       "  </tbody>\n",
       "</table>\n",
       "</div>"
      ],
      "text/plain": [
       "   author_id                          author\n",
       "0          1                      A.S. Byatt\n",
       "1          2  Aesop/Laura Harris/Laura Gibbs\n",
       "2          3                 Agatha Christie\n",
       "3          4                   Alan Brennert\n",
       "4          5        Alan Moore/David   Lloyd"
      ]
     },
     "execution_count": 3,
     "metadata": {},
     "output_type": "execute_result"
    }
   ],
   "source": [
    "pd.io.sql.read_sql('''SELECT * FROM  authors LIMIT 5''', con = engine)"
   ]
  },
  {
   "cell_type": "markdown",
   "metadata": {},
   "source": [
    "Содержит данные об авторах:\n",
    "\n",
    "* `author_id` — идентификатор автора;\n",
    "* `author` — имя автора."
   ]
  },
  {
   "cell_type": "code",
   "execution_count": 4,
   "metadata": {},
   "outputs": [
    {
     "data": {
      "text/html": [
       "<div>\n",
       "<style scoped>\n",
       "    .dataframe tbody tr th:only-of-type {\n",
       "        vertical-align: middle;\n",
       "    }\n",
       "\n",
       "    .dataframe tbody tr th {\n",
       "        vertical-align: top;\n",
       "    }\n",
       "\n",
       "    .dataframe thead th {\n",
       "        text-align: right;\n",
       "    }\n",
       "</style>\n",
       "<table border=\"1\" class=\"dataframe\">\n",
       "  <thead>\n",
       "    <tr style=\"text-align: right;\">\n",
       "      <th></th>\n",
       "      <th>publisher_id</th>\n",
       "      <th>publisher</th>\n",
       "    </tr>\n",
       "  </thead>\n",
       "  <tbody>\n",
       "    <tr>\n",
       "      <th>0</th>\n",
       "      <td>1</td>\n",
       "      <td>Ace</td>\n",
       "    </tr>\n",
       "    <tr>\n",
       "      <th>1</th>\n",
       "      <td>2</td>\n",
       "      <td>Ace Book</td>\n",
       "    </tr>\n",
       "    <tr>\n",
       "      <th>2</th>\n",
       "      <td>3</td>\n",
       "      <td>Ace Books</td>\n",
       "    </tr>\n",
       "    <tr>\n",
       "      <th>3</th>\n",
       "      <td>4</td>\n",
       "      <td>Ace Hardcover</td>\n",
       "    </tr>\n",
       "    <tr>\n",
       "      <th>4</th>\n",
       "      <td>5</td>\n",
       "      <td>Addison Wesley Publishing Company</td>\n",
       "    </tr>\n",
       "  </tbody>\n",
       "</table>\n",
       "</div>"
      ],
      "text/plain": [
       "   publisher_id                          publisher\n",
       "0             1                                Ace\n",
       "1             2                           Ace Book\n",
       "2             3                          Ace Books\n",
       "3             4                      Ace Hardcover\n",
       "4             5  Addison Wesley Publishing Company"
      ]
     },
     "execution_count": 4,
     "metadata": {},
     "output_type": "execute_result"
    }
   ],
   "source": [
    "pd.io.sql.read_sql('''SELECT * FROM  publishers LIMIT 5''', con = engine)"
   ]
  },
  {
   "cell_type": "markdown",
   "metadata": {},
   "source": [
    "Содержит данные об издательствах:\n",
    "\n",
    "* `publisher_id` — идентификатор издательства;\n",
    "* `publisher` — название издательства."
   ]
  },
  {
   "cell_type": "code",
   "execution_count": 5,
   "metadata": {},
   "outputs": [
    {
     "data": {
      "text/html": [
       "<div>\n",
       "<style scoped>\n",
       "    .dataframe tbody tr th:only-of-type {\n",
       "        vertical-align: middle;\n",
       "    }\n",
       "\n",
       "    .dataframe tbody tr th {\n",
       "        vertical-align: top;\n",
       "    }\n",
       "\n",
       "    .dataframe thead th {\n",
       "        text-align: right;\n",
       "    }\n",
       "</style>\n",
       "<table border=\"1\" class=\"dataframe\">\n",
       "  <thead>\n",
       "    <tr style=\"text-align: right;\">\n",
       "      <th></th>\n",
       "      <th>rating_id</th>\n",
       "      <th>book_id</th>\n",
       "      <th>username</th>\n",
       "      <th>rating</th>\n",
       "    </tr>\n",
       "  </thead>\n",
       "  <tbody>\n",
       "    <tr>\n",
       "      <th>0</th>\n",
       "      <td>1</td>\n",
       "      <td>1</td>\n",
       "      <td>ryanfranco</td>\n",
       "      <td>4</td>\n",
       "    </tr>\n",
       "    <tr>\n",
       "      <th>1</th>\n",
       "      <td>2</td>\n",
       "      <td>1</td>\n",
       "      <td>grantpatricia</td>\n",
       "      <td>2</td>\n",
       "    </tr>\n",
       "    <tr>\n",
       "      <th>2</th>\n",
       "      <td>3</td>\n",
       "      <td>1</td>\n",
       "      <td>brandtandrea</td>\n",
       "      <td>5</td>\n",
       "    </tr>\n",
       "    <tr>\n",
       "      <th>3</th>\n",
       "      <td>4</td>\n",
       "      <td>2</td>\n",
       "      <td>lorichen</td>\n",
       "      <td>3</td>\n",
       "    </tr>\n",
       "    <tr>\n",
       "      <th>4</th>\n",
       "      <td>5</td>\n",
       "      <td>2</td>\n",
       "      <td>mariokeller</td>\n",
       "      <td>2</td>\n",
       "    </tr>\n",
       "  </tbody>\n",
       "</table>\n",
       "</div>"
      ],
      "text/plain": [
       "   rating_id  book_id       username  rating\n",
       "0          1        1     ryanfranco       4\n",
       "1          2        1  grantpatricia       2\n",
       "2          3        1   brandtandrea       5\n",
       "3          4        2       lorichen       3\n",
       "4          5        2    mariokeller       2"
      ]
     },
     "execution_count": 5,
     "metadata": {},
     "output_type": "execute_result"
    }
   ],
   "source": [
    "pd.io.sql.read_sql('''SELECT * FROM  ratings LIMIT 5''', con = engine) "
   ]
  },
  {
   "cell_type": "markdown",
   "metadata": {},
   "source": [
    "Содержит данные о пользовательских оценках книг:\n",
    "\n",
    "* `rating_id` — идентификатор оценки;\n",
    "* `book_id` — идентификатор книги;\n",
    "* `username` — имя пользователя, оставившего оценку;\n",
    "* `rating` — оценка книги."
   ]
  },
  {
   "cell_type": "code",
   "execution_count": 6,
   "metadata": {},
   "outputs": [
    {
     "data": {
      "text/html": [
       "<div>\n",
       "<style scoped>\n",
       "    .dataframe tbody tr th:only-of-type {\n",
       "        vertical-align: middle;\n",
       "    }\n",
       "\n",
       "    .dataframe tbody tr th {\n",
       "        vertical-align: top;\n",
       "    }\n",
       "\n",
       "    .dataframe thead th {\n",
       "        text-align: right;\n",
       "    }\n",
       "</style>\n",
       "<table border=\"1\" class=\"dataframe\">\n",
       "  <thead>\n",
       "    <tr style=\"text-align: right;\">\n",
       "      <th></th>\n",
       "      <th>review_id</th>\n",
       "      <th>book_id</th>\n",
       "      <th>username</th>\n",
       "      <th>text</th>\n",
       "    </tr>\n",
       "  </thead>\n",
       "  <tbody>\n",
       "    <tr>\n",
       "      <th>0</th>\n",
       "      <td>1</td>\n",
       "      <td>1</td>\n",
       "      <td>brandtandrea</td>\n",
       "      <td>Mention society tell send professor analysis. ...</td>\n",
       "    </tr>\n",
       "    <tr>\n",
       "      <th>1</th>\n",
       "      <td>2</td>\n",
       "      <td>1</td>\n",
       "      <td>ryanfranco</td>\n",
       "      <td>Foot glass pretty audience hit themselves. Amo...</td>\n",
       "    </tr>\n",
       "    <tr>\n",
       "      <th>2</th>\n",
       "      <td>3</td>\n",
       "      <td>2</td>\n",
       "      <td>lorichen</td>\n",
       "      <td>Listen treat keep worry. Miss husband tax but ...</td>\n",
       "    </tr>\n",
       "    <tr>\n",
       "      <th>3</th>\n",
       "      <td>4</td>\n",
       "      <td>3</td>\n",
       "      <td>johnsonamanda</td>\n",
       "      <td>Finally month interesting blue could nature cu...</td>\n",
       "    </tr>\n",
       "    <tr>\n",
       "      <th>4</th>\n",
       "      <td>5</td>\n",
       "      <td>3</td>\n",
       "      <td>scotttamara</td>\n",
       "      <td>Nation purpose heavy give wait song will. List...</td>\n",
       "    </tr>\n",
       "  </tbody>\n",
       "</table>\n",
       "</div>"
      ],
      "text/plain": [
       "   review_id  book_id       username  \\\n",
       "0          1        1   brandtandrea   \n",
       "1          2        1     ryanfranco   \n",
       "2          3        2       lorichen   \n",
       "3          4        3  johnsonamanda   \n",
       "4          5        3    scotttamara   \n",
       "\n",
       "                                                text  \n",
       "0  Mention society tell send professor analysis. ...  \n",
       "1  Foot glass pretty audience hit themselves. Amo...  \n",
       "2  Listen treat keep worry. Miss husband tax but ...  \n",
       "3  Finally month interesting blue could nature cu...  \n",
       "4  Nation purpose heavy give wait song will. List...  "
      ]
     },
     "execution_count": 6,
     "metadata": {},
     "output_type": "execute_result"
    }
   ],
   "source": [
    "pd.io.sql.read_sql('''SELECT * FROM  reviews LIMIT 5''', con = engine)"
   ]
  },
  {
   "cell_type": "markdown",
   "metadata": {},
   "source": [
    "Содержит данные о пользовательских обзорах на книги:\n",
    "\n",
    "* `review_id` — идентификатор обзора;\n",
    "* `book_id` — идентификатор книги;\n",
    "* `username` — имя пользователя, написавшего обзор;\n",
    "* `text` — текст обзора"
   ]
  },
  {
   "cell_type": "code",
   "execution_count": 7,
   "metadata": {},
   "outputs": [
    {
     "data": {
      "text/html": [
       "<div>\n",
       "<style scoped>\n",
       "    .dataframe tbody tr th:only-of-type {\n",
       "        vertical-align: middle;\n",
       "    }\n",
       "\n",
       "    .dataframe tbody tr th {\n",
       "        vertical-align: top;\n",
       "    }\n",
       "\n",
       "    .dataframe thead th {\n",
       "        text-align: right;\n",
       "    }\n",
       "</style>\n",
       "<table border=\"1\" class=\"dataframe\">\n",
       "  <thead>\n",
       "    <tr style=\"text-align: right;\">\n",
       "      <th></th>\n",
       "      <th>count</th>\n",
       "    </tr>\n",
       "  </thead>\n",
       "  <tbody>\n",
       "    <tr>\n",
       "      <th>0</th>\n",
       "      <td>819</td>\n",
       "    </tr>\n",
       "  </tbody>\n",
       "</table>\n",
       "</div>"
      ],
      "text/plain": [
       "   count\n",
       "0    819"
      ]
     },
     "execution_count": 7,
     "metadata": {},
     "output_type": "execute_result"
    }
   ],
   "source": [
    "# Посчитайте, сколько книг вышло после 1 января 2000 года\n",
    "pd.io.sql.read_sql(\n",
    "    '''SELECT COUNT(DISTINCT book_id) \n",
    "         FROM books \n",
    "        WHERE publication_date > '2000-01-01'\n",
    "    '''\n",
    ", con = engine)"
   ]
  },
  {
   "cell_type": "markdown",
   "metadata": {},
   "source": [
    "819 книг вышло после 1 января 2000 года."
   ]
  },
  {
   "cell_type": "code",
   "execution_count": 8,
   "metadata": {},
   "outputs": [
    {
     "data": {
      "text/html": [
       "<div>\n",
       "<style scoped>\n",
       "    .dataframe tbody tr th:only-of-type {\n",
       "        vertical-align: middle;\n",
       "    }\n",
       "\n",
       "    .dataframe tbody tr th {\n",
       "        vertical-align: top;\n",
       "    }\n",
       "\n",
       "    .dataframe thead th {\n",
       "        text-align: right;\n",
       "    }\n",
       "</style>\n",
       "<table border=\"1\" class=\"dataframe\">\n",
       "  <thead>\n",
       "    <tr style=\"text-align: right;\">\n",
       "      <th></th>\n",
       "      <th>title</th>\n",
       "      <th>book_id</th>\n",
       "      <th>reviews</th>\n",
       "      <th>avg_rating</th>\n",
       "    </tr>\n",
       "  </thead>\n",
       "  <tbody>\n",
       "    <tr>\n",
       "      <th>0</th>\n",
       "      <td>Pop Goes the Weasel (Alex Cross  #5)</td>\n",
       "      <td>518</td>\n",
       "      <td>2.0</td>\n",
       "      <td>5.00</td>\n",
       "    </tr>\n",
       "    <tr>\n",
       "      <th>1</th>\n",
       "      <td>The Ghost Map: The Story of London's Most Terr...</td>\n",
       "      <td>732</td>\n",
       "      <td>2.0</td>\n",
       "      <td>5.00</td>\n",
       "    </tr>\n",
       "    <tr>\n",
       "      <th>2</th>\n",
       "      <td>In the Hand of the Goddess (Song of the Liones...</td>\n",
       "      <td>347</td>\n",
       "      <td>2.0</td>\n",
       "      <td>5.00</td>\n",
       "    </tr>\n",
       "    <tr>\n",
       "      <th>3</th>\n",
       "      <td>Tai-Pan (Asian Saga  #2)</td>\n",
       "      <td>610</td>\n",
       "      <td>2.0</td>\n",
       "      <td>5.00</td>\n",
       "    </tr>\n",
       "    <tr>\n",
       "      <th>4</th>\n",
       "      <td>How to Be a Domestic Goddess: Baking and the A...</td>\n",
       "      <td>330</td>\n",
       "      <td>1.0</td>\n",
       "      <td>5.00</td>\n",
       "    </tr>\n",
       "    <tr>\n",
       "      <th>...</th>\n",
       "      <td>...</td>\n",
       "      <td>...</td>\n",
       "      <td>...</td>\n",
       "      <td>...</td>\n",
       "    </tr>\n",
       "    <tr>\n",
       "      <th>995</th>\n",
       "      <td>The World Is Flat: A Brief History of the Twen...</td>\n",
       "      <td>915</td>\n",
       "      <td>3.0</td>\n",
       "      <td>2.25</td>\n",
       "    </tr>\n",
       "    <tr>\n",
       "      <th>996</th>\n",
       "      <td>Junky</td>\n",
       "      <td>371</td>\n",
       "      <td>2.0</td>\n",
       "      <td>2.00</td>\n",
       "    </tr>\n",
       "    <tr>\n",
       "      <th>997</th>\n",
       "      <td>His Excellency: George Washington</td>\n",
       "      <td>316</td>\n",
       "      <td>2.0</td>\n",
       "      <td>2.00</td>\n",
       "    </tr>\n",
       "    <tr>\n",
       "      <th>998</th>\n",
       "      <td>Drowning Ruth</td>\n",
       "      <td>202</td>\n",
       "      <td>3.0</td>\n",
       "      <td>2.00</td>\n",
       "    </tr>\n",
       "    <tr>\n",
       "      <th>999</th>\n",
       "      <td>Harvesting the Heart</td>\n",
       "      <td>303</td>\n",
       "      <td>2.0</td>\n",
       "      <td>1.50</td>\n",
       "    </tr>\n",
       "  </tbody>\n",
       "</table>\n",
       "<p>1000 rows × 4 columns</p>\n",
       "</div>"
      ],
      "text/plain": [
       "                                                 title  book_id  reviews  \\\n",
       "0                 Pop Goes the Weasel (Alex Cross  #5)      518      2.0   \n",
       "1    The Ghost Map: The Story of London's Most Terr...      732      2.0   \n",
       "2    In the Hand of the Goddess (Song of the Liones...      347      2.0   \n",
       "3                             Tai-Pan (Asian Saga  #2)      610      2.0   \n",
       "4    How to Be a Domestic Goddess: Baking and the A...      330      1.0   \n",
       "..                                                 ...      ...      ...   \n",
       "995  The World Is Flat: A Brief History of the Twen...      915      3.0   \n",
       "996                                              Junky      371      2.0   \n",
       "997                  His Excellency: George Washington      316      2.0   \n",
       "998                                      Drowning Ruth      202      3.0   \n",
       "999                               Harvesting the Heart      303      2.0   \n",
       "\n",
       "     avg_rating  \n",
       "0          5.00  \n",
       "1          5.00  \n",
       "2          5.00  \n",
       "3          5.00  \n",
       "4          5.00  \n",
       "..          ...  \n",
       "995        2.25  \n",
       "996        2.00  \n",
       "997        2.00  \n",
       "998        2.00  \n",
       "999        1.50  \n",
       "\n",
       "[1000 rows x 4 columns]"
      ]
     },
     "execution_count": 8,
     "metadata": {},
     "output_type": "execute_result"
    }
   ],
   "source": [
    "# Для каждой книги посчитайте количество обзоров и среднюю оценку\n",
    "pd.io.sql.read_sql(\n",
    "    '''SELECT b.title,\n",
    "              b.book_id,\n",
    "              c_r.count_rev AS reviews,\n",
    "              a_r.avg_rat AS avg_rating\n",
    "         FROM books AS b\n",
    "              LEFT JOIN \n",
    "                       (SELECT r.book_id,\n",
    "                               AVG(r.rating) AS avg_rat\n",
    "                          FROM ratings AS r\n",
    "                      GROUP BY r.book_id) AS a_r ON a_r.book_id = b.book_id\n",
    "              LEFT JOIN \n",
    "                       (SELECT rev.book_id,\n",
    "                               COUNT(rev.review_id) AS count_rev\n",
    "                          FROM reviews AS rev\n",
    "                      GROUP BY rev.book_id) AS c_r ON c_r.book_id = b.book_id\n",
    "     ORDER BY avg_rating DESC;\n",
    "    '''\n",
    ", con = engine)"
   ]
  },
  {
   "cell_type": "code",
   "execution_count": 9,
   "metadata": {},
   "outputs": [
    {
     "data": {
      "text/html": [
       "<div>\n",
       "<style scoped>\n",
       "    .dataframe tbody tr th:only-of-type {\n",
       "        vertical-align: middle;\n",
       "    }\n",
       "\n",
       "    .dataframe tbody tr th {\n",
       "        vertical-align: top;\n",
       "    }\n",
       "\n",
       "    .dataframe thead th {\n",
       "        text-align: right;\n",
       "    }\n",
       "</style>\n",
       "<table border=\"1\" class=\"dataframe\">\n",
       "  <thead>\n",
       "    <tr style=\"text-align: right;\">\n",
       "      <th></th>\n",
       "      <th>publisher</th>\n",
       "      <th>count_titles</th>\n",
       "    </tr>\n",
       "  </thead>\n",
       "  <tbody>\n",
       "    <tr>\n",
       "      <th>0</th>\n",
       "      <td>Penguin Books</td>\n",
       "      <td>42</td>\n",
       "    </tr>\n",
       "    <tr>\n",
       "      <th>1</th>\n",
       "      <td>Vintage</td>\n",
       "      <td>31</td>\n",
       "    </tr>\n",
       "    <tr>\n",
       "      <th>2</th>\n",
       "      <td>Grand Central Publishing</td>\n",
       "      <td>25</td>\n",
       "    </tr>\n",
       "    <tr>\n",
       "      <th>3</th>\n",
       "      <td>Penguin Classics</td>\n",
       "      <td>24</td>\n",
       "    </tr>\n",
       "    <tr>\n",
       "      <th>4</th>\n",
       "      <td>Bantam</td>\n",
       "      <td>19</td>\n",
       "    </tr>\n",
       "  </tbody>\n",
       "</table>\n",
       "</div>"
      ],
      "text/plain": [
       "                  publisher  count_titles\n",
       "0             Penguin Books            42\n",
       "1                   Vintage            31\n",
       "2  Grand Central Publishing            25\n",
       "3          Penguin Classics            24\n",
       "4                    Bantam            19"
      ]
     },
     "execution_count": 9,
     "metadata": {},
     "output_type": "execute_result"
    }
   ],
   "source": [
    "# Определите издательство, которое выпустило наибольшее число книг толще 50 страниц\n",
    "pd.io.sql.read_sql(\n",
    "    '''SELECT p.publisher,\n",
    "              COUNT(b.title) AS count_titles\n",
    "         FROM books AS b\n",
    "         JOIN publishers AS p ON b.publisher_id = p.publisher_id\n",
    "        WHERE b.num_pages > 50\n",
    "     GROUP BY p.publisher\n",
    "     ORDER BY count_titles DESC\n",
    "        LIMIT 5;\n",
    "    '''\n",
    ", con = engine)"
   ]
  },
  {
   "cell_type": "markdown",
   "metadata": {},
   "source": [
    "Penguin Books выпустило наибольшее число книг толще 50 страниц - 42 штуки."
   ]
  },
  {
   "cell_type": "code",
   "execution_count": 10,
   "metadata": {},
   "outputs": [
    {
     "data": {
      "text/html": [
       "<div>\n",
       "<style scoped>\n",
       "    .dataframe tbody tr th:only-of-type {\n",
       "        vertical-align: middle;\n",
       "    }\n",
       "\n",
       "    .dataframe tbody tr th {\n",
       "        vertical-align: top;\n",
       "    }\n",
       "\n",
       "    .dataframe thead th {\n",
       "        text-align: right;\n",
       "    }\n",
       "</style>\n",
       "<table border=\"1\" class=\"dataframe\">\n",
       "  <thead>\n",
       "    <tr style=\"text-align: right;\">\n",
       "      <th></th>\n",
       "      <th>author</th>\n",
       "      <th>avg_rating</th>\n",
       "    </tr>\n",
       "  </thead>\n",
       "  <tbody>\n",
       "    <tr>\n",
       "      <th>0</th>\n",
       "      <td>J.K. Rowling/Mary GrandPré</td>\n",
       "      <td>4.283844</td>\n",
       "    </tr>\n",
       "    <tr>\n",
       "      <th>1</th>\n",
       "      <td>Markus Zusak/Cao Xuân Việt Khương</td>\n",
       "      <td>4.264151</td>\n",
       "    </tr>\n",
       "    <tr>\n",
       "      <th>2</th>\n",
       "      <td>J.R.R. Tolkien</td>\n",
       "      <td>4.258446</td>\n",
       "    </tr>\n",
       "    <tr>\n",
       "      <th>3</th>\n",
       "      <td>Louisa May Alcott</td>\n",
       "      <td>4.192308</td>\n",
       "    </tr>\n",
       "    <tr>\n",
       "      <th>4</th>\n",
       "      <td>Rick Riordan</td>\n",
       "      <td>4.080645</td>\n",
       "    </tr>\n",
       "    <tr>\n",
       "      <th>5</th>\n",
       "      <td>William Golding</td>\n",
       "      <td>3.901408</td>\n",
       "    </tr>\n",
       "    <tr>\n",
       "      <th>6</th>\n",
       "      <td>J.D. Salinger</td>\n",
       "      <td>3.825581</td>\n",
       "    </tr>\n",
       "    <tr>\n",
       "      <th>7</th>\n",
       "      <td>Paulo Coelho/Alan R. Clarke/Özdemir İnce</td>\n",
       "      <td>3.789474</td>\n",
       "    </tr>\n",
       "    <tr>\n",
       "      <th>8</th>\n",
       "      <td>William Shakespeare/Paul Werstine/Barbara A. M...</td>\n",
       "      <td>3.787879</td>\n",
       "    </tr>\n",
       "    <tr>\n",
       "      <th>9</th>\n",
       "      <td>Dan Brown</td>\n",
       "      <td>3.754540</td>\n",
       "    </tr>\n",
       "    <tr>\n",
       "      <th>10</th>\n",
       "      <td>Lois Lowry</td>\n",
       "      <td>3.750000</td>\n",
       "    </tr>\n",
       "    <tr>\n",
       "      <th>11</th>\n",
       "      <td>George Orwell/Boris Grabnar/Peter Škerl</td>\n",
       "      <td>3.729730</td>\n",
       "    </tr>\n",
       "    <tr>\n",
       "      <th>12</th>\n",
       "      <td>Stephenie Meyer</td>\n",
       "      <td>3.662500</td>\n",
       "    </tr>\n",
       "    <tr>\n",
       "      <th>13</th>\n",
       "      <td>John Steinbeck</td>\n",
       "      <td>3.622951</td>\n",
       "    </tr>\n",
       "  </tbody>\n",
       "</table>\n",
       "</div>"
      ],
      "text/plain": [
       "                                               author  avg_rating\n",
       "0                          J.K. Rowling/Mary GrandPré    4.283844\n",
       "1                   Markus Zusak/Cao Xuân Việt Khương    4.264151\n",
       "2                                      J.R.R. Tolkien    4.258446\n",
       "3                                   Louisa May Alcott    4.192308\n",
       "4                                        Rick Riordan    4.080645\n",
       "5                                     William Golding    3.901408\n",
       "6                                       J.D. Salinger    3.825581\n",
       "7            Paulo Coelho/Alan R. Clarke/Özdemir İnce    3.789474\n",
       "8   William Shakespeare/Paul Werstine/Barbara A. M...    3.787879\n",
       "9                                           Dan Brown    3.754540\n",
       "10                                         Lois Lowry    3.750000\n",
       "11            George Orwell/Boris Grabnar/Peter Škerl    3.729730\n",
       "12                                    Stephenie Meyer    3.662500\n",
       "13                                     John Steinbeck    3.622951"
      ]
     },
     "execution_count": 10,
     "metadata": {},
     "output_type": "execute_result"
    }
   ],
   "source": [
    "# Определите автора с самой высокой средней оценкой книг — учитывайте только книги с 50 и более оценками\n",
    "pd.io.sql.read_sql(\n",
    "    '''SELECT au_r.author,\n",
    "              AVG(au_r.avg_of_rating) AS avg_rating\n",
    "       FROM\n",
    "           (SELECT a.author,\n",
    "                   AVG(r.rating) AS avg_of_rating\n",
    "              FROM books AS b\n",
    "              JOIN authors AS a ON b.author_id = a.author_id\n",
    "              JOIN ratings AS r ON b.book_id = r.book_id\n",
    "          GROUP BY b.book_id, a.author\n",
    "      HAVING COUNT(r.rating) >= 50) AS au_r\n",
    "     GROUP BY au_r.author\n",
    "     ORDER BY avg_rating DESC; \n",
    "    '''\n",
    ", con = engine)"
   ]
  },
  {
   "cell_type": "markdown",
   "metadata": {},
   "source": [
    "Автор с самой высокой средней оценкой - J.K. Rowling/Mary GrandPré - 4,283844."
   ]
  },
  {
   "cell_type": "code",
   "execution_count": 11,
   "metadata": {},
   "outputs": [
    {
     "data": {
      "text/html": [
       "<div>\n",
       "<style scoped>\n",
       "    .dataframe tbody tr th:only-of-type {\n",
       "        vertical-align: middle;\n",
       "    }\n",
       "\n",
       "    .dataframe tbody tr th {\n",
       "        vertical-align: top;\n",
       "    }\n",
       "\n",
       "    .dataframe thead th {\n",
       "        text-align: right;\n",
       "    }\n",
       "</style>\n",
       "<table border=\"1\" class=\"dataframe\">\n",
       "  <thead>\n",
       "    <tr style=\"text-align: right;\">\n",
       "      <th></th>\n",
       "      <th>avg</th>\n",
       "    </tr>\n",
       "  </thead>\n",
       "  <tbody>\n",
       "    <tr>\n",
       "      <th>0</th>\n",
       "      <td>24.333333</td>\n",
       "    </tr>\n",
       "  </tbody>\n",
       "</table>\n",
       "</div>"
      ],
      "text/plain": [
       "         avg\n",
       "0  24.333333"
      ]
     },
     "execution_count": 11,
     "metadata": {},
     "output_type": "execute_result"
    }
   ],
   "source": [
    "# Посчитайте среднее количество обзоров от пользователей, которые поставили больше 50 оценок\n",
    "pd.io.sql.read_sql(\n",
    "    '''SELECT AVG(over_50_rev.counts_rev)\n",
    "         FROM\n",
    "             (SELECT username,\n",
    "                     COUNT(review_id) AS counts_rev\n",
    "                FROM reviews\n",
    "               WHERE username IN \n",
    "                     (SELECT username\n",
    "                        FROM ratings\n",
    "                    GROUP BY username\n",
    "                HAVING COUNT(rating_id) > 50)\n",
    "                    GROUP BY username) AS over_50_rev;\n",
    "    '''\n",
    ", con = engine)"
   ]
  },
  {
   "cell_type": "markdown",
   "metadata": {},
   "source": [
    "Среднее количество обзоров от пользователей - 24,33."
   ]
  },
  {
   "cell_type": "markdown",
   "metadata": {},
   "source": [
    "# Вывод"
   ]
  },
  {
   "cell_type": "markdown",
   "metadata": {},
   "source": [
    "1. 819 книг вышло после 1 января 2000 года.\n",
    "2. Penguin Books выпустило наибольшее число книг толще 50 страниц - 42 штуки.\n",
    "3. Автор с самой высокой средней оценкой - J.K. Rowling/Mary GrandPré - 4,283844.\n",
    "4. Среднее количество обзоров от пользователей - 24,33."
   ]
  }
 ],
 "metadata": {
  "ExecuteTimeLog": [
   {
    "duration": 858,
    "start_time": "2022-05-20T13:16:09.553Z"
   },
   {
    "duration": 285,
    "start_time": "2022-05-20T13:16:17.725Z"
   },
   {
    "duration": 87,
    "start_time": "2022-05-20T13:16:43.729Z"
   },
   {
    "duration": 101,
    "start_time": "2022-05-20T13:17:06.142Z"
   },
   {
    "duration": 70,
    "start_time": "2022-05-20T13:17:38.382Z"
   },
   {
    "duration": 73,
    "start_time": "2022-05-20T13:18:00.868Z"
   },
   {
    "duration": 71,
    "start_time": "2022-05-20T13:18:32.371Z"
   },
   {
    "duration": 76,
    "start_time": "2022-05-20T13:18:53.949Z"
   },
   {
    "duration": 76,
    "start_time": "2022-05-20T13:19:19.678Z"
   },
   {
    "duration": 74,
    "start_time": "2022-05-20T13:19:38.245Z"
   },
   {
    "duration": 72,
    "start_time": "2022-05-20T13:19:57.493Z"
   },
   {
    "duration": 548,
    "start_time": "2022-05-20T13:20:56.844Z"
   },
   {
    "duration": 220,
    "start_time": "2022-05-20T13:20:57.394Z"
   },
   {
    "duration": 64,
    "start_time": "2022-05-20T13:20:57.616Z"
   },
   {
    "duration": 65,
    "start_time": "2022-05-20T13:20:57.682Z"
   },
   {
    "duration": 67,
    "start_time": "2022-05-20T13:20:57.748Z"
   },
   {
    "duration": 66,
    "start_time": "2022-05-20T13:20:57.816Z"
   },
   {
    "duration": 66,
    "start_time": "2022-05-20T13:20:57.883Z"
   },
   {
    "duration": 71,
    "start_time": "2022-05-20T13:20:57.951Z"
   },
   {
    "duration": 68,
    "start_time": "2022-05-20T13:20:58.024Z"
   },
   {
    "duration": 71,
    "start_time": "2022-05-20T13:20:58.096Z"
   },
   {
    "duration": 66,
    "start_time": "2022-05-20T13:20:58.169Z"
   },
   {
    "duration": 528,
    "start_time": "2022-05-20T17:41:09.526Z"
   },
   {
    "duration": 242,
    "start_time": "2022-05-20T17:41:10.056Z"
   },
   {
    "duration": 67,
    "start_time": "2022-05-20T17:41:10.300Z"
   },
   {
    "duration": 66,
    "start_time": "2022-05-20T17:41:10.369Z"
   },
   {
    "duration": 70,
    "start_time": "2022-05-20T17:41:10.437Z"
   },
   {
    "duration": 72,
    "start_time": "2022-05-20T17:41:10.509Z"
   },
   {
    "duration": 74,
    "start_time": "2022-05-20T17:41:10.582Z"
   },
   {
    "duration": 73,
    "start_time": "2022-05-20T17:41:10.657Z"
   },
   {
    "duration": 71,
    "start_time": "2022-05-20T17:41:10.732Z"
   },
   {
    "duration": 71,
    "start_time": "2022-05-20T17:41:10.807Z"
   },
   {
    "duration": 68,
    "start_time": "2022-05-20T17:41:10.880Z"
   },
   {
    "duration": 96,
    "start_time": "2022-05-20T17:41:39.363Z"
   },
   {
    "duration": 72,
    "start_time": "2022-05-20T17:41:44.437Z"
   },
   {
    "duration": 72,
    "start_time": "2022-05-20T17:41:59.723Z"
   },
   {
    "duration": 71,
    "start_time": "2022-05-20T17:42:04.094Z"
   },
   {
    "duration": 84,
    "start_time": "2022-05-20T19:10:01.941Z"
   },
   {
    "duration": 536,
    "start_time": "2022-05-20T19:10:07.176Z"
   },
   {
    "duration": 310,
    "start_time": "2022-05-20T19:10:07.714Z"
   },
   {
    "duration": 86,
    "start_time": "2022-05-20T19:10:08.026Z"
   },
   {
    "duration": 99,
    "start_time": "2022-05-20T19:10:08.115Z"
   },
   {
    "duration": 88,
    "start_time": "2022-05-20T19:10:08.215Z"
   },
   {
    "duration": 93,
    "start_time": "2022-05-20T19:10:08.305Z"
   },
   {
    "duration": 95,
    "start_time": "2022-05-20T19:10:08.400Z"
   },
   {
    "duration": 96,
    "start_time": "2022-05-20T19:10:08.497Z"
   },
   {
    "duration": 85,
    "start_time": "2022-05-20T19:10:08.595Z"
   },
   {
    "duration": 80,
    "start_time": "2022-05-20T19:10:08.684Z"
   },
   {
    "duration": 75,
    "start_time": "2022-05-20T19:10:08.765Z"
   },
   {
    "duration": 64,
    "start_time": "2022-05-21T19:03:08.619Z"
   },
   {
    "duration": 638,
    "start_time": "2022-05-21T19:03:15.294Z"
   },
   {
    "duration": 347,
    "start_time": "2022-05-21T19:03:15.936Z"
   },
   {
    "duration": 79,
    "start_time": "2022-05-21T19:03:16.285Z"
   },
   {
    "duration": 80,
    "start_time": "2022-05-21T19:03:16.366Z"
   },
   {
    "duration": 90,
    "start_time": "2022-05-21T19:03:16.448Z"
   },
   {
    "duration": 86,
    "start_time": "2022-05-21T19:03:16.540Z"
   },
   {
    "duration": 84,
    "start_time": "2022-05-21T19:03:16.627Z"
   },
   {
    "duration": 188,
    "start_time": "2022-05-21T19:03:16.713Z"
   },
   {
    "duration": 0,
    "start_time": "2022-05-21T19:03:16.904Z"
   },
   {
    "duration": 0,
    "start_time": "2022-05-21T19:03:16.906Z"
   },
   {
    "duration": 0,
    "start_time": "2022-05-21T19:03:16.907Z"
   },
   {
    "duration": 102,
    "start_time": "2022-05-21T19:03:28.962Z"
   },
   {
    "duration": 117,
    "start_time": "2022-05-21T19:11:05.576Z"
   },
   {
    "duration": 123,
    "start_time": "2022-05-21T19:12:48.130Z"
   },
   {
    "duration": 82,
    "start_time": "2022-05-21T19:15:15.638Z"
   },
   {
    "duration": 79,
    "start_time": "2022-05-21T19:15:28.043Z"
   },
   {
    "duration": 82,
    "start_time": "2022-05-21T19:15:51.147Z"
   },
   {
    "duration": 83,
    "start_time": "2022-05-21T19:16:31.862Z"
   },
   {
    "duration": 80,
    "start_time": "2022-05-21T19:16:57.401Z"
   },
   {
    "duration": 82,
    "start_time": "2022-05-21T19:17:23.024Z"
   },
   {
    "duration": 82,
    "start_time": "2022-05-21T19:18:11.949Z"
   },
   {
    "duration": 86,
    "start_time": "2022-05-21T19:19:45.116Z"
   },
   {
    "duration": 588,
    "start_time": "2022-05-21T19:19:51.436Z"
   },
   {
    "duration": 436,
    "start_time": "2022-05-21T19:19:52.025Z"
   },
   {
    "duration": 76,
    "start_time": "2022-05-21T19:19:52.462Z"
   },
   {
    "duration": 73,
    "start_time": "2022-05-21T19:19:52.541Z"
   },
   {
    "duration": 77,
    "start_time": "2022-05-21T19:19:52.615Z"
   },
   {
    "duration": 78,
    "start_time": "2022-05-21T19:19:52.693Z"
   },
   {
    "duration": 75,
    "start_time": "2022-05-21T19:19:52.773Z"
   },
   {
    "duration": 79,
    "start_time": "2022-05-21T19:19:52.850Z"
   },
   {
    "duration": 75,
    "start_time": "2022-05-21T19:19:52.931Z"
   },
   {
    "duration": 107,
    "start_time": "2022-05-21T19:19:53.008Z"
   },
   {
    "duration": 78,
    "start_time": "2022-05-21T19:19:53.117Z"
   },
   {
    "duration": 79,
    "start_time": "2022-05-21T19:19:53.196Z"
   },
   {
    "duration": 75,
    "start_time": "2022-05-21T19:19:53.278Z"
   },
   {
    "duration": 112,
    "start_time": "2022-05-21T19:20:40.899Z"
   },
   {
    "duration": 110,
    "start_time": "2022-05-21T19:21:07.113Z"
   },
   {
    "duration": 105,
    "start_time": "2022-05-21T19:22:31.218Z"
   },
   {
    "duration": 115,
    "start_time": "2022-05-21T19:24:11.975Z"
   },
   {
    "duration": 107,
    "start_time": "2022-05-21T19:24:55.939Z"
   },
   {
    "duration": 108,
    "start_time": "2022-05-21T19:26:59.529Z"
   },
   {
    "duration": 105,
    "start_time": "2022-05-21T19:27:15.619Z"
   },
   {
    "duration": 106,
    "start_time": "2022-05-21T19:27:23.320Z"
   },
   {
    "duration": 106,
    "start_time": "2022-05-21T19:51:21.039Z"
   },
   {
    "duration": 105,
    "start_time": "2022-05-21T19:51:40.421Z"
   },
   {
    "duration": 104,
    "start_time": "2022-05-21T20:22:17.814Z"
   },
   {
    "duration": 22,
    "start_time": "2022-05-21T20:24:41.984Z"
   },
   {
    "duration": 80,
    "start_time": "2022-05-21T20:24:55.106Z"
   },
   {
    "duration": 77,
    "start_time": "2022-05-21T20:25:41.965Z"
   },
   {
    "duration": 79,
    "start_time": "2022-05-21T20:27:45.621Z"
   },
   {
    "duration": 538,
    "start_time": "2022-05-22T17:21:39.419Z"
   },
   {
    "duration": 81,
    "start_time": "2022-05-22T17:21:39.959Z"
   },
   {
    "duration": 10,
    "start_time": "2022-05-22T17:21:40.041Z"
   },
   {
    "duration": 29,
    "start_time": "2022-05-22T17:21:40.053Z"
   },
   {
    "duration": 15,
    "start_time": "2022-05-22T17:21:40.084Z"
   },
   {
    "duration": 25,
    "start_time": "2022-05-22T17:21:40.101Z"
   },
   {
    "duration": 12,
    "start_time": "2022-05-22T17:21:40.128Z"
   },
   {
    "duration": 25,
    "start_time": "2022-05-22T17:21:40.142Z"
   },
   {
    "duration": 13,
    "start_time": "2022-05-22T17:21:40.169Z"
   },
   {
    "duration": 19,
    "start_time": "2022-05-22T17:21:40.185Z"
   },
   {
    "duration": 23,
    "start_time": "2022-05-22T17:21:40.206Z"
   },
   {
    "duration": 18,
    "start_time": "2022-05-22T17:23:49.536Z"
   },
   {
    "duration": 591,
    "start_time": "2022-05-22T18:06:20.307Z"
   },
   {
    "duration": 69,
    "start_time": "2022-05-22T18:06:20.900Z"
   },
   {
    "duration": 11,
    "start_time": "2022-05-22T18:06:20.970Z"
   },
   {
    "duration": 18,
    "start_time": "2022-05-22T18:06:20.983Z"
   },
   {
    "duration": 22,
    "start_time": "2022-05-22T18:06:21.002Z"
   },
   {
    "duration": 34,
    "start_time": "2022-05-22T18:06:21.025Z"
   },
   {
    "duration": 25,
    "start_time": "2022-05-22T18:06:21.060Z"
   },
   {
    "duration": 29,
    "start_time": "2022-05-22T18:06:21.087Z"
   },
   {
    "duration": 13,
    "start_time": "2022-05-22T18:06:21.119Z"
   },
   {
    "duration": 56,
    "start_time": "2022-05-22T18:06:21.134Z"
   },
   {
    "duration": 22,
    "start_time": "2022-05-22T18:06:21.192Z"
   },
   {
    "duration": 17,
    "start_time": "2022-05-22T18:07:21.234Z"
   },
   {
    "duration": 140,
    "start_time": "2022-05-22T18:12:19.883Z"
   },
   {
    "duration": 218,
    "start_time": "2022-05-22T18:14:03.079Z"
   },
   {
    "duration": 17,
    "start_time": "2022-05-22T18:16:31.954Z"
   },
   {
    "duration": 3542,
    "start_time": "2022-05-22T18:18:25.226Z"
   },
   {
    "duration": 18,
    "start_time": "2022-05-22T18:20:33.004Z"
   },
   {
    "duration": 15,
    "start_time": "2022-05-22T18:23:06.063Z"
   },
   {
    "duration": 16,
    "start_time": "2022-05-22T18:23:55.053Z"
   },
   {
    "duration": 540,
    "start_time": "2022-05-22T18:27:17.046Z"
   },
   {
    "duration": 60,
    "start_time": "2022-05-22T18:27:17.588Z"
   },
   {
    "duration": 10,
    "start_time": "2022-05-22T18:27:17.650Z"
   },
   {
    "duration": 10,
    "start_time": "2022-05-22T18:27:17.662Z"
   },
   {
    "duration": 12,
    "start_time": "2022-05-22T18:27:17.673Z"
   },
   {
    "duration": 22,
    "start_time": "2022-05-22T18:27:17.687Z"
   },
   {
    "duration": 9,
    "start_time": "2022-05-22T18:27:17.711Z"
   },
   {
    "duration": 22,
    "start_time": "2022-05-22T18:27:17.722Z"
   },
   {
    "duration": 10,
    "start_time": "2022-05-22T18:27:17.746Z"
   },
   {
    "duration": 15,
    "start_time": "2022-05-22T18:27:17.757Z"
   },
   {
    "duration": 15,
    "start_time": "2022-05-22T18:27:17.773Z"
   },
   {
    "duration": 547,
    "start_time": "2022-05-22T18:28:54.053Z"
   },
   {
    "duration": 66,
    "start_time": "2022-05-22T18:28:54.601Z"
   },
   {
    "duration": 10,
    "start_time": "2022-05-22T18:28:54.669Z"
   },
   {
    "duration": 13,
    "start_time": "2022-05-22T18:28:54.680Z"
   },
   {
    "duration": 12,
    "start_time": "2022-05-22T18:28:54.696Z"
   },
   {
    "duration": 11,
    "start_time": "2022-05-22T18:28:54.709Z"
   },
   {
    "duration": 8,
    "start_time": "2022-05-22T18:28:54.721Z"
   },
   {
    "duration": 22,
    "start_time": "2022-05-22T18:28:54.731Z"
   },
   {
    "duration": 10,
    "start_time": "2022-05-22T18:28:54.755Z"
   },
   {
    "duration": 19,
    "start_time": "2022-05-22T18:28:54.787Z"
   },
   {
    "duration": 12,
    "start_time": "2022-05-22T18:28:54.808Z"
   },
   {
    "duration": 9963,
    "start_time": "2022-06-21T19:32:23.037Z"
   },
   {
    "duration": 127,
    "start_time": "2022-06-21T19:32:33.002Z"
   },
   {
    "duration": 11,
    "start_time": "2022-06-21T19:32:33.130Z"
   },
   {
    "duration": 26,
    "start_time": "2022-06-21T19:32:33.143Z"
   },
   {
    "duration": 10,
    "start_time": "2022-06-21T19:32:33.171Z"
   },
   {
    "duration": 10,
    "start_time": "2022-06-21T19:32:33.183Z"
   },
   {
    "duration": 10,
    "start_time": "2022-06-21T19:32:33.194Z"
   },
   {
    "duration": 28,
    "start_time": "2022-06-21T19:32:33.205Z"
   },
   {
    "duration": 22,
    "start_time": "2022-06-21T19:32:33.235Z"
   },
   {
    "duration": 29,
    "start_time": "2022-06-21T19:32:33.260Z"
   },
   {
    "duration": 13,
    "start_time": "2022-06-21T19:32:33.290Z"
   }
  ],
  "kernelspec": {
   "display_name": "Python 3 (ipykernel)",
   "language": "python",
   "name": "python3"
  },
  "language_info": {
   "codemirror_mode": {
    "name": "ipython",
    "version": 3
   },
   "file_extension": ".py",
   "mimetype": "text/x-python",
   "name": "python",
   "nbconvert_exporter": "python",
   "pygments_lexer": "ipython3",
   "version": "3.9.7"
  },
  "toc": {
   "base_numbering": 1,
   "nav_menu": {},
   "number_sections": false,
   "sideBar": true,
   "skip_h1_title": false,
   "title_cell": "Table of Contents",
   "title_sidebar": "Contents",
   "toc_cell": false,
   "toc_position": {},
   "toc_section_display": true,
   "toc_window_display": true
  }
 },
 "nbformat": 4,
 "nbformat_minor": 2
}
